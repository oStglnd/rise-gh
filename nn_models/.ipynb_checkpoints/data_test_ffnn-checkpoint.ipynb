{
 "cells": [
  {
   "cell_type": "markdown",
   "id": "3c35d1cc",
   "metadata": {},
   "source": [
    "# Greenhouse Model"
   ]
  },
  {
   "cell_type": "markdown",
   "id": "195db0c9",
   "metadata": {},
   "source": [
    "## Import dependencies and data"
   ]
  },
  {
   "cell_type": "code",
   "execution_count": 1,
   "id": "77453a55",
   "metadata": {},
   "outputs": [],
   "source": [
    "# import dependencies\n",
    "import os\n",
    "import pickle\n",
    "import json\n",
    "from collections import deque\n",
    "import pandas as pd\n",
    "import matplotlib.pyplot as plt\n",
    "import numpy as np\n",
    "\n",
    "from IPython.display import clear_output"
   ]
  },
  {
   "cell_type": "code",
   "execution_count": 2,
   "id": "b5dee1ac",
   "metadata": {},
   "outputs": [],
   "source": [
    "# define relevant paths\n",
    "home_path = os.path.dirname(os.getcwd())\n",
    "data_path = home_path + '\\\\data\\\\'"
   ]
  },
  {
   "cell_type": "code",
   "execution_count": 3,
   "id": "a747b251",
   "metadata": {},
   "outputs": [],
   "source": [
    "# get merged data\n",
    "data = pd.read_csv(\n",
    "    data_path + 'data_processed.csv',\n",
    "    header=[0, 1],\n",
    "    index_col=[0, 1, 2, 3, 4]\n",
    ")"
   ]
  },
  {
   "cell_type": "markdown",
   "id": "2cbe10b4",
   "metadata": {},
   "source": [
    "## MISC"
   ]
  },
  {
   "cell_type": "code",
   "execution_count": 4,
   "id": "a8f10ce6",
   "metadata": {},
   "outputs": [],
   "source": [
    "def abs_humid(temp, rel_humid):\n",
    "    abs_humidity =  6.112 * np.exp(17.67 * temp / (temp + 243.5)) * rel_humid * 2.1674 / (273.15 + temp)\n",
    "    return abs_humidity\n",
    "\n",
    "def rel_humid(temp, abs_humid):\n",
    "    rel_humidity = abs_humid * (273.15 + temp) / (6.112 * np.exp(17.67 * temp / (temp + 243.5)) * 2.1674)\n",
    "    return rel_humidity"
   ]
  },
  {
   "cell_type": "code",
   "execution_count": 5,
   "id": "f24579a2",
   "metadata": {},
   "outputs": [],
   "source": [
    "ta01_min = 35\n",
    "ta01_max = 75\n",
    "\n",
    "ta02_min = 0\n",
    "ta02_max = 85"
   ]
  },
  {
   "cell_type": "markdown",
   "id": "7807cf70",
   "metadata": {},
   "source": [
    "## Define funcs for data engi."
   ]
  },
  {
   "cell_type": "code",
   "execution_count": 6,
   "id": "2e2636c8",
   "metadata": {},
   "outputs": [],
   "source": [
    "# # reduce to one OBS per 5 MIN (take average of 10 OBS)\n",
    "def data_reduce(data, m):\n",
    "    idxObj = zip(\n",
    "        data.index.get_level_values(0),\n",
    "        data.index.get_level_values(1),\n",
    "        data.index.get_level_values(2),\n",
    "        data.index.get_level_values(3) // m\n",
    "    )\n",
    "\n",
    "    index = pd.MultiIndex.from_tuples(\n",
    "        tuples=idxObj,\n",
    "        names=['month', 'day', 'hour', 'minute']\n",
    "    )\n",
    "\n",
    "    data.index = index\n",
    "    dates = data.groupby(['month', 'day', 'hour', 'minute'], sort=False).last()[('time', 'date')]\n",
    "    data = data.groupby(['month', 'day', 'hour', 'minute'], sort=False).mean()\n",
    "    return data, dates"
   ]
  },
  {
   "cell_type": "code",
   "execution_count": 7,
   "id": "07154ba2",
   "metadata": {},
   "outputs": [],
   "source": [
    "def date_flagger(data, n_steps):\n",
    "    # create flag for erroneous sequences\n",
    "    data['hour'] = data.index.get_level_values(2).values    \n",
    "    data['date_flag'] = data.hour - data.hour.shift(n_steps) > 1\n",
    "    \n",
    "    # get positions in data, w.r.t. n_step removed observations at start\n",
    "    flagged_idx = np.where(data.date_flag.values == 1)\n",
    "    flagged_idx = flagged_idx[0] - n_steps\n",
    "    \n",
    "    del data['hour'], data['date_flag']\n",
    "    \n",
    "    return flagged_idx"
   ]
  },
  {
   "cell_type": "code",
   "execution_count": 8,
   "id": "f3d20d7a",
   "metadata": {},
   "outputs": [],
   "source": [
    "def seq_maker(data, targets, temps, dates, n_steps):\n",
    "    \n",
    "    vals = data.values\n",
    "    sequences = []\n",
    "    for i in range(len(vals) - n_steps):\n",
    "        sequences.append(vals[i:i+n_steps])\n",
    "    sequences = np.stack(sequences)\n",
    "    \n",
    "    flags = date_flagger(data, n_steps)\n",
    "    mask = [idx not in flags for idx in range(len(sequences))]\n",
    "    \n",
    "    sequences = sequences[mask]\n",
    "    targets = targets[n_steps:][mask].values\n",
    "    \n",
    "    temps_t = temps[n_steps-t_steps:-t_steps][mask].values\n",
    "    temps = temps[:-n_steps][mask].values # TEMPORARY\n",
    "    \n",
    "    dates = dates[:-n_steps][mask].values\n",
    "    \n",
    "    return sequences, targets, temps, temps_t, dates"
   ]
  },
  {
   "cell_type": "code",
   "execution_count": 9,
   "id": "6fb3b836",
   "metadata": {},
   "outputs": [],
   "source": [
    "def data_norm(data_train, data_test):\n",
    "    col_params = {}\n",
    "    for col in data_train.columns:\n",
    "\n",
    "        min_val = data_train[col].min()\n",
    "        max_val = data_train[col].max()\n",
    "\n",
    "        # normalize\n",
    "        mean = data_train[col].mean()\n",
    "        std = data_train[col].std()\n",
    "\n",
    "        data_train[col] = (data_train[col] - mean) / std\n",
    "        data_test[col] = (data_test[col] - mean) / std\n",
    "\n",
    "        col_params[col] = {\n",
    "            'mean':mean,\n",
    "            'std':std,\n",
    "            'max':max_val,\n",
    "            'min':min_val\n",
    "            }\n",
    "    \n",
    "    return data_train, data_test, col_params"
   ]
  },
  {
   "cell_type": "markdown",
   "id": "b98ca615",
   "metadata": {},
   "source": [
    "## Create func for K-fold split"
   ]
  },
  {
   "cell_type": "code",
   "execution_count": 10,
   "id": "061bfdea",
   "metadata": {},
   "outputs": [],
   "source": [
    "def k_fold_data(data, k_idx, k_frac, m, cols, t_steps, n_steps, shuffle):\n",
    "    \n",
    "    # get days\n",
    "    days = data.groupby(['month', 'day'], sort=False).count().index.values\n",
    "    \n",
    "    # get days for K:th fold\n",
    "    train_n = int(len(days) * (1 - k_frac))\n",
    "    test_n = len(days) - train_n\n",
    "    \n",
    "    # split days by test and train\n",
    "    days_test = days[int(k_idx*test_n):int((k_idx+1)*test_n)].tolist()\n",
    "    mask_test = np.array([day in days_test for day in data.index.droplevel(-1).droplevel(-1).droplevel(-1).values])\n",
    "    data_train = data.loc[~mask_test].copy()\n",
    "    data_test = data.loc[mask_test].copy()\n",
    "\n",
    "    # reduce to m-min observations\n",
    "    data_train, dates_train = data_reduce(data_train, m)\n",
    "    data_test, dates_test = data_reduce(data_test, m)\n",
    "    \n",
    "#     # get dates\n",
    "#     dates_train = data_train.time.date.values\n",
    "#     dates_test = data_test.time.date.values\n",
    "    \n",
    "    # remove setpoint\n",
    "    data_train[('temperatures', 'TA01_GT10X_GM10X')] -= data_train.setpoints.TA01_GT10X_GM10X + 20\n",
    "    data_test[('temperatures', 'TA01_GT10X_GM10X')] -= data_test.setpoints.TA01_GT10X_GM10X + 20\n",
    "    \n",
    "    # filter data\n",
    "    data_train = data_train[cols].copy()\n",
    "    data_test = data_test[cols].copy()\n",
    "    \n",
    "    # normalize\n",
    "    data_train, data_test, col_params = data_norm(data_train, data_test)\n",
    "    \n",
    "    # get targets\n",
    "    targets_train = data_train.pop(('temperatures', 'TA01_GT10X_GM10X'))\n",
    "    targets_test = data_test.pop(('temperatures', 'TA01_GT10X_GM10X'))\n",
    "    \n",
    "    # get temp info\n",
    "    temps_train = targets_train.copy()\n",
    "    temps_test = targets_test.copy()\n",
    "    \n",
    "    # create sequences    \n",
    "    sequences_train, targets_train, temps_train, temps_t_train, dates_train = seq_maker(data_train, targets_train, temps_train, dates_train, n_steps)\n",
    "    sequences_test, targets_test, temps_test, temps_t_test, dates_test = seq_maker(data_test, targets_test, temps_test, dates_test, n_steps)\n",
    "    \n",
    "    # create MASKED sequences\n",
    "    sequences_masked = sequences_test.copy()\n",
    "    for t in range(1, t_steps):\n",
    "        sequences_masked[:, -t, :] = sequences_masked[:, -(t_steps), :]\n",
    "    \n",
    "    if shuffle:\n",
    "        # shuffle training data randomly\n",
    "        idxs = np.arange(len(targets_train))\n",
    "        np.random.shuffle(idxs)\n",
    "\n",
    "        sequences_train = sequences_train[idxs]\n",
    "        targets_train = targets_train[idxs]\n",
    "        temps_train = temps_train[idxs]\n",
    "        temps_t_trian = temps_t_train[idxs]\n",
    "        dates_train = dates_train[idxs]\n",
    "    \n",
    "    # return tups w. train and test\n",
    "    train_tup = (sequences_train, targets_train, temps_train, temps_t_train, dates_train)\n",
    "    test_tup = (sequences_test, targets_test, temps_test, temps_t_test, sequences_masked, dates_test)\n",
    "    return train_tup, test_tup, col_params"
   ]
  },
  {
   "cell_type": "markdown",
   "id": "a15ace44",
   "metadata": {},
   "source": [
    "## Create data for specific fold"
   ]
  },
  {
   "cell_type": "code",
   "execution_count": 11,
   "id": "7901ac0b",
   "metadata": {},
   "outputs": [],
   "source": [
    "m = 5\n",
    "t_steps = 1\n",
    "n_steps = 2"
   ]
  },
  {
   "cell_type": "code",
   "execution_count": 12,
   "id": "60e1ff0d",
   "metadata": {},
   "outputs": [],
   "source": [
    "# Define cols to use\n",
    "cols = [\n",
    "    ('temperatures', 'TA01_GT10X_GM10X'),\n",
    "    #('temperatures', 'TA01_GT401_GM401_scaled'),\n",
    "    #('temperatures', 'DC_GT301_damped_scaled'),\n",
    "    ('temperatures', 'TA01_GT401_GM401'),\n",
    "    ('temperatures', 'DC_GT301_damped'),\n",
    "    ('sun', 'gsi'),\n",
    "    ('power', 'phase'),\n",
    "    ('time', 'minofday'),\n",
    "    ('state', 'TA01_output'),\n",
    "    ('state', 'TA02_output')\n",
    "]"
   ]
  },
  {
   "cell_type": "markdown",
   "id": "cdaeef6e",
   "metadata": {},
   "source": [
    "## Def model funcs"
   ]
  },
  {
   "cell_type": "code",
   "execution_count": 58,
   "id": "9a55fdb0",
   "metadata": {},
   "outputs": [],
   "source": [
    "from nn import neuralNetwork\n",
    "from rmsprop import RMSProp\n",
    "from adagrad import AdaGrad\n",
    "from adam import Adam"
   ]
  },
  {
   "cell_type": "code",
   "execution_count": 59,
   "id": "7f045c57",
   "metadata": {},
   "outputs": [],
   "source": [
    "# hyperparams\n",
    "units = 32\n",
    "k1 = 7\n",
    "k2 = 1\n",
    "T = 6\n",
    "lambd = 0.01\n",
    "sigma = 1.0\n",
    "\n",
    "seed = 1\n",
    "optimizer = None"
   ]
  },
  {
   "cell_type": "code",
   "execution_count": 60,
   "id": "0579c580",
   "metadata": {},
   "outputs": [],
   "source": [
    "model = neuralNetwork(\n",
    "    k1=k1,\n",
    "    k2=k2,\n",
    "    m=[128, 128, 128],\n",
    "    initialization='He',\n",
    "    optimizer=optimizer,\n",
    "    seed=seed\n",
    ")\n",
    "\n",
    "adagrad = AdaGrad(\n",
    "    eps=1e-12,\n",
    "    weights=model.weights\n",
    ")\n",
    "\n",
    "rms_prop = RMSProp(\n",
    "    beta=0.9,\n",
    "    eps=1e-12,\n",
    "    weights=model.weights\n",
    ")\n",
    "\n",
    "adam = Adam(\n",
    "    beta1=0.9,\n",
    "    beta2=0.999,\n",
    "    eps=1e-8,\n",
    "    weights=model.weights,\n",
    ")"
   ]
  },
  {
   "cell_type": "code",
   "execution_count": 61,
   "id": "82c48d8d",
   "metadata": {},
   "outputs": [],
   "source": [
    "# model.optimizer = None\n",
    "model.optimizer = adam\n",
    "# model.optimizer = adagrad\n",
    "# model.optimizer = rms_prop"
   ]
  },
  {
   "cell_type": "code",
   "execution_count": 62,
   "id": "02f24dbd",
   "metadata": {},
   "outputs": [],
   "source": [
    "num_weights = 0\n",
    "for _, weight in model.weights.items():\n",
    "    num_weights += weight.size"
   ]
  },
  {
   "cell_type": "code",
   "execution_count": 63,
   "id": "9a8a2457",
   "metadata": {},
   "outputs": [
    {
     "data": {
      "text/plain": [
       "34177"
      ]
     },
     "execution_count": 63,
     "metadata": {},
     "output_type": "execute_result"
    }
   ],
   "source": [
    "num_weights"
   ]
  },
  {
   "cell_type": "markdown",
   "id": "037c2399",
   "metadata": {},
   "source": [
    "# Get sequences"
   ]
  },
  {
   "cell_type": "code",
   "execution_count": 64,
   "id": "aa55a697",
   "metadata": {
    "scrolled": true
   },
   "outputs": [],
   "source": [
    "k_idx = 8\n",
    "k_frac = 0.1\n",
    "\n",
    "# get data\n",
    "train_tup, test_tup, col_params = k_fold_data(\n",
    "    data=data, \n",
    "    k_idx=k_idx, \n",
    "    k_frac=k_frac, \n",
    "    m=m, \n",
    "    cols=cols, \n",
    "    t_steps=t_steps, \n",
    "    n_steps=n_steps,\n",
    "    shuffle=False\n",
    ")\n",
    "\n",
    "\n",
    "(sequences_train, targets_train, temps_train, temps_t_train, _) = train_tup\n",
    "(sequences_test, targets_test, temps_test, temps_t_test, sequences_masked, _) = test_tup"
   ]
  },
  {
   "cell_type": "code",
   "execution_count": 65,
   "id": "77769802",
   "metadata": {},
   "outputs": [],
   "source": [
    "temps_train = temps_t_train[:, np.newaxis]\n",
    "targets_train = targets_train[:, np.newaxis]"
   ]
  },
  {
   "cell_type": "code",
   "execution_count": 66,
   "id": "0307157c",
   "metadata": {},
   "outputs": [],
   "source": [
    "temps_test = temps_t_test[:, np.newaxis]\n",
    "targets_test = targets_test[:, np.newaxis]"
   ]
  },
  {
   "cell_type": "code",
   "execution_count": 67,
   "id": "73adaf89",
   "metadata": {},
   "outputs": [],
   "source": [
    "sequences_train = sequences_train[:, 0, :]\n",
    "sequences_test = sequences_test[:, 0, :]\n",
    "sequences_masked = sequences_masked[:, 0, :]\n",
    "\n",
    "# sequences_train = np.hstack((temps_train, sequences_train[:, 0, :]))\n",
    "# sequences_test = np.hstack((temps_test, sequences_test[:, 0, :]))\n",
    "# sequences_masked = np.hstack((temps_test, sequences_masked[:, 0, :]))"
   ]
  },
  {
   "cell_type": "markdown",
   "id": "0110a3c6",
   "metadata": {},
   "source": [
    "## Run training w. SGD"
   ]
  },
  {
   "cell_type": "code",
   "execution_count": 68,
   "id": "ecf59cda",
   "metadata": {
    "scrolled": false
   },
   "outputs": [
    {
     "name": "stdout",
     "output_type": "stream",
     "text": [
      "1 0.9844122257349633\n",
      "2 0.48569756861101665\n",
      "3 0.3303309701621752\n",
      "4 0.27123224826592984\n",
      "5 0.24046561134876987\n",
      "6 0.22638124142143254\n",
      "7 0.2193905185611791\n",
      "8 0.2109623363278668\n",
      "9 0.2088247916056873\n",
      "10 0.20407806868241507\n",
      "11 0.2036561529289223\n",
      "12 0.20128051061125243\n",
      "13 0.2043585046942981\n",
      "14 0.1995768089953845\n",
      "15 0.20127904070935518\n",
      "16 0.19804841020928962\n",
      "17 0.19751714007359564\n",
      "18 0.19801684648297146\n",
      "19 0.19793047822054297\n",
      "20 0.1980261975917818\n",
      "21 0.19701081854793928\n",
      "22 0.19789863343978656\n",
      "23 0.19684749911537355\n",
      "24 0.19693777460752726\n",
      "25 0.19638631495496728\n",
      "26 0.1956269571143924\n",
      "27 0.19601655090692655\n",
      "28 0.19604129124512015\n",
      "29 0.19671437675405867\n",
      "30 0.1961017563122654\n",
      "31 0.19617208439720976\n",
      "32 0.1974871469332778\n",
      "33 0.19759378276401035\n",
      "34 0.19716597027890417\n",
      "35 0.19865071711990998\n",
      "36 0.19504531730654373\n",
      "37 0.19520215102309887\n",
      "38 0.19766158205175527\n",
      "39 0.19813033395111646\n",
      "40 0.19721680951348378\n",
      "41 0.19648513759385558\n",
      "42 0.19646249320034245\n",
      "43 0.19766918985534743\n",
      "44 0.1964839429349348\n",
      "45 0.19736606718158176\n",
      "46 0.1958780431504802\n",
      "47 0.20015409390643318\n",
      "48 0.19711146357067397\n",
      "49 0.19606710950618156\n"
     ]
    }
   ],
   "source": [
    "n_batch = 32\n",
    "lr = 0.001\n",
    "n_epochs = 50\n",
    "\n",
    "# init time step\n",
    "t = 0\n",
    "\n",
    "loss_hist = []\n",
    "\n",
    "# create list of idxs for shuffling\n",
    "idxs = list(range(len(sequences_train)))\n",
    "for epoch in range(1, n_epochs):\n",
    "    np.random.shuffle(idxs)\n",
    "    sequences_train, temps_train, targets_train = sequences_train[idxs], temps_train[idxs], targets_train[idxs]\n",
    "    \n",
    "    for i in range(len(sequences_train) // n_batch):\n",
    "        Xt_train_batch = sequences_train[i*n_batch:(i+1)*n_batch]\n",
    "        Xc_train_batch = temps_train[i*n_batch:(i+1)*n_batch]\n",
    "        Y_train_batch = targets_train[i*n_batch:(i+1)*n_batch]\n",
    "            \n",
    "        model.train(\n",
    "            X_t=Xt_train_batch,\n",
    "            X_c=Xc_train_batch,\n",
    "            Y=Y_train_batch,\n",
    "            sigma=sigma,\n",
    "            lambd=lambd,\n",
    "            eta=lr,\n",
    "            t=epoch\n",
    "        )\n",
    "        \n",
    "        #if t % 200 == 0:\n",
    "        #    loss = model.compute_loss(X_t=sequences_train, X_c=temps_train, Y=targets_train, lambd=lambd)\n",
    "        #    loss_hist.append(loss)\n",
    "        #    \n",
    "        #    print(epoch, t, loss)\n",
    "        #    \n",
    "        #t += 1\n",
    "    loss = model.compute_loss(X_t=sequences_train, X_c=temps_train, Y=targets_train, lambd=lambd)\n",
    "    loss_hist.append(loss)\n",
    "    print(epoch, loss)"
   ]
  },
  {
   "cell_type": "code",
   "execution_count": 69,
   "id": "c3f625ac",
   "metadata": {},
   "outputs": [],
   "source": [
    "rnn_preds_simple = []\n",
    "rnn_encodings_simple = []\n",
    "\n",
    "pred_queue = deque(maxlen=t_steps)\n",
    "for temp in temps_test[:t_steps]:\n",
    "    pred_queue.append(temp[np.newaxis, :])\n",
    "    rnn_preds_simple.append(temp)\n",
    "    \n",
    "for seq in sequences_masked:\n",
    "    temp = pred_queue.popleft()\n",
    "    temp_pred, _ = model.predict(X_t=seq[np.newaxis, :], X_c=temp, train=False)\n",
    "    pred_queue.append(temp_pred)\n",
    "    rnn_preds_simple.append(temp_pred[0])\n",
    "#     rnn_encodings_simple.append(encoded[0])\n",
    "    \n",
    "#y_hat, encoded = model.predict(sequences_test, temps_test, train=False)"
   ]
  },
  {
   "cell_type": "code",
   "execution_count": 70,
   "id": "b1fd049d",
   "metadata": {
    "scrolled": false
   },
   "outputs": [
    {
     "data": {
      "text/plain": [
       "[<matplotlib.lines.Line2D at 0x130004b8df0>]"
      ]
     },
     "execution_count": 70,
     "metadata": {},
     "output_type": "execute_result"
    },
    {
     "data": {
      "image/png": "[encoded data removed]",
      "text/plain": [
       "<Figure size 640x480 with 1 Axes>"
      ]
     },
     "metadata": {},
     "output_type": "display_data"
    }
   ],
   "source": [
    "plt.plot(targets_test[-1500:])\n",
    "plt.plot(rnn_preds_simple[-1500:])\n",
    "#plt.ylim(-10, 10)"
   ]
  },
  {
   "cell_type": "code",
   "execution_count": null,
   "id": "6cbfffff",
   "metadata": {},
   "outputs": [],
   "source": []
  }
 ],
 "metadata": {
  "kernelspec": {
   "display_name": "Python 3 (ipykernel)",
   "language": "python",
   "name": "python3"
  },
  "language_info": {
   "codemirror_mode": {
    "name": "ipython",
    "version": 3
   },
   "file_extension": ".py",
   "mimetype": "text/x-python",
   "name": "python",
   "nbconvert_exporter": "python",
   "pygments_lexer": "ipython3",
   "version": "3.9.13"
  }
 },
 "nbformat": 4,
 "nbformat_minor": 5
}
