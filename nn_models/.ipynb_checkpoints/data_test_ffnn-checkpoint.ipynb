{
 "cells": [
  {
   "cell_type": "markdown",
   "id": "3c35d1cc",
   "metadata": {},
   "source": [
    "# Greenhouse Model"
   ]
  },
  {
   "cell_type": "markdown",
   "id": "195db0c9",
   "metadata": {},
   "source": [
    "## Import dependencies and data"
   ]
  },
  {
   "cell_type": "code",
   "execution_count": 1,
   "id": "77453a55",
   "metadata": {},
   "outputs": [],
   "source": [
    "# import dependencies\n",
    "import os\n",
    "import pickle\n",
    "import json\n",
    "from collections import deque\n",
    "import pandas as pd\n",
    "import matplotlib.pyplot as plt\n",
    "import numpy as np\n",
    "\n",
    "from IPython.display import clear_output"
   ]
  },
  {
   "cell_type": "code",
   "execution_count": 5,
   "id": "363a9888",
   "metadata": {},
   "outputs": [],
   "source": [
    "from data_funcs import k_fold_data"
   ]
  },
  {
   "cell_type": "markdown",
   "id": "cd69ca00",
   "metadata": {},
   "source": [
    "## Create data for specific fold"
   ]
  },
  {
   "cell_type": "code",
   "execution_count": 7,
   "id": "e513bb63",
   "metadata": {},
   "outputs": [],
   "source": [
    "# define relevant paths\n",
    "home_path = os.path.dirname(os.getcwd())\n",
    "data_path = home_path + '\\\\data\\\\'"
   ]
  },
  {
   "cell_type": "code",
   "execution_count": 8,
   "id": "a747b251",
   "metadata": {},
   "outputs": [],
   "source": [
    "# get merged data\n",
    "data = pd.read_csv(\n",
    "    data_path + 'data_processed.csv',\n",
    "    header=[0, 1],\n",
    "    index_col=[0, 1, 2, 3, 4]\n",
    ")"
   ]
  },
  {
   "cell_type": "code",
   "execution_count": 9,
   "id": "0ac538e8",
   "metadata": {},
   "outputs": [],
   "source": [
    "k_idx = 9\n",
    "k_frac = 0.1\n",
    "m = 5\n",
    "t_steps = 1\n",
    "n_steps = 12\n",
    "\n",
    "# Define cols to use\n",
    "cols = [\n",
    "    ('temperatures', 'TA01_GT10X_GM10X'),\n",
    "    #('temperatures', 'TA01_GT401_GM401_scaled'),\n",
    "    #('temperatures', 'DC_GT301_damped_scaled'),\n",
    "    ('temperatures', 'TA01_GT401_GM401'),\n",
    "    ('temperatures', 'DC_GT301_damped'),\n",
    "    ('sun', 'gsi'),\n",
    "    ('power', 'phase'),\n",
    "    ('time', 'minofday'),\n",
    "    ('state', 'TA01_output'),\n",
    "    ('state', 'TA02_output')\n",
    "]\n",
    "\n",
    "# get data\n",
    "train_tup, test_tup, col_params = k_fold_data(\n",
    "    data=data, \n",
    "    k_idx=k_idx, \n",
    "    k_frac=k_frac, \n",
    "    m=m, \n",
    "    cols=cols, \n",
    "    t_steps=t_steps, \n",
    "    n_steps=n_steps,\n",
    "    setpoint=True,\n",
    "    shuffle=True\n",
    ")\n",
    "\n",
    "# extract from tuples\n",
    "(sequences_train, targets_train, temps_train, temps_t_train, _) = train_tup\n",
    "(sequences_test, targets_test, temps_test, temps_t_test, sequences_masked, _) = test_tup\n",
    "\n",
    "# reshape training matrix\n",
    "temps_train = temps_t_train[:, np.newaxis]\n",
    "targets_train = targets_train[:, np.newaxis]\n",
    "\n",
    "# reshape testing matrix\n",
    "temps_test = temps_t_test[:, np.newaxis]\n",
    "targets_test = targets_test[:, np.newaxis]"
   ]
  },
  {
   "cell_type": "markdown",
   "id": "cdaeef6e",
   "metadata": {},
   "source": [
    "## Def model funcs"
   ]
  },
  {
   "cell_type": "code",
   "execution_count": 10,
   "id": "9a55fdb0",
   "metadata": {},
   "outputs": [],
   "source": [
    "from networks import feedForwardNeuralNetwork\n",
    "from opts import RMSProp, AdaGrad, Adam"
   ]
  },
  {
   "cell_type": "code",
   "execution_count": 11,
   "id": "7f045c57",
   "metadata": {},
   "outputs": [],
   "source": [
    "# hyperparams\n",
    "units = 32\n",
    "k1 = 7\n",
    "k2 = 1\n",
    "T = 6\n",
    "lambd = 0.01\n",
    "sigma = 1.0\n",
    "\n",
    "seed = 1\n",
    "optimizer = None"
   ]
  },
  {
   "cell_type": "code",
   "execution_count": 12,
   "id": "0579c580",
   "metadata": {},
   "outputs": [],
   "source": [
    "model = feedForwardNeuralNetwork(\n",
    "    k1=k1,\n",
    "    k2=k2,\n",
    "    m=[32, 16, 8],\n",
    "    seed=seed\n",
    ")\n",
    "\n",
    "adagrad = AdaGrad(\n",
    "    eps=1e-12,\n",
    "    weights=model.weights\n",
    ")\n",
    "\n",
    "rms_prop = RMSProp(\n",
    "    beta=0.9,\n",
    "    eps=1e-12,\n",
    "    weights=model.weights\n",
    ")\n",
    "\n",
    "adam = Adam(\n",
    "    beta1=0.9,\n",
    "    beta2=0.999,\n",
    "    eps=1e-8,\n",
    "    weights=model.weights,\n",
    ")"
   ]
  },
  {
   "cell_type": "code",
   "execution_count": 13,
   "id": "82c48d8d",
   "metadata": {},
   "outputs": [],
   "source": [
    "# model.optimizer = None\n",
    "model.optimizer = adam\n",
    "# model.optimizer = adagrad\n",
    "# model.optimizer = rms_prop"
   ]
  },
  {
   "cell_type": "code",
   "execution_count": 14,
   "id": "02f24dbd",
   "metadata": {},
   "outputs": [],
   "source": [
    "num_weights = 0\n",
    "for _, weight in model.weights.items():\n",
    "    num_weights += weight.size"
   ]
  },
  {
   "cell_type": "code",
   "execution_count": 15,
   "id": "9a8a2457",
   "metadata": {},
   "outputs": [
    {
     "data": {
      "text/plain": [
       "929"
      ]
     },
     "execution_count": 15,
     "metadata": {},
     "output_type": "execute_result"
    }
   ],
   "source": [
    "num_weights"
   ]
  },
  {
   "cell_type": "markdown",
   "id": "0110a3c6",
   "metadata": {},
   "source": [
    "## Run training w. SGD"
   ]
  },
  {
   "cell_type": "code",
   "execution_count": 16,
   "id": "ecf59cda",
   "metadata": {
    "scrolled": false
   },
   "outputs": [
    {
     "ename": "ValueError",
     "evalue": "matmul: Input operand 1 has a mismatch in its core dimension 0, with gufunc signature (n?,k),(k,m?)->(n?,m?) (size 12 is different from 7)",
     "output_type": "error",
     "traceback": [
      "\u001b[1;31m---------------------------------------------------------------------------\u001b[0m",
      "\u001b[1;31mValueError\u001b[0m                                Traceback (most recent call last)",
      "\u001b[1;32m~\\AppData\\Local\\Temp\\ipykernel_13348\\4280723931.py\u001b[0m in \u001b[0;36m<module>\u001b[1;34m\u001b[0m\n\u001b[0;32m     19\u001b[0m         \u001b[0mY_train_batch\u001b[0m \u001b[1;33m=\u001b[0m \u001b[0mtargets_train\u001b[0m\u001b[1;33m[\u001b[0m\u001b[0mi\u001b[0m\u001b[1;33m*\u001b[0m\u001b[0mn_batch\u001b[0m\u001b[1;33m:\u001b[0m\u001b[1;33m(\u001b[0m\u001b[0mi\u001b[0m\u001b[1;33m+\u001b[0m\u001b[1;36m1\u001b[0m\u001b[1;33m)\u001b[0m\u001b[1;33m*\u001b[0m\u001b[0mn_batch\u001b[0m\u001b[1;33m]\u001b[0m\u001b[1;33m\u001b[0m\u001b[1;33m\u001b[0m\u001b[0m\n\u001b[0;32m     20\u001b[0m \u001b[1;33m\u001b[0m\u001b[0m\n\u001b[1;32m---> 21\u001b[1;33m         model.train(\n\u001b[0m\u001b[0;32m     22\u001b[0m             \u001b[0mX_t\u001b[0m\u001b[1;33m=\u001b[0m\u001b[0mXt_train_batch\u001b[0m\u001b[1;33m,\u001b[0m\u001b[1;33m\u001b[0m\u001b[1;33m\u001b[0m\u001b[0m\n\u001b[0;32m     23\u001b[0m             \u001b[0mX_c\u001b[0m\u001b[1;33m=\u001b[0m\u001b[0mXc_train_batch\u001b[0m\u001b[1;33m,\u001b[0m\u001b[1;33m\u001b[0m\u001b[1;33m\u001b[0m\u001b[0m\n",
      "\u001b[1;32mC:\\ml_projects\\rise-gh.git\\rise-gh\\nn_models\\networks.py\u001b[0m in \u001b[0;36mtrain\u001b[1;34m(self, X_t, X_c, Y, sigma, lambd, eta, t)\u001b[0m\n\u001b[0;32m    140\u001b[0m \u001b[1;33m\u001b[0m\u001b[0m\n\u001b[0;32m    141\u001b[0m         \u001b[1;31m# compute grads f. network, returned as dictionary w. weight keys\u001b[0m\u001b[1;33m\u001b[0m\u001b[1;33m\u001b[0m\u001b[0m\n\u001b[1;32m--> 142\u001b[1;33m         grads = self.compute_grads(\n\u001b[0m\u001b[0;32m    143\u001b[0m             \u001b[0mX_t\u001b[0m\u001b[1;33m,\u001b[0m\u001b[1;33m\u001b[0m\u001b[1;33m\u001b[0m\u001b[0m\n\u001b[0;32m    144\u001b[0m             \u001b[0mX_c\u001b[0m\u001b[1;33m,\u001b[0m\u001b[1;33m\u001b[0m\u001b[1;33m\u001b[0m\u001b[0m\n",
      "\u001b[1;32mC:\\ml_projects\\rise-gh.git\\rise-gh\\nn_models\\networks.py\u001b[0m in \u001b[0;36mcompute_grads\u001b[1;34m(self, X_t, X_c, Y, sigma, lambd)\u001b[0m\n\u001b[0;32m    462\u001b[0m \u001b[1;33m\u001b[0m\u001b[0m\n\u001b[0;32m    463\u001b[0m         \u001b[1;31m# perform forward pass and get all activations\u001b[0m\u001b[1;33m\u001b[0m\u001b[1;33m\u001b[0m\u001b[0m\n\u001b[1;32m--> 464\u001b[1;33m         \u001b[0mY_hat\u001b[0m\u001b[1;33m,\u001b[0m \u001b[0mS\u001b[0m\u001b[1;33m,\u001b[0m \u001b[0mh_list\u001b[0m \u001b[1;33m=\u001b[0m \u001b[0mself\u001b[0m\u001b[1;33m.\u001b[0m\u001b[0mpredict\u001b[0m\u001b[1;33m(\u001b[0m\u001b[0mX_t\u001b[0m\u001b[1;33m,\u001b[0m \u001b[0mX_c\u001b[0m\u001b[1;33m,\u001b[0m \u001b[0mtrain\u001b[0m\u001b[1;33m=\u001b[0m\u001b[1;32mTrue\u001b[0m\u001b[1;33m,\u001b[0m \u001b[0msigma\u001b[0m\u001b[1;33m=\u001b[0m\u001b[0msigma\u001b[0m\u001b[1;33m)\u001b[0m\u001b[1;33m\u001b[0m\u001b[1;33m\u001b[0m\u001b[0m\n\u001b[0m\u001b[0;32m    465\u001b[0m \u001b[1;33m\u001b[0m\u001b[0m\n\u001b[0;32m    466\u001b[0m         \u001b[1;31m# get batch size\u001b[0m\u001b[1;33m\u001b[0m\u001b[1;33m\u001b[0m\u001b[0m\n",
      "\u001b[1;32mC:\\ml_projects\\rise-gh.git\\rise-gh\\nn_models\\networks.py\u001b[0m in \u001b[0;36mpredict\u001b[1;34m(self, X_t, X_c, train, sigma)\u001b[0m\n\u001b[0;32m    421\u001b[0m         \u001b[1;31m# iterate over all layers and compute forward pass\u001b[0m\u001b[1;33m\u001b[0m\u001b[1;33m\u001b[0m\u001b[0m\n\u001b[0;32m    422\u001b[0m         \u001b[1;32mfor\u001b[0m \u001b[0ml\u001b[0m \u001b[1;32min\u001b[0m \u001b[0mrange\u001b[0m\u001b[1;33m(\u001b[0m\u001b[0mself\u001b[0m\u001b[1;33m.\u001b[0m\u001b[0mn_layers\u001b[0m\u001b[1;33m)\u001b[0m\u001b[1;33m:\u001b[0m\u001b[1;33m\u001b[0m\u001b[1;33m\u001b[0m\u001b[0m\n\u001b[1;32m--> 423\u001b[1;33m             \u001b[0ms\u001b[0m \u001b[1;33m=\u001b[0m \u001b[0mself\u001b[0m\u001b[1;33m.\u001b[0m\u001b[0mweights\u001b[0m\u001b[1;33m[\u001b[0m\u001b[1;34m'W'\u001b[0m\u001b[1;33m+\u001b[0m\u001b[0mstr\u001b[0m\u001b[1;33m(\u001b[0m\u001b[0ml\u001b[0m\u001b[1;33m)\u001b[0m\u001b[1;33m]\u001b[0m \u001b[1;33m@\u001b[0m \u001b[0mh_list\u001b[0m\u001b[1;33m[\u001b[0m\u001b[1;33m-\u001b[0m\u001b[1;36m1\u001b[0m\u001b[1;33m]\u001b[0m \u001b[1;33m+\u001b[0m \u001b[0mself\u001b[0m\u001b[1;33m.\u001b[0m\u001b[0mweights\u001b[0m\u001b[1;33m[\u001b[0m\u001b[1;34m'b'\u001b[0m\u001b[1;33m+\u001b[0m\u001b[0mstr\u001b[0m\u001b[1;33m(\u001b[0m\u001b[0ml\u001b[0m\u001b[1;33m)\u001b[0m\u001b[1;33m]\u001b[0m\u001b[1;33m\u001b[0m\u001b[1;33m\u001b[0m\u001b[0m\n\u001b[0m\u001b[0;32m    424\u001b[0m             \u001b[0mh\u001b[0m \u001b[1;33m=\u001b[0m \u001b[0mnp\u001b[0m\u001b[1;33m.\u001b[0m\u001b[0mmaximum\u001b[0m\u001b[1;33m(\u001b[0m\u001b[1;36m0\u001b[0m\u001b[1;33m,\u001b[0m \u001b[0ms\u001b[0m\u001b[1;33m)\u001b[0m\u001b[1;33m\u001b[0m\u001b[1;33m\u001b[0m\u001b[0m\n\u001b[0;32m    425\u001b[0m             \u001b[0mh_list\u001b[0m\u001b[1;33m.\u001b[0m\u001b[0mappend\u001b[0m\u001b[1;33m(\u001b[0m\u001b[0mh\u001b[0m\u001b[1;33m)\u001b[0m\u001b[1;33m\u001b[0m\u001b[1;33m\u001b[0m\u001b[0m\n",
      "\u001b[1;31mValueError\u001b[0m: matmul: Input operand 1 has a mismatch in its core dimension 0, with gufunc signature (n?,k),(k,m?)->(n?,m?) (size 12 is different from 7)"
     ]
    }
   ],
   "source": [
    "n_batch = 32\n",
    "lr = 0.001\n",
    "n_epochs = 50\n",
    "\n",
    "# init time step\n",
    "t = 0\n",
    "\n",
    "loss_hist = []\n",
    "\n",
    "# create list of idxs for shuffling\n",
    "idxs = list(range(len(sequences_train)))\n",
    "for epoch in range(1, n_epochs):\n",
    "    np.random.shuffle(idxs)\n",
    "    sequences_train, temps_train, targets_train = sequences_train[idxs], temps_train[idxs], targets_train[idxs]\n",
    "    \n",
    "    for i in range(len(sequences_train) // n_batch):\n",
    "        Xt_train_batch = sequences_train[i*n_batch:(i+1)*n_batch]\n",
    "        Xc_train_batch = temps_train[i*n_batch:(i+1)*n_batch]\n",
    "        Y_train_batch = targets_train[i*n_batch:(i+1)*n_batch]\n",
    "            \n",
    "        model.train(\n",
    "            X_t=Xt_train_batch,\n",
    "            X_c=Xc_train_batch,\n",
    "            Y=Y_train_batch,\n",
    "            sigma=sigma,\n",
    "            lambd=lambd,\n",
    "            eta=lr,\n",
    "            t=epoch\n",
    "        )\n",
    "        \n",
    "        #if t % 200 == 0:\n",
    "        #    loss = model.compute_loss(X_t=sequences_train, X_c=temps_train, Y=targets_train, lambd=lambd)\n",
    "        #    loss_hist.append(loss)\n",
    "        #    \n",
    "        #    print(epoch, t, loss)\n",
    "        #    \n",
    "        #t += 1\n",
    "    loss = model.compute_loss(X_t=sequences_train, X_c=temps_train, Y=targets_train, lambd=lambd)\n",
    "    loss_hist.append(loss)\n",
    "    print(epoch, loss)"
   ]
  },
  {
   "cell_type": "code",
   "execution_count": 35,
   "id": "c3f625ac",
   "metadata": {},
   "outputs": [],
   "source": [
    "rnn_preds_simple = []\n",
    "rnn_encodings_simple = []\n",
    "\n",
    "pred_queue = deque(maxlen=t_steps)\n",
    "for temp in temps_test[:t_steps]:\n",
    "    pred_queue.append(temp[np.newaxis, :])\n",
    "    rnn_preds_simple.append(temp)\n",
    "    \n",
    "for seq in sequences_masked:\n",
    "    temp = pred_queue.popleft()\n",
    "    temp_pred, _ = model.predict(X_t=seq[np.newaxis, :], X_c=temp, train=False)\n",
    "    pred_queue.append(temp_pred)\n",
    "    rnn_preds_simple.append(temp_pred[0])\n",
    "#     rnn_encodings_simple.append(encoded[0])\n",
    "    \n",
    "#y_hat, encoded = model.predict(sequences_test, temps_test, train=False)"
   ]
  },
  {
   "cell_type": "code",
   "execution_count": 36,
   "id": "b1fd049d",
   "metadata": {
    "scrolled": false
   },
   "outputs": [
    {
     "data": {
      "text/plain": [
       "[<matplotlib.lines.Line2D at 0x15b80f2f100>]"
      ]
     },
     "execution_count": 36,
     "metadata": {},
     "output_type": "execute_result"
    },
    {
     "data": {
      "image/png": "[encoded data removed]",
      "text/plain": [
       "<Figure size 640x480 with 1 Axes>"
      ]
     },
     "metadata": {},
     "output_type": "display_data"
    }
   ],
   "source": [
    "plt.plot(targets_test[-1500:])\n",
    "plt.plot(rnn_preds_simple[-1500:])\n",
    "#plt.ylim(-10, 10)"
   ]
  },
  {
   "cell_type": "code",
   "execution_count": null,
   "id": "6cbfffff",
   "metadata": {},
   "outputs": [],
   "source": []
  }
 ],
 "metadata": {
  "kernelspec": {
   "display_name": "Python 3 (ipykernel)",
   "language": "python",
   "name": "python3"
  },
  "language_info": {
   "codemirror_mode": {
    "name": "ipython",
    "version": 3
   },
   "file_extension": ".py",
   "mimetype": "text/x-python",
   "name": "python",
   "nbconvert_exporter": "python",
   "pygments_lexer": "ipython3",
   "version": "3.9.13"
  }
 },
 "nbformat": 4,
 "nbformat_minor": 5
}
