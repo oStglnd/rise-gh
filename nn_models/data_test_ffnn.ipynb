{
 "cells": [
  {
   "cell_type": "markdown",
   "id": "3c35d1cc",
   "metadata": {},
   "source": [
    "# Greenhouse Model"
   ]
  },
  {
   "cell_type": "markdown",
   "id": "195db0c9",
   "metadata": {},
   "source": [
    "## Import dependencies and data"
   ]
  },
  {
   "cell_type": "code",
   "execution_count": 1,
   "id": "77453a55",
   "metadata": {},
   "outputs": [],
   "source": [
    "# import dependencies\n",
    "import os\n",
    "import pickle\n",
    "import json\n",
    "from collections import deque\n",
    "import pandas as pd\n",
    "import matplotlib.pyplot as plt\n",
    "import numpy as np\n",
    "\n",
    "from IPython.display import clear_output"
   ]
  },
  {
   "cell_type": "code",
   "execution_count": 31,
   "id": "edda9b0d",
   "metadata": {},
   "outputs": [],
   "source": [
    "from data_funcs import k_fold_data, k_fold_data_validation"
   ]
  },
  {
   "cell_type": "markdown",
   "id": "cd69ca00",
   "metadata": {},
   "source": [
    "## Create data for specific fold"
   ]
  },
  {
   "cell_type": "code",
   "execution_count": 7,
   "id": "e513bb63",
   "metadata": {},
   "outputs": [],
   "source": [
    "# define relevant paths\n",
    "home_path = os.path.dirname(os.getcwd())\n",
    "data_path = home_path + '\\\\data\\\\'"
   ]
  },
  {
   "cell_type": "code",
   "execution_count": 8,
   "id": "a747b251",
   "metadata": {},
   "outputs": [],
   "source": [
    "# get merged data\n",
    "data = pd.read_csv(\n",
    "    data_path + 'data_processed.csv',\n",
    "    header=[0, 1],\n",
    "    index_col=[0, 1, 2, 3, 4]\n",
    ")"
   ]
  },
  {
   "cell_type": "code",
   "execution_count": 47,
   "id": "0ac538e8",
   "metadata": {},
   "outputs": [
    {
     "name": "stdout",
     "output_type": "stream",
     "text": [
      "a\n"
     ]
    }
   ],
   "source": [
    "k_idx = 19\n",
    "k_frac = 0.05\n",
    "m = 5\n",
    "t_steps = 1\n",
    "n_steps = 12\n",
    "\n",
    "# Define cols to use\n",
    "cols = [\n",
    "    ('temperatures', 'TA01_GT10X_GM10X'),\n",
    "    #('temperatures', 'TA01_GT401_GM401_scaled'),\n",
    "    #('temperatures', 'DC_GT301_damped_scaled'),\n",
    "    ('temperatures', 'TA01_GT401_GM401'),\n",
    "    ('temperatures', 'DC_GT301_damped'),\n",
    "    ('sun', 'gsi'),\n",
    "    ('power', 'phase'),\n",
    "    ('time', 'minofday'),\n",
    "    ('state', 'TA01_output'),\n",
    "    ('state', 'TA02_output')\n",
    "]\n",
    "\n",
    "# get data\n",
    "train_tup, test_tup, _, col_params = k_fold_data_validation(\n",
    "    data=data, \n",
    "    k_idx=k_idx, \n",
    "    k_frac=k_frac, \n",
    "    m=m, \n",
    "    cols=cols, \n",
    "    t_steps=t_steps, \n",
    "    n_steps=n_steps,\n",
    "    setpoint=True,\n",
    "    shuffle=False\n",
    ")\n",
    "\n",
    "# extract from tuples\n",
    "(sequences_train, targets_train, temps_train, temps_t_train, _) = train_tup\n",
    "(sequences_test, targets_test, temps_test, temps_t_test, sequences_masked, _) = test_tup\n",
    "\n",
    "# # reshape training matrix\n",
    "# temps_train = temps_t_train[:, np.newaxis]\n",
    "# targets_train = targets_train[:, np.newaxis]\n",
    "\n",
    "# # reshape testing matrix\n",
    "# temps_test = temps_t_test[:, np.newaxis]\n",
    "# targets_test = targets_test[:, np.newaxis]"
   ]
  },
  {
   "cell_type": "code",
   "execution_count": 48,
   "id": "f53e64ee",
   "metadata": {},
   "outputs": [],
   "source": [
    "sequences_train = sequences_train[:, -2, :]\n",
    "sequences_test = sequences_test[:, -2, :]\n",
    "sequences_masked = sequences_masked[:, -2, :]"
   ]
  },
  {
   "cell_type": "markdown",
   "id": "cdaeef6e",
   "metadata": {},
   "source": [
    "## Def model funcs"
   ]
  },
  {
   "cell_type": "code",
   "execution_count": 56,
   "id": "9a55fdb0",
   "metadata": {},
   "outputs": [],
   "source": [
    "from networks import feedForwardNeuralNetwork\n",
    "from opts import RMSProp, AdaGrad, Adam"
   ]
  },
  {
   "cell_type": "code",
   "execution_count": 57,
   "id": "7f045c57",
   "metadata": {},
   "outputs": [],
   "source": [
    "# hyperparams\n",
    "units = 32\n",
    "k1 = 7\n",
    "k2 = 1\n",
    "T = 6\n",
    "lambd = 0.0\n",
    "sigma = 1.0\n",
    "\n",
    "seed = 1\n",
    "optimizer = None"
   ]
  },
  {
   "cell_type": "code",
   "execution_count": 58,
   "id": "0579c580",
   "metadata": {},
   "outputs": [],
   "source": [
    "model = feedForwardNeuralNetwork(\n",
    "    k1=k1,\n",
    "    k2=k2,\n",
    "    m=[32, 16, 8],\n",
    "    seed=seed\n",
    ")\n",
    "\n",
    "adagrad = AdaGrad(\n",
    "    eps=1e-12,\n",
    "    weights=model.weights\n",
    ")\n",
    "\n",
    "rms_prop = RMSProp(\n",
    "    beta=0.9,\n",
    "    eps=1e-12,\n",
    "    weights=model.weights\n",
    ")\n",
    "\n",
    "adam = Adam(\n",
    "    beta1=0.9,\n",
    "    beta2=0.999,\n",
    "    eps=1e-8,\n",
    "    weights=model.weights,\n",
    ")"
   ]
  },
  {
   "cell_type": "code",
   "execution_count": 59,
   "id": "82c48d8d",
   "metadata": {},
   "outputs": [],
   "source": [
    "# model.optimizer = None\n",
    "model.optimizer = adam\n",
    "# model.optimizer = adagrad\n",
    "# model.optimizer = rms_prop"
   ]
  },
  {
   "cell_type": "code",
   "execution_count": 60,
   "id": "02f24dbd",
   "metadata": {},
   "outputs": [],
   "source": [
    "num_weights = 0\n",
    "for _, weight in model.weights.items():\n",
    "    num_weights += weight.size"
   ]
  },
  {
   "cell_type": "code",
   "execution_count": 61,
   "id": "9a8a2457",
   "metadata": {},
   "outputs": [
    {
     "data": {
      "text/plain": [
       "929"
      ]
     },
     "execution_count": 61,
     "metadata": {},
     "output_type": "execute_result"
    }
   ],
   "source": [
    "num_weights"
   ]
  },
  {
   "cell_type": "markdown",
   "id": "0110a3c6",
   "metadata": {},
   "source": [
    "## Run training w. SGD"
   ]
  },
  {
   "cell_type": "code",
   "execution_count": 62,
   "id": "ecf59cda",
   "metadata": {
    "scrolled": false
   },
   "outputs": [
    {
     "name": "stdout",
     "output_type": "stream",
     "text": [
      "1 0.12713192749205016\n",
      "2 0.12840158829629325\n",
      "3 0.12831124836977573\n",
      "4 0.12687415107573569\n",
      "5 0.12592999984904796\n",
      "6 0.1257009773274451\n",
      "7 0.12419602284366715\n",
      "8 0.1231444545880355\n",
      "9 0.12298777300224266\n",
      "10 0.12311494679269812\n",
      "11 0.12091793842977486\n",
      "12 0.12017203213886735\n",
      "13 0.11961852006771234\n",
      "14 0.1194674150369104\n",
      "15 0.11890509391294829\n",
      "16 0.11803473124860261\n",
      "17 0.11766926382884646\n",
      "18 0.1170680427562193\n",
      "19 0.11664723174244158\n",
      "20 0.11732033277219216\n",
      "21 0.11658986468001122\n",
      "22 0.11638360408378562\n",
      "23 0.11515039047089579\n",
      "24 0.11626892594384051\n",
      "25 0.11492982482575\n",
      "26 0.1148479152992605\n",
      "27 0.11538784898252677\n",
      "28 0.11417223442154055\n",
      "29 0.11345807289358766\n",
      "30 0.11738881368129003\n",
      "31 0.11403126401211676\n",
      "32 0.11524371156170912\n",
      "33 0.11308075955389052\n",
      "34 0.11446399049151584\n",
      "35 0.11258700177330187\n",
      "36 0.11280693004541563\n",
      "37 0.11580820623975896\n",
      "38 0.11247891577239101\n",
      "39 0.11343208618800804\n",
      "40 0.11178180262300046\n",
      "41 0.11114669608609187\n",
      "42 0.11144943228368136\n",
      "43 0.1130007033398048\n",
      "44 0.11057781398706762\n",
      "45 0.11114199934942799\n",
      "46 0.11031310303444328\n",
      "47 0.11120482249566777\n",
      "48 0.11167131058812346\n",
      "49 0.11097280148717291\n"
     ]
    }
   ],
   "source": [
    "n_batch = 32\n",
    "lr = 0.001\n",
    "n_epochs = 50\n",
    "\n",
    "# init time step\n",
    "t = 0\n",
    "\n",
    "loss_hist = []\n",
    "\n",
    "# create list of idxs for shuffling\n",
    "idxs = list(range(len(sequences_train)))\n",
    "for epoch in range(1, n_epochs):\n",
    "    np.random.shuffle(idxs)\n",
    "    sequences_train, temps_train, targets_train = sequences_train[idxs], temps_train[idxs], targets_train[idxs]\n",
    "    \n",
    "    for i in range(len(sequences_train) // n_batch):\n",
    "        Xt_train_batch = sequences_train[i*n_batch:(i+1)*n_batch]\n",
    "        Xc_train_batch = temps_train[i*n_batch:(i+1)*n_batch]\n",
    "        Y_train_batch = targets_train[i*n_batch:(i+1)*n_batch]\n",
    "            \n",
    "        model.train(\n",
    "            X_t=Xt_train_batch,\n",
    "            X_c=Xc_train_batch,\n",
    "            Y=Y_train_batch,\n",
    "            sigma=sigma,\n",
    "            lambd=lambd,\n",
    "            eta=lr,\n",
    "            t=epoch\n",
    "        )\n",
    "        \n",
    "        #if t % 200 == 0:\n",
    "        #    loss = model.compute_loss(X_t=sequences_train, X_c=temps_train, Y=targets_train, lambd=lambd)\n",
    "        #    loss_hist.append(loss)\n",
    "        #    \n",
    "        #    print(epoch, t, loss)\n",
    "        #    \n",
    "        #t += 1\n",
    "    loss = model.compute_loss(X_t=sequences_train, X_c=temps_train, Y=targets_train, lambd=lambd)\n",
    "    loss_hist.append(loss)\n",
    "    print(epoch, loss)"
   ]
  },
  {
   "cell_type": "code",
   "execution_count": 63,
   "id": "c3f625ac",
   "metadata": {},
   "outputs": [],
   "source": [
    "rnn_preds_simple = []\n",
    "rnn_encodings_simple = []\n",
    "\n",
    "pred_queue = deque(maxlen=t_steps)\n",
    "for temp in temps_test[:t_steps]:\n",
    "    pred_queue.append(temp[np.newaxis, :])\n",
    "    rnn_preds_simple.append(temp)\n",
    "    \n",
    "for seq in sequences_masked:\n",
    "    temp = pred_queue.popleft()\n",
    "    temp_pred, _ = model.predict(X_t=seq[np.newaxis, :], X_c=temp, train=False)\n",
    "    pred_queue.append(temp_pred)\n",
    "    rnn_preds_simple.append(temp_pred[0])\n",
    "#     rnn_encodings_simple.append(encoded[0])\n",
    "    \n",
    "#y_hat, encoded = model.predict(sequences_test, temps_test, train=False)"
   ]
  },
  {
   "cell_type": "code",
   "execution_count": 66,
   "id": "b1fd049d",
   "metadata": {
    "scrolled": false
   },
   "outputs": [
    {
     "data": {
      "text/plain": [
       "[<matplotlib.lines.Line2D at 0x1a9afe51670>]"
      ]
     },
     "execution_count": 66,
     "metadata": {},
     "output_type": "execute_result"
    },
    {
     "data": {
      "image/png": "[encoded data removed]",
      "text/plain": [
       "<Figure size 640x480 with 1 Axes>"
      ]
     },
     "metadata": {},
     "output_type": "display_data"
    }
   ],
   "source": [
    "plt.plot(targets_test)#[-1500:])\n",
    "plt.plot(rnn_preds_simple)#[-1500:])\n",
    "#plt.ylim(-10, 10)"
   ]
  }
 ],
 "metadata": {
  "kernelspec": {
   "display_name": "Python 3 (ipykernel)",
   "language": "python",
   "name": "python3"
  },
  "language_info": {
   "codemirror_mode": {
    "name": "ipython",
    "version": 3
   },
   "file_extension": ".py",
   "mimetype": "text/x-python",
   "name": "python",
   "nbconvert_exporter": "python",
   "pygments_lexer": "ipython3",
   "version": "3.9.13"
  }
 },
 "nbformat": 4,
 "nbformat_minor": 5
}
