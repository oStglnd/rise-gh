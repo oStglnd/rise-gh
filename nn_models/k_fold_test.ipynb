{
 "cells": [
  {
   "cell_type": "markdown",
   "id": "3c35d1cc",
   "metadata": {},
   "source": [
    "# Greenhouse Model"
   ]
  },
  {
   "cell_type": "markdown",
   "id": "195db0c9",
   "metadata": {},
   "source": [
    "## Import dependencies and data"
   ]
  },
  {
   "cell_type": "code",
   "execution_count": 1,
   "id": "77453a55",
   "metadata": {},
   "outputs": [],
   "source": [
    "# import dependencies\n",
    "import os\n",
    "import pickle\n",
    "import json\n",
    "from collections import deque\n",
    "import pandas as pd\n",
    "import matplotlib.pyplot as plt\n",
    "import numpy as np\n",
    "\n",
    "from IPython.display import clear_output"
   ]
  },
  {
   "cell_type": "code",
   "execution_count": 2,
   "id": "956d6023",
   "metadata": {},
   "outputs": [],
   "source": [
    "from data_funcs import k_fold_data_validation\n",
    "from train_funcs import train_network\n",
    "from networks import feedForwardNeuralNetwork, recurrentNeuralNetwork\n",
    "from opts import AdaGrad, RMSProp, Adam"
   ]
  },
  {
   "cell_type": "markdown",
   "id": "a15ace44",
   "metadata": {},
   "source": [
    "## Create data for specific fold"
   ]
  },
  {
   "cell_type": "code",
   "execution_count": 3,
   "id": "594fb174",
   "metadata": {},
   "outputs": [],
   "source": [
    "# define relevant paths\n",
    "home_path = os.path.dirname(os.getcwd())\n",
    "data_path = home_path + '\\\\data\\\\'\n",
    "results_path = home_path + '\\\\nn_models\\\\results\\\\'\n",
    "\n",
    "# get merged data\n",
    "data = pd.read_csv(\n",
    "    data_path + 'data_processed.csv',\n",
    "    header=[0, 1],\n",
    "    index_col=[0, 1, 2, 3, 4]\n",
    ")"
   ]
  },
  {
   "cell_type": "code",
   "execution_count": 4,
   "id": "aa55a697",
   "metadata": {
    "scrolled": true
   },
   "outputs": [],
   "source": [
    "# define data specs\n",
    "k_frac = 0.05\n",
    "m = 5\n",
    "t_steps = 1\n",
    "n_steps = 6\n",
    "\n",
    "# Define cols to use\n",
    "cols = [\n",
    "    ('temperatures', 'TA01_GT10X_GM10X'),\n",
    "    #('temperatures', 'TA01_GT401_GM401_scaled'),\n",
    "    #('temperatures', 'DC_GT301_damped_scaled'),\n",
    "    ('temperatures', 'TA01_GT401_GM401'),\n",
    "    ('temperatures', 'DC_GT301_damped'),\n",
    "    ('sun', 'gsi'),\n",
    "    ('power', 'phase'),\n",
    "    ('time', 'minofday'),\n",
    "    ('state', 'TA01_output'),\n",
    "    ('state', 'TA02_output')\n",
    "]"
   ]
  },
  {
   "cell_type": "markdown",
   "id": "9187819d",
   "metadata": {},
   "source": [
    "## K-fold CV"
   ]
  },
  {
   "cell_type": "code",
   "execution_count": 5,
   "id": "0947da9d",
   "metadata": {},
   "outputs": [],
   "source": [
    "version = 0"
   ]
  },
  {
   "cell_type": "code",
   "execution_count": 6,
   "id": "d2c25834",
   "metadata": {},
   "outputs": [],
   "source": [
    "# training hyperparams\n",
    "k1 = 7\n",
    "k2 = 1\n",
    "lambd = 0.01\n",
    "sigma = 1.0\n",
    "seed = 1\n",
    "\n",
    "# more params\n",
    "n_epochs = 50\n",
    "n_batch = 128\n",
    "lr = 0.001"
   ]
  },
  {
   "cell_type": "code",
   "execution_count": 7,
   "id": "40772677",
   "metadata": {},
   "outputs": [
    {
     "name": "stdout",
     "output_type": "stream",
     "text": [
      "---\t Initializing training \t---\n",
      "\n",
      "EPOCH 0 - train loss: 2.93, val loss: 3.51\n",
      "EPOCH 1 (0.60 s) - train loss: 0.65, val loss: 0.70\n",
      "EPOCH 2 (0.67 s) - train loss: 0.54, val loss: 0.57\n",
      "EPOCH 3 (0.61 s) - train loss: 0.47, val loss: 0.49\n",
      "EPOCH 4 (0.67 s) - train loss: 0.42, val loss: 0.44\n",
      "EPOCH 5 (0.67 s) - train loss: 0.38, val loss: 0.42\n"
     ]
    },
    {
     "ename": "KeyboardInterrupt",
     "evalue": "",
     "output_type": "error",
     "traceback": [
      "\u001b[1;31m---------------------------------------------------------------------------\u001b[0m",
      "\u001b[1;31mKeyboardInterrupt\u001b[0m                         Traceback (most recent call last)",
      "\u001b[1;32m~\\AppData\\Local\\Temp\\ipykernel_568\\1273410071.py\u001b[0m in \u001b[0;36m<module>\u001b[1;34m\u001b[0m\n\u001b[0;32m     85\u001b[0m \u001b[1;33m\u001b[0m\u001b[0m\n\u001b[0;32m     86\u001b[0m     \u001b[1;31m# train model\u001b[0m\u001b[1;33m\u001b[0m\u001b[1;33m\u001b[0m\u001b[0m\n\u001b[1;32m---> 87\u001b[1;33m     results = train_network(\n\u001b[0m\u001b[0;32m     88\u001b[0m         \u001b[0mmodel\u001b[0m\u001b[1;33m=\u001b[0m\u001b[0mmodel\u001b[0m\u001b[1;33m,\u001b[0m\u001b[1;33m\u001b[0m\u001b[1;33m\u001b[0m\u001b[0m\n\u001b[0;32m     89\u001b[0m         \u001b[0mtrain_data\u001b[0m\u001b[1;33m=\u001b[0m\u001b[1;33m(\u001b[0m\u001b[0msequences_train\u001b[0m\u001b[1;33m,\u001b[0m \u001b[0mtemps_t_train\u001b[0m\u001b[1;33m,\u001b[0m \u001b[0mtargets_train\u001b[0m\u001b[1;33m)\u001b[0m\u001b[1;33m,\u001b[0m\u001b[1;33m\u001b[0m\u001b[1;33m\u001b[0m\u001b[0m\n",
      "\u001b[1;32mC:\\ml_projects\\rise-gh.git\\rise-gh\\nn_models\\train_funcs.py\u001b[0m in \u001b[0;36mtrain_network\u001b[1;34m(model, train_data, val_data, seed, n_epochs, n_batch, lambd, sigma, lr, optimizer)\u001b[0m\n\u001b[0;32m     77\u001b[0m \u001b[1;33m\u001b[0m\u001b[0m\n\u001b[0;32m     78\u001b[0m         \u001b[1;31m# get loss\u001b[0m\u001b[1;33m\u001b[0m\u001b[1;33m\u001b[0m\u001b[0m\n\u001b[1;32m---> 79\u001b[1;33m         \u001b[0mtrain_loss\u001b[0m \u001b[1;33m=\u001b[0m \u001b[0mmodel\u001b[0m\u001b[1;33m.\u001b[0m\u001b[0mcompute_loss\u001b[0m\u001b[1;33m(\u001b[0m\u001b[0mX_t\u001b[0m\u001b[1;33m=\u001b[0m\u001b[0mX_t\u001b[0m\u001b[1;33m,\u001b[0m \u001b[0mX_c\u001b[0m\u001b[1;33m=\u001b[0m\u001b[0mX_c\u001b[0m\u001b[1;33m,\u001b[0m \u001b[0mY\u001b[0m\u001b[1;33m=\u001b[0m\u001b[0mY\u001b[0m\u001b[1;33m,\u001b[0m \u001b[0mlambd\u001b[0m\u001b[1;33m=\u001b[0m\u001b[0mlambd\u001b[0m\u001b[1;33m)\u001b[0m\u001b[1;33m\u001b[0m\u001b[1;33m\u001b[0m\u001b[0m\n\u001b[0m\u001b[0;32m     80\u001b[0m         \u001b[0mval_loss\u001b[0m \u001b[1;33m=\u001b[0m \u001b[0mmodel\u001b[0m\u001b[1;33m.\u001b[0m\u001b[0mcompute_loss\u001b[0m\u001b[1;33m(\u001b[0m\u001b[0mX_t\u001b[0m\u001b[1;33m=\u001b[0m\u001b[0mX_t_val\u001b[0m\u001b[1;33m,\u001b[0m \u001b[0mX_c\u001b[0m\u001b[1;33m=\u001b[0m\u001b[0mX_c_val\u001b[0m\u001b[1;33m,\u001b[0m \u001b[0mY\u001b[0m\u001b[1;33m=\u001b[0m\u001b[0mY_val\u001b[0m\u001b[1;33m,\u001b[0m \u001b[0mlambd\u001b[0m\u001b[1;33m=\u001b[0m\u001b[0mlambd\u001b[0m\u001b[1;33m)\u001b[0m\u001b[1;33m\u001b[0m\u001b[1;33m\u001b[0m\u001b[0m\n\u001b[0;32m     81\u001b[0m \u001b[1;33m\u001b[0m\u001b[0m\n",
      "\u001b[1;32mC:\\ml_projects\\rise-gh.git\\rise-gh\\nn_models\\networks.py\u001b[0m in \u001b[0;36mcompute_loss\u001b[1;34m(self, X_t, X_c, Y, lambd)\u001b[0m\n\u001b[0;32m    108\u001b[0m \u001b[1;33m\u001b[0m\u001b[0m\n\u001b[0;32m    109\u001b[0m         \u001b[1;31m# get predictions for batch\u001b[0m\u001b[1;33m\u001b[0m\u001b[1;33m\u001b[0m\u001b[0m\n\u001b[1;32m--> 110\u001b[1;33m         Y_hat, _ = self.predict(\n\u001b[0m\u001b[0;32m    111\u001b[0m             \u001b[0mX_t\u001b[0m\u001b[1;33m=\u001b[0m\u001b[0mX_t\u001b[0m\u001b[1;33m,\u001b[0m\u001b[1;33m\u001b[0m\u001b[1;33m\u001b[0m\u001b[0m\n\u001b[0;32m    112\u001b[0m             \u001b[0mX_c\u001b[0m\u001b[1;33m=\u001b[0m\u001b[0mX_c\u001b[0m\u001b[1;33m,\u001b[0m\u001b[1;33m\u001b[0m\u001b[1;33m\u001b[0m\u001b[0m\n",
      "\u001b[1;32mC:\\ml_projects\\rise-gh.git\\rise-gh\\nn_models\\networks.py\u001b[0m in \u001b[0;36mpredict\u001b[1;34m(self, X_t, X_c, train, sigma)\u001b[0m\n\u001b[0;32m    260\u001b[0m \u001b[1;33m\u001b[0m\u001b[0m\n\u001b[0;32m    261\u001b[0m             \u001b[1;31m# pass through non-linearity\u001b[0m\u001b[1;33m\u001b[0m\u001b[1;33m\u001b[0m\u001b[0m\n\u001b[1;32m--> 262\u001b[1;33m             \u001b[0mh\u001b[0m \u001b[1;33m=\u001b[0m \u001b[0mnp\u001b[0m\u001b[1;33m.\u001b[0m\u001b[0mtanh\u001b[0m\u001b[1;33m(\u001b[0m\u001b[0ma\u001b[0m\u001b[1;33m)\u001b[0m\u001b[1;33m\u001b[0m\u001b[1;33m\u001b[0m\u001b[0m\n\u001b[0m\u001b[0;32m    263\u001b[0m \u001b[1;33m\u001b[0m\u001b[0m\n\u001b[0;32m    264\u001b[0m             \u001b[1;31m# save activations and hidden units\u001b[0m\u001b[1;33m\u001b[0m\u001b[1;33m\u001b[0m\u001b[0m\n",
      "\u001b[1;31mKeyboardInterrupt\u001b[0m: "
     ]
    }
   ],
   "source": [
    "for k_idx in range(20):\n",
    "    train_tup, test_tup, val_tup, col_params = k_fold_data_validation(\n",
    "        data=data.copy(), \n",
    "        k_idx=k_idx, \n",
    "        k_frac=k_frac, \n",
    "        m=m, \n",
    "        cols=cols, \n",
    "        t_steps=t_steps, \n",
    "        n_steps=n_steps,\n",
    "        setpoint=True,\n",
    "        shuffle=False\n",
    "    )\n",
    "    \n",
    "    # extract tuples\n",
    "    (sequences_train, targets_train, temps_train, temps_t_train, _) = train_tup\n",
    "    (sequences_test, targets_test, temps_test, temps_t_test, sequences_masked, _) = test_tup\n",
    "    (sequences_val, targets_val, temps_val, temps_t_val, _) = val_tup\n",
    "    \n",
    "    ### ----- FEED-FORWARD NN -----\n",
    "    # define network\n",
    "    model_name = 'FFNN_v{}_k{}'.format(version, k_idx)\n",
    "    units=[32, 16, 8]\n",
    "    model = feedForwardNeuralNetwork(\n",
    "        k1=k1,\n",
    "        k2=k2,\n",
    "        m=units,\n",
    "        seed=seed\n",
    "    )\n",
    "    \n",
    "    # define optimizer\n",
    "    adam = Adam(\n",
    "        beta1=0.9,\n",
    "        beta2=0.999,\n",
    "        eps=1e-8,\n",
    "        weights=model.weights,\n",
    "    )\n",
    "    \n",
    "    # set optimizer\n",
    "    model.optimizer = adam\n",
    "    \n",
    "    # train model\n",
    "    results = train_network(\n",
    "        model=model,\n",
    "        train_data=(sequences_train[:, -2, :], temps_t_train, targets_train),\n",
    "        val_data=(sequences_val[:, -2, :], temps_t_val, targets_val),\n",
    "        seed=seed,\n",
    "        n_epochs=n_epochs,\n",
    "        n_batch=n_batch,\n",
    "        lambd=lambd,\n",
    "        sigma=sigma,\n",
    "        lr=lr,\n",
    "        optimizer='adam'\n",
    "    )\n",
    "    \n",
    "    # save results\n",
    "    save_path = results_path + 'ffnn\\\\' + model_name + '.pickle'\n",
    "    with open(save_path, 'wb') as fo:\n",
    "        pickle.dump(results, fo)\n",
    "    \n",
    "    # clear output\n",
    "    clear_output()\n",
    "    \n",
    "    \n",
    "    ### ----- RECURRENT NN -----\n",
    "    # define network\n",
    "    model_name = 'RNN_v{}_k{}'.format(version, k_idx)\n",
    "    units = 32\n",
    "    model = recurrentNeuralNetwork(\n",
    "        k1=k1,\n",
    "        k2=k2,\n",
    "        m=units,\n",
    "        seed=seed\n",
    "    )\n",
    "    \n",
    "    # define optimizer\n",
    "    adam = Adam(\n",
    "        beta1=0.9,\n",
    "        beta2=0.999,\n",
    "        eps=1e-8,\n",
    "        weights=model.weights,\n",
    "    )\n",
    "    \n",
    "    # set optimizer\n",
    "    model.optimizer = adam\n",
    "    \n",
    "    # train model\n",
    "    results = train_network(\n",
    "        model=model,\n",
    "        train_data=(sequences_train, temps_t_train, targets_train),\n",
    "        val_data=(sequences_val, temps_t_val, targets_val),\n",
    "        seed=seed,\n",
    "        n_epochs=n_epochs,\n",
    "        n_batch=n_batch,\n",
    "        lambd=lambd,\n",
    "        sigma=sigma,\n",
    "        lr=lr,\n",
    "        optimizer='adam'\n",
    "    )\n",
    " \n",
    "    # save results\n",
    "    save_path = results_path + 'rnn\\\\' + model_name + '.pickle'\n",
    "    with open(save_path, 'wb') as fo:\n",
    "        pickle.dump(results, fo)\n",
    "\n",
    "    # clear output\n",
    "    clear_output()\n",
    "    "
   ]
  },
  {
   "cell_type": "code",
   "execution_count": null,
   "id": "cd720755",
   "metadata": {},
   "outputs": [],
   "source": []
  }
 ],
 "metadata": {
  "kernelspec": {
   "display_name": "Python 3 (ipykernel)",
   "language": "python",
   "name": "python3"
  },
  "language_info": {
   "codemirror_mode": {
    "name": "ipython",
    "version": 3
   },
   "file_extension": ".py",
   "mimetype": "text/x-python",
   "name": "python",
   "nbconvert_exporter": "python",
   "pygments_lexer": "ipython3",
   "version": "3.9.13"
  }
 },
 "nbformat": 4,
 "nbformat_minor": 5
}
