{
 "cells": [
  {
   "cell_type": "markdown",
   "id": "3c35d1cc",
   "metadata": {},
   "source": [
    "# Short-term Temperature Model Test"
   ]
  },
  {
   "cell_type": "markdown",
   "id": "195db0c9",
   "metadata": {},
   "source": [
    "## Import dependencies and data"
   ]
  },
  {
   "cell_type": "code",
   "execution_count": 69,
   "id": "77453a55",
   "metadata": {},
   "outputs": [],
   "source": [
    "# import dependencies\n",
    "import os\n",
    "import json\n",
    "import pandas as pd\n",
    "\n",
    "import matplotlib.pyplot as plt\n",
    "import seaborn as sns\n",
    "\n",
    "import numpy as np\n",
    "import tensorflow as tf\n",
    "from tensorflow.keras import layers"
   ]
  },
  {
   "cell_type": "code",
   "execution_count": 70,
   "id": "b5dee1ac",
   "metadata": {},
   "outputs": [],
   "source": [
    "# define relevant paths\n",
    "home_path = os.path.dirname(os.getcwd())\n",
    "data_path = home_path + '\\\\data\\\\'\n",
    "plot_path = home_path + '\\\\plotting\\\\plots\\\\'\n",
    "save_path = home_path + '\\\\model\\\\saved\\\\'"
   ]
  },
  {
   "cell_type": "code",
   "execution_count": 71,
   "id": "a747b251",
   "metadata": {},
   "outputs": [],
   "source": [
    "# get merged data\n",
    "data = pd.read_csv(\n",
    "    data_path + 'data_merged.csv',\n",
    "    header=[0, 1],\n",
    "    index_col=[0, 1, 2, 3, 4]\n",
    ")\n",
    "\n",
    "# convert index.date col to datetime\n",
    "#data.index = pd.to_datetime(data.index.values)\n",
    "data.loc[:, ('time', 'date')] = pd.to_datetime(data.time.date)"
   ]
  },
  {
   "cell_type": "code",
   "execution_count": 72,
   "id": "b0f46624",
   "metadata": {},
   "outputs": [],
   "source": [
    "# define X vars\n",
    "x_vars = [\n",
    "    ('flow', 'TA01_GP101'),\n",
    "    #('flow', 'FF01_GP101'),\n",
    "    ('temperatures', 'DC_GT401_GM401'),\n",
    "    ('temperatures', 'TA01_GT10X_GM10X'),\n",
    "    ('temperatures', 'DC_GT301_damped'),\n",
    "    ('temperatures', 'DC_GT301_outdoor'),\n",
    "    ('setpoints', 'TA01_GT10X_GM10X'),\n",
    "    ('sun', 'gsi'),\n",
    "    ('sun', 'vol'),\n",
    "    ('time', 'mod'),\n",
    "    ('time', 'doy')\n",
    "]\n",
    "\n",
    "# filter columns to keep only x_vars\n",
    "data = data[x_vars].copy()"
   ]
  },
  {
   "cell_type": "markdown",
   "id": "33ae9eb6",
   "metadata": {},
   "source": [
    "## Describe Df"
   ]
  },
  {
   "cell_type": "code",
   "execution_count": 73,
   "id": "be306b52",
   "metadata": {},
   "outputs": [
    {
     "name": "stdout",
     "output_type": "stream",
     "text": [
      "Number of NAs\n",
      "\n",
      "category      sensor_ID       \n",
      "flow          TA01_GP101          13\n",
      "temperatures  TA01_GT10X_GM10X    14\n",
      "              DC_GT401_GM401      13\n",
      "              DC_GT301_damped     11\n",
      "              DC_GT301_outdoor    12\n",
      "setpoints     TA01_GT10X_GM10X    14\n",
      "sun           gsi                  1\n",
      "              vol                  1\n",
      "time          mod                  1\n",
      "              doy                  1\n",
      "dtype: int64\n",
      "\n",
      "\n",
      "\n"
     ]
    }
   ],
   "source": [
    "# print number of NAs\n",
    "print('Number of NAs\\n')\n",
    "print(data.isna().sum())\n",
    "print('\\n\\n')"
   ]
  },
  {
   "cell_type": "code",
   "execution_count": 74,
   "id": "4da9d182",
   "metadata": {},
   "outputs": [],
   "source": [
    "# remove single NAN\n",
    "data = data.dropna(how='any')"
   ]
  },
  {
   "cell_type": "code",
   "execution_count": 75,
   "id": "474bdc87",
   "metadata": {},
   "outputs": [
    {
     "data": {
      "text/html": [
       "<div>\n",
       "<style scoped>\n",
       "    .dataframe tbody tr th:only-of-type {\n",
       "        vertical-align: middle;\n",
       "    }\n",
       "\n",
       "    .dataframe tbody tr th {\n",
       "        vertical-align: top;\n",
       "    }\n",
       "\n",
       "    .dataframe thead th {\n",
       "        text-align: right;\n",
       "    }\n",
       "</style>\n",
       "<table border=\"1\" class=\"dataframe\">\n",
       "  <thead>\n",
       "    <tr style=\"text-align: right;\">\n",
       "      <th></th>\n",
       "      <th></th>\n",
       "      <th>count</th>\n",
       "      <th>mean</th>\n",
       "      <th>std</th>\n",
       "      <th>min</th>\n",
       "      <th>25%</th>\n",
       "      <th>50%</th>\n",
       "      <th>75%</th>\n",
       "      <th>max</th>\n",
       "    </tr>\n",
       "    <tr>\n",
       "      <th>category</th>\n",
       "      <th>sensor_ID</th>\n",
       "      <th></th>\n",
       "      <th></th>\n",
       "      <th></th>\n",
       "      <th></th>\n",
       "      <th></th>\n",
       "      <th></th>\n",
       "      <th></th>\n",
       "      <th></th>\n",
       "    </tr>\n",
       "  </thead>\n",
       "  <tbody>\n",
       "    <tr>\n",
       "      <th>flow</th>\n",
       "      <th>TA01_GP101</th>\n",
       "      <td>256307.0</td>\n",
       "      <td>2350.250109</td>\n",
       "      <td>606.496210</td>\n",
       "      <td>1.761400e+03</td>\n",
       "      <td>1860.000000</td>\n",
       "      <td>2059.000000</td>\n",
       "      <td>2738.400000</td>\n",
       "      <td>4206.600000</td>\n",
       "    </tr>\n",
       "    <tr>\n",
       "      <th rowspan=\"4\" valign=\"top\">temperatures</th>\n",
       "      <th>TA01_GT10X_GM10X</th>\n",
       "      <td>256307.0</td>\n",
       "      <td>20.744780</td>\n",
       "      <td>1.277302</td>\n",
       "      <td>1.170000e+01</td>\n",
       "      <td>19.900000</td>\n",
       "      <td>20.300000</td>\n",
       "      <td>21.500000</td>\n",
       "      <td>29.800000</td>\n",
       "    </tr>\n",
       "    <tr>\n",
       "      <th>DC_GT401_GM401</th>\n",
       "      <td>256307.0</td>\n",
       "      <td>49.457779</td>\n",
       "      <td>3.449043</td>\n",
       "      <td>1.540000e+01</td>\n",
       "      <td>48.700000</td>\n",
       "      <td>50.200000</td>\n",
       "      <td>51.200000</td>\n",
       "      <td>56.200000</td>\n",
       "    </tr>\n",
       "    <tr>\n",
       "      <th>DC_GT301_damped</th>\n",
       "      <td>256307.0</td>\n",
       "      <td>-5.075586</td>\n",
       "      <td>6.692212</td>\n",
       "      <td>-2.160000e+01</td>\n",
       "      <td>-10.400000</td>\n",
       "      <td>-3.800000</td>\n",
       "      <td>0.100000</td>\n",
       "      <td>9.300000</td>\n",
       "    </tr>\n",
       "    <tr>\n",
       "      <th>DC_GT301_outdoor</th>\n",
       "      <td>256307.0</td>\n",
       "      <td>-5.044733</td>\n",
       "      <td>6.653601</td>\n",
       "      <td>-2.090000e+01</td>\n",
       "      <td>-10.300000</td>\n",
       "      <td>-3.700000</td>\n",
       "      <td>0.300000</td>\n",
       "      <td>8.400000</td>\n",
       "    </tr>\n",
       "    <tr>\n",
       "      <th>setpoints</th>\n",
       "      <th>TA01_GT10X_GM10X</th>\n",
       "      <td>256307.0</td>\n",
       "      <td>20.661806</td>\n",
       "      <td>0.752603</td>\n",
       "      <td>2.000000e+01</td>\n",
       "      <td>20.000000</td>\n",
       "      <td>20.000000</td>\n",
       "      <td>21.500000</td>\n",
       "      <td>22.100000</td>\n",
       "    </tr>\n",
       "    <tr>\n",
       "      <th rowspan=\"2\" valign=\"top\">sun</th>\n",
       "      <th>gsi</th>\n",
       "      <td>256307.0</td>\n",
       "      <td>29.613519</td>\n",
       "      <td>73.869482</td>\n",
       "      <td>0.000000e+00</td>\n",
       "      <td>0.000000</td>\n",
       "      <td>0.003810</td>\n",
       "      <td>10.347395</td>\n",
       "      <td>491.320000</td>\n",
       "    </tr>\n",
       "    <tr>\n",
       "      <th>vol</th>\n",
       "      <td>256307.0</td>\n",
       "      <td>341.129407</td>\n",
       "      <td>959.522961</td>\n",
       "      <td>0.000000e+00</td>\n",
       "      <td>0.000000</td>\n",
       "      <td>0.000000</td>\n",
       "      <td>0.253368</td>\n",
       "      <td>3600.000000</td>\n",
       "    </tr>\n",
       "    <tr>\n",
       "      <th rowspan=\"2\" valign=\"top\">time</th>\n",
       "      <th>mod</th>\n",
       "      <td>256307.0</td>\n",
       "      <td>0.631371</td>\n",
       "      <td>0.306814</td>\n",
       "      <td>0.000000e+00</td>\n",
       "      <td>0.378649</td>\n",
       "      <td>0.697790</td>\n",
       "      <td>0.917060</td>\n",
       "      <td>1.000000</td>\n",
       "    </tr>\n",
       "    <tr>\n",
       "      <th>doy</th>\n",
       "      <td>256307.0</td>\n",
       "      <td>0.316662</td>\n",
       "      <td>0.202923</td>\n",
       "      <td>1.224647e-16</td>\n",
       "      <td>0.128748</td>\n",
       "      <td>0.296713</td>\n",
       "      <td>0.501242</td>\n",
       "      <td>0.668064</td>\n",
       "    </tr>\n",
       "  </tbody>\n",
       "</table>\n",
       "</div>"
      ],
      "text/plain": [
       "                                  count         mean         std  \\\n",
       "category     sensor_ID                                             \n",
       "flow         TA01_GP101        256307.0  2350.250109  606.496210   \n",
       "temperatures TA01_GT10X_GM10X  256307.0    20.744780    1.277302   \n",
       "             DC_GT401_GM401    256307.0    49.457779    3.449043   \n",
       "             DC_GT301_damped   256307.0    -5.075586    6.692212   \n",
       "             DC_GT301_outdoor  256307.0    -5.044733    6.653601   \n",
       "setpoints    TA01_GT10X_GM10X  256307.0    20.661806    0.752603   \n",
       "sun          gsi               256307.0    29.613519   73.869482   \n",
       "             vol               256307.0   341.129407  959.522961   \n",
       "time         mod               256307.0     0.631371    0.306814   \n",
       "             doy               256307.0     0.316662    0.202923   \n",
       "\n",
       "                                        min          25%          50%  \\\n",
       "category     sensor_ID                                                  \n",
       "flow         TA01_GP101        1.761400e+03  1860.000000  2059.000000   \n",
       "temperatures TA01_GT10X_GM10X  1.170000e+01    19.900000    20.300000   \n",
       "             DC_GT401_GM401    1.540000e+01    48.700000    50.200000   \n",
       "             DC_GT301_damped  -2.160000e+01   -10.400000    -3.800000   \n",
       "             DC_GT301_outdoor -2.090000e+01   -10.300000    -3.700000   \n",
       "setpoints    TA01_GT10X_GM10X  2.000000e+01    20.000000    20.000000   \n",
       "sun          gsi               0.000000e+00     0.000000     0.003810   \n",
       "             vol               0.000000e+00     0.000000     0.000000   \n",
       "time         mod               0.000000e+00     0.378649     0.697790   \n",
       "             doy               1.224647e-16     0.128748     0.296713   \n",
       "\n",
       "                                       75%          max  \n",
       "category     sensor_ID                                   \n",
       "flow         TA01_GP101        2738.400000  4206.600000  \n",
       "temperatures TA01_GT10X_GM10X    21.500000    29.800000  \n",
       "             DC_GT401_GM401      51.200000    56.200000  \n",
       "             DC_GT301_damped      0.100000     9.300000  \n",
       "             DC_GT301_outdoor     0.300000     8.400000  \n",
       "setpoints    TA01_GT10X_GM10X    21.500000    22.100000  \n",
       "sun          gsi                 10.347395   491.320000  \n",
       "             vol                  0.253368  3600.000000  \n",
       "time         mod                  0.917060     1.000000  \n",
       "             doy                  0.501242     0.668064  "
      ]
     },
     "execution_count": 75,
     "metadata": {},
     "output_type": "execute_result"
    }
   ],
   "source": [
    "# describe cols\n",
    "data.describe().transpose()"
   ]
  },
  {
   "cell_type": "code",
   "execution_count": null,
   "id": "1b035e26",
   "metadata": {},
   "outputs": [],
   "source": []
  },
  {
   "cell_type": "markdown",
   "id": "ee866674",
   "metadata": {},
   "source": [
    "## Process / transform variables "
   ]
  },
  {
   "cell_type": "code",
   "execution_count": 76,
   "id": "dd77e450",
   "metadata": {},
   "outputs": [],
   "source": [
    "# remove erroneous setpoints data\n",
    "data = data[data.setpoints.TA01_GT10X_GM10X != 0.0]\n",
    "\n",
    "# # set temp to adjusted for setpoint\n",
    "# data[('temperatures', 'TA01_GT10X_GM10X')] = data.temperatures.TA01_GT10X_GM10X \\\n",
    "#                                                 - (data.setpoints.TA01_GT10X_GM10X - 20.0)\n",
    "\n",
    "# ## Use temperature Diff. w.r.t. setpoint\n",
    "# #data[('temperatures', 'TA01_GT10X_GM10X_diff')] = \\\n",
    "# #    data[('temperatures', 'TA01_GT10X_GM10X')] - data[('setpoints', 'TA01_GT10X_GM10X_default')]\n",
    "\n",
    "# Transform setpoints variable to instead account for difference w.r.t 20 deg C\n",
    "data[('temperatures', 'setpoint_diff')] = data.setpoints.TA01_GT10X_GM10X - 20.0"
   ]
  },
  {
   "cell_type": "code",
   "execution_count": 77,
   "id": "6899c74a",
   "metadata": {},
   "outputs": [],
   "source": [
    "# remove \"OUTLIERS\" from DC-TEMP\n",
    "# data[('temperatures', 'DC_GT401_GM401_roll')] = data.temperatures.DC_GT401_GM401.rolling(window=240, center=False).mean()\n",
    "data[('temperatures', 'DC_GT401_GM401_roll')] = data.temperatures.DC_GT401_GM401.rolling(window=240, center=False).mean()\n",
    "data[('temperatures', 'DC_diff')] = np.abs(data.temperatures.DC_GT401_GM401 - data.temperatures.DC_GT401_GM401_roll)\n",
    "data.loc[data.temperatures.DC_diff > 2, ('temperatures', 'DC_GT401_GM401')] = data.temperatures.DC_GT401_GM401_roll"
   ]
  },
  {
   "cell_type": "code",
   "execution_count": 78,
   "id": "f6bf12ea",
   "metadata": {},
   "outputs": [],
   "source": [
    "# remove \"OUTLIERS\" from DC-FLOW\n",
    "data[('flow', 'TA01_GP101')] = data.flow.TA01_GP101.apply(lambda val: max(1800, val))\n",
    "\n",
    "# squeeze  flow\n",
    "maxVal = data.flow.TA01_GP101.max()\n",
    "minVal = data.flow.TA01_GP101.min()\n",
    "data[('flow', 'TA01_GP101')] = data.flow.TA01_GP101.apply(lambda val: (val - minVal) / (maxVal - minVal))"
   ]
  },
  {
   "cell_type": "code",
   "execution_count": 79,
   "id": "1c8d5078",
   "metadata": {},
   "outputs": [],
   "source": [
    "# # make flow OUT negative\n",
    "# data[('flow', 'FF01_GP101')] = - data.flow.FF01_GP101"
   ]
  },
  {
   "cell_type": "code",
   "execution_count": 80,
   "id": "23e6dae4",
   "metadata": {},
   "outputs": [],
   "source": [
    "# perform FFT \n",
    "fourier = np.fft.rfft( data.temperatures.DC_GT401_GM401.values)\n",
    "\n",
    "# get FREQS\n",
    "spacing = 1 / 100 # i.e. 1/10th of cycle PER step, due to 5-min cycles.\n",
    "#spacing = 1\n",
    "freqs = np.fft.rfftfreq(\n",
    "    n = len(data),\n",
    "    d = spacing\n",
    ")\n",
    "\n",
    "# filter fourier series\n",
    "threshold = 1\n",
    "fourier[freqs > threshold] = 0\n",
    "filtered = np.fft.irfft(fourier)\n",
    "\n",
    "# put in data\n",
    "data.loc[:, ('temperatures', 'DC_GT401_GM401_fft')] = data[('temperatures', 'DC_GT401_GM401')]\n",
    "data[('temperatures', 'DC_GT401_GM401_fft')].iloc[1:] = filtered"
   ]
  },
  {
   "cell_type": "markdown",
   "id": "ffcd953e",
   "metadata": {},
   "source": [
    "### Plot pairwise correlation matrix"
   ]
  },
  {
   "cell_type": "code",
   "execution_count": 81,
   "id": "0c9109f1",
   "metadata": {
    "scrolled": false
   },
   "outputs": [],
   "source": [
    "# corr = data.corr()\n",
    "# mask = np.triu(np.ones_like(corr, dtype=bool))\n",
    "\n",
    "# plt.figure(figsize=(12, 6))\n",
    "# sns.heatmap(corr, mask=mask, vmin=-1.0, vmax=1.0, annot=True)\n",
    "\n",
    "# plt.xticks(rotation=45)\n",
    "# plt.title('Pairwise correlation plot')\n",
    "# plt.show()\n",
    "\n",
    "# # delete correlation data\n",
    "# del corr"
   ]
  },
  {
   "cell_type": "markdown",
   "id": "70925b7a",
   "metadata": {},
   "source": [
    "## Preparing data"
   ]
  },
  {
   "cell_type": "code",
   "execution_count": 82,
   "id": "97925877",
   "metadata": {},
   "outputs": [],
   "source": [
    "t_steps = 20  # 10-min predictions\n",
    "n_steps = 30  # 15 minute backwards look\n",
    "\n",
    "train_frac = 0.8"
   ]
  },
  {
   "cell_type": "markdown",
   "id": "76c623b7",
   "metadata": {},
   "source": [
    "### Data selection and whitening"
   ]
  },
  {
   "cell_type": "code",
   "execution_count": 83,
   "id": "e1b71628",
   "metadata": {},
   "outputs": [],
   "source": [
    "# # save temp mean & std\n",
    "\n",
    "# temp_mean = data.temperatures.TA01_GT10X_GM10X.mean()\n",
    "# temp_std = data.temperatures.TA01_GT10X_GM10X.std()"
   ]
  },
  {
   "cell_type": "code",
   "execution_count": 84,
   "id": "c50092d7",
   "metadata": {},
   "outputs": [],
   "source": [
    "# # normalize all columns\n",
    "for col in data.columns:\n",
    "    data[col] = (data[col] - data[col].mean()) / data[col].std()"
   ]
  },
  {
   "cell_type": "code",
   "execution_count": 85,
   "id": "09bde346",
   "metadata": {},
   "outputs": [],
   "source": [
    "# Define model variables\n",
    "model_vars = [\n",
    "    ('flow', 'TA01_GP101'),\n",
    "    #('flow', 'FF01_GP101'),\n",
    "    ('temperatures', 'TA01_GT10X_GM10X'),\n",
    "    ('temperatures', 'DC_GT401_GM401_fft'),\n",
    "    ('temperatures', 'DC_GT301_damped'),\n",
    "    ('temperatures', 'DC_GT301_outdoor'),\n",
    "    ('temperatures', 'setpoint_diff'),\n",
    "    ('sun', 'gsi'),\n",
    "    ('sun', 'vol'),\n",
    "    ('time', 'mod'),\n",
    "    ('time', 'doy')\n",
    "]\n",
    "\n",
    "# filter data\n",
    "data = data[model_vars]"
   ]
  },
  {
   "cell_type": "code",
   "execution_count": 86,
   "id": "14f80316",
   "metadata": {},
   "outputs": [],
   "source": [
    "# define target\n",
    "# targets = data.pop(('temperatures', 'TA01_GT10X_GM10X')).shift(periods=-t_steps)  # 0-minute forward\n",
    "targets = data[('temperatures', 'TA01_GT10X_GM10X')].copy().shift(periods=-t_steps)\n",
    "\n",
    "# remove NaNs\n",
    "targets = targets.iloc[:-t_steps]\n",
    "data = data.iloc[:-t_steps]"
   ]
  },
  {
   "cell_type": "markdown",
   "id": "d1580b7f",
   "metadata": {},
   "source": [
    "### Create sequences"
   ]
  },
  {
   "cell_type": "code",
   "execution_count": 87,
   "id": "9da516c5",
   "metadata": {},
   "outputs": [],
   "source": [
    "def date_flagger(data, n_steps):\n",
    "    # get flagged dates\n",
    "    data['minute'] = data.index.get_level_values(3).values\n",
    "    data['date_flag'] = data.minute - data.minute.shift(periods=n_steps) > n_steps / 2\n",
    "\n",
    "    # get positions in data, w.r.t. n_step removed observations at start\n",
    "    flagged_idx = np.where(data.date_flag.values == 1)\n",
    "    flagged_idx = flagged_idx[0] - n_steps\n",
    "    \n",
    "    del data['minute'], data['date_flag']\n",
    "    \n",
    "    return flagged_idx"
   ]
  },
  {
   "cell_type": "code",
   "execution_count": 88,
   "id": "8d0e56b1",
   "metadata": {},
   "outputs": [],
   "source": [
    "# get all n_step-sequences from data series\n",
    "sequences = np.stack([\n",
    "    data.values[i:i+n_steps, :] for i in range(len(data) - n_steps)\n",
    "]) \n",
    "\n",
    "# get flagged sequences\n",
    "flags = date_flagger(data, n_steps)\n",
    "\n",
    "# get mask f. flags\n",
    "mask = [idx not in flags for idx in range(len(sequences))]\n",
    "sequences = sequences[mask]\n",
    "\n",
    "# get targets, delete mask\n",
    "targets = targets.values[n_steps:][mask]"
   ]
  },
  {
   "cell_type": "code",
   "execution_count": 89,
   "id": "11800e1d",
   "metadata": {
    "scrolled": true
   },
   "outputs": [],
   "source": [
    "# delete data \n",
    "del data\n",
    "\n",
    "# save sequential seqs, targets for testing\n",
    "sequences, test_seqs  = sequences[:-8640], sequences[-8640:]\n",
    "targets, test_targets = targets[:-8640], targets[-8640:]"
   ]
  },
  {
   "cell_type": "markdown",
   "id": "ed3989e0",
   "metadata": {},
   "source": [
    "### Shuffle and split dataset"
   ]
  },
  {
   "cell_type": "code",
   "execution_count": 22,
   "id": "6852f5f2",
   "metadata": {},
   "outputs": [],
   "source": [
    "# get random indices\n",
    "idxs = np.arange(len(targets))\n",
    "np.random.shuffle(idxs)\n",
    "\n",
    "# shuffle sequences and targets\n",
    "sequences = np.squeeze(sequences[idxs])\n",
    "targets = np.squeeze(targets[idxs])\n"
   ]
  },
  {
   "cell_type": "code",
   "execution_count": 23,
   "id": "f46f1ee9",
   "metadata": {},
   "outputs": [],
   "source": [
    "# split data\n",
    "train_n = int(len(targets) * train_frac)\n",
    "#test_n = len(targets) - train_n\n",
    "\n",
    "X_train, X_test = sequences[:train_n], sequences[train_n:]\n",
    "Y_train, Y_test = targets[:train_n], targets[train_n:]"
   ]
  },
  {
   "cell_type": "code",
   "execution_count": 24,
   "id": "6e8938ab",
   "metadata": {},
   "outputs": [],
   "source": [
    "# delete vars\n",
    "del sequences, targets"
   ]
  },
  {
   "cell_type": "markdown",
   "id": "6902451d",
   "metadata": {},
   "source": [
    "## Define model"
   ]
  },
  {
   "cell_type": "code",
   "execution_count": 25,
   "id": "9ef8eb24",
   "metadata": {},
   "outputs": [],
   "source": [
    "layerList = [\n",
    "    layers.Input(shape=(\n",
    "        X_train.shape[1],\n",
    "        X_train.shape[2]\n",
    "    )),\n",
    "    layers.BatchNormalization(),\n",
    "    layers.LSTM(\n",
    "        units=32,\n",
    "#         units=16,\n",
    "        activation='tanh',\n",
    "        return_sequences=True,\n",
    "        recurrent_activation='sigmoid',\n",
    "        activity_regularizer='l2',\n",
    "        recurrent_dropout=0.2\n",
    "    ),\n",
    "    layers.BatchNormalization(),\n",
    "    layers.LSTM(\n",
    "        units=32,\n",
    "#         units=16,\n",
    "        activation='tanh',\n",
    "        recurrent_activation='sigmoid',\n",
    "        activity_regularizer='l2',\n",
    "        recurrent_dropout=0.2\n",
    "    ),\n",
    "    #layers.Flatten(),\n",
    "    layers.BatchNormalization(),\n",
    "    layers.Dropout(rate=0.5),\n",
    "    layers.Dense(\n",
    "        units=256,\n",
    "#         activation=None,\n",
    "        activation='relu',\n",
    "        activity_regularizer='l2'\n",
    "    ),\n",
    "    layers.BatchNormalization(),\n",
    "    layers.Dropout(rate=0.5),\n",
    "    layers.Dense(\n",
    "        units=256,\n",
    "#         activation=None,\n",
    "        activation='relu',\n",
    "        activity_regularizer='l2'\n",
    "    ),\n",
    "    layers.BatchNormalization(),\n",
    "    \n",
    "    layers.Dense(\n",
    "        units=1,\n",
    "        activation=None,\n",
    "        activity_regularizer='l2'\n",
    "    )\n",
    "]"
   ]
  },
  {
   "cell_type": "code",
   "execution_count": 26,
   "id": "a084f824",
   "metadata": {},
   "outputs": [
    {
     "name": "stdout",
     "output_type": "stream",
     "text": [
      "Model: \"model\"\n",
      "_________________________________________________________________\n",
      " Layer (type)                Output Shape              Param #   \n",
      "=================================================================\n",
      " batch_normalization (BatchN  (None, 30, 10)           40        \n",
      " ormalization)                                                   \n",
      "                                                                 \n",
      " lstm (LSTM)                 (None, 30, 32)            5504      \n",
      "                                                                 \n",
      " batch_normalization_1 (Batc  (None, 30, 32)           128       \n",
      " hNormalization)                                                 \n",
      "                                                                 \n",
      " lstm_1 (LSTM)               (None, 32)                8320      \n",
      "                                                                 \n",
      " batch_normalization_2 (Batc  (None, 32)               128       \n",
      " hNormalization)                                                 \n",
      "                                                                 \n",
      " dropout (Dropout)           (None, 32)                0         \n",
      "                                                                 \n",
      " dense (Dense)               (None, 256)               8448      \n",
      "                                                                 \n",
      " batch_normalization_3 (Batc  (None, 256)              1024      \n",
      " hNormalization)                                                 \n",
      "                                                                 \n",
      " dropout_1 (Dropout)         (None, 256)               0         \n",
      "                                                                 \n",
      " dense_1 (Dense)             (None, 256)               65792     \n",
      "                                                                 \n",
      " batch_normalization_4 (Batc  (None, 256)              1024      \n",
      " hNormalization)                                                 \n",
      "                                                                 \n",
      " dense_2 (Dense)             (None, 1)                 257       \n",
      "                                                                 \n",
      "=================================================================\n",
      "Total params: 90,665\n",
      "Trainable params: 89,493\n",
      "Non-trainable params: 1,172\n",
      "_________________________________________________________________\n"
     ]
    }
   ],
   "source": [
    "# lr = 0.005\n",
    "lr = 0.001\n",
    "model = tf.keras.models.Sequential(layers=layerList, name='model')\n",
    "model.compile(optimizer=tf.keras.optimizers.Adam(learning_rate=lr), loss=\"mse\")\n",
    "model.summary()"
   ]
  },
  {
   "cell_type": "code",
   "execution_count": 27,
   "id": "1a78798f",
   "metadata": {
    "scrolled": false
   },
   "outputs": [
    {
     "name": "stdout",
     "output_type": "stream",
     "text": [
      "Epoch 1/20\n",
      "1238/1238 [==============================] - 112s 87ms/step - loss: 0.9209 - val_loss: 0.4844\n",
      "Epoch 2/20\n",
      "1238/1238 [==============================] - 88s 71ms/step - loss: 0.2323 - val_loss: 0.3037\n",
      "Epoch 3/20\n",
      "1238/1238 [==============================] - 101s 81ms/step - loss: 0.1798 - val_loss: 0.1967\n",
      "Epoch 4/20\n",
      "1238/1238 [==============================] - 107s 86ms/step - loss: 0.1578 - val_loss: 0.1613\n",
      "Epoch 5/20\n",
      "1238/1238 [==============================] - 93s 75ms/step - loss: 0.1404 - val_loss: 0.1656\n",
      "Epoch 6/20\n",
      "1238/1238 [==============================] - 93s 75ms/step - loss: 0.1290 - val_loss: 0.1275\n",
      "Epoch 7/20\n",
      "1238/1238 [==============================] - 80s 65ms/step - loss: 0.1215 - val_loss: 0.1087\n",
      "Epoch 8/20\n",
      "1238/1238 [==============================] - 92s 74ms/step - loss: 0.1181 - val_loss: 0.0985\n",
      "Epoch 9/20\n",
      "1238/1238 [==============================] - 93s 75ms/step - loss: 0.1148 - val_loss: 0.1105\n",
      "Epoch 10/20\n",
      "1238/1238 [==============================] - 87s 70ms/step - loss: 0.1139 - val_loss: 0.1245\n",
      "Epoch 11/20\n",
      "1238/1238 [==============================] - 86s 70ms/step - loss: 0.1097 - val_loss: 0.1081\n",
      "Epoch 12/20\n",
      "1238/1238 [==============================] - 84s 68ms/step - loss: 0.1085 - val_loss: 0.0842\n",
      "Epoch 13/20\n",
      "1238/1238 [==============================] - 76s 62ms/step - loss: 0.1067 - val_loss: 0.0854\n",
      "Epoch 14/20\n",
      "1238/1238 [==============================] - 69s 56ms/step - loss: 0.1052 - val_loss: 0.0764\n",
      "Epoch 15/20\n",
      "1238/1238 [==============================] - 72s 58ms/step - loss: 0.1041 - val_loss: 0.0979\n",
      "Epoch 16/20\n",
      "1238/1238 [==============================] - 72s 58ms/step - loss: 0.1027 - val_loss: 0.0874\n",
      "Epoch 17/20\n",
      "1238/1238 [==============================] - 78s 63ms/step - loss: 0.1031 - val_loss: 0.0864\n",
      "Epoch 18/20\n",
      "1238/1238 [==============================] - 69s 56ms/step - loss: 0.1010 - val_loss: 0.0861\n",
      "Epoch 19/20\n",
      "1238/1238 [==============================] - 76s 61ms/step - loss: 0.0994 - val_loss: 0.1135\n"
     ]
    }
   ],
   "source": [
    "trainHist = model.fit(\n",
    "    X_train,\n",
    "    Y_train,\n",
    "    epochs=20,\n",
    "    batch_size=128,\n",
    "    validation_split=0.2,\n",
    "    callbacks=[\n",
    "        tf.keras.callbacks.EarlyStopping(monitor=\"val_loss\", patience=5, mode=\"min\"),\n",
    "#         tf.keras.callbacks.LearningRateScheduler(lambda epoch: lr * (0.9 ** epoch))\n",
    "    ],\n",
    ")"
   ]
  },
  {
   "cell_type": "code",
   "execution_count": 28,
   "id": "ac563a02",
   "metadata": {
    "scrolled": true
   },
   "outputs": [],
   "source": [
    "# model_name = 'temp_model_v7'\n",
    "# model.save(save_path + model_name)"
   ]
  },
  {
   "cell_type": "code",
   "execution_count": 29,
   "id": "de5a20b1",
   "metadata": {},
   "outputs": [
    {
     "name": "stdout",
     "output_type": "stream",
     "text": [
      "1548/1548 [==============================] - 10s 6ms/step\n",
      "270/270 [==============================] - 2s 6ms/step\n"
     ]
    }
   ],
   "source": [
    "preds = model.predict(X_test)\n",
    "vis_preds = model.predict(test_seqs)"
   ]
  },
  {
   "cell_type": "code",
   "execution_count": 30,
   "id": "daafc959",
   "metadata": {},
   "outputs": [],
   "source": [
    "test_mae = np.abs(np.squeeze(preds) - Y_test) \n",
    "temp_diffs = test_mae# * temp_std"
   ]
  },
  {
   "cell_type": "code",
   "execution_count": 31,
   "id": "11176323",
   "metadata": {},
   "outputs": [
    {
     "data": {
      "image/png": "[encoded data removed]",
      "text/plain": [
       "<Figure size 640x480 with 1 Axes>"
      ]
     },
     "metadata": {},
     "output_type": "display_data"
    }
   ],
   "source": [
    "diff_df = pd.DataFrame(temp_diffs)\n",
    "\n",
    "sns.histplot(\n",
    "    data=diff_df,\n",
    "    stat='count',\n",
    "    binwidth=0.01,\n",
    "    binrange=[0, 2.0],\n",
    "    kde=False,\n",
    "    palette='bright',\n",
    "    legend=False\n",
    ")\n",
    "\n",
    "plt.title('Distribution of MAE for 10-minute forward predictions')\n",
    "plt.xlim(0, 2.0)\n",
    "plt.xlabel('Temperature error, $^\\circ$C')\n",
    "\n",
    "#plt.savefig(plot_path + 'temp_error_dist.png', bbox_inches='tight', dpi=200)\n",
    "plt.show()"
   ]
  },
  {
   "cell_type": "code",
   "execution_count": 33,
   "id": "ece2e592",
   "metadata": {
    "scrolled": false
   },
   "outputs": [
    {
     "data": {
      "image/png": "[encoded data removed]",
      "text/plain": [
       "<Figure size 640x480 with 1 Axes>"
      ]
     },
     "metadata": {},
     "output_type": "display_data"
    }
   ],
   "source": [
    "plt.plot(\n",
    "    np.squeeze(test_targets),# * temp_std + temp_mean,\n",
    "    c='b',\n",
    "    alpha=0.6,\n",
    "    linewidth=2.5,\n",
    "    label='Real'\n",
    ")\n",
    "\n",
    "plt.plot(\n",
    "    vis_preds,# * temp_std + temp_mean,\n",
    "    c='r',\n",
    "    alpha=0.8,\n",
    "    linewidth=1.5,\n",
    "    label='Predicted'\n",
    ")\n",
    "\n",
    "plt.ylabel('Temperature, $^\\circ$C')\n",
    "plt.xlabel('Steps, $t$')\n",
    "plt.legend(loc='upper left')\n",
    "plt.title('Temperature - 10-minute forward predictions')\n",
    "\n",
    "#plt.ylim(15, 30)\n",
    "plt.xlim(0, len(vis_preds))\n",
    "\n",
    "#plt.savefig(plot_path + 'temp_preds_10min.png', bbox_inches='tight', dpi=200)\n",
    "\n",
    "plt.show()"
   ]
  },
  {
   "cell_type": "code",
   "execution_count": 321,
   "id": "e098dd5a",
   "metadata": {},
   "outputs": [],
   "source": [
    "# ex_seqs[0, 0, :]"
   ]
  },
  {
   "cell_type": "code",
   "execution_count": 113,
   "id": "d8c4bcd8",
   "metadata": {},
   "outputs": [],
   "source": [
    "# ex_seqs = test_seqs.copy()\n",
    "# ex_seqs[:, :, 0] = -4\n",
    "# #ex_seqs[:, :, 1] = 300\n",
    "# #ex_seqs[:, :, 2] = 20\n",
    "# ex_preds = model.predict(ex_seqs[:1, :, :])"
   ]
  },
  {
   "cell_type": "code",
   "execution_count": 114,
   "id": "4fef8b81",
   "metadata": {},
   "outputs": [],
   "source": [
    "# valList = []\n",
    "# for i in range(-4000, 4000):\n",
    "#     ex_seqs[:1, :, 0] = np.random.normal(loc=i, scale=500, size=30)\n",
    "#     #pred = model.predict(ex_seqs, verbose=0)\n",
    "#     valList.append(ex_seqs[:1, :, :].copy())\n",
    "# vals = np.vstack(valList)\n",
    "# preds = model.predict(np.vstack(valList))"
   ]
  },
  {
   "cell_type": "code",
   "execution_count": 116,
   "id": "d289fc54",
   "metadata": {},
   "outputs": [
    {
     "name": "stdout",
     "output_type": "stream",
     "text": [
      "Sequence 0\n",
      "Sequence 100\n",
      "Sequence 200\n",
      "Sequence 300\n",
      "Sequence 400\n",
      "Sequence 500\n",
      "Sequence 600\n",
      "Sequence 700\n",
      "Sequence 800\n",
      "Sequence 900\n",
      "Sequence 1000\n",
      "Sequence 1100\n",
      "Sequence 1200\n",
      "Sequence 1300\n",
      "Sequence 1400\n",
      "Sequence 1500\n",
      "Sequence 1600\n",
      "Sequence 1700\n",
      "Sequence 1800\n",
      "Sequence 1900\n",
      "Sequence 2000\n",
      "Sequence 2100\n",
      "Sequence 2200\n",
      "Sequence 2300\n",
      "Sequence 2400\n",
      "Sequence 2500\n",
      "Sequence 2600\n",
      "Sequence 2700\n",
      "Sequence 2800\n",
      "Sequence 2900\n",
      "Sequence 3000\n",
      "Sequence 3100\n",
      "Sequence 3200\n",
      "Sequence 3300\n",
      "Sequence 3400\n",
      "Sequence 3500\n",
      "Sequence 3600\n",
      "Sequence 3700\n",
      "Sequence 3800\n",
      "Sequence 3900\n",
      "Sequence 4000\n",
      "Sequence 4100\n",
      "Sequence 4200\n",
      "Sequence 4300\n",
      "Sequence 4400\n"
     ]
    },
    {
     "ename": "KeyboardInterrupt",
     "evalue": "",
     "output_type": "error",
     "traceback": [
      "\u001b[1;31m---------------------------------------------------------------------------\u001b[0m",
      "\u001b[1;31mKeyboardInterrupt\u001b[0m                         Traceback (most recent call last)",
      "\u001b[1;32m~\\AppData\\Local\\Temp\\ipykernel_2032\\1204681488.py\u001b[0m in \u001b[0;36m<module>\u001b[1;34m\u001b[0m\n\u001b[0;32m      7\u001b[0m     \u001b[0mnewVal\u001b[0m \u001b[1;33m=\u001b[0m \u001b[0mseq\u001b[0m\u001b[1;33m[\u001b[0m\u001b[1;33m:\u001b[0m\u001b[1;33m,\u001b[0m \u001b[1;36m0\u001b[0m\u001b[1;33m]\u001b[0m \u001b[1;33m+\u001b[0m \u001b[0mnp\u001b[0m\u001b[1;33m.\u001b[0m\u001b[0mrandom\u001b[0m\u001b[1;33m.\u001b[0m\u001b[0mnormal\u001b[0m\u001b[1;33m(\u001b[0m\u001b[0mloc\u001b[0m\u001b[1;33m=\u001b[0m\u001b[1;36m2.0\u001b[0m\u001b[1;33m,\u001b[0m \u001b[0mscale\u001b[0m\u001b[1;33m=\u001b[0m\u001b[1;36m0.5\u001b[0m\u001b[1;33m)\u001b[0m\u001b[1;33m\u001b[0m\u001b[1;33m\u001b[0m\u001b[0m\n\u001b[0;32m      8\u001b[0m     \u001b[0mseq\u001b[0m\u001b[1;33m[\u001b[0m\u001b[1;33m:\u001b[0m\u001b[1;33m,\u001b[0m \u001b[1;36m0\u001b[0m\u001b[1;33m]\u001b[0m \u001b[1;33m=\u001b[0m \u001b[0mnewVal\u001b[0m\u001b[1;33m\u001b[0m\u001b[1;33m\u001b[0m\u001b[0m\n\u001b[1;32m----> 9\u001b[1;33m     \u001b[0mpred\u001b[0m \u001b[1;33m=\u001b[0m \u001b[0mmodel\u001b[0m\u001b[1;33m.\u001b[0m\u001b[0mpredict\u001b[0m\u001b[1;33m(\u001b[0m\u001b[0mseq\u001b[0m\u001b[1;33m[\u001b[0m\u001b[0mnp\u001b[0m\u001b[1;33m.\u001b[0m\u001b[0mnewaxis\u001b[0m\u001b[1;33m,\u001b[0m \u001b[1;33m...\u001b[0m\u001b[1;33m]\u001b[0m\u001b[1;33m,\u001b[0m \u001b[0mverbose\u001b[0m\u001b[1;33m=\u001b[0m\u001b[1;36m0\u001b[0m\u001b[1;33m)\u001b[0m\u001b[1;33m[\u001b[0m\u001b[1;36m0\u001b[0m\u001b[1;33m,\u001b[0m \u001b[1;36m0\u001b[0m\u001b[1;33m]\u001b[0m\u001b[1;33m\u001b[0m\u001b[1;33m\u001b[0m\u001b[0m\n\u001b[0m\u001b[0;32m     10\u001b[0m     \u001b[0mpredList\u001b[0m\u001b[1;33m.\u001b[0m\u001b[0mappend\u001b[0m\u001b[1;33m(\u001b[0m\u001b[0mpred\u001b[0m\u001b[1;33m)\u001b[0m\u001b[1;33m\u001b[0m\u001b[1;33m\u001b[0m\u001b[0m\n\u001b[0;32m     11\u001b[0m     \u001b[1;32mfor\u001b[0m \u001b[0mi\u001b[0m \u001b[1;32min\u001b[0m \u001b[0mrange\u001b[0m\u001b[1;33m(\u001b[0m\u001b[1;36m1\u001b[0m\u001b[1;33m,\u001b[0m \u001b[1;36m31\u001b[0m\u001b[1;33m)\u001b[0m\u001b[1;33m:\u001b[0m\u001b[1;33m\u001b[0m\u001b[1;33m\u001b[0m\u001b[0m\n",
      "\u001b[1;32m~\\anaconda3\\lib\\site-packages\\keras\\utils\\traceback_utils.py\u001b[0m in \u001b[0;36merror_handler\u001b[1;34m(*args, **kwargs)\u001b[0m\n\u001b[0;32m     63\u001b[0m         \u001b[0mfiltered_tb\u001b[0m \u001b[1;33m=\u001b[0m \u001b[1;32mNone\u001b[0m\u001b[1;33m\u001b[0m\u001b[1;33m\u001b[0m\u001b[0m\n\u001b[0;32m     64\u001b[0m         \u001b[1;32mtry\u001b[0m\u001b[1;33m:\u001b[0m\u001b[1;33m\u001b[0m\u001b[1;33m\u001b[0m\u001b[0m\n\u001b[1;32m---> 65\u001b[1;33m             \u001b[1;32mreturn\u001b[0m \u001b[0mfn\u001b[0m\u001b[1;33m(\u001b[0m\u001b[1;33m*\u001b[0m\u001b[0margs\u001b[0m\u001b[1;33m,\u001b[0m \u001b[1;33m**\u001b[0m\u001b[0mkwargs\u001b[0m\u001b[1;33m)\u001b[0m\u001b[1;33m\u001b[0m\u001b[1;33m\u001b[0m\u001b[0m\n\u001b[0m\u001b[0;32m     66\u001b[0m         \u001b[1;32mexcept\u001b[0m \u001b[0mException\u001b[0m \u001b[1;32mas\u001b[0m \u001b[0me\u001b[0m\u001b[1;33m:\u001b[0m\u001b[1;33m\u001b[0m\u001b[1;33m\u001b[0m\u001b[0m\n\u001b[0;32m     67\u001b[0m             \u001b[0mfiltered_tb\u001b[0m \u001b[1;33m=\u001b[0m \u001b[0m_process_traceback_frames\u001b[0m\u001b[1;33m(\u001b[0m\u001b[0me\u001b[0m\u001b[1;33m.\u001b[0m\u001b[0m__traceback__\u001b[0m\u001b[1;33m)\u001b[0m\u001b[1;33m\u001b[0m\u001b[1;33m\u001b[0m\u001b[0m\n",
      "\u001b[1;32m~\\anaconda3\\lib\\site-packages\\keras\\engine\\training.py\u001b[0m in \u001b[0;36mpredict\u001b[1;34m(self, x, batch_size, verbose, steps, callbacks, max_queue_size, workers, use_multiprocessing)\u001b[0m\n\u001b[0;32m   2344\u001b[0m             \u001b[0mcallbacks\u001b[0m\u001b[1;33m.\u001b[0m\u001b[0mon_predict_begin\u001b[0m\u001b[1;33m(\u001b[0m\u001b[1;33m)\u001b[0m\u001b[1;33m\u001b[0m\u001b[1;33m\u001b[0m\u001b[0m\n\u001b[0;32m   2345\u001b[0m             \u001b[0mbatch_outputs\u001b[0m \u001b[1;33m=\u001b[0m \u001b[1;32mNone\u001b[0m\u001b[1;33m\u001b[0m\u001b[1;33m\u001b[0m\u001b[0m\n\u001b[1;32m-> 2346\u001b[1;33m             \u001b[1;32mfor\u001b[0m \u001b[0m_\u001b[0m\u001b[1;33m,\u001b[0m \u001b[0miterator\u001b[0m \u001b[1;32min\u001b[0m \u001b[0mdata_handler\u001b[0m\u001b[1;33m.\u001b[0m\u001b[0menumerate_epochs\u001b[0m\u001b[1;33m(\u001b[0m\u001b[1;33m)\u001b[0m\u001b[1;33m:\u001b[0m  \u001b[1;31m# Single epoch.\u001b[0m\u001b[1;33m\u001b[0m\u001b[1;33m\u001b[0m\u001b[0m\n\u001b[0m\u001b[0;32m   2347\u001b[0m                 \u001b[1;32mwith\u001b[0m \u001b[0mdata_handler\u001b[0m\u001b[1;33m.\u001b[0m\u001b[0mcatch_stop_iteration\u001b[0m\u001b[1;33m(\u001b[0m\u001b[1;33m)\u001b[0m\u001b[1;33m:\u001b[0m\u001b[1;33m\u001b[0m\u001b[1;33m\u001b[0m\u001b[0m\n\u001b[0;32m   2348\u001b[0m                     \u001b[1;32mfor\u001b[0m \u001b[0mstep\u001b[0m \u001b[1;32min\u001b[0m \u001b[0mdata_handler\u001b[0m\u001b[1;33m.\u001b[0m\u001b[0msteps\u001b[0m\u001b[1;33m(\u001b[0m\u001b[1;33m)\u001b[0m\u001b[1;33m:\u001b[0m\u001b[1;33m\u001b[0m\u001b[1;33m\u001b[0m\u001b[0m\n",
      "\u001b[1;32m~\\anaconda3\\lib\\site-packages\\keras\\engine\\data_adapter.py\u001b[0m in \u001b[0;36menumerate_epochs\u001b[1;34m(self)\u001b[0m\n\u001b[0;32m   1302\u001b[0m         \u001b[1;34m\"\"\"Yields `(epoch, tf.data.Iterator)`.\"\"\"\u001b[0m\u001b[1;33m\u001b[0m\u001b[1;33m\u001b[0m\u001b[0m\n\u001b[0;32m   1303\u001b[0m         \u001b[1;32mwith\u001b[0m \u001b[0mself\u001b[0m\u001b[1;33m.\u001b[0m\u001b[0m_truncate_execution_to_epoch\u001b[0m\u001b[1;33m(\u001b[0m\u001b[1;33m)\u001b[0m\u001b[1;33m:\u001b[0m\u001b[1;33m\u001b[0m\u001b[1;33m\u001b[0m\u001b[0m\n\u001b[1;32m-> 1304\u001b[1;33m             \u001b[0mdata_iterator\u001b[0m \u001b[1;33m=\u001b[0m \u001b[0miter\u001b[0m\u001b[1;33m(\u001b[0m\u001b[0mself\u001b[0m\u001b[1;33m.\u001b[0m\u001b[0m_dataset\u001b[0m\u001b[1;33m)\u001b[0m\u001b[1;33m\u001b[0m\u001b[1;33m\u001b[0m\u001b[0m\n\u001b[0m\u001b[0;32m   1305\u001b[0m             \u001b[1;32mfor\u001b[0m \u001b[0mepoch\u001b[0m \u001b[1;32min\u001b[0m \u001b[0mrange\u001b[0m\u001b[1;33m(\u001b[0m\u001b[0mself\u001b[0m\u001b[1;33m.\u001b[0m\u001b[0m_initial_epoch\u001b[0m\u001b[1;33m,\u001b[0m \u001b[0mself\u001b[0m\u001b[1;33m.\u001b[0m\u001b[0m_epochs\u001b[0m\u001b[1;33m)\u001b[0m\u001b[1;33m:\u001b[0m\u001b[1;33m\u001b[0m\u001b[1;33m\u001b[0m\u001b[0m\n\u001b[0;32m   1306\u001b[0m                 \u001b[1;32mif\u001b[0m \u001b[0mself\u001b[0m\u001b[1;33m.\u001b[0m\u001b[0m_insufficient_data\u001b[0m\u001b[1;33m:\u001b[0m  \u001b[1;31m# Set by `catch_stop_iteration`.\u001b[0m\u001b[1;33m\u001b[0m\u001b[1;33m\u001b[0m\u001b[0m\n",
      "\u001b[1;32m~\\anaconda3\\lib\\site-packages\\tensorflow\\python\\data\\ops\\dataset_ops.py\u001b[0m in \u001b[0;36m__iter__\u001b[1;34m(self)\u001b[0m\n\u001b[0;32m    497\u001b[0m     \u001b[1;32mif\u001b[0m \u001b[0mcontext\u001b[0m\u001b[1;33m.\u001b[0m\u001b[0mexecuting_eagerly\u001b[0m\u001b[1;33m(\u001b[0m\u001b[1;33m)\u001b[0m \u001b[1;32mor\u001b[0m \u001b[0mops\u001b[0m\u001b[1;33m.\u001b[0m\u001b[0minside_function\u001b[0m\u001b[1;33m(\u001b[0m\u001b[1;33m)\u001b[0m\u001b[1;33m:\u001b[0m\u001b[1;33m\u001b[0m\u001b[1;33m\u001b[0m\u001b[0m\n\u001b[0;32m    498\u001b[0m       \u001b[1;32mwith\u001b[0m \u001b[0mops\u001b[0m\u001b[1;33m.\u001b[0m\u001b[0mcolocate_with\u001b[0m\u001b[1;33m(\u001b[0m\u001b[0mself\u001b[0m\u001b[1;33m.\u001b[0m\u001b[0m_variant_tensor\u001b[0m\u001b[1;33m)\u001b[0m\u001b[1;33m:\u001b[0m\u001b[1;33m\u001b[0m\u001b[1;33m\u001b[0m\u001b[0m\n\u001b[1;32m--> 499\u001b[1;33m         \u001b[1;32mreturn\u001b[0m \u001b[0miterator_ops\u001b[0m\u001b[1;33m.\u001b[0m\u001b[0mOwnedIterator\u001b[0m\u001b[1;33m(\u001b[0m\u001b[0mself\u001b[0m\u001b[1;33m)\u001b[0m\u001b[1;33m\u001b[0m\u001b[1;33m\u001b[0m\u001b[0m\n\u001b[0m\u001b[0;32m    500\u001b[0m     \u001b[1;32melse\u001b[0m\u001b[1;33m:\u001b[0m\u001b[1;33m\u001b[0m\u001b[1;33m\u001b[0m\u001b[0m\n\u001b[0;32m    501\u001b[0m       raise RuntimeError(\"`tf.data.Dataset` only supports Python-style \"\n",
      "\u001b[1;32m~\\anaconda3\\lib\\site-packages\\tensorflow\\python\\data\\ops\\iterator_ops.py\u001b[0m in \u001b[0;36m__init__\u001b[1;34m(self, dataset, components, element_spec)\u001b[0m\n\u001b[0;32m    701\u001b[0m             \u001b[1;34m\"When `dataset` is provided, `element_spec` and `components` must \"\u001b[0m\u001b[1;33m\u001b[0m\u001b[1;33m\u001b[0m\u001b[0m\n\u001b[0;32m    702\u001b[0m             \"not be specified.\")\n\u001b[1;32m--> 703\u001b[1;33m       \u001b[0mself\u001b[0m\u001b[1;33m.\u001b[0m\u001b[0m_create_iterator\u001b[0m\u001b[1;33m(\u001b[0m\u001b[0mdataset\u001b[0m\u001b[1;33m)\u001b[0m\u001b[1;33m\u001b[0m\u001b[1;33m\u001b[0m\u001b[0m\n\u001b[0m\u001b[0;32m    704\u001b[0m \u001b[1;33m\u001b[0m\u001b[0m\n\u001b[0;32m    705\u001b[0m     \u001b[0mself\u001b[0m\u001b[1;33m.\u001b[0m\u001b[0m_get_next_call_count\u001b[0m \u001b[1;33m=\u001b[0m \u001b[1;36m0\u001b[0m\u001b[1;33m\u001b[0m\u001b[1;33m\u001b[0m\u001b[0m\n",
      "\u001b[1;32m~\\anaconda3\\lib\\site-packages\\tensorflow\\python\\data\\ops\\iterator_ops.py\u001b[0m in \u001b[0;36m_create_iterator\u001b[1;34m(self, dataset)\u001b[0m\n\u001b[0;32m    740\u001b[0m             self._flat_output_types)\n\u001b[0;32m    741\u001b[0m         \u001b[0mself\u001b[0m\u001b[1;33m.\u001b[0m\u001b[0m_iterator_resource\u001b[0m\u001b[1;33m.\u001b[0m\u001b[0mop\u001b[0m\u001b[1;33m.\u001b[0m\u001b[0mexperimental_set_type\u001b[0m\u001b[1;33m(\u001b[0m\u001b[0mfulltype\u001b[0m\u001b[1;33m)\u001b[0m\u001b[1;33m\u001b[0m\u001b[1;33m\u001b[0m\u001b[0m\n\u001b[1;32m--> 742\u001b[1;33m       \u001b[0mgen_dataset_ops\u001b[0m\u001b[1;33m.\u001b[0m\u001b[0mmake_iterator\u001b[0m\u001b[1;33m(\u001b[0m\u001b[0mds_variant\u001b[0m\u001b[1;33m,\u001b[0m \u001b[0mself\u001b[0m\u001b[1;33m.\u001b[0m\u001b[0m_iterator_resource\u001b[0m\u001b[1;33m)\u001b[0m\u001b[1;33m\u001b[0m\u001b[1;33m\u001b[0m\u001b[0m\n\u001b[0m\u001b[0;32m    743\u001b[0m \u001b[1;33m\u001b[0m\u001b[0m\n\u001b[0;32m    744\u001b[0m   \u001b[1;32mdef\u001b[0m \u001b[0m__iter__\u001b[0m\u001b[1;33m(\u001b[0m\u001b[0mself\u001b[0m\u001b[1;33m)\u001b[0m\u001b[1;33m:\u001b[0m\u001b[1;33m\u001b[0m\u001b[1;33m\u001b[0m\u001b[0m\n",
      "\u001b[1;32m~\\anaconda3\\lib\\site-packages\\tensorflow\\python\\ops\\gen_dataset_ops.py\u001b[0m in \u001b[0;36mmake_iterator\u001b[1;34m(dataset, iterator, name)\u001b[0m\n\u001b[0;32m   3437\u001b[0m   \u001b[1;32mif\u001b[0m \u001b[0mtld\u001b[0m\u001b[1;33m.\u001b[0m\u001b[0mis_eager\u001b[0m\u001b[1;33m:\u001b[0m\u001b[1;33m\u001b[0m\u001b[1;33m\u001b[0m\u001b[0m\n\u001b[0;32m   3438\u001b[0m     \u001b[1;32mtry\u001b[0m\u001b[1;33m:\u001b[0m\u001b[1;33m\u001b[0m\u001b[1;33m\u001b[0m\u001b[0m\n\u001b[1;32m-> 3439\u001b[1;33m       _result = pywrap_tfe.TFE_Py_FastPathExecute(\n\u001b[0m\u001b[0;32m   3440\u001b[0m         _ctx, \"MakeIterator\", name, dataset, iterator)\n\u001b[0;32m   3441\u001b[0m       \u001b[1;32mreturn\u001b[0m \u001b[0m_result\u001b[0m\u001b[1;33m\u001b[0m\u001b[1;33m\u001b[0m\u001b[0m\n",
      "\u001b[1;31mKeyboardInterrupt\u001b[0m: "
     ]
    }
   ],
   "source": [
    "seqs = test_seqs.copy()\n",
    "predList = []\n",
    "for idx, seq in enumerate(seqs):\n",
    "    if idx % 100 == 0:\n",
    "        print('Sequence {}'.format(idx))\n",
    "    \n",
    "    newVal = seq[:, 0] + np.random.normal(loc=2.0, scale=0.5)\n",
    "    seq[:, 0] = newVal\n",
    "    pred = model.predict(seq[np.newaxis, ...], verbose=0)[0, 0]\n",
    "    predList.append(pred)\n",
    "    for i in range(1, 31):\n",
    "        seqs[i:i+1, -i, 2] = pred # update temperature values\n"
   ]
  },
  {
   "cell_type": "code",
   "execution_count": 117,
   "id": "b3c2c091",
   "metadata": {
    "scrolled": false
   },
   "outputs": [
    {
     "data": {
      "image/png": "[encoded data removed]",
      "text/plain": [
       "<Figure size 640x480 with 1 Axes>"
      ]
     },
     "metadata": {},
     "output_type": "display_data"
    }
   ],
   "source": [
    "fig, ax = plt.subplots(layout='constrained')\n",
    "ax.plot(np.squeeze(test_targets)[:4400], c='b')\n",
    "ax.plot(predList[:4400], c='m')\n",
    "\n",
    "# ax_sec = ax.twinx()\n",
    "\n",
    "# ax_sec.plot(test_seqs[-8000:, 0, 0], c='r', linewidth=1.5, alpha=0.8)\n",
    "# ax_sec.set_ylim(0, 5000)\n",
    "# #plt.plot(test_seqs[-4000:, 0, 0])\n",
    "\n",
    "plt.show()"
   ]
  },
  {
   "cell_type": "code",
   "execution_count": 103,
   "id": "feff6595",
   "metadata": {},
   "outputs": [
    {
     "name": "stdout",
     "output_type": "stream",
     "text": [
      "[[-0.8625151  -0.86185554 -0.87537653 ... -0.05109078  0.02047153\n",
      "   0.09681566]\n",
      " [-0.86185554 -0.87537653 -0.9025834  ...  0.02047153  0.09681566\n",
      "   0.13507017]\n",
      " [-0.87537653 -0.9025834  -0.85113768 ...  0.09681566  0.13507017\n",
      "   0.17184067]\n",
      " ...\n",
      " [ 1.42912789  1.43803195  1.44710091 ...  1.5574124   1.52179614\n",
      "   1.57043872]\n",
      " [ 1.43803195  1.44710091  1.44479245 ...  1.52179614  1.57043872\n",
      "   1.5592262 ]\n",
      " [ 1.44710091  1.44479245  1.44710091 ...  1.57043872  1.5592262\n",
      "   1.54587009]]\n"
     ]
    }
   ],
   "source": [
    "print(test_seqs[:, :, 0])"
   ]
  },
  {
   "cell_type": "code",
   "execution_count": 315,
   "id": "dc74c22c",
   "metadata": {},
   "outputs": [
    {
     "data": {
      "text/plain": [
       "array([[1.        , 0.97292608],\n",
       "       [0.97292608, 1.        ]])"
      ]
     },
     "execution_count": 315,
     "metadata": {},
     "output_type": "execute_result"
    }
   ],
   "source": [
    "np.corrcoef(test_targets, np.squeeze(vis_preds))"
   ]
  },
  {
   "cell_type": "code",
   "execution_count": 316,
   "id": "87db00c1",
   "metadata": {},
   "outputs": [
    {
     "ename": "ValueError",
     "evalue": "all the input array dimensions for the concatenation axis must match exactly, but along dimension 1, the array at index 0 has size 8000 and the array at index 1 has size 49507",
     "output_type": "error",
     "traceback": [
      "\u001b[1;31m---------------------------------------------------------------------------\u001b[0m",
      "\u001b[1;31mValueError\u001b[0m                                Traceback (most recent call last)",
      "\u001b[1;32m~\\AppData\\Local\\Temp\\ipykernel_27092\\1975653334.py\u001b[0m in \u001b[0;36m<module>\u001b[1;34m\u001b[0m\n\u001b[1;32m----> 1\u001b[1;33m \u001b[0mnp\u001b[0m\u001b[1;33m.\u001b[0m\u001b[0mcorrcoef\u001b[0m\u001b[1;33m(\u001b[0m\u001b[0mnp\u001b[0m\u001b[1;33m.\u001b[0m\u001b[0msqueeze\u001b[0m\u001b[1;33m(\u001b[0m\u001b[0mpreds\u001b[0m\u001b[1;33m)\u001b[0m\u001b[1;33m,\u001b[0m \u001b[0mY_test\u001b[0m\u001b[1;33m)\u001b[0m\u001b[1;33m\u001b[0m\u001b[1;33m\u001b[0m\u001b[0m\n\u001b[0m",
      "\u001b[1;32m<__array_function__ internals>\u001b[0m in \u001b[0;36mcorrcoef\u001b[1;34m(*args, **kwargs)\u001b[0m\n",
      "\u001b[1;32m~\\anaconda3\\lib\\site-packages\\numpy\\lib\\function_base.py\u001b[0m in \u001b[0;36mcorrcoef\u001b[1;34m(x, y, rowvar, bias, ddof, dtype)\u001b[0m\n\u001b[0;32m   2681\u001b[0m         warnings.warn('bias and ddof have no effect and are deprecated',\n\u001b[0;32m   2682\u001b[0m                       DeprecationWarning, stacklevel=3)\n\u001b[1;32m-> 2683\u001b[1;33m     \u001b[0mc\u001b[0m \u001b[1;33m=\u001b[0m \u001b[0mcov\u001b[0m\u001b[1;33m(\u001b[0m\u001b[0mx\u001b[0m\u001b[1;33m,\u001b[0m \u001b[0my\u001b[0m\u001b[1;33m,\u001b[0m \u001b[0mrowvar\u001b[0m\u001b[1;33m,\u001b[0m \u001b[0mdtype\u001b[0m\u001b[1;33m=\u001b[0m\u001b[0mdtype\u001b[0m\u001b[1;33m)\u001b[0m\u001b[1;33m\u001b[0m\u001b[1;33m\u001b[0m\u001b[0m\n\u001b[0m\u001b[0;32m   2684\u001b[0m     \u001b[1;32mtry\u001b[0m\u001b[1;33m:\u001b[0m\u001b[1;33m\u001b[0m\u001b[1;33m\u001b[0m\u001b[0m\n\u001b[0;32m   2685\u001b[0m         \u001b[0md\u001b[0m \u001b[1;33m=\u001b[0m \u001b[0mdiag\u001b[0m\u001b[1;33m(\u001b[0m\u001b[0mc\u001b[0m\u001b[1;33m)\u001b[0m\u001b[1;33m\u001b[0m\u001b[1;33m\u001b[0m\u001b[0m\n",
      "\u001b[1;32m<__array_function__ internals>\u001b[0m in \u001b[0;36mcov\u001b[1;34m(*args, **kwargs)\u001b[0m\n",
      "\u001b[1;32m~\\anaconda3\\lib\\site-packages\\numpy\\lib\\function_base.py\u001b[0m in \u001b[0;36mcov\u001b[1;34m(m, y, rowvar, bias, ddof, fweights, aweights, dtype)\u001b[0m\n\u001b[0;32m   2475\u001b[0m         \u001b[1;32mif\u001b[0m \u001b[1;32mnot\u001b[0m \u001b[0mrowvar\u001b[0m \u001b[1;32mand\u001b[0m \u001b[0my\u001b[0m\u001b[1;33m.\u001b[0m\u001b[0mshape\u001b[0m\u001b[1;33m[\u001b[0m\u001b[1;36m0\u001b[0m\u001b[1;33m]\u001b[0m \u001b[1;33m!=\u001b[0m \u001b[1;36m1\u001b[0m\u001b[1;33m:\u001b[0m\u001b[1;33m\u001b[0m\u001b[1;33m\u001b[0m\u001b[0m\n\u001b[0;32m   2476\u001b[0m             \u001b[0my\u001b[0m \u001b[1;33m=\u001b[0m \u001b[0my\u001b[0m\u001b[1;33m.\u001b[0m\u001b[0mT\u001b[0m\u001b[1;33m\u001b[0m\u001b[1;33m\u001b[0m\u001b[0m\n\u001b[1;32m-> 2477\u001b[1;33m         \u001b[0mX\u001b[0m \u001b[1;33m=\u001b[0m \u001b[0mnp\u001b[0m\u001b[1;33m.\u001b[0m\u001b[0mconcatenate\u001b[0m\u001b[1;33m(\u001b[0m\u001b[1;33m(\u001b[0m\u001b[0mX\u001b[0m\u001b[1;33m,\u001b[0m \u001b[0my\u001b[0m\u001b[1;33m)\u001b[0m\u001b[1;33m,\u001b[0m \u001b[0maxis\u001b[0m\u001b[1;33m=\u001b[0m\u001b[1;36m0\u001b[0m\u001b[1;33m)\u001b[0m\u001b[1;33m\u001b[0m\u001b[1;33m\u001b[0m\u001b[0m\n\u001b[0m\u001b[0;32m   2478\u001b[0m \u001b[1;33m\u001b[0m\u001b[0m\n\u001b[0;32m   2479\u001b[0m     \u001b[1;32mif\u001b[0m \u001b[0mddof\u001b[0m \u001b[1;32mis\u001b[0m \u001b[1;32mNone\u001b[0m\u001b[1;33m:\u001b[0m\u001b[1;33m\u001b[0m\u001b[1;33m\u001b[0m\u001b[0m\n",
      "\u001b[1;32m<__array_function__ internals>\u001b[0m in \u001b[0;36mconcatenate\u001b[1;34m(*args, **kwargs)\u001b[0m\n",
      "\u001b[1;31mValueError\u001b[0m: all the input array dimensions for the concatenation axis must match exactly, but along dimension 1, the array at index 0 has size 8000 and the array at index 1 has size 49507"
     ]
    }
   ],
   "source": [
    "np.corrcoef(np.squeeze(preds), Y_test)"
   ]
  },
  {
   "cell_type": "code",
   "execution_count": null,
   "id": "c22f221a",
   "metadata": {},
   "outputs": [],
   "source": []
  },
  {
   "cell_type": "code",
   "execution_count": null,
   "id": "3a8b89e5",
   "metadata": {},
   "outputs": [],
   "source": []
  }
 ],
 "metadata": {
  "kernelspec": {
   "display_name": "Python 3 (ipykernel)",
   "language": "python",
   "name": "python3"
  },
  "language_info": {
   "codemirror_mode": {
    "name": "ipython",
    "version": 3
   },
   "file_extension": ".py",
   "mimetype": "text/x-python",
   "name": "python",
   "nbconvert_exporter": "python",
   "pygments_lexer": "ipython3",
   "version": "3.9.13"
  }
 },
 "nbformat": 4,
 "nbformat_minor": 5
}
