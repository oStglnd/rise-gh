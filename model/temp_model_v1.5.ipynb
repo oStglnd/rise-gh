{
 "cells": [
  {
   "cell_type": "markdown",
   "id": "3c35d1cc",
   "metadata": {},
   "source": [
    "# Short-term Temperature Model Test"
   ]
  },
  {
   "cell_type": "markdown",
   "id": "195db0c9",
   "metadata": {},
   "source": [
    "## Import dependencies and data"
   ]
  },
  {
   "cell_type": "code",
   "execution_count": 1,
   "id": "77453a55",
   "metadata": {},
   "outputs": [],
   "source": [
    "# import dependencies\n",
    "import os\n",
    "import json\n",
    "import pandas as pd\n",
    "\n",
    "import matplotlib.pyplot as plt\n",
    "import seaborn as sns\n",
    "\n",
    "import numpy as np\n",
    "import tensorflow as tf\n",
    "\n",
    "from tensorflow.keras import layers, Model\n",
    "from scipy.fftpack import fft, ifft, fftfreq"
   ]
  },
  {
   "cell_type": "code",
   "execution_count": 2,
   "id": "b5dee1ac",
   "metadata": {},
   "outputs": [],
   "source": [
    "# define relevant paths\n",
    "home_path = os.path.dirname(os.getcwd())\n",
    "data_path = home_path + '\\\\data\\\\'\n",
    "plot_path = home_path + '\\\\plotting\\\\plots\\\\'\n",
    "save_path = home_path + '\\\\model\\\\saved\\\\'"
   ]
  },
  {
   "cell_type": "code",
   "execution_count": 3,
   "id": "a747b251",
   "metadata": {},
   "outputs": [],
   "source": [
    "# get merged data\n",
    "data = pd.read_csv(\n",
    "    data_path + 'data_merged.csv',\n",
    "    header=[0, 1],\n",
    "    index_col=[0, 1, 2, 3, 4]\n",
    ")\n",
    "\n",
    "# convert index.date col to datetime\n",
    "#data.index = pd.to_datetime(data.index.values)\n",
    "data.loc[:, ('time', 'date')] = pd.to_datetime(data.time.date)"
   ]
  },
  {
   "cell_type": "code",
   "execution_count": 4,
   "id": "b0f46624",
   "metadata": {},
   "outputs": [],
   "source": [
    "# define X vars\n",
    "x_vars = [\n",
    "    ('flow', 'TA01_GP101'),\n",
    "    ('flow', 'TA02_GP101'),\n",
    "    ('state', 'TA01_output'),\n",
    "    ('state', 'TA02_output'),\n",
    "    ('temperatures', 'TA01_GT10X_GM10X'),\n",
    "    ('temperatures', 'DC_GT101_GM101'),\n",
    "    ('temperatures', 'DC_GT102_GM102'),\n",
    "    ('temperatures', 'DC_GT103_GM103'),\n",
    "    ('temperatures', 'DC_GT104_GM104'),\n",
    "    ('temperatures', 'DC_GT401_GM401'),\n",
    "    ('temperatures', 'TA01_GT401_GM401'),\n",
    "    ('temperatures', 'TA02_GT401_GM401'),\n",
    "    ('temperatures', 'DC_GT301_damped'),\n",
    "    ('temperatures', 'DC_GT301_outdoor'),\n",
    "    ('humidity', 'TA01_GT10X_GM10X'),\n",
    "    ('humidity', 'DC_GT101_GM101'),\n",
    "    ('humidity', 'DC_GT102_GM102'),\n",
    "    ('humidity', 'DC_GT103_GM103'),\n",
    "    ('humidity', 'DC_GT104_GM104'),\n",
    "    ('humidity', 'DC_GT401_GM401'),\n",
    "    ('setpoints', 'TA01_GT10X_GM10X'),\n",
    "    ('sun', 'gsi'),\n",
    "    ('sun', 'gsi_deriv'),\n",
    "    ('sun', 'vol'),\n",
    "    ('sun', 'vol_deriv'),\n",
    "    ('wind', 'Wx'),\n",
    "    ('wind', 'Wy'),\n",
    "    ('time', 'dayofyear'),\n",
    "    ('time', 'monthofyear'),\n",
    "    ('time', 'minofday'),\n",
    "    ('time', 'hourofday')\n",
    "]\n",
    "\n",
    "# filter columns to keep only x_vars\n",
    "data = data[x_vars].copy()"
   ]
  },
  {
   "cell_type": "markdown",
   "id": "33ae9eb6",
   "metadata": {},
   "source": [
    "## Describe Df"
   ]
  },
  {
   "cell_type": "code",
   "execution_count": 5,
   "id": "be306b52",
   "metadata": {},
   "outputs": [
    {
     "name": "stdout",
     "output_type": "stream",
     "text": [
      "Number of NAs\n",
      "\n",
      "category      sensor_ID       \n",
      "flow          TA01_GP101          13\n",
      "              TA02_GP101          11\n",
      "state         TA01_output         15\n",
      "              TA02_output         14\n",
      "temperatures  TA01_GT10X_GM10X    14\n",
      "              DC_GT101_GM101      12\n",
      "              DC_GT102_GM102      12\n",
      "              DC_GT103_GM103      11\n",
      "              DC_GT104_GM104      11\n",
      "              DC_GT401_GM401      13\n",
      "              TA01_GT401_GM401    13\n",
      "              TA02_GT401_GM401    12\n",
      "              DC_GT301_damped     12\n",
      "              DC_GT301_outdoor    12\n",
      "humidity      TA01_GT10X_GM10X    15\n",
      "              DC_GT101_GM101      12\n",
      "              DC_GT102_GM102      12\n",
      "              DC_GT103_GM103      12\n",
      "              DC_GT104_GM104      10\n",
      "              DC_GT401_GM401      14\n",
      "setpoints     TA01_GT10X_GM10X    14\n",
      "sun           gsi                  3\n",
      "              gsi_deriv            3\n",
      "              vol                  3\n",
      "              vol_deriv            3\n",
      "wind          Wx                   3\n",
      "              Wy                   3\n",
      "time          dayofyear            3\n",
      "              monthofyear          3\n",
      "              minofday             3\n",
      "              hourofday            3\n",
      "dtype: int64\n",
      "\n",
      "\n",
      "\n"
     ]
    }
   ],
   "source": [
    "# print number of NAs\n",
    "print('Number of NAs\\n')\n",
    "print(data.isna().sum())\n",
    "print('\\n\\n')"
   ]
  },
  {
   "cell_type": "code",
   "execution_count": 6,
   "id": "4da9d182",
   "metadata": {},
   "outputs": [],
   "source": [
    "# remove single NAN\n",
    "data = data.dropna(how='any')"
   ]
  },
  {
   "cell_type": "code",
   "execution_count": 7,
   "id": "7f678417",
   "metadata": {},
   "outputs": [],
   "source": [
    "cols = [\n",
    "    'DC_GT101_GM101',\n",
    "    'DC_GT102_GM102',\n",
    "    'DC_GT103_GM103',\n",
    "    'DC_GT104_GM104'\n",
    "]\n",
    "\n",
    "for col in cols:\n",
    "    data[('flag', col)] = (((data.temperatures[col] - data.temperatures[col].shift(1)) < -1) \\\n",
    "                            & ((data.humidity[col] - data.humidity[col].shift(1)) > 5)) \\\n",
    "                            | (data.humidity[col] > 70)\n",
    "\n",
    "    hrs = data.groupby(['month', 'day', 'hour']).sum()[('flag', col)] > 0\n",
    "    hrsDrop = hrs[hrs == 1].index.values\n",
    "    mask = np.array([hr not in list(hrsDrop) for hr in data.index.droplevel(-1).droplevel(-1).values])\n",
    "    data = data[mask]\n",
    "    \n",
    "    hrs = data.groupby(['month', 'day', 'hour']).var()[('humidity', col)] > 40\n",
    "    hrsDrop = hrs[hrs == 1].index.values\n",
    "    mask = np.array([hr not in list(hrsDrop) for hr in data.index.droplevel(-1).droplevel(-1).values])\n",
    "    data = data[mask]\n",
    "    \n",
    "#     days = data.groupby(['month', 'day']).sum()[('flag', col)] > 0\n",
    "#     daysDrop = days[days == 1].index.values\n",
    "#     mask = np.array([day not in list(daysDrop) for day in data.index.droplevel(-1).droplevel(-1).droplevel(-1).values])\n",
    "    "
   ]
  },
  {
   "cell_type": "markdown",
   "id": "3424585c",
   "metadata": {},
   "source": [
    "# Feature engineering"
   ]
  },
  {
   "cell_type": "markdown",
   "id": "dce24a16",
   "metadata": {},
   "source": [
    "### DC-temp scaling"
   ]
  },
  {
   "cell_type": "code",
   "execution_count": 308,
   "id": "e4196622",
   "metadata": {},
   "outputs": [
    {
     "data": {
      "text/plain": [
       "75.0"
      ]
     },
     "execution_count": 308,
     "metadata": {},
     "output_type": "execute_result"
    }
   ],
   "source": [
    "ta01_min = 35\n",
    "ta01_max = 75\n",
    "\n",
    "ta02_min = 0\n",
    "ta02_max = 85"
   ]
  },
  {
   "cell_type": "code",
   "execution_count": 318,
   "id": "46c80205",
   "metadata": {},
   "outputs": [],
   "source": [
    "# data[('state', 'TA01_output_minmax')] = (data.state.TA01_output - data.state.TA01_output.min()) / (data.state.TA01_output.max() - data.state.TA01_output.min())\n",
    "# data[('state', 'TA02_output_minmax')] = (data.state.TA02_output - data.state.TA02_output.min()) / (data.state.TA02_output.max() - data.state.TA02_output.min())\n",
    "# data[('flow', 'TA01_minmax')] = (data.flow.TA01_GP101 - data.flow.TA01_GP101.min()) / (data.flow.TA01_GP101.max() - data.flow.TA01_GP101.min())\n",
    "# data[('flow', 'TA02_minmax')] = (data.flow.TA02_GP101 - data.flow.TA02_GP101.min()) / (data.flow.TA02_GP101.max() - data.flow.TA02_GP101.min())\n",
    "\n",
    "# data[('temperatures', 'DC_GT401_GM401_scaled')] = data.temperatures.DC_GT401_GM401 * data.flow.TA01_minmax\n",
    "# data[('temperatures', 'TA01_GT401_GM401_scaled')] = data.temperatures.TA01_GT401_GM401 * data.flow.TA01_minmax\n",
    "# data[('temperatures', 'DC_GT301_damped_scaled')] = data.temperatures.DC_GT301_damped * data.flow.TA02_minmax\n",
    "\n",
    "data[('state', 'TA01_output_minmax')] = (data.state.TA01_output - ta01_min) / (ta01_max - ta01_min)\n",
    "data[('state', 'TA02_output_minmax')] = (data.state.TA02_output - ta02_min) / (ta02_max - ta02_min)\n",
    "\n",
    "data[('temperatures', 'DC_GT401_GM401_scaled')] = data.temperatures.DC_GT401_GM401 * data.state.TA01_output_minmax\n",
    "data[('temperatures', 'TA01_GT401_GM401_scaled')] = data.temperatures.TA01_GT401_GM401 * data.state.TA01_output_minmax\n",
    "data[('temperatures', 'DC_GT301_damped_scaled')] = data.temperatures.DC_GT301_damped * data.state.TA02_output_minmax"
   ]
  },
  {
   "cell_type": "code",
   "execution_count": 319,
   "id": "817f98c6",
   "metadata": {},
   "outputs": [],
   "source": [
    "data[('temperatures', 'TA_inflow')] = data.temperatures.TA01_GT401_GM401_scaled + data.temperatures.DC_GT301_damped_scaled"
   ]
  },
  {
   "cell_type": "markdown",
   "id": "a15ace44",
   "metadata": {},
   "source": [
    "## Split TRAIN / TEST"
   ]
  },
  {
   "cell_type": "code",
   "execution_count": 320,
   "id": "85f830c8",
   "metadata": {},
   "outputs": [],
   "source": [
    "## Randomly select days for trainin and testing\n",
    "days = data.groupby(['month', 'day'], sort=False).count().index.values\n",
    "\n",
    "# get number of days f. testing / training\n",
    "train_frac = 0.95\n",
    "train_n = int(len(days) * train_frac)\n",
    "test_n = len(days) - train_n\n",
    "\n",
    "# split dataset\n",
    "# np.random.shuffle(days)\n",
    "mask = np.array([day in list(days[:train_n]) for day in data.index.droplevel(-1).droplevel(-1).droplevel(-1).values])\n",
    "data_train = data.loc[mask].copy()\n",
    "data_test = data.loc[~mask].copy()\n",
    "\n",
    "# del data"
   ]
  },
  {
   "cell_type": "markdown",
   "id": "57f0a251",
   "metadata": {},
   "source": [
    "## NOISE reduction"
   ]
  },
  {
   "cell_type": "markdown",
   "id": "adf11468",
   "metadata": {},
   "source": [
    "### FFT f. TRAIN data"
   ]
  },
  {
   "cell_type": "code",
   "execution_count": 321,
   "id": "70ae2b3f",
   "metadata": {},
   "outputs": [],
   "source": [
    "# cols = [\n",
    "#     ('temperatures', 'DC_GT102_GM102'),\n",
    "#     ('temperatures', 'DC_GT103_GM103'),\n",
    "#     ('temperatures', 'DC_GT104_GM104'),\n",
    "#     ('temperatures', 'DC_GT401_GM401'),\n",
    "#     ('temperatures', 'TA01_GT401_GM401'),\n",
    "# #     ('temperatures', 'DC_GT301_outdoor'),\n",
    "# #     ('temperatures', 'DC_GT301_damped'),\n",
    "#     ('humidity', 'DC_GT102_GM102'),\n",
    "#     ('humidity', 'DC_GT103_GM103'),\n",
    "#     ('humidity', 'DC_GT104_GM104'),\n",
    "# ]\n",
    "\n",
    "# for col in cols:\n",
    "# #     sig_fft = fft(data.humidity[col].values)\n",
    "#     sig_fft = fft(data_train[col].values)\n",
    "#     sig_fft_filtered = sig_fft.copy()\n",
    "#     sig_fft_noise = sig_fft.copy()\n",
    "    \n",
    "#     #\n",
    "#     freq = fftfreq(len(data_train), d=1/10)\n",
    "#     cut_off = 1\n",
    "    \n",
    "#     sig_fft_filtered[np.abs(freq) > cut_off] = 0\n",
    "#     sig_fft_noise[np.abs(freq) <= cut_off] = 0\n",
    "    \n",
    "#     # get the filtered signal in time domain\n",
    "#     filtered = ifft(sig_fft_filtered)\n",
    "#     noise = ifft(sig_fft_noise)\n",
    "    \n",
    "# #     plt.plot(data_train[col].values[-50:])\n",
    "# #     plt.plot(filtered[-50:])\n",
    "# #     plt.show()\n",
    "# #     break\n",
    "    \n",
    "#     # put in data\n",
    "# #     data.humidity.loc[:, col + '_noise'] = data.humidity[col]\n",
    "#     data_train.loc[:, col] = filtered"
   ]
  },
  {
   "cell_type": "code",
   "execution_count": 322,
   "id": "94cdf105",
   "metadata": {},
   "outputs": [],
   "source": [
    "# cols = [\n",
    "#     (('temperatures', 'DC_GT102_GM102'), 4),\n",
    "#     (('temperatures', 'DC_GT103_GM103'), 4),\n",
    "#     (('temperatures', 'DC_GT104_GM104'), 4),\n",
    "# #     (('temperatures', 'DC_GT401_GM401'), 3), #3),\n",
    "#     (('temperatures', 'TA01_GT401_GM401'), 3), #3),\n",
    "#     (('temperatures', 'TA01_GT401_GM401_scaled'), 3), #3),\n",
    "#     (('temperatures', 'DC_GT301_outdoor'), 4),\n",
    "#     (('temperatures', 'DC_GT301_damped'), 4),\n",
    "#     (('temperatures', 'DC_GT301_damped_scaled'), 4),\n",
    "#     (('humidity', 'DC_GT102_GM102'), 4),\n",
    "#     (('humidity', 'DC_GT103_GM103'), 4),\n",
    "#     (('humidity', 'DC_GT104_GM104'), 4),\n",
    "# ]\n",
    "\n",
    "# for colSpec in cols:\n",
    "#     for day in data_train.groupby(['month', 'day']).count().index.values:\n",
    "#         # apply KALMAN filter to measurements\n",
    "#         col = colSpec[0]\n",
    "#         varExp = colSpec[-1]\n",
    "\n",
    "#         # get data\n",
    "#         X = data_train.loc[day, col].values\n",
    "#         n = len(X)\n",
    "\n",
    "#         # process variance, measurement variance\n",
    "#         Q = 1e-5\n",
    "#         R = 0.1**varExp\n",
    "\n",
    "#         xhat=np.zeros(n)      # a posteri estimate of x\n",
    "#         P=np.zeros(n)         # a posteri error estimate\n",
    "#         xhatminus=np.zeros(n) # a priori estimate of x\n",
    "#         Pminus=np.zeros(n)    # a priori error estimate\n",
    "#         K=np.zeros(n)         # gain or blending factor\n",
    "\n",
    "#         # intial guesses\n",
    "#         xhat[0] = X[0]\n",
    "#         P[0] = 1\n",
    "\n",
    "#         for k in range(1,n):\n",
    "#             # time update\n",
    "#             xhatminus[k] = xhat[k-1]\n",
    "#             Pminus[k] = P[k-1]+Q\n",
    "\n",
    "#             # measurement update\n",
    "#             K[k] = Pminus[k]/( Pminus[k]+R )\n",
    "#             xhat[k] = xhatminus[k]+K[k]*(X[k]-xhatminus[k])\n",
    "#             P[k] = (1-K[k])*Pminus[k]\n",
    "\n",
    "#         data_train.loc[day, col] = xhat"
   ]
  },
  {
   "cell_type": "code",
   "execution_count": 323,
   "id": "8c7adb7f",
   "metadata": {},
   "outputs": [],
   "source": [
    "### create \"better\" estimate of temperature var, w. proper avg.\n",
    "data_train[('temperatures', 'TA01_GT10X_GM10X')] = data_train.temperatures[[\n",
    "#     ('DC_GT101_GM101'),\n",
    "    ('DC_GT102_GM102'), \n",
    "    ('DC_GT103_GM103'), \n",
    "    ('DC_GT104_GM104')\n",
    "]].values.mean(axis=1)\n",
    "\n",
    "# # adjust for setpoint change\n",
    "# data_train[('temperatures', 'TA01_GT10X_GM10X')] += (20.0 - data_train[('setpoints', 'TA01_GT10X_GM10X')])"
   ]
  },
  {
   "cell_type": "code",
   "execution_count": 324,
   "id": "00bd1ba4",
   "metadata": {},
   "outputs": [],
   "source": [
    "### create \"better\" estimate of humidity var, w. proper avg.\n",
    "data_train[('humidity', 'TA01_GT10X_GM10X')] = data_train.humidity[[\n",
    "    # ('DC_GT102_GM101'),\n",
    "    ('DC_GT102_GM102'), \n",
    "    ('DC_GT103_GM103'), \n",
    "    ('DC_GT104_GM104')\n",
    "]].values.mean(axis=1)"
   ]
  },
  {
   "cell_type": "markdown",
   "id": "3d5ae9bc",
   "metadata": {},
   "source": [
    "### KALMAN f. TEST data"
   ]
  },
  {
   "cell_type": "code",
   "execution_count": 325,
   "id": "350a57a0",
   "metadata": {},
   "outputs": [],
   "source": [
    "# cols = [\n",
    "# #     (('temperatures', 'TA01_GT10X_GM10X'), 3)\n",
    "# #     (('temperatures', 'DC_GT102_GM102'), 3),\n",
    "# #     (('temperatures', 'DC_GT103_GM103'), 3),\n",
    "# #     (('temperatures', 'DC_GT104_GM104'), 3),\n",
    "# #     (('temperatures', 'DC_GT401_GM401'), 3), #3),\n",
    "# #     (('temperatures', 'DC_GT401_GM401_scaled'), 3), #3),\n",
    "# #     (('temperatures', 'TA01_GT401_GM401'), 3), #3),\n",
    "# #     (('temperatures', 'TA01_GT401_GM401_scaled'), 3), #3),\n",
    "# #     (('temperatures', 'DC_GT301_outdoor'), 3),\n",
    "# #     (('temperatures', 'DC_GT301_damped'), 3),\n",
    "# #     (('temperatures', 'DC_GT301_damped_scaled'), 3),\n",
    "# #     (('humidity', 'DC_GT102_GM102'), 3),\n",
    "# #     (('humidity', 'DC_GT103_GM103'), 3),\n",
    "# #     (('humidity', 'DC_GT104_GM104'), 3),\n",
    "# ]\n",
    "\n",
    "# for colSpec in cols:\n",
    "#     for day in data_test.groupby(['month', 'day']).count().index.values:\n",
    "#         # apply KALMAN filter to measurements\n",
    "#         col = colSpec[0]\n",
    "#         varExp = colSpec[-1]\n",
    "\n",
    "#         # get data\n",
    "#         X = data_test.loc[day, col].values\n",
    "#         n = len(X)\n",
    "\n",
    "#         # process variance, measurement variance\n",
    "#         Q = 1e-5\n",
    "#         R = 0.1**varExp\n",
    "\n",
    "#         xhat=np.zeros(n)      # a posteri estimate of x\n",
    "#         P=np.zeros(n)         # a posteri error estimate\n",
    "#         xhatminus=np.zeros(n) # a priori estimate of x\n",
    "#         Pminus=np.zeros(n)    # a priori error estimate\n",
    "#         K=np.zeros(n)         # gain or blending factor\n",
    "\n",
    "#         # intial guesses\n",
    "#         xhat[0] = X[0]\n",
    "#         P[0] = 1\n",
    "\n",
    "#         for k in range(1,n):\n",
    "#             # time update\n",
    "#             xhatminus[k] = xhat[k-1]\n",
    "#             Pminus[k] = P[k-1]+Q\n",
    "\n",
    "#             # measurement update\n",
    "#             K[k] = Pminus[k]/( Pminus[k]+R )\n",
    "#             xhat[k] = xhatminus[k]+K[k]*(X[k]-xhatminus[k])\n",
    "#             P[k] = (1-K[k])*Pminus[k]\n",
    "\n",
    "# #         plt.plot(data_test.loc[day, col].values)\n",
    "# #         plt.plot(xhat)\n",
    "# #         plt.show()\n",
    "# #         break\n",
    "            \n",
    "#         data_test.loc[day, col] = xhat"
   ]
  },
  {
   "cell_type": "code",
   "execution_count": 326,
   "id": "847d0145",
   "metadata": {},
   "outputs": [],
   "source": [
    "### create \"better\" estimate of temperature var, w. proper avg.\n",
    "data_test[('temperatures', 'TA01_GT10X_GM10X')] = data_test.temperatures[[\n",
    "    # ('DC_GT102_GM101'),\n",
    "    ('DC_GT102_GM102'), \n",
    "    ('DC_GT103_GM103'), \n",
    "    ('DC_GT104_GM104')\n",
    "]].values.mean(axis=1)\n",
    "\n",
    "\n",
    "# # adjust for setpoint change\n",
    "# data_test[('temperatures', 'TA01_GT10X_GM10X')] += (20.0 - data_test[('setpoints', 'TA01_GT10X_GM10X')])"
   ]
  },
  {
   "cell_type": "code",
   "execution_count": 327,
   "id": "311888b5",
   "metadata": {},
   "outputs": [],
   "source": [
    "### create \"better\" estimate of humidity var, w. proper avg.\n",
    "data_test[('humidity', 'TA01_GT10X_GM10X')] = data_test.humidity[[\n",
    "    # ('DC_GT102_GM101'),\n",
    "    ('DC_GT102_GM102'), \n",
    "    ('DC_GT103_GM103'), \n",
    "    ('DC_GT104_GM104')\n",
    "]].values.mean(axis=1)"
   ]
  },
  {
   "cell_type": "code",
   "execution_count": 328,
   "id": "d6e41bed",
   "metadata": {},
   "outputs": [],
   "source": [
    "# fig, ax = plt.subplots()\n",
    "\n",
    "# # ax.plot(data.temperatures.TA01_GT10X_GM10X.values[-12500:])\n",
    "# ax.plot(data.temperatures.TA01_GT10X_GM10X.values[-10000:-9500])\n",
    "# # ax.plot(data.temperatures.DC_GT102_GM102.values[-12500:-9000])\n",
    "# # ax.plot(data.temperatures.DC_GT103_GM103.values[-12500:-9000])\n",
    "# # ax.plot(data.temperatures.DC_GT301_damped_scaled.values[-12500:])\n",
    "\n",
    "# ax2 = ax.twinx()\n",
    "# ax2.plot(data.temperatures.TA01_GT401_GM401.values[-10000:-9500], 'r')\n",
    "# # ax2.plot(data.sun.gsi.values[-12500:], 'r')\n",
    "# plt.show()"
   ]
  },
  {
   "cell_type": "markdown",
   "id": "4015f82a",
   "metadata": {},
   "source": [
    "### Reduce to M-min observations"
   ]
  },
  {
   "cell_type": "code",
   "execution_count": 329,
   "id": "ad9bd7ae",
   "metadata": {},
   "outputs": [],
   "source": [
    "# set min per observation\n",
    "m = 5"
   ]
  },
  {
   "cell_type": "code",
   "execution_count": 330,
   "id": "c3ab8fa8",
   "metadata": {},
   "outputs": [],
   "source": [
    "# # reduce to one OBS per 5 MIN (take average of 10 OBS)\n",
    "idxObj = zip(\n",
    "    data_train.index.get_level_values(0),\n",
    "    data_train.index.get_level_values(1),\n",
    "    data_train.index.get_level_values(2),\n",
    "    data_train.index.get_level_values(3) // m\n",
    ")\n",
    "\n",
    "index = pd.MultiIndex.from_tuples(\n",
    "    tuples=idxObj,\n",
    "    names=['month', 'day', 'hour', 'minute']\n",
    ")\n",
    "\n",
    "data_train.index = index\n",
    "data_train = data_train.groupby(['month', 'day', 'hour', 'minute'], sort=False).mean()"
   ]
  },
  {
   "cell_type": "code",
   "execution_count": 331,
   "id": "3097b392",
   "metadata": {},
   "outputs": [],
   "source": [
    "# # reduce to one OBS per 5 MIN (take average of 10 OBS)\n",
    "idxObj = zip(\n",
    "    data_test.index.get_level_values(0),\n",
    "    data_test.index.get_level_values(1),\n",
    "    data_test.index.get_level_values(2),\n",
    "    data_test.index.get_level_values(3) // m\n",
    ")\n",
    "\n",
    "index = pd.MultiIndex.from_tuples(\n",
    "    tuples=idxObj,\n",
    "    names=['month', 'day', 'hour', 'minute']\n",
    ")\n",
    "\n",
    "data_test.index = index\n",
    "data_test = data_test.groupby(['month', 'day', 'hour', 'minute'], sort=False).mean()"
   ]
  },
  {
   "cell_type": "markdown",
   "id": "421cd4b2",
   "metadata": {},
   "source": [
    "### Normalization"
   ]
  },
  {
   "cell_type": "code",
   "execution_count": 332,
   "id": "17b6ad6a",
   "metadata": {},
   "outputs": [],
   "source": [
    "# Define model variables\n",
    "model_vars = [\n",
    "    ('temperatures', 'TA_inflow'),\n",
    "    ('state', 'TA01_output'),\n",
    "    ('state', 'TA02_output'),\n",
    "#     ('flow', 'TA01_GP101'),\n",
    "#     ('flow', 'TA02_GP101'),\n",
    "#     ('temperatures', 'DC_GT102_GM102'),\n",
    "#     ('temperatures', 'DC_GT103_GM103'),\n",
    "#     ('temperatures', 'DC_GT104_GM104'),\n",
    "    ('temperatures', 'TA01_GT10X_GM10X'),\n",
    "#     ('temperatures', 'DC_GT401_GM401'),\n",
    "    ('temperatures', 'TA01_GT401_GM401'),\n",
    "#     ('temperatures', 'TA02_GT401_GM401'),\n",
    "    ('temperatures', 'DC_GT301_damped'),\n",
    "#     ('temperatures', 'TA01_GT401_GM401_scaled'),\n",
    "#     ('temperatures', 'DC_GT301_damped_scaled'),\n",
    "    ('humidity', 'TA01_GT10X_GM10X'),\n",
    "    ('sun', 'gsi'),\n",
    "#     ('sun', 'gsi_deriv'),\n",
    "#     ('sun', 'vol'),\n",
    "#     ('sun', 'vol_deriv'),\n",
    "#     ('wind', 'Wx'),\n",
    "#     ('wind', 'Wy'),\n",
    "#     ('time', 'minofday'),\n",
    "#     ('time', 'dayofyear')\n",
    "]\n",
    "\n",
    "# filter data\n",
    "data_train = data_train[model_vars].copy()\n",
    "data_test = data_test[model_vars].copy()"
   ]
  },
  {
   "cell_type": "code",
   "execution_count": 333,
   "id": "c9b572ac",
   "metadata": {},
   "outputs": [],
   "source": [
    "col_params = {}\n",
    "for col in data_train.columns:\n",
    "    cat, var = col\n",
    "    \n",
    "#     if cat == 'temperatures' and var == 'TA01_GT10X_GM10X':\n",
    "#         continue\n",
    "    \n",
    "    min_val = data_train[col].min()\n",
    "    max_val = data_train[col].max()\n",
    "    \n",
    "    # normalize\n",
    "    mean = data_train[col].mean()\n",
    "    std = data_train[col].std()\n",
    "    \n",
    "    data_train[col] = (data_train[col] - mean) / std\n",
    "    data_test[col] = (data_test[col] - mean) / std\n",
    "    \n",
    "#     # make positive\n",
    "#     min_val = data_train[col].min()\n",
    "#     data_train[col] = data_train[col] + abs(min(0, min_val))\n",
    "#     min_val = max(0, min_val)\n",
    "#     max_val = data_train[col].max()\n",
    "#     data_train[col] = (data_train[col] - min_val) / (max_val - min_val)\n",
    "    \n",
    "#     data_test[col] = data_test[col] + abs(min(0, min_val))\n",
    "#     data_test[col] = (data_test[col] - min_val) / (max_val - min_val)\n",
    "#     data_test[col] = data_test[col].apply(lambda val: max(val, 0.0))\n",
    "# #     data_test[col] = data_test[col].apply(lambda val: max(min(val, 1.0), 0.0))\n",
    "    \n",
    "    col_params[col] = {\n",
    "        'mean':mean,\n",
    "        'std':std,\n",
    "        'max':max_val,\n",
    "        'min':min_val\n",
    "    }"
   ]
  },
  {
   "cell_type": "code",
   "execution_count": 312,
   "id": "862c5d03",
   "metadata": {},
   "outputs": [],
   "source": [
    "# ta01_max, ta01_min = col_params[('state', 'TA01_output')]['max'], col_params[('state', 'TA01_output')]['min']\n",
    "# ta02_max, ta02_min = col_params[('state', 'TA02_output')]['max'], col_params[('state', 'TA02_output')]['min']"
   ]
  },
  {
   "cell_type": "markdown",
   "id": "70925b7a",
   "metadata": {},
   "source": [
    "## Data preparation"
   ]
  },
  {
   "cell_type": "code",
   "execution_count": 334,
   "id": "97925877",
   "metadata": {},
   "outputs": [],
   "source": [
    "t_steps = 0    # 5 x 2 = 10-min predictions\n",
    "n_steps = 12    # 5 x 12 = 60-min backwards look"
   ]
  },
  {
   "cell_type": "code",
   "execution_count": 335,
   "id": "de0d3346",
   "metadata": {},
   "outputs": [],
   "source": [
    "# targets_train = data_train[('temperatures', 'TA01_GT10X_GM10X')].copy()\n",
    "# targets_test = data_test[('temperatures', 'TA01_GT10X_GM10X')].copy()"
   ]
  },
  {
   "cell_type": "code",
   "execution_count": 336,
   "id": "f3389acf",
   "metadata": {},
   "outputs": [],
   "source": [
    "targets_train = pd.concat([data_train.pop(col) for col in [\n",
    "#     ('temperatures', 'DC_GT102_GM102'),\n",
    "#     ('temperatures', 'DC_GT103_GM103'),\n",
    "#     ('temperatures', 'DC_GT104_GM104'),\n",
    "    ('temperatures', 'TA01_GT10X_GM10X'),\n",
    "]], axis=1)\n",
    "# targets_train = (targets_train - targets_train.shift(t_steps)) * 10\n",
    "\n",
    "targets_test = pd.concat([data_test.pop(col) for col in [\n",
    "#     ('temperatures', 'DC_GT102_GM102'),\n",
    "#     ('temperatures', 'DC_GT103_GM103'),\n",
    "#     ('temperatures', 'DC_GT104_GM104'),\n",
    "    ('temperatures', 'TA01_GT10X_GM10X'),\n",
    "]], axis=1)\n",
    "# targets_test = (targets_test - targets_test.shift(t_steps)) * 10"
   ]
  },
  {
   "cell_type": "code",
   "execution_count": 337,
   "id": "3f8d079a",
   "metadata": {},
   "outputs": [],
   "source": [
    "# targets_train *= 10\n",
    "# targets_test *= 10"
   ]
  },
  {
   "cell_type": "code",
   "execution_count": 338,
   "id": "e9f6d9fd",
   "metadata": {},
   "outputs": [],
   "source": [
    "temps_train = targets_train[:-n_steps]#.values\n",
    "temps_test = targets_test[:-n_steps]#.values"
   ]
  },
  {
   "cell_type": "markdown",
   "id": "f6cf0068",
   "metadata": {},
   "source": [
    "### Create sequences"
   ]
  },
  {
   "cell_type": "code",
   "execution_count": 339,
   "id": "db044685",
   "metadata": {},
   "outputs": [],
   "source": [
    "def date_flagger(data, n_steps):\n",
    "    # get flagged datesvalues\n",
    "#     data['minute'] = data.index.get_level_values(3).values    \n",
    "#     data['date_flag'] = data.minute - data.minute.shift(n_steps) != (n_steps)\n",
    "\n",
    "    data['hour'] = data.index.get_level_values(2).values    \n",
    "    data['date_flag'] = data.hour - data.hour.shift(n_steps) > 2\n",
    "    \n",
    "    # get positions in data, w.r.t. n_step removed observations at start\n",
    "    flagged_idx = np.where(data.date_flag.values == 1)\n",
    "    flagged_idx = flagged_idx[0] - n_steps\n",
    "    \n",
    "    del data['hour'], data['date_flag']\n",
    "    \n",
    "    return flagged_idx"
   ]
  },
  {
   "cell_type": "code",
   "execution_count": 340,
   "id": "d05dd55b",
   "metadata": {},
   "outputs": [],
   "source": [
    "def seq_maker_single(data, n_steps):\n",
    "    \n",
    "    vals = data.values\n",
    "    sequences = []\n",
    "    for i in range(len(vals) - n_steps):\n",
    "        sequences.append(vals[i:i+n_steps])\n",
    "    sequences = np.stack(sequences)\n",
    "    \n",
    "    flags = date_flagger(data, n_steps)\n",
    "    mask = [idx not in flags for idx in range(len(sequences))]\n",
    "    \n",
    "    sequences = sequences[mask]\n",
    "    \n",
    "    return sequences\n",
    "\n",
    "def seq_maker(data, targets, temps, n_steps):\n",
    "    \n",
    "    vals = data.values\n",
    "    sequences = []\n",
    "    for i in range(len(vals) - n_steps):\n",
    "        sequences.append(vals[i:i+n_steps])\n",
    "    sequences = np.stack(sequences)\n",
    "    \n",
    "    flags = date_flagger(data, n_steps)\n",
    "    mask = [idx not in flags for idx in range(len(sequences))]\n",
    "    \n",
    "    sequences = sequences[mask]\n",
    "    targets = targets[n_steps:][mask].values\n",
    "    temps = temps[mask].values\n",
    "    \n",
    "    return sequences, targets, temps"
   ]
  },
  {
   "cell_type": "code",
   "execution_count": 341,
   "id": "8ac64bb0",
   "metadata": {},
   "outputs": [],
   "source": [
    "# make sequences\n",
    "sequences_train, targets_train, temps_train = seq_maker(data_train, targets_train, temps_train, n_steps)\n",
    "sequences_test, targets_test, temps_test = seq_maker(data_test, targets_test, temps_test, n_steps)"
   ]
  },
  {
   "cell_type": "code",
   "execution_count": 342,
   "id": "67a06752",
   "metadata": {},
   "outputs": [],
   "source": [
    "# for t in range(1, t_steps+1):\n",
    "#     sequences_test[:, -t, :] = sequences_test[:, -(t_steps+1), :]\n",
    "# #     sequences_train[:, -t, :] = sequences_train[:, -(t_steps+2), :]"
   ]
  },
  {
   "cell_type": "code",
   "execution_count": 343,
   "id": "da03bba6",
   "metadata": {},
   "outputs": [],
   "source": [
    "# sequences_train, temps_train, targets_train = sequences_train[:-1], temps_train[:-1], targets_train[1:]\n",
    "# sequences_test, temps_test, targets_test = sequences_test[:-1], temps_test[:-1], targets_test[1:]"
   ]
  },
  {
   "cell_type": "code",
   "execution_count": 344,
   "id": "9973d7cd",
   "metadata": {},
   "outputs": [],
   "source": [
    "# shuffle training data randomly\n",
    "idxs = np.arange(len(targets_train))\n",
    "np.random.shuffle(idxs)\n",
    "\n",
    "sequences_train = sequences_train[idxs]\n",
    "targets_train = targets_train[idxs]\n",
    "temps_train = temps_train[idxs]"
   ]
  },
  {
   "cell_type": "markdown",
   "id": "cdaeef6e",
   "metadata": {},
   "source": [
    "## Define Recurrent NN"
   ]
  },
  {
   "cell_type": "code",
   "execution_count": 345,
   "id": "d9b7b81d",
   "metadata": {},
   "outputs": [],
   "source": [
    "tf.keras.backend.clear_session()"
   ]
  },
  {
   "cell_type": "code",
   "execution_count": 346,
   "id": "19310ae5",
   "metadata": {},
   "outputs": [],
   "source": [
    "inputs = layers.Input(shape=(sequences_train.shape[1], sequences_train.shape[2]))\n",
    "inputs = layers.LayerNormalization()(inputs)\n",
    "\n",
    "layer, state = layers.GRU(units=128, recurrent_dropout=0.5, return_sequences=False, return_state=True)(inputs)\n",
    "# layer = layers.LayerNormalization()(layer)\n",
    "# layer = layers.GRU(units=32, recurrent_dropout=0.5, return_sequences=True, return_state=False)(layer)\n",
    "# layer = layers.LayerNormalization()(layer)\n",
    "# layer = layers.GRU(units=32, recurrent_dropout=0.5, return_sequences=True, return_state=False)(layer)\n",
    "# layer = layers.LayerNormalization()(layer)\n",
    "# layer, state = layers.GRU(units=32, recurrent_dropout=0.5, return_sequences=False, return_state=True)(layer)\n",
    "state = layers.LayerNormalization()(state)\n",
    "# state = layers.Dropout(0.5)(state)\n",
    "\n",
    "\n",
    "# temp = layers.Input(shape=(1,))\n",
    "# temp = layers.GaussianNoise(stddev=0.0)(temp)\n",
    "\n",
    "# output = layers.Concatenate()([state, temp])\n",
    "# output = layers.Dense(units=1, activation=None, use_bias=False)(output)\n",
    "output = layers.Dense(units=1, activation=None, use_bias=False)(state)\n",
    "\n",
    "# model = Model(inputs=[inputs, temp], outputs=output)\n",
    "model = Model(inputs=inputs, outputs=output)"
   ]
  },
  {
   "cell_type": "code",
   "execution_count": 347,
   "id": "0615a63d",
   "metadata": {
    "scrolled": false
   },
   "outputs": [
    {
     "name": "stdout",
     "output_type": "stream",
     "text": [
      "Model: \"model\"\n",
      "_________________________________________________________________\n",
      " Layer (type)                Output Shape              Param #   \n",
      "=================================================================\n",
      " input_2 (InputLayer)        [(None, 12, 7)]           0         \n",
      "                                                                 \n",
      " gru (GRU)                   [(None, 128),             52608     \n",
      "                              (None, 128)]                       \n",
      "                                                                 \n",
      " layer_normalization_1 (Laye  (None, 128)              256       \n",
      " rNormalization)                                                 \n",
      "                                                                 \n",
      " dense (Dense)               (None, 1)                 128       \n",
      "                                                                 \n",
      "=================================================================\n",
      "Total params: 52,992\n",
      "Trainable params: 52,992\n",
      "Non-trainable params: 0\n",
      "_________________________________________________________________\n"
     ]
    }
   ],
   "source": [
    "# lr = 0.005\n",
    "lr = 0.0001\n",
    "# lr = 0.0005\n",
    "# model = tf.keras.models.Sequential(layers=layerList, name='model')\n",
    "# model.compile(optimizer=tf.keras.optimizers.Adam(learning_rate=lr), loss='mse')\n",
    "# model.compile(optimizer=tf.keras.optimizers.experimental.AdamW(learning_rate=lr), loss='mse')\n",
    "model.compile(optimizer=tf.keras.optimizers.RMSprop(learning_rate=lr), loss='mse')\n",
    "model.summary()"
   ]
  },
  {
   "cell_type": "code",
   "execution_count": 348,
   "id": "4230094b",
   "metadata": {},
   "outputs": [],
   "source": [
    "# model2 = tf.keras.models.load_model(save_path + 'temp_diff_model_v103')\n",
    "# model2.summary()"
   ]
  },
  {
   "cell_type": "code",
   "execution_count": 349,
   "id": "7cfecf12",
   "metadata": {},
   "outputs": [],
   "source": [
    "# # copy weigths from pre-trained\n",
    "# for idx, layer in enumerate(model.layers):\n",
    "#     layer.set_weights(model2.layers[idx].get_weights())"
   ]
  },
  {
   "cell_type": "code",
   "execution_count": 350,
   "id": "7f7baea1",
   "metadata": {
    "scrolled": false
   },
   "outputs": [
    {
     "name": "stdout",
     "output_type": "stream",
     "text": [
      "Epoch 1/50\n",
      "1028/1028 [==============================] - 39s 32ms/step - loss: 0.4660 - val_loss: 1.7263\n",
      "Epoch 2/50\n",
      "1028/1028 [==============================] - 32s 31ms/step - loss: 0.3202 - val_loss: 0.8204\n",
      "Epoch 3/50\n",
      "1028/1028 [==============================] - 32s 31ms/step - loss: 0.2700 - val_loss: 0.5011\n",
      "Epoch 4/50\n",
      "1028/1028 [==============================] - 32s 31ms/step - loss: 0.2489 - val_loss: 0.3998\n",
      "Epoch 5/50\n",
      "1028/1028 [==============================] - 32s 31ms/step - loss: 0.2368 - val_loss: 0.3848\n",
      "Epoch 6/50\n",
      "  81/1028 [=>............................] - ETA: 28s - loss: 0.2139"
     ]
    },
    {
     "ename": "KeyboardInterrupt",
     "evalue": "",
     "output_type": "error",
     "traceback": [
      "\u001b[1;31m---------------------------------------------------------------------------\u001b[0m",
      "\u001b[1;31mKeyboardInterrupt\u001b[0m                         Traceback (most recent call last)",
      "\u001b[1;32m~\\AppData\\Local\\Temp\\ipykernel_11964\\2549459866.py\u001b[0m in \u001b[0;36m<module>\u001b[1;34m\u001b[0m\n\u001b[1;32m----> 1\u001b[1;33m trainHist = model.fit(\n\u001b[0m\u001b[0;32m      2\u001b[0m \u001b[1;31m#     [sequences_train, temps_train],\u001b[0m\u001b[1;33m\u001b[0m\u001b[1;33m\u001b[0m\u001b[0m\n\u001b[0;32m      3\u001b[0m     \u001b[0msequences_train\u001b[0m\u001b[1;33m,\u001b[0m\u001b[1;33m\u001b[0m\u001b[1;33m\u001b[0m\u001b[0m\n\u001b[0;32m      4\u001b[0m     \u001b[0mtargets_train\u001b[0m\u001b[1;33m,\u001b[0m\u001b[1;33m\u001b[0m\u001b[1;33m\u001b[0m\u001b[0m\n\u001b[0;32m      5\u001b[0m     \u001b[0mepochs\u001b[0m\u001b[1;33m=\u001b[0m\u001b[1;36m50\u001b[0m\u001b[1;33m,\u001b[0m\u001b[1;33m\u001b[0m\u001b[1;33m\u001b[0m\u001b[0m\n",
      "\u001b[1;32m~\\anaconda3\\lib\\site-packages\\keras\\utils\\traceback_utils.py\u001b[0m in \u001b[0;36merror_handler\u001b[1;34m(*args, **kwargs)\u001b[0m\n\u001b[0;32m     63\u001b[0m         \u001b[0mfiltered_tb\u001b[0m \u001b[1;33m=\u001b[0m \u001b[1;32mNone\u001b[0m\u001b[1;33m\u001b[0m\u001b[1;33m\u001b[0m\u001b[0m\n\u001b[0;32m     64\u001b[0m         \u001b[1;32mtry\u001b[0m\u001b[1;33m:\u001b[0m\u001b[1;33m\u001b[0m\u001b[1;33m\u001b[0m\u001b[0m\n\u001b[1;32m---> 65\u001b[1;33m             \u001b[1;32mreturn\u001b[0m \u001b[0mfn\u001b[0m\u001b[1;33m(\u001b[0m\u001b[1;33m*\u001b[0m\u001b[0margs\u001b[0m\u001b[1;33m,\u001b[0m \u001b[1;33m**\u001b[0m\u001b[0mkwargs\u001b[0m\u001b[1;33m)\u001b[0m\u001b[1;33m\u001b[0m\u001b[1;33m\u001b[0m\u001b[0m\n\u001b[0m\u001b[0;32m     66\u001b[0m         \u001b[1;32mexcept\u001b[0m \u001b[0mException\u001b[0m \u001b[1;32mas\u001b[0m \u001b[0me\u001b[0m\u001b[1;33m:\u001b[0m\u001b[1;33m\u001b[0m\u001b[1;33m\u001b[0m\u001b[0m\n\u001b[0;32m     67\u001b[0m             \u001b[0mfiltered_tb\u001b[0m \u001b[1;33m=\u001b[0m \u001b[0m_process_traceback_frames\u001b[0m\u001b[1;33m(\u001b[0m\u001b[0me\u001b[0m\u001b[1;33m.\u001b[0m\u001b[0m__traceback__\u001b[0m\u001b[1;33m)\u001b[0m\u001b[1;33m\u001b[0m\u001b[1;33m\u001b[0m\u001b[0m\n",
      "\u001b[1;32m~\\anaconda3\\lib\\site-packages\\keras\\engine\\training.py\u001b[0m in \u001b[0;36mfit\u001b[1;34m(self, x, y, batch_size, epochs, verbose, callbacks, validation_split, validation_data, shuffle, class_weight, sample_weight, initial_epoch, steps_per_epoch, validation_steps, validation_batch_size, validation_freq, max_queue_size, workers, use_multiprocessing)\u001b[0m\n\u001b[0;32m   1648\u001b[0m                         ):\n\u001b[0;32m   1649\u001b[0m                             \u001b[0mcallbacks\u001b[0m\u001b[1;33m.\u001b[0m\u001b[0mon_train_batch_begin\u001b[0m\u001b[1;33m(\u001b[0m\u001b[0mstep\u001b[0m\u001b[1;33m)\u001b[0m\u001b[1;33m\u001b[0m\u001b[1;33m\u001b[0m\u001b[0m\n\u001b[1;32m-> 1650\u001b[1;33m                             \u001b[0mtmp_logs\u001b[0m \u001b[1;33m=\u001b[0m \u001b[0mself\u001b[0m\u001b[1;33m.\u001b[0m\u001b[0mtrain_function\u001b[0m\u001b[1;33m(\u001b[0m\u001b[0miterator\u001b[0m\u001b[1;33m)\u001b[0m\u001b[1;33m\u001b[0m\u001b[1;33m\u001b[0m\u001b[0m\n\u001b[0m\u001b[0;32m   1651\u001b[0m                             \u001b[1;32mif\u001b[0m \u001b[0mdata_handler\u001b[0m\u001b[1;33m.\u001b[0m\u001b[0mshould_sync\u001b[0m\u001b[1;33m:\u001b[0m\u001b[1;33m\u001b[0m\u001b[1;33m\u001b[0m\u001b[0m\n\u001b[0;32m   1652\u001b[0m                                 \u001b[0mcontext\u001b[0m\u001b[1;33m.\u001b[0m\u001b[0masync_wait\u001b[0m\u001b[1;33m(\u001b[0m\u001b[1;33m)\u001b[0m\u001b[1;33m\u001b[0m\u001b[1;33m\u001b[0m\u001b[0m\n",
      "\u001b[1;32m~\\anaconda3\\lib\\site-packages\\tensorflow\\python\\util\\traceback_utils.py\u001b[0m in \u001b[0;36merror_handler\u001b[1;34m(*args, **kwargs)\u001b[0m\n\u001b[0;32m    148\u001b[0m     \u001b[0mfiltered_tb\u001b[0m \u001b[1;33m=\u001b[0m \u001b[1;32mNone\u001b[0m\u001b[1;33m\u001b[0m\u001b[1;33m\u001b[0m\u001b[0m\n\u001b[0;32m    149\u001b[0m     \u001b[1;32mtry\u001b[0m\u001b[1;33m:\u001b[0m\u001b[1;33m\u001b[0m\u001b[1;33m\u001b[0m\u001b[0m\n\u001b[1;32m--> 150\u001b[1;33m       \u001b[1;32mreturn\u001b[0m \u001b[0mfn\u001b[0m\u001b[1;33m(\u001b[0m\u001b[1;33m*\u001b[0m\u001b[0margs\u001b[0m\u001b[1;33m,\u001b[0m \u001b[1;33m**\u001b[0m\u001b[0mkwargs\u001b[0m\u001b[1;33m)\u001b[0m\u001b[1;33m\u001b[0m\u001b[1;33m\u001b[0m\u001b[0m\n\u001b[0m\u001b[0;32m    151\u001b[0m     \u001b[1;32mexcept\u001b[0m \u001b[0mException\u001b[0m \u001b[1;32mas\u001b[0m \u001b[0me\u001b[0m\u001b[1;33m:\u001b[0m\u001b[1;33m\u001b[0m\u001b[1;33m\u001b[0m\u001b[0m\n\u001b[0;32m    152\u001b[0m       \u001b[0mfiltered_tb\u001b[0m \u001b[1;33m=\u001b[0m \u001b[0m_process_traceback_frames\u001b[0m\u001b[1;33m(\u001b[0m\u001b[0me\u001b[0m\u001b[1;33m.\u001b[0m\u001b[0m__traceback__\u001b[0m\u001b[1;33m)\u001b[0m\u001b[1;33m\u001b[0m\u001b[1;33m\u001b[0m\u001b[0m\n",
      "\u001b[1;32m~\\anaconda3\\lib\\site-packages\\tensorflow\\python\\eager\\polymorphic_function\\polymorphic_function.py\u001b[0m in \u001b[0;36m__call__\u001b[1;34m(self, *args, **kwds)\u001b[0m\n\u001b[0;32m    878\u001b[0m \u001b[1;33m\u001b[0m\u001b[0m\n\u001b[0;32m    879\u001b[0m       \u001b[1;32mwith\u001b[0m \u001b[0mOptionalXlaContext\u001b[0m\u001b[1;33m(\u001b[0m\u001b[0mself\u001b[0m\u001b[1;33m.\u001b[0m\u001b[0m_jit_compile\u001b[0m\u001b[1;33m)\u001b[0m\u001b[1;33m:\u001b[0m\u001b[1;33m\u001b[0m\u001b[1;33m\u001b[0m\u001b[0m\n\u001b[1;32m--> 880\u001b[1;33m         \u001b[0mresult\u001b[0m \u001b[1;33m=\u001b[0m \u001b[0mself\u001b[0m\u001b[1;33m.\u001b[0m\u001b[0m_call\u001b[0m\u001b[1;33m(\u001b[0m\u001b[1;33m*\u001b[0m\u001b[0margs\u001b[0m\u001b[1;33m,\u001b[0m \u001b[1;33m**\u001b[0m\u001b[0mkwds\u001b[0m\u001b[1;33m)\u001b[0m\u001b[1;33m\u001b[0m\u001b[1;33m\u001b[0m\u001b[0m\n\u001b[0m\u001b[0;32m    881\u001b[0m \u001b[1;33m\u001b[0m\u001b[0m\n\u001b[0;32m    882\u001b[0m       \u001b[0mnew_tracing_count\u001b[0m \u001b[1;33m=\u001b[0m \u001b[0mself\u001b[0m\u001b[1;33m.\u001b[0m\u001b[0mexperimental_get_tracing_count\u001b[0m\u001b[1;33m(\u001b[0m\u001b[1;33m)\u001b[0m\u001b[1;33m\u001b[0m\u001b[1;33m\u001b[0m\u001b[0m\n",
      "\u001b[1;32m~\\anaconda3\\lib\\site-packages\\tensorflow\\python\\eager\\polymorphic_function\\polymorphic_function.py\u001b[0m in \u001b[0;36m_call\u001b[1;34m(self, *args, **kwds)\u001b[0m\n\u001b[0;32m    910\u001b[0m       \u001b[1;31m# In this case we have created variables on the first call, so we run the\u001b[0m\u001b[1;33m\u001b[0m\u001b[1;33m\u001b[0m\u001b[0m\n\u001b[0;32m    911\u001b[0m       \u001b[1;31m# defunned version which is guaranteed to never create variables.\u001b[0m\u001b[1;33m\u001b[0m\u001b[1;33m\u001b[0m\u001b[0m\n\u001b[1;32m--> 912\u001b[1;33m       \u001b[1;32mreturn\u001b[0m \u001b[0mself\u001b[0m\u001b[1;33m.\u001b[0m\u001b[0m_no_variable_creation_fn\u001b[0m\u001b[1;33m(\u001b[0m\u001b[1;33m*\u001b[0m\u001b[0margs\u001b[0m\u001b[1;33m,\u001b[0m \u001b[1;33m**\u001b[0m\u001b[0mkwds\u001b[0m\u001b[1;33m)\u001b[0m  \u001b[1;31m# pylint: disable=not-callable\u001b[0m\u001b[1;33m\u001b[0m\u001b[1;33m\u001b[0m\u001b[0m\n\u001b[0m\u001b[0;32m    913\u001b[0m     \u001b[1;32melif\u001b[0m \u001b[0mself\u001b[0m\u001b[1;33m.\u001b[0m\u001b[0m_variable_creation_fn\u001b[0m \u001b[1;32mis\u001b[0m \u001b[1;32mnot\u001b[0m \u001b[1;32mNone\u001b[0m\u001b[1;33m:\u001b[0m\u001b[1;33m\u001b[0m\u001b[1;33m\u001b[0m\u001b[0m\n\u001b[0;32m    914\u001b[0m       \u001b[1;31m# Release the lock early so that multiple threads can perform the call\u001b[0m\u001b[1;33m\u001b[0m\u001b[1;33m\u001b[0m\u001b[0m\n",
      "\u001b[1;32m~\\anaconda3\\lib\\site-packages\\tensorflow\\python\\eager\\polymorphic_function\\tracing_compiler.py\u001b[0m in \u001b[0;36m__call__\u001b[1;34m(self, *args, **kwargs)\u001b[0m\n\u001b[0;32m    132\u001b[0m       (concrete_function,\n\u001b[0;32m    133\u001b[0m        filtered_flat_args) = self._maybe_define_function(args, kwargs)\n\u001b[1;32m--> 134\u001b[1;33m     return concrete_function._call_flat(\n\u001b[0m\u001b[0;32m    135\u001b[0m         filtered_flat_args, captured_inputs=concrete_function.captured_inputs)  # pylint: disable=protected-access\n\u001b[0;32m    136\u001b[0m \u001b[1;33m\u001b[0m\u001b[0m\n",
      "\u001b[1;32m~\\anaconda3\\lib\\site-packages\\tensorflow\\python\\eager\\polymorphic_function\\monomorphic_function.py\u001b[0m in \u001b[0;36m_call_flat\u001b[1;34m(self, args, captured_inputs, cancellation_manager)\u001b[0m\n\u001b[0;32m   1743\u001b[0m         and executing_eagerly):\n\u001b[0;32m   1744\u001b[0m       \u001b[1;31m# No tape is watching; skip to running the function.\u001b[0m\u001b[1;33m\u001b[0m\u001b[1;33m\u001b[0m\u001b[0m\n\u001b[1;32m-> 1745\u001b[1;33m       return self._build_call_outputs(self._inference_function.call(\n\u001b[0m\u001b[0;32m   1746\u001b[0m           ctx, args, cancellation_manager=cancellation_manager))\n\u001b[0;32m   1747\u001b[0m     forward_backward = self._select_forward_and_backward_functions(\n",
      "\u001b[1;32m~\\anaconda3\\lib\\site-packages\\tensorflow\\python\\eager\\polymorphic_function\\monomorphic_function.py\u001b[0m in \u001b[0;36mcall\u001b[1;34m(self, ctx, args, cancellation_manager)\u001b[0m\n\u001b[0;32m    376\u001b[0m       \u001b[1;32mwith\u001b[0m \u001b[0m_InterpolateFunctionError\u001b[0m\u001b[1;33m(\u001b[0m\u001b[0mself\u001b[0m\u001b[1;33m)\u001b[0m\u001b[1;33m:\u001b[0m\u001b[1;33m\u001b[0m\u001b[1;33m\u001b[0m\u001b[0m\n\u001b[0;32m    377\u001b[0m         \u001b[1;32mif\u001b[0m \u001b[0mcancellation_manager\u001b[0m \u001b[1;32mis\u001b[0m \u001b[1;32mNone\u001b[0m\u001b[1;33m:\u001b[0m\u001b[1;33m\u001b[0m\u001b[1;33m\u001b[0m\u001b[0m\n\u001b[1;32m--> 378\u001b[1;33m           outputs = execute.execute(\n\u001b[0m\u001b[0;32m    379\u001b[0m               \u001b[0mstr\u001b[0m\u001b[1;33m(\u001b[0m\u001b[0mself\u001b[0m\u001b[1;33m.\u001b[0m\u001b[0msignature\u001b[0m\u001b[1;33m.\u001b[0m\u001b[0mname\u001b[0m\u001b[1;33m)\u001b[0m\u001b[1;33m,\u001b[0m\u001b[1;33m\u001b[0m\u001b[1;33m\u001b[0m\u001b[0m\n\u001b[0;32m    380\u001b[0m               \u001b[0mnum_outputs\u001b[0m\u001b[1;33m=\u001b[0m\u001b[0mself\u001b[0m\u001b[1;33m.\u001b[0m\u001b[0m_num_outputs\u001b[0m\u001b[1;33m,\u001b[0m\u001b[1;33m\u001b[0m\u001b[1;33m\u001b[0m\u001b[0m\n",
      "\u001b[1;32m~\\anaconda3\\lib\\site-packages\\tensorflow\\python\\eager\\execute.py\u001b[0m in \u001b[0;36mquick_execute\u001b[1;34m(op_name, num_outputs, inputs, attrs, ctx, name)\u001b[0m\n\u001b[0;32m     50\u001b[0m   \u001b[1;32mtry\u001b[0m\u001b[1;33m:\u001b[0m\u001b[1;33m\u001b[0m\u001b[1;33m\u001b[0m\u001b[0m\n\u001b[0;32m     51\u001b[0m     \u001b[0mctx\u001b[0m\u001b[1;33m.\u001b[0m\u001b[0mensure_initialized\u001b[0m\u001b[1;33m(\u001b[0m\u001b[1;33m)\u001b[0m\u001b[1;33m\u001b[0m\u001b[1;33m\u001b[0m\u001b[0m\n\u001b[1;32m---> 52\u001b[1;33m     tensors = pywrap_tfe.TFE_Py_Execute(ctx._handle, device_name, op_name,\n\u001b[0m\u001b[0;32m     53\u001b[0m                                         inputs, attrs, num_outputs)\n\u001b[0;32m     54\u001b[0m   \u001b[1;32mexcept\u001b[0m \u001b[0mcore\u001b[0m\u001b[1;33m.\u001b[0m\u001b[0m_NotOkStatusException\u001b[0m \u001b[1;32mas\u001b[0m \u001b[0me\u001b[0m\u001b[1;33m:\u001b[0m\u001b[1;33m\u001b[0m\u001b[1;33m\u001b[0m\u001b[0m\n",
      "\u001b[1;31mKeyboardInterrupt\u001b[0m: "
     ]
    }
   ],
   "source": [
    "trainHist = model.fit(\n",
    "#     [sequences_train, temps_train],\n",
    "    sequences_train,\n",
    "    targets_train,\n",
    "    epochs=50,\n",
    "    batch_size=32,\n",
    "#     validation_split=0.0,\n",
    "#     validation_data = ([sequences_test, temps_test], targets_test),\n",
    "    validation_data = (sequences_test, targets_test),\n",
    "    callbacks=[\n",
    "        tf.keras.callbacks.EarlyStopping(monitor=\"val_loss\", patience=5, mode=\"min\"),\n",
    "#         tf.keras.callbacks.LearningRateScheduler(lambda epoch: lr * (0.9 ** epoch))\n",
    "    ],\n",
    ")"
   ]
  },
  {
   "cell_type": "code",
   "execution_count": 101,
   "id": "be3a5a2b",
   "metadata": {
    "scrolled": true
   },
   "outputs": [
    {
     "name": "stderr",
     "output_type": "stream",
     "text": [
      "WARNING:absl:Found untraced functions such as _update_step_xla while saving (showing 1 of 1). These functions will not be directly callable after loading.\n"
     ]
    },
    {
     "name": "stdout",
     "output_type": "stream",
     "text": [
      "INFO:tensorflow:Assets written to: C:\\ml_projects\\rise-gh.git\\rise-gh\\model\\saved\\temp_diff_model_vY\\assets\n"
     ]
    },
    {
     "name": "stderr",
     "output_type": "stream",
     "text": [
      "INFO:tensorflow:Assets written to: C:\\ml_projects\\rise-gh.git\\rise-gh\\model\\saved\\temp_diff_model_vY\\assets\n"
     ]
    }
   ],
   "source": [
    "# model_name = 'temp_diff_model_vY'\n",
    "# model.save(save_path + model_name)"
   ]
  },
  {
   "cell_type": "code",
   "execution_count": null,
   "id": "eb9c5a71",
   "metadata": {},
   "outputs": [],
   "source": [
    "# model = tf.keras.models.load_model(save_path + 'temp_diff_model_v202')\n",
    "# model.summary()"
   ]
  },
  {
   "cell_type": "code",
   "execution_count": 351,
   "id": "66b952aa",
   "metadata": {},
   "outputs": [
    {
     "name": "stdout",
     "output_type": "stream",
     "text": [
      "65/65 [==============================] - 1s 9ms/step\n"
     ]
    }
   ],
   "source": [
    "# preds = np.squeeze(model.predict([sequences_test, temps_test]))\n",
    "preds = np.squeeze(model.predict(sequences_test))"
   ]
  },
  {
   "cell_type": "code",
   "execution_count": 352,
   "id": "bcf79a48",
   "metadata": {},
   "outputs": [
    {
     "data": {
      "text/plain": [
       "(2053,)"
      ]
     },
     "execution_count": 352,
     "metadata": {},
     "output_type": "execute_result"
    }
   ],
   "source": [
    "preds.shape"
   ]
  },
  {
   "cell_type": "code",
   "execution_count": 353,
   "id": "ae058b1a",
   "metadata": {},
   "outputs": [
    {
     "data": {
      "image/png": "[encoded data removed]",
      "text/plain": [
       "<Figure size 640x480 with 1 Axes>"
      ]
     },
     "metadata": {},
     "output_type": "display_data"
    }
   ],
   "source": [
    "# plt.plot(targets_test[-3000:, 0])\n",
    "# plt.plot(targets_test[-3000:, 1])\n",
    "plt.plot(targets_test[-2200:])\n",
    "plt.plot(preds[-2200:])\n",
    "plt.show()"
   ]
  },
  {
   "cell_type": "code",
   "execution_count": 435,
   "id": "13c5ff62",
   "metadata": {},
   "outputs": [
    {
     "data": {
      "image/png": "[encoded data removed]",
      "text/plain": [
       "<Figure size 588.25x500 with 1 Axes>"
      ]
     },
     "metadata": {},
     "output_type": "display_data"
    }
   ],
   "source": [
    "## preds_df = pd.DataFrame(data=[targets_test / 10, np.squeeze(preds) / 10]).T\n",
    "preds_df = pd.DataFrame(data=[np.squeeze(targets_test), np.squeeze(preds)]).T\n",
    "preds_df.columns = ['True', 'Preds']\n",
    "# preds_df.index = data.time.date.iloc[-5760:]\n",
    "\n",
    "ax = sns.relplot(\n",
    "    data=preds_df, #.iloc[:12000],\n",
    "    kind='line',\n",
    "    palette=sns.color_palette('bright')[1:3],\n",
    "    linewidth=1.5,\n",
    "    markers=False,\n",
    "    dashes=False\n",
    ")\n",
    "\n",
    "# ax.set_xticklabels(step=2)\n",
    "sns.move_legend(ax, loc='upper right', frameon=True, bbox_to_anchor=(0.9, 0.9))\n",
    "plt.xlim(0, 800)\n",
    "plt.ylim(-10, 10)\n",
    "plt.xlabel('$t$')\n",
    "# plt.ylabel('C$^{\\circ}$', rotation=0, labelpad=20)\n",
    "plt.ylabel('$\\sigma$', rotation=0, labelpad=10)\n",
    "plt.title('Temperature predictions (60 mins.)')\n",
    "# plt.savefig(plot_path + 'temp_diff_model_preds.png', bbox_inches='tight', dpi=200)\n",
    "plt.show()"
   ]
  },
  {
   "cell_type": "code",
   "execution_count": 489,
   "id": "34180db7",
   "metadata": {},
   "outputs": [
    {
     "name": "stdout",
     "output_type": "stream",
     "text": [
      "65/65 [==============================] - 1s 9ms/step\n"
     ]
    }
   ],
   "source": [
    "test_seqs = sequences_test.copy()\n",
    "test_seqs[:, :, 1] = 3.0\n",
    "# test_seqs[:, -t_steps:, 3] += 2.0\n",
    "test_seqs[:, :, 0] = 4.0\n",
    "\n",
    "test_seqs[:, :, 2] = 0\n",
    "# test_seqs[:, :, 4] += 2\n",
    "\n",
    "# test_preds = np.squeeze(model.predict([test_seqs, temps_test]))\n",
    "test_preds = np.squeeze(model.predict(test_seqs))"
   ]
  },
  {
   "cell_type": "code",
   "execution_count": 490,
   "id": "6894cb3e",
   "metadata": {
    "scrolled": false
   },
   "outputs": [
    {
     "data": {
      "image/png": "[encoded data removed]",
      "text/plain": [
       "<Figure size 640x480 with 1 Axes>"
      ]
     },
     "metadata": {},
     "output_type": "display_data"
    }
   ],
   "source": [
    "plt.plot(preds[:2500])\n",
    "plt.plot(test_preds[:2500])\n",
    "# plt.plot(temps_test[:2500])\n",
    "# plt.plot(targets_test[:1500])\n",
    "plt.show()"
   ]
  },
  {
   "cell_type": "code",
   "execution_count": 357,
   "id": "9573216d",
   "metadata": {},
   "outputs": [
    {
     "data": {
      "text/plain": [
       "{('temperatures', 'TA_inflow'): {'mean': 7.829712005188221,\n",
       "  'std': 10.4771781839807,\n",
       "  'max': 56.879999999999995,\n",
       "  'min': 0.0},\n",
       " ('state', 'TA01_output'): {'mean': 42.75334490330462,\n",
       "  'std': 10.897842734176363,\n",
       "  'max': 75.0,\n",
       "  'min': 35.0},\n",
       " ('state', 'TA02_output'): {'mean': 3.1832506203473954,\n",
       "  'std': 15.309522928030194,\n",
       "  'max': 85.0,\n",
       "  'min': 0.0},\n",
       " ('temperatures', 'TA01_GT10X_GM10X'): {'mean': 21.185755702382163,\n",
       "  'std': 2.1465912572247308,\n",
       "  'max': 38.61,\n",
       "  'min': 14.176666666666666},\n",
       " ('temperatures', 'TA01_GT401_GM401'): {'mean': 42.65438122809052,\n",
       "  'std': 11.064124052679368,\n",
       "  'max': 54.56,\n",
       "  'min': 1.6800000000000002},\n",
       " ('temperatures', 'DC_GT301_damped'): {'mean': -2.041792114695267,\n",
       "  'std': 8.113325909233065,\n",
       "  'max': 26.939999999999998,\n",
       "  'min': -21.6},\n",
       " ('humidity', 'TA01_GT10X_GM10X'): {'mean': 30.561159130594596,\n",
       "  'std': 9.346108898947241,\n",
       "  'max': 57.38333333333334,\n",
       "  'min': 7.256666666666666},\n",
       " ('sun', 'gsi'): {'mean': 70.5500257713255,\n",
       "  'std': 145.32592717485315,\n",
       "  'max': 709.84,\n",
       "  'min': 0.0}}"
      ]
     },
     "execution_count": 357,
     "metadata": {},
     "output_type": "execute_result"
    }
   ],
   "source": [
    "col_params"
   ]
  },
  {
   "cell_type": "code",
   "execution_count": 477,
   "id": "0304a945",
   "metadata": {},
   "outputs": [],
   "source": [
    "k = 100\n",
    "n = 400"
   ]
  },
  {
   "cell_type": "code",
   "execution_count": 478,
   "id": "780c6b5a",
   "metadata": {},
   "outputs": [],
   "source": [
    "seq = sequences_test[n, :, :].copy()"
   ]
  },
  {
   "cell_type": "code",
   "execution_count": 479,
   "id": "ba2d2efa",
   "metadata": {},
   "outputs": [],
   "source": [
    "# ta01_vals = np.arange(ta01_min, ta01_max, (ta01_max - ta01_min) / k)\n",
    "# ta02_vals = np.arange(ta02_min, ta02_max, (ta02_max - ta02_min) / k)\n",
    "\n",
    "ta01_vals = np.arange(ta01_min, 100, (ta01_max - ta01_min) / k)\n",
    "ta02_vals = np.arange(ta02_min, 100, (ta02_max - ta02_min) / k)\n",
    "\n",
    "ta01_minmax = (ta01_vals - ta01_min) / (ta01_max - ta01_min)\n",
    "ta02_minmax = (ta02_vals - ta02_min) / (ta02_max - ta02_min)"
   ]
  },
  {
   "cell_type": "code",
   "execution_count": 480,
   "id": "73fa3bbe",
   "metadata": {},
   "outputs": [],
   "source": [
    "temp_dc = seq[3].copy() * col_params[('temperatures', 'TA01_GT401_GM401')]['std'] +  col_params[('temperatures', 'TA01_GT401_GM401')]['mean']\n",
    "temp_out = seq[4].copy() * col_params[('temperatures', 'DC_GT301_damped')]['std'] + col_params[('temperatures', 'DC_GT301_damped')]['mean']"
   ]
  },
  {
   "cell_type": "code",
   "execution_count": 481,
   "id": "d041ef2e",
   "metadata": {
    "scrolled": true
   },
   "outputs": [],
   "source": [
    "temp_vals = np.zeros(shape=(k, k))\n",
    "\n",
    "seqs = []\n",
    "\n",
    "for i in range(100):\n",
    "    for j in range(100):\n",
    "        \n",
    "        seq = sequences_test[n, :, :].copy()\n",
    "        \n",
    "        ### DET HÄR ÄR FEL?!\n",
    "        ta_inflow = temp_dc * ta01_minmax[i] + temp_out * ta02_minmax[j]\n",
    "        \n",
    "        ta_inflow = (ta_inflow - col_params[('temperatures', 'TA_inflow')]['mean']) / col_params[('temperatures', 'TA_inflow')]['std']\n",
    "        ta01_val = (ta01_vals[i] - col_params[('state', 'TA01_output')]['mean']) / col_params[('state', 'TA01_output')]['std']\n",
    "        ta02_val = (ta02_vals[j] - col_params[('state', 'TA02_output')]['mean']) / col_params[('state', 'TA02_output')]['std']\n",
    "        \n",
    "        seq[0] = ta_inflow\n",
    "        seq[1] = ta01_val\n",
    "        seq[2] = ta02_val\n",
    "        \n",
    "        seqs.append(seq)\n",
    "#         temp = model.predict(seq[np.newaxis, :], verbose=0)\n",
    "#         temp_vals[i, j] = temp\n",
    "\n",
    "seqs = np.stack(seqs)"
   ]
  },
  {
   "cell_type": "code",
   "execution_count": 486,
   "id": "4b9944ef",
   "metadata": {},
   "outputs": [
    {
     "name": "stdout",
     "output_type": "stream",
     "text": [
      "313/313 [==============================] - 3s 9ms/step\n"
     ]
    }
   ],
   "source": [
    "temps = model.predict(seqs)"
   ]
  },
  {
   "cell_type": "code",
   "execution_count": 487,
   "id": "d8087acc",
   "metadata": {},
   "outputs": [],
   "source": [
    "temps = np.reshape(temps, (k, k)) * col_params[('temperatures', 'TA01_GT10X_GM10X')]['std'] + col_params[('temperatures', 'TA01_GT10X_GM10X')]['mean']"
   ]
  },
  {
   "cell_type": "code",
   "execution_count": 488,
   "id": "9806e937",
   "metadata": {
    "scrolled": false
   },
   "outputs": [
    {
     "data": {
      "text/plain": [
       "<matplotlib.colorbar.Colorbar at 0x1e03bda3b50>"
      ]
     },
     "execution_count": 488,
     "metadata": {},
     "output_type": "execute_result"
    },
    {
     "data": {
      "image/png": "[encoded data removed]",
      "text/plain": [
       "<Figure size 640x480 with 2 Axes>"
      ]
     },
     "metadata": {},
     "output_type": "display_data"
    }
   ],
   "source": [
    "plt.imshow(temps)\n",
    "plt.colorbar()"
   ]
  },
  {
   "cell_type": "code",
   "execution_count": null,
   "id": "0f9319c1",
   "metadata": {},
   "outputs": [],
   "source": []
  }
 ],
 "metadata": {
  "kernelspec": {
   "display_name": "Python 3 (ipykernel)",
   "language": "python",
   "name": "python3"
  },
  "language_info": {
   "codemirror_mode": {
    "name": "ipython",
    "version": 3
   },
   "file_extension": ".py",
   "mimetype": "text/x-python",
   "name": "python",
   "nbconvert_exporter": "python",
   "pygments_lexer": "ipython3",
   "version": "3.9.13"
  }
 },
 "nbformat": 4,
 "nbformat_minor": 5
}
