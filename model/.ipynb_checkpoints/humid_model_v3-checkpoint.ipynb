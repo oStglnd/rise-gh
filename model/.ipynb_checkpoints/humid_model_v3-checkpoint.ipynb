{
 "cells": [
  {
   "cell_type": "markdown",
   "id": "3c35d1cc",
   "metadata": {},
   "source": [
    "# Short-term Humidity Model Test (V3)"
   ]
  },
  {
   "cell_type": "markdown",
   "id": "195db0c9",
   "metadata": {},
   "source": [
    "## Import dependencies and data"
   ]
  },
  {
   "cell_type": "code",
   "execution_count": 1,
   "id": "77453a55",
   "metadata": {},
   "outputs": [],
   "source": [
    "# import dependencies\n",
    "import os\n",
    "import json\n",
    "import pandas as pd\n",
    "\n",
    "import matplotlib.pyplot as plt\n",
    "import seaborn as sns\n",
    "\n",
    "import numpy as np\n",
    "import tensorflow as tf\n",
    "from tensorflow.keras import layers"
   ]
  },
  {
   "cell_type": "code",
   "execution_count": 2,
   "id": "b5dee1ac",
   "metadata": {},
   "outputs": [],
   "source": [
    "# define relevant paths\n",
    "home_path = os.path.dirname(os.getcwd())\n",
    "data_path = home_path + '\\\\data\\\\'\n",
    "plot_path = home_path + '\\\\plotting\\\\plots\\\\'\n",
    "save_path = home_path + '\\\\model\\\\saved\\\\'"
   ]
  },
  {
   "cell_type": "code",
   "execution_count": 3,
   "id": "a747b251",
   "metadata": {},
   "outputs": [],
   "source": [
    "# get merged data\n",
    "data = pd.read_csv(\n",
    "    data_path + 'data_merged.csv',\n",
    "    header=[0, 1],\n",
    "    index_col=[0, 1, 2, 3, 4]\n",
    ")\n",
    "\n",
    "# convert index.date col to datetime\n",
    "#data.index = pd.to_datetime(data.index.values)\n",
    "data.loc[:, ('time', 'date')] = pd.to_datetime(data.time.date)"
   ]
  },
  {
   "cell_type": "code",
   "execution_count": 4,
   "id": "b0f46624",
   "metadata": {},
   "outputs": [],
   "source": [
    "# define X vars\n",
    "x_vars = [\n",
    "    ('flow', 'TA01_GP101'),\n",
    "    ('flow', 'FF01_GP101'),\n",
    "    ('temperatures', 'DC_GT401_GM401'),\n",
    "    ('temperatures', 'TA01_GT10X_GM10X'),\n",
    "    ('temperatures', 'DC_GT301_damped'),\n",
    "    ('temperatures', 'DC_GT301_outdoor'),\n",
    "    ('setpoints', 'TA01_GT10X_GM10X'),\n",
    "    ('humidity', 'TA01_GT10X_GM10X'),\n",
    "    ('humidity', 'DC_GT401_GM401'),\n",
    "    ('sun', 'gsi'),\n",
    "    ('sun', 'vol'),\n",
    "    ('time', 'mod'),\n",
    "    ('time', 'doy')\n",
    "]\n",
    "\n",
    "# filter columns to keep only x_vars\n",
    "data = data[x_vars].copy()"
   ]
  },
  {
   "cell_type": "markdown",
   "id": "33ae9eb6",
   "metadata": {},
   "source": [
    "## Describe Df"
   ]
  },
  {
   "cell_type": "code",
   "execution_count": 5,
   "id": "be306b52",
   "metadata": {},
   "outputs": [
    {
     "name": "stdout",
     "output_type": "stream",
     "text": [
      "Number of NAs\n",
      "\n",
      "category      sensor_ID       \n",
      "flow          TA01_GP101          13\n",
      "              FF01_GP101          12\n",
      "temperatures  DC_GT401_GM401      13\n",
      "              TA01_GT10X_GM10X    14\n",
      "              DC_GT301_damped     11\n",
      "              DC_GT301_outdoor    12\n",
      "setpoints     TA01_GT10X_GM10X    14\n",
      "humidity      TA01_GT10X_GM10X    15\n",
      "              DC_GT401_GM401      13\n",
      "sun           gsi                  1\n",
      "              vol                  1\n",
      "time          mod                  1\n",
      "              doy                  1\n",
      "dtype: int64\n",
      "\n",
      "\n",
      "\n"
     ]
    }
   ],
   "source": [
    "# print number of NAs\n",
    "print('Number of NAs\\n')\n",
    "print(data.isna().sum())\n",
    "print('\\n\\n')"
   ]
  },
  {
   "cell_type": "code",
   "execution_count": 6,
   "id": "4da9d182",
   "metadata": {},
   "outputs": [],
   "source": [
    "# remove single NAN\n",
    "data = data.dropna(how='any')"
   ]
  },
  {
   "cell_type": "code",
   "execution_count": 7,
   "id": "474bdc87",
   "metadata": {},
   "outputs": [
    {
     "data": {
      "text/html": [
       "<div>\n",
       "<style scoped>\n",
       "    .dataframe tbody tr th:only-of-type {\n",
       "        vertical-align: middle;\n",
       "    }\n",
       "\n",
       "    .dataframe tbody tr th {\n",
       "        vertical-align: top;\n",
       "    }\n",
       "\n",
       "    .dataframe thead th {\n",
       "        text-align: right;\n",
       "    }\n",
       "</style>\n",
       "<table border=\"1\" class=\"dataframe\">\n",
       "  <thead>\n",
       "    <tr style=\"text-align: right;\">\n",
       "      <th></th>\n",
       "      <th></th>\n",
       "      <th>count</th>\n",
       "      <th>mean</th>\n",
       "      <th>std</th>\n",
       "      <th>min</th>\n",
       "      <th>25%</th>\n",
       "      <th>50%</th>\n",
       "      <th>75%</th>\n",
       "      <th>max</th>\n",
       "    </tr>\n",
       "    <tr>\n",
       "      <th>category</th>\n",
       "      <th>sensor_ID</th>\n",
       "      <th></th>\n",
       "      <th></th>\n",
       "      <th></th>\n",
       "      <th></th>\n",
       "      <th></th>\n",
       "      <th></th>\n",
       "      <th></th>\n",
       "      <th></th>\n",
       "    </tr>\n",
       "  </thead>\n",
       "  <tbody>\n",
       "    <tr>\n",
       "      <th rowspan=\"2\" valign=\"top\">flow</th>\n",
       "      <th>TA01_GP101</th>\n",
       "      <td>256304.0</td>\n",
       "      <td>2350.241038</td>\n",
       "      <td>606.493897</td>\n",
       "      <td>1.761400e+03</td>\n",
       "      <td>1860.000000</td>\n",
       "      <td>2059.000000</td>\n",
       "      <td>2738.400000</td>\n",
       "      <td>4206.600000</td>\n",
       "    </tr>\n",
       "    <tr>\n",
       "      <th>FF01_GP101</th>\n",
       "      <td>256304.0</td>\n",
       "      <td>2239.858543</td>\n",
       "      <td>571.440347</td>\n",
       "      <td>1.358800e+03</td>\n",
       "      <td>1788.900000</td>\n",
       "      <td>1957.100000</td>\n",
       "      <td>2600.800000</td>\n",
       "      <td>4043.600000</td>\n",
       "    </tr>\n",
       "    <tr>\n",
       "      <th rowspan=\"4\" valign=\"top\">temperatures</th>\n",
       "      <th>DC_GT401_GM401</th>\n",
       "      <td>256304.0</td>\n",
       "      <td>49.457756</td>\n",
       "      <td>3.449056</td>\n",
       "      <td>1.540000e+01</td>\n",
       "      <td>48.700000</td>\n",
       "      <td>50.200000</td>\n",
       "      <td>51.200000</td>\n",
       "      <td>56.200000</td>\n",
       "    </tr>\n",
       "    <tr>\n",
       "      <th>TA01_GT10X_GM10X</th>\n",
       "      <td>256304.0</td>\n",
       "      <td>20.744766</td>\n",
       "      <td>1.277303</td>\n",
       "      <td>1.170000e+01</td>\n",
       "      <td>19.900000</td>\n",
       "      <td>20.300000</td>\n",
       "      <td>21.500000</td>\n",
       "      <td>29.800000</td>\n",
       "    </tr>\n",
       "    <tr>\n",
       "      <th>DC_GT301_damped</th>\n",
       "      <td>256304.0</td>\n",
       "      <td>-5.075504</td>\n",
       "      <td>6.692206</td>\n",
       "      <td>-2.160000e+01</td>\n",
       "      <td>-10.400000</td>\n",
       "      <td>-3.800000</td>\n",
       "      <td>0.100000</td>\n",
       "      <td>9.300000</td>\n",
       "    </tr>\n",
       "    <tr>\n",
       "      <th>DC_GT301_outdoor</th>\n",
       "      <td>256304.0</td>\n",
       "      <td>-5.044650</td>\n",
       "      <td>6.653595</td>\n",
       "      <td>-2.090000e+01</td>\n",
       "      <td>-10.300000</td>\n",
       "      <td>-3.700000</td>\n",
       "      <td>0.300000</td>\n",
       "      <td>8.400000</td>\n",
       "    </tr>\n",
       "    <tr>\n",
       "      <th>setpoints</th>\n",
       "      <th>TA01_GT10X_GM10X</th>\n",
       "      <td>256304.0</td>\n",
       "      <td>20.661791</td>\n",
       "      <td>0.752594</td>\n",
       "      <td>2.000000e+01</td>\n",
       "      <td>20.000000</td>\n",
       "      <td>20.000000</td>\n",
       "      <td>21.500000</td>\n",
       "      <td>22.100000</td>\n",
       "    </tr>\n",
       "    <tr>\n",
       "      <th rowspan=\"2\" valign=\"top\">humidity</th>\n",
       "      <th>TA01_GT10X_GM10X</th>\n",
       "      <td>256304.0</td>\n",
       "      <td>31.334455</td>\n",
       "      <td>9.570359</td>\n",
       "      <td>9.100000e+00</td>\n",
       "      <td>24.400000</td>\n",
       "      <td>30.400000</td>\n",
       "      <td>37.700000</td>\n",
       "      <td>70.600000</td>\n",
       "    </tr>\n",
       "    <tr>\n",
       "      <th>DC_GT401_GM401</th>\n",
       "      <td>256304.0</td>\n",
       "      <td>0.811782</td>\n",
       "      <td>0.980756</td>\n",
       "      <td>0.000000e+00</td>\n",
       "      <td>0.100000</td>\n",
       "      <td>0.300000</td>\n",
       "      <td>1.200000</td>\n",
       "      <td>13.600000</td>\n",
       "    </tr>\n",
       "    <tr>\n",
       "      <th rowspan=\"2\" valign=\"top\">sun</th>\n",
       "      <th>gsi</th>\n",
       "      <td>256304.0</td>\n",
       "      <td>29.613807</td>\n",
       "      <td>73.869865</td>\n",
       "      <td>0.000000e+00</td>\n",
       "      <td>0.000000</td>\n",
       "      <td>0.003810</td>\n",
       "      <td>10.347319</td>\n",
       "      <td>491.320000</td>\n",
       "    </tr>\n",
       "    <tr>\n",
       "      <th>vol</th>\n",
       "      <td>256304.0</td>\n",
       "      <td>341.133400</td>\n",
       "      <td>959.527867</td>\n",
       "      <td>0.000000e+00</td>\n",
       "      <td>0.000000</td>\n",
       "      <td>0.000000</td>\n",
       "      <td>0.253377</td>\n",
       "      <td>3600.000000</td>\n",
       "    </tr>\n",
       "    <tr>\n",
       "      <th rowspan=\"2\" valign=\"top\">time</th>\n",
       "      <th>mod</th>\n",
       "      <td>256304.0</td>\n",
       "      <td>0.631367</td>\n",
       "      <td>0.306814</td>\n",
       "      <td>0.000000e+00</td>\n",
       "      <td>0.378649</td>\n",
       "      <td>0.697790</td>\n",
       "      <td>0.917060</td>\n",
       "      <td>1.000000</td>\n",
       "    </tr>\n",
       "    <tr>\n",
       "      <th>doy</th>\n",
       "      <td>256304.0</td>\n",
       "      <td>0.316664</td>\n",
       "      <td>0.202923</td>\n",
       "      <td>1.224647e-16</td>\n",
       "      <td>0.128748</td>\n",
       "      <td>0.296713</td>\n",
       "      <td>0.501242</td>\n",
       "      <td>0.668064</td>\n",
       "    </tr>\n",
       "  </tbody>\n",
       "</table>\n",
       "</div>"
      ],
      "text/plain": [
       "                                  count         mean         std  \\\n",
       "category     sensor_ID                                             \n",
       "flow         TA01_GP101        256304.0  2350.241038  606.493897   \n",
       "             FF01_GP101        256304.0  2239.858543  571.440347   \n",
       "temperatures DC_GT401_GM401    256304.0    49.457756    3.449056   \n",
       "             TA01_GT10X_GM10X  256304.0    20.744766    1.277303   \n",
       "             DC_GT301_damped   256304.0    -5.075504    6.692206   \n",
       "             DC_GT301_outdoor  256304.0    -5.044650    6.653595   \n",
       "setpoints    TA01_GT10X_GM10X  256304.0    20.661791    0.752594   \n",
       "humidity     TA01_GT10X_GM10X  256304.0    31.334455    9.570359   \n",
       "             DC_GT401_GM401    256304.0     0.811782    0.980756   \n",
       "sun          gsi               256304.0    29.613807   73.869865   \n",
       "             vol               256304.0   341.133400  959.527867   \n",
       "time         mod               256304.0     0.631367    0.306814   \n",
       "             doy               256304.0     0.316664    0.202923   \n",
       "\n",
       "                                        min          25%          50%  \\\n",
       "category     sensor_ID                                                  \n",
       "flow         TA01_GP101        1.761400e+03  1860.000000  2059.000000   \n",
       "             FF01_GP101        1.358800e+03  1788.900000  1957.100000   \n",
       "temperatures DC_GT401_GM401    1.540000e+01    48.700000    50.200000   \n",
       "             TA01_GT10X_GM10X  1.170000e+01    19.900000    20.300000   \n",
       "             DC_GT301_damped  -2.160000e+01   -10.400000    -3.800000   \n",
       "             DC_GT301_outdoor -2.090000e+01   -10.300000    -3.700000   \n",
       "setpoints    TA01_GT10X_GM10X  2.000000e+01    20.000000    20.000000   \n",
       "humidity     TA01_GT10X_GM10X  9.100000e+00    24.400000    30.400000   \n",
       "             DC_GT401_GM401    0.000000e+00     0.100000     0.300000   \n",
       "sun          gsi               0.000000e+00     0.000000     0.003810   \n",
       "             vol               0.000000e+00     0.000000     0.000000   \n",
       "time         mod               0.000000e+00     0.378649     0.697790   \n",
       "             doy               1.224647e-16     0.128748     0.296713   \n",
       "\n",
       "                                       75%          max  \n",
       "category     sensor_ID                                   \n",
       "flow         TA01_GP101        2738.400000  4206.600000  \n",
       "             FF01_GP101        2600.800000  4043.600000  \n",
       "temperatures DC_GT401_GM401      51.200000    56.200000  \n",
       "             TA01_GT10X_GM10X    21.500000    29.800000  \n",
       "             DC_GT301_damped      0.100000     9.300000  \n",
       "             DC_GT301_outdoor     0.300000     8.400000  \n",
       "setpoints    TA01_GT10X_GM10X    21.500000    22.100000  \n",
       "humidity     TA01_GT10X_GM10X    37.700000    70.600000  \n",
       "             DC_GT401_GM401       1.200000    13.600000  \n",
       "sun          gsi                 10.347319   491.320000  \n",
       "             vol                  0.253377  3600.000000  \n",
       "time         mod                  0.917060     1.000000  \n",
       "             doy                  0.501242     0.668064  "
      ]
     },
     "execution_count": 7,
     "metadata": {},
     "output_type": "execute_result"
    }
   ],
   "source": [
    "# describe cols\n",
    "data.describe().transpose()"
   ]
  },
  {
   "cell_type": "markdown",
   "id": "ee866674",
   "metadata": {},
   "source": [
    "## Process / transform variables "
   ]
  },
  {
   "cell_type": "code",
   "execution_count": 8,
   "id": "dd77e450",
   "metadata": {},
   "outputs": [],
   "source": [
    "# remove erroneous setpoints data\n",
    "data = data[data.setpoints.TA01_GT10X_GM10X != 0.0]\n",
    "\n",
    "# # set temp to adjusted for setpoint\n",
    "# data[('temperatures', 'TA01_GT10X_GM10X')] = data.temperatures.TA01_GT10X_GM10X \\\n",
    "#                                                 - (data.setpoints.TA01_GT10X_GM10X - 20.0)\n",
    "\n",
    "# ## Use temperature Diff. w.r.t. setpoint\n",
    "# #data[('temperatures', 'TA01_GT10X_GM10X_diff')] = \\\n",
    "# #    data[('temperatures', 'TA01_GT10X_GM10X')] - data[('setpoints', 'TA01_GT10X_GM10X_default')]\n",
    "\n",
    "# Transform setpoints variable to instead account for difference w.r.t 20 deg C\n",
    "data[('temperatures', 'setpoint_diff')] = data.setpoints.TA01_GT10X_GM10X - 20.0"
   ]
  },
  {
   "cell_type": "code",
   "execution_count": 9,
   "id": "6899c74a",
   "metadata": {},
   "outputs": [],
   "source": [
    "# remove \"OUTLIERS\" from DC-TEMP\n",
    "# data[('temperatures', 'DC_GT401_GM401_roll')] = data.temperatures.DC_GT401_GM401.rolling(window=240, center=False).mean()\n",
    "data[('temperatures', 'DC_GT401_GM401_roll')] = data.temperatures.DC_GT401_GM401.rolling(window=240, center=False).mean()\n",
    "data[('temperatures', 'DC_diff')] = np.abs(data.temperatures.DC_GT401_GM401 - data.temperatures.DC_GT401_GM401_roll)\n",
    "data.loc[data.temperatures.DC_diff > 2, ('temperatures', 'DC_GT401_GM401')] = data.temperatures.DC_GT401_GM401_roll"
   ]
  },
  {
   "cell_type": "code",
   "execution_count": 10,
   "id": "f6bf12ea",
   "metadata": {},
   "outputs": [],
   "source": [
    "# remove \"OUTLIERS\" from DC-FLOW\n",
    "data[('flow', 'TA01_GP101')] = data.flow.TA01_GP101.apply(lambda val: max(1800, val))"
   ]
  },
  {
   "cell_type": "code",
   "execution_count": 11,
   "id": "23e6dae4",
   "metadata": {},
   "outputs": [],
   "source": [
    "# perform FFT \n",
    "fourier = np.fft.rfft(data.temperatures.DC_GT401_GM401.values)\n",
    "\n",
    "# get FREQS\n",
    "spacing = 1 / 100 # i.e. 1/10th of cycle PER step, due to 5-min cycles.\n",
    "#spacing = 1\n",
    "freqs = np.fft.rfftfreq(\n",
    "    n = len(data),\n",
    "    d = spacing\n",
    ")\n",
    "\n",
    "# filter fourier series\n",
    "threshold = 1\n",
    "fourier[freqs > threshold] = 0\n",
    "filtered = np.fft.irfft(fourier)\n",
    "\n",
    "# put in data\n",
    "data.loc[:, ('temperatures', 'DC_GT401_GM401_fft')] = data[('temperatures', 'DC_GT401_GM401')]\n",
    "data[('temperatures', 'DC_GT401_GM401_fft')] = filtered"
   ]
  },
  {
   "cell_type": "code",
   "execution_count": 12,
   "id": "7b5fb550",
   "metadata": {},
   "outputs": [],
   "source": [
    "# perform FFT \n",
    "fourier = np.fft.rfft(data.humidity.TA01_GT10X_GM10X.values)\n",
    "\n",
    "# get FREQS\n",
    "spacing = 1 / 10 # i.e. 1/10th of cycle PER step, due to 5-min cycles.\n",
    "#spacing = 1\n",
    "freqs = np.fft.rfftfreq(\n",
    "    n = len(data),\n",
    "    d = spacing\n",
    ")\n",
    "\n",
    "# filter fourier series\n",
    "threshold = 1 / 10\n",
    "fourier[freqs > threshold] = 0\n",
    "filtered = np.fft.irfft(fourier)\n",
    "\n",
    "# put in data\n",
    "data.loc[:, ('humidity', 'TA01_GT10X_GM10X_fft')] = data[('humidity', 'TA01_GT10X_GM10X')]\n",
    "data[('humidity', 'TA01_GT10X_GM10X_fft')] = filtered"
   ]
  },
  {
   "cell_type": "code",
   "execution_count": 13,
   "id": "acafdfc9",
   "metadata": {},
   "outputs": [],
   "source": [
    "# perform FFT \n",
    "fourier = np.fft.rfft(data.humidity.DC_GT401_GM401.values)\n",
    "\n",
    "# get FREQS\n",
    "spacing = 1 / 10 # i.e. 1/10th of cycle PER step, due to 5-min cycles.\n",
    "#spacing = 1\n",
    "freqs = np.fft.rfftfreq(\n",
    "    n = len(data),\n",
    "    d = spacing\n",
    ")\n",
    "\n",
    "# filter fourier series\n",
    "threshold = 1 / 10\n",
    "fourier[freqs > threshold] = 0\n",
    "filtered = np.fft.irfft(fourier)\n",
    "\n",
    "# put in data\n",
    "data.loc[:, ('humidity', 'DC_GT401_GM401_fft')] = data[('humidity', 'DC_GT401_GM401')]\n",
    "data[('humidity', 'DC_GT401_GM401_fft')] = filtered\n",
    "data[('humidity', 'DC_GT401_GM401_fft')] = data.humidity.DC_GT401_GM401_fft.apply(lambda val: max(0, val))"
   ]
  },
  {
   "cell_type": "markdown",
   "id": "ffcd953e",
   "metadata": {},
   "source": [
    "### Plot pairwise correlation matrix"
   ]
  },
  {
   "cell_type": "code",
   "execution_count": 14,
   "id": "0c9109f1",
   "metadata": {
    "scrolled": false
   },
   "outputs": [],
   "source": [
    "# corr = data.corr()\n",
    "# mask = np.triu(np.ones_like(corr, dtype=bool))\n",
    "\n",
    "# plt.figure(figsize=(12, 6))\n",
    "# sns.heatmap(corr, mask=mask, vmin=-1.0, vmax=1.0, annot=True)\n",
    "\n",
    "# plt.xticks(rotation=45)\n",
    "# plt.title('Pairwise correlation plot')\n",
    "# plt.show()\n",
    "\n",
    "# # delete correlation data\n",
    "# del corr"
   ]
  },
  {
   "cell_type": "markdown",
   "id": "70925b7a",
   "metadata": {},
   "source": [
    "## Preparing data"
   ]
  },
  {
   "cell_type": "code",
   "execution_count": 15,
   "id": "97925877",
   "metadata": {},
   "outputs": [],
   "source": [
    "t_steps = 20  # 10 minute predictions\n",
    "n_steps = 30  # 15 minute backwards look\n",
    "\n",
    "train_frac = 0.8"
   ]
  },
  {
   "cell_type": "markdown",
   "id": "76c623b7",
   "metadata": {},
   "source": [
    "### Data selection and whitening"
   ]
  },
  {
   "cell_type": "code",
   "execution_count": 16,
   "id": "e1b71628",
   "metadata": {},
   "outputs": [],
   "source": [
    "# # save temp mean & std\n",
    "\n",
    "# temp_mean = data.temperatures.TA01_GT10X_GM10X.mean()\n",
    "# temp_std = data.temperatures.TA01_GT10X_GM10X.std()"
   ]
  },
  {
   "cell_type": "code",
   "execution_count": 17,
   "id": "c50092d7",
   "metadata": {},
   "outputs": [],
   "source": [
    "# # normalize all columns\n",
    "# for col in data.columns:\n",
    "#     data[col] = (data[col] - data[col].mean()) / data[col].std()"
   ]
  },
  {
   "cell_type": "code",
   "execution_count": 18,
   "id": "09bde346",
   "metadata": {},
   "outputs": [],
   "source": [
    "# Define model variables\n",
    "model_vars = [\n",
    "    ('flow', 'TA01_GP101'),\n",
    "    ('flow', 'FF01_GP101'),\n",
    "    ('temperatures', 'DC_GT401_GM401_fft'),\n",
    "    ('temperatures', 'TA01_GT10X_GM10X'),\n",
    "    ('temperatures', 'DC_GT301_damped'),\n",
    "    ('temperatures', 'DC_GT301_outdoor'),\n",
    "    ('temperatures', 'setpoint_diff'),\n",
    "    ('humidity', 'TA01_GT10X_GM10X_fft'),\n",
    "    ('humidity', 'DC_GT401_GM401_fft'),\n",
    "    ('sun', 'gsi'),\n",
    "    ('sun', 'vol'),\n",
    "    ('time', 'mod'),\n",
    "    ('time', 'doy')\n",
    "]\n",
    "\n",
    "# filter data\n",
    "data = data[model_vars]"
   ]
  },
  {
   "cell_type": "code",
   "execution_count": 19,
   "id": "14f80316",
   "metadata": {},
   "outputs": [],
   "source": [
    "# define target\n",
    "targets = data[('humidity', 'TA01_GT10X_GM10X_fft')].copy().shift(periods=-t_steps)\n",
    "\n",
    "# push \"temp\" forward with Gaussian noise due to assumption of near-perfect temp predictions\n",
    "data[(('temperatures', 'TA01_GT10X_GM10X'))] = \\\n",
    "    data[(('temperatures', 'TA01_GT10X_GM10X'))].shift(periods=-t_steps)\\\n",
    "    + np.random.normal(0, 0.2)\n",
    "\n",
    "# remove NaNs\n",
    "targets = targets.iloc[:-t_steps]\n",
    "data = data.iloc[:-t_steps]"
   ]
  },
  {
   "cell_type": "markdown",
   "id": "d1580b7f",
   "metadata": {},
   "source": [
    "### Create sequences"
   ]
  },
  {
   "cell_type": "code",
   "execution_count": 20,
   "id": "9da516c5",
   "metadata": {},
   "outputs": [],
   "source": [
    "def date_flagger(data, n_steps):\n",
    "    # get flagged dates\n",
    "    data['minute'] = data.index.get_level_values(3).values\n",
    "    data['date_flag'] = data.minute - data.minute.shift(periods=n_steps) > n_steps / 2\n",
    "\n",
    "    # get positions in data, w.r.t. n_step removed observations at start\n",
    "    flagged_idx = np.where(data.date_flag.values == 1)\n",
    "    flagged_idx = flagged_idx[0] - n_steps\n",
    "    \n",
    "    del data['minute'], data['date_flag']\n",
    "    \n",
    "    return flagged_idx"
   ]
  },
  {
   "cell_type": "code",
   "execution_count": 21,
   "id": "8d0e56b1",
   "metadata": {},
   "outputs": [],
   "source": [
    "# get all n_step-sequences from data series\n",
    "sequences = np.stack([\n",
    "    data.values[i:i+n_steps, :] for i in range(len(data) - n_steps)\n",
    "]) \n",
    "\n",
    "# get flagged sequences\n",
    "flags = date_flagger(data, n_steps)\n",
    "\n",
    "# get mask f. flags\n",
    "mask = [idx not in flags for idx in range(len(sequences))]\n",
    "sequences = sequences[mask]\n",
    "\n",
    "# get targets, delete mask\n",
    "targets = targets.values[n_steps:][mask]"
   ]
  },
  {
   "cell_type": "code",
   "execution_count": 22,
   "id": "11800e1d",
   "metadata": {
    "scrolled": true
   },
   "outputs": [],
   "source": [
    "# delete data \n",
    "del data\n",
    "\n",
    "# save sequential seqs, targets for testing\n",
    "sequences, test_seqs  = sequences[:-8640], sequences[-8640:]\n",
    "targets, test_targets = targets[:-8640], targets[-8640:]"
   ]
  },
  {
   "cell_type": "markdown",
   "id": "ed3989e0",
   "metadata": {},
   "source": [
    "### Shuffle and split dataset"
   ]
  },
  {
   "cell_type": "code",
   "execution_count": 23,
   "id": "6852f5f2",
   "metadata": {},
   "outputs": [],
   "source": [
    "# get random indices\n",
    "idxs = np.arange(len(targets))\n",
    "np.random.shuffle(idxs)\n",
    "\n",
    "# shuffle sequences and targets\n",
    "sequences = np.squeeze(sequences[idxs])\n",
    "targets = np.squeeze(targets[idxs])\n"
   ]
  },
  {
   "cell_type": "code",
   "execution_count": 24,
   "id": "f46f1ee9",
   "metadata": {},
   "outputs": [],
   "source": [
    "# split data\n",
    "train_n = int(len(targets) * train_frac)\n",
    "#test_n = len(targets) - train_n\n",
    "\n",
    "X_train, X_test = sequences[:train_n], sequences[train_n:]\n",
    "Y_train, Y_test = targets[:train_n], targets[train_n:]"
   ]
  },
  {
   "cell_type": "code",
   "execution_count": 25,
   "id": "6e8938ab",
   "metadata": {},
   "outputs": [],
   "source": [
    "# delete vars\n",
    "del sequences, targets"
   ]
  },
  {
   "cell_type": "markdown",
   "id": "6902451d",
   "metadata": {},
   "source": [
    "## Define model"
   ]
  },
  {
   "cell_type": "code",
   "execution_count": 26,
   "id": "9ef8eb24",
   "metadata": {},
   "outputs": [],
   "source": [
    "layerList = [\n",
    "    layers.Input(shape=(\n",
    "        X_train.shape[1],\n",
    "        X_train.shape[2]\n",
    "    )),\n",
    "    layers.BatchNormalization(),\n",
    "    layers.LSTM(\n",
    "        units=32,\n",
    "        activation='tanh',\n",
    "        return_sequences=True,\n",
    "        recurrent_activation='sigmoid',\n",
    "        activity_regularizer='l2',\n",
    "        recurrent_dropout=0.2\n",
    "    ),\n",
    "    layers.BatchNormalization(),\n",
    "    layers.LSTM(\n",
    "        units=32,\n",
    "        activation='tanh',\n",
    "        recurrent_activation='sigmoid',\n",
    "        activity_regularizer='l2',\n",
    "        recurrent_dropout=0.2\n",
    "    ),\n",
    "    layers.Flatten(),\n",
    "    layers.BatchNormalization(),\n",
    "    layers.Dense(\n",
    "        units=64,\n",
    "#         activation=None,\n",
    "        activation='relu',\n",
    "        activity_regularizer='l2'\n",
    "    ),\n",
    "    layers.BatchNormalization(),\n",
    "    layers.Dense(\n",
    "        units=64,\n",
    "#         activation=None,\n",
    "        activation='relu',\n",
    "        activity_regularizer='l2'\n",
    "    ),\n",
    "    layers.BatchNormalization(),\n",
    "    layers.Dense(\n",
    "        units=1,\n",
    "        activation=None,\n",
    "        activity_regularizer='l2'\n",
    "    )\n",
    "]"
   ]
  },
  {
   "cell_type": "code",
   "execution_count": 27,
   "id": "a084f824",
   "metadata": {},
   "outputs": [
    {
     "name": "stdout",
     "output_type": "stream",
     "text": [
      "Model: \"model\"\n",
      "_________________________________________________________________\n",
      " Layer (type)                Output Shape              Param #   \n",
      "=================================================================\n",
      " batch_normalization (BatchN  (None, 30, 13)           52        \n",
      " ormalization)                                                   \n",
      "                                                                 \n",
      " lstm (LSTM)                 (None, 30, 32)            5888      \n",
      "                                                                 \n",
      " batch_normalization_1 (Batc  (None, 30, 32)           128       \n",
      " hNormalization)                                                 \n",
      "                                                                 \n",
      " lstm_1 (LSTM)               (None, 32)                8320      \n",
      "                                                                 \n",
      " flatten (Flatten)           (None, 32)                0         \n",
      "                                                                 \n",
      " batch_normalization_2 (Batc  (None, 32)               128       \n",
      " hNormalization)                                                 \n",
      "                                                                 \n",
      " dense (Dense)               (None, 64)                2112      \n",
      "                                                                 \n",
      " batch_normalization_3 (Batc  (None, 64)               256       \n",
      " hNormalization)                                                 \n",
      "                                                                 \n",
      " dense_1 (Dense)             (None, 64)                4160      \n",
      "                                                                 \n",
      " batch_normalization_4 (Batc  (None, 64)               256       \n",
      " hNormalization)                                                 \n",
      "                                                                 \n",
      " dense_2 (Dense)             (None, 1)                 65        \n",
      "                                                                 \n",
      "=================================================================\n",
      "Total params: 21,365\n",
      "Trainable params: 20,955\n",
      "Non-trainable params: 410\n",
      "_________________________________________________________________\n"
     ]
    }
   ],
   "source": [
    "model = tf.keras.models.Sequential(layers=layerList, name='model')\n",
    "model.compile(optimizer=tf.keras.optimizers.Adam(learning_rate=0.001), loss=\"mse\")\n",
    "model.summary()"
   ]
  },
  {
   "cell_type": "code",
   "execution_count": null,
   "id": "1a78798f",
   "metadata": {},
   "outputs": [
    {
     "name": "stdout",
     "output_type": "stream",
     "text": [
      "Epoch 1/20\n",
      "1238/1238 [==============================] - 88s 66ms/step - loss: 227.0764 - val_loss: 12.3746\n",
      "Epoch 2/20\n",
      "1238/1238 [==============================] - 90s 73ms/step - loss: 13.0449 - val_loss: 12.1448\n",
      "Epoch 3/20\n",
      "1238/1238 [==============================] - 85s 69ms/step - loss: 12.7458 - val_loss: 11.7867\n",
      "Epoch 4/20\n",
      "1238/1238 [==============================] - 99s 80ms/step - loss: 12.4391 - val_loss: 11.6787\n",
      "Epoch 5/20\n",
      "1238/1238 [==============================] - 107s 87ms/step - loss: 12.3077 - val_loss: 11.6106\n",
      "Epoch 6/20\n",
      "1238/1238 [==============================] - 168s 136ms/step - loss: 12.1619 - val_loss: 11.5799\n",
      "Epoch 7/20\n",
      "1238/1238 [==============================] - 168s 136ms/step - loss: 12.1147 - val_loss: 11.3135\n",
      "Epoch 8/20\n",
      "1238/1238 [==============================] - 168s 136ms/step - loss: 12.0540 - val_loss: 11.1617\n",
      "Epoch 9/20\n",
      "1238/1238 [==============================] - 168s 136ms/step - loss: 11.9966 - val_loss: 11.5468\n",
      "Epoch 10/20\n",
      "1238/1238 [==============================] - 169s 137ms/step - loss: 11.9006 - val_loss: 11.2353\n",
      "Epoch 11/20\n",
      "1238/1238 [==============================] - 169s 137ms/step - loss: 11.8855 - val_loss: 11.3403\n",
      "Epoch 12/20\n",
      "1238/1238 [==============================] - 167s 135ms/step - loss: 11.8486 - val_loss: 11.1108\n",
      "Epoch 13/20\n",
      "1238/1238 [==============================] - 158s 128ms/step - loss: 11.9032 - val_loss: 11.0825\n",
      "Epoch 14/20\n",
      "1238/1238 [==============================] - 155s 125ms/step - loss: 11.8073 - val_loss: 11.1030\n",
      "Epoch 15/20\n",
      " 979/1238 [======================>.......] - ETA: 32s - loss: 11.7750"
     ]
    }
   ],
   "source": [
    "trainHist = model.fit(\n",
    "    X_train,\n",
    "    Y_train,\n",
    "    epochs=20,\n",
    "    batch_size=128,\n",
    "    validation_split=0.2,\n",
    "    callbacks=[\n",
    "        tf.keras.callbacks.EarlyStopping(monitor=\"val_loss\", patience=5, mode=\"min\")\n",
    "    ],\n",
    ")"
   ]
  },
  {
   "cell_type": "code",
   "execution_count": null,
   "id": "ec895e37",
   "metadata": {},
   "outputs": [],
   "source": [
    "model_name = 'humid_model_v3'\n",
    "model.save(save_path + model_name)"
   ]
  },
  {
   "cell_type": "code",
   "execution_count": null,
   "id": "de5a20b1",
   "metadata": {},
   "outputs": [],
   "source": [
    "preds = model.predict(X_test)\n",
    "vis_preds = model.predict(test_seqs)"
   ]
  },
  {
   "cell_type": "code",
   "execution_count": null,
   "id": "daafc959",
   "metadata": {},
   "outputs": [],
   "source": [
    "test_mae = np.abs(np.squeeze(preds) - Y_test) \n",
    "temp_diffs = test_mae# * temp_std"
   ]
  },
  {
   "cell_type": "code",
   "execution_count": null,
   "id": "11176323",
   "metadata": {},
   "outputs": [],
   "source": [
    "diff_df = pd.DataFrame(temp_diffs)\n",
    "\n",
    "sns.histplot(\n",
    "    data=diff_df,\n",
    "    stat='count',\n",
    "    binwidth=0.01,\n",
    "    binrange=[0, 2.0],\n",
    "    kde=False,\n",
    "    palette='bright',\n",
    "    legend=False\n",
    ")\n",
    "\n",
    "plt.title('Distribution of MAE for 10-minute forward predictions')\n",
    "plt.xlim(0, 2.0)\n",
    "plt.xlabel('Humidity (%) error')\n",
    "plt.ylim(0, 1000)\n",
    "\n",
    "#plt.savefig(plot_path + 'humid_error_dist.png', bbox_inches='tight', dpi=200)\n",
    "plt.show()"
   ]
  },
  {
   "cell_type": "code",
   "execution_count": null,
   "id": "ece2e592",
   "metadata": {
    "scrolled": false
   },
   "outputs": [],
   "source": [
    "plt.plot(\n",
    "    np.squeeze(test_targets),# * temp_std + temp_mean,\n",
    "    c='b',\n",
    "    alpha=0.6,\n",
    "    linewidth=2.5,\n",
    "    label='Real'\n",
    ")\n",
    "\n",
    "plt.plot(\n",
    "    vis_preds,# * temp_std + temp_mean,\n",
    "    c='r',\n",
    "    alpha=0.8,\n",
    "    linewidth=1.5,\n",
    "    label='Predicted'\n",
    ")\n",
    "\n",
    "plt.ylabel('Humidity, %')\n",
    "plt.xlabel('Steps, $t$')\n",
    "plt.legend(loc='upper left')\n",
    "plt.title('Humidity - 10-minute forward predictions')\n",
    "\n",
    "plt.ylim(10, 50)\n",
    "plt.xlim(0, len(vis_preds))\n",
    "\n",
    "#plt.savefig(plot_path + 'humid_preds_10min.png', bbox_inches='tight', dpi=200)\n",
    "plt.show()"
   ]
  },
  {
   "cell_type": "code",
   "execution_count": null,
   "id": "b3c2c091",
   "metadata": {},
   "outputs": [],
   "source": [
    "fig, ax = plt.subplots(layout='constrained')\n",
    "ax.plot(np.squeeze(test_targets)[-5000:], c='b')\n",
    "ax.plot(vis_preds[-5000:], c='m')\n",
    "\n",
    "# ax_sec = ax.twinx()\n",
    "\n",
    "# ax_sec.plot(test_seqs[-8000:, 0, 0], c='r', linewidth=1.5, alpha=0.8)\n",
    "# ax_sec.set_ylim(0, 5000)\n",
    "\n",
    "plt.show()"
   ]
  },
  {
   "cell_type": "code",
   "execution_count": null,
   "id": "dc74c22c",
   "metadata": {},
   "outputs": [],
   "source": [
    "np.corrcoef(test_targets, np.squeeze(vis_preds))"
   ]
  },
  {
   "cell_type": "code",
   "execution_count": null,
   "id": "87db00c1",
   "metadata": {},
   "outputs": [],
   "source": [
    "np.corrcoef(np.squeeze(preds), Y_test)"
   ]
  },
  {
   "cell_type": "code",
   "execution_count": null,
   "id": "c22f221a",
   "metadata": {},
   "outputs": [],
   "source": []
  },
  {
   "cell_type": "code",
   "execution_count": null,
   "id": "3a8b89e5",
   "metadata": {},
   "outputs": [],
   "source": []
  }
 ],
 "metadata": {
  "kernelspec": {
   "display_name": "Python 3 (ipykernel)",
   "language": "python",
   "name": "python3"
  },
  "language_info": {
   "codemirror_mode": {
    "name": "ipython",
    "version": 3
   },
   "file_extension": ".py",
   "mimetype": "text/x-python",
   "name": "python",
   "nbconvert_exporter": "python",
   "pygments_lexer": "ipython3",
   "version": "3.9.13"
  }
 },
 "nbformat": 4,
 "nbformat_minor": 5
}
