{
 "cells": [
  {
   "cell_type": "markdown",
   "id": "3c35d1cc",
   "metadata": {},
   "source": [
    "# Short-term Temperature Model Test"
   ]
  },
  {
   "cell_type": "markdown",
   "id": "195db0c9",
   "metadata": {},
   "source": [
    "## Import dependencies and data"
   ]
  },
  {
   "cell_type": "code",
   "execution_count": 1,
   "id": "77453a55",
   "metadata": {},
   "outputs": [],
   "source": [
    "# import dependencies\n",
    "import os\n",
    "import json\n",
    "import pandas as pd\n",
    "\n",
    "import matplotlib.pyplot as plt\n",
    "import seaborn as sns\n",
    "\n",
    "import numpy as np\n",
    "import tensorflow as tf\n",
    "from tensorflow.keras import layers"
   ]
  },
  {
   "cell_type": "code",
   "execution_count": 2,
   "id": "b5dee1ac",
   "metadata": {},
   "outputs": [],
   "source": [
    "# define relevant paths\n",
    "home_path = os.path.dirname(os.getcwd())\n",
    "data_path = home_path + '\\\\data\\\\'\n",
    "plot_path = home_path + '\\\\plotting\\\\plots\\\\'\n",
    "save_path = home_path + '\\\\model\\\\saved\\\\'"
   ]
  },
  {
   "cell_type": "code",
   "execution_count": 3,
   "id": "a747b251",
   "metadata": {},
   "outputs": [],
   "source": [
    "# get merged data\n",
    "data = pd.read_csv(\n",
    "    data_path + 'data_merged.csv',\n",
    "    header=[0, 1],\n",
    "    index_col=[0, 1, 2, 3, 4]\n",
    ")\n",
    "\n",
    "# convert index.date col to datetime\n",
    "#data.index = pd.to_datetime(data.index.values)\n",
    "data.loc[:, ('time', 'date')] = pd.to_datetime(data.time.date)"
   ]
  },
  {
   "cell_type": "code",
   "execution_count": 4,
   "id": "b0f46624",
   "metadata": {},
   "outputs": [],
   "source": [
    "# define X vars\n",
    "x_vars = [\n",
    "    ('flow', 'TA01_GP101'),\n",
    "#     ('flow', 'FF01_GP101'),\n",
    "#     ('temperatures', 'TA01_GT10X_GM10X'),\n",
    "    ('temperatures', 'DC_GT101_GM101'),\n",
    "    ('temperatures', 'DC_GT102_GM102'),\n",
    "    ('temperatures', 'DC_GT103_GM103'),\n",
    "    ('temperatures', 'DC_GT104_GM104'),\n",
    "    ('temperatures', 'DC_GT401_GM401'),\n",
    "    ('temperatures', 'DC_GT301_damped'),\n",
    "    ('temperatures', 'DC_GT301_outdoor'),\n",
    "    ('setpoints', 'TA01_GT10X_GM10X'),\n",
    "    ('sun', 'gsi'),\n",
    "    ('sun', 'vol'),\n",
    "    ('time', 'mod'),\n",
    "    ('time', 'doy')\n",
    "]\n",
    "\n",
    "# filter columns to keep only x_vars\n",
    "data = data[x_vars].copy()"
   ]
  },
  {
   "cell_type": "code",
   "execution_count": 5,
   "id": "5717d2b1",
   "metadata": {},
   "outputs": [],
   "source": [
    "# RESAMPLE to MINUTE-FREQ\n",
    "\n",
    "data = data.groupby(['month', 'day', 'hour', 'minute']).agg({\n",
    "    ('flow', 'TA01_GP101'):'sum',\n",
    "    ('temperatures', 'DC_GT101_GM101'):'mean',\n",
    "    ('temperatures', 'DC_GT102_GM102'):'mean',\n",
    "    ('temperatures', 'DC_GT103_GM103'):'mean',\n",
    "    ('temperatures', 'DC_GT104_GM104'):'mean',\n",
    "    ('temperatures', 'DC_GT401_GM401'):['sum', 'mean'],\n",
    "    ('temperatures', 'DC_GT301_damped'):'mean',  # REMOVE?\n",
    "    ('temperatures', 'DC_GT301_outdoor'):'mean', # REMOVE?\n",
    "    ('setpoints', 'TA01_GT10X_GM10X'):'mean',\n",
    "    ('sun', 'gsi'):'sum',\n",
    "    ('sun', 'vol'):'sum',\n",
    "    ('time', 'mod'):'mean',\n",
    "    ('time', 'doy'):'mean'\n",
    "})"
   ]
  },
  {
   "cell_type": "markdown",
   "id": "33ae9eb6",
   "metadata": {},
   "source": [
    "## Describe Df"
   ]
  },
  {
   "cell_type": "code",
   "execution_count": 6,
   "id": "be306b52",
   "metadata": {},
   "outputs": [
    {
     "name": "stdout",
     "output_type": "stream",
     "text": [
      "Number of NAs\n",
      "\n",
      "category      sensor_ID             \n",
      "flow          TA01_GP101        sum     0\n",
      "temperatures  DC_GT101_GM101    mean    4\n",
      "              DC_GT102_GM102    mean    4\n",
      "              DC_GT103_GM103    mean    4\n",
      "              DC_GT104_GM104    mean    4\n",
      "              DC_GT401_GM401    sum     0\n",
      "                                mean    4\n",
      "              DC_GT301_damped   mean    4\n",
      "              DC_GT301_outdoor  mean    4\n",
      "setpoints     TA01_GT10X_GM10X  mean    4\n",
      "sun           gsi               sum     0\n",
      "              vol               sum     0\n",
      "time          mod               mean    0\n",
      "              doy               mean    0\n",
      "dtype: int64\n",
      "\n",
      "\n",
      "\n"
     ]
    }
   ],
   "source": [
    "# print number of NAs\n",
    "print('Number of NAs\\n')\n",
    "print(data.isna().sum())\n",
    "print('\\n\\n')"
   ]
  },
  {
   "cell_type": "code",
   "execution_count": 7,
   "id": "4da9d182",
   "metadata": {},
   "outputs": [],
   "source": [
    "# remove single NAN\n",
    "data = data.dropna(how='any')"
   ]
  },
  {
   "cell_type": "code",
   "execution_count": 8,
   "id": "474bdc87",
   "metadata": {},
   "outputs": [
    {
     "data": {
      "text/html": [
       "<div>\n",
       "<style scoped>\n",
       "    .dataframe tbody tr th:only-of-type {\n",
       "        vertical-align: middle;\n",
       "    }\n",
       "\n",
       "    .dataframe tbody tr th {\n",
       "        vertical-align: top;\n",
       "    }\n",
       "\n",
       "    .dataframe thead th {\n",
       "        text-align: right;\n",
       "    }\n",
       "</style>\n",
       "<table border=\"1\" class=\"dataframe\">\n",
       "  <thead>\n",
       "    <tr style=\"text-align: right;\">\n",
       "      <th></th>\n",
       "      <th></th>\n",
       "      <th></th>\n",
       "      <th>count</th>\n",
       "      <th>mean</th>\n",
       "      <th>std</th>\n",
       "      <th>min</th>\n",
       "      <th>25%</th>\n",
       "      <th>50%</th>\n",
       "      <th>75%</th>\n",
       "      <th>max</th>\n",
       "    </tr>\n",
       "    <tr>\n",
       "      <th>category</th>\n",
       "      <th>sensor_ID</th>\n",
       "      <th></th>\n",
       "      <th></th>\n",
       "      <th></th>\n",
       "      <th></th>\n",
       "      <th></th>\n",
       "      <th></th>\n",
       "      <th></th>\n",
       "      <th></th>\n",
       "      <th></th>\n",
       "    </tr>\n",
       "  </thead>\n",
       "  <tbody>\n",
       "    <tr>\n",
       "      <th>flow</th>\n",
       "      <th>TA01_GP101</th>\n",
       "      <th>sum</th>\n",
       "      <td>128166.0</td>\n",
       "      <td>4700.082495</td>\n",
       "      <td>1213.168093</td>\n",
       "      <td>1.801300e+03</td>\n",
       "      <td>3718.800000</td>\n",
       "      <td>4116.500000</td>\n",
       "      <td>5476.800000</td>\n",
       "      <td>8369.400000</td>\n",
       "    </tr>\n",
       "    <tr>\n",
       "      <th rowspan=\"8\" valign=\"top\">temperatures</th>\n",
       "      <th>DC_GT101_GM101</th>\n",
       "      <th>mean</th>\n",
       "      <td>128166.0</td>\n",
       "      <td>17.493945</td>\n",
       "      <td>11.282786</td>\n",
       "      <td>-1.990000e+01</td>\n",
       "      <td>19.650000</td>\n",
       "      <td>20.500000</td>\n",
       "      <td>21.450000</td>\n",
       "      <td>29.000000</td>\n",
       "    </tr>\n",
       "    <tr>\n",
       "      <th>DC_GT102_GM102</th>\n",
       "      <th>mean</th>\n",
       "      <td>128166.0</td>\n",
       "      <td>20.385034</td>\n",
       "      <td>1.247959</td>\n",
       "      <td>1.240000e+01</td>\n",
       "      <td>19.600000</td>\n",
       "      <td>20.300000</td>\n",
       "      <td>21.000000</td>\n",
       "      <td>30.300000</td>\n",
       "    </tr>\n",
       "    <tr>\n",
       "      <th>DC_GT103_GM103</th>\n",
       "      <th>mean</th>\n",
       "      <td>128166.0</td>\n",
       "      <td>20.963436</td>\n",
       "      <td>1.546697</td>\n",
       "      <td>1.045000e+01</td>\n",
       "      <td>20.000000</td>\n",
       "      <td>20.600000</td>\n",
       "      <td>21.700000</td>\n",
       "      <td>31.000000</td>\n",
       "    </tr>\n",
       "    <tr>\n",
       "      <th>DC_GT104_GM104</th>\n",
       "      <th>mean</th>\n",
       "      <td>128166.0</td>\n",
       "      <td>20.853181</td>\n",
       "      <td>1.618126</td>\n",
       "      <td>1.085000e+01</td>\n",
       "      <td>19.800000</td>\n",
       "      <td>20.400000</td>\n",
       "      <td>21.600000</td>\n",
       "      <td>32.050000</td>\n",
       "    </tr>\n",
       "    <tr>\n",
       "      <th rowspan=\"2\" valign=\"top\">DC_GT401_GM401</th>\n",
       "      <th>sum</th>\n",
       "      <td>128166.0</td>\n",
       "      <td>98.906723</td>\n",
       "      <td>6.925642</td>\n",
       "      <td>3.100000e+01</td>\n",
       "      <td>97.500000</td>\n",
       "      <td>100.300000</td>\n",
       "      <td>102.500000</td>\n",
       "      <td>112.400000</td>\n",
       "    </tr>\n",
       "    <tr>\n",
       "      <th>mean</th>\n",
       "      <td>128166.0</td>\n",
       "      <td>49.457833</td>\n",
       "      <td>3.447272</td>\n",
       "      <td>1.550000e+01</td>\n",
       "      <td>48.750000</td>\n",
       "      <td>50.150000</td>\n",
       "      <td>51.250000</td>\n",
       "      <td>56.200000</td>\n",
       "    </tr>\n",
       "    <tr>\n",
       "      <th>DC_GT301_damped</th>\n",
       "      <th>mean</th>\n",
       "      <td>128166.0</td>\n",
       "      <td>-5.075482</td>\n",
       "      <td>6.692264</td>\n",
       "      <td>-2.160000e+01</td>\n",
       "      <td>-10.400000</td>\n",
       "      <td>-3.800000</td>\n",
       "      <td>0.150000</td>\n",
       "      <td>9.300000</td>\n",
       "    </tr>\n",
       "    <tr>\n",
       "      <th>DC_GT301_outdoor</th>\n",
       "      <th>mean</th>\n",
       "      <td>128166.0</td>\n",
       "      <td>-5.044722</td>\n",
       "      <td>6.653557</td>\n",
       "      <td>-2.090000e+01</td>\n",
       "      <td>-10.300000</td>\n",
       "      <td>-3.700000</td>\n",
       "      <td>0.300000</td>\n",
       "      <td>8.400000</td>\n",
       "    </tr>\n",
       "    <tr>\n",
       "      <th>setpoints</th>\n",
       "      <th>TA01_GT10X_GM10X</th>\n",
       "      <th>mean</th>\n",
       "      <td>128166.0</td>\n",
       "      <td>20.661871</td>\n",
       "      <td>0.752610</td>\n",
       "      <td>2.000000e+01</td>\n",
       "      <td>20.000000</td>\n",
       "      <td>20.000000</td>\n",
       "      <td>21.500000</td>\n",
       "      <td>22.100000</td>\n",
       "    </tr>\n",
       "    <tr>\n",
       "      <th rowspan=\"2\" valign=\"top\">sun</th>\n",
       "      <th>gsi</th>\n",
       "      <th>sum</th>\n",
       "      <td>128166.0</td>\n",
       "      <td>59.221537</td>\n",
       "      <td>147.700099</td>\n",
       "      <td>0.000000e+00</td>\n",
       "      <td>0.000000</td>\n",
       "      <td>0.007659</td>\n",
       "      <td>20.698287</td>\n",
       "      <td>982.640000</td>\n",
       "    </tr>\n",
       "    <tr>\n",
       "      <th>vol</th>\n",
       "      <th>sum</th>\n",
       "      <td>128166.0</td>\n",
       "      <td>682.192274</td>\n",
       "      <td>1918.688387</td>\n",
       "      <td>0.000000e+00</td>\n",
       "      <td>0.000000</td>\n",
       "      <td>0.000000</td>\n",
       "      <td>0.511399</td>\n",
       "      <td>7200.000000</td>\n",
       "    </tr>\n",
       "    <tr>\n",
       "      <th rowspan=\"2\" valign=\"top\">time</th>\n",
       "      <th>mod</th>\n",
       "      <th>mean</th>\n",
       "      <td>128166.0</td>\n",
       "      <td>0.631388</td>\n",
       "      <td>0.306821</td>\n",
       "      <td>0.000000e+00</td>\n",
       "      <td>0.378649</td>\n",
       "      <td>0.697790</td>\n",
       "      <td>0.917060</td>\n",
       "      <td>1.000000</td>\n",
       "    </tr>\n",
       "    <tr>\n",
       "      <th>doy</th>\n",
       "      <th>mean</th>\n",
       "      <td>128166.0</td>\n",
       "      <td>0.316676</td>\n",
       "      <td>0.202928</td>\n",
       "      <td>1.224647e-16</td>\n",
       "      <td>0.128748</td>\n",
       "      <td>0.296713</td>\n",
       "      <td>0.501242</td>\n",
       "      <td>0.668064</td>\n",
       "    </tr>\n",
       "  </tbody>\n",
       "</table>\n",
       "</div>"
      ],
      "text/plain": [
       "                                       count         mean          std  \\\n",
       "category     sensor_ID                                                   \n",
       "flow         TA01_GP101       sum   128166.0  4700.082495  1213.168093   \n",
       "temperatures DC_GT101_GM101   mean  128166.0    17.493945    11.282786   \n",
       "             DC_GT102_GM102   mean  128166.0    20.385034     1.247959   \n",
       "             DC_GT103_GM103   mean  128166.0    20.963436     1.546697   \n",
       "             DC_GT104_GM104   mean  128166.0    20.853181     1.618126   \n",
       "             DC_GT401_GM401   sum   128166.0    98.906723     6.925642   \n",
       "                              mean  128166.0    49.457833     3.447272   \n",
       "             DC_GT301_damped  mean  128166.0    -5.075482     6.692264   \n",
       "             DC_GT301_outdoor mean  128166.0    -5.044722     6.653557   \n",
       "setpoints    TA01_GT10X_GM10X mean  128166.0    20.661871     0.752610   \n",
       "sun          gsi              sum   128166.0    59.221537   147.700099   \n",
       "             vol              sum   128166.0   682.192274  1918.688387   \n",
       "time         mod              mean  128166.0     0.631388     0.306821   \n",
       "             doy              mean  128166.0     0.316676     0.202928   \n",
       "\n",
       "                                             min          25%          50%  \\\n",
       "category     sensor_ID                                                       \n",
       "flow         TA01_GP101       sum   1.801300e+03  3718.800000  4116.500000   \n",
       "temperatures DC_GT101_GM101   mean -1.990000e+01    19.650000    20.500000   \n",
       "             DC_GT102_GM102   mean  1.240000e+01    19.600000    20.300000   \n",
       "             DC_GT103_GM103   mean  1.045000e+01    20.000000    20.600000   \n",
       "             DC_GT104_GM104   mean  1.085000e+01    19.800000    20.400000   \n",
       "             DC_GT401_GM401   sum   3.100000e+01    97.500000   100.300000   \n",
       "                              mean  1.550000e+01    48.750000    50.150000   \n",
       "             DC_GT301_damped  mean -2.160000e+01   -10.400000    -3.800000   \n",
       "             DC_GT301_outdoor mean -2.090000e+01   -10.300000    -3.700000   \n",
       "setpoints    TA01_GT10X_GM10X mean  2.000000e+01    20.000000    20.000000   \n",
       "sun          gsi              sum   0.000000e+00     0.000000     0.007659   \n",
       "             vol              sum   0.000000e+00     0.000000     0.000000   \n",
       "time         mod              mean  0.000000e+00     0.378649     0.697790   \n",
       "             doy              mean  1.224647e-16     0.128748     0.296713   \n",
       "\n",
       "                                            75%          max  \n",
       "category     sensor_ID                                        \n",
       "flow         TA01_GP101       sum   5476.800000  8369.400000  \n",
       "temperatures DC_GT101_GM101   mean    21.450000    29.000000  \n",
       "             DC_GT102_GM102   mean    21.000000    30.300000  \n",
       "             DC_GT103_GM103   mean    21.700000    31.000000  \n",
       "             DC_GT104_GM104   mean    21.600000    32.050000  \n",
       "             DC_GT401_GM401   sum    102.500000   112.400000  \n",
       "                              mean    51.250000    56.200000  \n",
       "             DC_GT301_damped  mean     0.150000     9.300000  \n",
       "             DC_GT301_outdoor mean     0.300000     8.400000  \n",
       "setpoints    TA01_GT10X_GM10X mean    21.500000    22.100000  \n",
       "sun          gsi              sum     20.698287   982.640000  \n",
       "             vol              sum      0.511399  7200.000000  \n",
       "time         mod              mean     0.917060     1.000000  \n",
       "             doy              mean     0.501242     0.668064  "
      ]
     },
     "execution_count": 8,
     "metadata": {},
     "output_type": "execute_result"
    }
   ],
   "source": [
    "# describe cols\n",
    "data.describe().transpose()"
   ]
  },
  {
   "cell_type": "markdown",
   "id": "ee866674",
   "metadata": {},
   "source": [
    "## Process / transform variables "
   ]
  },
  {
   "cell_type": "code",
   "execution_count": 9,
   "id": "dd77e450",
   "metadata": {},
   "outputs": [],
   "source": [
    "# # remove erroneous setpoints data\n",
    "# data = data[data.setpoints.TA01_GT10X_GM10X != 0.0]\n",
    "\n",
    "# # # set temp to adjusted for setpoint\n",
    "# # data[('temperatures', 'TA01_GT10X_GM10X')] = data.temperatures.TA01_GT10X_GM10X \\\n",
    "# #                                                 - (data.setpoints.TA01_GT10X_GM10X - 20.0)\n",
    "\n",
    "# # ## Use temperature Diff. w.r.t. setpoint\n",
    "# # #data[('temperatures', 'TA01_GT10X_GM10X_diff')] = \\\n",
    "# # #    data[('temperatures', 'TA01_GT10X_GM10X')] - data[('setpoints', 'TA01_GT10X_GM10X_default')]\n",
    "\n",
    "# # Transform setpoints variable to instead account for difference w.r.t 20 deg C\n",
    "# data[('temperatures', 'setpoint_diff')] = data.setpoints.TA01_GT10X_GM10X - 20.0"
   ]
  },
  {
   "cell_type": "code",
   "execution_count": 10,
   "id": "e9f01b90",
   "metadata": {},
   "outputs": [],
   "source": [
    "### create TEMP-adjusted FLOW\n",
    "\n",
    "data[('flow', 'TA01_GP101_temp', 'mean')] = data[('flow', 'TA01_GP101', 'sum')] / data[('flow', 'TA01_GP101', 'sum')].min() * data[('temperatures', 'DC_GT401_GM401', 'sum')]\n",
    "del data[('temperatures', 'DC_GT401_GM401', 'sum')]"
   ]
  },
  {
   "cell_type": "code",
   "execution_count": 11,
   "id": "2e7d3cd0",
   "metadata": {},
   "outputs": [],
   "source": [
    "### create \"better\" temperature var\n",
    "\n",
    "# data[('temperatures', 'TA01_GT10X_GM10X')] = data.temperatures[['DC_GT101_GM101', 'DC_GT102_GM102', 'DC_GT103_GM103', 'DC_GT104_GM104']].values.mean(axis=1)\n",
    "data[('temperatures', 'TA01_GT10X_GM10X', 'mean')] = data.temperatures[[\n",
    "    ('DC_GT102_GM102', 'mean'), \n",
    "    ('DC_GT103_GM103', 'mean'), \n",
    "    ('DC_GT104_GM104', 'mean')\n",
    "]].values.mean(axis=1)\n",
    "\n",
    "data[('temperatures', 'TA01_GT10X_GM10X', 'mean')] = data[('temperatures', 'TA01_GT10X_GM10X', 'mean')] - (data[('setpoints', 'TA01_GT10X_GM10X', 'mean')] - 20.0)"
   ]
  },
  {
   "cell_type": "code",
   "execution_count": 12,
   "id": "b6d198ee",
   "metadata": {},
   "outputs": [],
   "source": [
    "# drop axis 2 from col idxs\n",
    "data.columns = data.columns.droplevel(2)"
   ]
  },
  {
   "cell_type": "code",
   "execution_count": 13,
   "id": "e451a871",
   "metadata": {},
   "outputs": [],
   "source": [
    "# make OUTDOOR temp always NEGATIVE (i.e. between [MIN, 0])\n",
    "data[('temperatures', 'DC_GT301_damped')] = data[('temperatures', 'DC_GT301_damped')] - data[('temperatures', 'DC_GT301_damped')].max()\n",
    "data[('temperatures', 'DC_GT301_outdoor')] = data[('temperatures', 'DC_GT301_outdoor')] - data[('temperatures', 'DC_GT301_outdoor')].max()"
   ]
  },
  {
   "cell_type": "code",
   "execution_count": 14,
   "id": "6899c74a",
   "metadata": {},
   "outputs": [],
   "source": [
    "# # remove \"OUTLIERS\" from DC-TEMP\n",
    "# # data[('temperatures', 'DC_GT401_GM401_roll')] = data.temperatures.DC_GT401_GM401.rolling(window=240, center=False).mean()\n",
    "# data[('temperatures', 'DC_GT401_GM401_roll')] = data.temperatures.DC_GT401_GM401.rolling(window=120, center=False).mean()\n",
    "# data[('temperatures', 'DC_diff')] = np.abs(data.temperatures.DC_GT401_GM401 - data.temperatures.DC_GT401_GM401_roll)\n",
    "# data.loc[data.temperatures.DC_diff > 2, ('temperatures', 'DC_GT401_GM401')] = data.temperatures.DC_GT401_GM401_roll"
   ]
  },
  {
   "cell_type": "code",
   "execution_count": 15,
   "id": "23e6dae4",
   "metadata": {},
   "outputs": [],
   "source": [
    "# perform FFT \n",
    "fourier = np.fft.rfft(data.temperatures.DC_GT401_GM401.values)\n",
    "\n",
    "# get FREQS\n",
    "spacing = 1 / 10 # i.e. 1/10th of cycle PER step, due to 5-min cycles.\n",
    "freqs = np.fft.rfftfreq(\n",
    "    n = len(data),\n",
    "    d = spacing\n",
    ")\n",
    "\n",
    "# filter fourier series\n",
    "threshold = 1\n",
    "fourier[freqs > threshold] = 0\n",
    "filtered = np.fft.irfft(fourier)\n",
    "\n",
    "# put in data\n",
    "data.loc[:, ('temperatures', 'DC_GT401_GM401_fft')] = data[('temperatures', 'DC_GT401_GM401')]\n",
    "data[('temperatures', 'DC_GT401_GM401_fft')] = filtered"
   ]
  },
  {
   "cell_type": "code",
   "execution_count": 16,
   "id": "16d3dc42",
   "metadata": {},
   "outputs": [],
   "source": [
    "# perform FFT \n",
    "fourier = np.fft.rfft(data.flow.TA01_GP101_temp.values)\n",
    "\n",
    "# get FREQS\n",
    "spacing = 1 / 10 # i.e. 1/10th of cycle PER step, due to 5-min cycles.\n",
    "freqs = np.fft.rfftfreq(\n",
    "    n = len(data),\n",
    "    d = spacing\n",
    ")\n",
    "\n",
    "# filter fourier series\n",
    "threshold = 1\n",
    "fourier[freqs > threshold] = 0\n",
    "filtered = np.fft.irfft(fourier)\n",
    "\n",
    "# put in data\n",
    "data.loc[:, ('flow', 'TA01_GP101_temp_fft')] = data[('flow', 'TA01_GP101')]\n",
    "data[('flow', 'TA01_GP101_temp_fft')] = filtered"
   ]
  },
  {
   "cell_type": "code",
   "execution_count": 17,
   "id": "9476c5e1",
   "metadata": {},
   "outputs": [],
   "source": [
    "# # SEGMENT DATA based on FLOW\n",
    "# data = data[data.flow.TA01_GP101 > 4000]"
   ]
  },
  {
   "cell_type": "code",
   "execution_count": 18,
   "id": "1dadcc40",
   "metadata": {},
   "outputs": [],
   "source": [
    "# plt.plot(data[data.flow.TA01_GP101 > 4000].flow.TA01_GP101.values[-100:])"
   ]
  },
  {
   "cell_type": "code",
   "execution_count": 19,
   "id": "f0928152",
   "metadata": {},
   "outputs": [],
   "source": [
    "# plt.plot(data[data.flow.TA01_GP101 > 4000].temperatures.TA01_GT10X_GM10X.values[-100:])"
   ]
  },
  {
   "cell_type": "code",
   "execution_count": 20,
   "id": "e6aad7cb",
   "metadata": {},
   "outputs": [],
   "source": [
    "# USE only a few days\n",
    "data = data[(data.index.get_level_values(0) == 3) & (data.index.get_level_values(1) > 15)].copy()"
   ]
  },
  {
   "cell_type": "markdown",
   "id": "70925b7a",
   "metadata": {},
   "source": [
    "## Preparing data"
   ]
  },
  {
   "cell_type": "code",
   "execution_count": 21,
   "id": "97925877",
   "metadata": {},
   "outputs": [],
   "source": [
    "t_steps = 5   # 5-min predictions\n",
    "n_steps = 10  # 10 minute backwards look\n",
    "\n",
    "train_frac = 0.8"
   ]
  },
  {
   "cell_type": "markdown",
   "id": "76c623b7",
   "metadata": {},
   "source": [
    "### Data selection and whitening"
   ]
  },
  {
   "cell_type": "code",
   "execution_count": 22,
   "id": "e1b71628",
   "metadata": {},
   "outputs": [],
   "source": [
    "# # save temp mean & std\n",
    "\n",
    "temp_mean = data.temperatures.TA01_GT10X_GM10X.mean()\n",
    "temp_std = data.temperatures.TA01_GT10X_GM10X.std()"
   ]
  },
  {
   "cell_type": "code",
   "execution_count": 23,
   "id": "bbef7342",
   "metadata": {},
   "outputs": [],
   "source": [
    "# normalize columns\n",
    "cols = [\n",
    "    ('flow', 'TA01_GP101'),\n",
    "    ('flow', 'TA01_GP101_temp_fft'),\n",
    "    ('temperatures', 'TA01_GT10X_GM10X'),\n",
    "    ('temperatures', 'DC_GT401_GM401_fft'),\n",
    "]\n",
    "\n",
    "for col in cols:\n",
    "    data[col] = (data[col] - data[col].mean()) / data[col].std()\n",
    "    \n",
    "# squeeze columns\n",
    "cols = [\n",
    "#     ('temperatures', 'DC_GT301_damped'),\n",
    "#     ('temperatures', 'DC_GT301_outdoor'),\n",
    "    ('sun', 'gsi'),\n",
    "    ('sun', 'vol'),\n",
    "    ('time', 'mod'),\n",
    "    ('time', 'doy')\n",
    "]\n",
    "\n",
    "for col in cols:\n",
    "#     data[col] = data[col] + data[col].min() # push all OBS over zero\n",
    "    data[col] = (data[col] - data[col].min()) / (data[col].max() - data[col].min()) # squeeze vals between 0 and 1"
   ]
  },
  {
   "cell_type": "code",
   "execution_count": 24,
   "id": "09bde346",
   "metadata": {},
   "outputs": [],
   "source": [
    "# Define model variables\n",
    "model_vars = [\n",
    "    ('flow', 'TA01_GP101'),\n",
    "    ('flow', 'TA01_GP101_temp_fft'),\n",
    "    ('temperatures', 'TA01_GT10X_GM10X'),\n",
    "    ('temperatures', 'DC_GT401_GM401_fft'),\n",
    "    ('temperatures', 'DC_GT301_damped'),\n",
    "    #('temperatures', 'DC_GT301_outdoor'),\n",
    "    ('sun', 'gsi'),\n",
    "    #('sun', 'vol'),\n",
    "    ('time', 'mod'),\n",
    "    #('time', 'doy')\n",
    "]\n",
    "\n",
    "# filter data\n",
    "data = data[model_vars]"
   ]
  },
  {
   "cell_type": "code",
   "execution_count": 25,
   "id": "14f80316",
   "metadata": {},
   "outputs": [],
   "source": [
    "# define target\n",
    "#targets = data[('temperatures', 'TA01_GT10X_GM10X')].copy() * temp_std + temp_mean\n",
    "targets = data.pop(('temperatures', 'TA01_GT10X_GM10X')) * temp_std + temp_mean\n",
    "targets = targets.shift(periods=-t_steps) - targets"
   ]
  },
  {
   "cell_type": "code",
   "execution_count": 26,
   "id": "57d7f4b8",
   "metadata": {},
   "outputs": [],
   "source": [
    "# remove NaNs\n",
    "targets = targets.iloc[:-t_steps]\n",
    "data = data.iloc[:-t_steps]"
   ]
  },
  {
   "cell_type": "markdown",
   "id": "d1580b7f",
   "metadata": {},
   "source": [
    "### Create sequences"
   ]
  },
  {
   "cell_type": "code",
   "execution_count": 27,
   "id": "9da516c5",
   "metadata": {},
   "outputs": [],
   "source": [
    "def date_flagger(data, n_steps):\n",
    "    # get flagged dates\n",
    "    data['minute'] = data.index.get_level_values(3).values\n",
    "    data['date_flag'] = data.minute - data.minute.shift(periods=n_steps) > n_steps\n",
    "\n",
    "    # get positions in data, w.r.t. n_step removed observations at start\n",
    "    flagged_idx = np.where(data.date_flag.values == 1)\n",
    "    flagged_idx = flagged_idx[0] - n_steps\n",
    "    \n",
    "    del data['minute'], data['date_flag']\n",
    "    \n",
    "    return flagged_idx"
   ]
  },
  {
   "cell_type": "code",
   "execution_count": 28,
   "id": "8d0e56b1",
   "metadata": {},
   "outputs": [],
   "source": [
    "# get all n_step-sequences from data series\n",
    "sequences = np.stack([\n",
    "    data.values[i:i+n_steps, :] for i in range(len(data) - (n_steps))\n",
    "]) \n",
    "\n",
    "# get flagged sequences\n",
    "flags = date_flagger(data, n_steps)\n",
    "\n",
    "# get mask f. flags\n",
    "mask = [idx not in flags for idx in range(len(sequences))]\n",
    "sequences = sequences[mask]\n",
    "\n",
    "# get targets, delete mask\n",
    "targets = targets.values[n_steps:][mask]"
   ]
  },
  {
   "cell_type": "code",
   "execution_count": 29,
   "id": "3f472bd4",
   "metadata": {},
   "outputs": [],
   "source": [
    "# sequences[:, :, :4] = sequences[:, :, :4] - np.roll(sequences[:, :, :4], 1, axis=1)\n",
    "# sequences = sequences[:, 2:, :]"
   ]
  },
  {
   "cell_type": "code",
   "execution_count": 30,
   "id": "11800e1d",
   "metadata": {
    "scrolled": true
   },
   "outputs": [],
   "source": [
    "# delete data \n",
    "del data\n",
    "\n",
    "# save sequential seqs, targets for testing\n",
    "sequences, test_seqs  = sequences[:-8640], sequences[-8640:]\n",
    "targets, test_targets = targets[:-8640], targets[-8640:]"
   ]
  },
  {
   "cell_type": "markdown",
   "id": "ed3989e0",
   "metadata": {},
   "source": [
    "### Shuffle and split dataset"
   ]
  },
  {
   "cell_type": "code",
   "execution_count": 31,
   "id": "6852f5f2",
   "metadata": {},
   "outputs": [],
   "source": [
    "# get random indices\n",
    "idxs = np.arange(len(targets))\n",
    "np.random.shuffle(idxs)\n",
    "\n",
    "# shuffle sequences and targets\n",
    "sequences = np.squeeze(sequences[idxs])\n",
    "targets = np.squeeze(targets[idxs])\n"
   ]
  },
  {
   "cell_type": "code",
   "execution_count": 32,
   "id": "f46f1ee9",
   "metadata": {},
   "outputs": [],
   "source": [
    "# split data\n",
    "train_n = int(len(targets) * train_frac)\n",
    "#test_n = len(targets) - train_n\n",
    "\n",
    "X_train, X_test = sequences[:train_n], sequences[train_n:]\n",
    "Y_train, Y_test = targets[:train_n], targets[train_n:]"
   ]
  },
  {
   "cell_type": "code",
   "execution_count": 33,
   "id": "6e8938ab",
   "metadata": {},
   "outputs": [],
   "source": [
    "# delete vars\n",
    "del sequences, targets"
   ]
  },
  {
   "cell_type": "markdown",
   "id": "6902451d",
   "metadata": {},
   "source": [
    "## Define model"
   ]
  },
  {
   "cell_type": "code",
   "execution_count": 34,
   "id": "9ef8eb24",
   "metadata": {},
   "outputs": [],
   "source": [
    "layerList = [\n",
    "    layers.Input(shape=(\n",
    "        X_train.shape[1],\n",
    "        X_train.shape[2]\n",
    "    )),\n",
    "#     layers.BatchNormalization(),\n",
    "#     layers.LSTM(\n",
    "# #         units=32,\n",
    "#         units=16,\n",
    "#         activation='tanh',\n",
    "#         return_sequences=True,\n",
    "#         recurrent_activation='sigmoid',\n",
    "#         activity_regularizer='l2',\n",
    "#         recurrent_dropout=0.2\n",
    "#     ),\n",
    "    layers.BatchNormalization(),\n",
    "    layers.LSTM(\n",
    "#         units=32,\n",
    "        units=16,\n",
    "        activation='tanh',\n",
    "        recurrent_activation='sigmoid',\n",
    "        activity_regularizer='l2',\n",
    "        recurrent_dropout=0.2\n",
    "    ),\n",
    "    #layers.Flatten(),\n",
    "    layers.BatchNormalization(),\n",
    "    layers.Dropout(rate=0.4),\n",
    "    layers.Dense(\n",
    "        units=256,\n",
    "#         activation=None,\n",
    "        activation='relu',\n",
    "        activity_regularizer='l2'\n",
    "    ),\n",
    "    layers.BatchNormalization(),\n",
    "    layers.Dropout(rate=0.4),\n",
    "    layers.Dense(\n",
    "        units=256,\n",
    "#         activation=None,\n",
    "        activation='relu',\n",
    "        activity_regularizer='l2'\n",
    "    ),\n",
    "    layers.BatchNormalization(),\n",
    "    layers.Dense(\n",
    "        units=1,\n",
    "        activation=None,\n",
    "        activity_regularizer='l2'\n",
    "    )\n",
    "]"
   ]
  },
  {
   "cell_type": "code",
   "execution_count": 35,
   "id": "a084f824",
   "metadata": {},
   "outputs": [
    {
     "name": "stdout",
     "output_type": "stream",
     "text": [
      "Model: \"model\"\n",
      "_________________________________________________________________\n",
      " Layer (type)                Output Shape              Param #   \n",
      "=================================================================\n",
      " batch_normalization (BatchN  (None, 10, 6)            24        \n",
      " ormalization)                                                   \n",
      "                                                                 \n",
      " lstm (LSTM)                 (None, 16)                1472      \n",
      "                                                                 \n",
      " batch_normalization_1 (Batc  (None, 16)               64        \n",
      " hNormalization)                                                 \n",
      "                                                                 \n",
      " dropout (Dropout)           (None, 16)                0         \n",
      "                                                                 \n",
      " dense (Dense)               (None, 256)               4352      \n",
      "                                                                 \n",
      " batch_normalization_2 (Batc  (None, 256)              1024      \n",
      " hNormalization)                                                 \n",
      "                                                                 \n",
      " dropout_1 (Dropout)         (None, 256)               0         \n",
      "                                                                 \n",
      " dense_1 (Dense)             (None, 256)               65792     \n",
      "                                                                 \n",
      " batch_normalization_3 (Batc  (None, 256)              1024      \n",
      " hNormalization)                                                 \n",
      "                                                                 \n",
      " dense_2 (Dense)             (None, 1)                 257       \n",
      "                                                                 \n",
      "=================================================================\n",
      "Total params: 74,009\n",
      "Trainable params: 72,941\n",
      "Non-trainable params: 1,068\n",
      "_________________________________________________________________\n"
     ]
    }
   ],
   "source": [
    "# lr = 0.005\n",
    "lr = 0.001\n",
    "model = tf.keras.models.Sequential(layers=layerList, name='model')\n",
    "model.compile(optimizer=tf.keras.optimizers.Adam(learning_rate=lr), loss=\"mse\")\n",
    "model.summary()"
   ]
  },
  {
   "cell_type": "code",
   "execution_count": 36,
   "id": "1a78798f",
   "metadata": {
    "scrolled": false
   },
   "outputs": [
    {
     "name": "stdout",
     "output_type": "stream",
     "text": [
      "Epoch 1/20\n",
      "24/24 [==============================] - 4s 23ms/step - loss: 2.9358 - val_loss: 0.0881\n",
      "Epoch 2/20\n",
      "24/24 [==============================] - 0s 10ms/step - loss: 2.1105 - val_loss: 0.0787\n",
      "Epoch 3/20\n",
      "24/24 [==============================] - 0s 11ms/step - loss: 1.7411 - val_loss: 0.0724\n",
      "Epoch 4/20\n",
      "24/24 [==============================] - 0s 12ms/step - loss: 1.5036 - val_loss: 0.0710\n",
      "Epoch 5/20\n",
      "24/24 [==============================] - 0s 16ms/step - loss: 1.3000 - val_loss: 0.0712\n",
      "Epoch 6/20\n",
      "24/24 [==============================] - 0s 12ms/step - loss: 1.1135 - val_loss: 0.0732\n",
      "Epoch 7/20\n",
      "24/24 [==============================] - 0s 10ms/step - loss: 0.9776 - val_loss: 0.0741\n",
      "Epoch 8/20\n",
      "24/24 [==============================] - 0s 10ms/step - loss: 0.8527 - val_loss: 0.0763\n",
      "Epoch 9/20\n",
      "24/24 [==============================] - 0s 11ms/step - loss: 0.7474 - val_loss: 0.0753\n"
     ]
    }
   ],
   "source": [
    "trainHist = model.fit(\n",
    "    X_train,\n",
    "    Y_train,\n",
    "    epochs=20,\n",
    "    batch_size=128,\n",
    "    validation_split=0.2,\n",
    "    callbacks=[\n",
    "        tf.keras.callbacks.EarlyStopping(monitor=\"val_loss\", patience=5, mode=\"min\"),\n",
    "#         tf.keras.callbacks.LearningRateScheduler(lambda epoch: lr * (0.9 ** epoch))\n",
    "    ],\n",
    ")"
   ]
  },
  {
   "cell_type": "code",
   "execution_count": 37,
   "id": "ac563a02",
   "metadata": {
    "scrolled": true
   },
   "outputs": [],
   "source": [
    "# model_name = 'temp_model_v9'\n",
    "# model.save(save_path + model_name)"
   ]
  },
  {
   "cell_type": "code",
   "execution_count": 38,
   "id": "9bee5ae2",
   "metadata": {},
   "outputs": [],
   "source": [
    "# model = tf.keras.models.load_model(save_path + 'temp_model_v6')"
   ]
  },
  {
   "cell_type": "code",
   "execution_count": 39,
   "id": "de5a20b1",
   "metadata": {},
   "outputs": [
    {
     "name": "stdout",
     "output_type": "stream",
     "text": [
      "30/30 [==============================] - 0s 3ms/step\n",
      "270/270 [==============================] - 1s 2ms/step\n"
     ]
    }
   ],
   "source": [
    "preds = model.predict(X_test)\n",
    "vis_preds = model.predict(test_seqs)"
   ]
  },
  {
   "cell_type": "code",
   "execution_count": 40,
   "id": "daafc959",
   "metadata": {},
   "outputs": [],
   "source": [
    "test_mae = np.abs(np.squeeze(preds) - Y_test) \n",
    "temp_diffs = test_mae# * temp_std"
   ]
  },
  {
   "cell_type": "code",
   "execution_count": 41,
   "id": "11176323",
   "metadata": {},
   "outputs": [
    {
     "data": {
      "image/png": "[encoded data removed]",
      "text/plain": [
       "<Figure size 640x480 with 1 Axes>"
      ]
     },
     "metadata": {},
     "output_type": "display_data"
    }
   ],
   "source": [
    "diff_df = pd.DataFrame(temp_diffs)\n",
    "\n",
    "sns.histplot(\n",
    "    data=diff_df,\n",
    "    stat='count',\n",
    "    binwidth=0.01,\n",
    "    binrange=[0, 2.0],\n",
    "    kde=False,\n",
    "    palette='bright',\n",
    "    legend=False\n",
    ")\n",
    "\n",
    "plt.title('Distribution of MAE for 10-minute forward predictions')\n",
    "plt.xlim(0, 2.0)\n",
    "plt.xlabel('Temperature error, $^\\circ$C')\n",
    "\n",
    "#plt.savefig(plot_path + 'temp_error_dist.png', bbox_inches='tight', dpi=200)\n",
    "plt.show()"
   ]
  },
  {
   "cell_type": "code",
   "execution_count": 42,
   "id": "ece2e592",
   "metadata": {
    "scrolled": false
   },
   "outputs": [
    {
     "data": {
      "image/png": "[encoded data removed]",
      "text/plain": [
       "<Figure size 640x480 with 1 Axes>"
      ]
     },
     "metadata": {},
     "output_type": "display_data"
    }
   ],
   "source": [
    "plt.plot(\n",
    "    np.squeeze(test_targets),# * temp_std + temp_mean,\n",
    "    c='b',\n",
    "    alpha=0.6,\n",
    "    linewidth=2.5,\n",
    "    label='Real'\n",
    ")\n",
    "\n",
    "plt.plot(\n",
    "    vis_preds,# * temp_std + temp_mean,\n",
    "    c='r',\n",
    "    alpha=0.8,\n",
    "    linewidth=1.5,\n",
    "    label='Predicted'\n",
    ")\n",
    "\n",
    "plt.ylabel('Temperature, $^\\circ$C')\n",
    "plt.xlabel('Steps, $t$')\n",
    "plt.legend(loc='upper left')\n",
    "plt.title('Temperature - 10-minute forward predictions')\n",
    "\n",
    "#plt.ylim(15, 30)\n",
    "plt.xlim(0, len(vis_preds))\n",
    "\n",
    "#plt.savefig(plot_path + 'temp_preds_10min.png', bbox_inches='tight', dpi=200)\n",
    "\n",
    "plt.show()"
   ]
  },
  {
   "cell_type": "code",
   "execution_count": 43,
   "id": "4fef8b81",
   "metadata": {},
   "outputs": [],
   "source": [
    "# ex_seqs = test_seqs.copy()\n",
    "# valList = []\n",
    "# for i in range(-5, 5):\n",
    "#     ex_seqs[:1, :, 0] += np.random.normal(loc=i, scale=0.1, size=30)\n",
    "#     #pred = model.predict(ex_seqs, verbose=0)\n",
    "#     valList.append(ex_seqs[:1, :, :].copy())\n",
    "# vals = np.vstack(valList)\n",
    "# preds = model.predict(np.vstack(valList))\n",
    "# plt.plot(preds)"
   ]
  },
  {
   "cell_type": "code",
   "execution_count": 44,
   "id": "da5f8f6f",
   "metadata": {
    "scrolled": true
   },
   "outputs": [],
   "source": [
    "# seqs[:, -1, 2].flatten()[:100] - test_seqs[:, -1, 2].flatten()[:100]"
   ]
  },
  {
   "cell_type": "code",
   "execution_count": 45,
   "id": "d289fc54",
   "metadata": {
    "scrolled": false
   },
   "outputs": [],
   "source": [
    "# seqs = test_seqs.copy()\n",
    "# predList = []\n",
    "# for idx, seq in enumerate(seqs):\n",
    "#     if idx % 100 == 0:\n",
    "#         print('Sequence {}'.format(idx))\n",
    "    \n",
    "#     seqs[idx, :, 0] += np.random.normal(loc=3.0, scale=0.5)\n",
    "# #    seqs[idx, :, 0] = 0\n",
    "# #     seqs[idx, :, 1] += np.random.normal(loc=0.0, scale=0.2)\n",
    "#     pred = model.predict(seqs[idx][np.newaxis, ...], verbose=0)[0, 0]\n",
    "#     #print(pred)\n",
    "#     predList.append(pred)\n",
    "#     nextIdx = t_steps + idx\n",
    "#     for i in range(30):\n",
    "#         seqs[nextIdx, -i, 2] = pred # update temperature values\n"
   ]
  },
  {
   "cell_type": "code",
   "execution_count": 46,
   "id": "b3c2c091",
   "metadata": {
    "scrolled": false
   },
   "outputs": [],
   "source": [
    "# fig, ax = plt.subplots(layout='constrained')\n",
    "# ax.plot(np.squeeze(test_targets)[:3000], c='b')\n",
    "# ax.plot(vis_preds[:3000], c='r')\n",
    "# #ax.plot(predList[:3000], c='m')\n",
    "\n",
    "# # ax.plot(test_seqs[:3000, -1, 1], c='r')\n",
    "# #ax.plot(test_seqs[:3000, -1, 2], c='r')\n",
    "# #ax.plot(test_seqs[:3000, -1, 3], c='r')\n",
    "\n",
    "# # ax_sec = ax.twinx()\n",
    "\n",
    "# # ax_sec.plot(test_seqs[-8000:, 0, 0], c='r', linewidth=1.5, alpha=0.8)\n",
    "# # ax_sec.set_ylim(0, 5000)\n",
    "# # #plt.plot(test_seqs[-4000:, 0, 0])\n",
    "\n",
    "# plt.show()"
   ]
  },
  {
   "cell_type": "code",
   "execution_count": 47,
   "id": "03e825fd",
   "metadata": {},
   "outputs": [
    {
     "data": {
      "text/plain": [
       "array([[1.        , 0.19243397],\n",
       "       [0.19243397, 1.        ]])"
      ]
     },
     "execution_count": 47,
     "metadata": {},
     "output_type": "execute_result"
    }
   ],
   "source": [
    "np.corrcoef(Y_test, np.squeeze(preds))"
   ]
  },
  {
   "cell_type": "code",
   "execution_count": 48,
   "id": "dc74c22c",
   "metadata": {
    "scrolled": true
   },
   "outputs": [
    {
     "data": {
      "text/plain": [
       "array([[1.        , 0.07126663],\n",
       "       [0.07126663, 1.        ]])"
      ]
     },
     "execution_count": 48,
     "metadata": {},
     "output_type": "execute_result"
    }
   ],
   "source": [
    "np.corrcoef(test_targets, np.squeeze(vis_preds))"
   ]
  },
  {
   "cell_type": "code",
   "execution_count": null,
   "id": "519ca215",
   "metadata": {},
   "outputs": [],
   "source": []
  }
 ],
 "metadata": {
  "kernelspec": {
   "display_name": "Python 3 (ipykernel)",
   "language": "python",
   "name": "python3"
  },
  "language_info": {
   "codemirror_mode": {
    "name": "ipython",
    "version": 3
   },
   "file_extension": ".py",
   "mimetype": "text/x-python",
   "name": "python",
   "nbconvert_exporter": "python",
   "pygments_lexer": "ipython3",
   "version": "3.9.13"
  }
 },
 "nbformat": 4,
 "nbformat_minor": 5
}
