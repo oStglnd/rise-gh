{
 "cells": [
  {
   "cell_type": "markdown",
   "id": "3c35d1cc",
   "metadata": {},
   "source": [
    "# Short-term Temperature Model Test"
   ]
  },
  {
   "cell_type": "markdown",
   "id": "195db0c9",
   "metadata": {},
   "source": [
    "## Import dependencies and data"
   ]
  },
  {
   "cell_type": "code",
   "execution_count": 428,
   "id": "77453a55",
   "metadata": {},
   "outputs": [],
   "source": [
    "# import dependencies\n",
    "import os\n",
    "import json\n",
    "import pandas as pd\n",
    "\n",
    "import matplotlib.pyplot as plt\n",
    "import seaborn as sns\n",
    "\n",
    "import numpy as np\n",
    "import tensorflow as tf\n",
    "from tensorflow.keras import layers"
   ]
  },
  {
   "cell_type": "code",
   "execution_count": 429,
   "id": "b5dee1ac",
   "metadata": {},
   "outputs": [],
   "source": [
    "# define relevant paths\n",
    "home_path = os.path.dirname(os.getcwd())\n",
    "data_path = home_path + '\\\\data\\\\'\n",
    "plot_path = home_path + '\\\\plotting\\\\plots\\\\'\n",
    "save_path = home_path + '\\\\model\\\\saved\\\\'"
   ]
  },
  {
   "cell_type": "code",
   "execution_count": 430,
   "id": "a747b251",
   "metadata": {},
   "outputs": [],
   "source": [
    "# get merged data\n",
    "data = pd.read_csv(\n",
    "    data_path + 'data_merged.csv',\n",
    "    header=[0, 1],\n",
    "    index_col=[0, 1, 2, 3, 4]\n",
    ")\n",
    "\n",
    "# convert index.date col to datetime\n",
    "#data.index = pd.to_datetime(data.index.values)\n",
    "data.loc[:, ('time', 'date')] = pd.to_datetime(data.time.date)"
   ]
  },
  {
   "cell_type": "code",
   "execution_count": 431,
   "id": "b0f46624",
   "metadata": {},
   "outputs": [],
   "source": [
    "# define X vars\n",
    "x_vars = [\n",
    "    ('flow', 'TA01_GP101'),\n",
    "    ('state', 'TA01_output'),\n",
    "    ('temperatures', 'DC_GT101_GM101'),\n",
    "    ('temperatures', 'DC_GT102_GM102'),\n",
    "    ('temperatures', 'DC_GT103_GM103'),\n",
    "    ('temperatures', 'DC_GT104_GM104'),\n",
    "    ('temperatures', 'DC_GT401_GM401'),\n",
    "    ('temperatures', 'DC_GT301_damped'),\n",
    "    ('temperatures', 'DC_GT301_outdoor'),\n",
    "    ('humidity', 'DC_GT101_GM101'),\n",
    "    ('humidity', 'DC_GT102_GM102'),\n",
    "    ('humidity', 'DC_GT103_GM103'),\n",
    "    ('humidity', 'DC_GT104_GM104'),\n",
    "    ('humidity', 'DC_GT401_GM401'),\n",
    "    ('setpoints', 'TA01_GT10X_GM10X'),\n",
    "    ('sun', 'gsi'),\n",
    "    ('sun', 'gsi_deriv'),\n",
    "    ('sun', 'vol'),\n",
    "    ('sun', 'vol_deriv'),\n",
    "    ('time', 'dayofyear'),\n",
    "    ('time', 'monthofyear'),\n",
    "    ('time', 'minofday'),\n",
    "    ('time', 'hourofday')\n",
    "]\n",
    "\n",
    "# filter columns to keep only x_vars\n",
    "data = data[x_vars].copy()"
   ]
  },
  {
   "cell_type": "markdown",
   "id": "33ae9eb6",
   "metadata": {},
   "source": [
    "## Describe Df"
   ]
  },
  {
   "cell_type": "code",
   "execution_count": 432,
   "id": "be306b52",
   "metadata": {},
   "outputs": [
    {
     "name": "stdout",
     "output_type": "stream",
     "text": [
      "Number of NAs\n",
      "\n",
      "category      sensor_ID       \n",
      "flow          TA01_GP101          13\n",
      "state         TA01_output         14\n",
      "temperatures  DC_GT101_GM101      12\n",
      "              DC_GT102_GM102      12\n",
      "              DC_GT103_GM103      11\n",
      "              DC_GT104_GM104      11\n",
      "              DC_GT401_GM401      13\n",
      "              DC_GT301_damped     11\n",
      "              DC_GT301_outdoor    12\n",
      "humidity      DC_GT101_GM101      12\n",
      "              DC_GT102_GM102      12\n",
      "              DC_GT103_GM103      12\n",
      "              DC_GT104_GM104      10\n",
      "              DC_GT401_GM401      13\n",
      "setpoints     TA01_GT10X_GM10X    14\n",
      "sun           gsi                  1\n",
      "              gsi_deriv            1\n",
      "              vol                  1\n",
      "              vol_deriv            1\n",
      "time          dayofyear            1\n",
      "              monthofyear          1\n",
      "              minofday             1\n",
      "              hourofday            1\n",
      "dtype: int64\n",
      "\n",
      "\n",
      "\n"
     ]
    }
   ],
   "source": [
    "# print number of NAs\n",
    "print('Number of NAs\\n')\n",
    "print(data.isna().sum())\n",
    "print('\\n\\n')"
   ]
  },
  {
   "cell_type": "code",
   "execution_count": 433,
   "id": "4da9d182",
   "metadata": {},
   "outputs": [],
   "source": [
    "# remove single NAN\n",
    "data = data.dropna(how='any')"
   ]
  },
  {
   "cell_type": "code",
   "execution_count": 434,
   "id": "474bdc87",
   "metadata": {
    "scrolled": false
   },
   "outputs": [
    {
     "data": {
      "text/html": [
       "<div>\n",
       "<style scoped>\n",
       "    .dataframe tbody tr th:only-of-type {\n",
       "        vertical-align: middle;\n",
       "    }\n",
       "\n",
       "    .dataframe tbody tr th {\n",
       "        vertical-align: top;\n",
       "    }\n",
       "\n",
       "    .dataframe thead th {\n",
       "        text-align: right;\n",
       "    }\n",
       "</style>\n",
       "<table border=\"1\" class=\"dataframe\">\n",
       "  <thead>\n",
       "    <tr style=\"text-align: right;\">\n",
       "      <th></th>\n",
       "      <th></th>\n",
       "      <th>count</th>\n",
       "      <th>mean</th>\n",
       "      <th>std</th>\n",
       "      <th>min</th>\n",
       "      <th>25%</th>\n",
       "      <th>50%</th>\n",
       "      <th>75%</th>\n",
       "      <th>max</th>\n",
       "    </tr>\n",
       "    <tr>\n",
       "      <th>category</th>\n",
       "      <th>sensor_ID</th>\n",
       "      <th></th>\n",
       "      <th></th>\n",
       "      <th></th>\n",
       "      <th></th>\n",
       "      <th></th>\n",
       "      <th></th>\n",
       "      <th></th>\n",
       "      <th></th>\n",
       "    </tr>\n",
       "  </thead>\n",
       "  <tbody>\n",
       "    <tr>\n",
       "      <th>flow</th>\n",
       "      <th>TA01_GP101</th>\n",
       "      <td>256304.0</td>\n",
       "      <td>2350.241038</td>\n",
       "      <td>606.493897</td>\n",
       "      <td>1.761400e+03</td>\n",
       "      <td>1860.000000</td>\n",
       "      <td>2.059000e+03</td>\n",
       "      <td>2738.400000</td>\n",
       "      <td>4206.600000</td>\n",
       "    </tr>\n",
       "    <tr>\n",
       "      <th>state</th>\n",
       "      <th>TA01_output</th>\n",
       "      <td>256304.0</td>\n",
       "      <td>42.107561</td>\n",
       "      <td>8.699721</td>\n",
       "      <td>3.500000e+01</td>\n",
       "      <td>35.000000</td>\n",
       "      <td>3.810000e+01</td>\n",
       "      <td>47.800000</td>\n",
       "      <td>65.000000</td>\n",
       "    </tr>\n",
       "    <tr>\n",
       "      <th rowspan=\"7\" valign=\"top\">temperatures</th>\n",
       "      <th>DC_GT101_GM101</th>\n",
       "      <td>256304.0</td>\n",
       "      <td>17.493335</td>\n",
       "      <td>11.283262</td>\n",
       "      <td>-1.990000e+01</td>\n",
       "      <td>19.600000</td>\n",
       "      <td>2.050000e+01</td>\n",
       "      <td>21.500000</td>\n",
       "      <td>29.000000</td>\n",
       "    </tr>\n",
       "    <tr>\n",
       "      <th>DC_GT102_GM102</th>\n",
       "      <td>256304.0</td>\n",
       "      <td>20.384807</td>\n",
       "      <td>1.248066</td>\n",
       "      <td>1.240000e+01</td>\n",
       "      <td>19.600000</td>\n",
       "      <td>2.030000e+01</td>\n",
       "      <td>21.000000</td>\n",
       "      <td>30.300000</td>\n",
       "    </tr>\n",
       "    <tr>\n",
       "      <th>DC_GT103_GM103</th>\n",
       "      <td>256304.0</td>\n",
       "      <td>20.963228</td>\n",
       "      <td>1.546715</td>\n",
       "      <td>1.040000e+01</td>\n",
       "      <td>20.000000</td>\n",
       "      <td>2.060000e+01</td>\n",
       "      <td>21.700000</td>\n",
       "      <td>31.000000</td>\n",
       "    </tr>\n",
       "    <tr>\n",
       "      <th>DC_GT104_GM104</th>\n",
       "      <td>256304.0</td>\n",
       "      <td>20.852922</td>\n",
       "      <td>1.618210</td>\n",
       "      <td>1.080000e+01</td>\n",
       "      <td>19.800000</td>\n",
       "      <td>2.040000e+01</td>\n",
       "      <td>21.600000</td>\n",
       "      <td>32.100000</td>\n",
       "    </tr>\n",
       "    <tr>\n",
       "      <th>DC_GT401_GM401</th>\n",
       "      <td>256304.0</td>\n",
       "      <td>49.457756</td>\n",
       "      <td>3.449056</td>\n",
       "      <td>1.540000e+01</td>\n",
       "      <td>48.700000</td>\n",
       "      <td>5.020000e+01</td>\n",
       "      <td>51.200000</td>\n",
       "      <td>56.200000</td>\n",
       "    </tr>\n",
       "    <tr>\n",
       "      <th>DC_GT301_damped</th>\n",
       "      <td>256304.0</td>\n",
       "      <td>-5.075504</td>\n",
       "      <td>6.692206</td>\n",
       "      <td>-2.160000e+01</td>\n",
       "      <td>-10.400000</td>\n",
       "      <td>-3.800000e+00</td>\n",
       "      <td>0.100000</td>\n",
       "      <td>9.300000</td>\n",
       "    </tr>\n",
       "    <tr>\n",
       "      <th>DC_GT301_outdoor</th>\n",
       "      <td>256304.0</td>\n",
       "      <td>-5.044650</td>\n",
       "      <td>6.653595</td>\n",
       "      <td>-2.090000e+01</td>\n",
       "      <td>-10.300000</td>\n",
       "      <td>-3.700000e+00</td>\n",
       "      <td>0.300000</td>\n",
       "      <td>8.400000</td>\n",
       "    </tr>\n",
       "    <tr>\n",
       "      <th rowspan=\"5\" valign=\"top\">humidity</th>\n",
       "      <th>DC_GT101_GM101</th>\n",
       "      <td>256304.0</td>\n",
       "      <td>27.775286</td>\n",
       "      <td>12.481715</td>\n",
       "      <td>0.000000e+00</td>\n",
       "      <td>21.600000</td>\n",
       "      <td>2.790000e+01</td>\n",
       "      <td>35.300000</td>\n",
       "      <td>89.600000</td>\n",
       "    </tr>\n",
       "    <tr>\n",
       "      <th>DC_GT102_GM102</th>\n",
       "      <td>256304.0</td>\n",
       "      <td>33.555174</td>\n",
       "      <td>11.548497</td>\n",
       "      <td>9.100000e+00</td>\n",
       "      <td>25.700000</td>\n",
       "      <td>3.220000e+01</td>\n",
       "      <td>40.200000</td>\n",
       "      <td>98.900000</td>\n",
       "    </tr>\n",
       "    <tr>\n",
       "      <th>DC_GT103_GM103</th>\n",
       "      <td>256304.0</td>\n",
       "      <td>30.228146</td>\n",
       "      <td>9.312160</td>\n",
       "      <td>9.200000e+00</td>\n",
       "      <td>23.700000</td>\n",
       "      <td>2.900000e+01</td>\n",
       "      <td>35.900000</td>\n",
       "      <td>65.300000</td>\n",
       "    </tr>\n",
       "    <tr>\n",
       "      <th>DC_GT104_GM104</th>\n",
       "      <td>256304.0</td>\n",
       "      <td>30.577373</td>\n",
       "      <td>10.041549</td>\n",
       "      <td>8.400000e+00</td>\n",
       "      <td>23.200000</td>\n",
       "      <td>2.970000e+01</td>\n",
       "      <td>37.200000</td>\n",
       "      <td>81.600000</td>\n",
       "    </tr>\n",
       "    <tr>\n",
       "      <th>DC_GT401_GM401</th>\n",
       "      <td>256304.0</td>\n",
       "      <td>0.811782</td>\n",
       "      <td>0.980756</td>\n",
       "      <td>0.000000e+00</td>\n",
       "      <td>0.100000</td>\n",
       "      <td>3.000000e-01</td>\n",
       "      <td>1.200000</td>\n",
       "      <td>13.600000</td>\n",
       "    </tr>\n",
       "    <tr>\n",
       "      <th>setpoints</th>\n",
       "      <th>TA01_GT10X_GM10X</th>\n",
       "      <td>256304.0</td>\n",
       "      <td>20.661791</td>\n",
       "      <td>0.752594</td>\n",
       "      <td>2.000000e+01</td>\n",
       "      <td>20.000000</td>\n",
       "      <td>2.000000e+01</td>\n",
       "      <td>21.500000</td>\n",
       "      <td>22.100000</td>\n",
       "    </tr>\n",
       "    <tr>\n",
       "      <th rowspan=\"4\" valign=\"top\">sun</th>\n",
       "      <th>gsi</th>\n",
       "      <td>256304.0</td>\n",
       "      <td>29.613807</td>\n",
       "      <td>73.869865</td>\n",
       "      <td>0.000000e+00</td>\n",
       "      <td>0.000000</td>\n",
       "      <td>3.809640e-03</td>\n",
       "      <td>10.347319</td>\n",
       "      <td>491.320000</td>\n",
       "    </tr>\n",
       "    <tr>\n",
       "      <th>gsi_deriv</th>\n",
       "      <td>256304.0</td>\n",
       "      <td>0.023921</td>\n",
       "      <td>28.075516</td>\n",
       "      <td>-2.437092e+02</td>\n",
       "      <td>-0.092497</td>\n",
       "      <td>-2.133411e-07</td>\n",
       "      <td>0.084155</td>\n",
       "      <td>233.170815</td>\n",
       "    </tr>\n",
       "    <tr>\n",
       "      <th>vol</th>\n",
       "      <td>256304.0</td>\n",
       "      <td>341.133400</td>\n",
       "      <td>959.527867</td>\n",
       "      <td>0.000000e+00</td>\n",
       "      <td>0.000000</td>\n",
       "      <td>0.000000e+00</td>\n",
       "      <td>0.253377</td>\n",
       "      <td>3600.000000</td>\n",
       "    </tr>\n",
       "    <tr>\n",
       "      <th>vol_deriv</th>\n",
       "      <td>256304.0</td>\n",
       "      <td>-1.426362</td>\n",
       "      <td>616.489909</td>\n",
       "      <td>-4.151553e+03</td>\n",
       "      <td>-0.012802</td>\n",
       "      <td>0.000000e+00</td>\n",
       "      <td>0.011386</td>\n",
       "      <td>4383.409247</td>\n",
       "    </tr>\n",
       "    <tr>\n",
       "      <th rowspan=\"4\" valign=\"top\">time</th>\n",
       "      <th>dayofyear</th>\n",
       "      <td>256304.0</td>\n",
       "      <td>0.316664</td>\n",
       "      <td>0.202923</td>\n",
       "      <td>1.224647e-16</td>\n",
       "      <td>0.128748</td>\n",
       "      <td>2.967128e-01</td>\n",
       "      <td>0.501242</td>\n",
       "      <td>0.668064</td>\n",
       "    </tr>\n",
       "    <tr>\n",
       "      <th>monthofyear</th>\n",
       "      <td>256304.0</td>\n",
       "      <td>0.411416</td>\n",
       "      <td>0.236621</td>\n",
       "      <td>1.224647e-16</td>\n",
       "      <td>0.258819</td>\n",
       "      <td>5.000000e-01</td>\n",
       "      <td>0.707107</td>\n",
       "      <td>0.707107</td>\n",
       "    </tr>\n",
       "    <tr>\n",
       "      <th>minofday</th>\n",
       "      <td>256304.0</td>\n",
       "      <td>0.631367</td>\n",
       "      <td>0.306814</td>\n",
       "      <td>0.000000e+00</td>\n",
       "      <td>0.378649</td>\n",
       "      <td>6.977905e-01</td>\n",
       "      <td>0.917060</td>\n",
       "      <td>1.000000</td>\n",
       "    </tr>\n",
       "    <tr>\n",
       "      <th>hourofday</th>\n",
       "      <td>256304.0</td>\n",
       "      <td>0.630360</td>\n",
       "      <td>0.308996</td>\n",
       "      <td>0.000000e+00</td>\n",
       "      <td>0.382683</td>\n",
       "      <td>7.071068e-01</td>\n",
       "      <td>0.923880</td>\n",
       "      <td>1.000000</td>\n",
       "    </tr>\n",
       "  </tbody>\n",
       "</table>\n",
       "</div>"
      ],
      "text/plain": [
       "                                  count         mean         std  \\\n",
       "category     sensor_ID                                             \n",
       "flow         TA01_GP101        256304.0  2350.241038  606.493897   \n",
       "state        TA01_output       256304.0    42.107561    8.699721   \n",
       "temperatures DC_GT101_GM101    256304.0    17.493335   11.283262   \n",
       "             DC_GT102_GM102    256304.0    20.384807    1.248066   \n",
       "             DC_GT103_GM103    256304.0    20.963228    1.546715   \n",
       "             DC_GT104_GM104    256304.0    20.852922    1.618210   \n",
       "             DC_GT401_GM401    256304.0    49.457756    3.449056   \n",
       "             DC_GT301_damped   256304.0    -5.075504    6.692206   \n",
       "             DC_GT301_outdoor  256304.0    -5.044650    6.653595   \n",
       "humidity     DC_GT101_GM101    256304.0    27.775286   12.481715   \n",
       "             DC_GT102_GM102    256304.0    33.555174   11.548497   \n",
       "             DC_GT103_GM103    256304.0    30.228146    9.312160   \n",
       "             DC_GT104_GM104    256304.0    30.577373   10.041549   \n",
       "             DC_GT401_GM401    256304.0     0.811782    0.980756   \n",
       "setpoints    TA01_GT10X_GM10X  256304.0    20.661791    0.752594   \n",
       "sun          gsi               256304.0    29.613807   73.869865   \n",
       "             gsi_deriv         256304.0     0.023921   28.075516   \n",
       "             vol               256304.0   341.133400  959.527867   \n",
       "             vol_deriv         256304.0    -1.426362  616.489909   \n",
       "time         dayofyear         256304.0     0.316664    0.202923   \n",
       "             monthofyear       256304.0     0.411416    0.236621   \n",
       "             minofday          256304.0     0.631367    0.306814   \n",
       "             hourofday         256304.0     0.630360    0.308996   \n",
       "\n",
       "                                        min          25%           50%  \\\n",
       "category     sensor_ID                                                   \n",
       "flow         TA01_GP101        1.761400e+03  1860.000000  2.059000e+03   \n",
       "state        TA01_output       3.500000e+01    35.000000  3.810000e+01   \n",
       "temperatures DC_GT101_GM101   -1.990000e+01    19.600000  2.050000e+01   \n",
       "             DC_GT102_GM102    1.240000e+01    19.600000  2.030000e+01   \n",
       "             DC_GT103_GM103    1.040000e+01    20.000000  2.060000e+01   \n",
       "             DC_GT104_GM104    1.080000e+01    19.800000  2.040000e+01   \n",
       "             DC_GT401_GM401    1.540000e+01    48.700000  5.020000e+01   \n",
       "             DC_GT301_damped  -2.160000e+01   -10.400000 -3.800000e+00   \n",
       "             DC_GT301_outdoor -2.090000e+01   -10.300000 -3.700000e+00   \n",
       "humidity     DC_GT101_GM101    0.000000e+00    21.600000  2.790000e+01   \n",
       "             DC_GT102_GM102    9.100000e+00    25.700000  3.220000e+01   \n",
       "             DC_GT103_GM103    9.200000e+00    23.700000  2.900000e+01   \n",
       "             DC_GT104_GM104    8.400000e+00    23.200000  2.970000e+01   \n",
       "             DC_GT401_GM401    0.000000e+00     0.100000  3.000000e-01   \n",
       "setpoints    TA01_GT10X_GM10X  2.000000e+01    20.000000  2.000000e+01   \n",
       "sun          gsi               0.000000e+00     0.000000  3.809640e-03   \n",
       "             gsi_deriv        -2.437092e+02    -0.092497 -2.133411e-07   \n",
       "             vol               0.000000e+00     0.000000  0.000000e+00   \n",
       "             vol_deriv        -4.151553e+03    -0.012802  0.000000e+00   \n",
       "time         dayofyear         1.224647e-16     0.128748  2.967128e-01   \n",
       "             monthofyear       1.224647e-16     0.258819  5.000000e-01   \n",
       "             minofday          0.000000e+00     0.378649  6.977905e-01   \n",
       "             hourofday         0.000000e+00     0.382683  7.071068e-01   \n",
       "\n",
       "                                       75%          max  \n",
       "category     sensor_ID                                   \n",
       "flow         TA01_GP101        2738.400000  4206.600000  \n",
       "state        TA01_output         47.800000    65.000000  \n",
       "temperatures DC_GT101_GM101      21.500000    29.000000  \n",
       "             DC_GT102_GM102      21.000000    30.300000  \n",
       "             DC_GT103_GM103      21.700000    31.000000  \n",
       "             DC_GT104_GM104      21.600000    32.100000  \n",
       "             DC_GT401_GM401      51.200000    56.200000  \n",
       "             DC_GT301_damped      0.100000     9.300000  \n",
       "             DC_GT301_outdoor     0.300000     8.400000  \n",
       "humidity     DC_GT101_GM101      35.300000    89.600000  \n",
       "             DC_GT102_GM102      40.200000    98.900000  \n",
       "             DC_GT103_GM103      35.900000    65.300000  \n",
       "             DC_GT104_GM104      37.200000    81.600000  \n",
       "             DC_GT401_GM401       1.200000    13.600000  \n",
       "setpoints    TA01_GT10X_GM10X    21.500000    22.100000  \n",
       "sun          gsi                 10.347319   491.320000  \n",
       "             gsi_deriv            0.084155   233.170815  \n",
       "             vol                  0.253377  3600.000000  \n",
       "             vol_deriv            0.011386  4383.409247  \n",
       "time         dayofyear            0.501242     0.668064  \n",
       "             monthofyear          0.707107     0.707107  \n",
       "             minofday             0.917060     1.000000  \n",
       "             hourofday            0.923880     1.000000  "
      ]
     },
     "execution_count": 434,
     "metadata": {},
     "output_type": "execute_result"
    }
   ],
   "source": [
    "# describe cols\n",
    "data.describe().transpose()"
   ]
  },
  {
   "cell_type": "code",
   "execution_count": 435,
   "id": "fd250a92",
   "metadata": {},
   "outputs": [],
   "source": [
    "# steps = 20\n",
    "# test = (data.temperatures.DC_GT301_damped - data.temperatures.DC_GT301_damped.rolling(window=steps, center=False).mean())\n",
    "# test2 = test.rolling(window=20).mean()\n",
    "\n",
    "# test3 = (data.flow.TA01_GP101 - data.flow.TA01_GP101.rolling(window=120, center=False).mean())\n",
    "\n",
    "\n",
    "# fig, ax1 = plt.subplots()\n",
    "# # ax1.plot(data.temperatures.DC_GT301_damped.values[-150:], 'b')\n",
    "# # ax1.plot(test.values[-15000:-10000], 'b')\n",
    "# ax1.plot(data.flow.TA01_GP101.values[-150:], 'b')\n",
    "# # ax1.plot(data.time.minofday.values[-45000:-42000], 'b')\n",
    "# # ax1.plot(data.temperatures.DC_GT401_GM401.values[-15000:-10000], 'b')\n",
    "\n",
    "# ax2 = ax1.twinx()\n",
    "\n",
    "# ax2.plot(data.sun.gsi_deriv.values[-150:])\n",
    "# ax2.plot(data.temperatures.TA01_GT10X_GM10X.values[-150:], 'r')"
   ]
  },
  {
   "cell_type": "code",
   "execution_count": 436,
   "id": "677de1d9",
   "metadata": {},
   "outputs": [],
   "source": [
    "# subset = data[data.state.TA01_output > 35].copy()\n",
    "\n",
    "# test = subset.flow.TA01_GP101.rolling(window=30, center=False).mean()\n",
    "# test2 = subset.temperatures.TA01_GT10X_GM10X.rolling(window=30, center=False).apply(lambda vec: vec[-1], raw=True)\n",
    "\n",
    "# fig, ax1 = plt.subplots()\n",
    "# ax1.plot(subset.flow.TA01_GP101.values[-250:], 'b')\n",
    "# ax1.plot(test.values[-250:], 'b')\n",
    "\n",
    "# ax2 = ax1.twinx()\n",
    "\n",
    "# # ax2.plot(subset.temperatures.TA01_GT10X_GM10X.values[-100:], 'r')\n",
    "# ax2.plot(test2.values[-250:], 'r')"
   ]
  },
  {
   "cell_type": "code",
   "execution_count": 437,
   "id": "9bdc959f",
   "metadata": {},
   "outputs": [],
   "source": [
    "# fig, ax1 = plt.subplots()\n",
    "# ax1.plot(test.values[-260:-10], 'b')\n",
    "\n",
    "# ax2 = ax1.twinx()\n",
    "\n",
    "# # ax2.plot(subset.temperatures.TA01_GT10X_GM10X.values[-100:], 'r')\n",
    "# ax2.plot(xhat[-250:], 'r')"
   ]
  },
  {
   "cell_type": "markdown",
   "id": "3424585c",
   "metadata": {},
   "source": [
    "## Feature engineering"
   ]
  },
  {
   "cell_type": "markdown",
   "id": "6e430934",
   "metadata": {},
   "source": [
    "### GH Temperature"
   ]
  },
  {
   "cell_type": "code",
   "execution_count": 438,
   "id": "ef4c35a7",
   "metadata": {},
   "outputs": [],
   "source": [
    "### create \"better\" estimate of temperature var, w. proper avg.\n",
    "data[('temperatures', 'TA01_GT10X_GM10X')] = data.temperatures[[\n",
    "    # ('DC_GT102_GM101'),\n",
    "    ('DC_GT102_GM102'), \n",
    "    ('DC_GT103_GM103'), \n",
    "    ('DC_GT104_GM104')\n",
    "]].values.mean(axis=1)"
   ]
  },
  {
   "cell_type": "code",
   "execution_count": 439,
   "id": "1546dfe5",
   "metadata": {},
   "outputs": [],
   "source": [
    "# make TEMP zero-centered around setpoints w. variance scaling\n",
    "data[('temperatures', 'TA01_GT10X_GM10X')] = \\\n",
    "    (data[('temperatures', 'TA01_GT10X_GM10X')] \\\n",
    "     - data[('setpoints', 'TA01_GT10X_GM10X')]) \\\n",
    "    / data[('temperatures', 'TA01_GT10X_GM10X')].std()\n",
    "\n",
    "# col = ('temperatures', 'TA01_GT10X_GM10X')\n",
    "# data[col] = (data[col] - data[col].mean()) / data[col].std()"
   ]
  },
  {
   "cell_type": "markdown",
   "id": "db94829f",
   "metadata": {},
   "source": [
    "### DC temperature"
   ]
  },
  {
   "cell_type": "code",
   "execution_count": 440,
   "id": "9ce830a3",
   "metadata": {},
   "outputs": [],
   "source": [
    "### normalize vals\n",
    "col = ('temperatures', 'DC_GT401_GM401')\n",
    "data[col] = (data[col] - data[col].mean()) / data[col].std()"
   ]
  },
  {
   "cell_type": "markdown",
   "id": "33a858e4",
   "metadata": {},
   "source": [
    "### OUTSIDE temperature"
   ]
  },
  {
   "cell_type": "code",
   "execution_count": 441,
   "id": "cd9a882c",
   "metadata": {},
   "outputs": [],
   "source": [
    "### normalize vals\n",
    "col = ('temperatures', 'DC_GT301_damped')\n",
    "data[col] = (data[col] - data[col].mean()) / data[col].std()"
   ]
  },
  {
   "cell_type": "markdown",
   "id": "ef0c7ece",
   "metadata": {},
   "source": [
    "### GH Humidity"
   ]
  },
  {
   "cell_type": "code",
   "execution_count": 442,
   "id": "a9a1b4c6",
   "metadata": {},
   "outputs": [],
   "source": [
    "### create \"better\" estimate of temperature var, w. proper avg.\n",
    "data[('humidity', 'TA01_GT10X_GM10X')] = data.humidity[[\n",
    "    # ('DC_GT102_GM101'),\n",
    "    ('DC_GT102_GM102'), \n",
    "    ('DC_GT103_GM103'), \n",
    "    ('DC_GT104_GM104')\n",
    "]].values.mean(axis=1)"
   ]
  },
  {
   "cell_type": "code",
   "execution_count": 443,
   "id": "e6252a43",
   "metadata": {},
   "outputs": [],
   "source": [
    "### normalize humidity\n",
    "col = ('humidity', 'TA01_GT10X_GM10X')\n",
    "data[col] = (data[col] - data[col].mean()) / data[col].std()"
   ]
  },
  {
   "cell_type": "markdown",
   "id": "bf8985d2",
   "metadata": {},
   "source": [
    "### Solar radiance"
   ]
  },
  {
   "cell_type": "code",
   "execution_count": 444,
   "id": "03e24731",
   "metadata": {},
   "outputs": [],
   "source": [
    "### min-max scale GSI\n",
    "col = ('sun', 'gsi')\n",
    "data[col] = (data[col] - data[col].min()) / (data[col].max() - data[col].min())"
   ]
  },
  {
   "cell_type": "code",
   "execution_count": 445,
   "id": "5e2e00fb",
   "metadata": {},
   "outputs": [],
   "source": [
    "### zero-centered variance scale GSI deriv\n",
    "col = ('sun', 'gsi_deriv')\n",
    "data[col] = data[col] / data[col].std()"
   ]
  },
  {
   "cell_type": "markdown",
   "id": "3746548c",
   "metadata": {},
   "source": [
    "### Flow volume"
   ]
  },
  {
   "cell_type": "code",
   "execution_count": 446,
   "id": "fee968b8",
   "metadata": {},
   "outputs": [],
   "source": [
    "### min-max scale flow (i.e. squeeze into [0, 1])\n",
    "col = ('flow', 'TA01_GP101')\n",
    "data[col] = (data[col] - data[col].min()) / (data[col].max() - data[col].min())"
   ]
  },
  {
   "cell_type": "code",
   "execution_count": 447,
   "id": "9cd26b4a",
   "metadata": {},
   "outputs": [],
   "source": [
    "### create INDICATOR variable f. TA01_output\n",
    "data[('state', 'TA01_output')] = data.state.TA01_output.apply(lambda val: val > 35)"
   ]
  },
  {
   "cell_type": "markdown",
   "id": "6944095a",
   "metadata": {},
   "source": [
    "## Kalman filtering"
   ]
  },
  {
   "cell_type": "code",
   "execution_count": 448,
   "id": "f502c824",
   "metadata": {},
   "outputs": [],
   "source": [
    "cols = [\n",
    "    (('temperatures', 'TA01_GT10X_GM10X'), 3),\n",
    "    (('temperatures', 'DC_GT401_GM401'), 3),\n",
    "    (('temperatures', 'DC_GT301_damped'), 4),\n",
    "    (('humidity', 'TA01_GT10X_GM10X'), 3),\n",
    "    \n",
    "]\n",
    "\n",
    "for colSpec in cols:\n",
    "    # apply KALMAN filter to temperature measurements\n",
    "    col = colSpec[0]\n",
    "    varExp = colSpec[-1]\n",
    "    \n",
    "    # get data\n",
    "    X = data[col].values\n",
    "    n = len(X)\n",
    "\n",
    "    # process variance, measurement variance\n",
    "    Q = 1e-5\n",
    "    R = 0.1**varExp\n",
    "\n",
    "    xhat=np.zeros(n)      # a posteri estimate of x\n",
    "    P=np.zeros(n)         # a posteri error estimate\n",
    "    xhatminus=np.zeros(n) # a priori estimate of x\n",
    "    Pminus=np.zeros(n)    # a priori error estimate\n",
    "    K=np.zeros(n)         # gain or blending factor\n",
    "\n",
    "    # intial guesses\n",
    "    xhat[0] = X[0]\n",
    "    P[0] = X[1]\n",
    "\n",
    "    for k in range(1,n):\n",
    "        # time update\n",
    "        xhatminus[k] = xhat[k-1]\n",
    "        Pminus[k] = P[k-1]+Q\n",
    "\n",
    "        # measurement update\n",
    "        K[k] = Pminus[k]/( Pminus[k]+R )\n",
    "        xhat[k] = xhatminus[k]+K[k]*(X[k]-xhatminus[k])\n",
    "        P[k] = (1-K[k])*Pminus[k]\n",
    "\n",
    "    data[col] = xhat"
   ]
  },
  {
   "cell_type": "markdown",
   "id": "70925b7a",
   "metadata": {},
   "source": [
    "## Data preparation"
   ]
  },
  {
   "cell_type": "code",
   "execution_count": 844,
   "id": "97925877",
   "metadata": {},
   "outputs": [],
   "source": [
    "t_steps = 40   # 20-min predictions\n",
    "\n",
    "train_frac = 0.8"
   ]
  },
  {
   "cell_type": "markdown",
   "id": "76c623b7",
   "metadata": {},
   "source": [
    "### Data selection and whitening"
   ]
  },
  {
   "cell_type": "code",
   "execution_count": 883,
   "id": "09bde346",
   "metadata": {},
   "outputs": [],
   "source": [
    "# Define model variables\n",
    "model_vars = [\n",
    "    ('flow', 'TA01_GP101'),\n",
    "    ('temperatures', 'TA01_GT10X_GM10X'),\n",
    "    ('temperatures', 'DC_GT401_GM401'),\n",
    "    ('temperatures', 'DC_GT301_damped'),\n",
    "    ('humidity', 'TA01_GT10X_GM10X'),\n",
    "    ('sun', 'gsi'),\n",
    "    ('sun', 'gsi_deriv'),\n",
    "    ('state', 'TA01_output'),\n",
    "    #('time', 'minofday'),\n",
    "    #('time', 'hourofday'),\n",
    "    #('time', 'dayofyear'),\n",
    "    #('time', 'monthofyear')\n",
    "]\n",
    "\n",
    "# filter data\n",
    "testData = data[model_vars].copy()\n",
    "#testData = testData[testData.index.get_level_values(0) == 3]"
   ]
  },
  {
   "cell_type": "code",
   "execution_count": 884,
   "id": "f3389acf",
   "metadata": {},
   "outputs": [],
   "source": [
    "# targets = testData.pop(('temperatures', 'TA01_GT10X_GM10X')).copy()\n",
    "targets = testData[('temperatures', 'TA01_GT10X_GM10X')].copy()\n",
    "# targets = targets.shift(-t_steps) - targets"
   ]
  },
  {
   "cell_type": "code",
   "execution_count": 885,
   "id": "b37756f1",
   "metadata": {},
   "outputs": [],
   "source": [
    "testData[('flow', 'TA01_GP101')] = testData[('flow', 'TA01_GP101')].rolling(t_steps).sum() / t_steps\n",
    "testData[('temperatures', 'TA01_GT10X_GM10X')] = testData[('temperatures', 'TA01_GT10X_GM10X')].rolling(t_steps).apply(lambda vec: vec[0], raw=True)\n",
    "testData[('temperatures', 'DC_GT401_GM401')] = testData[('temperatures', 'DC_GT401_GM401')].rolling(t_steps).mean()\n",
    "testData[('temperatures', 'DC_GT301_damped')] = testData[('temperatures', 'DC_GT301_damped')].rolling(t_steps).mean()\n",
    "testData[('humidity', 'TA01_GT10X_GM10X')] = testData[('humidity', 'TA01_GT10X_GM10X')].rolling(t_steps).mean()\n",
    "testData[('sun', 'gsi')] = testData[('sun', 'gsi')].rolling(t_steps).mean()\n",
    "testData[('sun', 'gsi_deriv')] = testData[('sun', 'gsi_deriv')].rolling(t_steps).mean()\n",
    "testData[('state', 'TA01_output')] = testData[('state', 'TA01_output')].rolling(t_steps).max()\n",
    "# testData[('time', 'minofday')] = testData[('time', 'minofday')].rolling(t_steps).mean()\n",
    "# testData[('time', 'hourofday')] = testData[('time', 'hourofday')].rolling(t_steps).mean()\n",
    "# testData[('time', 'dayofyear')] = testData[('time', 'dayofyear')].rolling(t_steps).mean()\n",
    "# testData[('time', 'monthofyear')] = testData[('time', 'monthofyear')].rolling(t_steps).mean()\n",
    "\n",
    "features = testData.iloc[t_steps:].values\n",
    "targets = targets.iloc[t_steps:].values"
   ]
  },
  {
   "cell_type": "code",
   "execution_count": 886,
   "id": "2419285c",
   "metadata": {},
   "outputs": [],
   "source": [
    "# testData[('flow', 'TA01_GP101')] = testData[('flow', 'TA01_GP101')].rolling(t_steps).sum()\n",
    "# testData[('temperatures', 'TA01_GT10X_GM10X')] = testData[('temperatures', 'TA01_GT10X_GM10X')].rolling(t_steps).apply(lambda vec: vec[0], raw=True)\n",
    "# testData[('temperatures', 'DC_GT401_GM401')] = testData[('temperatures', 'DC_GT401_GM401')].rolling(t_steps).mean()\n",
    "# # testData[('temperatures', 'DC_GT301_damped')] = testData[('temperatures', 'DC_GT301_damped')].rolling(t_steps).mean()\n",
    "# # testData[('humidity', 'TA01_GT10X_GM10X')] = testData[('humidity', 'TA01_GT10X_GM10X')].rolling(t_steps).mean()\n",
    "# # testData[('sun', 'gsi')] = testData[('sun', 'gsi')].rolling(t_steps).mean()\n",
    "# testData[('sun', 'gsi_deriv')] = testData[('sun', 'gsi_deriv')].rolling(t_steps).mean()\n",
    "# testData[('state', 'TA01_output')] = testData[('state', 'TA01_output')].rolling(t_steps).max()\n",
    "# # testData[('time', 'minofday')] = testData[('time', 'minofday')].rolling(t_steps).mean()\n",
    "# # testData[('time', 'hourofday')] = testData[('time', 'hourofday')].rolling(t_steps).mean()\n",
    "# # testData[('time', 'dayofyear')] = testData[('time', 'dayofyear')].rolling(t_steps).mean()\n",
    "# # testData[('time', 'monthofyear')] = testData[('time', 'monthofyear')].rolling(t_steps).mean()\n",
    "\n",
    "# testData[('temperatures', 'TA01_GT10X_GM10X')] = testData[('temperatures', 'TA01_GT10X_GM10X')] * (1 - testData[('state', 'TA01_output')])\n",
    "# del testData[('state', 'TA01_output')]\n",
    "\n",
    "# features = testData.iloc[t_steps:].values\n",
    "# targets = targets.iloc[t_steps:].values"
   ]
  },
  {
   "cell_type": "markdown",
   "id": "ed3989e0",
   "metadata": {},
   "source": [
    "### Shuffle and split dataset"
   ]
  },
  {
   "cell_type": "code",
   "execution_count": 887,
   "id": "125d7076",
   "metadata": {},
   "outputs": [],
   "source": [
    "# save sequential seqs, targets for testing\n",
    "features, test_feats  = features[:-8640], features[-8640:]\n",
    "targets, test_targets = targets[:-8640], targets[-8640:]"
   ]
  },
  {
   "cell_type": "code",
   "execution_count": 888,
   "id": "6852f5f2",
   "metadata": {},
   "outputs": [],
   "source": [
    "# get random indices\n",
    "idxs = np.arange(len(targets))\n",
    "np.random.shuffle(idxs)\n",
    "\n",
    "# shuffle sequences and targets\n",
    "features = np.squeeze(features[idxs])\n",
    "targets = np.squeeze(targets[idxs])"
   ]
  },
  {
   "cell_type": "code",
   "execution_count": 889,
   "id": "f46f1ee9",
   "metadata": {},
   "outputs": [],
   "source": [
    "# split data\n",
    "train_n = int(len(targets) * train_frac)\n",
    "\n",
    "X_train, X_test = features[:train_n], features[train_n:]\n",
    "Y_train, Y_test = targets[:train_n], targets[train_n:]"
   ]
  },
  {
   "cell_type": "code",
   "execution_count": 890,
   "id": "6e8938ab",
   "metadata": {},
   "outputs": [],
   "source": [
    "# # delete vars\n",
    "# del sequences, targets"
   ]
  },
  {
   "cell_type": "markdown",
   "id": "6902451d",
   "metadata": {},
   "source": [
    "## Define model"
   ]
  },
  {
   "cell_type": "code",
   "execution_count": 897,
   "id": "9ef8eb24",
   "metadata": {},
   "outputs": [],
   "source": [
    "layerList = [\n",
    "    layers.Input(shape=(\n",
    "        X_train.shape[1],\n",
    "#         X_train.shape[2]\n",
    "    )),\n",
    "    layers.BatchNormalization(),\n",
    "    #layers.Dropout(rate=0.2),\n",
    "    layers.Dense(\n",
    "        units=512,\n",
    "        activation='relu',\n",
    "        activity_regularizer='l2'\n",
    "    ),\n",
    "    layers.BatchNormalization(),\n",
    "    layers.Dropout(rate=0.5),\n",
    "    layers.Dense(\n",
    "        units=512,\n",
    "        activation='relu',\n",
    "        activity_regularizer='l2'\n",
    "    ),\n",
    "    layers.BatchNormalization(),\n",
    "    layers.Dropout(rate=0.5),\n",
    "    layers.Dense(\n",
    "        units=512,\n",
    "        activation='relu',\n",
    "        activity_regularizer='l2'\n",
    "    ),\n",
    "    layers.BatchNormalization(),\n",
    "    layers.Dropout(rate=0.5),\n",
    "    layers.Dense(\n",
    "        units=1,\n",
    "        activation=None,\n",
    "        activity_regularizer='l2'\n",
    "    )\n",
    "]"
   ]
  },
  {
   "cell_type": "code",
   "execution_count": 898,
   "id": "a084f824",
   "metadata": {},
   "outputs": [
    {
     "name": "stdout",
     "output_type": "stream",
     "text": [
      "Model: \"model\"\n",
      "_________________________________________________________________\n",
      " Layer (type)                Output Shape              Param #   \n",
      "=================================================================\n",
      " batch_normalization_104 (Ba  (None, 8)                32        \n",
      " tchNormalization)                                               \n",
      "                                                                 \n",
      " dense_104 (Dense)           (None, 512)               4608      \n",
      "                                                                 \n",
      " batch_normalization_105 (Ba  (None, 512)              2048      \n",
      " tchNormalization)                                               \n",
      "                                                                 \n",
      " dropout_75 (Dropout)        (None, 512)               0         \n",
      "                                                                 \n",
      " dense_105 (Dense)           (None, 512)               262656    \n",
      "                                                                 \n",
      " batch_normalization_106 (Ba  (None, 512)              2048      \n",
      " tchNormalization)                                               \n",
      "                                                                 \n",
      " dropout_76 (Dropout)        (None, 512)               0         \n",
      "                                                                 \n",
      " dense_106 (Dense)           (None, 512)               262656    \n",
      "                                                                 \n",
      " batch_normalization_107 (Ba  (None, 512)              2048      \n",
      " tchNormalization)                                               \n",
      "                                                                 \n",
      " dropout_77 (Dropout)        (None, 512)               0         \n",
      "                                                                 \n",
      " dense_107 (Dense)           (None, 1)                 513       \n",
      "                                                                 \n",
      "=================================================================\n",
      "Total params: 536,609\n",
      "Trainable params: 533,521\n",
      "Non-trainable params: 3,088\n",
      "_________________________________________________________________\n"
     ]
    }
   ],
   "source": [
    "# lr = 0.005\n",
    "lr = 0.001\n",
    "model = tf.keras.models.Sequential(layers=layerList, name='model')\n",
    "model.compile(optimizer=tf.keras.optimizers.Adam(learning_rate=lr), loss=\"mse\")\n",
    "model.summary()"
   ]
  },
  {
   "cell_type": "code",
   "execution_count": 899,
   "id": "1a78798f",
   "metadata": {
    "scrolled": false
   },
   "outputs": [
    {
     "name": "stdout",
     "output_type": "stream",
     "text": [
      "Epoch 1/40\n",
      "1239/1239 [==============================] - 32s 24ms/step - loss: 1.9494 - val_loss: 0.4559\n",
      "Epoch 2/40\n",
      "1239/1239 [==============================] - 32s 26ms/step - loss: 0.3647 - val_loss: 0.7328\n",
      "Epoch 3/40\n",
      "1239/1239 [==============================] - 31s 25ms/step - loss: 0.3166 - val_loss: 0.3513\n",
      "Epoch 4/40\n",
      "1239/1239 [==============================] - 37s 30ms/step - loss: 0.2817 - val_loss: 0.3502\n",
      "Epoch 5/40\n",
      "1239/1239 [==============================] - 36s 29ms/step - loss: 0.2529 - val_loss: 0.3065\n",
      "Epoch 6/40\n",
      "1239/1239 [==============================] - 58s 47ms/step - loss: 0.2440 - val_loss: 0.2229\n",
      "Epoch 7/40\n",
      "1239/1239 [==============================] - 46s 38ms/step - loss: 0.2320 - val_loss: 0.2752\n",
      "Epoch 8/40\n",
      "1239/1239 [==============================] - 41s 33ms/step - loss: 0.2225 - val_loss: 0.2752\n",
      "Epoch 9/40\n",
      "1239/1239 [==============================] - 39s 32ms/step - loss: 0.2222 - val_loss: 0.2432\n",
      "Epoch 10/40\n",
      "1239/1239 [==============================] - 39s 32ms/step - loss: 0.2135 - val_loss: 0.2011\n",
      "Epoch 11/40\n",
      "1239/1239 [==============================] - 36s 29ms/step - loss: 0.2093 - val_loss: 0.2144\n",
      "Epoch 12/40\n",
      "1239/1239 [==============================] - 38s 31ms/step - loss: 0.2047 - val_loss: 0.3285\n",
      "Epoch 13/40\n",
      "1239/1239 [==============================] - 50s 40ms/step - loss: 0.2023 - val_loss: 0.1699\n",
      "Epoch 14/40\n",
      "1239/1239 [==============================] - 34s 27ms/step - loss: 0.2021 - val_loss: 0.4387\n",
      "Epoch 15/40\n",
      "1239/1239 [==============================] - 34s 27ms/step - loss: 0.1960 - val_loss: 0.2750\n",
      "Epoch 16/40\n",
      "1239/1239 [==============================] - 37s 30ms/step - loss: 0.1945 - val_loss: 0.2436\n",
      "Epoch 17/40\n",
      "1239/1239 [==============================] - 35s 28ms/step - loss: 0.1951 - val_loss: 0.2726\n",
      "Epoch 18/40\n",
      "1239/1239 [==============================] - 35s 29ms/step - loss: 0.1924 - val_loss: 0.2087\n"
     ]
    }
   ],
   "source": [
    "trainHist = model.fit(\n",
    "    X_train,\n",
    "    Y_train,\n",
    "    epochs=40,\n",
    "    batch_size=128,\n",
    "    validation_split=0.2,\n",
    "    callbacks=[\n",
    "        tf.keras.callbacks.EarlyStopping(monitor=\"val_loss\", patience=5, mode=\"min\"),\n",
    "#         tf.keras.callbacks.LearningRateScheduler(lambda epoch: lr * (0.9 ** epoch))\n",
    "    ],\n",
    ")"
   ]
  },
  {
   "cell_type": "code",
   "execution_count": 638,
   "id": "ac563a02",
   "metadata": {
    "scrolled": true
   },
   "outputs": [
    {
     "name": "stderr",
     "output_type": "stream",
     "text": [
      "WARNING:absl:Found untraced functions such as _update_step_xla while saving (showing 1 of 1). These functions will not be directly callable after loading.\n"
     ]
    },
    {
     "name": "stdout",
     "output_type": "stream",
     "text": [
      "INFO:tensorflow:Assets written to: C:\\ml_projects\\rise-gh.git\\rise-gh\\model\\saved\\temp_model_v0\\assets\n"
     ]
    },
    {
     "name": "stderr",
     "output_type": "stream",
     "text": [
      "INFO:tensorflow:Assets written to: C:\\ml_projects\\rise-gh.git\\rise-gh\\model\\saved\\temp_model_v0\\assets\n"
     ]
    }
   ],
   "source": [
    "# model_name = 'temp_model_v1'\n",
    "# model.save(save_path + model_name)"
   ]
  },
  {
   "cell_type": "code",
   "execution_count": 371,
   "id": "9bee5ae2",
   "metadata": {},
   "outputs": [],
   "source": [
    "# model = tf.keras.models.load_model(save_path + 'temp_model_v6')"
   ]
  },
  {
   "cell_type": "code",
   "execution_count": 900,
   "id": "de5a20b1",
   "metadata": {},
   "outputs": [
    {
     "name": "stdout",
     "output_type": "stream",
     "text": [
      "1548/1548 [==============================] - 9s 5ms/step\n",
      "270/270 [==============================] - 2s 6ms/step\n"
     ]
    }
   ],
   "source": [
    "preds = model.predict(X_test)\n",
    "vis_preds = model.predict(test_feats)"
   ]
  },
  {
   "cell_type": "code",
   "execution_count": 901,
   "id": "daafc959",
   "metadata": {},
   "outputs": [],
   "source": [
    "test_mae = np.abs(np.squeeze(preds) - Y_test) \n",
    "temp_diffs = test_mae# * temp_std"
   ]
  },
  {
   "cell_type": "code",
   "execution_count": 902,
   "id": "11176323",
   "metadata": {},
   "outputs": [
    {
     "data": {
      "image/png": "[encoded data removed]",
      "text/plain": [
       "<Figure size 640x480 with 1 Axes>"
      ]
     },
     "metadata": {},
     "output_type": "display_data"
    }
   ],
   "source": [
    "diff_df = pd.DataFrame(temp_diffs)\n",
    "\n",
    "sns.histplot(\n",
    "    data=diff_df,\n",
    "    stat='count',\n",
    "    binwidth=0.01,\n",
    "    binrange=[0, 2.0],\n",
    "    kde=False,\n",
    "    palette='bright',\n",
    "    legend=False\n",
    ")\n",
    "\n",
    "plt.title('Distribution of MAE for 10-minute forward predictions')\n",
    "plt.xlim(0, 2.0)\n",
    "plt.xlabel('Temperature error, $^\\circ$C')\n",
    "\n",
    "#plt.savefig(plot_path + 'temp_error_dist.png', bbox_inches='tight', dpi=200)\n",
    "plt.show()"
   ]
  },
  {
   "cell_type": "code",
   "execution_count": 903,
   "id": "ece2e592",
   "metadata": {
    "scrolled": false
   },
   "outputs": [
    {
     "data": {
      "image/png": "[encoded data removed]",
      "text/plain": [
       "<Figure size 640x480 with 1 Axes>"
      ]
     },
     "metadata": {},
     "output_type": "display_data"
    }
   ],
   "source": [
    "plt.plot(\n",
    "    test_targets,# * temp_std + temp_mean,\n",
    "    c='b',\n",
    "    alpha=0.6,\n",
    "    linewidth=2.5,\n",
    "    label='Real'\n",
    ")\n",
    "\n",
    "plt.plot(\n",
    "    np.squeeze(vis_preds),# * temp_std + temp_mean,\n",
    "    c='r',\n",
    "    alpha=0.8,\n",
    "    linewidth=1.5,\n",
    "    label='Predicted'\n",
    ")\n",
    "\n",
    "plt.ylabel('Temperature, $^\\circ$C')\n",
    "plt.xlabel('Steps, $t$')\n",
    "plt.legend(loc='upper left')\n",
    "plt.title('Temperature - 10-minute forward predictions')\n",
    "\n",
    "#plt.ylim(15, 30)\n",
    "plt.xlim(0, len(vis_preds))\n",
    "\n",
    "#plt.savefig(plot_path + 'temp_preds_10min.png', bbox_inches='tight', dpi=200)\n",
    "\n",
    "plt.show()"
   ]
  },
  {
   "cell_type": "code",
   "execution_count": 904,
   "id": "919b2b21",
   "metadata": {
    "scrolled": false
   },
   "outputs": [
    {
     "data": {
      "text/plain": [
       "[<matplotlib.lines.Line2D at 0x205aaa73f10>]"
      ]
     },
     "execution_count": 904,
     "metadata": {},
     "output_type": "execute_result"
    },
    {
     "data": {
      "image/png": "[encoded data removed]",
      "text/plain": [
       "<Figure size 640x480 with 2 Axes>"
      ]
     },
     "metadata": {},
     "output_type": "display_data"
    }
   ],
   "source": [
    "fig, ax1 = plt.subplots()\n",
    "\n",
    "ax1.plot(test_targets[-600:])\n",
    "ax1.plot(np.squeeze(vis_preds)[-600:])\n",
    "\n",
    "ax2 = ax1.twinx()\n",
    "ax2.plot(testData.flow.TA01_GP101.values[-600:], 'r')"
   ]
  },
  {
   "cell_type": "code",
   "execution_count": 907,
   "id": "56a44499",
   "metadata": {},
   "outputs": [
    {
     "name": "stdout",
     "output_type": "stream",
     "text": [
      "270/270 [==============================] - 2s 6ms/step\n"
     ]
    }
   ],
   "source": [
    "exp_feats = test_feats.copy()\n",
    "exp_feats[:, 0] += 2.0\n",
    "vis_preds2 = model.predict(exp_feats)"
   ]
  },
  {
   "cell_type": "code",
   "execution_count": 908,
   "id": "c1248da2",
   "metadata": {
    "scrolled": false
   },
   "outputs": [
    {
     "data": {
      "text/plain": [
       "[<matplotlib.lines.Line2D at 0x205a64a03a0>]"
      ]
     },
     "execution_count": 908,
     "metadata": {},
     "output_type": "execute_result"
    },
    {
     "data": {
      "image/png": "[encoded data removed]",
      "text/plain": [
       "<Figure size 640x480 with 1 Axes>"
      ]
     },
     "metadata": {},
     "output_type": "display_data"
    }
   ],
   "source": [
    "plt.plot(vis_preds)\n",
    "plt.plot(vis_preds2)"
   ]
  },
  {
   "cell_type": "code",
   "execution_count": 789,
   "id": "6349952a",
   "metadata": {},
   "outputs": [
    {
     "name": "stdout",
     "output_type": "stream",
     "text": [
      "[[1.         0.97114371]\n",
      " [0.97114371 1.        ]]\n",
      "[[1.         0.93138443]\n",
      " [0.93138443 1.        ]]\n"
     ]
    }
   ],
   "source": [
    "print(np.corrcoef(test_targets, np.squeeze(vis_preds)))\n",
    "print(np.corrcoef(Y_test, np.squeeze(preds)))"
   ]
  },
  {
   "cell_type": "code",
   "execution_count": null,
   "id": "519ca215",
   "metadata": {},
   "outputs": [],
   "source": []
  }
 ],
 "metadata": {
  "kernelspec": {
   "display_name": "Python 3 (ipykernel)",
   "language": "python",
   "name": "python3"
  },
  "language_info": {
   "codemirror_mode": {
    "name": "ipython",
    "version": 3
   },
   "file_extension": ".py",
   "mimetype": "text/x-python",
   "name": "python",
   "nbconvert_exporter": "python",
   "pygments_lexer": "ipython3",
   "version": "3.9.13"
  }
 },
 "nbformat": 4,
 "nbformat_minor": 5
}
