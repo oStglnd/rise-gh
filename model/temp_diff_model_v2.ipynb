{
 "cells": [
  {
   "cell_type": "markdown",
   "id": "3c35d1cc",
   "metadata": {},
   "source": [
    "# Short-term Temperature Model Test"
   ]
  },
  {
   "cell_type": "markdown",
   "id": "195db0c9",
   "metadata": {},
   "source": [
    "## Import dependencies and data"
   ]
  },
  {
   "cell_type": "code",
   "execution_count": 1,
   "id": "77453a55",
   "metadata": {},
   "outputs": [],
   "source": [
    "# import dependencies\n",
    "import os\n",
    "import json\n",
    "import pandas as pd\n",
    "\n",
    "import matplotlib.pyplot as plt\n",
    "import seaborn as sns\n",
    "\n",
    "import numpy as np\n",
    "import tensorflow as tf\n",
    "from tensorflow.keras import layers, Model"
   ]
  },
  {
   "cell_type": "code",
   "execution_count": 50,
   "id": "b5dee1ac",
   "metadata": {},
   "outputs": [],
   "source": [
    "# define relevant paths\n",
    "home_path = os.path.dirname(os.getcwd())\n",
    "data_path = home_path + '\\\\data\\\\'\n",
    "plot_path = home_path + '\\\\plotting\\\\plots\\\\'\n",
    "save_path = home_path + '\\\\model\\\\saved\\\\'"
   ]
  },
  {
   "cell_type": "code",
   "execution_count": 112,
   "id": "a747b251",
   "metadata": {},
   "outputs": [],
   "source": [
    "# get merged data\n",
    "data = pd.read_csv(\n",
    "    data_path + 'data_merged.csv',\n",
    "    header=[0, 1],\n",
    "    index_col=[0, 1, 2, 3, 4]\n",
    ")\n",
    "\n",
    "# convert index.date col to datetime\n",
    "#data.index = pd.to_datetime(data.index.values)\n",
    "data.loc[:, ('time', 'date')] = pd.to_datetime(data.time.date)"
   ]
  },
  {
   "cell_type": "code",
   "execution_count": 113,
   "id": "b0f46624",
   "metadata": {},
   "outputs": [],
   "source": [
    "# define X vars\n",
    "x_vars = [\n",
    "    ('flow', 'TA01_GP101'),\n",
    "    ('state', 'TA01_output'),\n",
    "    ('state', 'TA02_output'),\n",
    "    ('temperatures', 'DC_GT101_GM101'),\n",
    "    ('temperatures', 'DC_GT102_GM102'),\n",
    "    ('temperatures', 'DC_GT103_GM103'),\n",
    "    ('temperatures', 'DC_GT104_GM104'),\n",
    "    ('temperatures', 'DC_GT401_GM401'),\n",
    "    ('temperatures', 'TA01_GT401_GM401'),\n",
    "    ('temperatures', 'TA02_GT401_GM401'),\n",
    "    ('temperatures', 'DC_GT301_damped'),\n",
    "    ('temperatures', 'DC_GT301_outdoor'),\n",
    "    ('humidity', 'DC_GT101_GM101'),\n",
    "    ('humidity', 'DC_GT102_GM102'),\n",
    "    ('humidity', 'DC_GT103_GM103'),\n",
    "    ('humidity', 'DC_GT104_GM104'),\n",
    "    ('humidity', 'DC_GT401_GM401'),\n",
    "    ('setpoints', 'TA01_GT10X_GM10X'),\n",
    "    ('sun', 'gsi'),\n",
    "    ('sun', 'gsi_deriv'),\n",
    "    ('sun', 'vol'),\n",
    "    ('sun', 'vol_deriv'),\n",
    "    ('time', 'dayofyear'),\n",
    "    ('time', 'monthofyear'),\n",
    "    ('time', 'minofday'),\n",
    "    ('time', 'hourofday')\n",
    "]\n",
    "\n",
    "# filter columns to keep only x_vars\n",
    "data = data[x_vars].copy()"
   ]
  },
  {
   "cell_type": "markdown",
   "id": "33ae9eb6",
   "metadata": {},
   "source": [
    "## Describe Df"
   ]
  },
  {
   "cell_type": "code",
   "execution_count": 114,
   "id": "be306b52",
   "metadata": {},
   "outputs": [
    {
     "name": "stdout",
     "output_type": "stream",
     "text": [
      "Number of NAs\n",
      "\n",
      "category      sensor_ID       \n",
      "flow          TA01_GP101          13\n",
      "state         TA01_output         15\n",
      "              TA02_output         14\n",
      "temperatures  DC_GT101_GM101      12\n",
      "              DC_GT102_GM102      12\n",
      "              DC_GT103_GM103      11\n",
      "              DC_GT104_GM104      11\n",
      "              DC_GT401_GM401      13\n",
      "              TA01_GT401_GM401    13\n",
      "              TA02_GT401_GM401    12\n",
      "              DC_GT301_damped     12\n",
      "              DC_GT301_outdoor    12\n",
      "humidity      DC_GT101_GM101      12\n",
      "              DC_GT102_GM102      12\n",
      "              DC_GT103_GM103      12\n",
      "              DC_GT104_GM104      10\n",
      "              DC_GT401_GM401      14\n",
      "setpoints     TA01_GT10X_GM10X    14\n",
      "sun           gsi                  2\n",
      "              gsi_deriv            2\n",
      "              vol                  2\n",
      "              vol_deriv            2\n",
      "time          dayofyear            2\n",
      "              monthofyear          2\n",
      "              minofday             2\n",
      "              hourofday            2\n",
      "dtype: int64\n",
      "\n",
      "\n",
      "\n"
     ]
    }
   ],
   "source": [
    "# print number of NAs\n",
    "print('Number of NAs\\n')\n",
    "print(data.isna().sum())\n",
    "print('\\n\\n')"
   ]
  },
  {
   "cell_type": "code",
   "execution_count": 115,
   "id": "4da9d182",
   "metadata": {},
   "outputs": [],
   "source": [
    "# remove single NAN\n",
    "data = data.dropna(how='any')"
   ]
  },
  {
   "cell_type": "code",
   "execution_count": 116,
   "id": "c1c64200",
   "metadata": {},
   "outputs": [],
   "source": [
    "# # reduce to one OBS per MIN\n",
    "data = data.groupby(['month', 'day', 'hour', 'minute'], sort=False).mean()\n",
    "\n",
    "# remove APRIL data\n",
    "# data = data[data.index.get_level_values(0) != 4]"
   ]
  },
  {
   "cell_type": "markdown",
   "id": "3424585c",
   "metadata": {},
   "source": [
    "## Feature engineering"
   ]
  },
  {
   "cell_type": "markdown",
   "id": "6e430934",
   "metadata": {},
   "source": [
    "### GH Temperature"
   ]
  },
  {
   "cell_type": "code",
   "execution_count": 117,
   "id": "ef4c35a7",
   "metadata": {},
   "outputs": [],
   "source": [
    "### create \"better\" estimate of temperature var, w. proper avg.\n",
    "data[('temperatures', 'TA01_GT10X_GM10X')] = data.temperatures[[\n",
    "    # ('DC_GT102_GM101'),\n",
    "    ('DC_GT102_GM102'), \n",
    "    ('DC_GT103_GM103'), \n",
    "    ('DC_GT104_GM104')\n",
    "]].values.mean(axis=1)"
   ]
  },
  {
   "cell_type": "code",
   "execution_count": 118,
   "id": "61702429",
   "metadata": {},
   "outputs": [],
   "source": [
    "# adjust for setpoint change\n",
    "col1 = ('temperatures', 'TA01_GT401_GM401')\n",
    "# col2 = ('setpoints', 'TA01_GT10X_GM10X')\n",
    "# data[col1] = data[col1] - data[col2]\n",
    "\n",
    "# set min to zero\n",
    "# data[col1] = data[col1] + abs(data[col1].min())\n",
    "\n",
    "# # min-max scale, i.e. squeeze into [0, 1]\n",
    "#data[col1] = (data[col1] - data[col1].min()) / (data[col1].max() - data[col1].min())\n"
   ]
  },
  {
   "cell_type": "markdown",
   "id": "db94829f",
   "metadata": {},
   "source": [
    "### TA01 regulation"
   ]
  },
  {
   "cell_type": "code",
   "execution_count": 119,
   "id": "9ce830a3",
   "metadata": {},
   "outputs": [],
   "source": [
    "### min-max scale [btween 0 and 1]\n",
    "col = ('temperatures', 'DC_GT401_GM401')\n",
    "# col2 = ('temperatures', 'TA01_tempflow')\n",
    "data[col] = (data[col] - data[col].min()) / (data[col].max() - data[col].min())\n",
    "\n",
    "### scale by fan output\n",
    "# data[col2] = data[col] * data[('state', 'TA01_output')] / data[('state', 'TA01_output')].min()\n",
    "# data[col2] = data[col] * data[('flow', 'TA01_GP101')] / data[('flow', 'TA01_GP101')].min()"
   ]
  },
  {
   "cell_type": "code",
   "execution_count": 120,
   "id": "1712d9bb",
   "metadata": {},
   "outputs": [],
   "source": [
    "col = ('temperatures', 'TA01_GT401_GM401')\n",
    "data[col] = (data[col] - data[col].min()) / (data[col].max() - data[col].min())"
   ]
  },
  {
   "cell_type": "markdown",
   "id": "33a858e4",
   "metadata": {},
   "source": [
    "### OUTSIDE temperature"
   ]
  },
  {
   "cell_type": "code",
   "execution_count": 121,
   "id": "cd9a882c",
   "metadata": {},
   "outputs": [],
   "source": [
    "### normalize vals\n",
    "col = ('temperatures', 'DC_GT301_damped')\n",
    "\n",
    "#min-max scale vals\n",
    "#set MIN to zero\n",
    "data[col] = data[col] + abs(data[col].min())\n",
    "data[col] = (data[col] - data[col].min()) / (data[col].max() - data[col].min())"
   ]
  },
  {
   "cell_type": "markdown",
   "id": "ef0c7ece",
   "metadata": {},
   "source": [
    "### GH Humidity"
   ]
  },
  {
   "cell_type": "code",
   "execution_count": 123,
   "id": "a9a1b4c6",
   "metadata": {},
   "outputs": [],
   "source": [
    "### create \"better\" estimate of temperature var, w. proper avg.\n",
    "data[('humidity', 'TA01_GT10X_GM10X')] = data.humidity[[\n",
    "    # ('DC_GT102_GM101'),\n",
    "    ('DC_GT102_GM102'), \n",
    "    ('DC_GT103_GM103'), \n",
    "    ('DC_GT104_GM104')\n",
    "]].values.mean(axis=1)"
   ]
  },
  {
   "cell_type": "code",
   "execution_count": 124,
   "id": "e6252a43",
   "metadata": {},
   "outputs": [],
   "source": [
    "### normalize humidity\n",
    "col = ('humidity', 'TA01_GT10X_GM10X')\n",
    "\n",
    "# min-max scale vals\n",
    "data[col] = (data[col] - data[col].min()) / (data[col].max() - data[col].min())"
   ]
  },
  {
   "cell_type": "markdown",
   "id": "bf8985d2",
   "metadata": {},
   "source": [
    "### Solar radiance"
   ]
  },
  {
   "cell_type": "code",
   "execution_count": 125,
   "id": "03e24731",
   "metadata": {},
   "outputs": [],
   "source": [
    "# ### min-max scale GSI\n",
    "col = ('sun', 'gsi')\n",
    "data[col] = (data[col] - data[col].min()) / (data[col].max() - data[col].min())"
   ]
  },
  {
   "cell_type": "code",
   "execution_count": 126,
   "id": "5e2e00fb",
   "metadata": {},
   "outputs": [],
   "source": [
    "### zero-centered variance scale GSI deriv\n",
    "col = ('sun', 'gsi_deriv')\n",
    "\n",
    "data[col] = data[col] + abs(data[col].min())\n",
    "data[col] = (data[col] - data[col].min()) / (data[col].max() - data[col].min())"
   ]
  },
  {
   "cell_type": "markdown",
   "id": "f80555e1",
   "metadata": {},
   "source": [
    "## Flow"
   ]
  },
  {
   "cell_type": "code",
   "execution_count": 127,
   "id": "4115786b",
   "metadata": {},
   "outputs": [],
   "source": [
    "col1 = ('state', 'TA01_output')\n",
    "col2 = ('state', 'TA02_output')\n",
    "\n",
    "data[col1] = (data[col1] - data[col1].min()) / (data[col1].max() - data[col1].min())\n",
    "data[col2] = (data[col2] - data[col2].min()) / (data[col2].max() - data[col2].min())"
   ]
  },
  {
   "cell_type": "markdown",
   "id": "6944095a",
   "metadata": {},
   "source": [
    "## Kalman filtering"
   ]
  },
  {
   "cell_type": "code",
   "execution_count": 128,
   "id": "f502c824",
   "metadata": {},
   "outputs": [],
   "source": [
    "cols = [\n",
    "    (('temperatures', 'TA01_GT10X_GM10X'), 3),\n",
    "    (('temperatures', 'DC_GT401_GM401'), 2),\n",
    "    (('temperatures', 'TA01_GT401_GM401'), 3),\n",
    "    (('temperatures', 'DC_GT301_damped'), 4),\n",
    "    (('humidity', 'TA01_GT10X_GM10X'), 3),\n",
    "    \n",
    "]\n",
    "\n",
    "for colSpec in cols:\n",
    "    # apply KALMAN filter to temperature measurements\n",
    "    col = colSpec[0]\n",
    "    varExp = colSpec[-1]\n",
    "    \n",
    "    # get data\n",
    "    X = data[col].values\n",
    "    n = len(X)\n",
    "\n",
    "    # process variance, measurement variance\n",
    "    Q = 1e-5\n",
    "    R = 0.1**varExp\n",
    "\n",
    "    xhat=np.zeros(n)      # a posteri estimate of x\n",
    "    P=np.zeros(n)         # a posteri error estimate\n",
    "    xhatminus=np.zeros(n) # a priori estimate of x\n",
    "    Pminus=np.zeros(n)    # a priori error estimate\n",
    "    K=np.zeros(n)         # gain or blending factor\n",
    "\n",
    "    # intial guesses\n",
    "    xhat[0] = X[0]\n",
    "    P[0] = X[1]\n",
    "\n",
    "    for k in range(1,n):\n",
    "        # time update\n",
    "        xhatminus[k] = xhat[k-1]\n",
    "        Pminus[k] = P[k-1]+Q\n",
    "\n",
    "        # measurement update\n",
    "        K[k] = Pminus[k]/( Pminus[k]+R )\n",
    "        xhat[k] = xhatminus[k]+K[k]*(X[k]-xhatminus[k])\n",
    "        P[k] = (1-K[k])*Pminus[k]\n",
    "\n",
    "    data[col] = xhat"
   ]
  },
  {
   "cell_type": "markdown",
   "id": "70925b7a",
   "metadata": {},
   "source": [
    "## Data preparation"
   ]
  },
  {
   "cell_type": "code",
   "execution_count": 131,
   "id": "97925877",
   "metadata": {},
   "outputs": [],
   "source": [
    "t_steps = 10   # 10-min predictions\n",
    "n_steps = 30   # 20-min backwards look\n",
    "\n",
    "train_frac = 0.9"
   ]
  },
  {
   "cell_type": "markdown",
   "id": "76c623b7",
   "metadata": {},
   "source": [
    "### Data selection and split"
   ]
  },
  {
   "cell_type": "code",
   "execution_count": 132,
   "id": "09bde346",
   "metadata": {},
   "outputs": [],
   "source": [
    "# Define model variables\n",
    "model_vars = [\n",
    "    ('state', 'TA01_output'),\n",
    "    ('state', 'TA02_output'),\n",
    "    ('temperatures', 'TA01_GT10X_GM10X'),\n",
    "    ('temperatures', 'DC_GT401_GM401'),\n",
    "    ('temperatures', 'TA01_GT401_GM401'),\n",
    "    ('temperatures', 'DC_GT301_damped'),\n",
    "    ('humidity', 'TA01_GT10X_GM10X'),\n",
    "    ('sun', 'gsi'),\n",
    "    ('sun', 'gsi_deriv'),\n",
    "    ('time', 'minofday'),\n",
    "]\n",
    "\n",
    "# filter data\n",
    "testData = data[model_vars].copy()"
   ]
  },
  {
   "cell_type": "code",
   "execution_count": 133,
   "id": "f3389acf",
   "metadata": {},
   "outputs": [],
   "source": [
    "targets = testData.pop(('temperatures', 'TA01_GT10X_GM10X')).copy()\n",
    "targets = (targets - targets.shift(t_steps)) * 10"
   ]
  },
  {
   "cell_type": "markdown",
   "id": "f6cf0068",
   "metadata": {},
   "source": [
    "### Create sequences"
   ]
  },
  {
   "cell_type": "code",
   "execution_count": 134,
   "id": "db044685",
   "metadata": {},
   "outputs": [],
   "source": [
    "def date_flagger(data, n_steps):\n",
    "    # get flagged datesvalues\n",
    "#     data['minute'] = data.index.get_level_values(3).values    \n",
    "#     data['date_flag'] = data.minute - data.minute.shift(n_steps) != (n_steps)\n",
    "\n",
    "    data['hour'] = data.index.get_level_values(2).values    \n",
    "    data['date_flag'] = data.hour - data.hour.shift(n_steps) > 1\n",
    "    \n",
    "    # get positions in data, w.r.t. n_step removed observations at start\n",
    "    flagged_idx = np.where(data.date_flag.values == 1)\n",
    "    flagged_idx = flagged_idx[0] - n_steps\n",
    "    \n",
    "    del data['hour'], data['date_flag']\n",
    "    \n",
    "    return flagged_idx"
   ]
  },
  {
   "cell_type": "code",
   "execution_count": 135,
   "id": "b3ff34c6",
   "metadata": {},
   "outputs": [],
   "source": [
    "# get all n_step-sequences from data series\n",
    "vals = testData.values\n",
    "sequences = []\n",
    "for i in range(len(testData) - n_steps):\n",
    "    sequences.append(vals[i:i+n_steps])\n",
    "    \n",
    "sequences = np.stack(sequences)"
   ]
  },
  {
   "cell_type": "code",
   "execution_count": 136,
   "id": "208cf837",
   "metadata": {},
   "outputs": [],
   "source": [
    "# get flagged sequences\n",
    "flags = date_flagger(testData, n_steps)\n",
    "\n",
    "# get mask f. flags\n",
    "mask = [idx not in flags for idx in range(len(sequences))]\n",
    "sequences = sequences[mask][:-t_steps]\n",
    "\n",
    "# get targets, delete mask\n",
    "targets = targets.values[n_steps:][mask][:-t_steps]"
   ]
  },
  {
   "cell_type": "code",
   "execution_count": 137,
   "id": "0c9cfb93",
   "metadata": {},
   "outputs": [],
   "source": [
    "# save sequential targets for visualization\n",
    "targets, test_targets = targets[:-5760], targets[-5760:]\n",
    "sequences, test_sequences = sequences[:-5760], sequences[-5760:]"
   ]
  },
  {
   "cell_type": "markdown",
   "id": "ed3989e0",
   "metadata": {},
   "source": [
    "### Shuffle and split dataset"
   ]
  },
  {
   "cell_type": "code",
   "execution_count": 138,
   "id": "42078364",
   "metadata": {},
   "outputs": [],
   "source": [
    "# get random indices\n",
    "idxs = np.arange(len(targets))\n",
    "np.random.shuffle(idxs)\n",
    "\n",
    "# shuffle sequences and targets\n",
    "targets = np.squeeze(targets[idxs])\n",
    "sequences = np.squeeze(sequences[idxs])"
   ]
  },
  {
   "cell_type": "code",
   "execution_count": 139,
   "id": "f46f1ee9",
   "metadata": {},
   "outputs": [],
   "source": [
    "# split data\n",
    "train_n = int(len(targets) * train_frac)\n",
    "X_train, X_test = sequences[:train_n], sequences[train_n:]\n",
    "Y_train, Y_test = targets[:train_n], targets[train_n:]"
   ]
  },
  {
   "cell_type": "code",
   "execution_count": 140,
   "id": "e2b53911",
   "metadata": {},
   "outputs": [],
   "source": [
    "X_train = X_train.astype('float64')\n",
    "X_test = X_test.astype('float64')"
   ]
  },
  {
   "cell_type": "markdown",
   "id": "cdaeef6e",
   "metadata": {},
   "source": [
    "## Define LSTM Regressor"
   ]
  },
  {
   "cell_type": "code",
   "execution_count": 141,
   "id": "da8cf715",
   "metadata": {},
   "outputs": [],
   "source": [
    "layerList = [\n",
    "    layers.Input(shape=(\n",
    "        X_train.shape[1],\n",
    "        X_train.shape[2]\n",
    "    )),\n",
    "    layers.LSTM(\n",
    "        units=64,\n",
    "        return_sequences=True,\n",
    "        activation='tanh',\n",
    "        recurrent_activation='sigmoid',\n",
    "        activity_regularizer='l2',\n",
    "        recurrent_dropout=0.2,\n",
    "        #dropout=0.2,\n",
    "        kernel_initializer=tf.keras.initializers.GlorotNormal()\n",
    "    ),\n",
    "    layers.BatchNormalization(),\n",
    "    layers.LSTM(\n",
    "        units=32,\n",
    "        return_sequences=True,\n",
    "        activation='tanh',\n",
    "        recurrent_activation='sigmoid',\n",
    "        activity_regularizer='l2',\n",
    "        recurrent_dropout=0.5,\n",
    "        #dropout=0.5,\n",
    "        kernel_initializer=tf.keras.initializers.GlorotNormal()\n",
    "    ),\n",
    "    layers.BatchNormalization(),\n",
    "    layers.LSTM(\n",
    "        units=32,\n",
    "#         return_sequences=True,\n",
    "        activation='tanh',\n",
    "        recurrent_activation='sigmoid',\n",
    "        activity_regularizer='l2',\n",
    "        recurrent_dropout=0.5,\n",
    "        #dropout=0.5,\n",
    "        kernel_initializer=tf.keras.initializers.GlorotNormal()\n",
    "    ),\n",
    "    layers.BatchNormalization(),\n",
    "    layers.Dense(\n",
    "        units=1,\n",
    "        activation=None,\n",
    "        activity_regularizer='l2'\n",
    "    )\n",
    "]"
   ]
  },
  {
   "cell_type": "code",
   "execution_count": 142,
   "id": "0615a63d",
   "metadata": {
    "scrolled": false
   },
   "outputs": [
    {
     "name": "stdout",
     "output_type": "stream",
     "text": [
      "Model: \"model\"\n",
      "_________________________________________________________________\n",
      " Layer (type)                Output Shape              Param #   \n",
      "=================================================================\n",
      " lstm_3 (LSTM)               (None, 30, 64)            18944     \n",
      "                                                                 \n",
      " batch_normalization_3 (Batc  (None, 30, 64)           256       \n",
      " hNormalization)                                                 \n",
      "                                                                 \n",
      " lstm_4 (LSTM)               (None, 30, 32)            12416     \n",
      "                                                                 \n",
      " batch_normalization_4 (Batc  (None, 30, 32)           128       \n",
      " hNormalization)                                                 \n",
      "                                                                 \n",
      " lstm_5 (LSTM)               (None, 32)                8320      \n",
      "                                                                 \n",
      " batch_normalization_5 (Batc  (None, 32)               128       \n",
      " hNormalization)                                                 \n",
      "                                                                 \n",
      " dense_1 (Dense)             (None, 1)                 33        \n",
      "                                                                 \n",
      "=================================================================\n",
      "Total params: 40,225\n",
      "Trainable params: 39,969\n",
      "Non-trainable params: 256\n",
      "_________________________________________________________________\n"
     ]
    }
   ],
   "source": [
    "# lr = 0.005\n",
    "lr = 0.001\n",
    "# lr = 0.0005\n",
    "model = tf.keras.models.Sequential(layers=layerList, name='model')\n",
    "model.compile(optimizer=tf.keras.optimizers.Adam(learning_rate=lr), loss=\"mse\")\n",
    "model.summary()"
   ]
  },
  {
   "cell_type": "code",
   "execution_count": 31,
   "id": "4230094b",
   "metadata": {},
   "outputs": [],
   "source": [
    "# model2 = tf.keras.models.load_model(save_path + 'temp_diff_model_v52')\n",
    "# model2.summary()"
   ]
  },
  {
   "cell_type": "code",
   "execution_count": 32,
   "id": "7cfecf12",
   "metadata": {},
   "outputs": [],
   "source": [
    "# # copy weigths from pre-trained\n",
    "# for idx, layer in enumerate(model.layers):\n",
    "#     layer.set_weights(model2.layers[idx].get_weights())"
   ]
  },
  {
   "cell_type": "code",
   "execution_count": 147,
   "id": "7f7baea1",
   "metadata": {
    "scrolled": false
   },
   "outputs": [
    {
     "name": "stdout",
     "output_type": "stream",
     "text": [
      "Epoch 1/50\n",
      "1060/1060 [==============================] - 140s 132ms/step - loss: 0.8433 - val_loss: 0.7985\n",
      "Epoch 2/50\n",
      "1060/1060 [==============================] - 174s 164ms/step - loss: 0.8568 - val_loss: 0.6866\n",
      "Epoch 3/50\n",
      "1060/1060 [==============================] - 188s 177ms/step - loss: 0.8468 - val_loss: 0.6805\n",
      "Epoch 4/50\n",
      "1060/1060 [==============================] - 185s 175ms/step - loss: 0.8321 - val_loss: 0.8035\n",
      "Epoch 5/50\n",
      "1060/1060 [==============================] - 188s 177ms/step - loss: 0.8211 - val_loss: 0.6715\n",
      "Epoch 6/50\n",
      "1060/1060 [==============================] - 188s 178ms/step - loss: 0.8374 - val_loss: 0.7439\n",
      "Epoch 7/50\n",
      "1060/1060 [==============================] - 187s 176ms/step - loss: 0.8146 - val_loss: 0.7086\n",
      "Epoch 8/50\n",
      "1060/1060 [==============================] - 187s 176ms/step - loss: 0.7984 - val_loss: 0.7325\n",
      "Epoch 9/50\n",
      "1060/1060 [==============================] - 187s 176ms/step - loss: 0.8178 - val_loss: 0.8422\n",
      "Epoch 10/50\n",
      "1060/1060 [==============================] - 187s 176ms/step - loss: 0.8028 - val_loss: 0.7265\n"
     ]
    }
   ],
   "source": [
    "trainHist = model.fit(\n",
    "    X_train,\n",
    "    Y_train,\n",
    "    epochs=50,\n",
    "    batch_size=128,\n",
    "    validation_split=0.1,\n",
    "    callbacks=[\n",
    "        tf.keras.callbacks.EarlyStopping(monitor=\"val_loss\", patience=5, mode=\"min\"),\n",
    "#         tf.keras.callbacks.LearningRateScheduler(lambda epoch: lr * (0.9 ** epoch))\n",
    "    ],\n",
    ")"
   ]
  },
  {
   "cell_type": "code",
   "execution_count": 157,
   "id": "be3a5a2b",
   "metadata": {
    "scrolled": true
   },
   "outputs": [
    {
     "name": "stderr",
     "output_type": "stream",
     "text": [
      "WARNING:absl:Found untraced functions such as _update_step_xla while saving (showing 1 of 1). These functions will not be directly callable after loading.\n"
     ]
    },
    {
     "name": "stdout",
     "output_type": "stream",
     "text": [
      "INFO:tensorflow:Assets written to: C:\\ml_projects\\rise-gh.git\\rise-gh\\model\\saved\\temp_diff_model_v201\\assets\n"
     ]
    },
    {
     "name": "stderr",
     "output_type": "stream",
     "text": [
      "INFO:tensorflow:Assets written to: C:\\ml_projects\\rise-gh.git\\rise-gh\\model\\saved\\temp_diff_model_v201\\assets\n"
     ]
    }
   ],
   "source": [
    "model_name = 'temp_diff_model_v201'\n",
    "model.save(save_path + model_name)"
   ]
  },
  {
   "cell_type": "code",
   "execution_count": null,
   "id": "eb9c5a71",
   "metadata": {},
   "outputs": [],
   "source": [
    "# model = tf.keras.models.load_model(save_path + 'temp_diff_model_v60')\n",
    "# model.summary()"
   ]
  },
  {
   "cell_type": "code",
   "execution_count": 149,
   "id": "66b952aa",
   "metadata": {},
   "outputs": [
    {
     "name": "stdout",
     "output_type": "stream",
     "text": [
      "524/524 [==============================] - 19s 37ms/step\n",
      "180/180 [==============================] - 8s 46ms/step\n"
     ]
    }
   ],
   "source": [
    "preds = model.predict(X_test)\n",
    "vis_preds = model.predict(test_sequences.astype('float64'))"
   ]
  },
  {
   "cell_type": "code",
   "execution_count": 156,
   "id": "88bf2e01",
   "metadata": {},
   "outputs": [
    {
     "data": {
      "text/plain": [
       "[<matplotlib.lines.Line2D at 0x2878a653d30>]"
      ]
     },
     "execution_count": 156,
     "metadata": {},
     "output_type": "execute_result"
    },
    {
     "data": {
      "image/png": "[encoded data removed]",
      "text/plain": [
       "<Figure size 640x480 with 1 Axes>"
      ]
     },
     "metadata": {},
     "output_type": "display_data"
    }
   ],
   "source": [
    "plt.plot(test_targets[-2500:] / 10)\n",
    "plt.plot(vis_preds[-2500:] / 10)\n",
    "# plt.plot(xhat[:2000])"
   ]
  },
  {
   "cell_type": "code",
   "execution_count": 151,
   "id": "ebf0681e",
   "metadata": {},
   "outputs": [],
   "source": [
    "test_mae = np.abs(np.squeeze(preds / 10) - Y_test / 10) \n",
    "temp_diffs = test_mae"
   ]
  },
  {
   "cell_type": "code",
   "execution_count": 152,
   "id": "19cdae22",
   "metadata": {},
   "outputs": [
    {
     "data": {
      "image/png": "[encoded data removed]",
      "text/plain": [
       "<Figure size 640x480 with 1 Axes>"
      ]
     },
     "metadata": {},
     "output_type": "display_data"
    }
   ],
   "source": [
    "diff_df = pd.DataFrame(temp_diffs)\n",
    "\n",
    "sns.histplot(\n",
    "    data=diff_df,\n",
    "    stat='count',\n",
    "    binwidth=0.01,\n",
    "    binrange=[0, 1.0],\n",
    "    kde=False,\n",
    "    palette='bright',\n",
    "    legend=False\n",
    ")\n",
    "\n",
    "plt.title('Distribution of errors for 10-minute forward predictions')\n",
    "plt.xlim(0, 1.0)\n",
    "plt.xlabel('$\\Delta \\\\tau$ error, $^\\circ$C')\n",
    "\n",
    "# plt.savefig(plot_path + 'temp_error_dist.png', bbox_inches='tight', dpi=200)\n",
    "plt.show()"
   ]
  },
  {
   "cell_type": "code",
   "execution_count": 284,
   "id": "8eeaff31",
   "metadata": {},
   "outputs": [
    {
     "data": {
      "text/plain": [
       "[<matplotlib.lines.Line2D at 0x25805d5fe50>]"
      ]
     },
     "execution_count": 284,
     "metadata": {},
     "output_type": "execute_result"
    },
    {
     "data": {
      "image/png": "[encoded data removed]",
      "text/plain": [
       "<Figure size 640x480 with 2 Axes>"
      ]
     },
     "metadata": {},
     "output_type": "display_data"
    }
   ],
   "source": [
    "fig, ax1 = plt.subplots()\n",
    "ax1.plot(vis_preds[:1500])\n",
    "ax1.plot(exp_preds[:1500])\n",
    "\n",
    "ax2 = ax1.twinx()\n",
    "# ax2.plot(exp_seqs[:1500, -1, 0], 'r')"
   ]
  }
 ],
 "metadata": {
  "kernelspec": {
   "display_name": "Python 3 (ipykernel)",
   "language": "python",
   "name": "python3"
  },
  "language_info": {
   "codemirror_mode": {
    "name": "ipython",
    "version": 3
   },
   "file_extension": ".py",
   "mimetype": "text/x-python",
   "name": "python",
   "nbconvert_exporter": "python",
   "pygments_lexer": "ipython3",
   "version": "3.9.13"
  }
 },
 "nbformat": 4,
 "nbformat_minor": 5
}
