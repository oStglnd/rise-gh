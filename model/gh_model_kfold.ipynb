{
 "cells": [
  {
   "cell_type": "markdown",
   "id": "3c35d1cc",
   "metadata": {},
   "source": [
    "# Greenhouse Model"
   ]
  },
  {
   "cell_type": "markdown",
   "id": "195db0c9",
   "metadata": {},
   "source": [
    "## Import dependencies and data"
   ]
  },
  {
   "cell_type": "code",
   "execution_count": 1,
   "id": "77453a55",
   "metadata": {},
   "outputs": [],
   "source": [
    "# import dependencies\n",
    "import os\n",
    "import pickle\n",
    "import json\n",
    "from collections import deque\n",
    "import pandas as pd\n",
    "import matplotlib.pyplot as plt\n",
    "import numpy as np\n",
    "import tensorflow as tf\n",
    "from tensorflow.keras import layers, Model\n",
    "from statsmodels.tsa.arima.model import ARIMA\n",
    "from sklearn.ensemble import GradientBoostingRegressor\n",
    "from xgboost import XGBRegressor\n",
    "from scipy.stats import wilcoxon\n",
    "\n",
    "\n",
    "from IPython.display import clear_output"
   ]
  },
  {
   "cell_type": "code",
   "execution_count": 2,
   "id": "b5dee1ac",
   "metadata": {},
   "outputs": [],
   "source": [
    "# define relevant paths\n",
    "home_path = os.path.dirname(os.getcwd())\n",
    "data_path = home_path + '\\\\data\\\\'\n",
    "plot_path = home_path + '\\\\plotting\\\\plots\\\\'\n",
    "save_path = home_path + '\\\\model\\\\kfold_results\\\\models\\\\'\n",
    "results_path = home_path + '\\\\model\\\\kfold_results\\\\'"
   ]
  },
  {
   "cell_type": "code",
   "execution_count": 3,
   "id": "a747b251",
   "metadata": {},
   "outputs": [],
   "source": [
    "# get merged data\n",
    "data = pd.read_csv(\n",
    "    data_path + 'data_processed.csv',\n",
    "    header=[0, 1],\n",
    "    index_col=[0, 1, 2, 3, 4]\n",
    ")"
   ]
  },
  {
   "cell_type": "markdown",
   "id": "2cbe10b4",
   "metadata": {},
   "source": [
    "## MISC"
   ]
  },
  {
   "cell_type": "code",
   "execution_count": 4,
   "id": "a8f10ce6",
   "metadata": {},
   "outputs": [],
   "source": [
    "def abs_humid(temp, rel_humid):\n",
    "    abs_humidity =  6.112 * np.exp(17.67 * temp / (temp + 243.5)) * rel_humid * 2.1674 / (273.15 + temp)\n",
    "    return abs_humidity\n",
    "\n",
    "def rel_humid(temp, abs_humid):\n",
    "    rel_humidity = abs_humid * (273.15 + temp) / (6.112 * np.exp(17.67 * temp / (temp + 243.5)) * 2.1674)\n",
    "    return rel_humidity"
   ]
  },
  {
   "cell_type": "code",
   "execution_count": 5,
   "id": "f24579a2",
   "metadata": {},
   "outputs": [],
   "source": [
    "ta01_min = 35\n",
    "ta01_max = 75\n",
    "\n",
    "ta02_min = 0\n",
    "ta02_max = 85"
   ]
  },
  {
   "cell_type": "markdown",
   "id": "7807cf70",
   "metadata": {},
   "source": [
    "## Define funcs for data engi."
   ]
  },
  {
   "cell_type": "code",
   "execution_count": 6,
   "id": "2e2636c8",
   "metadata": {},
   "outputs": [],
   "source": [
    "# # reduce to one OBS per 5 MIN (take average of 10 OBS)\n",
    "def data_reduce(data, m):\n",
    "    idxObj = zip(\n",
    "        data.index.get_level_values(0),\n",
    "        data.index.get_level_values(1),\n",
    "        data.index.get_level_values(2),\n",
    "        data.index.get_level_values(3) // m\n",
    "    )\n",
    "\n",
    "    index = pd.MultiIndex.from_tuples(\n",
    "        tuples=idxObj,\n",
    "        names=['month', 'day', 'hour', 'minute']\n",
    "    )\n",
    "\n",
    "    data.index = index\n",
    "    dates = data.groupby(['month', 'day', 'hour', 'minute'], sort=False).last()[('time', 'date')]\n",
    "    data = data.groupby(['month', 'day', 'hour', 'minute'], sort=False).mean()\n",
    "    return data, dates"
   ]
  },
  {
   "cell_type": "code",
   "execution_count": 7,
   "id": "07154ba2",
   "metadata": {},
   "outputs": [],
   "source": [
    "def date_flagger(data, n_steps):\n",
    "    # create flag for erroneous sequences\n",
    "    data['hour'] = data.index.get_level_values(2).values    \n",
    "    data['date_flag'] = data.hour - data.hour.shift(n_steps) > 1\n",
    "    \n",
    "    # get positions in data, w.r.t. n_step removed observations at start\n",
    "    flagged_idx = np.where(data.date_flag.values == 1)\n",
    "    flagged_idx = flagged_idx[0] - n_steps\n",
    "    \n",
    "    del data['hour'], data['date_flag']\n",
    "    \n",
    "    return flagged_idx"
   ]
  },
  {
   "cell_type": "code",
   "execution_count": 8,
   "id": "f3d20d7a",
   "metadata": {},
   "outputs": [],
   "source": [
    "def seq_maker(data, targets, temps, dates, n_steps):\n",
    "    \n",
    "    vals = data.values\n",
    "    sequences = []\n",
    "    for i in range(len(vals) - n_steps):\n",
    "        sequences.append(vals[i:i+n_steps])\n",
    "    sequences = np.stack(sequences)\n",
    "    \n",
    "    flags = date_flagger(data, n_steps)\n",
    "    mask = [idx not in flags for idx in range(len(sequences))]\n",
    "    \n",
    "    sequences = sequences[mask]\n",
    "    targets = targets[n_steps:][mask].values\n",
    "    \n",
    "    temps_t = temps[n_steps-t_steps:-t_steps][mask].values\n",
    "    temps = temps[:-n_steps][mask].values # TEMPORARY\n",
    "    \n",
    "    dates = dates[:-n_steps][mask].values\n",
    "    \n",
    "    return sequences, targets, temps, temps_t, dates"
   ]
  },
  {
   "cell_type": "code",
   "execution_count": 9,
   "id": "6fb3b836",
   "metadata": {},
   "outputs": [],
   "source": [
    "def data_norm(data_train, data_test):\n",
    "    col_params = {}\n",
    "    for col in data_train.columns:\n",
    "\n",
    "        min_val = data_train[col].min()\n",
    "        max_val = data_train[col].max()\n",
    "\n",
    "        # normalize\n",
    "        mean = data_train[col].mean()\n",
    "        std = data_train[col].std()\n",
    "\n",
    "        data_train[col] = (data_train[col] - mean) / std\n",
    "        data_test[col] = (data_test[col] - mean) / std\n",
    "\n",
    "        col_params[col] = {\n",
    "            'mean':mean,\n",
    "            'std':std,\n",
    "            'max':max_val,\n",
    "            'min':min_val\n",
    "            }\n",
    "    \n",
    "    return data_train, data_test, col_params"
   ]
  },
  {
   "cell_type": "markdown",
   "id": "b98ca615",
   "metadata": {},
   "source": [
    "## Create func for K-fold split"
   ]
  },
  {
   "cell_type": "code",
   "execution_count": 10,
   "id": "061bfdea",
   "metadata": {},
   "outputs": [],
   "source": [
    "def k_fold_data(data, k_idx, k_frac, m, cols, t_steps, n_steps, shuffle):\n",
    "    \n",
    "    # get days\n",
    "    days = data.groupby(['month', 'day'], sort=False).count().index.values\n",
    "    \n",
    "    # get days for K:th fold\n",
    "    train_n = int(len(days)) * (1 - k_frac)\n",
    "    test_n = len(days) - train_n\n",
    "    \n",
    "    # split days by test and train\n",
    "    days_test = days[int(k_idx*test_n):int((k_idx+1)*test_n)].tolist()\n",
    "    mask_test = np.array([day in days_test for day in data.index.droplevel(-1).droplevel(-1).droplevel(-1).values])\n",
    "    data_train = data.loc[~mask_test].copy()\n",
    "    data_test = data.loc[mask_test].copy()\n",
    "    \n",
    "    # reduce to m-min observations\n",
    "    data_train, dates_train = data_reduce(data_train, m)\n",
    "    data_test, dates_test = data_reduce(data_test, m)\n",
    "    \n",
    "#     # get dates\n",
    "#     dates_train = data_train.time.date.values\n",
    "#     dates_test = data_test.time.date.values\n",
    "    \n",
    "#     # remove setpoint\n",
    "#     data_train[('temperatures', 'TA01_GT10X_GM10X')] -= data_train.setpoints.TA01_GT10X_GM10X + 20\n",
    "#     data_test[('temperatures', 'TA01_GT10X_GM10X')] -= data_test.setpoints.TA01_GT10X_GM10X + 20\n",
    "    \n",
    "    # filter data\n",
    "    data_train = data_train[cols].copy()\n",
    "    data_test = data_test[cols].copy()\n",
    "    \n",
    "    # normalize\n",
    "    data_train, data_test, col_params = data_norm(data_train, data_test)\n",
    "    \n",
    "    # get targets\n",
    "    targets_train = data_train.pop(('temperatures', 'TA01_GT10X_GM10X'))\n",
    "    targets_test = data_test.pop(('temperatures', 'TA01_GT10X_GM10X'))\n",
    "    \n",
    "    # get temp info\n",
    "    temps_train = targets_train.copy()\n",
    "    temps_test = targets_test.copy()\n",
    "    \n",
    "    # create sequences\n",
    "    sequences_train, targets_train, temps_train, temps_t_train, dates_train = seq_maker(data_train, targets_train, temps_train, dates_train, n_steps)\n",
    "    sequences_test, targets_test, temps_test, temps_t_test, dates_test = seq_maker(data_test, targets_test, temps_test, dates_test, n_steps)\n",
    "    \n",
    "    # create MASKED sequences\n",
    "    sequences_masked = sequences_test.copy()\n",
    "    for t in range(1, t_steps):\n",
    "        sequences_masked[:, -t, :] = sequences_masked[:, -(t_steps), :]\n",
    "    \n",
    "    if shuffle:\n",
    "        # shuffle training data randomly\n",
    "        idxs = np.arange(len(targets_train))\n",
    "        np.random.shuffle(idxs)\n",
    "\n",
    "        sequences_train = sequences_train[idxs]\n",
    "        targets_train = targets_train[idxs]\n",
    "        temps_train = temps_train[idxs]\n",
    "        temps_t_trian = temps_t_train[idxs]\n",
    "        dates_train = dates_train[idxs]\n",
    "    \n",
    "    # return tups w. train and test\n",
    "    train_tup = (sequences_train, targets_train, temps_train, temps_t_train, dates_train)\n",
    "    test_tup = (sequences_test, targets_test, temps_test, temps_t_test, sequences_masked, dates_test)\n",
    "    return train_tup, test_tup, col_params"
   ]
  },
  {
   "cell_type": "markdown",
   "id": "a15ace44",
   "metadata": {},
   "source": [
    "## Create data for specific fold"
   ]
  },
  {
   "cell_type": "code",
   "execution_count": 11,
   "id": "7901ac0b",
   "metadata": {},
   "outputs": [],
   "source": [
    "m = 5\n",
    "t_steps = 3\n",
    "n_steps = 12\n",
    "k_frac = 0.05"
   ]
  },
  {
   "cell_type": "code",
   "execution_count": 12,
   "id": "60e1ff0d",
   "metadata": {},
   "outputs": [],
   "source": [
    "# Define cols to use\n",
    "cols = [\n",
    "    ('temperatures', 'TA01_GT10X_GM10X'),\n",
    "#     ('temperatures', 'TA01_GT401_GM401_scaled'),\n",
    "#     ('temperatures', 'DC_GT301_damped_scaled'),\n",
    "    ('temperatures', 'TA01_GT401_GM401'),\n",
    "    ('temperatures', 'DC_GT301_damped'),\n",
    "    ('sun', 'gsi'),\n",
    "    ('power', 'phase'),\n",
    "    ('time', 'minofday'),\n",
    "    ('state', 'TA01_output'),\n",
    "    ('state', 'TA02_output')\n",
    "]"
   ]
  },
  {
   "cell_type": "markdown",
   "id": "cdaeef6e",
   "metadata": {},
   "source": [
    "## Def model funcs"
   ]
  },
  {
   "cell_type": "code",
   "execution_count": 13,
   "id": "bdee5244",
   "metadata": {},
   "outputs": [],
   "source": [
    "def model_builder(model_name, lr, dropout, stddev):\n",
    "    \n",
    "    tf.keras.backend.clear_session()\n",
    "    inputs = layers.Input(shape=(sequences_train.shape[1], sequences_train.shape[2]))\n",
    "    inputs = layers.BatchNormalization()(inputs)\n",
    "\n",
    "    _, encoder, _ = layers.LSTM(units=128, recurrent_dropout=dropout, return_sequences=False, return_state=True)(inputs)\n",
    "    encoder = layers.BatchNormalization()(encoder)\n",
    "    encoder = layers.Dropout(dropout)(encoder)\n",
    "\n",
    "    temp_input = layers.Input(shape=(1,))\n",
    "    temp = layers.GaussianNoise(stddev=stddev)(temp_input)\n",
    "    temp = layers.BatchNormalization()(temp)\n",
    "\n",
    "    output = layers.Concatenate()([encoder, temp])\n",
    "    output = layers.Dense(units=1, activation=None, use_bias=False)(output)\n",
    "\n",
    "    model = Model([inputs, temp_input], output)\n",
    "    \n",
    "    lr = lr\n",
    "    model.compile(optimizer=tf.keras.optimizers.Adam(learning_rate=lr), loss='mse')\n",
    "    \n",
    "    return model"
   ]
  },
  {
   "cell_type": "markdown",
   "id": "037c2399",
   "metadata": {},
   "source": [
    "# Define training loop"
   ]
  },
  {
   "cell_type": "code",
   "execution_count": 14,
   "id": "aa55a697",
   "metadata": {
    "scrolled": true
   },
   "outputs": [
    {
     "name": "stdout",
     "output_type": "stream",
     "text": [
      "RETRAINING LSTM, k_idx: 19\n",
      "Epoch 1/10\n",
      "245/245 [==============================] - 9s 31ms/step - loss: 0.2001\n",
      "Epoch 2/10\n",
      "245/245 [==============================] - 9s 35ms/step - loss: 0.1626\n",
      "Epoch 3/10\n",
      "245/245 [==============================] - 9s 38ms/step - loss: 0.1422\n",
      "Epoch 4/10\n",
      "245/245 [==============================] - 9s 38ms/step - loss: 0.1303\n",
      "Epoch 5/10\n",
      "245/245 [==============================] - 8s 34ms/step - loss: 0.1239\n",
      "Epoch 6/10\n",
      "245/245 [==============================] - 8s 35ms/step - loss: 0.1180\n",
      "Epoch 7/10\n",
      "245/245 [==============================] - 8s 32ms/step - loss: 0.1124\n",
      "Epoch 8/10\n",
      "245/245 [==============================] - 8s 31ms/step - loss: 0.1095\n",
      "Epoch 9/10\n",
      "245/245 [==============================] - 7s 30ms/step - loss: 0.1046\n",
      "Epoch 10/10\n",
      "245/245 [==============================] - 8s 33ms/step - loss: 0.1024\n",
      "Keras weights file (<HDF5 file \"variables.h5\" (mode r+)>) saving:\n",
      "...layers\\batch_normalization\n",
      "......vars\n",
      ".........0\n",
      ".........1\n",
      ".........2\n",
      ".........3\n",
      "...layers\\batch_normalization_1\n",
      "......vars\n",
      ".........0\n",
      ".........1\n",
      ".........2\n",
      ".........3\n",
      "...layers\\concatenate\n",
      "......vars\n",
      "...layers\\dense\n",
      "......vars\n",
      ".........0\n",
      "...layers\\dropout\n",
      "......vars\n",
      "...layers\\gaussian_noise\n",
      "......vars\n",
      "...layers\\input_layer\n",
      "......vars\n",
      "...layers\\input_layer_1\n",
      "......vars\n",
      "...layers\\lstm\n",
      "......vars\n",
      "...layers\\lstm\\cell\n",
      "......vars\n",
      ".........0\n",
      ".........1\n",
      ".........2\n",
      "...metrics\\mean\n",
      "......vars\n",
      ".........0\n",
      ".........1\n",
      "...optimizer\n",
      "......vars\n",
      ".........0\n",
      ".........1\n",
      ".........10\n",
      ".........11\n",
      ".........12\n",
      ".........13\n",
      ".........14\n",
      ".........15\n",
      ".........16\n",
      ".........2\n",
      ".........3\n",
      ".........4\n",
      ".........5\n",
      ".........6\n",
      ".........7\n",
      ".........8\n",
      ".........9\n",
      "...vars\n",
      "Keras model archive saving:\n",
      "File Name                                             Modified             Size\n",
      "config.json                                    2023-09-12 14:52:56         4641\n",
      "metadata.json                                  2023-09-12 14:52:56           64\n",
      "variables.h5                                   2023-09-12 14:52:56       878012\n"
     ]
    },
    {
     "name": "stderr",
     "output_type": "stream",
     "text": [
      "WARNING:absl:Function `_wrapped_model` contains input name(s) args_0 with unsupported characters which will be renamed to args_0_1 in the SavedModel.\n",
      "WARNING:absl:Found untraced functions such as _update_step_xla while saving (showing 1 of 1). These functions will not be directly callable after loading.\n"
     ]
    },
    {
     "name": "stdout",
     "output_type": "stream",
     "text": [
      "INFO:tensorflow:Assets written to: C:\\ml_projects\\rise-gh.git\\rise-gh\\model\\kfold_results\\models\\temp_lstm_w128_k19_v4_X\\assets\n"
     ]
    },
    {
     "name": "stderr",
     "output_type": "stream",
     "text": [
      "INFO:tensorflow:Assets written to: C:\\ml_projects\\rise-gh.git\\rise-gh\\model\\kfold_results\\models\\temp_lstm_w128_k19_v4_X\\assets\n"
     ]
    }
   ],
   "source": [
    "for k_idx in range(17, 20):\n",
    "    \n",
    "    # get data\n",
    "    train_tup, test_tup, _ = k_fold_data(\n",
    "        data=data, \n",
    "        k_idx=k_idx, \n",
    "        k_frac=k_frac, \n",
    "        m=m, \n",
    "        cols=cols, \n",
    "        t_steps=t_steps, \n",
    "        n_steps=n_steps,\n",
    "        shuffle=False\n",
    "    )\n",
    "    \n",
    "    (sequences_train, targets_train, temps_train, temps_t_train, _) = train_tup\n",
    "    (sequences_test, targets_test, temps_test, temps_t_test, sequences_masked, _) = test_tup\n",
    "    \n",
    "    ### TRAIN RNN\n",
    "    clear_output()\n",
    "    print('TRAINING LSTM, k_idx: {}'.format(k_idx))\n",
    "    \n",
    "    lstm_name = 'temp_lstm_w128_k{}_v4'.format(k_idx)\n",
    "    lstm_model = model_builder(model_name=lstm_name, lr=0.001, dropout=0.0, stddev=1.0)\n",
    "    trainHist = lstm_model.fit(\n",
    "        [sequences_train, temps_train],\n",
    "        targets_train,\n",
    "        epochs=30,\n",
    "        batch_size=32,\n",
    "        validation_split=0.0\n",
    "    )\n",
    "\n",
    "    # save results f. retrained LSTM\n",
    "    with open(results_path + '{}.pickle'.format(lstm_name), 'wb') as fo:\n",
    "        pickle.dump(trainHist, fo)\n",
    "    \n",
    "    # save model\n",
    "    lstm_model.save(save_path + lstm_name)\n",
    "    \n",
    "    clear_output()\n",
    "    print('RETRAINING LSTM, k_idx: {}'.format(k_idx))\n",
    "    \n",
    "    # retrain RNN\n",
    "    retrained_name = lstm_name + '_X'\n",
    "    lstm_retrained = model_builder(model_name=retrained_name, lr=0.0001, dropout=0.2, stddev=1.0)\n",
    "    \n",
    "    # copy weigths from pre-trained\n",
    "    for idx, layer in enumerate(lstm_retrained.layers):\n",
    "        layer.set_weights(lstm_model.layers[idx].get_weights())\n",
    "    \n",
    "    # retrain model\n",
    "    trainHist = lstm_retrained.fit(\n",
    "        [sequences_train, temps_t_train],\n",
    "        targets_train,\n",
    "        epochs=10,\n",
    "        batch_size=128,\n",
    "        validation_split=0.0\n",
    "    )\n",
    "    \n",
    "    # save results f. retrained LSTM\n",
    "    with open(results_path + '{}.pickle'.format(retrained_name), 'wb') as fo:\n",
    "        pickle.dump(trainHist, fo)\n",
    "    \n",
    "    # save model\n",
    "    lstm_retrained.save(save_path + retrained_name)\n",
    "    \n",
    "#     ### TRAIN ARIMA\n",
    "#     clear_output()\n",
    "#     print('TRAINING ARIMA, k_idx: {}'.format(k_idx))\n",
    "    \n",
    "#     # get model name\n",
    "#     arima_name = 'temp_arima_v{}'.format(k_idx)\n",
    "    \n",
    "#     # get endogenous and exogenous regressors\n",
    "#     endog_train = temps_t_train.tolist()\n",
    "# #     exog_train = [np.array(seq) for seq in sequences_train[:, -1, :].tolist()]\n",
    "#     exog_train = [np.array(seq).mean(axis=0) for seq in sequences_train[:, -t_steps:, :].tolist()]\n",
    "\n",
    "#     endog_test = temps_t_test.tolist()\n",
    "#     exog_test = [np.array(seq) for seq in sequences_masked[:, -1, :].tolist()]\n",
    "# #     exog_test = [np.array(seq).mean(axis=0) for seq in sequences_test[:, -t_steps:, :].tolist()]\n",
    "    \n",
    "#     # estimate model\n",
    "#     arima_temp = ARIMA(endog=endog_train, exog=exog_train, order=(9, 1, 0)).fit()\n",
    "    \n",
    "#     # get predictions (t steps)\n",
    "#     print('PREDICTING w. ARIMA, k_idx: {}'.format(k_idx))\n",
    "#     arima_preds = []\n",
    "#     for exog in exog_test:\n",
    "#         pred = arima_temp.forecast(steps=t_steps, exog=[exog] * t_steps)\n",
    "#         arima_preds.append(pred[-1])\n",
    "\n",
    "#     arima_temp.save(save_path + arima_name)\n",
    "#     with open(results_path + '{}_v2.pickle'.format(arima_name), 'wb') as fo:\n",
    "#         pickle.dump(arima_preds, fo)\n",
    "        \n",
    "        \n",
    "#     ### TRAIN GBDT\n",
    "#     clear_output()\n",
    "#     print('TRAINING GBDT, k_idx: {}'.format(k_idx))\n",
    "    \n",
    "#     # get model name\n",
    "#     gbdt_name = 'temp_gbdt_v{}'.format(k_idx)\n",
    "#     gbdt = GradientBoostingRegressor(\n",
    "#         loss='squared_error',\n",
    "#         learning_rate=0.05,\n",
    "#         n_estimators=6000,\n",
    "#         max_depth=40,\n",
    "#         max_leaf_nodes=None,\n",
    "#         #subsample=0.7,\n",
    "#         verbose=1,\n",
    "# #         n_iter_no_change=10,\n",
    "# #         tol=1e-4,\n",
    "# #         validation_fraction=0.1\n",
    "#     )\n",
    "    \n",
    "#     # train GBDT\n",
    "#     X_train = np.hstack((np.stack(exog_train), temps_t_train[:, np.newaxis]))\n",
    "#     Y_train = targets_train[:, np.newaxis]\n",
    "#     gbdt.fit(X_train, Y_train.flatten())\n",
    "    \n",
    "# #     # get GBDT preds\n",
    "# #     X_test = np.hstack((np.stack(exog_test), temps_t_test[:, np.newaxis]))\n",
    "# #     gbdt_preds = gbdt.predict(X_test)\n",
    "    \n",
    "#     # save GBDT preds\n",
    "#     with open(save_path + '{}_v2.pickle'.format(gbdt_name), 'wb') as fo:\n",
    "#         pickle.dump(gbdt, fo)"
   ]
  },
  {
   "cell_type": "markdown",
   "id": "c074f1c0",
   "metadata": {},
   "source": [
    "### "
   ]
  },
  {
   "cell_type": "markdown",
   "id": "df6a6270",
   "metadata": {},
   "source": [
    "### Compare LSTM and ARIMA"
   ]
  },
  {
   "cell_type": "code",
   "execution_count": 13,
   "id": "56d24393",
   "metadata": {},
   "outputs": [],
   "source": [
    "# def date_resample(targets, sequences, dates):\n",
    "    \n",
    "#     sequences = [np.array(seq) for seq in sequences[:, -1, :].tolist()].copy()    \n",
    "#     data = pd.DataFrame(index=pd.to_datetime(dates), data={'targets':targets, 'sequences':sequences})\n",
    "#     data = data.resample(rule='5min', axis='index', origin=data.index[0]).asfreq()\n",
    "    \n",
    "#     targets = data.targets.to_list()\n",
    "#     dates = data.index.to_list()\n",
    "    \n",
    "#     seqs = data.sequences.values\n",
    "#     seq_mask = [type(seq) != np.ndarray for seq in seqs]\n",
    "#     for idx, check in enumerate(seq_mask):\n",
    "#         if check:\n",
    "#             seqs[idx] = np.zeros(len(seqs[0]))# * np.nan\n",
    "#             #targets[idx] = np.nan\n",
    "            \n",
    "#     seqs = seqs.tolist()\n",
    "    \n",
    "#     return targets, seqs, dates"
   ]
  },
  {
   "cell_type": "markdown",
   "id": "7e854d29",
   "metadata": {},
   "source": [
    "### Get Autoregressive test preds for LSTM and GBDT"
   ]
  },
  {
   "cell_type": "code",
   "execution_count": 14,
   "id": "27a061bd",
   "metadata": {},
   "outputs": [
    {
     "name": "stdout",
     "output_type": "stream",
     "text": [
      "Autoregressive LSTM, k_idx: 19\n"
     ]
    }
   ],
   "source": [
    "for k_idx in range(7, 20):\n",
    "    # get data\n",
    "    _, test_tup, col_params = k_fold_data(\n",
    "        data=data, \n",
    "        k_idx=k_idx, \n",
    "        k_frac=k_frac, \n",
    "        m=m, \n",
    "        cols=cols, \n",
    "        t_steps=t_steps, \n",
    "        n_steps=n_steps,\n",
    "        shuffle=False\n",
    "    )\n",
    "    \n",
    "    # get test data\n",
    "    (sequences_test, targets_test, temps_test, temps_t_test, sequences_masked, dates_test) = test_tup\n",
    "    \n",
    "    clear_output()\n",
    "    print('Autoregressive LSTM, k_idx: {}'.format(k_idx))\n",
    "    \n",
    "    # load LSTM\n",
    "    lstm_name = 'temp_lstm_w128_k{}_v4_X'.format(k_idx)\n",
    "    lstm = tf.keras.models.load_model(save_path + lstm_name)\n",
    "    \n",
    "    # create queue for preds\n",
    "    pred_queue = deque(maxlen=t_steps)\n",
    "    for temp in temps_t_test[:t_steps]:\n",
    "        pred_queue.append(temp)\n",
    "    \n",
    "    # iterate over test seqs and get preds\n",
    "    lstm_preds = []\n",
    "    for seq in sequences_masked:\n",
    "        temp = np.array([pred_queue.popleft()])\n",
    "        temp_pred = lstm.predict([seq[np.newaxis, :], temp], verbose=False)[0]\n",
    "        pred_queue.append(temp_pred)\n",
    "        lstm_preds.append(temp_pred)\n",
    "        \n",
    "    # save autoregressive predictions\n",
    "    with open(results_path + '{}_autoreg.pickle'.format(lstm_name), 'wb') as fo:\n",
    "        pickle.dump(lstm_preds, fo)\n",
    "        \n",
    "#     clear_output()\n",
    "#     print('Autoregressive GBDT, k_idx: {}'.format(k_idx))\n",
    "    \n",
    "#     # load GBDT\n",
    "#     gbdt_name = 'temp_gbdt_v{}_v2'.format(k_idx)\n",
    "#     with open(save_path + '{}.pickle'.format(gbdt_name), 'rb') as fo:\n",
    "#         gbdt = pickle.load(fo)\n",
    "\n",
    "#     # create queue for preds\n",
    "#     pred_queue = deque(maxlen=t_steps)\n",
    "#     for temp in temps_t_test[:t_steps]:\n",
    "#         pred_queue.append(temp)\n",
    "    \n",
    "#     # iterate over test seqs and get preds\n",
    "#     gbdt_preds = []\n",
    "#     X_test = [np.array(seq) for seq in sequences_masked[:, -1, :].tolist()]\n",
    "#     X_test = np.hstack((np.stack(X_test), temps_t_test[:, np.newaxis]))\n",
    "\n",
    "#     for x in X_test:\n",
    "#         temp = np.array([pred_queue.popleft()])\n",
    "#         x[-1] = temp\n",
    "#         temp_pred = gbdt.predict(x[np.newaxis, :])\n",
    "#         pred_queue.append(temp_pred)\n",
    "#         gbdt_preds.append(temp_pred)\n",
    "        \n",
    "#     # save autoregressive predictions\n",
    "#     with open(results_path + '{}_autoreg.pickle'.format(gbdt_name), 'wb') as fo:\n",
    "#         pickle.dump(gbdt_preds, fo)"
   ]
  },
  {
   "cell_type": "markdown",
   "id": "d8e3b0a9",
   "metadata": {},
   "source": [
    "### Compare LSTM and ARIMA across all folds"
   ]
  },
  {
   "cell_type": "code",
   "execution_count": 15,
   "id": "155134f2",
   "metadata": {},
   "outputs": [],
   "source": [
    "results_dict = {}\n",
    "\n",
    "for k_idx in range(20): \n",
    "    # get data\n",
    "    _, test_tup, col_params = k_fold_data(\n",
    "        data=data, \n",
    "        k_idx=k_idx, \n",
    "        k_frac=k_frac, \n",
    "        m=m, \n",
    "        cols=cols, \n",
    "        t_steps=t_steps, \n",
    "        n_steps=n_steps,\n",
    "        shuffle=False\n",
    "    )\n",
    "    \n",
    "    # get test data\n",
    "    (sequences_test, targets_test, temps_test, temps_t_test, sequences_masked, dates_test) = test_tup\n",
    "    \n",
    "    # get LSTM preds\n",
    "    lstm_name = 'temp_lstm_w128_k{}_X'.format(k_idx)\n",
    "    with open(results_path + '{}_autoreg.pickle'.format(lstm_name), 'rb') as fo:\n",
    "        lstm_preds = pickle.load(fo)\n",
    "\n",
    "    # get LSTM preds w.o. feature engi\n",
    "    lstm_name = 'temp_lstm_w128_k{}_v3_X'.format(k_idx)\n",
    "    with open(results_path + '{}_autoreg.pickle'.format(lstm_name), 'rb') as fo:\n",
    "        lstm_simp_preds = pickle.load(fo)\n",
    "    \n",
    "    # get LSTM preds w.o. feature engi\n",
    "    lstm_name = 'temp_lstm_w128_k{}_v4_X'.format(k_idx)\n",
    "    with open(results_path + '{}_autoreg.pickle'.format(lstm_name), 'rb') as fo:\n",
    "        lstm_midsimp_preds = pickle.load(fo)\n",
    "    \n",
    "    # get ARIMA preds\n",
    "    arima_name = 'temp_arima_v{}'.format(k_idx)\n",
    "    with open(results_path + '{}.pickle'.format(arima_name), 'rb') as fo:\n",
    "        arima_preds = pickle.load(fo)\n",
    "\n",
    "    # get GBDT preds\n",
    "    gbdt_name = 'temp_gbdt_v{}'.format(k_idx)\n",
    "    with open(results_path + '{}_autoreg.pickle'.format(gbdt_name), 'rb') as fo:\n",
    "        gbdt_preds = pickle.load(fo)\n",
    "        \n",
    "    # get GBDT preds\n",
    "    gbdt_name = 'temp_gbdt_v{}_v2'.format(k_idx)\n",
    "    with open(results_path + '{}_autoreg.pickle'.format(gbdt_name), 'rb') as fo:\n",
    "        gbdt_large_preds = pickle.load(fo)\n",
    "        \n",
    "    lstm_mse = np.square(targets_test - np.stack(lstm_preds).flatten()).mean()\n",
    "    lstm_simp_mse = np.square(targets_test - np.stack(lstm_simp_preds).flatten()).mean()\n",
    "    lstm_midsimp_mse = np.square(targets_test - np.stack(lstm_midsimp_preds).flatten()).mean()\n",
    "    arima_mse = np.square(targets_test - np.array(arima_preds)).mean()\n",
    "    gbdt_mse = np.square(targets_test - np.stack(gbdt_preds).flatten()).mean()\n",
    "    gbdt_large_mse = np.square(targets_test - np.stack(gbdt_large_preds).flatten()).mean()\n",
    "    \n",
    "    # save all in results dict\n",
    "    results_dict[k_idx] = {\n",
    "        'lstm':lstm_preds,\n",
    "        'lstm_simp':lstm_simp_preds,\n",
    "        'lstm_midsimp':lstm_midsimp_preds,\n",
    "        'arima':arima_preds,\n",
    "        'gbdt':gbdt_preds,\n",
    "        'gbdt_large':gbdt_large_preds,\n",
    "        'targets':targets_test,\n",
    "        'lstm_mse':lstm_mse,\n",
    "        'lstm_simp_mse':lstm_simp_mse,\n",
    "        'lstm_midsimp_mse':lstm_midsimp_mse,\n",
    "        'arima_mse':arima_mse,\n",
    "        'gbdt_mse':gbdt_mse,\n",
    "        'gbdt_large_mse':gbdt_large_mse\n",
    "    }\n",
    "    \n",
    "# save results dict\n",
    "with open(results_path + 'k_fold_results.pickle'.format(lstm_name), 'wb') as fo:\n",
    "    pickle.dump(results_dict, fo)"
   ]
  },
  {
   "cell_type": "code",
   "execution_count": 21,
   "id": "6a92e66b",
   "metadata": {},
   "outputs": [
    {
     "name": "stdout",
     "output_type": "stream",
     "text": [
      "Fold 0, LSTM MSE: 0.123, ARIMA MSE: 0.137, GBDT MSE: 0.111, GBDT LARGE MSE: 9.844\n",
      "Fold 1, LSTM MSE: 0.028, ARIMA MSE: 0.214, GBDT MSE: 0.080, GBDT LARGE MSE: 3.333\n",
      "Fold 2, LSTM MSE: 0.016, ARIMA MSE: 0.155, GBDT MSE: 0.079, GBDT LARGE MSE: 1.927\n",
      "Fold 3, LSTM MSE: 0.058, ARIMA MSE: 0.100, GBDT MSE: 0.375, GBDT LARGE MSE: 0.242\n",
      "Fold 4, LSTM MSE: 0.051, ARIMA MSE: 0.144, GBDT MSE: 0.243, GBDT LARGE MSE: 0.386\n",
      "Fold 5, LSTM MSE: 0.062, ARIMA MSE: 0.256, GBDT MSE: 0.285, GBDT LARGE MSE: 1.236\n",
      "Fold 6, LSTM MSE: 0.048, ARIMA MSE: 0.099, GBDT MSE: 0.149, GBDT LARGE MSE: 0.537\n",
      "Fold 7, LSTM MSE: 0.157, ARIMA MSE: 0.173, GBDT MSE: 0.279, GBDT LARGE MSE: 0.528\n",
      "Fold 8, LSTM MSE: 0.129, ARIMA MSE: 0.282, GBDT MSE: 0.350, GBDT LARGE MSE: 0.752\n",
      "Fold 9, LSTM MSE: 0.088, ARIMA MSE: 0.335, GBDT MSE: 0.321, GBDT LARGE MSE: 0.711\n",
      "Fold 10, LSTM MSE: 0.053, ARIMA MSE: 0.247, GBDT MSE: 0.605, GBDT LARGE MSE: 0.630\n",
      "Fold 11, LSTM MSE: 0.051, ARIMA MSE: 0.439, GBDT MSE: 0.529, GBDT LARGE MSE: 2.460\n",
      "Fold 12, LSTM MSE: 0.204, ARIMA MSE: 0.432, GBDT MSE: 0.303, GBDT LARGE MSE: 1.330\n",
      "Fold 13, LSTM MSE: 0.215, ARIMA MSE: 0.496, GBDT MSE: 0.506, GBDT LARGE MSE: 1.239\n",
      "Fold 14, LSTM MSE: 0.140, ARIMA MSE: 0.453, GBDT MSE: 0.159, GBDT LARGE MSE: 0.945\n",
      "Fold 15, LSTM MSE: 0.071, ARIMA MSE: 0.220, GBDT MSE: 0.337, GBDT LARGE MSE: 1.010\n",
      "Fold 16, LSTM MSE: 0.076, ARIMA MSE: 0.232, GBDT MSE: 0.144, GBDT LARGE MSE: 0.422\n",
      "Fold 17, LSTM MSE: 0.404, ARIMA MSE: 1.164, GBDT MSE: 0.795, GBDT LARGE MSE: 1.826\n",
      "Fold 18, LSTM MSE: 0.309, ARIMA MSE: 5.787, GBDT MSE: 2.151, GBDT LARGE MSE: 2.538\n",
      "Fold 19, LSTM MSE: 0.226, ARIMA MSE: 6.972, GBDT MSE: 3.898, GBDT LARGE MSE: 6.842\n"
     ]
    }
   ],
   "source": [
    "for idx, results in enumerate(results_dict.values()):\n",
    "    print('Fold {}, LSTM MSE: {:.3f}, ARIMA MSE: {:.3f}, GBDT MSE: {:.3f}, GBDT LARGE MSE: {:.3f}'.format(\n",
    "        idx, \n",
    "        results['lstm_mse'], \n",
    "        results['arima_mse'], \n",
    "        results['gbdt_mse'],\n",
    "        results['gbdt_large_mse']\n",
    "        )\n",
    "     )"
   ]
  },
  {
   "cell_type": "code",
   "execution_count": 24,
   "id": "5b42c2d0",
   "metadata": {},
   "outputs": [
    {
     "data": {
      "text/plain": [
       "6.972271288266523"
      ]
     },
     "execution_count": 24,
     "metadata": {},
     "output_type": "execute_result"
    }
   ],
   "source": [
    "arima_mse"
   ]
  },
  {
   "cell_type": "markdown",
   "id": "3aeb38b3",
   "metadata": {},
   "source": [
    "### Wilcoxon signed rank test"
   ]
  },
  {
   "cell_type": "code",
   "execution_count": 95,
   "id": "a04e0621",
   "metadata": {},
   "outputs": [],
   "source": [
    "lstm_mse, arima_mse = zip(*[(results_dict[k]['lstm_mse'], results_dict[k]['arima_mse']) for k in range(20)])"
   ]
  },
  {
   "cell_type": "code",
   "execution_count": 96,
   "id": "6684c906",
   "metadata": {},
   "outputs": [],
   "source": [
    "test = wilcoxon(list(lstm_mse), list(arima_mse))"
   ]
  },
  {
   "cell_type": "code",
   "execution_count": 97,
   "id": "eac14edf",
   "metadata": {},
   "outputs": [
    {
     "data": {
      "text/plain": [
       "1.9073486328125e-06"
      ]
     },
     "execution_count": 97,
     "metadata": {},
     "output_type": "execute_result"
    }
   ],
   "source": [
    "test.pvalue"
   ]
  },
  {
   "cell_type": "markdown",
   "id": "0771aa6f",
   "metadata": {},
   "source": [
    "### Plot for final fold"
   ]
  },
  {
   "cell_type": "code",
   "execution_count": 21,
   "id": "2df39edc",
   "metadata": {},
   "outputs": [],
   "source": [
    "# load autoregressive predictions\n",
    "lstm_name_512 = 'temp_lstm_w512_v19_X'\n",
    "with open(results_path + '{}_autoreg.pickle'.format(lstm_name_512), 'rb') as fo:\n",
    "    lstm_preds_512 = pickle.load(fo)\n",
    "    \n",
    "lstm_name_128 = 'temp_lstm_w128_v19_X'\n",
    "with open(results_path + '{}_autoreg.pickle'.format(lstm_name_128), 'rb') as fo:\n",
    "    lstm_preds_128 = pickle.load(fo)"
   ]
  },
  {
   "cell_type": "code",
   "execution_count": 22,
   "id": "384aa26e",
   "metadata": {},
   "outputs": [
    {
     "data": {
      "text/plain": [
       "(0.0, 500.0)"
      ]
     },
     "execution_count": 22,
     "metadata": {},
     "output_type": "execute_result"
    },
    {
     "data": {
      "image/png": "[encoded data removed]",
      "text/plain": [
       "<Figure size 640x480 with 1 Axes>"
      ]
     },
     "metadata": {},
     "output_type": "display_data"
    }
   ],
   "source": [
    "plt.plot(targets_test)\n",
    "plt.plot(lstm_preds_512)\n",
    "plt.plot(lstm_preds_128)\n",
    "plt.xlim(0, 500)"
   ]
  },
  {
   "cell_type": "code",
   "execution_count": 23,
   "id": "09b28788",
   "metadata": {},
   "outputs": [],
   "source": [
    "mae_512 = np.square(targets_test - np.stack(lstm_preds_512).flatten()).mean()\n",
    "mae_128 = np.square(targets_test - np.stack(lstm_preds_128).flatten()).mean()"
   ]
  },
  {
   "cell_type": "code",
   "execution_count": 25,
   "id": "a11a335e",
   "metadata": {},
   "outputs": [
    {
     "data": {
      "text/plain": [
       "0.2751349403342904"
      ]
     },
     "execution_count": 25,
     "metadata": {},
     "output_type": "execute_result"
    }
   ],
   "source": [
    "mae_512"
   ]
  }
 ],
 "metadata": {
  "kernelspec": {
   "display_name": "Python 3 (ipykernel)",
   "language": "python",
   "name": "python3"
  },
  "language_info": {
   "codemirror_mode": {
    "name": "ipython",
    "version": 3
   },
   "file_extension": ".py",
   "mimetype": "text/x-python",
   "name": "python",
   "nbconvert_exporter": "python",
   "pygments_lexer": "ipython3",
   "version": "3.9.13"
  }
 },
 "nbformat": 4,
 "nbformat_minor": 5
}
