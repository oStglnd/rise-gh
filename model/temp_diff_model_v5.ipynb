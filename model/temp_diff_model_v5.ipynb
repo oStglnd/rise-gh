{
 "cells": [
  {
   "cell_type": "markdown",
   "id": "3c35d1cc",
   "metadata": {},
   "source": [
    "# Short-term Temperature Model Test"
   ]
  },
  {
   "cell_type": "markdown",
   "id": "195db0c9",
   "metadata": {},
   "source": [
    "## Import dependencies and data"
   ]
  },
  {
   "cell_type": "code",
   "execution_count": 40,
   "id": "77453a55",
   "metadata": {},
   "outputs": [],
   "source": [
    "# import dependencies\n",
    "import os\n",
    "import json\n",
    "import pandas as pd\n",
    "\n",
    "import matplotlib.pyplot as plt\n",
    "import seaborn as sns\n",
    "import numpy as np"
   ]
  },
  {
   "cell_type": "code",
   "execution_count": 41,
   "id": "b5dee1ac",
   "metadata": {},
   "outputs": [],
   "source": [
    "# define relevant paths\n",
    "home_path = os.path.dirname(os.getcwd())\n",
    "data_path = home_path + '\\\\data\\\\'\n",
    "plot_path = home_path + '\\\\plotting\\\\plots\\\\'\n",
    "save_path = home_path + '\\\\model\\\\saved\\\\'"
   ]
  },
  {
   "cell_type": "code",
   "execution_count": 42,
   "id": "a747b251",
   "metadata": {},
   "outputs": [],
   "source": [
    "# get merged data\n",
    "data = pd.read_csv(\n",
    "    data_path + 'data_merged.csv',\n",
    "    header=[0, 1],\n",
    "    index_col=[0, 1, 2, 3, 4]\n",
    ")\n",
    "\n",
    "# convert index.date col to datetime\n",
    "#data.index = pd.to_datetime(data.index.values)\n",
    "data.loc[:, ('time', 'date')] = pd.to_datetime(data.time.date)"
   ]
  },
  {
   "cell_type": "code",
   "execution_count": 43,
   "id": "b0f46624",
   "metadata": {},
   "outputs": [],
   "source": [
    "# define X vars\n",
    "x_vars = [\n",
    "    ('flow', 'TA01_GP101'),\n",
    "    ('state', 'TA01_output'),\n",
    "    ('state', 'TA02_output'),\n",
    "    ('temperatures', 'DC_GT101_GM101'),\n",
    "    ('temperatures', 'DC_GT102_GM102'),\n",
    "    ('temperatures', 'DC_GT103_GM103'),\n",
    "    ('temperatures', 'DC_GT104_GM104'),\n",
    "    ('temperatures', 'DC_GT401_GM401'),\n",
    "    ('temperatures', 'TA01_GT401_GM401'),\n",
    "    ('temperatures', 'TA02_GT401_GM401'),\n",
    "    ('temperatures', 'DC_GT301_damped'),\n",
    "    ('temperatures', 'DC_GT301_outdoor'),\n",
    "    ('humidity', 'DC_GT101_GM101'),\n",
    "    ('humidity', 'DC_GT102_GM102'),\n",
    "    ('humidity', 'DC_GT103_GM103'),\n",
    "    ('humidity', 'DC_GT104_GM104'),\n",
    "    ('humidity', 'DC_GT401_GM401'),\n",
    "    ('setpoints', 'TA01_GT10X_GM10X'),\n",
    "    ('sun', 'gsi'),\n",
    "    ('sun', 'gsi_deriv'),\n",
    "    ('sun', 'vol'),\n",
    "    ('sun', 'vol_deriv'),\n",
    "    ('wind', 'Wx'),\n",
    "    ('wind', 'Wy'),\n",
    "    ('time', 'dayofyear'),\n",
    "    ('time', 'monthofyear'),\n",
    "    ('time', 'minofday'),\n",
    "    ('time', 'minofday_deriv'),\n",
    "    ('time', 'hourofday')\n",
    "]\n",
    "\n",
    "# filter columns to keep only x_vars\n",
    "data = data[x_vars].copy()"
   ]
  },
  {
   "cell_type": "markdown",
   "id": "33ae9eb6",
   "metadata": {},
   "source": [
    "## Describe Df"
   ]
  },
  {
   "cell_type": "code",
   "execution_count": 44,
   "id": "be306b52",
   "metadata": {},
   "outputs": [
    {
     "name": "stdout",
     "output_type": "stream",
     "text": [
      "Number of NAs\n",
      "\n",
      "category      sensor_ID       \n",
      "flow          TA01_GP101          13\n",
      "state         TA01_output         15\n",
      "              TA02_output         14\n",
      "temperatures  DC_GT101_GM101      12\n",
      "              DC_GT102_GM102      12\n",
      "              DC_GT103_GM103      11\n",
      "              DC_GT104_GM104      11\n",
      "              DC_GT401_GM401      13\n",
      "              TA01_GT401_GM401    13\n",
      "              TA02_GT401_GM401    12\n",
      "              DC_GT301_damped     12\n",
      "              DC_GT301_outdoor    12\n",
      "humidity      DC_GT101_GM101      12\n",
      "              DC_GT102_GM102      12\n",
      "              DC_GT103_GM103      12\n",
      "              DC_GT104_GM104      10\n",
      "              DC_GT401_GM401      14\n",
      "setpoints     TA01_GT10X_GM10X    14\n",
      "sun           gsi                  2\n",
      "              gsi_deriv            2\n",
      "              vol                  2\n",
      "              vol_deriv            2\n",
      "wind          Wx                   2\n",
      "              Wy                   2\n",
      "time          dayofyear            2\n",
      "              monthofyear          2\n",
      "              minofday             2\n",
      "              minofday_deriv       2\n",
      "              hourofday            2\n",
      "dtype: int64\n",
      "\n",
      "\n",
      "\n"
     ]
    }
   ],
   "source": [
    "# print number of NAs\n",
    "print('Number of NAs\\n')\n",
    "print(data.isna().sum())\n",
    "print('\\n\\n')"
   ]
  },
  {
   "cell_type": "code",
   "execution_count": 45,
   "id": "4da9d182",
   "metadata": {},
   "outputs": [],
   "source": [
    "# remove single NAN\n",
    "data = data.dropna(how='any')"
   ]
  },
  {
   "cell_type": "code",
   "execution_count": 46,
   "id": "c1c64200",
   "metadata": {},
   "outputs": [],
   "source": [
    "# # reduce to one OBS per MIN\n",
    "# data = data.groupby(['month', 'day', 'hour', 'minute'], sort=False).mean()\n",
    "# dataMean = data.groupby(['month', 'day', 'hour', 'minute'], sort=False).mean()\n",
    "# dataFirst = data.groupby(['month', 'day', 'hour', 'minute'], sort=False).first()\n",
    "# dataLast = data.groupby(['month', 'day', 'hour', 'minute'], sort=False).last()"
   ]
  },
  {
   "cell_type": "markdown",
   "id": "1693099d",
   "metadata": {},
   "source": [
    "## GH Temperature & Humidity"
   ]
  },
  {
   "cell_type": "code",
   "execution_count": 47,
   "id": "9969f110",
   "metadata": {},
   "outputs": [],
   "source": [
    "### create \"better\" estimate of temperature var, w. proper avg.\n",
    "data[('temperatures', 'TA01_GT10X_GM10X')] = data.temperatures[[\n",
    "    # ('DC_GT102_GM101'),\n",
    "    ('DC_GT102_GM102'), \n",
    "    ('DC_GT103_GM103'), \n",
    "    ('DC_GT104_GM104')\n",
    "]].values.mean(axis=1)"
   ]
  },
  {
   "cell_type": "code",
   "execution_count": 48,
   "id": "7482254e",
   "metadata": {},
   "outputs": [],
   "source": [
    "### create \"better\" estimate of temperature var, w. proper avg.\n",
    "data[('humidity', 'TA01_GT10X_GM10X')] = data.humidity[[\n",
    "    # ('DC_GT102_GM101'),\n",
    "    ('DC_GT102_GM102'), \n",
    "    ('DC_GT103_GM103'), \n",
    "    ('DC_GT104_GM104')\n",
    "]].values.mean(axis=1)"
   ]
  },
  {
   "cell_type": "markdown",
   "id": "14fd6214",
   "metadata": {},
   "source": [
    "## Kalman filtering"
   ]
  },
  {
   "cell_type": "code",
   "execution_count": 49,
   "id": "30ac8e00",
   "metadata": {},
   "outputs": [
    {
     "name": "stderr",
     "output_type": "stream",
     "text": [
      "C:\\Users\\Oskar\\AppData\\Local\\Temp\\ipykernel_24716\\1767311629.py:17: PerformanceWarning: indexing past lexsort depth may impact performance.\n",
      "  X = data.loc[day, col].values\n",
      "C:\\Users\\Oskar\\AppData\\Local\\Temp\\ipykernel_24716\\1767311629.py:44: PerformanceWarning: indexing past lexsort depth may impact performance.\n",
      "  data.loc[day, col] = xhat\n"
     ]
    }
   ],
   "source": [
    "cols = [\n",
    "    (('temperatures', 'TA01_GT10X_GM10X'), 3),\n",
    "#     (('temperatures', 'DC_GT401_GM401'), 2),\n",
    "#     (('temperatures', 'TA01_GT401_GM401'), 2),\n",
    "#     (('temperatures', 'DC_GT301_damped'), 4),\n",
    "    (('humidity', 'TA01_GT10X_GM10X'), 3),\n",
    "    \n",
    "]\n",
    "\n",
    "for colSpec in cols:\n",
    "    for day in data.groupby(['month', 'day']).count().index.values:\n",
    "        # apply KALMAN filter to measurements\n",
    "        col = colSpec[0]\n",
    "        varExp = colSpec[-1]\n",
    "\n",
    "        # get data\n",
    "        X = data.loc[day, col].values\n",
    "        n = len(X)\n",
    "\n",
    "        # process variance, measurement variance\n",
    "        Q = 1e-5\n",
    "        R = 0.1**varExp\n",
    "\n",
    "        xhat=np.zeros(n)      # a posteri estimate of x\n",
    "        P=np.zeros(n)         # a posteri error estimate\n",
    "        xhatminus=np.zeros(n) # a priori estimate of x\n",
    "        Pminus=np.zeros(n)    # a priori error estimate\n",
    "        K=np.zeros(n)         # gain or blending factor\n",
    "\n",
    "        # intial guesses\n",
    "        xhat[0] = X[0]\n",
    "        P[0] = 1\n",
    "\n",
    "        for k in range(1,n):\n",
    "            # time update\n",
    "            xhatminus[k] = xhat[k-1]\n",
    "            Pminus[k] = P[k-1]+Q\n",
    "\n",
    "            # measurement update\n",
    "            K[k] = Pminus[k]/( Pminus[k]+R )\n",
    "            xhat[k] = xhatminus[k]+K[k]*(X[k]-xhatminus[k])\n",
    "            P[k] = (1-K[k])*Pminus[k]\n",
    "\n",
    "        data.loc[day, col] = xhat"
   ]
  },
  {
   "cell_type": "markdown",
   "id": "0d80a4e1",
   "metadata": {},
   "source": [
    "## Feature Engineering"
   ]
  },
  {
   "cell_type": "code",
   "execution_count": 50,
   "id": "6f69276a",
   "metadata": {},
   "outputs": [],
   "source": [
    "# create flow scaling from 1.0 -> MAX\n",
    "data[('flow', 'TA01_scaled')] = data.flow.TA01_GP101 / data.flow.TA01_GP101.min()\n",
    "data[('flow', 'TA02_scaled')] = data.state.TA02_output / 100\n",
    "\n",
    "# scale TA01 inflow temperature (amplified and 0-based)\n",
    "data[('temperatures', 'TA01_GT401_GM401_scaled1')] = data.temperatures.TA01_GT401_GM401 * data.flow.TA01_scaled\n",
    "data[('temperatures', 'TA01_GT401_GM401_scaled2')] = data.temperatures.TA01_GT401_GM401 * (data.flow.TA01_scaled - 1)\n",
    "\n",
    "# scale TA02 inflow temperature, i.e. outdoors temp (0-based)\n",
    "data[('temperatures', 'TA02_GT401_GM401_scaled')] = data.temperatures.DC_GT301_damped * data.flow.TA02_scaled"
   ]
  },
  {
   "cell_type": "code",
   "execution_count": 51,
   "id": "9468b484",
   "metadata": {},
   "outputs": [],
   "source": [
    "t_steps = 20\n",
    "n_steps = t_steps\n",
    "\n",
    "# data[('temperatures', 'TA01_GT10X_GM10X_first')] = data[('temperatures', 'TA01_GT10X_GM10X')].rolling(n_steps).apply(lambda vec: vec[0], raw=True)\n",
    "#data[('temperatures', 'TA01_GT10X_GM10X_diff')] = data[('temperatures', 'TA01_GT10X_GM10X')].rolling(n_steps).apply(lambda vec: vec[n_steps-t_steps] - vec[0], raw=True)\n",
    "data[('flow', 'TA01_scaled_mean')] = data[('flow', 'TA01_scaled')].rolling(n_steps).mean()\n",
    "data[('flow', 'TA02_scaled_mean')] = data[('flow', 'TA01_scaled')].rolling(n_steps).mean()\n",
    "data[('flow', 'TA01_scaled_max')] = data[('flow', 'TA01_scaled')].rolling(n_steps).max()\n",
    "data[('flow', 'TA02_scaled_max')] = data[('flow', 'TA01_scaled')].rolling(n_steps).max()\n",
    "data[('temperatures', 'TA01_GT401_GM401_scaled1_mean')] = data[('temperatures', 'TA01_GT401_GM401_scaled1')].rolling(n_steps).mean()\n",
    "data[('temperatures', 'TA01_GT401_GM401_scaled1_max')] = data[('temperatures', 'TA01_GT401_GM401_scaled1')].rolling(n_steps).max()\n",
    "data[('temperatures', 'TA01_GT401_GM401_scaled2_mean')] = data[('temperatures', 'TA01_GT401_GM401_scaled2')].rolling(n_steps).mean()\n",
    "data[('temperatures', 'TA01_GT401_GM401_scaled2_max')] = data[('temperatures', 'TA01_GT401_GM401_scaled2')].rolling(n_steps).max()\n",
    "data[('temperatures', 'TA02_GT401_GM401_scaled_mean')] = data[('temperatures', 'TA02_GT401_GM401_scaled')].rolling(n_steps).mean()\n",
    "data[('temperatures', 'DC_GT301_damped_mean')] = data[('temperatures', 'DC_GT301_damped')].rolling(n_steps).mean()\n",
    "data[('temperatures', 'DC_GT301_damped_min')] = data[('temperatures', 'DC_GT301_damped')].rolling(n_steps).min()\n",
    "data[('humidity', 'TA01_GT10X_GM10X_mean')] = data[('humidity', 'TA01_GT10X_GM10X')].rolling(n_steps).mean()\n",
    "data[('humidity', 'TA01_GT10X_GM10X_max')] = data[('humidity', 'TA01_GT10X_GM10X')].rolling(n_steps).max()\n",
    "data[('sun', 'gsi_mean')] = data[('sun', 'gsi')].rolling(n_steps).mean()\n",
    "data[('sun', 'gsi_max')] = data[('sun', 'gsi')].rolling(n_steps).max()\n",
    "data[('sun', 'gsi_deriv_mean')] = data[('sun', 'gsi_deriv')].rolling(n_steps).mean()\n",
    "data[('sun', 'gsi_deriv_max')] = data[('sun', 'gsi_deriv')].rolling(n_steps).max()\n",
    "data[('wind', 'Wx_mean')] = data[('wind', 'Wx')].rolling(n_steps).mean()\n",
    "data[('wind', 'Wy_mean')] = data[('wind', 'Wy')].rolling(n_steps).mean()\n",
    "data[('time', 'minofday')] = data[('time', 'minofday')].rolling(n_steps).apply(lambda vec: vec[0], raw=True)\n",
    "data[('time', 'minofday_deriv')] = data[('time', 'minofday_deriv')].rolling(n_steps).apply(lambda vec: vec[0], raw=True)"
   ]
  },
  {
   "cell_type": "code",
   "execution_count": 52,
   "id": "46992e97",
   "metadata": {},
   "outputs": [],
   "source": [
    "targets = data.pop(('temperatures', 'TA01_GT10X_GM10X'))\n",
    "# targets = (targets - targets.shift(t_steps))"
   ]
  },
  {
   "cell_type": "markdown",
   "id": "34fd8d72",
   "metadata": {},
   "source": [
    "## Split into training / testing"
   ]
  },
  {
   "cell_type": "code",
   "execution_count": 55,
   "id": "0a78cee1",
   "metadata": {},
   "outputs": [],
   "source": [
    "# filter data by variables\n",
    "model_vars = [\n",
    "#     ('temperatures', 'TA01_GT10X_GM10X_first'),\n",
    "    ('flow', 'TA01_scaled_mean'),\n",
    "    ('flow', 'TA02_scaled_mean'),\n",
    "    ('flow', 'TA01_scaled_max'),\n",
    "    ('flow', 'TA02_scaled_max'),\n",
    "    ('temperatures', 'TA01_GT401_GM401_scaled1_mean'),\n",
    "    ('temperatures', 'TA01_GT401_GM401_scaled1_max'),\n",
    "    ('temperatures', 'TA01_GT401_GM401_scaled2_mean'),\n",
    "    ('temperatures', 'TA01_GT401_GM401_scaled2_max'),\n",
    "    ('temperatures', 'TA02_GT401_GM401_scaled_mean'),\n",
    "    ('temperatures', 'DC_GT301_damped_mean'),\n",
    "    ('temperatures', 'DC_GT301_damped_min'),\n",
    "    ('humidity', 'TA01_GT10X_GM10X_mean'),\n",
    "    ('humidity', 'TA01_GT10X_GM10X_max'),\n",
    "    ('sun', 'gsi_mean'),\n",
    "    ('sun', 'gsi_max'),\n",
    "    ('sun', 'gsi_deriv_mean'),\n",
    "    ('sun', 'gsi_deriv_max'),\n",
    "    ('wind', 'Wx_mean'),\n",
    "    ('wind', 'Wy_mean'),\n",
    "    ('time', 'minofday'),\n",
    "    ('time', 'minofday_deriv')\n",
    "]\n",
    "\n",
    "data = data[model_vars].copy()"
   ]
  },
  {
   "cell_type": "code",
   "execution_count": 56,
   "id": "8a16ae25",
   "metadata": {},
   "outputs": [],
   "source": [
    "data = data.iloc[n_steps:]\n",
    "targets = targets.iloc[n_steps:]"
   ]
  },
  {
   "cell_type": "code",
   "execution_count": 57,
   "id": "b4e480d1",
   "metadata": {},
   "outputs": [],
   "source": [
    "## Randomly select days for trainin and testing\n",
    "days = data.groupby(['month', 'day']).count().index.values\n",
    "\n",
    "# get number of days f. testing / training\n",
    "train_frac = 0.9\n",
    "train_n = int(len(days) * train_frac)\n",
    "test_n = len(days) - train_n\n",
    "\n",
    "# split dataset\n",
    "np.random.shuffle(days)\n",
    "mask = np.array([day in list(days[:train_n]) for day in data.index.droplevel(-1).droplevel(-1).droplevel(-1).values])\n",
    "data_train = data.loc[mask].copy()\n",
    "data_test = data.loc[~mask].copy()\n",
    "\n",
    "targets_train = targets.loc[mask].copy()\n",
    "targets_test = targets.loc[~mask].copy()\n",
    "\n",
    "del data, targets"
   ]
  },
  {
   "cell_type": "markdown",
   "id": "c4f26c41",
   "metadata": {},
   "source": [
    "## Normalize w. training data"
   ]
  },
  {
   "cell_type": "code",
   "execution_count": 58,
   "id": "bb826c36",
   "metadata": {},
   "outputs": [],
   "source": [
    "col_params = {}\n",
    "for col in data_train.columns[1:]:\n",
    "# for col in data_train.columns:\n",
    "    \n",
    "    mean = data_train[col].mean()\n",
    "    std = data_train[col].std()\n",
    "    max_val = data_train[col].max()\n",
    "    min_val = data_train[col].min()\n",
    "    \n",
    "#     data_train[col] = (data_train[col] - mean) / std\n",
    "#     data_test[col] = (data_test[col] - mean) / std    \n",
    "    \n",
    "# #     # make positive\n",
    "    data_train[col] = data_train[col] + abs(min(0, min_val))\n",
    "    data_train[col] = (data_train[col] - min_val) / (max_val - min_val)\n",
    "    \n",
    "    data_test[col] = data_test[col] + abs(min(0, min_val))\n",
    "    data_test[col] = (data_test[col] - min_val) / (max_val - min_val)\n",
    "    data_test[col] = data_test[col].apply(lambda val: max(min(val, 1.0), 0.0))\n",
    "    \n",
    "    col_params[col] = {\n",
    "        'mean':mean,\n",
    "        'std':std,\n",
    "        'max':max_val,\n",
    "        'min':min_val\n",
    "    }"
   ]
  },
  {
   "cell_type": "markdown",
   "id": "01511277",
   "metadata": {},
   "source": [
    "## Save data info"
   ]
  },
  {
   "cell_type": "code",
   "execution_count": 59,
   "id": "c3ad202e",
   "metadata": {},
   "outputs": [],
   "source": [
    "# days = {\n",
    "#     'training':days[:train_n],\n",
    "#     'testing':days[train_n:]\n",
    "# }"
   ]
  },
  {
   "cell_type": "code",
   "execution_count": 60,
   "id": "845ff0aa",
   "metadata": {},
   "outputs": [],
   "source": [
    "# json_path = home_path + '\\\\misc\\\\data_split.json'\n",
    "# json_obj = json.dumps(days)\n",
    "# with open(json_path, 'w', encoding='utf-8') as f:\n",
    "#     json.dump(json_obj, f, ensure_ascii=False, indent=4)"
   ]
  },
  {
   "cell_type": "code",
   "execution_count": 61,
   "id": "fd8cfa80",
   "metadata": {},
   "outputs": [],
   "source": [
    "# json DUMP params...."
   ]
  },
  {
   "cell_type": "markdown",
   "id": "70925b7a",
   "metadata": {},
   "source": [
    "## Data preparation"
   ]
  },
  {
   "cell_type": "markdown",
   "id": "f6cf0068",
   "metadata": {},
   "source": [
    "### Flag datapoints"
   ]
  },
  {
   "cell_type": "code",
   "execution_count": 62,
   "id": "db044685",
   "metadata": {},
   "outputs": [],
   "source": [
    "def date_flagger(data, n_steps):\n",
    "    # get flagged datesvalues\n",
    "#     data['minute'] = data.index.get_level_values(3).values    \n",
    "#     data['date_flag'] = data.minute - data.minute.shift(n_steps) != (n_steps)\n",
    "\n",
    "    data['hour'] = data.index.get_level_values(2).values    \n",
    "    data['date_flag'] = data.hour - data.hour.shift(n_steps) > 1\n",
    "    \n",
    "    # get positions in data, w.r.t. n_step removed observations at start\n",
    "    flagged_idx = np.where(data.date_flag.values == 1)\n",
    "    flagged_idx = flagged_idx[0] - n_steps\n",
    "    \n",
    "    del data['hour'], data['date_flag']\n",
    "    \n",
    "    return flagged_idx"
   ]
  },
  {
   "cell_type": "code",
   "execution_count": 63,
   "id": "b3ff34c6",
   "metadata": {},
   "outputs": [],
   "source": [
    "# get flags\n",
    "flags_train = date_flagger(data_train, n_steps=n_steps)\n",
    "flags_test = date_flagger(data_test, n_steps=n_steps)\n",
    "\n",
    "idxs_train = [idx not in flags_train for idx in range(len(data_train))]\n",
    "idxs_test = [idx not in flags_test for idx in range(len(data_test))]"
   ]
  },
  {
   "cell_type": "code",
   "execution_count": 64,
   "id": "0d74362b",
   "metadata": {},
   "outputs": [],
   "source": [
    "data_train = data_train.values[idxs_train]\n",
    "data_test = data_test.values[idxs_test]\n",
    "\n",
    "targets_train = targets_train.values[idxs_train]\n",
    "targets_test = targets_test.values[idxs_test]"
   ]
  },
  {
   "cell_type": "markdown",
   "id": "cdaeef6e",
   "metadata": {},
   "source": [
    "## Define XGBOOST"
   ]
  },
  {
   "cell_type": "code",
   "execution_count": 65,
   "id": "812fb6ad",
   "metadata": {},
   "outputs": [],
   "source": [
    "import xgboost as xgb\n",
    "\n",
    "model = xgb.XGBRegressor(\n",
    "    objective='reg:squarederror',\n",
    "    n_estimators=2000,\n",
    "    max_depth=5,\n",
    "    #learning_rate=0.1\n",
    ")"
   ]
  },
  {
   "cell_type": "code",
   "execution_count": 66,
   "id": "0e7b4574",
   "metadata": {},
   "outputs": [
    {
     "data": {
      "text/plain": [
       "XGBRegressor(base_score=None, booster=None, callbacks=None,\n",
       "             colsample_bylevel=None, colsample_bynode=None,\n",
       "             colsample_bytree=None, early_stopping_rounds=None,\n",
       "             enable_categorical=False, eval_metric=None, feature_types=None,\n",
       "             gamma=None, gpu_id=None, grow_policy=None, importance_type=None,\n",
       "             interaction_constraints=None, learning_rate=None, max_bin=None,\n",
       "             max_cat_threshold=None, max_cat_to_onehot=None,\n",
       "             max_delta_step=None, max_depth=5, max_leaves=None,\n",
       "             min_child_weight=None, missing=nan, monotone_constraints=None,\n",
       "             n_estimators=5000, n_jobs=None, num_parallel_tree=None,\n",
       "             predictor=None, random_state=None, ...)"
      ]
     },
     "execution_count": 66,
     "metadata": {},
     "output_type": "execute_result"
    }
   ],
   "source": [
    "model.fit(data_train, targets_train, verbose=True)"
   ]
  },
  {
   "cell_type": "code",
   "execution_count": 67,
   "id": "bfc3a82d",
   "metadata": {},
   "outputs": [],
   "source": [
    "preds = model.predict(data_test)"
   ]
  },
  {
   "cell_type": "code",
   "execution_count": 69,
   "id": "e8e78d04",
   "metadata": {},
   "outputs": [
    {
     "data": {
      "text/plain": [
       "[<matplotlib.lines.Line2D at 0x1f550733eb0>]"
      ]
     },
     "execution_count": 69,
     "metadata": {},
     "output_type": "execute_result"
    },
    {
     "data": {
      "image/png": "[encoded data removed]",
      "text/plain": [
       "<Figure size 640x480 with 1 Axes>"
      ]
     },
     "metadata": {},
     "output_type": "display_data"
    }
   ],
   "source": [
    "plt.plot(preds[:4000])\n",
    "plt.plot(targets_test[:4000])"
   ]
  },
  {
   "cell_type": "code",
   "execution_count": null,
   "id": "861e03fb",
   "metadata": {},
   "outputs": [],
   "source": []
  }
 ],
 "metadata": {
  "kernelspec": {
   "display_name": "Python 3 (ipykernel)",
   "language": "python",
   "name": "python3"
  },
  "language_info": {
   "codemirror_mode": {
    "name": "ipython",
    "version": 3
   },
   "file_extension": ".py",
   "mimetype": "text/x-python",
   "name": "python",
   "nbconvert_exporter": "python",
   "pygments_lexer": "ipython3",
   "version": "3.9.13"
  }
 },
 "nbformat": 4,
 "nbformat_minor": 5
}
