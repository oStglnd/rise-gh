{
 "cells": [
  {
   "cell_type": "markdown",
   "id": "3c35d1cc",
   "metadata": {},
   "source": [
    "# Short-term Temperature Model Test"
   ]
  },
  {
   "cell_type": "markdown",
   "id": "195db0c9",
   "metadata": {},
   "source": [
    "## Import dependencies and data"
   ]
  },
  {
   "cell_type": "code",
   "execution_count": 1,
   "id": "77453a55",
   "metadata": {},
   "outputs": [],
   "source": [
    "# import dependencies\n",
    "import os\n",
    "import json\n",
    "import pandas as pd\n",
    "\n",
    "import matplotlib.pyplot as plt\n",
    "import seaborn as sns\n",
    "\n",
    "import numpy as np\n",
    "import tensorflow as tf\n",
    "from tensorflow.keras import layers"
   ]
  },
  {
   "cell_type": "code",
   "execution_count": 2,
   "id": "b5dee1ac",
   "metadata": {},
   "outputs": [],
   "source": [
    "# define relevant paths\n",
    "home_path = os.path.dirname(os.getcwd())\n",
    "data_path = home_path + '\\\\data\\\\'\n",
    "plot_path = home_path + '\\\\plotting\\\\plots\\\\'\n",
    "save_path = home_path + '\\\\model\\\\saved\\\\'"
   ]
  },
  {
   "cell_type": "code",
   "execution_count": 376,
   "id": "a747b251",
   "metadata": {},
   "outputs": [],
   "source": [
    "# get merged data\n",
    "data = pd.read_csv(\n",
    "    data_path + 'data_merged.csv',\n",
    "    header=[0, 1],\n",
    "    index_col=[0, 1, 2, 3, 4]\n",
    ")\n",
    "\n",
    "# convert index.date col to datetime\n",
    "#data.index = pd.to_datetime(data.index.values)\n",
    "data.loc[:, ('time', 'date')] = pd.to_datetime(data.time.date)"
   ]
  },
  {
   "cell_type": "code",
   "execution_count": 377,
   "id": "b0f46624",
   "metadata": {},
   "outputs": [],
   "source": [
    "# define X vars\n",
    "x_vars = [\n",
    "    ('flow', 'TA01_GP101'),\n",
    "    ('state', 'TA01_output'),\n",
    "    ('temperatures', 'DC_GT101_GM101'),\n",
    "    ('temperatures', 'DC_GT102_GM102'),\n",
    "    ('temperatures', 'DC_GT103_GM103'),\n",
    "    ('temperatures', 'DC_GT104_GM104'),\n",
    "    ('temperatures', 'DC_GT401_GM401'),\n",
    "    ('temperatures', 'TA01_GT401_GM401'),\n",
    "    ('temperatures', 'TA02_GT401_GM401'),\n",
    "    ('temperatures', 'DC_GT301_damped'),\n",
    "    ('temperatures', 'DC_GT301_outdoor'),\n",
    "    ('humidity', 'DC_GT101_GM101'),\n",
    "    ('humidity', 'DC_GT102_GM102'),\n",
    "    ('humidity', 'DC_GT103_GM103'),\n",
    "    ('humidity', 'DC_GT104_GM104'),\n",
    "    ('humidity', 'DC_GT401_GM401'),\n",
    "    ('setpoints', 'TA01_GT10X_GM10X'),\n",
    "    ('sun', 'gsi'),\n",
    "    ('sun', 'gsi_deriv'),\n",
    "    ('sun', 'vol'),\n",
    "    ('sun', 'vol_deriv'),\n",
    "    ('time', 'dayofyear'),\n",
    "    ('time', 'monthofyear'),\n",
    "    ('time', 'minofday'),\n",
    "    ('time', 'hourofday')\n",
    "]\n",
    "\n",
    "# filter columns to keep only x_vars\n",
    "data = data[x_vars].copy()"
   ]
  },
  {
   "cell_type": "markdown",
   "id": "33ae9eb6",
   "metadata": {},
   "source": [
    "## Describe Df"
   ]
  },
  {
   "cell_type": "code",
   "execution_count": 378,
   "id": "be306b52",
   "metadata": {},
   "outputs": [
    {
     "name": "stdout",
     "output_type": "stream",
     "text": [
      "Number of NAs\n",
      "\n",
      "category      sensor_ID       \n",
      "flow          TA01_GP101          13\n",
      "state         TA01_output         14\n",
      "temperatures  DC_GT101_GM101      12\n",
      "              DC_GT102_GM102      12\n",
      "              DC_GT103_GM103      11\n",
      "              DC_GT104_GM104      11\n",
      "              DC_GT401_GM401      13\n",
      "              TA01_GT401_GM401    13\n",
      "              TA02_GT401_GM401    12\n",
      "              DC_GT301_damped     11\n",
      "              DC_GT301_outdoor    12\n",
      "humidity      DC_GT101_GM101      12\n",
      "              DC_GT102_GM102      12\n",
      "              DC_GT103_GM103      12\n",
      "              DC_GT104_GM104      10\n",
      "              DC_GT401_GM401      13\n",
      "setpoints     TA01_GT10X_GM10X    14\n",
      "sun           gsi                  1\n",
      "              gsi_deriv            1\n",
      "              vol                  1\n",
      "              vol_deriv            1\n",
      "time          dayofyear            1\n",
      "              monthofyear          1\n",
      "              minofday             1\n",
      "              hourofday            1\n",
      "dtype: int64\n",
      "\n",
      "\n",
      "\n"
     ]
    }
   ],
   "source": [
    "# print number of NAs\n",
    "print('Number of NAs\\n')\n",
    "print(data.isna().sum())\n",
    "print('\\n\\n')"
   ]
  },
  {
   "cell_type": "code",
   "execution_count": 379,
   "id": "4da9d182",
   "metadata": {},
   "outputs": [],
   "source": [
    "# remove single NAN\n",
    "data = data.dropna(how='any')"
   ]
  },
  {
   "cell_type": "code",
   "execution_count": 380,
   "id": "474bdc87",
   "metadata": {
    "scrolled": false
   },
   "outputs": [],
   "source": [
    "# # describe cols\n",
    "# data.describe().transpose()"
   ]
  },
  {
   "cell_type": "code",
   "execution_count": 381,
   "id": "fd250a92",
   "metadata": {},
   "outputs": [],
   "source": [
    "# steps = 20\n",
    "# test = (data.temperatures.DC_GT301_damped - data.temperatures.DC_GT301_damped.rolling(window=steps, center=False).mean())\n",
    "# test2 = test.rolling(window=20).mean()\n",
    "\n",
    "# test3 = (data.flow.TA01_GP101 - data.flow.TA01_GP101.rolling(window=120, center=False).mean())\n",
    "\n",
    "\n",
    "# fig, ax1 = plt.subplots()\n",
    "# # ax1.plot(data.temperatures.DC_GT301_damped.values[-150:], 'b')\n",
    "# # ax1.plot(test.values[-15000:-10000], 'b')\n",
    "# ax1.plot(data.flow.TA01_GP101.values[-150:], 'b')\n",
    "# # ax1.plot(data.time.minofday.values[-45000:-42000], 'b')\n",
    "# # ax1.plot(data.temperatures.DC_GT401_GM401.values[-15000:-10000], 'b')\n",
    "\n",
    "# ax2 = ax1.twinx()\n",
    "\n",
    "# ax2.plot(data.sun.gsi_deriv.values[-150:])\n",
    "# ax2.plot(data.temperatures.TA01_GT10X_GM10X.values[-150:], 'r')"
   ]
  },
  {
   "cell_type": "code",
   "execution_count": 382,
   "id": "677de1d9",
   "metadata": {},
   "outputs": [],
   "source": [
    "# subset = data[data.state.TA01_output > 35].copy()\n",
    "\n",
    "# test = subset.flow.TA01_GP101.rolling(window=30, center=False).mean()\n",
    "# test2 = subset.temperatures.TA01_GT10X_GM10X.rolling(window=30, center=False).apply(lambda vec: vec[-1], raw=True)\n",
    "\n",
    "# fig, ax1 = plt.subplots()\n",
    "# ax1.plot(subset.flow.TA01_GP101.values[-250:], 'b')\n",
    "# ax1.plot(test.values[-250:], 'b')\n",
    "\n",
    "# ax2 = ax1.twinx()\n",
    "\n",
    "# # ax2.plot(subset.temperatures.TA01_GT10X_GM10X.values[-100:], 'r')\n",
    "# ax2.plot(test2.values[-250:], 'r')"
   ]
  },
  {
   "cell_type": "code",
   "execution_count": 383,
   "id": "9bdc959f",
   "metadata": {},
   "outputs": [],
   "source": [
    "# fig, ax1 = plt.subplots()\n",
    "# ax1.plot(test.values[-260:-10], 'b')\n",
    "\n",
    "# ax2 = ax1.twinx()\n",
    "\n",
    "# # ax2.plot(subset.temperatures.TA01_GT10X_GM10X.values[-100:], 'r')\n",
    "# ax2.plot(xhat[-250:], 'r')"
   ]
  },
  {
   "cell_type": "markdown",
   "id": "3424585c",
   "metadata": {},
   "source": [
    "## Feature engineering"
   ]
  },
  {
   "cell_type": "markdown",
   "id": "6e430934",
   "metadata": {},
   "source": [
    "### GH Temperature"
   ]
  },
  {
   "cell_type": "code",
   "execution_count": 384,
   "id": "ef4c35a7",
   "metadata": {},
   "outputs": [],
   "source": [
    "### create \"better\" estimate of temperature var, w. proper avg.\n",
    "data[('temperatures', 'TA01_GT10X_GM10X')] = data.temperatures[[\n",
    "    # ('DC_GT102_GM101'),\n",
    "    ('DC_GT102_GM102'), \n",
    "    ('DC_GT103_GM103'), \n",
    "    ('DC_GT104_GM104')\n",
    "]].values.mean(axis=1)"
   ]
  },
  {
   "cell_type": "code",
   "execution_count": 385,
   "id": "61702429",
   "metadata": {},
   "outputs": [],
   "source": [
    "# adjust for setpoint change\n",
    "col1 = ('temperatures', 'TA01_GT10X_GM10X')\n",
    "col2 = ('setpoints', 'TA01_GT10X_GM10X')\n",
    "data[col1] = data[col1] - data[col2]\n",
    "\n",
    "# set min to zero\n",
    "data[col1] = data[col1] + abs(data[col1].min())\n",
    "\n",
    "# # min-max scale, i.e. squeeze into [0, 1]\n",
    "# data[col1] = (data[col1] - data[col1].min()) / (data[col1].max() - data[col1].min())\n"
   ]
  },
  {
   "cell_type": "code",
   "execution_count": 388,
   "id": "1546dfe5",
   "metadata": {},
   "outputs": [],
   "source": [
    "# # make TEMP zero-centered around setpoints w. variance scaling\n",
    "# data[('temperatures', 'TA01_GT10X_GM10X')] = \\\n",
    "#     (data[('temperatures', 'TA01_GT10X_GM10X')] \\\n",
    "#      - data[('setpoints', 'TA01_GT10X_GM10X')]) \\\n",
    "#     / data[('temperatures', 'TA01_GT10X_GM10X')].std()\n",
    "\n",
    "# # col = ('temperatures', 'TA01_GT10X_GM10X')\n",
    "# # data[col] = (data[col] - data[col].mean()) / data[col].std()"
   ]
  },
  {
   "cell_type": "markdown",
   "id": "db94829f",
   "metadata": {},
   "source": [
    "### DC temperature"
   ]
  },
  {
   "cell_type": "code",
   "execution_count": 389,
   "id": "9ce830a3",
   "metadata": {},
   "outputs": [],
   "source": [
    "### min-max scale [btween 0 and 1]\n",
    "col = ('temperatures', 'DC_GT401_GM401')\n",
    "# data[col] = (data[col] - data[col].mean()) / data[col].std()\n",
    "data[col] = (data[col] - data[col].min()) / (data[col].max() - data[col].min())\n",
    "\n",
    "### scale by fan output\n",
    "data[col] = data[col] * data[('state', 'TA01_output')] / data[('state', 'TA01_output')].min()"
   ]
  },
  {
   "cell_type": "markdown",
   "id": "33a858e4",
   "metadata": {},
   "source": [
    "### OUTSIDE temperature"
   ]
  },
  {
   "cell_type": "code",
   "execution_count": 390,
   "id": "cd9a882c",
   "metadata": {},
   "outputs": [],
   "source": [
    "### normalize vals\n",
    "col = ('temperatures', 'DC_GT301_damped')\n",
    "# data[col] = (data[col] - data[col].mean()) / data[col].std()\n",
    "\n",
    "#min-max scale vals\n",
    "data[col] = data[col] + abs(data[col].min())\n",
    "data[col] = (data[col] - data[col].min()) / (data[col].max() - data[col].min())"
   ]
  },
  {
   "cell_type": "markdown",
   "id": "ef0c7ece",
   "metadata": {},
   "source": [
    "### GH Humidity"
   ]
  },
  {
   "cell_type": "code",
   "execution_count": 392,
   "id": "a9a1b4c6",
   "metadata": {},
   "outputs": [],
   "source": [
    "### create \"better\" estimate of temperature var, w. proper avg.\n",
    "data[('humidity', 'TA01_GT10X_GM10X')] = data.humidity[[\n",
    "    # ('DC_GT102_GM101'),\n",
    "    ('DC_GT102_GM102'), \n",
    "    ('DC_GT103_GM103'), \n",
    "    ('DC_GT104_GM104')\n",
    "]].values.mean(axis=1)"
   ]
  },
  {
   "cell_type": "code",
   "execution_count": 393,
   "id": "e6252a43",
   "metadata": {},
   "outputs": [],
   "source": [
    "### normalize humidity\n",
    "col = ('humidity', 'TA01_GT10X_GM10X')\n",
    "# data[col] = (data[col] - data[col].mean()) / data[col].std()\n",
    "\n",
    "# min-max scale vals\n",
    "# data[col] = data[col] + data[col].mean()\n",
    "data[col] = (data[col] - data[col].min()) / (data[col].max() - data[col].min())"
   ]
  },
  {
   "cell_type": "markdown",
   "id": "bf8985d2",
   "metadata": {},
   "source": [
    "### Solar radiance"
   ]
  },
  {
   "cell_type": "code",
   "execution_count": 394,
   "id": "03e24731",
   "metadata": {},
   "outputs": [],
   "source": [
    "# ### min-max scale GSI\n",
    "col = ('sun', 'gsi')\n",
    "data[col] = (data[col] - data[col].min()) / (data[col].max() - data[col].min())\n",
    "\n",
    "# # create INDICATOR f. GSI\n",
    "# data[('sun', 'gsi')] = data.sun.gsi.apply(lambda val: val > 1e-3)"
   ]
  },
  {
   "cell_type": "code",
   "execution_count": 395,
   "id": "5e2e00fb",
   "metadata": {},
   "outputs": [],
   "source": [
    "### zero-centered variance scale GSI deriv\n",
    "col = ('sun', 'gsi_deriv')\n",
    "data[col] = data[col] / data[col].std()"
   ]
  },
  {
   "cell_type": "markdown",
   "id": "3746548c",
   "metadata": {},
   "source": [
    "### Flow volume"
   ]
  },
  {
   "cell_type": "code",
   "execution_count": 396,
   "id": "92b84357",
   "metadata": {},
   "outputs": [],
   "source": [
    "### create INDICATOR variable f. TA01_output\n",
    "data[('state', 'TA01_output')] = data.state.TA01_output.apply(lambda val: val > 35)"
   ]
  },
  {
   "cell_type": "code",
   "execution_count": 397,
   "id": "6f49aef9",
   "metadata": {},
   "outputs": [],
   "source": [
    "# ### normalize and min-max scale flow (i.e. squeeze into [0, 1])\n",
    "# mask = data.state.TA01_output.values\n",
    "# col = ('flow', 'TA01_GP101')\n",
    "\n",
    "# ### min-max scale w.r.t. MASK\n",
    "# data.loc[mask, col] = (data[mask][col] - data[mask][col].min()) / (data[mask][col].max() - data[mask][col].min())\n",
    "# data.loc[~mask, col] = 0\n",
    "# # data.loc[~mask, col] = (data[~mask][col] - data[~mask][col].min()) / (data[~mask][col].max() - data[~mask][col].min())\n",
    "\n",
    "# # ### normalize w.r.t. MASK\n",
    "# # data.loc[mask, col] = (data[mask][col] - data[mask][col].mean()) / data[mask][col].std()\n",
    "# # data.loc[~mask, col] = (data[~mask][col] - data[~mask][col].mean()) / data[~mask][col].std()"
   ]
  },
  {
   "cell_type": "code",
   "execution_count": 398,
   "id": "fee968b8",
   "metadata": {},
   "outputs": [],
   "source": [
    "### normalize and min-max scale flow (i.e. squeeze into [0, 1])\n",
    "col = ('flow', 'TA01_GP101')\n",
    "data[col] = (data[col] - data[col].min()) / (data[col].max() - data[col].min())"
   ]
  },
  {
   "cell_type": "markdown",
   "id": "6944095a",
   "metadata": {},
   "source": [
    "## Kalman filtering"
   ]
  },
  {
   "cell_type": "code",
   "execution_count": 399,
   "id": "f502c824",
   "metadata": {},
   "outputs": [],
   "source": [
    "cols = [\n",
    "    (('temperatures', 'TA01_GT10X_GM10X'), 3),\n",
    "    (('temperatures', 'DC_GT401_GM401'), 2),\n",
    "    (('temperatures', 'DC_GT301_damped'), 4),\n",
    "    (('humidity', 'TA01_GT10X_GM10X'), 3),\n",
    "    \n",
    "]\n",
    "\n",
    "for colSpec in cols:\n",
    "    # apply KALMAN filter to temperature measurements\n",
    "    col = colSpec[0]\n",
    "    varExp = colSpec[-1]\n",
    "    \n",
    "    # get data\n",
    "    X = data[col].values\n",
    "    n = len(X)\n",
    "\n",
    "    # process variance, measurement variance\n",
    "    Q = 1e-5\n",
    "    R = 0.1**varExp\n",
    "\n",
    "    xhat=np.zeros(n)      # a posteri estimate of x\n",
    "    P=np.zeros(n)         # a posteri error estimate\n",
    "    xhatminus=np.zeros(n) # a priori estimate of x\n",
    "    Pminus=np.zeros(n)    # a priori error estimate\n",
    "    K=np.zeros(n)         # gain or blending factor\n",
    "\n",
    "    # intial guesses\n",
    "    xhat[0] = X[0]\n",
    "    P[0] = X[1]\n",
    "\n",
    "    for k in range(1,n):\n",
    "        # time update\n",
    "        xhatminus[k] = xhat[k-1]\n",
    "        Pminus[k] = P[k-1]+Q\n",
    "\n",
    "        # measurement update\n",
    "        K[k] = Pminus[k]/( Pminus[k]+R )\n",
    "        xhat[k] = xhatminus[k]+K[k]*(X[k]-xhatminus[k])\n",
    "        P[k] = (1-K[k])*Pminus[k]\n",
    "\n",
    "    data[col] = xhat"
   ]
  },
  {
   "cell_type": "markdown",
   "id": "70925b7a",
   "metadata": {},
   "source": [
    "## Data preparation"
   ]
  },
  {
   "cell_type": "code",
   "execution_count": 484,
   "id": "97925877",
   "metadata": {},
   "outputs": [],
   "source": [
    "t_steps = 20   # 10-min predictions\n",
    "n_steps = 40   # 20-min backwards look\n",
    "\n",
    "train_frac = 0.9"
   ]
  },
  {
   "cell_type": "markdown",
   "id": "76c623b7",
   "metadata": {},
   "source": [
    "### Data selection and split"
   ]
  },
  {
   "cell_type": "code",
   "execution_count": 517,
   "id": "09bde346",
   "metadata": {},
   "outputs": [],
   "source": [
    "# Define model variables\n",
    "model_vars = [\n",
    "    ('flow', 'TA01_GP101'),\n",
    "    ('temperatures', 'TA01_GT10X_GM10X'),\n",
    "    ('temperatures', 'DC_GT401_GM401'),\n",
    "    ('temperatures', 'DC_GT301_damped'),\n",
    "    ('humidity', 'TA01_GT10X_GM10X'),\n",
    "    ('sun', 'gsi'),\n",
    "    ('sun', 'gsi_deriv'),\n",
    "    ('state', 'TA01_output'),\n",
    "    ('time', 'minofday'),\n",
    "    #('time', 'hourofday'),\n",
    "    #('time', 'dayofyear'),\n",
    "    #('time', 'monthofyear')\n",
    "]\n",
    "\n",
    "# filter data\n",
    "testData = data[model_vars].copy()\n",
    "# testData = testData[(testData.index.get_level_values(0) == 3) & (testData.index.get_level_values(1) >= 5)]\n",
    "testData = testData[(testData.index.get_level_values(0) >= 2)]"
   ]
  },
  {
   "cell_type": "code",
   "execution_count": 518,
   "id": "f3389acf",
   "metadata": {},
   "outputs": [],
   "source": [
    "# targets = testData.pop(('temperatures', 'TA01_GT10X_GM10X')).copy()\n",
    "targets = testData[('temperatures', 'TA01_GT10X_GM10X')].copy()\n",
    "# targets = targets.shift(-t_steps) - targets"
   ]
  },
  {
   "cell_type": "code",
   "execution_count": 519,
   "id": "b37756f1",
   "metadata": {},
   "outputs": [],
   "source": [
    "testData[('flow', 'TA01_GP101')] = testData[('flow', 'TA01_GP101')].rolling(n_steps).sum()\n",
    "testData[('temperatures', 'TA01_GT10X_GM10X')] = testData[('temperatures', 'TA01_GT10X_GM10X')].rolling(t_steps).apply(lambda vec: vec[0], raw=True)\n",
    "testData[('temperatures', 'DC_GT401_GM401')] = testData[('temperatures', 'DC_GT401_GM401')].rolling(n_steps).mean()\n",
    "testData[('temperatures', 'DC_GT301_damped')] = testData[('temperatures', 'DC_GT301_damped')].rolling(n_steps).mean()\n",
    "testData[('humidity', 'TA01_GT10X_GM10X')] = testData[('humidity', 'TA01_GT10X_GM10X')].rolling(n_steps).mean()\n",
    "testData[('sun', 'gsi')] = testData[('sun', 'gsi')].rolling(n_steps).max()\n",
    "testData[('sun', 'gsi_deriv')] = testData[('sun', 'gsi_deriv')].rolling(n_steps).mean()\n",
    "testData[('state', 'TA01_output')] = testData[('state', 'TA01_output')].rolling(n_steps).max()\n",
    "testData[('time', 'minofday')] = testData[('time', 'minofday')].rolling(n_steps).mean()\n",
    "# testData[('time', 'hourofday')] = testData[('time', 'hourofday')].rolling(t_steps).mean()\n",
    "# testData[('time', 'dayofyear')] = testData[('time', 'dayofyear')].rolling(t_steps).mean()\n",
    "# testData[('time', 'monthofyear')] = testData[('time', 'monthofyear')].rolling(t_steps).mean()"
   ]
  },
  {
   "cell_type": "markdown",
   "id": "7f49740c",
   "metadata": {},
   "source": [
    "### Remove outliers due to missing days and hours"
   ]
  },
  {
   "cell_type": "code",
   "execution_count": 520,
   "id": "fd427d8b",
   "metadata": {},
   "outputs": [],
   "source": [
    "testData['day'] = testData.index.get_level_values(1)\n",
    "testData['hour'] = testData.index.get_level_values(2)\n",
    "\n",
    "# check diff in days\n",
    "mask1 = np.abs(testData.day - testData.shift(n_steps).day) < 2\n",
    "\n",
    "# check diff in hrs\n",
    "mask2 = np.abs(testData.hour - testData.shift(n_steps).hour) < 2\n",
    "\n",
    "# remove cols\n",
    "del testData['day'], testData['hour']\n",
    "\n",
    "# filter out erroneous sequences\n",
    "testData = testData[mask1 & mask2]\n",
    "targets = targets[mask1 & mask2]"
   ]
  },
  {
   "cell_type": "markdown",
   "id": "ed3989e0",
   "metadata": {},
   "source": [
    "### Shuffle and split dataset"
   ]
  },
  {
   "cell_type": "code",
   "execution_count": 521,
   "id": "42078364",
   "metadata": {},
   "outputs": [],
   "source": [
    "features = testData.iloc[n_steps:].values\n",
    "targets = targets.iloc[n_steps:].values"
   ]
  },
  {
   "cell_type": "code",
   "execution_count": 522,
   "id": "125d7076",
   "metadata": {},
   "outputs": [],
   "source": [
    "# save sequential seqs, targets for testing/visualizations\n",
    "# features, test_feats  = features[:-8640], features[-8640:]\n",
    "# targets, test_targets = targets[:-8640], targets[-8640:]\n",
    "features, test_feats  = features[5760:], features[:5760]\n",
    "targets, test_targets = targets[5760:], targets[:5760]"
   ]
  },
  {
   "cell_type": "code",
   "execution_count": 523,
   "id": "6852f5f2",
   "metadata": {},
   "outputs": [],
   "source": [
    "# get random indices\n",
    "idxs = np.arange(len(targets))\n",
    "np.random.shuffle(idxs)\n",
    "\n",
    "# shuffle sequences and targets\n",
    "features = np.squeeze(features[idxs])\n",
    "targets = np.squeeze(targets[idxs])"
   ]
  },
  {
   "cell_type": "code",
   "execution_count": 524,
   "id": "f46f1ee9",
   "metadata": {},
   "outputs": [],
   "source": [
    "# split data\n",
    "train_n = int(len(targets) * train_frac)\n",
    "\n",
    "X_train, X_test = features[:train_n], features[train_n:]\n",
    "Y_train, Y_test = targets[:train_n], targets[train_n:]"
   ]
  },
  {
   "cell_type": "code",
   "execution_count": 525,
   "id": "6e8938ab",
   "metadata": {},
   "outputs": [],
   "source": [
    "# # delete vars\n",
    "# del sequences, targets"
   ]
  },
  {
   "cell_type": "markdown",
   "id": "cdaeef6e",
   "metadata": {},
   "source": [
    "## Define Gradient Boosting Regressor"
   ]
  },
  {
   "cell_type": "code",
   "execution_count": 526,
   "id": "d74dbdbd",
   "metadata": {},
   "outputs": [],
   "source": [
    "from sklearn import ensemble\n",
    "\n",
    "params = {\n",
    "    'n_estimators': 5000,\n",
    "    'max_depth': 5,\n",
    "    'subsample': 0.5,\n",
    "    'min_samples_split': 5,\n",
    "    'min_samples_leaf': 5,\n",
    "    'learning_rate': 0.01,\n",
    "    'loss': 'squared_error',\n",
    "}"
   ]
  },
  {
   "cell_type": "code",
   "execution_count": null,
   "id": "2aa15cd5",
   "metadata": {},
   "outputs": [],
   "source": [
    "reg = ensemble.GradientBoostingRegressor(**params)\n",
    "reg.fit(X_train, Y_train)"
   ]
  },
  {
   "cell_type": "code",
   "execution_count": 514,
   "id": "e7a22424",
   "metadata": {},
   "outputs": [],
   "source": [
    "exp_feat = test_feats.copy()\n",
    "exp_feat[:, 0] = 20\n",
    "# exp_feat[:, 1] += 0.2\n",
    "# exp_feat[:, 0] -= 2"
   ]
  },
  {
   "cell_type": "code",
   "execution_count": 515,
   "id": "2a7b3e71",
   "metadata": {},
   "outputs": [],
   "source": [
    "preds = reg.predict(exp_feat)"
   ]
  },
  {
   "cell_type": "code",
   "execution_count": 516,
   "id": "c4f431c2",
   "metadata": {
    "scrolled": false
   },
   "outputs": [
    {
     "data": {
      "text/plain": [
       "[<matplotlib.lines.Line2D at 0x1df0ddfd610>]"
      ]
     },
     "execution_count": 516,
     "metadata": {},
     "output_type": "execute_result"
    },
    {
     "data": {
      "image/png": "[encoded data removed]",
      "text/plain": [
       "<Figure size 640x480 with 2 Axes>"
      ]
     },
     "metadata": {},
     "output_type": "display_data"
    }
   ],
   "source": [
    "fig, ax1 = plt.subplots()\n",
    "# ax1.plot(test_targets)\n",
    "ax1.plot(test_targets[1000:2000])\n",
    "# ax1.plot(preds[-1500:], 'r')\n",
    "\n",
    "ax2 = ax1.twinx()\n",
    "# ax2.plot(preds, 'r')\n",
    "ax2.plot(preds[1000:2000], 'r')\n",
    "# ax2.plot(exp_feat[-1500:, 3])"
   ]
  },
  {
   "cell_type": "code",
   "execution_count": null,
   "id": "04ca3095",
   "metadata": {},
   "outputs": [],
   "source": [
    "preds_test = reg.predict(X_test)"
   ]
  },
  {
   "cell_type": "code",
   "execution_count": null,
   "id": "f047b492",
   "metadata": {
    "scrolled": false
   },
   "outputs": [],
   "source": [
    "plt.plot(Y_test[-200:])\n",
    "plt.plot(preds_test[-200:])\n",
    "# plt.ylim(-1, 1)"
   ]
  },
  {
   "cell_type": "code",
   "execution_count": 94,
   "id": "fec453ac",
   "metadata": {},
   "outputs": [
    {
     "data": {
      "text/plain": [
       "<matplotlib.collections.PathCollection at 0x2099a97fbe0>"
      ]
     },
     "execution_count": 94,
     "metadata": {},
     "output_type": "execute_result"
    },
    {
     "data": {
      "image/png": "[encoded data removed]",
      "text/plain": [
       "<Figure size 640x480 with 1 Axes>"
      ]
     },
     "metadata": {},
     "output_type": "display_data"
    }
   ],
   "source": [
    "n = 0\n",
    "error = 0\n",
    "\n",
    "X_test_exp = X_test.copy()\n",
    "testpreds = reg.predict(X_test_exp)\n",
    "plt.scatter(Y_test[n:], testpreds[n:], c='b', alpha=0.5)\n",
    "\n",
    "X_test_exp[:, 0] += error\n",
    "testpreds = reg.predict(X_test_exp)\n",
    "plt.scatter(Y_test[n:], testpreds[n:], c='r', alpha=0.7)"
   ]
  },
  {
   "cell_type": "code",
   "execution_count": null,
   "id": "36332c01",
   "metadata": {},
   "outputs": [],
   "source": [
    "dayData = data.groupby(['month', 'day']).mean()\n",
    "dayData = dayData[dayData.index.get_level_values(0) != 3]"
   ]
  },
  {
   "cell_type": "code",
   "execution_count": null,
   "id": "9d19021c",
   "metadata": {},
   "outputs": [],
   "source": [
    "fig, ax1 = plt.subplots()\n",
    "\n",
    "ax1.plot(dayData.temperatures.TA01_GT10X_GM10X.values, 'r')\n",
    "\n",
    "ax2 = ax1.twinx()\n",
    "ax2.plot(-dayData.flow.TA01_GP101.values, 'b')"
   ]
  },
  {
   "cell_type": "code",
   "execution_count": null,
   "id": "ddb902ad",
   "metadata": {},
   "outputs": [],
   "source": []
  }
 ],
 "metadata": {
  "kernelspec": {
   "display_name": "Python 3 (ipykernel)",
   "language": "python",
   "name": "python3"
  },
  "language_info": {
   "codemirror_mode": {
    "name": "ipython",
    "version": 3
   },
   "file_extension": ".py",
   "mimetype": "text/x-python",
   "name": "python",
   "nbconvert_exporter": "python",
   "pygments_lexer": "ipython3",
   "version": "3.9.13"
  }
 },
 "nbformat": 4,
 "nbformat_minor": 5
}
