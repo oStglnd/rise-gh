{
 "cells": [
  {
   "cell_type": "markdown",
   "id": "3c35d1cc",
   "metadata": {},
   "source": [
    "# Short-term Temperature Model Test"
   ]
  },
  {
   "cell_type": "markdown",
   "id": "195db0c9",
   "metadata": {},
   "source": [
    "## Import dependencies and data"
   ]
  },
  {
   "cell_type": "code",
   "execution_count": 2,
   "id": "77453a55",
   "metadata": {},
   "outputs": [],
   "source": [
    "# import dependencies\n",
    "import os\n",
    "import json\n",
    "import pandas as pd\n",
    "\n",
    "import matplotlib.pyplot as plt\n",
    "import seaborn as sns\n",
    "\n",
    "import numpy as np\n",
    "import tensorflow as tf\n",
    "from tensorflow.keras import layers"
   ]
  },
  {
   "cell_type": "code",
   "execution_count": 3,
   "id": "b5dee1ac",
   "metadata": {},
   "outputs": [],
   "source": [
    "# define relevant paths\n",
    "home_path = os.path.dirname(os.getcwd())\n",
    "data_path = home_path + '\\\\data\\\\'\n",
    "plot_path = home_path + '\\\\plotting\\\\plots\\\\'\n",
    "save_path = home_path + '\\\\model\\\\saved\\\\'"
   ]
  },
  {
   "cell_type": "code",
   "execution_count": 4,
   "id": "a747b251",
   "metadata": {},
   "outputs": [],
   "source": [
    "# get merged data\n",
    "data = pd.read_csv(\n",
    "    data_path + 'data_merged.csv',\n",
    "    header=[0, 1],\n",
    "    index_col=[0, 1, 2, 3, 4]\n",
    ")\n",
    "\n",
    "# convert index.date col to datetime\n",
    "#data.index = pd.to_datetime(data.index.values)\n",
    "data.loc[:, ('time', 'date')] = pd.to_datetime(data.time.date)"
   ]
  },
  {
   "cell_type": "code",
   "execution_count": 5,
   "id": "b0f46624",
   "metadata": {},
   "outputs": [],
   "source": [
    "# define X vars\n",
    "x_vars = [\n",
    "    ('flow', 'TA01_GP101'),\n",
    "    ('state', 'TA01_output'),\n",
    "    ('temperatures', 'DC_GT101_GM101'),\n",
    "    ('temperatures', 'DC_GT102_GM102'),\n",
    "    ('temperatures', 'DC_GT103_GM103'),\n",
    "    ('temperatures', 'DC_GT104_GM104'),\n",
    "    ('temperatures', 'DC_GT401_GM401'),\n",
    "    ('temperatures', 'DC_GT301_damped'),\n",
    "    ('temperatures', 'DC_GT301_outdoor'),\n",
    "    ('humidity', 'DC_GT101_GM101'),\n",
    "    ('humidity', 'DC_GT102_GM102'),\n",
    "    ('humidity', 'DC_GT103_GM103'),\n",
    "    ('humidity', 'DC_GT104_GM104'),\n",
    "    ('humidity', 'DC_GT401_GM401'),\n",
    "    ('setpoints', 'TA01_GT10X_GM10X'),\n",
    "    ('sun', 'gsi'),\n",
    "    ('sun', 'gsi_deriv'),\n",
    "    ('sun', 'vol'),\n",
    "    ('sun', 'vol_deriv'),\n",
    "    ('time', 'dayofyear'),\n",
    "    ('time', 'monthofyear'),\n",
    "    ('time', 'minofday'),\n",
    "    ('time', 'hourofday')\n",
    "]\n",
    "\n",
    "# filter columns to keep only x_vars\n",
    "data = data[x_vars].copy()"
   ]
  },
  {
   "cell_type": "markdown",
   "id": "33ae9eb6",
   "metadata": {},
   "source": [
    "## Describe Df"
   ]
  },
  {
   "cell_type": "code",
   "execution_count": 6,
   "id": "be306b52",
   "metadata": {},
   "outputs": [
    {
     "name": "stdout",
     "output_type": "stream",
     "text": [
      "Number of NAs\n",
      "\n",
      "category      sensor_ID       \n",
      "flow          TA01_GP101          13\n",
      "state         TA01_output         14\n",
      "temperatures  DC_GT101_GM101      12\n",
      "              DC_GT102_GM102      12\n",
      "              DC_GT103_GM103      11\n",
      "              DC_GT104_GM104      11\n",
      "              DC_GT401_GM401      13\n",
      "              DC_GT301_damped     11\n",
      "              DC_GT301_outdoor    12\n",
      "humidity      DC_GT101_GM101      12\n",
      "              DC_GT102_GM102      12\n",
      "              DC_GT103_GM103      12\n",
      "              DC_GT104_GM104      10\n",
      "              DC_GT401_GM401      13\n",
      "setpoints     TA01_GT10X_GM10X    14\n",
      "sun           gsi                  1\n",
      "              gsi_deriv            1\n",
      "              vol                  1\n",
      "              vol_deriv            1\n",
      "time          dayofyear            1\n",
      "              monthofyear          1\n",
      "              minofday             1\n",
      "              hourofday            1\n",
      "dtype: int64\n",
      "\n",
      "\n",
      "\n"
     ]
    }
   ],
   "source": [
    "# print number of NAs\n",
    "print('Number of NAs\\n')\n",
    "print(data.isna().sum())\n",
    "print('\\n\\n')"
   ]
  },
  {
   "cell_type": "code",
   "execution_count": 7,
   "id": "4da9d182",
   "metadata": {},
   "outputs": [],
   "source": [
    "# remove single NAN\n",
    "data = data.dropna(how='any')"
   ]
  },
  {
   "cell_type": "code",
   "execution_count": 8,
   "id": "474bdc87",
   "metadata": {
    "scrolled": false
   },
   "outputs": [
    {
     "data": {
      "text/html": [
       "<div>\n",
       "<style scoped>\n",
       "    .dataframe tbody tr th:only-of-type {\n",
       "        vertical-align: middle;\n",
       "    }\n",
       "\n",
       "    .dataframe tbody tr th {\n",
       "        vertical-align: top;\n",
       "    }\n",
       "\n",
       "    .dataframe thead th {\n",
       "        text-align: right;\n",
       "    }\n",
       "</style>\n",
       "<table border=\"1\" class=\"dataframe\">\n",
       "  <thead>\n",
       "    <tr style=\"text-align: right;\">\n",
       "      <th></th>\n",
       "      <th></th>\n",
       "      <th>count</th>\n",
       "      <th>mean</th>\n",
       "      <th>std</th>\n",
       "      <th>min</th>\n",
       "      <th>25%</th>\n",
       "      <th>50%</th>\n",
       "      <th>75%</th>\n",
       "      <th>max</th>\n",
       "    </tr>\n",
       "    <tr>\n",
       "      <th>category</th>\n",
       "      <th>sensor_ID</th>\n",
       "      <th></th>\n",
       "      <th></th>\n",
       "      <th></th>\n",
       "      <th></th>\n",
       "      <th></th>\n",
       "      <th></th>\n",
       "      <th></th>\n",
       "      <th></th>\n",
       "    </tr>\n",
       "  </thead>\n",
       "  <tbody>\n",
       "    <tr>\n",
       "      <th>flow</th>\n",
       "      <th>TA01_GP101</th>\n",
       "      <td>256304.0</td>\n",
       "      <td>2350.241038</td>\n",
       "      <td>606.493897</td>\n",
       "      <td>1.761400e+03</td>\n",
       "      <td>1860.000000</td>\n",
       "      <td>2.059000e+03</td>\n",
       "      <td>2738.400000</td>\n",
       "      <td>4206.600000</td>\n",
       "    </tr>\n",
       "    <tr>\n",
       "      <th>state</th>\n",
       "      <th>TA01_output</th>\n",
       "      <td>256304.0</td>\n",
       "      <td>42.107561</td>\n",
       "      <td>8.699721</td>\n",
       "      <td>3.500000e+01</td>\n",
       "      <td>35.000000</td>\n",
       "      <td>3.810000e+01</td>\n",
       "      <td>47.800000</td>\n",
       "      <td>65.000000</td>\n",
       "    </tr>\n",
       "    <tr>\n",
       "      <th rowspan=\"7\" valign=\"top\">temperatures</th>\n",
       "      <th>DC_GT101_GM101</th>\n",
       "      <td>256304.0</td>\n",
       "      <td>17.493335</td>\n",
       "      <td>11.283262</td>\n",
       "      <td>-1.990000e+01</td>\n",
       "      <td>19.600000</td>\n",
       "      <td>2.050000e+01</td>\n",
       "      <td>21.500000</td>\n",
       "      <td>29.000000</td>\n",
       "    </tr>\n",
       "    <tr>\n",
       "      <th>DC_GT102_GM102</th>\n",
       "      <td>256304.0</td>\n",
       "      <td>20.384807</td>\n",
       "      <td>1.248066</td>\n",
       "      <td>1.240000e+01</td>\n",
       "      <td>19.600000</td>\n",
       "      <td>2.030000e+01</td>\n",
       "      <td>21.000000</td>\n",
       "      <td>30.300000</td>\n",
       "    </tr>\n",
       "    <tr>\n",
       "      <th>DC_GT103_GM103</th>\n",
       "      <td>256304.0</td>\n",
       "      <td>20.963228</td>\n",
       "      <td>1.546715</td>\n",
       "      <td>1.040000e+01</td>\n",
       "      <td>20.000000</td>\n",
       "      <td>2.060000e+01</td>\n",
       "      <td>21.700000</td>\n",
       "      <td>31.000000</td>\n",
       "    </tr>\n",
       "    <tr>\n",
       "      <th>DC_GT104_GM104</th>\n",
       "      <td>256304.0</td>\n",
       "      <td>20.852922</td>\n",
       "      <td>1.618210</td>\n",
       "      <td>1.080000e+01</td>\n",
       "      <td>19.800000</td>\n",
       "      <td>2.040000e+01</td>\n",
       "      <td>21.600000</td>\n",
       "      <td>32.100000</td>\n",
       "    </tr>\n",
       "    <tr>\n",
       "      <th>DC_GT401_GM401</th>\n",
       "      <td>256304.0</td>\n",
       "      <td>49.457756</td>\n",
       "      <td>3.449056</td>\n",
       "      <td>1.540000e+01</td>\n",
       "      <td>48.700000</td>\n",
       "      <td>5.020000e+01</td>\n",
       "      <td>51.200000</td>\n",
       "      <td>56.200000</td>\n",
       "    </tr>\n",
       "    <tr>\n",
       "      <th>DC_GT301_damped</th>\n",
       "      <td>256304.0</td>\n",
       "      <td>-5.075504</td>\n",
       "      <td>6.692206</td>\n",
       "      <td>-2.160000e+01</td>\n",
       "      <td>-10.400000</td>\n",
       "      <td>-3.800000e+00</td>\n",
       "      <td>0.100000</td>\n",
       "      <td>9.300000</td>\n",
       "    </tr>\n",
       "    <tr>\n",
       "      <th>DC_GT301_outdoor</th>\n",
       "      <td>256304.0</td>\n",
       "      <td>-5.044650</td>\n",
       "      <td>6.653595</td>\n",
       "      <td>-2.090000e+01</td>\n",
       "      <td>-10.300000</td>\n",
       "      <td>-3.700000e+00</td>\n",
       "      <td>0.300000</td>\n",
       "      <td>8.400000</td>\n",
       "    </tr>\n",
       "    <tr>\n",
       "      <th rowspan=\"5\" valign=\"top\">humidity</th>\n",
       "      <th>DC_GT101_GM101</th>\n",
       "      <td>256304.0</td>\n",
       "      <td>27.775286</td>\n",
       "      <td>12.481715</td>\n",
       "      <td>0.000000e+00</td>\n",
       "      <td>21.600000</td>\n",
       "      <td>2.790000e+01</td>\n",
       "      <td>35.300000</td>\n",
       "      <td>89.600000</td>\n",
       "    </tr>\n",
       "    <tr>\n",
       "      <th>DC_GT102_GM102</th>\n",
       "      <td>256304.0</td>\n",
       "      <td>33.555174</td>\n",
       "      <td>11.548497</td>\n",
       "      <td>9.100000e+00</td>\n",
       "      <td>25.700000</td>\n",
       "      <td>3.220000e+01</td>\n",
       "      <td>40.200000</td>\n",
       "      <td>98.900000</td>\n",
       "    </tr>\n",
       "    <tr>\n",
       "      <th>DC_GT103_GM103</th>\n",
       "      <td>256304.0</td>\n",
       "      <td>30.228146</td>\n",
       "      <td>9.312160</td>\n",
       "      <td>9.200000e+00</td>\n",
       "      <td>23.700000</td>\n",
       "      <td>2.900000e+01</td>\n",
       "      <td>35.900000</td>\n",
       "      <td>65.300000</td>\n",
       "    </tr>\n",
       "    <tr>\n",
       "      <th>DC_GT104_GM104</th>\n",
       "      <td>256304.0</td>\n",
       "      <td>30.577373</td>\n",
       "      <td>10.041549</td>\n",
       "      <td>8.400000e+00</td>\n",
       "      <td>23.200000</td>\n",
       "      <td>2.970000e+01</td>\n",
       "      <td>37.200000</td>\n",
       "      <td>81.600000</td>\n",
       "    </tr>\n",
       "    <tr>\n",
       "      <th>DC_GT401_GM401</th>\n",
       "      <td>256304.0</td>\n",
       "      <td>0.811782</td>\n",
       "      <td>0.980756</td>\n",
       "      <td>0.000000e+00</td>\n",
       "      <td>0.100000</td>\n",
       "      <td>3.000000e-01</td>\n",
       "      <td>1.200000</td>\n",
       "      <td>13.600000</td>\n",
       "    </tr>\n",
       "    <tr>\n",
       "      <th>setpoints</th>\n",
       "      <th>TA01_GT10X_GM10X</th>\n",
       "      <td>256304.0</td>\n",
       "      <td>20.661791</td>\n",
       "      <td>0.752594</td>\n",
       "      <td>2.000000e+01</td>\n",
       "      <td>20.000000</td>\n",
       "      <td>2.000000e+01</td>\n",
       "      <td>21.500000</td>\n",
       "      <td>22.100000</td>\n",
       "    </tr>\n",
       "    <tr>\n",
       "      <th rowspan=\"4\" valign=\"top\">sun</th>\n",
       "      <th>gsi</th>\n",
       "      <td>256304.0</td>\n",
       "      <td>29.613807</td>\n",
       "      <td>73.869865</td>\n",
       "      <td>0.000000e+00</td>\n",
       "      <td>0.000000</td>\n",
       "      <td>3.809640e-03</td>\n",
       "      <td>10.347319</td>\n",
       "      <td>491.320000</td>\n",
       "    </tr>\n",
       "    <tr>\n",
       "      <th>gsi_deriv</th>\n",
       "      <td>256304.0</td>\n",
       "      <td>0.023921</td>\n",
       "      <td>28.075516</td>\n",
       "      <td>-2.437092e+02</td>\n",
       "      <td>-0.092497</td>\n",
       "      <td>-2.133411e-07</td>\n",
       "      <td>0.084155</td>\n",
       "      <td>233.170815</td>\n",
       "    </tr>\n",
       "    <tr>\n",
       "      <th>vol</th>\n",
       "      <td>256304.0</td>\n",
       "      <td>341.133400</td>\n",
       "      <td>959.527867</td>\n",
       "      <td>0.000000e+00</td>\n",
       "      <td>0.000000</td>\n",
       "      <td>0.000000e+00</td>\n",
       "      <td>0.253377</td>\n",
       "      <td>3600.000000</td>\n",
       "    </tr>\n",
       "    <tr>\n",
       "      <th>vol_deriv</th>\n",
       "      <td>256304.0</td>\n",
       "      <td>-1.426362</td>\n",
       "      <td>616.489909</td>\n",
       "      <td>-4.151553e+03</td>\n",
       "      <td>-0.012802</td>\n",
       "      <td>0.000000e+00</td>\n",
       "      <td>0.011386</td>\n",
       "      <td>4383.409247</td>\n",
       "    </tr>\n",
       "    <tr>\n",
       "      <th rowspan=\"4\" valign=\"top\">time</th>\n",
       "      <th>dayofyear</th>\n",
       "      <td>256304.0</td>\n",
       "      <td>0.316664</td>\n",
       "      <td>0.202923</td>\n",
       "      <td>1.224647e-16</td>\n",
       "      <td>0.128748</td>\n",
       "      <td>2.967128e-01</td>\n",
       "      <td>0.501242</td>\n",
       "      <td>0.668064</td>\n",
       "    </tr>\n",
       "    <tr>\n",
       "      <th>monthofyear</th>\n",
       "      <td>256304.0</td>\n",
       "      <td>0.411416</td>\n",
       "      <td>0.236621</td>\n",
       "      <td>1.224647e-16</td>\n",
       "      <td>0.258819</td>\n",
       "      <td>5.000000e-01</td>\n",
       "      <td>0.707107</td>\n",
       "      <td>0.707107</td>\n",
       "    </tr>\n",
       "    <tr>\n",
       "      <th>minofday</th>\n",
       "      <td>256304.0</td>\n",
       "      <td>0.631367</td>\n",
       "      <td>0.306814</td>\n",
       "      <td>0.000000e+00</td>\n",
       "      <td>0.378649</td>\n",
       "      <td>6.977905e-01</td>\n",
       "      <td>0.917060</td>\n",
       "      <td>1.000000</td>\n",
       "    </tr>\n",
       "    <tr>\n",
       "      <th>hourofday</th>\n",
       "      <td>256304.0</td>\n",
       "      <td>0.630360</td>\n",
       "      <td>0.308996</td>\n",
       "      <td>0.000000e+00</td>\n",
       "      <td>0.382683</td>\n",
       "      <td>7.071068e-01</td>\n",
       "      <td>0.923880</td>\n",
       "      <td>1.000000</td>\n",
       "    </tr>\n",
       "  </tbody>\n",
       "</table>\n",
       "</div>"
      ],
      "text/plain": [
       "                                  count         mean         std  \\\n",
       "category     sensor_ID                                             \n",
       "flow         TA01_GP101        256304.0  2350.241038  606.493897   \n",
       "state        TA01_output       256304.0    42.107561    8.699721   \n",
       "temperatures DC_GT101_GM101    256304.0    17.493335   11.283262   \n",
       "             DC_GT102_GM102    256304.0    20.384807    1.248066   \n",
       "             DC_GT103_GM103    256304.0    20.963228    1.546715   \n",
       "             DC_GT104_GM104    256304.0    20.852922    1.618210   \n",
       "             DC_GT401_GM401    256304.0    49.457756    3.449056   \n",
       "             DC_GT301_damped   256304.0    -5.075504    6.692206   \n",
       "             DC_GT301_outdoor  256304.0    -5.044650    6.653595   \n",
       "humidity     DC_GT101_GM101    256304.0    27.775286   12.481715   \n",
       "             DC_GT102_GM102    256304.0    33.555174   11.548497   \n",
       "             DC_GT103_GM103    256304.0    30.228146    9.312160   \n",
       "             DC_GT104_GM104    256304.0    30.577373   10.041549   \n",
       "             DC_GT401_GM401    256304.0     0.811782    0.980756   \n",
       "setpoints    TA01_GT10X_GM10X  256304.0    20.661791    0.752594   \n",
       "sun          gsi               256304.0    29.613807   73.869865   \n",
       "             gsi_deriv         256304.0     0.023921   28.075516   \n",
       "             vol               256304.0   341.133400  959.527867   \n",
       "             vol_deriv         256304.0    -1.426362  616.489909   \n",
       "time         dayofyear         256304.0     0.316664    0.202923   \n",
       "             monthofyear       256304.0     0.411416    0.236621   \n",
       "             minofday          256304.0     0.631367    0.306814   \n",
       "             hourofday         256304.0     0.630360    0.308996   \n",
       "\n",
       "                                        min          25%           50%  \\\n",
       "category     sensor_ID                                                   \n",
       "flow         TA01_GP101        1.761400e+03  1860.000000  2.059000e+03   \n",
       "state        TA01_output       3.500000e+01    35.000000  3.810000e+01   \n",
       "temperatures DC_GT101_GM101   -1.990000e+01    19.600000  2.050000e+01   \n",
       "             DC_GT102_GM102    1.240000e+01    19.600000  2.030000e+01   \n",
       "             DC_GT103_GM103    1.040000e+01    20.000000  2.060000e+01   \n",
       "             DC_GT104_GM104    1.080000e+01    19.800000  2.040000e+01   \n",
       "             DC_GT401_GM401    1.540000e+01    48.700000  5.020000e+01   \n",
       "             DC_GT301_damped  -2.160000e+01   -10.400000 -3.800000e+00   \n",
       "             DC_GT301_outdoor -2.090000e+01   -10.300000 -3.700000e+00   \n",
       "humidity     DC_GT101_GM101    0.000000e+00    21.600000  2.790000e+01   \n",
       "             DC_GT102_GM102    9.100000e+00    25.700000  3.220000e+01   \n",
       "             DC_GT103_GM103    9.200000e+00    23.700000  2.900000e+01   \n",
       "             DC_GT104_GM104    8.400000e+00    23.200000  2.970000e+01   \n",
       "             DC_GT401_GM401    0.000000e+00     0.100000  3.000000e-01   \n",
       "setpoints    TA01_GT10X_GM10X  2.000000e+01    20.000000  2.000000e+01   \n",
       "sun          gsi               0.000000e+00     0.000000  3.809640e-03   \n",
       "             gsi_deriv        -2.437092e+02    -0.092497 -2.133411e-07   \n",
       "             vol               0.000000e+00     0.000000  0.000000e+00   \n",
       "             vol_deriv        -4.151553e+03    -0.012802  0.000000e+00   \n",
       "time         dayofyear         1.224647e-16     0.128748  2.967128e-01   \n",
       "             monthofyear       1.224647e-16     0.258819  5.000000e-01   \n",
       "             minofday          0.000000e+00     0.378649  6.977905e-01   \n",
       "             hourofday         0.000000e+00     0.382683  7.071068e-01   \n",
       "\n",
       "                                       75%          max  \n",
       "category     sensor_ID                                   \n",
       "flow         TA01_GP101        2738.400000  4206.600000  \n",
       "state        TA01_output         47.800000    65.000000  \n",
       "temperatures DC_GT101_GM101      21.500000    29.000000  \n",
       "             DC_GT102_GM102      21.000000    30.300000  \n",
       "             DC_GT103_GM103      21.700000    31.000000  \n",
       "             DC_GT104_GM104      21.600000    32.100000  \n",
       "             DC_GT401_GM401      51.200000    56.200000  \n",
       "             DC_GT301_damped      0.100000     9.300000  \n",
       "             DC_GT301_outdoor     0.300000     8.400000  \n",
       "humidity     DC_GT101_GM101      35.300000    89.600000  \n",
       "             DC_GT102_GM102      40.200000    98.900000  \n",
       "             DC_GT103_GM103      35.900000    65.300000  \n",
       "             DC_GT104_GM104      37.200000    81.600000  \n",
       "             DC_GT401_GM401       1.200000    13.600000  \n",
       "setpoints    TA01_GT10X_GM10X    21.500000    22.100000  \n",
       "sun          gsi                 10.347319   491.320000  \n",
       "             gsi_deriv            0.084155   233.170815  \n",
       "             vol                  0.253377  3600.000000  \n",
       "             vol_deriv            0.011386  4383.409247  \n",
       "time         dayofyear            0.501242     0.668064  \n",
       "             monthofyear          0.707107     0.707107  \n",
       "             minofday             0.917060     1.000000  \n",
       "             hourofday            0.923880     1.000000  "
      ]
     },
     "execution_count": 8,
     "metadata": {},
     "output_type": "execute_result"
    }
   ],
   "source": [
    "# describe cols\n",
    "data.describe().transpose()"
   ]
  },
  {
   "cell_type": "code",
   "execution_count": 9,
   "id": "fd250a92",
   "metadata": {},
   "outputs": [],
   "source": [
    "# steps = 20\n",
    "# test = (data.temperatures.DC_GT301_damped - data.temperatures.DC_GT301_damped.rolling(window=steps, center=False).mean())\n",
    "# test2 = test.rolling(window=20).mean()\n",
    "\n",
    "# test3 = (data.flow.TA01_GP101 - data.flow.TA01_GP101.rolling(window=120, center=False).mean())\n",
    "\n",
    "\n",
    "# fig, ax1 = plt.subplots()\n",
    "# # ax1.plot(data.temperatures.DC_GT301_damped.values[-150:], 'b')\n",
    "# # ax1.plot(test.values[-15000:-10000], 'b')\n",
    "# ax1.plot(data.flow.TA01_GP101.values[-150:], 'b')\n",
    "# # ax1.plot(data.time.minofday.values[-45000:-42000], 'b')\n",
    "# # ax1.plot(data.temperatures.DC_GT401_GM401.values[-15000:-10000], 'b')\n",
    "\n",
    "# ax2 = ax1.twinx()\n",
    "\n",
    "# ax2.plot(data.sun.gsi_deriv.values[-150:])\n",
    "# ax2.plot(data.temperatures.TA01_GT10X_GM10X.values[-150:], 'r')"
   ]
  },
  {
   "cell_type": "code",
   "execution_count": 10,
   "id": "677de1d9",
   "metadata": {},
   "outputs": [],
   "source": [
    "# subset = data[data.state.TA01_output > 35].copy()\n",
    "\n",
    "# test = subset.flow.TA01_GP101.rolling(window=30, center=False).mean()\n",
    "# test2 = subset.temperatures.TA01_GT10X_GM10X.rolling(window=30, center=False).apply(lambda vec: vec[-1], raw=True)\n",
    "\n",
    "# fig, ax1 = plt.subplots()\n",
    "# ax1.plot(subset.flow.TA01_GP101.values[-250:], 'b')\n",
    "# ax1.plot(test.values[-250:], 'b')\n",
    "\n",
    "# ax2 = ax1.twinx()\n",
    "\n",
    "# # ax2.plot(subset.temperatures.TA01_GT10X_GM10X.values[-100:], 'r')\n",
    "# ax2.plot(test2.values[-250:], 'r')"
   ]
  },
  {
   "cell_type": "code",
   "execution_count": 11,
   "id": "9bdc959f",
   "metadata": {},
   "outputs": [],
   "source": [
    "# fig, ax1 = plt.subplots()\n",
    "# ax1.plot(test.values[-260:-10], 'b')\n",
    "\n",
    "# ax2 = ax1.twinx()\n",
    "\n",
    "# # ax2.plot(subset.temperatures.TA01_GT10X_GM10X.values[-100:], 'r')\n",
    "# ax2.plot(xhat[-250:], 'r')"
   ]
  },
  {
   "cell_type": "markdown",
   "id": "3424585c",
   "metadata": {},
   "source": [
    "## Feature engineering"
   ]
  },
  {
   "cell_type": "markdown",
   "id": "6e430934",
   "metadata": {},
   "source": [
    "### GH Temperature"
   ]
  },
  {
   "cell_type": "code",
   "execution_count": 12,
   "id": "ef4c35a7",
   "metadata": {},
   "outputs": [],
   "source": [
    "### create \"better\" estimate of temperature var, w. proper avg.\n",
    "data[('temperatures', 'TA01_GT10X_GM10X')] = data.temperatures[[\n",
    "    # ('DC_GT102_GM101'),\n",
    "    ('DC_GT102_GM102'), \n",
    "    ('DC_GT103_GM103'), \n",
    "    ('DC_GT104_GM104')\n",
    "]].values.mean(axis=1)"
   ]
  },
  {
   "cell_type": "code",
   "execution_count": 13,
   "id": "1546dfe5",
   "metadata": {},
   "outputs": [],
   "source": [
    "# make TEMP zero-centered around setpoints w. variance scaling\n",
    "data[('temperatures', 'TA01_GT10X_GM10X')] = \\\n",
    "    (data[('temperatures', 'TA01_GT10X_GM10X')] \\\n",
    "     - data[('setpoints', 'TA01_GT10X_GM10X')]) \\\n",
    "    / data[('temperatures', 'TA01_GT10X_GM10X')].std()\n",
    "\n",
    "# col = ('temperatures', 'TA01_GT10X_GM10X')\n",
    "# data[col] = (data[col] - data[col].mean()) / data[col].std()"
   ]
  },
  {
   "cell_type": "markdown",
   "id": "db94829f",
   "metadata": {},
   "source": [
    "### DC temperature"
   ]
  },
  {
   "cell_type": "code",
   "execution_count": 14,
   "id": "9ce830a3",
   "metadata": {},
   "outputs": [],
   "source": [
    "### normalize vals\n",
    "col = ('temperatures', 'DC_GT401_GM401')\n",
    "data[col] = (data[col] - data[col].mean()) / data[col].std()"
   ]
  },
  {
   "cell_type": "markdown",
   "id": "33a858e4",
   "metadata": {},
   "source": [
    "### OUTSIDE temperature"
   ]
  },
  {
   "cell_type": "code",
   "execution_count": 15,
   "id": "cd9a882c",
   "metadata": {},
   "outputs": [],
   "source": [
    "### normalize vals\n",
    "col = ('temperatures', 'DC_GT301_damped')\n",
    "data[col] = (data[col] - data[col].mean()) / data[col].std()"
   ]
  },
  {
   "cell_type": "markdown",
   "id": "ef0c7ece",
   "metadata": {},
   "source": [
    "### GH Humidity"
   ]
  },
  {
   "cell_type": "code",
   "execution_count": 16,
   "id": "a9a1b4c6",
   "metadata": {},
   "outputs": [],
   "source": [
    "### create \"better\" estimate of temperature var, w. proper avg.\n",
    "data[('humidity', 'TA01_GT10X_GM10X')] = data.humidity[[\n",
    "    # ('DC_GT102_GM101'),\n",
    "    ('DC_GT102_GM102'), \n",
    "    ('DC_GT103_GM103'), \n",
    "    ('DC_GT104_GM104')\n",
    "]].values.mean(axis=1)"
   ]
  },
  {
   "cell_type": "code",
   "execution_count": 17,
   "id": "e6252a43",
   "metadata": {},
   "outputs": [],
   "source": [
    "### normalize humidity\n",
    "col = ('humidity', 'TA01_GT10X_GM10X')\n",
    "data[col] = (data[col] - data[col].mean()) / data[col].std()"
   ]
  },
  {
   "cell_type": "markdown",
   "id": "bf8985d2",
   "metadata": {},
   "source": [
    "### Solar radiance"
   ]
  },
  {
   "cell_type": "code",
   "execution_count": 18,
   "id": "03e24731",
   "metadata": {},
   "outputs": [],
   "source": [
    "### min-max scale GSI\n",
    "col = ('sun', 'gsi')\n",
    "data[col] = (data[col] - data[col].min()) / (data[col].max() - data[col].min())"
   ]
  },
  {
   "cell_type": "code",
   "execution_count": 19,
   "id": "5e2e00fb",
   "metadata": {},
   "outputs": [],
   "source": [
    "### zero-centered variance scale GSI deriv\n",
    "col = ('sun', 'gsi_deriv')\n",
    "data[col] = data[col] / data[col].std()"
   ]
  },
  {
   "cell_type": "markdown",
   "id": "3746548c",
   "metadata": {},
   "source": [
    "### Flow volume"
   ]
  },
  {
   "cell_type": "code",
   "execution_count": 20,
   "id": "fee968b8",
   "metadata": {},
   "outputs": [],
   "source": [
    "### min-max scale flow (i.e. squeeze into [0, 1])\n",
    "col = ('flow', 'TA01_GP101')\n",
    "data[col] = (data[col] - data[col].min()) / (data[col].max() - data[col].min())"
   ]
  },
  {
   "cell_type": "code",
   "execution_count": 21,
   "id": "9cd26b4a",
   "metadata": {},
   "outputs": [],
   "source": [
    "### create INDICATOR variable f. TA01_output\n",
    "data[('state', 'TA01_output')] = data.state.TA01_output.apply(lambda val: val > 35)"
   ]
  },
  {
   "cell_type": "markdown",
   "id": "6944095a",
   "metadata": {},
   "source": [
    "## Kalman filtering"
   ]
  },
  {
   "cell_type": "code",
   "execution_count": 22,
   "id": "f502c824",
   "metadata": {},
   "outputs": [],
   "source": [
    "cols = [\n",
    "    (('temperatures', 'TA01_GT10X_GM10X'), 3),\n",
    "    (('temperatures', 'DC_GT401_GM401'), 3),\n",
    "    (('temperatures', 'DC_GT301_damped'), 4),\n",
    "    (('humidity', 'TA01_GT10X_GM10X'), 3),\n",
    "    \n",
    "]\n",
    "\n",
    "for colSpec in cols:\n",
    "    # apply KALMAN filter to temperature measurements\n",
    "    col = colSpec[0]\n",
    "    varExp = colSpec[-1]\n",
    "    \n",
    "    # get data\n",
    "    X = data[col].values\n",
    "    n = len(X)\n",
    "\n",
    "    # process variance, measurement variance\n",
    "    Q = 1e-5\n",
    "    R = 0.1**varExp\n",
    "\n",
    "    xhat=np.zeros(n)      # a posteri estimate of x\n",
    "    P=np.zeros(n)         # a posteri error estimate\n",
    "    xhatminus=np.zeros(n) # a priori estimate of x\n",
    "    Pminus=np.zeros(n)    # a priori error estimate\n",
    "    K=np.zeros(n)         # gain or blending factor\n",
    "\n",
    "    # intial guesses\n",
    "    xhat[0] = X[0]\n",
    "    P[0] = X[1]\n",
    "\n",
    "    for k in range(1,n):\n",
    "        # time update\n",
    "        xhatminus[k] = xhat[k-1]\n",
    "        Pminus[k] = P[k-1]+Q\n",
    "\n",
    "        # measurement update\n",
    "        K[k] = Pminus[k]/( Pminus[k]+R )\n",
    "        xhat[k] = xhatminus[k]+K[k]*(X[k]-xhatminus[k])\n",
    "        P[k] = (1-K[k])*Pminus[k]\n",
    "\n",
    "    data[col] = xhat"
   ]
  },
  {
   "cell_type": "markdown",
   "id": "70925b7a",
   "metadata": {},
   "source": [
    "## Data preparation"
   ]
  },
  {
   "cell_type": "code",
   "execution_count": 23,
   "id": "97925877",
   "metadata": {},
   "outputs": [],
   "source": [
    "# t_steps = 40   # 20-min predictions\n",
    "t_steps = 20   # 10-min predictions\n",
    "\n",
    "train_frac = 0.9"
   ]
  },
  {
   "cell_type": "markdown",
   "id": "76c623b7",
   "metadata": {},
   "source": [
    "### Data selection and split"
   ]
  },
  {
   "cell_type": "code",
   "execution_count": 145,
   "id": "09bde346",
   "metadata": {},
   "outputs": [],
   "source": [
    "# Define model variables\n",
    "model_vars = [\n",
    "    ('flow', 'TA01_GP101'),\n",
    "    ('temperatures', 'TA01_GT10X_GM10X'),\n",
    "    ('temperatures', 'DC_GT401_GM401'),\n",
    "    # ('temperatures', 'DC_GT301_damped'),\n",
    "    ('humidity', 'TA01_GT10X_GM10X'),\n",
    "    # ('sun', 'gsi'),\n",
    "    ('sun', 'gsi_deriv'),\n",
    "    ('state', 'TA01_output'),\n",
    "    ('time', 'minofday'),\n",
    "    #('time', 'hourofday'),\n",
    "    #('time', 'dayofyear'),\n",
    "    #('time', 'monthofyear')\n",
    "]\n",
    "\n",
    "# filter data\n",
    "testData = data[model_vars].copy()\n",
    "testData = testData[(testData.index.get_level_values(0) == 3) & (testData.index.get_level_values(1) > 10)]"
   ]
  },
  {
   "cell_type": "code",
   "execution_count": 146,
   "id": "f3389acf",
   "metadata": {},
   "outputs": [],
   "source": [
    "# targets = testData.pop(('temperatures', 'TA01_GT10X_GM10X')).copy()\n",
    "targets = testData[('temperatures', 'TA01_GT10X_GM10X')].copy()\n",
    "# targets = targets.shift(-t_steps) - targets"
   ]
  },
  {
   "cell_type": "code",
   "execution_count": 147,
   "id": "b37756f1",
   "metadata": {},
   "outputs": [],
   "source": [
    "testData[('flow', 'TA01_GP101')] = testData[('flow', 'TA01_GP101')].rolling(t_steps).sum()\n",
    "testData[('temperatures', 'TA01_GT10X_GM10X')] = testData[('temperatures', 'TA01_GT10X_GM10X')].rolling(t_steps).apply(lambda vec: vec[0], raw=True)\n",
    "testData[('temperatures', 'DC_GT401_GM401')] = testData[('temperatures', 'DC_GT401_GM401')].rolling(t_steps).mean()\n",
    "# testData[('temperatures', 'DC_GT301_damped')] = testData[('temperatures', 'DC_GT301_damped')].rolling(t_steps).mean()\n",
    "testData[('humidity', 'TA01_GT10X_GM10X')] = testData[('humidity', 'TA01_GT10X_GM10X')].rolling(t_steps).mean()\n",
    "# testData[('sun', 'gsi')] = testData[('sun', 'gsi')].rolling(t_steps).mean()\n",
    "testData[('sun', 'gsi_deriv')] = testData[('sun', 'gsi_deriv')].rolling(t_steps).mean()\n",
    "testData[('state', 'TA01_output')] = testData[('state', 'TA01_output')].rolling(t_steps).max()\n",
    "testData[('time', 'minofday')] = testData[('time', 'minofday')].rolling(t_steps).mean()\n",
    "# testData[('time', 'hourofday')] = testData[('time', 'hourofday')].rolling(t_steps).mean()\n",
    "# testData[('time', 'dayofyear')] = testData[('time', 'dayofyear')].rolling(t_steps).mean()\n",
    "# testData[('time', 'monthofyear')] = testData[('time', 'monthofyear')].rolling(t_steps).mean()\n",
    "\n",
    "features = testData.iloc[t_steps:].values\n",
    "targets = targets.iloc[t_steps:].values"
   ]
  },
  {
   "cell_type": "code",
   "execution_count": 33,
   "id": "2419285c",
   "metadata": {},
   "outputs": [],
   "source": [
    "# testData[('flow', 'TA01_GP101')] = testData[('flow', 'TA01_GP101')].rolling(t_steps).sum()\n",
    "# testData[('temperatures', 'TA01_GT10X_GM10X')] = testData[('temperatures', 'TA01_GT10X_GM10X')].rolling(t_steps).apply(lambda vec: vec[0], raw=True)\n",
    "# testData[('temperatures', 'DC_GT401_GM401')] = testData[('temperatures', 'DC_GT401_GM401')].rolling(t_steps).mean()\n",
    "# # testData[('temperatures', 'DC_GT301_damped')] = testData[('temperatures', 'DC_GT301_damped')].rolling(t_steps).mean()\n",
    "# # testData[('humidity', 'TA01_GT10X_GM10X')] = testData[('humidity', 'TA01_GT10X_GM10X')].rolling(t_steps).mean()\n",
    "# # testData[('sun', 'gsi')] = testData[('sun', 'gsi')].rolling(t_steps).mean()\n",
    "# testData[('sun', 'gsi_deriv')] = testData[('sun', 'gsi_deriv')].rolling(t_steps).mean()\n",
    "# testData[('state', 'TA01_output')] = testData[('state', 'TA01_output')].rolling(t_steps).max()\n",
    "# # testData[('time', 'minofday')] = testData[('time', 'minofday')].rolling(t_steps).mean()\n",
    "# # testData[('time', 'hourofday')] = testData[('time', 'hourofday')].rolling(t_steps).mean()\n",
    "# # testData[('time', 'dayofyear')] = testData[('time', 'dayofyear')].rolling(t_steps).mean()\n",
    "# # testData[('time', 'monthofyear')] = testData[('time', 'monthofyear')].rolling(t_steps).mean()\n",
    "\n",
    "# testData[('temperatures', 'TA01_GT10X_GM10X')] = testData[('temperatures', 'TA01_GT10X_GM10X')] * (1 - testData[('state', 'TA01_output')])\n",
    "# del testData[('state', 'TA01_output')]\n",
    "\n",
    "# features = testData.iloc[t_steps:].values\n",
    "# targets = targets.iloc[t_steps:].values"
   ]
  },
  {
   "cell_type": "markdown",
   "id": "ed3989e0",
   "metadata": {},
   "source": [
    "### Shuffle and split dataset"
   ]
  },
  {
   "cell_type": "code",
   "execution_count": 148,
   "id": "125d7076",
   "metadata": {},
   "outputs": [],
   "source": [
    "# save sequential seqs, targets for testing\n",
    "features, test_feats  = features[:-8640], features[-8640:]\n",
    "targets, test_targets = targets[:-8640], targets[-8640:]"
   ]
  },
  {
   "cell_type": "code",
   "execution_count": 149,
   "id": "6852f5f2",
   "metadata": {},
   "outputs": [],
   "source": [
    "# get random indices\n",
    "idxs = np.arange(len(targets))\n",
    "np.random.shuffle(idxs)\n",
    "\n",
    "# shuffle sequences and targets\n",
    "features = np.squeeze(features[idxs])\n",
    "targets = np.squeeze(targets[idxs])"
   ]
  },
  {
   "cell_type": "code",
   "execution_count": 150,
   "id": "f46f1ee9",
   "metadata": {},
   "outputs": [],
   "source": [
    "# split data\n",
    "train_n = int(len(targets) * train_frac)\n",
    "\n",
    "X_train, X_test = features[:train_n], features[train_n:]\n",
    "Y_train, Y_test = targets[:train_n], targets[train_n:]"
   ]
  },
  {
   "cell_type": "code",
   "execution_count": 151,
   "id": "6e8938ab",
   "metadata": {},
   "outputs": [],
   "source": [
    "# # delete vars\n",
    "# del sequences, targets"
   ]
  },
  {
   "cell_type": "markdown",
   "id": "cdaeef6e",
   "metadata": {},
   "source": [
    "## Define Gradient Boosting Regressor"
   ]
  },
  {
   "cell_type": "code",
   "execution_count": 154,
   "id": "d74dbdbd",
   "metadata": {},
   "outputs": [],
   "source": [
    "from sklearn import ensemble\n",
    "\n",
    "params = {\n",
    "    'n_estimators': 5000,\n",
    "    'max_depth': 5,\n",
    "    'subsample': 0.5,\n",
    "    'min_samples_split': 10,\n",
    "    'min_samples_leaf': 10,\n",
    "    'learning_rate': 0.01,\n",
    "    'loss': 'squared_error',\n",
    "}"
   ]
  },
  {
   "cell_type": "code",
   "execution_count": 155,
   "id": "2aa15cd5",
   "metadata": {},
   "outputs": [
    {
     "data": {
      "text/plain": [
       "GradientBoostingRegressor(learning_rate=0.01, max_depth=5, min_samples_leaf=10,\n",
       "                          min_samples_split=10, n_estimators=5000,\n",
       "                          subsample=0.5)"
      ]
     },
     "execution_count": 155,
     "metadata": {},
     "output_type": "execute_result"
    }
   ],
   "source": [
    "reg = ensemble.GradientBoostingRegressor(**params)\n",
    "reg.fit(X_train, Y_train)"
   ]
  },
  {
   "cell_type": "code",
   "execution_count": 156,
   "id": "2a7b3e71",
   "metadata": {},
   "outputs": [],
   "source": [
    "preds = reg.predict(test_feats)"
   ]
  },
  {
   "cell_type": "code",
   "execution_count": 157,
   "id": "c4f431c2",
   "metadata": {},
   "outputs": [
    {
     "data": {
      "text/plain": [
       "[<matplotlib.lines.Line2D at 0x19b3b37d460>]"
      ]
     },
     "execution_count": 157,
     "metadata": {},
     "output_type": "execute_result"
    },
    {
     "data": {
      "image/png": "[encoded data removed]",
      "text/plain": [
       "<Figure size 640x480 with 2 Axes>"
      ]
     },
     "metadata": {},
     "output_type": "display_data"
    }
   ],
   "source": [
    "fig, ax1 = plt.subplots()\n",
    "ax1.plot(test_targets[-5000:])\n",
    "\n",
    "ax2 = ax1.twinx()\n",
    "ax2.plot(preds[-5000:], 'r')"
   ]
  },
  {
   "cell_type": "code",
   "execution_count": 163,
   "id": "f87bf81e",
   "metadata": {},
   "outputs": [
    {
     "name": "stdout",
     "output_type": "stream",
     "text": [
      "0\n",
      "1000\n",
      "2000\n",
      "3000\n",
      "4000\n"
     ]
    },
    {
     "ename": "KeyboardInterrupt",
     "evalue": "",
     "output_type": "error",
     "traceback": [
      "\u001b[1;31m---------------------------------------------------------------------------\u001b[0m",
      "\u001b[1;31mKeyboardInterrupt\u001b[0m                         Traceback (most recent call last)",
      "\u001b[1;32m~\\AppData\\Local\\Temp\\ipykernel_35508\\4256002083.py\u001b[0m in \u001b[0;36m<module>\u001b[1;34m\u001b[0m\n\u001b[0;32m      7\u001b[0m \u001b[1;33m\u001b[0m\u001b[0m\n\u001b[0;32m      8\u001b[0m     \u001b[0mexp_feats\u001b[0m\u001b[1;33m[\u001b[0m\u001b[0midx\u001b[0m\u001b[1;33m,\u001b[0m \u001b[1;36m0\u001b[0m\u001b[1;33m]\u001b[0m \u001b[1;33m+=\u001b[0m \u001b[0mnp\u001b[0m\u001b[1;33m.\u001b[0m\u001b[0mrandom\u001b[0m\u001b[1;33m.\u001b[0m\u001b[0mnormal\u001b[0m\u001b[1;33m(\u001b[0m\u001b[0mloc\u001b[0m\u001b[1;33m=\u001b[0m\u001b[1;36m5.5\u001b[0m\u001b[1;33m,\u001b[0m \u001b[0mscale\u001b[0m\u001b[1;33m=\u001b[0m\u001b[1;36m0.01\u001b[0m\u001b[1;33m)\u001b[0m\u001b[1;33m\u001b[0m\u001b[1;33m\u001b[0m\u001b[0m\n\u001b[1;32m----> 9\u001b[1;33m     \u001b[0mpred\u001b[0m \u001b[1;33m=\u001b[0m \u001b[0mreg\u001b[0m\u001b[1;33m.\u001b[0m\u001b[0mpredict\u001b[0m\u001b[1;33m(\u001b[0m\u001b[0mexp_feats\u001b[0m\u001b[1;33m[\u001b[0m\u001b[0midx\u001b[0m\u001b[1;33m]\u001b[0m\u001b[1;33m[\u001b[0m\u001b[0mnp\u001b[0m\u001b[1;33m.\u001b[0m\u001b[0mnewaxis\u001b[0m\u001b[1;33m,\u001b[0m \u001b[1;33m...\u001b[0m\u001b[1;33m]\u001b[0m\u001b[1;33m)\u001b[0m\u001b[1;33m\u001b[0m\u001b[1;33m\u001b[0m\u001b[0m\n\u001b[0m\u001b[0;32m     10\u001b[0m     \u001b[0mpredList\u001b[0m\u001b[1;33m.\u001b[0m\u001b[0mappend\u001b[0m\u001b[1;33m(\u001b[0m\u001b[0mpred\u001b[0m\u001b[1;33m)\u001b[0m\u001b[1;33m\u001b[0m\u001b[1;33m\u001b[0m\u001b[0m\n\u001b[0;32m     11\u001b[0m \u001b[1;33m\u001b[0m\u001b[0m\n",
      "\u001b[1;32m~\\anaconda3\\lib\\site-packages\\sklearn\\ensemble\\_gb.py\u001b[0m in \u001b[0;36mpredict\u001b[1;34m(self, X)\u001b[0m\n\u001b[0;32m   1879\u001b[0m         )\n\u001b[0;32m   1880\u001b[0m         \u001b[1;31m# In regression we can directly return the raw value from the trees.\u001b[0m\u001b[1;33m\u001b[0m\u001b[1;33m\u001b[0m\u001b[0m\n\u001b[1;32m-> 1881\u001b[1;33m         \u001b[1;32mreturn\u001b[0m \u001b[0mself\u001b[0m\u001b[1;33m.\u001b[0m\u001b[0m_raw_predict\u001b[0m\u001b[1;33m(\u001b[0m\u001b[0mX\u001b[0m\u001b[1;33m)\u001b[0m\u001b[1;33m.\u001b[0m\u001b[0mravel\u001b[0m\u001b[1;33m(\u001b[0m\u001b[1;33m)\u001b[0m\u001b[1;33m\u001b[0m\u001b[1;33m\u001b[0m\u001b[0m\n\u001b[0m\u001b[0;32m   1882\u001b[0m \u001b[1;33m\u001b[0m\u001b[0m\n\u001b[0;32m   1883\u001b[0m     \u001b[1;32mdef\u001b[0m \u001b[0mstaged_predict\u001b[0m\u001b[1;33m(\u001b[0m\u001b[0mself\u001b[0m\u001b[1;33m,\u001b[0m \u001b[0mX\u001b[0m\u001b[1;33m)\u001b[0m\u001b[1;33m:\u001b[0m\u001b[1;33m\u001b[0m\u001b[1;33m\u001b[0m\u001b[0m\n",
      "\u001b[1;32m~\\anaconda3\\lib\\site-packages\\sklearn\\ensemble\\_gb.py\u001b[0m in \u001b[0;36m_raw_predict\u001b[1;34m(self, X)\u001b[0m\n\u001b[0;32m    733\u001b[0m     \u001b[1;32mdef\u001b[0m \u001b[0m_raw_predict\u001b[0m\u001b[1;33m(\u001b[0m\u001b[0mself\u001b[0m\u001b[1;33m,\u001b[0m \u001b[0mX\u001b[0m\u001b[1;33m)\u001b[0m\u001b[1;33m:\u001b[0m\u001b[1;33m\u001b[0m\u001b[1;33m\u001b[0m\u001b[0m\n\u001b[0;32m    734\u001b[0m         \u001b[1;34m\"\"\"Return the sum of the trees raw predictions (+ init estimator).\"\"\"\u001b[0m\u001b[1;33m\u001b[0m\u001b[1;33m\u001b[0m\u001b[0m\n\u001b[1;32m--> 735\u001b[1;33m         \u001b[0mraw_predictions\u001b[0m \u001b[1;33m=\u001b[0m \u001b[0mself\u001b[0m\u001b[1;33m.\u001b[0m\u001b[0m_raw_predict_init\u001b[0m\u001b[1;33m(\u001b[0m\u001b[0mX\u001b[0m\u001b[1;33m)\u001b[0m\u001b[1;33m\u001b[0m\u001b[1;33m\u001b[0m\u001b[0m\n\u001b[0m\u001b[0;32m    736\u001b[0m         \u001b[0mpredict_stages\u001b[0m\u001b[1;33m(\u001b[0m\u001b[0mself\u001b[0m\u001b[1;33m.\u001b[0m\u001b[0mestimators_\u001b[0m\u001b[1;33m,\u001b[0m \u001b[0mX\u001b[0m\u001b[1;33m,\u001b[0m \u001b[0mself\u001b[0m\u001b[1;33m.\u001b[0m\u001b[0mlearning_rate\u001b[0m\u001b[1;33m,\u001b[0m \u001b[0mraw_predictions\u001b[0m\u001b[1;33m)\u001b[0m\u001b[1;33m\u001b[0m\u001b[1;33m\u001b[0m\u001b[0m\n\u001b[0;32m    737\u001b[0m         \u001b[1;32mreturn\u001b[0m \u001b[0mraw_predictions\u001b[0m\u001b[1;33m\u001b[0m\u001b[1;33m\u001b[0m\u001b[0m\n",
      "\u001b[1;32m~\\anaconda3\\lib\\site-packages\\sklearn\\ensemble\\_gb.py\u001b[0m in \u001b[0;36m_raw_predict_init\u001b[1;34m(self, X)\u001b[0m\n\u001b[0;32m    726\u001b[0m             )\n\u001b[0;32m    727\u001b[0m         \u001b[1;32melse\u001b[0m\u001b[1;33m:\u001b[0m\u001b[1;33m\u001b[0m\u001b[1;33m\u001b[0m\u001b[0m\n\u001b[1;32m--> 728\u001b[1;33m             raw_predictions = self.loss_.get_init_raw_predictions(X, self.init_).astype(\n\u001b[0m\u001b[0;32m    729\u001b[0m                 \u001b[0mnp\u001b[0m\u001b[1;33m.\u001b[0m\u001b[0mfloat64\u001b[0m\u001b[1;33m\u001b[0m\u001b[1;33m\u001b[0m\u001b[0m\n\u001b[0;32m    730\u001b[0m             )\n",
      "\u001b[1;32m~\\anaconda3\\lib\\site-packages\\sklearn\\ensemble\\_gb_losses.py\u001b[0m in \u001b[0;36mget_init_raw_predictions\u001b[1;34m(self, X, estimator)\u001b[0m\n\u001b[0;32m    192\u001b[0m \u001b[1;33m\u001b[0m\u001b[0m\n\u001b[0;32m    193\u001b[0m     \u001b[1;32mdef\u001b[0m \u001b[0mget_init_raw_predictions\u001b[0m\u001b[1;33m(\u001b[0m\u001b[0mself\u001b[0m\u001b[1;33m,\u001b[0m \u001b[0mX\u001b[0m\u001b[1;33m,\u001b[0m \u001b[0mestimator\u001b[0m\u001b[1;33m)\u001b[0m\u001b[1;33m:\u001b[0m\u001b[1;33m\u001b[0m\u001b[1;33m\u001b[0m\u001b[0m\n\u001b[1;32m--> 194\u001b[1;33m         \u001b[0mpredictions\u001b[0m \u001b[1;33m=\u001b[0m \u001b[0mestimator\u001b[0m\u001b[1;33m.\u001b[0m\u001b[0mpredict\u001b[0m\u001b[1;33m(\u001b[0m\u001b[0mX\u001b[0m\u001b[1;33m)\u001b[0m\u001b[1;33m\u001b[0m\u001b[1;33m\u001b[0m\u001b[0m\n\u001b[0m\u001b[0;32m    195\u001b[0m         \u001b[1;32mreturn\u001b[0m \u001b[0mpredictions\u001b[0m\u001b[1;33m.\u001b[0m\u001b[0mreshape\u001b[0m\u001b[1;33m(\u001b[0m\u001b[1;33m-\u001b[0m\u001b[1;36m1\u001b[0m\u001b[1;33m,\u001b[0m \u001b[1;36m1\u001b[0m\u001b[1;33m)\u001b[0m\u001b[1;33m.\u001b[0m\u001b[0mastype\u001b[0m\u001b[1;33m(\u001b[0m\u001b[0mnp\u001b[0m\u001b[1;33m.\u001b[0m\u001b[0mfloat64\u001b[0m\u001b[1;33m)\u001b[0m\u001b[1;33m\u001b[0m\u001b[1;33m\u001b[0m\u001b[0m\n\u001b[0;32m    196\u001b[0m \u001b[1;33m\u001b[0m\u001b[0m\n",
      "\u001b[1;32m~\\anaconda3\\lib\\site-packages\\sklearn\\dummy.py\u001b[0m in \u001b[0;36mpredict\u001b[1;34m(self, X, return_std)\u001b[0m\n\u001b[0;32m    649\u001b[0m         \u001b[0mn_samples\u001b[0m \u001b[1;33m=\u001b[0m \u001b[0m_num_samples\u001b[0m\u001b[1;33m(\u001b[0m\u001b[0mX\u001b[0m\u001b[1;33m)\u001b[0m\u001b[1;33m\u001b[0m\u001b[1;33m\u001b[0m\u001b[0m\n\u001b[0;32m    650\u001b[0m \u001b[1;33m\u001b[0m\u001b[0m\n\u001b[1;32m--> 651\u001b[1;33m         y = np.full(\n\u001b[0m\u001b[0;32m    652\u001b[0m             \u001b[1;33m(\u001b[0m\u001b[0mn_samples\u001b[0m\u001b[1;33m,\u001b[0m \u001b[0mself\u001b[0m\u001b[1;33m.\u001b[0m\u001b[0mn_outputs_\u001b[0m\u001b[1;33m)\u001b[0m\u001b[1;33m,\u001b[0m\u001b[1;33m\u001b[0m\u001b[1;33m\u001b[0m\u001b[0m\n\u001b[0;32m    653\u001b[0m             \u001b[0mself\u001b[0m\u001b[1;33m.\u001b[0m\u001b[0mconstant_\u001b[0m\u001b[1;33m,\u001b[0m\u001b[1;33m\u001b[0m\u001b[1;33m\u001b[0m\u001b[0m\n",
      "\u001b[1;32m~\\anaconda3\\lib\\site-packages\\numpy\\core\\numeric.py\u001b[0m in \u001b[0;36mfull\u001b[1;34m(shape, fill_value, dtype, order, like)\u001b[0m\n\u001b[0;32m    342\u001b[0m         \u001b[0mdtype\u001b[0m \u001b[1;33m=\u001b[0m \u001b[0mfill_value\u001b[0m\u001b[1;33m.\u001b[0m\u001b[0mdtype\u001b[0m\u001b[1;33m\u001b[0m\u001b[1;33m\u001b[0m\u001b[0m\n\u001b[0;32m    343\u001b[0m     \u001b[0ma\u001b[0m \u001b[1;33m=\u001b[0m \u001b[0mempty\u001b[0m\u001b[1;33m(\u001b[0m\u001b[0mshape\u001b[0m\u001b[1;33m,\u001b[0m \u001b[0mdtype\u001b[0m\u001b[1;33m,\u001b[0m \u001b[0morder\u001b[0m\u001b[1;33m)\u001b[0m\u001b[1;33m\u001b[0m\u001b[1;33m\u001b[0m\u001b[0m\n\u001b[1;32m--> 344\u001b[1;33m     \u001b[0mmultiarray\u001b[0m\u001b[1;33m.\u001b[0m\u001b[0mcopyto\u001b[0m\u001b[1;33m(\u001b[0m\u001b[0ma\u001b[0m\u001b[1;33m,\u001b[0m \u001b[0mfill_value\u001b[0m\u001b[1;33m,\u001b[0m \u001b[0mcasting\u001b[0m\u001b[1;33m=\u001b[0m\u001b[1;34m'unsafe'\u001b[0m\u001b[1;33m)\u001b[0m\u001b[1;33m\u001b[0m\u001b[1;33m\u001b[0m\u001b[0m\n\u001b[0m\u001b[0;32m    345\u001b[0m     \u001b[1;32mreturn\u001b[0m \u001b[0ma\u001b[0m\u001b[1;33m\u001b[0m\u001b[1;33m\u001b[0m\u001b[0m\n\u001b[0;32m    346\u001b[0m \u001b[1;33m\u001b[0m\u001b[0m\n",
      "\u001b[1;32m<__array_function__ internals>\u001b[0m in \u001b[0;36mcopyto\u001b[1;34m(*args, **kwargs)\u001b[0m\n",
      "\u001b[1;31mKeyboardInterrupt\u001b[0m: "
     ]
    }
   ],
   "source": [
    "exp_feats = test_feats.copy()\n",
    "predList = []\n",
    "for idx, feat in enumerate(exp_feats):\n",
    "    \n",
    "    if idx % 1000 == 0:\n",
    "        print(idx)\n",
    "    \n",
    "    exp_feats[idx, 0] += np.random.normal(loc=5.5, scale=0.01)\n",
    "    pred = reg.predict(exp_feats[idx][np.newaxis, ...])\n",
    "    predList.append(pred)\n",
    "    \n",
    "    exp_feats[idx, 1] = pred\n",
    "    "
   ]
  },
  {
   "cell_type": "code",
   "execution_count": 164,
   "id": "304faaa3",
   "metadata": {},
   "outputs": [
    {
     "data": {
      "text/plain": [
       "[<matplotlib.lines.Line2D at 0x19b26f6e760>]"
      ]
     },
     "execution_count": 164,
     "metadata": {},
     "output_type": "execute_result"
    },
    {
     "data": {
      "image/png": "[encoded data removed]",
      "text/plain": [
       "<Figure size 640x480 with 1 Axes>"
      ]
     },
     "metadata": {},
     "output_type": "display_data"
    }
   ],
   "source": [
    "plt.plot(predList[:1000], 'b')\n",
    "plt.plot(preds[:1000], 'r')"
   ]
  },
  {
   "cell_type": "markdown",
   "id": "6902451d",
   "metadata": {},
   "source": [
    "## Define model (NN)"
   ]
  },
  {
   "cell_type": "code",
   "execution_count": null,
   "id": "9ef8eb24",
   "metadata": {},
   "outputs": [],
   "source": [
    "# layerList = [\n",
    "#     layers.Input(shape=(\n",
    "#         X_train.shape[1],\n",
    "# #         X_train.shape[2]\n",
    "#     )),\n",
    "#     layers.BatchNormalization(),\n",
    "#     #layers.Dropout(rate=0.2),\n",
    "#     layers.Dense(\n",
    "#         units=512,\n",
    "#         activation='relu',\n",
    "#         activity_regularizer='l2'\n",
    "#     ),\n",
    "#     layers.BatchNormalization(),\n",
    "#     layers.Dropout(rate=0.5),\n",
    "#     layers.Dense(\n",
    "#         units=512,\n",
    "#         activation='relu',\n",
    "#         activity_regularizer='l2'\n",
    "#     ),\n",
    "#     layers.BatchNormalization(),\n",
    "#     layers.Dropout(rate=0.5),\n",
    "#     layers.Dense(\n",
    "#         units=512,\n",
    "#         activation='relu',\n",
    "#         activity_regularizer='l2'\n",
    "#     ),\n",
    "#     layers.BatchNormalization(),\n",
    "#     layers.Dropout(rate=0.5),\n",
    "#     layers.Dense(\n",
    "#         units=1,\n",
    "#         activation=None,\n",
    "#         activity_regularizer='l2'\n",
    "#     )\n",
    "# ]"
   ]
  },
  {
   "cell_type": "code",
   "execution_count": null,
   "id": "a084f824",
   "metadata": {},
   "outputs": [],
   "source": [
    "# # lr = 0.005\n",
    "# lr = 0.001\n",
    "# model = tf.keras.models.Sequential(layers=layerList, name='model')\n",
    "# model.compile(optimizer=tf.keras.optimizers.Adam(learning_rate=lr), loss=\"mse\")\n",
    "# model.summary()"
   ]
  },
  {
   "cell_type": "code",
   "execution_count": null,
   "id": "1a78798f",
   "metadata": {
    "scrolled": false
   },
   "outputs": [],
   "source": [
    "# trainHist = model.fit(\n",
    "#     X_train,\n",
    "#     Y_train,\n",
    "#     epochs=40,\n",
    "#     batch_size=128,\n",
    "#     validation_split=0.2,\n",
    "#     callbacks=[\n",
    "#         tf.keras.callbacks.EarlyStopping(monitor=\"val_loss\", patience=5, mode=\"min\"),\n",
    "# #         tf.keras.callbacks.LearningRateScheduler(lambda epoch: lr * (0.9 ** epoch))\n",
    "#     ],\n",
    "# )"
   ]
  },
  {
   "cell_type": "code",
   "execution_count": null,
   "id": "ac563a02",
   "metadata": {
    "scrolled": true
   },
   "outputs": [],
   "source": [
    "# model_name = 'temp_model_v1'\n",
    "# model.save(save_path + model_name)"
   ]
  },
  {
   "cell_type": "code",
   "execution_count": null,
   "id": "9bee5ae2",
   "metadata": {},
   "outputs": [],
   "source": [
    "# model = tf.keras.models.load_model(save_path + 'temp_model_v6')"
   ]
  },
  {
   "cell_type": "code",
   "execution_count": null,
   "id": "de5a20b1",
   "metadata": {},
   "outputs": [],
   "source": [
    "# preds = model.predict(X_test)\n",
    "# vis_preds = model.predict(test_feats)"
   ]
  },
  {
   "cell_type": "code",
   "execution_count": null,
   "id": "daafc959",
   "metadata": {},
   "outputs": [],
   "source": [
    "# test_mae = np.abs(np.squeeze(preds) - Y_test) \n",
    "# temp_diffs = test_mae# * temp_std"
   ]
  },
  {
   "cell_type": "code",
   "execution_count": null,
   "id": "11176323",
   "metadata": {},
   "outputs": [],
   "source": [
    "# diff_df = pd.DataFrame(temp_diffs)\n",
    "\n",
    "# sns.histplot(\n",
    "#     data=diff_df,\n",
    "#     stat='count',\n",
    "#     binwidth=0.01,\n",
    "#     binrange=[0, 2.0],\n",
    "#     kde=False,\n",
    "#     palette='bright',\n",
    "#     legend=False\n",
    "# )\n",
    "\n",
    "# plt.title('Distribution of MAE for 10-minute forward predictions')\n",
    "# plt.xlim(0, 2.0)\n",
    "# plt.xlabel('Temperature error, $^\\circ$C')\n",
    "\n",
    "# #plt.savefig(plot_path + 'temp_error_dist.png', bbox_inches='tight', dpi=200)\n",
    "# plt.show()"
   ]
  },
  {
   "cell_type": "code",
   "execution_count": null,
   "id": "ece2e592",
   "metadata": {
    "scrolled": false
   },
   "outputs": [],
   "source": [
    "# plt.plot(\n",
    "#     test_targets,# * temp_std + temp_mean,\n",
    "#     c='b',\n",
    "#     alpha=0.6,\n",
    "#     linewidth=2.5,\n",
    "#     label='Real'\n",
    "# )\n",
    "\n",
    "# plt.plot(\n",
    "#     np.squeeze(vis_preds),# * temp_std + temp_mean,\n",
    "#     c='r',\n",
    "#     alpha=0.8,\n",
    "#     linewidth=1.5,\n",
    "#     label='Predicted'\n",
    "# )\n",
    "\n",
    "# plt.ylabel('Temperature, $^\\circ$C')\n",
    "# plt.xlabel('Steps, $t$')\n",
    "# plt.legend(loc='upper left')\n",
    "# plt.title('Temperature - 10-minute forward predictions')\n",
    "\n",
    "# #plt.ylim(15, 30)\n",
    "# plt.xlim(0, len(vis_preds))\n",
    "\n",
    "# #plt.savefig(plot_path + 'temp_preds_10min.png', bbox_inches='tight', dpi=200)\n",
    "\n",
    "# plt.show()"
   ]
  },
  {
   "cell_type": "code",
   "execution_count": null,
   "id": "919b2b21",
   "metadata": {
    "scrolled": false
   },
   "outputs": [],
   "source": [
    "# fig, ax1 = plt.subplots()\n",
    "\n",
    "# ax1.plot(test_targets[-600:])\n",
    "# ax1.plot(np.squeeze(vis_preds)[-600:])\n",
    "\n",
    "# ax2 = ax1.twinx()\n",
    "# ax2.plot(testData.flow.TA01_GP101.values[-600:], 'r')"
   ]
  },
  {
   "cell_type": "code",
   "execution_count": null,
   "id": "56a44499",
   "metadata": {},
   "outputs": [],
   "source": [
    "exp_feats = test_feats.copy()\n",
    "exp_feats[:, 0] += 2.0\n",
    "vis_preds2 = model.predict(exp_feats)"
   ]
  },
  {
   "cell_type": "code",
   "execution_count": null,
   "id": "c1248da2",
   "metadata": {
    "scrolled": false
   },
   "outputs": [],
   "source": [
    "plt.plot(vis_preds)\n",
    "plt.plot(vis_preds2)"
   ]
  },
  {
   "cell_type": "code",
   "execution_count": null,
   "id": "6349952a",
   "metadata": {},
   "outputs": [],
   "source": [
    "print(np.corrcoef(test_targets, np.squeeze(vis_preds)))\n",
    "print(np.corrcoef(Y_test, np.squeeze(preds)))"
   ]
  },
  {
   "cell_type": "code",
   "execution_count": null,
   "id": "519ca215",
   "metadata": {},
   "outputs": [],
   "source": []
  }
 ],
 "metadata": {
  "kernelspec": {
   "display_name": "Python 3 (ipykernel)",
   "language": "python",
   "name": "python3"
  },
  "language_info": {
   "codemirror_mode": {
    "name": "ipython",
    "version": 3
   },
   "file_extension": ".py",
   "mimetype": "text/x-python",
   "name": "python",
   "nbconvert_exporter": "python",
   "pygments_lexer": "ipython3",
   "version": "3.9.13"
  }
 },
 "nbformat": 4,
 "nbformat_minor": 5
}
