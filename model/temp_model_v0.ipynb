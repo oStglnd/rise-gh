{
 "cells": [
  {
   "cell_type": "markdown",
   "id": "3c35d1cc",
   "metadata": {},
   "source": [
    "# Short-term Temperature Model Test"
   ]
  },
  {
   "cell_type": "markdown",
   "id": "195db0c9",
   "metadata": {},
   "source": [
    "## Import dependencies and data"
   ]
  },
  {
   "cell_type": "code",
   "execution_count": 1,
   "id": "77453a55",
   "metadata": {},
   "outputs": [],
   "source": [
    "# import dependencies\n",
    "import os\n",
    "import json\n",
    "import pandas as pd\n",
    "\n",
    "import matplotlib.pyplot as plt\n",
    "import seaborn as sns\n",
    "\n",
    "import numpy as np\n",
    "import tensorflow as tf\n",
    "\n",
    "from tensorflow.keras import layers, Model\n",
    "from scipy.fftpack import fft, ifft, fftfreq"
   ]
  },
  {
   "cell_type": "code",
   "execution_count": 2,
   "id": "b5dee1ac",
   "metadata": {},
   "outputs": [],
   "source": [
    "# define relevant paths\n",
    "home_path = os.path.dirname(os.getcwd())\n",
    "data_path = home_path + '\\\\data\\\\'\n",
    "plot_path = home_path + '\\\\plotting\\\\plots\\\\'\n",
    "save_path = home_path + '\\\\model\\\\saved\\\\'"
   ]
  },
  {
   "cell_type": "code",
   "execution_count": 518,
   "id": "a747b251",
   "metadata": {},
   "outputs": [],
   "source": [
    "# get merged data\n",
    "data = pd.read_csv(\n",
    "    data_path + 'data_merged.csv',\n",
    "    header=[0, 1],\n",
    "    index_col=[0, 1, 2, 3, 4]\n",
    ")\n",
    "\n",
    "# convert index.date col to datetime\n",
    "#data.index = pd.to_datetime(data.index.values)\n",
    "data.loc[:, ('time', 'date')] = pd.to_datetime(data.time.date)"
   ]
  },
  {
   "cell_type": "code",
   "execution_count": 519,
   "id": "b0f46624",
   "metadata": {},
   "outputs": [],
   "source": [
    "# define X vars\n",
    "x_vars = [\n",
    "    ('flow', 'TA01_GP101'),\n",
    "    ('flow', 'TA02_GP101'),\n",
    "    ('state', 'TA01_output'),\n",
    "    ('state', 'TA02_output'),\n",
    "    ('temperatures', 'TA01_GT10X_GM10X'),\n",
    "    ('temperatures', 'DC_GT101_GM101'),\n",
    "    ('temperatures', 'DC_GT102_GM102'),\n",
    "    ('temperatures', 'DC_GT103_GM103'),\n",
    "    ('temperatures', 'DC_GT104_GM104'),\n",
    "    ('temperatures', 'DC_GT401_GM401'),\n",
    "    ('temperatures', 'TA01_GT401_GM401'),\n",
    "    ('temperatures', 'TA02_GT401_GM401'),\n",
    "    ('temperatures', 'DC_GT301_damped'),\n",
    "    ('temperatures', 'DC_GT301_outdoor'),\n",
    "    ('humidity', 'TA01_GT10X_GM10X'),\n",
    "    ('humidity', 'DC_GT101_GM101'),\n",
    "    ('humidity', 'DC_GT102_GM102'),\n",
    "    ('humidity', 'DC_GT103_GM103'),\n",
    "    ('humidity', 'DC_GT104_GM104'),\n",
    "    ('humidity', 'DC_GT401_GM401'),\n",
    "    ('setpoints', 'TA01_GT10X_GM10X'),\n",
    "    ('sun', 'gsi'),\n",
    "    ('sun', 'gsi_deriv'),\n",
    "    ('sun', 'vol'),\n",
    "    ('sun', 'vol_deriv'),\n",
    "    ('wind', 'Wx'),\n",
    "    ('wind', 'Wy'),\n",
    "    ('time', 'dayofyear'),\n",
    "    ('time', 'monthofyear'),\n",
    "    ('time', 'minofday'),\n",
    "    ('time', 'hourofday')\n",
    "]\n",
    "\n",
    "# filter columns to keep only x_vars\n",
    "data = data[x_vars].copy()"
   ]
  },
  {
   "cell_type": "markdown",
   "id": "33ae9eb6",
   "metadata": {},
   "source": [
    "## Describe Df"
   ]
  },
  {
   "cell_type": "code",
   "execution_count": 520,
   "id": "be306b52",
   "metadata": {},
   "outputs": [
    {
     "name": "stdout",
     "output_type": "stream",
     "text": [
      "Number of NAs\n",
      "\n",
      "category      sensor_ID       \n",
      "flow          TA01_GP101          13\n",
      "              TA02_GP101          11\n",
      "state         TA01_output         15\n",
      "              TA02_output         14\n",
      "temperatures  TA01_GT10X_GM10X    14\n",
      "              DC_GT101_GM101      12\n",
      "              DC_GT102_GM102      12\n",
      "              DC_GT103_GM103      11\n",
      "              DC_GT104_GM104      11\n",
      "              DC_GT401_GM401      13\n",
      "              TA01_GT401_GM401    13\n",
      "              TA02_GT401_GM401    12\n",
      "              DC_GT301_damped     12\n",
      "              DC_GT301_outdoor    12\n",
      "humidity      TA01_GT10X_GM10X    15\n",
      "              DC_GT101_GM101      12\n",
      "              DC_GT102_GM102      12\n",
      "              DC_GT103_GM103      12\n",
      "              DC_GT104_GM104      10\n",
      "              DC_GT401_GM401      14\n",
      "setpoints     TA01_GT10X_GM10X    14\n",
      "sun           gsi                  3\n",
      "              gsi_deriv            3\n",
      "              vol                  3\n",
      "              vol_deriv            3\n",
      "wind          Wx                   3\n",
      "              Wy                   3\n",
      "time          dayofyear            3\n",
      "              monthofyear          3\n",
      "              minofday             3\n",
      "              hourofday            3\n",
      "dtype: int64\n",
      "\n",
      "\n",
      "\n"
     ]
    }
   ],
   "source": [
    "# print number of NAs\n",
    "print('Number of NAs\\n')\n",
    "print(data.isna().sum())\n",
    "print('\\n\\n')"
   ]
  },
  {
   "cell_type": "code",
   "execution_count": 521,
   "id": "4da9d182",
   "metadata": {},
   "outputs": [],
   "source": [
    "# remove single NAN\n",
    "data = data.dropna(how='any')"
   ]
  },
  {
   "cell_type": "markdown",
   "id": "c94d1e21",
   "metadata": {},
   "source": [
    "### Remove (clearly) erroneous measurements"
   ]
  },
  {
   "cell_type": "code",
   "execution_count": 522,
   "id": "2342d8af",
   "metadata": {},
   "outputs": [],
   "source": [
    "cols = [\n",
    "    'DC_GT101_GM101',\n",
    "    'DC_GT102_GM102',\n",
    "    'DC_GT103_GM103',\n",
    "    'DC_GT104_GM104'\n",
    "]\n",
    "\n",
    "for col in cols:\n",
    "    data[('flag', col)] = ((data.temperatures[col] - data.temperatures[col].shift(1)) < -1) \\\n",
    "                            & ((data.humidity[col] - data.humidity[col].shift(1)) > 5)\n",
    "\n",
    "    hrs = data.groupby(['month', 'day', 'hour']).sum()[('flag', col)] > 0\n",
    "    hrsDrop = hrs[hrs == 1].index.values\n",
    "    mask = np.array([hrs not in list(hrsDrop) for hrs in data.index.droplevel(-1).values])\n",
    "    data = data[mask]"
   ]
  },
  {
   "cell_type": "markdown",
   "id": "dc13d994",
   "metadata": {},
   "source": [
    "### Reduce to 5-min intervals"
   ]
  },
  {
   "cell_type": "code",
   "execution_count": 523,
   "id": "cae855d2",
   "metadata": {},
   "outputs": [],
   "source": [
    "# # reduce to one OBS per 5 MIN (take average of 10 OBS)\n",
    "idxObj = zip(\n",
    "    data.index.get_level_values(0),\n",
    "    data.index.get_level_values(1),\n",
    "    data.index.get_level_values(2),\n",
    "    data.index.get_level_values(3) // 5\n",
    ")\n",
    "\n",
    "index = pd.MultiIndex.from_tuples(\n",
    "    tuples=idxObj,\n",
    "    names=['month', 'day', 'hour', 'minute']\n",
    ")\n",
    "data.index = index\n",
    "data = data.groupby(['month', 'day', 'hour', 'minute'], sort=False).mean()"
   ]
  },
  {
   "cell_type": "markdown",
   "id": "3424585c",
   "metadata": {},
   "source": [
    "# Feature engineering"
   ]
  },
  {
   "cell_type": "markdown",
   "id": "a15ace44",
   "metadata": {},
   "source": [
    "## Split TRAIN / TEST"
   ]
  },
  {
   "cell_type": "code",
   "execution_count": 524,
   "id": "85f830c8",
   "metadata": {},
   "outputs": [],
   "source": [
    "## Randomly select days for trainin and testing\n",
    "#days = data.groupby(['month', 'day']).count().index.values\n",
    "\n",
    "# get number of days f. testing / training\n",
    "train_frac = 0.9\n",
    "train_n = int(len(days) * train_frac)\n",
    "test_n = len(days) - train_n\n",
    "\n",
    "# split dataset\n",
    "#np.random.shuffle(days)\n",
    "mask = np.array([day in list(days[:train_n]) for day in data.index.droplevel(-1).droplevel(-1).values])\n",
    "data_train = data.loc[mask].copy()\n",
    "data_test = data.loc[~mask].copy()\n",
    "\n",
    "# del data"
   ]
  },
  {
   "cell_type": "markdown",
   "id": "57f0a251",
   "metadata": {},
   "source": [
    "## NOISE reduction"
   ]
  },
  {
   "cell_type": "markdown",
   "id": "adf11468",
   "metadata": {},
   "source": [
    "### FFT f. TRAIN data"
   ]
  },
  {
   "cell_type": "code",
   "execution_count": 525,
   "id": "70ae2b3f",
   "metadata": {},
   "outputs": [],
   "source": [
    "# cols = [\n",
    "# #     ('temperatures', 'DC_GT102_GM102'),\n",
    "#     ('temperatures', 'DC_GT103_GM103'),\n",
    "#     ('temperatures', 'DC_GT104_GM104'),\n",
    "#     ('temperatures', 'DC_GT401_GM401'),\n",
    "# #     ('temperatures', 'TA01_GT401_GM401'),\n",
    "# #     ('temperatures', 'DC_GT301_outdoor'),\n",
    "# #     ('temperatures', 'DC_GT301_damped'),\n",
    "#     ('humidity', 'DC_GT102_GM102'),\n",
    "#     ('humidity', 'DC_GT103_GM103'),\n",
    "#     ('humidity', 'DC_GT104_GM104'),\n",
    "# ]\n",
    "\n",
    "# for col in cols:\n",
    "# #     sig_fft = fft(data.humidity[col].values)\n",
    "#     sig_fft = fft(data_train[col].values)\n",
    "#     sig_fft_filtered = sig_fft.copy()\n",
    "#     sig_fft_noise = sig_fft.copy()\n",
    "    \n",
    "#     #\n",
    "#     freq = fftfreq(len(data_train), d=1/10)\n",
    "#     cut_off = 1\n",
    "    \n",
    "#     sig_fft_filtered[np.abs(freq) > cut_off] = 0\n",
    "#     sig_fft_noise[np.abs(freq) <= cut_off] = 0\n",
    "    \n",
    "#     # get the filtered signal in time domain\n",
    "#     filtered = ifft(sig_fft_filtered)\n",
    "#     noise = ifft(sig_fft_noise)\n",
    "    \n",
    "# #     plt.plot(data_train[col].values[-20:])\n",
    "# #     plt.plot(filtered[-20:])\n",
    "# #     plt.show()\n",
    "# #     break\n",
    "    \n",
    "#     # put in data\n",
    "# #     data.humidity.loc[:, col + '_noise'] = data.humidity[col]\n",
    "#     data_train.loc[:, col] = filtered.astype('float64')"
   ]
  },
  {
   "cell_type": "code",
   "execution_count": 526,
   "id": "94cdf105",
   "metadata": {},
   "outputs": [],
   "source": [
    "# cols = [\n",
    "#     (('temperatures', 'DC_GT102_GM102'), 4),\n",
    "#     (('temperatures', 'DC_GT103_GM103'), 4),\n",
    "#     (('temperatures', 'DC_GT104_GM104'), 4),\n",
    "#     (('temperatures', 'DC_GT401_GM401'), 4), #3),\n",
    "#     (('temperatures', 'TA01_GT401_GM401'), 4), #3),\n",
    "#     (('temperatures', 'DC_GT301_outdoor'), 4),\n",
    "#     (('temperatures', 'DC_GT301_damped'), 4),\n",
    "#     (('humidity', 'DC_GT102_GM102'), 4),\n",
    "#     (('humidity', 'DC_GT103_GM103'), 4),\n",
    "#     (('humidity', 'DC_GT104_GM104'), 4),\n",
    "# ]\n",
    "\n",
    "# for colSpec in cols:\n",
    "#     for day in data_train.groupby(['month', 'day']).count().index.values:\n",
    "#         # apply KALMAN filter to measurements\n",
    "#         col = colSpec[0]\n",
    "#         varExp = colSpec[-1]\n",
    "\n",
    "#         # get data\n",
    "#         X = data_train.loc[day, col].values\n",
    "#         n = len(X)\n",
    "\n",
    "#         # process variance, measurement variance\n",
    "#         Q = 1e-5\n",
    "#         R = 0.1**varExp\n",
    "\n",
    "#         xhat=np.zeros(n)      # a posteri estimate of x\n",
    "#         P=np.zeros(n)         # a posteri error estimate\n",
    "#         xhatminus=np.zeros(n) # a priori estimate of x\n",
    "#         Pminus=np.zeros(n)    # a priori error estimate\n",
    "#         K=np.zeros(n)         # gain or blending factor\n",
    "\n",
    "#         # intial guesses\n",
    "#         xhat[0] = X[0]\n",
    "#         P[0] = 1\n",
    "\n",
    "#         for k in range(1,n):\n",
    "#             # time update\n",
    "#             xhatminus[k] = xhat[k-1]\n",
    "#             Pminus[k] = P[k-1]+Q\n",
    "\n",
    "#             # measurement update\n",
    "#             K[k] = Pminus[k]/( Pminus[k]+R )\n",
    "#             xhat[k] = xhatminus[k]+K[k]*(X[k]-xhatminus[k])\n",
    "#             P[k] = (1-K[k])*Pminus[k]\n",
    "\n",
    "#         data_train.loc[day, col] = xhat"
   ]
  },
  {
   "cell_type": "code",
   "execution_count": 527,
   "id": "8c7adb7f",
   "metadata": {},
   "outputs": [],
   "source": [
    "### create \"better\" estimate of temperature var, w. proper avg.\n",
    "data_train[('temperatures', 'TA01_GT10X_GM10X')] = data_train.temperatures[[\n",
    "    # ('DC_GT102_GM101'),\n",
    "    ('DC_GT102_GM102'), \n",
    "    ('DC_GT103_GM103'), \n",
    "    ('DC_GT104_GM104')\n",
    "]].values.mean(axis=1)\n",
    "\n",
    "# adjust for setpoint change\n",
    "data_train[('temperatures', 'TA01_GT10X_GM10X')] += (20.0 - data_train[('setpoints', 'TA01_GT10X_GM10X')])"
   ]
  },
  {
   "cell_type": "code",
   "execution_count": 528,
   "id": "00bd1ba4",
   "metadata": {},
   "outputs": [],
   "source": [
    "### create \"better\" estimate of humidity var, w. proper avg.\n",
    "data_train[('humidity', 'TA01_GT10X_GM10X')] = data_train.humidity[[\n",
    "    # ('DC_GT102_GM101'),\n",
    "    ('DC_GT102_GM102'), \n",
    "    ('DC_GT103_GM103'), \n",
    "    ('DC_GT104_GM104')\n",
    "]].values.mean(axis=1)"
   ]
  },
  {
   "cell_type": "markdown",
   "id": "3d5ae9bc",
   "metadata": {},
   "source": [
    "### KALMAN f. TEST data"
   ]
  },
  {
   "cell_type": "code",
   "execution_count": 529,
   "id": "350a57a0",
   "metadata": {},
   "outputs": [
    {
     "name": "stderr",
     "output_type": "stream",
     "text": [
      "C:\\Users\\Oskar\\AppData\\Local\\Temp\\ipykernel_1660\\4279328215.py:21: PerformanceWarning: indexing past lexsort depth may impact performance.\n",
      "  X = data_test.loc[day, col].values\n",
      "C:\\Users\\Oskar\\AppData\\Local\\Temp\\ipykernel_1660\\4279328215.py:48: PerformanceWarning: indexing past lexsort depth may impact performance.\n",
      "  data_test.loc[day, col] = xhat\n"
     ]
    }
   ],
   "source": [
    "cols = [\n",
    "    (('temperatures', 'DC_GT102_GM102'), 4),\n",
    "    (('temperatures', 'DC_GT103_GM103'), 4),\n",
    "    (('temperatures', 'DC_GT104_GM104'), 4),\n",
    "    (('temperatures', 'DC_GT401_GM401'), 3), #3),\n",
    "    (('temperatures', 'TA01_GT401_GM401'), 3), #3),\n",
    "    (('temperatures', 'DC_GT301_outdoor'), 4),\n",
    "    (('temperatures', 'DC_GT301_damped'), 4),\n",
    "    (('humidity', 'DC_GT102_GM102'), 4),\n",
    "    (('humidity', 'DC_GT103_GM103'), 4),\n",
    "    (('humidity', 'DC_GT104_GM104'), 4),\n",
    "]\n",
    "\n",
    "for colSpec in cols:\n",
    "    for day in data_test.groupby(['month', 'day']).count().index.values:\n",
    "        # apply KALMAN filter to measurements\n",
    "        col = colSpec[0]\n",
    "        varExp = colSpec[-1]\n",
    "\n",
    "        # get data\n",
    "        X = data_test.loc[day, col].values\n",
    "        n = len(X)\n",
    "\n",
    "        # process variance, measurement variance\n",
    "        Q = 1e-5\n",
    "        R = 0.1**varExp\n",
    "\n",
    "        xhat=np.zeros(n)      # a posteri estimate of x\n",
    "        P=np.zeros(n)         # a posteri error estimate\n",
    "        xhatminus=np.zeros(n) # a priori estimate of x\n",
    "        Pminus=np.zeros(n)    # a priori error estimate\n",
    "        K=np.zeros(n)         # gain or blending factor\n",
    "\n",
    "        # intial guesses\n",
    "        xhat[0] = X[0]\n",
    "        P[0] = 1\n",
    "\n",
    "        for k in range(1,n):\n",
    "            # time update\n",
    "            xhatminus[k] = xhat[k-1]\n",
    "            Pminus[k] = P[k-1]+Q\n",
    "\n",
    "            # measurement update\n",
    "            K[k] = Pminus[k]/( Pminus[k]+R )\n",
    "            xhat[k] = xhatminus[k]+K[k]*(X[k]-xhatminus[k])\n",
    "            P[k] = (1-K[k])*Pminus[k]\n",
    "\n",
    "        data_test.loc[day, col] = xhat"
   ]
  },
  {
   "cell_type": "code",
   "execution_count": 530,
   "id": "847d0145",
   "metadata": {},
   "outputs": [],
   "source": [
    "### create \"better\" estimate of temperature var, w. proper avg.\n",
    "data_test[('temperatures', 'TA01_GT10X_GM10X')] = data_test.temperatures[[\n",
    "    # ('DC_GT102_GM101'),\n",
    "    ('DC_GT102_GM102'), \n",
    "    ('DC_GT103_GM103'), \n",
    "    ('DC_GT104_GM104')\n",
    "]].values.mean(axis=1)\n",
    "\n",
    "\n",
    "# adjust for setpoint change\n",
    "data_test[('temperatures', 'TA01_GT10X_GM10X')] += (20.0 - data_test[('setpoints', 'TA01_GT10X_GM10X')])"
   ]
  },
  {
   "cell_type": "code",
   "execution_count": 531,
   "id": "311888b5",
   "metadata": {},
   "outputs": [],
   "source": [
    "### create \"better\" estimate of humidity var, w. proper avg.\n",
    "data_test[('humidity', 'TA01_GT10X_GM10X')] = data_test.humidity[[\n",
    "    # ('DC_GT102_GM101'),\n",
    "    ('DC_GT102_GM102'), \n",
    "    ('DC_GT103_GM103'), \n",
    "    ('DC_GT104_GM104')\n",
    "]].values.mean(axis=1)"
   ]
  },
  {
   "cell_type": "markdown",
   "id": "421cd4b2",
   "metadata": {},
   "source": [
    "### Normalization"
   ]
  },
  {
   "cell_type": "code",
   "execution_count": 532,
   "id": "17b6ad6a",
   "metadata": {},
   "outputs": [],
   "source": [
    "# Define model variables\n",
    "model_vars = [\n",
    "#     ('state', 'TA01_output'),\n",
    "#     ('state', 'TA02_output'),\n",
    "    ('flow', 'TA01_GP101'),\n",
    "    ('flow', 'TA02_GP101'),\n",
    "    ('temperatures', 'TA01_GT10X_GM10X'),\n",
    "    ('temperatures', 'DC_GT401_GM401'),\n",
    "    ('temperatures', 'TA01_GT401_GM401'),\n",
    "    ('temperatures', 'DC_GT301_damped'),\n",
    "#     ('humidity', 'TA01_GT10X_GM10X'),\n",
    "    ('sun', 'gsi'),\n",
    "    ('sun', 'gsi_deriv'),\n",
    "#     ('sun', 'vol'),\n",
    "#     ('sun', 'vol_deriv'),\n",
    "#     ('wind', 'Wx'),\n",
    "#     ('wind', 'Wy'),\n",
    "    ('time', 'minofday'),\n",
    "]\n",
    "\n",
    "# filter data\n",
    "data_train = data_train[model_vars].copy()\n",
    "data_test = data_test[model_vars].copy()"
   ]
  },
  {
   "cell_type": "code",
   "execution_count": 533,
   "id": "c9b572ac",
   "metadata": {},
   "outputs": [],
   "source": [
    "col_params = {}\n",
    "for col in data_train.columns:\n",
    "    cat, var = col\n",
    "    \n",
    "#     if cat == 'temperatures' and var == 'TA01_GT10X_GM10X':\n",
    "#         continue\n",
    "    \n",
    "    # normalize\n",
    "    mean = data_train[col].mean()\n",
    "    std = data_train[col].std()\n",
    "    \n",
    "    data_train[col] = (data_train[col] - mean) / std\n",
    "    data_test[col] = (data_test[col] - mean) / std\n",
    "    \n",
    "#     # make positive\n",
    "#     min_val = data_train[col].min()\n",
    "#     data_train[col] = data_train[col] + abs(min(0, min_val))\n",
    "#     min_val = max(0, min_val)\n",
    "#     max_val = data_train[col].max()\n",
    "#     data_train[col] = (data_train[col] - min_val) / (max_val - min_val)\n",
    "    \n",
    "#     data_test[col] = data_test[col] + abs(min(0, min_val))\n",
    "#     data_test[col] = (data_test[col] - min_val) / (max_val - min_val)\n",
    "#     data_test[col] = data_test[col].apply(lambda val: max(min(val, 1.0), 0.0))\n",
    "    \n",
    "    col_params[col] = {\n",
    "        'mean':mean,\n",
    "        'std':std,\n",
    "#         'max':max_val,\n",
    "#         'min':min_val\n",
    "    }"
   ]
  },
  {
   "cell_type": "markdown",
   "id": "70925b7a",
   "metadata": {},
   "source": [
    "## Data preparation"
   ]
  },
  {
   "cell_type": "code",
   "execution_count": 534,
   "id": "97925877",
   "metadata": {},
   "outputs": [],
   "source": [
    "t_steps = 1    # 5 x 2 = 10-min predictions\n",
    "n_steps = 12   # 5 x 12 = 60-min backwards look\n",
    "\n",
    "train_frac = 0.9"
   ]
  },
  {
   "cell_type": "code",
   "execution_count": 535,
   "id": "f3389acf",
   "metadata": {},
   "outputs": [],
   "source": [
    "# targets_train = data_train.pop(('temperatures', 'TA01_GT10X_GM10X')).copy()\n",
    "targets_train = data_train[('temperatures', 'TA01_GT10X_GM10X')].copy()\n",
    "# targets_train = (targets_train - targets_train.shift(t_steps)) * 10\n",
    "\n",
    "# targets_test = data_test.pop(('temperatures', 'TA01_GT10X_GM10X')).copy()\n",
    "targets_test = data_test[('temperatures', 'TA01_GT10X_GM10X')].copy()\n",
    "# targets_test = (targets_test - targets_test.shift(t_steps)) * 10"
   ]
  },
  {
   "cell_type": "code",
   "execution_count": 536,
   "id": "0a34d479",
   "metadata": {},
   "outputs": [],
   "source": [
    "# ## add noise to temperature measurements\n",
    "data_train[('temperatures', 'TA01_GT10X_GM10X')] += np.random.normal(0, 1.0, len(data_train))\n",
    "# data_test[('temperatures', 'TA01_GT10X_GM10X')] += np.random.normal(0, .1, len(data_test))"
   ]
  },
  {
   "cell_type": "code",
   "execution_count": 537,
   "id": "7a62a8f2",
   "metadata": {},
   "outputs": [],
   "source": [
    "# # normalize temp diffs\n",
    "# mean = targets_train.mean()\n",
    "# std = targets_train.std()\n",
    "\n",
    "# targets_train = (targets_train - mean) / std\n",
    "# targets_test = (targets_test - mean) / std"
   ]
  },
  {
   "cell_type": "markdown",
   "id": "f6cf0068",
   "metadata": {},
   "source": [
    "### Create sequences"
   ]
  },
  {
   "cell_type": "code",
   "execution_count": 538,
   "id": "db044685",
   "metadata": {},
   "outputs": [],
   "source": [
    "def date_flagger(data, n_steps):\n",
    "    # get flagged datesvalues\n",
    "#     data['minute'] = data.index.get_level_values(3).values    \n",
    "#     data['date_flag'] = data.minute - data.minute.shift(n_steps) != (n_steps)\n",
    "\n",
    "    data['hour'] = data.index.get_level_values(2).values    \n",
    "    data['date_flag'] = data.hour - data.hour.shift(n_steps) > 1\n",
    "    \n",
    "    # get positions in data, w.r.t. n_step removed observations at start\n",
    "    flagged_idx = np.where(data.date_flag.values == 1)\n",
    "    flagged_idx = flagged_idx[0] - n_steps\n",
    "    \n",
    "    del data['hour'], data['date_flag']\n",
    "    \n",
    "    return flagged_idx"
   ]
  },
  {
   "cell_type": "code",
   "execution_count": 539,
   "id": "d05dd55b",
   "metadata": {},
   "outputs": [],
   "source": [
    "def seq_maker(data, targets, n_steps):\n",
    "    \n",
    "    vals = data.values\n",
    "    sequences = []\n",
    "    for i in range(len(vals) - n_steps):\n",
    "        sequences.append(vals[i:i+n_steps])\n",
    "    sequences = np.stack(sequences)\n",
    "    \n",
    "    flags = date_flagger(data, n_steps)\n",
    "    mask = [idx not in flags for idx in range(len(sequences))]\n",
    "    \n",
    "    sequences = sequences[mask]\n",
    "    targets = targets[n_steps:][mask]\n",
    "    \n",
    "    return sequences, targets"
   ]
  },
  {
   "cell_type": "code",
   "execution_count": 540,
   "id": "8ac64bb0",
   "metadata": {},
   "outputs": [],
   "source": [
    "# make sequences\n",
    "sequences_train, targets_train = seq_maker(data_train, targets_train, n_steps)\n",
    "sequences_test, targets_test = seq_maker(data_test, targets_test, n_steps)"
   ]
  },
  {
   "cell_type": "code",
   "execution_count": 541,
   "id": "8c03474d",
   "metadata": {},
   "outputs": [],
   "source": [
    "targets_train = targets_train.values\n",
    "targets_test = targets_test.values"
   ]
  },
  {
   "cell_type": "code",
   "execution_count": 542,
   "id": "67a06752",
   "metadata": {},
   "outputs": [],
   "source": [
    "# for t in range(1, t_steps+1):\n",
    "#     sequences_test[:, -t, :] = sequences_test[:, -(t_steps+2), :]"
   ]
  },
  {
   "cell_type": "code",
   "execution_count": 543,
   "id": "da03bba6",
   "metadata": {},
   "outputs": [],
   "source": [
    "sequences_train, targets_train = sequences_train[:-1], targets_train[1:]\n",
    "sequences_test, targets_test = sequences_test[:-1], targets_test[1:]"
   ]
  },
  {
   "cell_type": "code",
   "execution_count": 544,
   "id": "9973d7cd",
   "metadata": {},
   "outputs": [],
   "source": [
    "# # shuffle training data randomly\n",
    "# idxs = np.arange(len(targets_train))\n",
    "# np.random.shuffle(idxs)\n",
    "\n",
    "# sequences_train = sequences_train[idxs]\n",
    "# targets_train = targets_train[idxs]"
   ]
  },
  {
   "cell_type": "markdown",
   "id": "cdaeef6e",
   "metadata": {},
   "source": [
    "## Define Recurrent NN"
   ]
  },
  {
   "cell_type": "code",
   "execution_count": 545,
   "id": "d9b7b81d",
   "metadata": {},
   "outputs": [],
   "source": [
    "tf.keras.backend.clear_session()"
   ]
  },
  {
   "cell_type": "code",
   "execution_count": 551,
   "id": "da8cf715",
   "metadata": {},
   "outputs": [],
   "source": [
    "layerList = [\n",
    "    layers.Input(shape=(\n",
    "        sequences_train.shape[1],\n",
    "        sequences_train.shape[2]\n",
    "    )),\n",
    "#     layers.GRU(\n",
    "#         units=32,\n",
    "#         return_state=False,\n",
    "#         return_sequences=True,\n",
    "#         activation='tanh',\n",
    "#         kernel_regularizer='l2',\n",
    "#         recurrent_regularizer='l2',\n",
    "#         recurrent_dropout=0.2,\n",
    "#         kernel_initializer=tf.keras.initializers.GlorotNormal()\n",
    "#     ),\n",
    "#     layers.LayerNormalization(),\n",
    "# #     layers.BatchNormalization(),\n",
    "#     layers.GRU(\n",
    "#         units=32,\n",
    "#         return_state=False,\n",
    "#         return_sequences=True,\n",
    "#         activation='tanh',\n",
    "#         kernel_regularizer='l2',\n",
    "#         recurrent_regularizer='l2',\n",
    "#         recurrent_dropout=0.2,\n",
    "#         kernel_initializer=tf.keras.initializers.GlorotNormal()\n",
    "#     ),\n",
    "#     layers.LayerNormalization(),\n",
    "# # #     layers.BatchNormalization(),\n",
    "#     layers.GRU(\n",
    "#         units=32,\n",
    "#         return_state=False,\n",
    "#         return_sequences=True,\n",
    "#         activation='tanh',\n",
    "#         kernel_regularizer='l2',\n",
    "#         recurrent_regularizer='l2',\n",
    "#         #dropout=0.1,\n",
    "#         recurrent_dropout=0.5,\n",
    "#         kernel_initializer=tf.keras.initializers.GlorotNormal()\n",
    "#     ),\n",
    "#     layers.LayerNormalization(),\n",
    "# #     layers.BatchNormalization(),\n",
    "#     layers.Dropout(0.2),\n",
    "    layers.LSTM(\n",
    "        units=128,\n",
    "        return_state=False,\n",
    "        return_sequences=False,\n",
    "        activation='tanh',\n",
    "        kernel_regularizer='l2',\n",
    "        recurrent_regularizer='l2',\n",
    "#         dropout=0.5,\n",
    "        recurrent_dropout=0.5,\n",
    "        kernel_initializer=tf.keras.initializers.GlorotNormal()\n",
    "    ),\n",
    "    layers.LayerNormalization(), \n",
    "#     layers.BatchNormalization(),\n",
    "#     layers.Dropout(0.5),\n",
    "    layers.Dense(\n",
    "        units=1,\n",
    "        activation=None,\n",
    "        activity_regularizer='l2'\n",
    "    )\n",
    "]"
   ]
  },
  {
   "cell_type": "code",
   "execution_count": 552,
   "id": "0615a63d",
   "metadata": {
    "scrolled": false
   },
   "outputs": [
    {
     "name": "stdout",
     "output_type": "stream",
     "text": [
      "Model: \"model\"\n",
      "_________________________________________________________________\n",
      " Layer (type)                Output Shape              Param #   \n",
      "=================================================================\n",
      " lstm (LSTM)                 (None, 128)               70656     \n",
      "                                                                 \n",
      " layer_normalization_1 (Laye  (None, 128)              256       \n",
      " rNormalization)                                                 \n",
      "                                                                 \n",
      " dense_1 (Dense)             (None, 1)                 129       \n",
      "                                                                 \n",
      "=================================================================\n",
      "Total params: 71,041\n",
      "Trainable params: 71,041\n",
      "Non-trainable params: 0\n",
      "_________________________________________________________________\n"
     ]
    }
   ],
   "source": [
    "# lr = 0.005\n",
    "lr = 0.001\n",
    "# lr = 0.0005\n",
    "model = tf.keras.models.Sequential(layers=layerList, name='model')\n",
    "# model.compile(optimizer=tf.keras.optimizers.Adam(learning_rate=lr), loss='mse')\n",
    "# model.compile(optimizer=tf.keras.optimizers.experimental.AdamW(learning_rate=lr), loss='mse')\n",
    "model.compile(optimizer=tf.keras.optimizers.RMSprop(learning_rate=lr), loss='mse')\n",
    "model.summary()"
   ]
  },
  {
   "cell_type": "code",
   "execution_count": 553,
   "id": "4230094b",
   "metadata": {},
   "outputs": [],
   "source": [
    "# model2 = tf.keras.models.load_model(save_path + 'temp_diff_model_v52')\n",
    "# model2.summary()"
   ]
  },
  {
   "cell_type": "code",
   "execution_count": 554,
   "id": "7cfecf12",
   "metadata": {},
   "outputs": [],
   "source": [
    "# # copy weigths from pre-trained\n",
    "# for idx, layer in enumerate(model.layers):\n",
    "#     layer.set_weights(model2.layers[idx].get_weights())"
   ]
  },
  {
   "cell_type": "code",
   "execution_count": 555,
   "id": "7f7baea1",
   "metadata": {
    "scrolled": false
   },
   "outputs": [
    {
     "name": "stdout",
     "output_type": "stream",
     "text": [
      "Epoch 1/50\n",
      "1166/1166 [==============================] - 25s 20ms/step - loss: 0.4735 - val_loss: 0.1404\n",
      "Epoch 2/50\n",
      "1166/1166 [==============================] - 22s 19ms/step - loss: 0.1874 - val_loss: 0.1469\n",
      "Epoch 3/50\n",
      "1166/1166 [==============================] - 26s 23ms/step - loss: 0.1598 - val_loss: 0.0972\n",
      "Epoch 4/50\n",
      "1166/1166 [==============================] - 26s 23ms/step - loss: 0.1517 - val_loss: 0.0924\n",
      "Epoch 5/50\n",
      "1166/1166 [==============================] - 28s 24ms/step - loss: 0.1466 - val_loss: 0.0753\n",
      "Epoch 6/50\n",
      "1166/1166 [==============================] - 29s 25ms/step - loss: 0.1430 - val_loss: 0.0815\n",
      "Epoch 7/50\n",
      "1166/1166 [==============================] - 31s 26ms/step - loss: 0.1399 - val_loss: 0.1014\n",
      "Epoch 8/50\n",
      "1166/1166 [==============================] - 27s 23ms/step - loss: 0.1389 - val_loss: 0.0970\n",
      "Epoch 9/50\n",
      "1166/1166 [==============================] - 28s 24ms/step - loss: 0.1376 - val_loss: 0.0731\n",
      "Epoch 10/50\n",
      "1166/1166 [==============================] - 30s 25ms/step - loss: 0.1360 - val_loss: 0.0714\n",
      "Epoch 11/50\n",
      "1166/1166 [==============================] - 29s 25ms/step - loss: 0.1354 - val_loss: 0.0729\n",
      "Epoch 12/50\n",
      "1166/1166 [==============================] - 32s 27ms/step - loss: 0.1340 - val_loss: 0.0822\n",
      "Epoch 13/50\n",
      "1166/1166 [==============================] - 36s 31ms/step - loss: 0.1333 - val_loss: 0.0912\n",
      "Epoch 14/50\n",
      "1166/1166 [==============================] - 31s 26ms/step - loss: 0.1332 - val_loss: 0.0728\n",
      "Epoch 15/50\n",
      "1166/1166 [==============================] - 32s 28ms/step - loss: 0.1319 - val_loss: 0.0939\n",
      "Epoch 16/50\n",
      "1166/1166 [==============================] - 30s 26ms/step - loss: 0.1315 - val_loss: 0.0672\n",
      "Epoch 17/50\n",
      "1166/1166 [==============================] - 29s 25ms/step - loss: 0.1307 - val_loss: 0.0667\n",
      "Epoch 18/50\n",
      "1166/1166 [==============================] - 34s 29ms/step - loss: 0.1310 - val_loss: 0.0755\n",
      "Epoch 19/50\n",
      "1166/1166 [==============================] - 27s 23ms/step - loss: 0.1308 - val_loss: 0.0716\n",
      "Epoch 20/50\n",
      "1166/1166 [==============================] - 33s 29ms/step - loss: 0.1302 - val_loss: 0.1159\n",
      "Epoch 21/50\n",
      "1166/1166 [==============================] - 30s 25ms/step - loss: 0.1295 - val_loss: 0.0736\n",
      "Epoch 22/50\n",
      "1166/1166 [==============================] - 27s 24ms/step - loss: 0.1298 - val_loss: 0.0917\n",
      "Epoch 23/50\n",
      "1166/1166 [==============================] - 26s 22ms/step - loss: 0.1297 - val_loss: 0.1153\n",
      "Epoch 24/50\n",
      "1166/1166 [==============================] - 25s 22ms/step - loss: 0.1290 - val_loss: 0.0945\n",
      "Epoch 25/50\n",
      "1166/1166 [==============================] - 27s 23ms/step - loss: 0.1290 - val_loss: 0.0755\n",
      "Epoch 26/50\n",
      "1166/1166 [==============================] - 28s 24ms/step - loss: 0.1286 - val_loss: 0.0776\n",
      "Epoch 27/50\n",
      "1166/1166 [==============================] - 28s 24ms/step - loss: 0.1277 - val_loss: 0.0676\n"
     ]
    }
   ],
   "source": [
    "trainHist = model.fit(\n",
    "    sequences_train,\n",
    "    targets_train,\n",
    "    epochs=50,\n",
    "    batch_size=32,\n",
    "#     validation_split=0.0,\n",
    "    validation_data = (sequences_test, targets_test),\n",
    "    callbacks=[\n",
    "        tf.keras.callbacks.EarlyStopping(monitor=\"val_loss\", patience=10, mode=\"min\"),\n",
    "#         tf.keras.callbacks.LearningRateScheduler(lambda epoch: lr * (0.9 ** epoch))\n",
    "    ],\n",
    ")"
   ]
  },
  {
   "cell_type": "code",
   "execution_count": null,
   "id": "be3a5a2b",
   "metadata": {
    "scrolled": true
   },
   "outputs": [],
   "source": [
    "# model_name = 'temp_diff_model_v203'\n",
    "# model.save(save_path + model_name)"
   ]
  },
  {
   "cell_type": "code",
   "execution_count": null,
   "id": "eb9c5a71",
   "metadata": {},
   "outputs": [],
   "source": [
    "# model = tf.keras.models.load_model(save_path + 'temp_diff_model_v202')\n",
    "# model.summary()"
   ]
  },
  {
   "cell_type": "code",
   "execution_count": 556,
   "id": "66b952aa",
   "metadata": {},
   "outputs": [
    {
     "name": "stdout",
     "output_type": "stream",
     "text": [
      "130/130 [==============================] - 1s 7ms/step\n"
     ]
    }
   ],
   "source": [
    "preds = model.predict(sequences_test)"
   ]
  },
  {
   "cell_type": "code",
   "execution_count": 559,
   "id": "0c1f594e",
   "metadata": {},
   "outputs": [
    {
     "data": {
      "image/png": "[encoded data removed]",
      "text/plain": [
       "<Figure size 588.25x500 with 1 Axes>"
      ]
     },
     "metadata": {},
     "output_type": "display_data"
    }
   ],
   "source": [
    "## preds_df = pd.DataFrame(data=[targets_test / 10, np.squeeze(preds) / 10]).T\n",
    "preds_df = pd.DataFrame(data=[targets_test, np.squeeze(preds)]).T\n",
    "preds_df.columns = ['True', 'Preds']\n",
    "# preds_df.index = data.time.date.iloc[-5760:]\n",
    "\n",
    "ax = sns.relplot(\n",
    "    data=preds_df, #.iloc[:12000],\n",
    "    kind='line',\n",
    "    palette=sns.color_palette('bright')[1:3],\n",
    "    linewidth=1.5,\n",
    "    markers=False,\n",
    "    dashes=False\n",
    ")\n",
    "\n",
    "# ax.set_xticklabels(step=2)\n",
    "sns.move_legend(ax, loc='upper right', frameon=True, bbox_to_anchor=(0.9, 0.9))\n",
    "plt.xlim(2000, 3400)\n",
    "plt.ylim(-3, 3)\n",
    "plt.xlabel('$t$')\n",
    "plt.ylabel('C$^{\\circ}$', rotation=0, labelpad=20)\n",
    "plt.title('Temperature predictions (10 mins.)')\n",
    "# plt.savefig(plot_path + 'temp_diff_model_preds.png', bbox_inches='tight', dpi=200)\n",
    "plt.show()"
   ]
  },
  {
   "cell_type": "code",
   "execution_count": null,
   "id": "0b04ab0b",
   "metadata": {},
   "outputs": [],
   "source": [
    "sequences_test[]"
   ]
  },
  {
   "cell_type": "markdown",
   "id": "b26abbd5",
   "metadata": {},
   "source": [
    "### Temp preds w. Kalman filter"
   ]
  },
  {
   "cell_type": "code",
   "execution_count": 560,
   "id": "385b678f",
   "metadata": {},
   "outputs": [],
   "source": [
    "class kalmanFilter():\n",
    "    \n",
    "    def __init__(self, Q, R):\n",
    "        \n",
    "        # init hyperparams\n",
    "        self.Q = Q\n",
    "        self.R = R\n",
    "        \n",
    "        # init measurements\n",
    "        self.x = 20\n",
    "        self.x_pre = 20\n",
    "        self.p = 1\n",
    "        self.p_pre = 1\n",
    "        self.k = 1\n",
    "        \n",
    "    def reset(self, x):\n",
    "        # reset all measurements\n",
    "        self.x = x\n",
    "        self.x_pre = x\n",
    "        self.p = 0\n",
    "        self.p_pre = 0\n",
    "        self.k = 0\n",
    "        \n",
    "    def update(self, measurement):\n",
    "        # time update\n",
    "        self.x_pre = self.x\n",
    "        self.p_pre = self.p + self.Q\n",
    "        \n",
    "        # measurement update\n",
    "        self.k = self.p_pre / (self.p_pre + self.R)\n",
    "        self.x = self.x_pre + self.k * (measurement - self.x_pre)\n",
    "        self.p = (1 - self.k) * self.p_pre\n",
    "        \n",
    "        return self.x"
   ]
  },
  {
   "cell_type": "code",
   "execution_count": 566,
   "id": "4baf8a8b",
   "metadata": {},
   "outputs": [
    {
     "name": "stdout",
     "output_type": "stream",
     "text": [
      "130/130 [==============================] - 1s 6ms/step\n"
     ]
    }
   ],
   "source": [
    "test_seqs = sequences_test.copy()\n",
    "test_seqs[:, :, 1] += 2.0\n",
    "\n",
    "test_preds = model.predict(test_seqs)"
   ]
  },
  {
   "cell_type": "code",
   "execution_count": 568,
   "id": "46f27e09",
   "metadata": {},
   "outputs": [],
   "source": [
    "Q = 1e-4\n",
    "R = 1e-9\n",
    "kalman = kalmanFilter(Q, R)\n",
    "\n",
    "preds_kalm = []\n",
    "for temp, pred in zip(targets_test[:-1], test_preds[1:]):\n",
    "    kalman.reset(temp)\n",
    "    pred_kalm = kalman.update(pred)\n",
    "    \n",
    "    preds_kalm.append(pred_kalm)\n",
    "\n",
    "# preds_kalm = [targets_test[0]]\n",
    "# kalman.reset(preds_kalm[0])\n",
    "# for pred in preds[1:]:\n",
    "    \n",
    "#     pred_kalm = kalman.update(pred)\n",
    "#     preds_kalm.append(pred_kalm)\n"
   ]
  },
  {
   "cell_type": "code",
   "execution_count": 569,
   "id": "6894cb3e",
   "metadata": {},
   "outputs": [
    {
     "data": {
      "image/png": "[encoded data removed]",
      "text/plain": [
       "<Figure size 640x480 with 1 Axes>"
      ]
     },
     "metadata": {},
     "output_type": "display_data"
    }
   ],
   "source": [
    "# plt.plot(preds_kalm[:200])\n",
    "plt.plot(targets_test[1000:3000])\n",
    "plt.plot(preds_kalm[1000:3000])\n",
    "# plt.plot(test_preds[2500:3000])\n",
    "plt.show()"
   ]
  },
  {
   "cell_type": "code",
   "execution_count": 830,
   "id": "19cdae22",
   "metadata": {},
   "outputs": [],
   "source": [
    "# # temp_diffs = np.abs(np.squeeze(vis_preds / 10) - test_targets / 10)\n",
    "# temp_diffs = (np.squeeze(preds) / 10) - (targets_test / 10)\n",
    "# # temp_diffs = (np.squeeze(preds) / 10) - (Y_test / 10)\n",
    "# diff_df = pd.DataFrame(temp_diffs)\n",
    "\n",
    "# sns.histplot(\n",
    "#     data=diff_df,\n",
    "#     stat='count',\n",
    "#     binwidth=0.01,\n",
    "#     binrange=[-.5, .5],\n",
    "#     kde=False,\n",
    "#     palette=sns.color_palette('bright')[3:4],\n",
    "#     legend=False\n",
    "# )\n",
    "\n",
    "# plt.title('Distribution of errors')\n",
    "# plt.xlim(-.5, .5)\n",
    "# plt.ylim(0, 1500)\n",
    "# plt.xlabel('$\\Delta \\\\tau$ error, C$^\\circ$')\n",
    "\n",
    "# plt.savefig(plot_path + 'temp_error_dist.png', bbox_inches='tight', dpi=200)\n",
    "# plt.show()"
   ]
  },
  {
   "cell_type": "code",
   "execution_count": 714,
   "id": "ed7c88e1",
   "metadata": {},
   "outputs": [],
   "source": [
    "# preds_df = pd.DataFrame(np.squeeze(preds) / 10)\n",
    "# # preds_df = pd.DataFrame(np.squeeze(preds) / 10)\n",
    "\n",
    "# sns.histplot(\n",
    "#     data=preds_df,\n",
    "#     stat='count',\n",
    "#     binwidth=0.01,\n",
    "#     binrange=[-.5, .5],\n",
    "#     kde=False,\n",
    "#     palette=sns.color_palette('bright')[2:3],\n",
    "#     legend=False\n",
    "# )\n",
    "\n",
    "# plt.title('Distribution of 10-minute forward predictions')\n",
    "# plt.xlim(-.5, .5)\n",
    "# plt.ylim(0, 1500)\n",
    "# plt.xlabel('$\\Delta \\\\tau$, C$^\\circ$')\n",
    "\n",
    "# plt.savefig(plot_path + 'temp_preds_dist.png', bbox_inches='tight', dpi=200)\n",
    "# plt.show()"
   ]
  },
  {
   "cell_type": "code",
   "execution_count": 715,
   "id": "ab2fb922",
   "metadata": {},
   "outputs": [],
   "source": [
    "# sns.histplot(\n",
    "#     data=preds_df,\n",
    "#     stat='count',\n",
    "#     binwidth=0.01,\n",
    "#     binrange=[-.5, .5],\n",
    "#     kde=False,\n",
    "#     palette=sns.color_palette('bright')[2:3],\n",
    "#     legend=False,\n",
    "#     label='Predictions'\n",
    "# )\n",
    "\n",
    "# sns.histplot(\n",
    "#     data=diff_df,\n",
    "#     stat='count',\n",
    "#     binwidth=0.01,\n",
    "#     binrange=[-.5, .5],\n",
    "#     kde=False,\n",
    "#     palette=sns.color_palette('bright')[3:4],\n",
    "#     legend=False,\n",
    "#     label='Errors',\n",
    "# )\n",
    "\n",
    "# plt.title('Distribution of 10-minute forward predictions')\n",
    "# plt.xlim(-.5, .5)\n",
    "# # plt.ylim(0, 1500)\n",
    "# plt.xlabel('$\\Delta \\\\tau$, C$^\\circ$')\n",
    "# plt.legend()\n",
    "\n",
    "# plt.savefig(plot_path + 'temp_both_dist.png', bbox_inches='tight', dpi=200)\n",
    "# plt.show()"
   ]
  },
  {
   "cell_type": "code",
   "execution_count": null,
   "id": "cde27b86",
   "metadata": {},
   "outputs": [],
   "source": []
  },
  {
   "cell_type": "code",
   "execution_count": null,
   "id": "ba2d2efa",
   "metadata": {},
   "outputs": [],
   "source": []
  }
 ],
 "metadata": {
  "kernelspec": {
   "display_name": "Python 3 (ipykernel)",
   "language": "python",
   "name": "python3"
  },
  "language_info": {
   "codemirror_mode": {
    "name": "ipython",
    "version": 3
   },
   "file_extension": ".py",
   "mimetype": "text/x-python",
   "name": "python",
   "nbconvert_exporter": "python",
   "pygments_lexer": "ipython3",
   "version": "3.9.13"
  }
 },
 "nbformat": 4,
 "nbformat_minor": 5
}
