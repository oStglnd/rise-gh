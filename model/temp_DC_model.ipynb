{
 "cells": [
  {
   "cell_type": "markdown",
   "id": "3c35d1cc",
   "metadata": {},
   "source": [
    "# Short-term Temperature Model Test"
   ]
  },
  {
   "cell_type": "markdown",
   "id": "195db0c9",
   "metadata": {},
   "source": [
    "## Import dependencies and data"
   ]
  },
  {
   "cell_type": "code",
   "execution_count": 1,
   "id": "77453a55",
   "metadata": {},
   "outputs": [],
   "source": [
    "# import dependencies\n",
    "import os\n",
    "import json\n",
    "import pandas as pd\n",
    "\n",
    "import matplotlib.pyplot as plt\n",
    "import seaborn as sns\n",
    "\n",
    "import numpy as np\n",
    "import tensorflow as tf\n",
    "\n",
    "from tensorflow.keras import layers, Model\n",
    "from scipy.fftpack import fft, ifft, fftfreq"
   ]
  },
  {
   "cell_type": "code",
   "execution_count": 2,
   "id": "b5dee1ac",
   "metadata": {},
   "outputs": [],
   "source": [
    "# define relevant paths\n",
    "home_path = os.path.dirname(os.getcwd())\n",
    "data_path = home_path + '\\\\data\\\\'\n",
    "plot_path = home_path + '\\\\plotting\\\\plots\\\\'\n",
    "save_path = home_path + '\\\\model\\\\saved\\\\'"
   ]
  },
  {
   "cell_type": "code",
   "execution_count": 99,
   "id": "a747b251",
   "metadata": {},
   "outputs": [],
   "source": [
    "# get merged data\n",
    "data = pd.read_csv(\n",
    "    data_path + 'data_merged.csv',\n",
    "    header=[0, 1],\n",
    "    index_col=[0, 1, 2, 3, 4]\n",
    ")\n",
    "\n",
    "# convert index.date col to datetime\n",
    "#data.index = pd.to_datetime(data.index.values)\n",
    "data.loc[:, ('time', 'date')] = pd.to_datetime(data.time.date)"
   ]
  },
  {
   "cell_type": "code",
   "execution_count": 100,
   "id": "b0f46624",
   "metadata": {},
   "outputs": [],
   "source": [
    "# define X vars\n",
    "x_vars = [\n",
    "    ('flow', 'TA01_GP101'),\n",
    "    ('state', 'TA01_output'),\n",
    "    ('state', 'TA02_output'),\n",
    "    ('temperatures', 'DC_GT101_GM101'),\n",
    "    ('temperatures', 'DC_GT102_GM102'),\n",
    "    ('temperatures', 'DC_GT103_GM103'),\n",
    "    ('temperatures', 'DC_GT104_GM104'),\n",
    "    ('temperatures', 'DC_GT401_GM401'),\n",
    "    ('temperatures', 'TA01_GT401_GM401'),\n",
    "    ('temperatures', 'TA02_GT401_GM401'),\n",
    "    ('temperatures', 'DC_GT301_damped'),\n",
    "    ('temperatures', 'DC_GT301_outdoor'),\n",
    "    ('humidity', 'DC_GT101_GM101'),\n",
    "    ('humidity', 'DC_GT102_GM102'),\n",
    "    ('humidity', 'DC_GT103_GM103'),\n",
    "    ('humidity', 'DC_GT104_GM104'),\n",
    "    ('humidity', 'DC_GT401_GM401'),\n",
    "    ('setpoints', 'TA01_GT10X_GM10X'),\n",
    "    ('sun', 'gsi'),\n",
    "    ('sun', 'gsi_deriv'),\n",
    "    ('sun', 'vol'),\n",
    "    ('sun', 'vol_deriv'),\n",
    "    ('time', 'dayofyear'),\n",
    "    ('time', 'monthofyear'),\n",
    "    ('time', 'minofday'),\n",
    "    ('time', 'hourofday')\n",
    "]\n",
    "\n",
    "# filter columns to keep only x_vars\n",
    "data = data[x_vars].copy()"
   ]
  },
  {
   "cell_type": "markdown",
   "id": "33ae9eb6",
   "metadata": {},
   "source": [
    "## Describe Df"
   ]
  },
  {
   "cell_type": "code",
   "execution_count": 101,
   "id": "be306b52",
   "metadata": {},
   "outputs": [
    {
     "name": "stdout",
     "output_type": "stream",
     "text": [
      "Number of NAs\n",
      "\n",
      "category      sensor_ID       \n",
      "flow          TA01_GP101          13\n",
      "state         TA01_output         15\n",
      "              TA02_output         14\n",
      "temperatures  DC_GT101_GM101      12\n",
      "              DC_GT102_GM102      12\n",
      "              DC_GT103_GM103      11\n",
      "              DC_GT104_GM104      11\n",
      "              DC_GT401_GM401      13\n",
      "              TA01_GT401_GM401    13\n",
      "              TA02_GT401_GM401    12\n",
      "              DC_GT301_damped     12\n",
      "              DC_GT301_outdoor    12\n",
      "humidity      DC_GT101_GM101      12\n",
      "              DC_GT102_GM102      12\n",
      "              DC_GT103_GM103      12\n",
      "              DC_GT104_GM104      10\n",
      "              DC_GT401_GM401      14\n",
      "setpoints     TA01_GT10X_GM10X    14\n",
      "sun           gsi                  2\n",
      "              gsi_deriv            2\n",
      "              vol                  2\n",
      "              vol_deriv            2\n",
      "time          dayofyear            2\n",
      "              monthofyear          2\n",
      "              minofday             2\n",
      "              hourofday            2\n",
      "dtype: int64\n",
      "\n",
      "\n",
      "\n"
     ]
    }
   ],
   "source": [
    "# print number of NAs\n",
    "print('Number of NAs\\n')\n",
    "print(data.isna().sum())\n",
    "print('\\n\\n')"
   ]
  },
  {
   "cell_type": "code",
   "execution_count": 102,
   "id": "4da9d182",
   "metadata": {},
   "outputs": [],
   "source": [
    "# remove single NAN\n",
    "data = data.dropna(how='any')"
   ]
  },
  {
   "cell_type": "code",
   "execution_count": 138,
   "id": "c1c64200",
   "metadata": {},
   "outputs": [],
   "source": [
    "# # reduce to one OBS per MIN\n",
    "# data = data.groupby(['month', 'day', 'hour', 'minute'], sort=False).mean()\n",
    "hourData = data_train.groupby(['month', 'day', 'hour'], sort=False).last()"
   ]
  },
  {
   "cell_type": "code",
   "execution_count": 142,
   "id": "3884ddb4",
   "metadata": {},
   "outputs": [
    {
     "data": {
      "text/plain": [
       "[<matplotlib.lines.Line2D at 0x24b91748610>]"
      ]
     },
     "execution_count": 142,
     "metadata": {},
     "output_type": "execute_result"
    },
    {
     "data": {
      "image/png": "[encoded data removed]",
      "text/plain": [
       "<Figure size 640x480 with 2 Axes>"
      ]
     },
     "metadata": {},
     "output_type": "display_data"
    }
   ],
   "source": [
    "fig, ax1 = plt.subplots()\n",
    "\n",
    "ax1.plot(hourData.temperatures.TA01_GT401_GM401.values[-50:], 'r')\n",
    "ax1.plot(hourData.state.TA01_output.values[-50:], 'm')\n",
    "# ax1.plot(hourData.sun.gsi.values[-50:], 'r')\n",
    "ax1.plot(hourData.temperatures.DC_GT301_damped.values[-50:], 'g')\n",
    "# ax1.plot(hourData.temperatures.DC_GT401_GM401.values[-500:], 'r')\n",
    "\n",
    "ax2 = ax1.twinx()\n",
    "ax2.plot(hourData.temperatures.TA01_GT10X_GM10X.values[-50:], 'b')"
   ]
  },
  {
   "cell_type": "markdown",
   "id": "c94d1e21",
   "metadata": {},
   "source": [
    "### Remove (clearly) erroneous measurements"
   ]
  },
  {
   "cell_type": "code",
   "execution_count": 24,
   "id": "2342d8af",
   "metadata": {},
   "outputs": [],
   "source": [
    "## get flags for increase\n",
    "data[('flag', 'DC_GT102_GM102_temp')] = (data.temperatures.DC_GT102_GM102 - data.temperatures.DC_GT102_GM102.shift(10)) < -2\n",
    "data[('flag', 'DC_GT102_GM102_humid')] = (data.humidity.DC_GT102_GM102 - data.humidity.DC_GT102_GM102.shift(10)) > 20\n",
    "\n",
    "data[('flag', 'comb')] = data.flag.DC_GT102_GM102_temp & data.flag.DC_GT102_GM102_humid"
   ]
  },
  {
   "cell_type": "code",
   "execution_count": 25,
   "id": "0db066df",
   "metadata": {},
   "outputs": [],
   "source": [
    "# hrs = data.groupby(['month', 'day', 'hour']).sum()[('flag', 'comb')] > 0\n",
    "# hrsDrop = hrs[hrs == 1].index.values\n",
    "# mask = np.array([hrs not in list(hrsDrop) for hrs in data.index.droplevel(-1).values])\n",
    "# data = data[mask]"
   ]
  },
  {
   "cell_type": "code",
   "execution_count": 26,
   "id": "c27a21c9",
   "metadata": {},
   "outputs": [],
   "source": [
    "days = data.groupby(['month', 'day']).sum()[('flag', 'comb')] > 0\n",
    "daysDrop = days[days == 1].index.values\n",
    "mask = np.array([day not in list(daysDrop) for day in data.index.droplevel(-1).droplevel(-1).values])\n",
    "data = data[mask]"
   ]
  },
  {
   "cell_type": "markdown",
   "id": "3424585c",
   "metadata": {},
   "source": [
    "# Feature engineering"
   ]
  },
  {
   "cell_type": "markdown",
   "id": "a15ace44",
   "metadata": {},
   "source": [
    "## Split TRAIN / TEST"
   ]
  },
  {
   "cell_type": "code",
   "execution_count": 108,
   "id": "85f830c8",
   "metadata": {},
   "outputs": [],
   "source": [
    "## Randomly select days for trainin and testing\n",
    "days = data.groupby(['month', 'day']).count().index.values\n",
    "\n",
    "# get number of days f. testing / training\n",
    "train_frac = 0.9\n",
    "train_n = int(len(days) * train_frac)\n",
    "test_n = len(days) - train_n\n",
    "\n",
    "# split dataset\n",
    "np.random.shuffle(days)\n",
    "mask = np.array([day in list(days[:train_n]) for day in data.index.droplevel(-1).droplevel(-1).values])\n",
    "data_train = data.loc[mask].copy()\n",
    "data_test = data.loc[~mask].copy()\n",
    "\n",
    "# del data"
   ]
  },
  {
   "cell_type": "markdown",
   "id": "57f0a251",
   "metadata": {},
   "source": [
    "## NOISE reduction"
   ]
  },
  {
   "cell_type": "markdown",
   "id": "adf11468",
   "metadata": {},
   "source": [
    "### FFT f. TRAIN data"
   ]
  },
  {
   "cell_type": "code",
   "execution_count": 109,
   "id": "70ae2b3f",
   "metadata": {},
   "outputs": [
    {
     "name": "stderr",
     "output_type": "stream",
     "text": [
      "C:\\Users\\Oskar\\AppData\\Local\\Temp\\ipykernel_26756\\2279264410.py:32: ComplexWarning: Casting complex values to real discards the imaginary part\n",
      "  data_train.loc[:, col] = filtered.astype('float64')\n",
      "C:\\Users\\Oskar\\AppData\\Local\\Temp\\ipykernel_26756\\2279264410.py:32: ComplexWarning: Casting complex values to real discards the imaginary part\n",
      "  data_train.loc[:, col] = filtered.astype('float64')\n",
      "C:\\Users\\Oskar\\AppData\\Local\\Temp\\ipykernel_26756\\2279264410.py:32: ComplexWarning: Casting complex values to real discards the imaginary part\n",
      "  data_train.loc[:, col] = filtered.astype('float64')\n",
      "C:\\Users\\Oskar\\AppData\\Local\\Temp\\ipykernel_26756\\2279264410.py:32: ComplexWarning: Casting complex values to real discards the imaginary part\n",
      "  data_train.loc[:, col] = filtered.astype('float64')\n",
      "C:\\Users\\Oskar\\AppData\\Local\\Temp\\ipykernel_26756\\2279264410.py:32: ComplexWarning: Casting complex values to real discards the imaginary part\n",
      "  data_train.loc[:, col] = filtered.astype('float64')\n",
      "C:\\Users\\Oskar\\AppData\\Local\\Temp\\ipykernel_26756\\2279264410.py:32: ComplexWarning: Casting complex values to real discards the imaginary part\n",
      "  data_train.loc[:, col] = filtered.astype('float64')\n",
      "C:\\Users\\Oskar\\AppData\\Local\\Temp\\ipykernel_26756\\2279264410.py:32: ComplexWarning: Casting complex values to real discards the imaginary part\n",
      "  data_train.loc[:, col] = filtered.astype('float64')\n",
      "C:\\Users\\Oskar\\AppData\\Local\\Temp\\ipykernel_26756\\2279264410.py:32: ComplexWarning: Casting complex values to real discards the imaginary part\n",
      "  data_train.loc[:, col] = filtered.astype('float64')\n",
      "C:\\Users\\Oskar\\AppData\\Local\\Temp\\ipykernel_26756\\2279264410.py:32: ComplexWarning: Casting complex values to real discards the imaginary part\n",
      "  data_train.loc[:, col] = filtered.astype('float64')\n",
      "C:\\Users\\Oskar\\AppData\\Local\\Temp\\ipykernel_26756\\2279264410.py:32: ComplexWarning: Casting complex values to real discards the imaginary part\n",
      "  data_train.loc[:, col] = filtered.astype('float64')\n"
     ]
    }
   ],
   "source": [
    "cols = [\n",
    "    ('temperatures', 'DC_GT102_GM102'),\n",
    "    ('temperatures', 'DC_GT103_GM103'),\n",
    "    ('temperatures', 'DC_GT104_GM104'),\n",
    "    ('temperatures', 'DC_GT401_GM401'),\n",
    "    ('temperatures', 'TA01_GT401_GM401'),\n",
    "    ('temperatures', 'DC_GT301_outdoor'),\n",
    "    ('temperatures', 'DC_GT301_damped'),\n",
    "    ('humidity', 'DC_GT102_GM102'),\n",
    "    ('humidity', 'DC_GT103_GM103'),\n",
    "    ('humidity', 'DC_GT104_GM104'),\n",
    "]\n",
    "\n",
    "for col in cols:\n",
    "#     sig_fft = fft(data.humidity[col].values)\n",
    "    sig_fft = fft(data_train[col].values)\n",
    "    sig_fft_filtered = sig_fft.copy()\n",
    "    sig_fft_noise = sig_fft.copy()\n",
    "    \n",
    "    #\n",
    "    freq = fftfreq(len(data_train), d=1/5)\n",
    "    cut_off = 1/10\n",
    "    \n",
    "    sig_fft_filtered[np.abs(freq) > cut_off] = 0\n",
    "    sig_fft_noise[np.abs(freq) <= cut_off] = 0\n",
    "    \n",
    "    # get the filtered signal in time domain\n",
    "    filtered = ifft(sig_fft_filtered)\n",
    "\n",
    "    # put in data\n",
    "#     data.humidity.loc[:, col + '_noise'] = data.humidity[col]\n",
    "    data_train.loc[:, col] = filtered.astype('float64')"
   ]
  },
  {
   "cell_type": "code",
   "execution_count": 110,
   "id": "8c7adb7f",
   "metadata": {},
   "outputs": [],
   "source": [
    "### create \"better\" estimate of temperature var, w. proper avg.\n",
    "data_train[('temperatures', 'TA01_GT10X_GM10X')] = data_train.temperatures[[\n",
    "    # ('DC_GT102_GM101'),\n",
    "    ('DC_GT102_GM102'), \n",
    "    ('DC_GT103_GM103'), \n",
    "    ('DC_GT104_GM104')\n",
    "]].values.mean(axis=1)"
   ]
  },
  {
   "cell_type": "code",
   "execution_count": 111,
   "id": "00bd1ba4",
   "metadata": {},
   "outputs": [],
   "source": [
    "### create \"better\" estimate of temperature var, w. proper avg.\n",
    "data_train[('humidity', 'TA01_GT10X_GM10X')] = data_train.humidity[[\n",
    "    # ('DC_GT102_GM101'),\n",
    "    ('DC_GT102_GM102'), \n",
    "    ('DC_GT103_GM103'), \n",
    "    ('DC_GT104_GM104')\n",
    "]].values.mean(axis=1)"
   ]
  },
  {
   "cell_type": "markdown",
   "id": "3d5ae9bc",
   "metadata": {},
   "source": [
    "### KALMAN f. TEST data"
   ]
  },
  {
   "cell_type": "code",
   "execution_count": 112,
   "id": "350a57a0",
   "metadata": {},
   "outputs": [
    {
     "name": "stderr",
     "output_type": "stream",
     "text": [
      "C:\\Users\\Oskar\\AppData\\Local\\Temp\\ipykernel_26756\\812160738.py:21: PerformanceWarning: indexing past lexsort depth may impact performance.\n",
      "  X = data_test.loc[day, col].values\n",
      "C:\\Users\\Oskar\\AppData\\Local\\Temp\\ipykernel_26756\\812160738.py:48: PerformanceWarning: indexing past lexsort depth may impact performance.\n",
      "  data_test.loc[day, col] = xhat\n"
     ]
    }
   ],
   "source": [
    "cols = [\n",
    "    (('temperatures', 'DC_GT102_GM102'), 4),\n",
    "    (('temperatures', 'DC_GT103_GM103'), 4),\n",
    "    (('temperatures', 'DC_GT104_GM104'), 4),\n",
    "    (('temperatures', 'DC_GT401_GM401'), 4),\n",
    "    (('temperatures', 'TA01_GT401_GM401'), 4),\n",
    "    (('temperatures', 'DC_GT301_outdoor'), 4),\n",
    "    (('temperatures', 'DC_GT301_damped'), 4),\n",
    "    (('humidity', 'DC_GT102_GM102'), 4),\n",
    "    (('humidity', 'DC_GT103_GM103'), 4),\n",
    "    (('humidity', 'DC_GT104_GM104'), 4),\n",
    "]\n",
    "\n",
    "for colSpec in cols:\n",
    "    for day in data_test.groupby(['month', 'day']).count().index.values:\n",
    "        # apply KALMAN filter to measurements\n",
    "        col = colSpec[0]\n",
    "        varExp = colSpec[-1]\n",
    "\n",
    "        # get data\n",
    "        X = data_test.loc[day, col].values\n",
    "        n = len(X)\n",
    "\n",
    "        # process variance, measurement variance\n",
    "        Q = 1e-5\n",
    "        R = 0.1**varExp\n",
    "\n",
    "        xhat=np.zeros(n)      # a posteri estimate of x\n",
    "        P=np.zeros(n)         # a posteri error estimate\n",
    "        xhatminus=np.zeros(n) # a priori estimate of x\n",
    "        Pminus=np.zeros(n)    # a priori error estimate\n",
    "        K=np.zeros(n)         # gain or blending factor\n",
    "\n",
    "        # intial guesses\n",
    "        xhat[0] = X[0]\n",
    "        P[0] = 1\n",
    "\n",
    "        for k in range(1,n):\n",
    "            # time update\n",
    "            xhatminus[k] = xhat[k-1]\n",
    "            Pminus[k] = P[k-1]+Q\n",
    "\n",
    "            # measurement update\n",
    "            K[k] = Pminus[k]/( Pminus[k]+R )\n",
    "            xhat[k] = xhatminus[k]+K[k]*(X[k]-xhatminus[k])\n",
    "            P[k] = (1-K[k])*Pminus[k]\n",
    "\n",
    "        data_test.loc[day, col] = xhat"
   ]
  },
  {
   "cell_type": "code",
   "execution_count": 113,
   "id": "847d0145",
   "metadata": {},
   "outputs": [],
   "source": [
    "### create \"better\" estimate of temperature var, w. proper avg.\n",
    "data_test[('temperatures', 'TA01_GT10X_GM10X')] = data_test.temperatures[[\n",
    "    # ('DC_GT102_GM101'),\n",
    "    ('DC_GT102_GM102'), \n",
    "    ('DC_GT103_GM103'), \n",
    "    ('DC_GT104_GM104')\n",
    "]].values.mean(axis=1)"
   ]
  },
  {
   "cell_type": "code",
   "execution_count": 114,
   "id": "311888b5",
   "metadata": {},
   "outputs": [],
   "source": [
    "### create \"better\" estimate of temperature var, w. proper avg.\n",
    "data_test[('humidity', 'TA01_GT10X_GM10X')] = data_test.humidity[[\n",
    "    # ('DC_GT102_GM101'),\n",
    "    ('DC_GT102_GM102'), \n",
    "    ('DC_GT103_GM103'), \n",
    "    ('DC_GT104_GM104')\n",
    "]].values.mean(axis=1)"
   ]
  },
  {
   "cell_type": "markdown",
   "id": "421cd4b2",
   "metadata": {},
   "source": [
    "### MIN / MAX scaling"
   ]
  },
  {
   "cell_type": "code",
   "execution_count": 135,
   "id": "17b6ad6a",
   "metadata": {},
   "outputs": [],
   "source": [
    "# Define model variables\n",
    "model_vars = [\n",
    "    ('state', 'TA01_output'),\n",
    "    ('state', 'TA02_output'),\n",
    "    ('temperatures', 'TA01_GT10X_GM10X'),\n",
    "    ('temperatures', 'DC_GT401_GM401'),\n",
    "    ('temperatures', 'TA01_GT401_GM401'),\n",
    "    ('temperatures', 'DC_GT301_damped'),\n",
    "#     ('humidity', 'TA01_GT10X_GM10X'),\n",
    "    ('sun', 'gsi'),\n",
    "    ('sun', 'gsi_deriv'),\n",
    "#     ('time', 'minofday'),\n",
    "]\n",
    "\n",
    "# filter data\n",
    "data_train = data_train[model_vars].copy()\n",
    "data_test = data_test[model_vars].copy()"
   ]
  },
  {
   "cell_type": "code",
   "execution_count": 136,
   "id": "c9b572ac",
   "metadata": {},
   "outputs": [],
   "source": [
    "col_params = {}\n",
    "for col in data_train.columns:\n",
    "    cat, var = col\n",
    "    \n",
    "    if cat == 'temperatures' and var == 'TA01_GT10X_GM10X':\n",
    "        continue\n",
    "        \n",
    "    max_val = data_train[col].max()\n",
    "    min_val = max(data_train[col].min(), 0)\n",
    "    \n",
    "    # make positive\n",
    "    data_train[col] = data_train[col] + abs(min(0, min_val))\n",
    "    data_train[col] = (data_train[col] - min_val) / (max_val - min_val)\n",
    "    \n",
    "    data_test[col] = data_test[col] + abs(min(0, min_val))\n",
    "    data_test[col] = (data_test[col] - min_val) / (max_val - min_val)\n",
    "    data_test[col] = data_test[col].apply(lambda val: max(min(val, 1.0), 0.0))\n",
    "    \n",
    "    col_params[col] = {\n",
    "#         'mean':mean,\n",
    "#         'std':std,\n",
    "        'max':max_val,\n",
    "        'min':min_val\n",
    "    }"
   ]
  },
  {
   "cell_type": "markdown",
   "id": "70925b7a",
   "metadata": {},
   "source": [
    "## Data preparation"
   ]
  },
  {
   "cell_type": "code",
   "execution_count": 36,
   "id": "97925877",
   "metadata": {},
   "outputs": [],
   "source": [
    "t_steps = 10   # 10-min predictions\n",
    "n_steps = 30   # 20-min backwards look\n",
    "\n",
    "train_frac = 0.9"
   ]
  },
  {
   "cell_type": "code",
   "execution_count": 37,
   "id": "f3389acf",
   "metadata": {},
   "outputs": [],
   "source": [
    "targets_train = data_train.pop(('temperatures', 'TA01_GT10X_GM10X')).copy()\n",
    "targets_train = (targets_train - targets_train.shift(t_steps)) * 10\n",
    "\n",
    "targets_test = data_test.pop(('temperatures', 'TA01_GT10X_GM10X')).copy()\n",
    "targets_test = (targets_test - targets_test.shift(t_steps)) * 10"
   ]
  },
  {
   "cell_type": "markdown",
   "id": "f6cf0068",
   "metadata": {},
   "source": [
    "### Create sequences"
   ]
  },
  {
   "cell_type": "code",
   "execution_count": 38,
   "id": "db044685",
   "metadata": {},
   "outputs": [],
   "source": [
    "def date_flagger(data, n_steps):\n",
    "    # get flagged datesvalues\n",
    "#     data['minute'] = data.index.get_level_values(3).values    \n",
    "#     data['date_flag'] = data.minute - data.minute.shift(n_steps) != (n_steps)\n",
    "\n",
    "    data['hour'] = data.index.get_level_values(2).values    \n",
    "    data['date_flag'] = data.hour - data.hour.shift(n_steps) > 1\n",
    "    \n",
    "    # get positions in data, w.r.t. n_step removed observations at start\n",
    "    flagged_idx = np.where(data.date_flag.values == 1)\n",
    "    flagged_idx = flagged_idx[0] - n_steps\n",
    "    \n",
    "    del data['hour'], data['date_flag']\n",
    "    \n",
    "    return flagged_idx"
   ]
  },
  {
   "cell_type": "code",
   "execution_count": 39,
   "id": "d05dd55b",
   "metadata": {},
   "outputs": [],
   "source": [
    "def seq_maker(data, targets, n_steps):\n",
    "    \n",
    "    vals = data.values\n",
    "    sequences = []\n",
    "    for i in range(len(vals) - n_steps):\n",
    "        sequences.append(vals[i:i+n_steps])\n",
    "    sequences = np.stack(sequences)\n",
    "    \n",
    "    flags = date_flagger(data, n_steps)\n",
    "    mask = [idx not in flags for idx in range(len(sequences))]\n",
    "    \n",
    "    sequences = sequences[mask]\n",
    "    targets = targets[n_steps:][mask]\n",
    "    \n",
    "    return sequences, targets"
   ]
  },
  {
   "cell_type": "code",
   "execution_count": 40,
   "id": "8ac64bb0",
   "metadata": {},
   "outputs": [],
   "source": [
    "# make sequences\n",
    "sequences_train, targets_train = seq_maker(data_train, targets_train, n_steps)\n",
    "sequences_test, targets_test = seq_maker(data_test, targets_test, n_steps)"
   ]
  },
  {
   "cell_type": "code",
   "execution_count": 41,
   "id": "8c03474d",
   "metadata": {},
   "outputs": [],
   "source": [
    "targets_train = targets_train.values\n",
    "targets_test = targets_test.values"
   ]
  },
  {
   "cell_type": "code",
   "execution_count": 42,
   "id": "9973d7cd",
   "metadata": {},
   "outputs": [],
   "source": [
    "# shuffle training data randomly\n",
    "idxs = np.arange(len(targets_train))\n",
    "np.random.shuffle(idxs)\n",
    "\n",
    "sequences_train = sequences_train[idxs]\n",
    "targets_train = targets_train[idxs]"
   ]
  },
  {
   "cell_type": "markdown",
   "id": "cdaeef6e",
   "metadata": {},
   "source": [
    "## Define LSTM Regressor"
   ]
  },
  {
   "cell_type": "code",
   "execution_count": 43,
   "id": "d9b7b81d",
   "metadata": {},
   "outputs": [],
   "source": [
    "tf.keras.backend.clear_session()"
   ]
  },
  {
   "cell_type": "code",
   "execution_count": 44,
   "id": "5d171c10",
   "metadata": {},
   "outputs": [],
   "source": [
    "layerList = [\n",
    "    layers.Input(shape=(\n",
    "        sequences_train.shape[1],\n",
    "        sequences_train.shape[2]\n",
    "    )),\n",
    "    layers.Bidirectional(layers.LSTM(\n",
    "        units=64,\n",
    "        return_sequences=False,\n",
    "        activation='tanh',\n",
    "        recurrent_activation='sigmoid',\n",
    "        activity_regularizer='l2',\n",
    "        recurrent_dropout=0.2,\n",
    "        #dropout=0.2,\n",
    "        kernel_initializer=tf.keras.initializers.GlorotNormal(),\n",
    "    )),\n",
    "    layers.BatchNormalization(),\n",
    "    layers.Dense(\n",
    "        units=1,\n",
    "        activation=None,\n",
    "        activity_regularizer='l2'\n",
    "    )\n",
    "]"
   ]
  },
  {
   "cell_type": "code",
   "execution_count": 45,
   "id": "da8cf715",
   "metadata": {},
   "outputs": [],
   "source": [
    "# layerList = [\n",
    "#     layers.Input(shape=(\n",
    "#         sequences_train.shape[1],\n",
    "#         sequences_train.shape[2]\n",
    "#     )),\n",
    "#     layers.LSTM(\n",
    "#         units=64,\n",
    "#         return_sequences=True,\n",
    "#         activation='tanh',\n",
    "#         recurrent_activation='sigmoid',\n",
    "#         activity_regularizer='l2',\n",
    "#         recurrent_dropout=0.2,\n",
    "#         #dropout=0.2,\n",
    "#         kernel_initializer=tf.keras.initializers.GlorotNormal()\n",
    "#     ),\n",
    "#     layers.BatchNormalization(),\n",
    "#     layers.LSTM(\n",
    "#         units=32,\n",
    "#         return_sequences=True,\n",
    "#         activation='tanh',\n",
    "#         recurrent_activation='sigmoid',\n",
    "#         activity_regularizer='l2',\n",
    "#         recurrent_dropout=0.5,\n",
    "#         #dropout=0.5,\n",
    "#         kernel_initializer=tf.keras.initializers.GlorotNormal()\n",
    "#     ),\n",
    "#     layers.BatchNormalization(),\n",
    "#     layers.LSTM(\n",
    "#         units=32,\n",
    "# #         return_sequences=True,\n",
    "#         activation='tanh',\n",
    "#         recurrent_activation='sigmoid',\n",
    "#         activity_regularizer='l2',\n",
    "#         recurrent_dropout=0.5,\n",
    "#         #dropout=0.5,\n",
    "#         kernel_initializer=tf.keras.initializers.GlorotNormal()\n",
    "#     ),\n",
    "#     layers.BatchNormalization(),\n",
    "#     layers.Dense(\n",
    "#         units=1,\n",
    "#         activation=None,\n",
    "#         activity_regularizer='l2'\n",
    "#     )\n",
    "# ]"
   ]
  },
  {
   "cell_type": "code",
   "execution_count": 46,
   "id": "0615a63d",
   "metadata": {
    "scrolled": false
   },
   "outputs": [
    {
     "name": "stdout",
     "output_type": "stream",
     "text": [
      "Model: \"model\"\n",
      "_________________________________________________________________\n",
      " Layer (type)                Output Shape              Param #   \n",
      "=================================================================\n",
      " bidirectional (Bidirectiona  (None, 128)              36864     \n",
      " l)                                                              \n",
      "                                                                 \n",
      " batch_normalization (BatchN  (None, 128)              512       \n",
      " ormalization)                                                   \n",
      "                                                                 \n",
      " dense (Dense)               (None, 1)                 129       \n",
      "                                                                 \n",
      "=================================================================\n",
      "Total params: 37,505\n",
      "Trainable params: 37,249\n",
      "Non-trainable params: 256\n",
      "_________________________________________________________________\n"
     ]
    }
   ],
   "source": [
    "# lr = 0.005\n",
    "lr = 0.001\n",
    "# lr = 0.0005\n",
    "model = tf.keras.models.Sequential(layers=layerList, name='model')\n",
    "model.compile(optimizer=tf.keras.optimizers.Adam(learning_rate=lr), loss=\"mse\")\n",
    "model.summary()"
   ]
  },
  {
   "cell_type": "code",
   "execution_count": 47,
   "id": "4230094b",
   "metadata": {},
   "outputs": [],
   "source": [
    "# model2 = tf.keras.models.load_model(save_path + 'temp_diff_model_v52')\n",
    "# model2.summary()"
   ]
  },
  {
   "cell_type": "code",
   "execution_count": 48,
   "id": "7cfecf12",
   "metadata": {},
   "outputs": [],
   "source": [
    "# # copy weigths from pre-trained\n",
    "# for idx, layer in enumerate(model.layers):\n",
    "#     layer.set_weights(model2.layers[idx].get_weights())"
   ]
  },
  {
   "cell_type": "code",
   "execution_count": 49,
   "id": "7f7baea1",
   "metadata": {
    "scrolled": false
   },
   "outputs": [
    {
     "name": "stdout",
     "output_type": "stream",
     "text": [
      "Epoch 1/50\n",
      "886/886 [==============================] - 109s 109ms/step - loss: 5.4149\n",
      "Epoch 2/50\n",
      "886/886 [==============================] - 96s 108ms/step - loss: 4.2618\n",
      "Epoch 3/50\n",
      "886/886 [==============================] - 96s 108ms/step - loss: 3.9506\n",
      "Epoch 4/50\n",
      "886/886 [==============================] - 91s 103ms/step - loss: 3.7761\n",
      "Epoch 5/50\n",
      "886/886 [==============================] - 96s 109ms/step - loss: 3.6247\n",
      "Epoch 6/50\n",
      "886/886 [==============================] - 96s 109ms/step - loss: 3.5266\n",
      "Epoch 7/50\n",
      "886/886 [==============================] - 97s 109ms/step - loss: 3.3938\n",
      "Epoch 8/50\n",
      "886/886 [==============================] - 91s 103ms/step - loss: 3.2963\n",
      "Epoch 9/50\n",
      " 56/886 [>.............................] - ETA: 1:27 - loss: 3.2032"
     ]
    },
    {
     "ename": "KeyboardInterrupt",
     "evalue": "",
     "output_type": "error",
     "traceback": [
      "\u001b[1;31m---------------------------------------------------------------------------\u001b[0m",
      "\u001b[1;31mKeyboardInterrupt\u001b[0m                         Traceback (most recent call last)",
      "\u001b[1;32m~\\AppData\\Local\\Temp\\ipykernel_20948\\1506995636.py\u001b[0m in \u001b[0;36m<module>\u001b[1;34m\u001b[0m\n\u001b[1;32m----> 1\u001b[1;33m trainHist = model.fit(\n\u001b[0m\u001b[0;32m      2\u001b[0m     \u001b[0msequences_train\u001b[0m\u001b[1;33m,\u001b[0m\u001b[1;33m\u001b[0m\u001b[1;33m\u001b[0m\u001b[0m\n\u001b[0;32m      3\u001b[0m     \u001b[0mtargets_train\u001b[0m\u001b[1;33m,\u001b[0m\u001b[1;33m\u001b[0m\u001b[1;33m\u001b[0m\u001b[0m\n\u001b[0;32m      4\u001b[0m     \u001b[0mepochs\u001b[0m\u001b[1;33m=\u001b[0m\u001b[1;36m50\u001b[0m\u001b[1;33m,\u001b[0m\u001b[1;33m\u001b[0m\u001b[1;33m\u001b[0m\u001b[0m\n\u001b[0;32m      5\u001b[0m     \u001b[0mbatch_size\u001b[0m\u001b[1;33m=\u001b[0m\u001b[1;36m128\u001b[0m\u001b[1;33m,\u001b[0m\u001b[1;33m\u001b[0m\u001b[1;33m\u001b[0m\u001b[0m\n",
      "\u001b[1;32m~\\anaconda3\\lib\\site-packages\\keras\\utils\\traceback_utils.py\u001b[0m in \u001b[0;36merror_handler\u001b[1;34m(*args, **kwargs)\u001b[0m\n\u001b[0;32m     63\u001b[0m         \u001b[0mfiltered_tb\u001b[0m \u001b[1;33m=\u001b[0m \u001b[1;32mNone\u001b[0m\u001b[1;33m\u001b[0m\u001b[1;33m\u001b[0m\u001b[0m\n\u001b[0;32m     64\u001b[0m         \u001b[1;32mtry\u001b[0m\u001b[1;33m:\u001b[0m\u001b[1;33m\u001b[0m\u001b[1;33m\u001b[0m\u001b[0m\n\u001b[1;32m---> 65\u001b[1;33m             \u001b[1;32mreturn\u001b[0m \u001b[0mfn\u001b[0m\u001b[1;33m(\u001b[0m\u001b[1;33m*\u001b[0m\u001b[0margs\u001b[0m\u001b[1;33m,\u001b[0m \u001b[1;33m**\u001b[0m\u001b[0mkwargs\u001b[0m\u001b[1;33m)\u001b[0m\u001b[1;33m\u001b[0m\u001b[1;33m\u001b[0m\u001b[0m\n\u001b[0m\u001b[0;32m     66\u001b[0m         \u001b[1;32mexcept\u001b[0m \u001b[0mException\u001b[0m \u001b[1;32mas\u001b[0m \u001b[0me\u001b[0m\u001b[1;33m:\u001b[0m\u001b[1;33m\u001b[0m\u001b[1;33m\u001b[0m\u001b[0m\n\u001b[0;32m     67\u001b[0m             \u001b[0mfiltered_tb\u001b[0m \u001b[1;33m=\u001b[0m \u001b[0m_process_traceback_frames\u001b[0m\u001b[1;33m(\u001b[0m\u001b[0me\u001b[0m\u001b[1;33m.\u001b[0m\u001b[0m__traceback__\u001b[0m\u001b[1;33m)\u001b[0m\u001b[1;33m\u001b[0m\u001b[1;33m\u001b[0m\u001b[0m\n",
      "\u001b[1;32m~\\anaconda3\\lib\\site-packages\\keras\\engine\\training.py\u001b[0m in \u001b[0;36mfit\u001b[1;34m(self, x, y, batch_size, epochs, verbose, callbacks, validation_split, validation_data, shuffle, class_weight, sample_weight, initial_epoch, steps_per_epoch, validation_steps, validation_batch_size, validation_freq, max_queue_size, workers, use_multiprocessing)\u001b[0m\n\u001b[0;32m   1648\u001b[0m                         ):\n\u001b[0;32m   1649\u001b[0m                             \u001b[0mcallbacks\u001b[0m\u001b[1;33m.\u001b[0m\u001b[0mon_train_batch_begin\u001b[0m\u001b[1;33m(\u001b[0m\u001b[0mstep\u001b[0m\u001b[1;33m)\u001b[0m\u001b[1;33m\u001b[0m\u001b[1;33m\u001b[0m\u001b[0m\n\u001b[1;32m-> 1650\u001b[1;33m                             \u001b[0mtmp_logs\u001b[0m \u001b[1;33m=\u001b[0m \u001b[0mself\u001b[0m\u001b[1;33m.\u001b[0m\u001b[0mtrain_function\u001b[0m\u001b[1;33m(\u001b[0m\u001b[0miterator\u001b[0m\u001b[1;33m)\u001b[0m\u001b[1;33m\u001b[0m\u001b[1;33m\u001b[0m\u001b[0m\n\u001b[0m\u001b[0;32m   1651\u001b[0m                             \u001b[1;32mif\u001b[0m \u001b[0mdata_handler\u001b[0m\u001b[1;33m.\u001b[0m\u001b[0mshould_sync\u001b[0m\u001b[1;33m:\u001b[0m\u001b[1;33m\u001b[0m\u001b[1;33m\u001b[0m\u001b[0m\n\u001b[0;32m   1652\u001b[0m                                 \u001b[0mcontext\u001b[0m\u001b[1;33m.\u001b[0m\u001b[0masync_wait\u001b[0m\u001b[1;33m(\u001b[0m\u001b[1;33m)\u001b[0m\u001b[1;33m\u001b[0m\u001b[1;33m\u001b[0m\u001b[0m\n",
      "\u001b[1;32m~\\anaconda3\\lib\\site-packages\\tensorflow\\python\\util\\traceback_utils.py\u001b[0m in \u001b[0;36merror_handler\u001b[1;34m(*args, **kwargs)\u001b[0m\n\u001b[0;32m    148\u001b[0m     \u001b[0mfiltered_tb\u001b[0m \u001b[1;33m=\u001b[0m \u001b[1;32mNone\u001b[0m\u001b[1;33m\u001b[0m\u001b[1;33m\u001b[0m\u001b[0m\n\u001b[0;32m    149\u001b[0m     \u001b[1;32mtry\u001b[0m\u001b[1;33m:\u001b[0m\u001b[1;33m\u001b[0m\u001b[1;33m\u001b[0m\u001b[0m\n\u001b[1;32m--> 150\u001b[1;33m       \u001b[1;32mreturn\u001b[0m \u001b[0mfn\u001b[0m\u001b[1;33m(\u001b[0m\u001b[1;33m*\u001b[0m\u001b[0margs\u001b[0m\u001b[1;33m,\u001b[0m \u001b[1;33m**\u001b[0m\u001b[0mkwargs\u001b[0m\u001b[1;33m)\u001b[0m\u001b[1;33m\u001b[0m\u001b[1;33m\u001b[0m\u001b[0m\n\u001b[0m\u001b[0;32m    151\u001b[0m     \u001b[1;32mexcept\u001b[0m \u001b[0mException\u001b[0m \u001b[1;32mas\u001b[0m \u001b[0me\u001b[0m\u001b[1;33m:\u001b[0m\u001b[1;33m\u001b[0m\u001b[1;33m\u001b[0m\u001b[0m\n\u001b[0;32m    152\u001b[0m       \u001b[0mfiltered_tb\u001b[0m \u001b[1;33m=\u001b[0m \u001b[0m_process_traceback_frames\u001b[0m\u001b[1;33m(\u001b[0m\u001b[0me\u001b[0m\u001b[1;33m.\u001b[0m\u001b[0m__traceback__\u001b[0m\u001b[1;33m)\u001b[0m\u001b[1;33m\u001b[0m\u001b[1;33m\u001b[0m\u001b[0m\n",
      "\u001b[1;32m~\\anaconda3\\lib\\site-packages\\tensorflow\\python\\eager\\polymorphic_function\\polymorphic_function.py\u001b[0m in \u001b[0;36m__call__\u001b[1;34m(self, *args, **kwds)\u001b[0m\n\u001b[0;32m    878\u001b[0m \u001b[1;33m\u001b[0m\u001b[0m\n\u001b[0;32m    879\u001b[0m       \u001b[1;32mwith\u001b[0m \u001b[0mOptionalXlaContext\u001b[0m\u001b[1;33m(\u001b[0m\u001b[0mself\u001b[0m\u001b[1;33m.\u001b[0m\u001b[0m_jit_compile\u001b[0m\u001b[1;33m)\u001b[0m\u001b[1;33m:\u001b[0m\u001b[1;33m\u001b[0m\u001b[1;33m\u001b[0m\u001b[0m\n\u001b[1;32m--> 880\u001b[1;33m         \u001b[0mresult\u001b[0m \u001b[1;33m=\u001b[0m \u001b[0mself\u001b[0m\u001b[1;33m.\u001b[0m\u001b[0m_call\u001b[0m\u001b[1;33m(\u001b[0m\u001b[1;33m*\u001b[0m\u001b[0margs\u001b[0m\u001b[1;33m,\u001b[0m \u001b[1;33m**\u001b[0m\u001b[0mkwds\u001b[0m\u001b[1;33m)\u001b[0m\u001b[1;33m\u001b[0m\u001b[1;33m\u001b[0m\u001b[0m\n\u001b[0m\u001b[0;32m    881\u001b[0m \u001b[1;33m\u001b[0m\u001b[0m\n\u001b[0;32m    882\u001b[0m       \u001b[0mnew_tracing_count\u001b[0m \u001b[1;33m=\u001b[0m \u001b[0mself\u001b[0m\u001b[1;33m.\u001b[0m\u001b[0mexperimental_get_tracing_count\u001b[0m\u001b[1;33m(\u001b[0m\u001b[1;33m)\u001b[0m\u001b[1;33m\u001b[0m\u001b[1;33m\u001b[0m\u001b[0m\n",
      "\u001b[1;32m~\\anaconda3\\lib\\site-packages\\tensorflow\\python\\eager\\polymorphic_function\\polymorphic_function.py\u001b[0m in \u001b[0;36m_call\u001b[1;34m(self, *args, **kwds)\u001b[0m\n\u001b[0;32m    910\u001b[0m       \u001b[1;31m# In this case we have created variables on the first call, so we run the\u001b[0m\u001b[1;33m\u001b[0m\u001b[1;33m\u001b[0m\u001b[0m\n\u001b[0;32m    911\u001b[0m       \u001b[1;31m# defunned version which is guaranteed to never create variables.\u001b[0m\u001b[1;33m\u001b[0m\u001b[1;33m\u001b[0m\u001b[0m\n\u001b[1;32m--> 912\u001b[1;33m       \u001b[1;32mreturn\u001b[0m \u001b[0mself\u001b[0m\u001b[1;33m.\u001b[0m\u001b[0m_no_variable_creation_fn\u001b[0m\u001b[1;33m(\u001b[0m\u001b[1;33m*\u001b[0m\u001b[0margs\u001b[0m\u001b[1;33m,\u001b[0m \u001b[1;33m**\u001b[0m\u001b[0mkwds\u001b[0m\u001b[1;33m)\u001b[0m  \u001b[1;31m# pylint: disable=not-callable\u001b[0m\u001b[1;33m\u001b[0m\u001b[1;33m\u001b[0m\u001b[0m\n\u001b[0m\u001b[0;32m    913\u001b[0m     \u001b[1;32melif\u001b[0m \u001b[0mself\u001b[0m\u001b[1;33m.\u001b[0m\u001b[0m_variable_creation_fn\u001b[0m \u001b[1;32mis\u001b[0m \u001b[1;32mnot\u001b[0m \u001b[1;32mNone\u001b[0m\u001b[1;33m:\u001b[0m\u001b[1;33m\u001b[0m\u001b[1;33m\u001b[0m\u001b[0m\n\u001b[0;32m    914\u001b[0m       \u001b[1;31m# Release the lock early so that multiple threads can perform the call\u001b[0m\u001b[1;33m\u001b[0m\u001b[1;33m\u001b[0m\u001b[0m\n",
      "\u001b[1;32m~\\anaconda3\\lib\\site-packages\\tensorflow\\python\\eager\\polymorphic_function\\tracing_compiler.py\u001b[0m in \u001b[0;36m__call__\u001b[1;34m(self, *args, **kwargs)\u001b[0m\n\u001b[0;32m    132\u001b[0m       (concrete_function,\n\u001b[0;32m    133\u001b[0m        filtered_flat_args) = self._maybe_define_function(args, kwargs)\n\u001b[1;32m--> 134\u001b[1;33m     return concrete_function._call_flat(\n\u001b[0m\u001b[0;32m    135\u001b[0m         filtered_flat_args, captured_inputs=concrete_function.captured_inputs)  # pylint: disable=protected-access\n\u001b[0;32m    136\u001b[0m \u001b[1;33m\u001b[0m\u001b[0m\n",
      "\u001b[1;32m~\\anaconda3\\lib\\site-packages\\tensorflow\\python\\eager\\polymorphic_function\\monomorphic_function.py\u001b[0m in \u001b[0;36m_call_flat\u001b[1;34m(self, args, captured_inputs, cancellation_manager)\u001b[0m\n\u001b[0;32m   1743\u001b[0m         and executing_eagerly):\n\u001b[0;32m   1744\u001b[0m       \u001b[1;31m# No tape is watching; skip to running the function.\u001b[0m\u001b[1;33m\u001b[0m\u001b[1;33m\u001b[0m\u001b[0m\n\u001b[1;32m-> 1745\u001b[1;33m       return self._build_call_outputs(self._inference_function.call(\n\u001b[0m\u001b[0;32m   1746\u001b[0m           ctx, args, cancellation_manager=cancellation_manager))\n\u001b[0;32m   1747\u001b[0m     forward_backward = self._select_forward_and_backward_functions(\n",
      "\u001b[1;32m~\\anaconda3\\lib\\site-packages\\tensorflow\\python\\eager\\polymorphic_function\\monomorphic_function.py\u001b[0m in \u001b[0;36mcall\u001b[1;34m(self, ctx, args, cancellation_manager)\u001b[0m\n\u001b[0;32m    376\u001b[0m       \u001b[1;32mwith\u001b[0m \u001b[0m_InterpolateFunctionError\u001b[0m\u001b[1;33m(\u001b[0m\u001b[0mself\u001b[0m\u001b[1;33m)\u001b[0m\u001b[1;33m:\u001b[0m\u001b[1;33m\u001b[0m\u001b[1;33m\u001b[0m\u001b[0m\n\u001b[0;32m    377\u001b[0m         \u001b[1;32mif\u001b[0m \u001b[0mcancellation_manager\u001b[0m \u001b[1;32mis\u001b[0m \u001b[1;32mNone\u001b[0m\u001b[1;33m:\u001b[0m\u001b[1;33m\u001b[0m\u001b[1;33m\u001b[0m\u001b[0m\n\u001b[1;32m--> 378\u001b[1;33m           outputs = execute.execute(\n\u001b[0m\u001b[0;32m    379\u001b[0m               \u001b[0mstr\u001b[0m\u001b[1;33m(\u001b[0m\u001b[0mself\u001b[0m\u001b[1;33m.\u001b[0m\u001b[0msignature\u001b[0m\u001b[1;33m.\u001b[0m\u001b[0mname\u001b[0m\u001b[1;33m)\u001b[0m\u001b[1;33m,\u001b[0m\u001b[1;33m\u001b[0m\u001b[1;33m\u001b[0m\u001b[0m\n\u001b[0;32m    380\u001b[0m               \u001b[0mnum_outputs\u001b[0m\u001b[1;33m=\u001b[0m\u001b[0mself\u001b[0m\u001b[1;33m.\u001b[0m\u001b[0m_num_outputs\u001b[0m\u001b[1;33m,\u001b[0m\u001b[1;33m\u001b[0m\u001b[1;33m\u001b[0m\u001b[0m\n",
      "\u001b[1;32m~\\anaconda3\\lib\\site-packages\\tensorflow\\python\\eager\\execute.py\u001b[0m in \u001b[0;36mquick_execute\u001b[1;34m(op_name, num_outputs, inputs, attrs, ctx, name)\u001b[0m\n\u001b[0;32m     50\u001b[0m   \u001b[1;32mtry\u001b[0m\u001b[1;33m:\u001b[0m\u001b[1;33m\u001b[0m\u001b[1;33m\u001b[0m\u001b[0m\n\u001b[0;32m     51\u001b[0m     \u001b[0mctx\u001b[0m\u001b[1;33m.\u001b[0m\u001b[0mensure_initialized\u001b[0m\u001b[1;33m(\u001b[0m\u001b[1;33m)\u001b[0m\u001b[1;33m\u001b[0m\u001b[1;33m\u001b[0m\u001b[0m\n\u001b[1;32m---> 52\u001b[1;33m     tensors = pywrap_tfe.TFE_Py_Execute(ctx._handle, device_name, op_name,\n\u001b[0m\u001b[0;32m     53\u001b[0m                                         inputs, attrs, num_outputs)\n\u001b[0;32m     54\u001b[0m   \u001b[1;32mexcept\u001b[0m \u001b[0mcore\u001b[0m\u001b[1;33m.\u001b[0m\u001b[0m_NotOkStatusException\u001b[0m \u001b[1;32mas\u001b[0m \u001b[0me\u001b[0m\u001b[1;33m:\u001b[0m\u001b[1;33m\u001b[0m\u001b[1;33m\u001b[0m\u001b[0m\n",
      "\u001b[1;31mKeyboardInterrupt\u001b[0m: "
     ]
    }
   ],
   "source": [
    "trainHist = model.fit(\n",
    "    sequences_train,\n",
    "    targets_train,\n",
    "    epochs=50,\n",
    "    batch_size=128,\n",
    "    validation_split=0.0,\n",
    "    callbacks=[\n",
    "        tf.keras.callbacks.EarlyStopping(monitor=\"loss\", patience=5, mode=\"min\"),\n",
    "#         tf.keras.callbacks.LearningRateScheduler(lambda epoch: lr * (0.9 ** epoch))\n",
    "    ],\n",
    ")"
   ]
  },
  {
   "cell_type": "code",
   "execution_count": 122,
   "id": "be3a5a2b",
   "metadata": {
    "scrolled": true
   },
   "outputs": [
    {
     "name": "stderr",
     "output_type": "stream",
     "text": [
      "WARNING:absl:Found untraced functions such as _update_step_xla while saving (showing 1 of 1). These functions will not be directly callable after loading.\n"
     ]
    },
    {
     "name": "stdout",
     "output_type": "stream",
     "text": [
      "INFO:tensorflow:Assets written to: C:\\ml_projects\\rise-gh.git\\rise-gh\\model\\saved\\temp_diff_model_v203\\assets\n"
     ]
    },
    {
     "name": "stderr",
     "output_type": "stream",
     "text": [
      "INFO:tensorflow:Assets written to: C:\\ml_projects\\rise-gh.git\\rise-gh\\model\\saved\\temp_diff_model_v203\\assets\n"
     ]
    }
   ],
   "source": [
    "# model_name = 'temp_diff_model_v203'\n",
    "# model.save(save_path + model_name)"
   ]
  },
  {
   "cell_type": "code",
   "execution_count": null,
   "id": "eb9c5a71",
   "metadata": {},
   "outputs": [],
   "source": [
    "# model = tf.keras.models.load_model(save_path + 'temp_diff_model_v202')\n",
    "# model.summary()"
   ]
  },
  {
   "cell_type": "code",
   "execution_count": 50,
   "id": "66b952aa",
   "metadata": {},
   "outputs": [
    {
     "name": "stdout",
     "output_type": "stream",
     "text": [
      "441/441 [==============================] - 7s 13ms/step\n"
     ]
    }
   ],
   "source": [
    "preds = model.predict(sequences_test)"
   ]
  },
  {
   "cell_type": "code",
   "execution_count": 52,
   "id": "88bf2e01",
   "metadata": {},
   "outputs": [
    {
     "data": {
      "image/png": "[encoded data removed]",
      "text/plain": [
       "<Figure size 588.25x500 with 1 Axes>"
      ]
     },
     "metadata": {},
     "output_type": "display_data"
    }
   ],
   "source": [
    "preds_df = pd.DataFrame(data=[targets_test / 10, np.squeeze(preds) / 10]).T\n",
    "preds_df.columns = ['True', 'Preds']\n",
    "# preds_df.index = data.time.date.iloc[-5760:]\n",
    "\n",
    "ax = sns.relplot(\n",
    "    data=preds_df,\n",
    "    kind='line',\n",
    "    palette=sns.color_palette('bright')[1:3],\n",
    "    linewidth=2.0,\n",
    "    markers=False,\n",
    "    dashes=True\n",
    ")\n",
    "\n",
    "# ax.set_xticklabels(step=2)\n",
    "sns.move_legend(ax, loc='upper right', frameon=True, bbox_to_anchor=(0.9, 0.9))\n",
    "plt.xlim(0, 1500)\n",
    "plt.ylim(-5, 5)\n",
    "plt.xlabel('$t$')\n",
    "plt.ylabel('$\\Delta \\\\tau$, C$^{\\circ}$', rotation=0, labelpad=20)\n",
    "plt.title('Temperature diff. predictions (10 mins.)')\n",
    "plt.savefig(plot_path + 'temp_diff_model_preds.png', bbox_inches='tight', dpi=200)\n",
    "plt.show()"
   ]
  },
  {
   "cell_type": "code",
   "execution_count": 57,
   "id": "042b6087",
   "metadata": {},
   "outputs": [
    {
     "data": {
      "text/plain": [
       "array([(4, 22), (3, 4), (3, 3), (1, 12), (2, 26), (1, 11), (1, 18),\n",
       "       (1, 8), (4, 18), (1, 1), (1, 31), (1, 2), (3, 16)], dtype=object)"
      ]
     },
     "execution_count": 57,
     "metadata": {},
     "output_type": "execute_result"
    }
   ],
   "source": [
    "days[train_n:]"
   ]
  },
  {
   "cell_type": "code",
   "execution_count": 59,
   "id": "19cdae22",
   "metadata": {},
   "outputs": [
    {
     "data": {
      "image/png": "[encoded data removed]",
      "text/plain": [
       "<Figure size 640x480 with 1 Axes>"
      ]
     },
     "metadata": {},
     "output_type": "display_data"
    }
   ],
   "source": [
    "# temp_diffs = np.abs(np.squeeze(vis_preds / 10) - test_targets / 10)\n",
    "temp_diffs = (np.squeeze(preds) / 10) - (targets_test / 10)\n",
    "# temp_diffs = (np.squeeze(preds) / 10) - (Y_test / 10)\n",
    "diff_df = pd.DataFrame(temp_diffs)\n",
    "\n",
    "sns.histplot(\n",
    "    data=diff_df,\n",
    "    stat='count',\n",
    "    binwidth=0.05,\n",
    "    binrange=[-2.0, 2.0],\n",
    "    kde=False,\n",
    "    palette=sns.color_palette('bright')[3:4],\n",
    "    legend=False\n",
    ")\n",
    "\n",
    "plt.title('Distribution of errors')\n",
    "plt.xlim(-2.0, 2.0)\n",
    "plt.ylim(0, 1500)\n",
    "plt.xlabel('$\\Delta \\\\tau$ error, C$^\\circ$')\n",
    "\n",
    "plt.savefig(plot_path + 'temp_error_dist.png', bbox_inches='tight', dpi=200)\n",
    "plt.show()"
   ]
  },
  {
   "cell_type": "code",
   "execution_count": 60,
   "id": "ed7c88e1",
   "metadata": {},
   "outputs": [
    {
     "data": {
      "image/png": "[encoded data removed]",
      "text/plain": [
       "<Figure size 640x480 with 1 Axes>"
      ]
     },
     "metadata": {},
     "output_type": "display_data"
    }
   ],
   "source": [
    "preds_df = pd.DataFrame(np.squeeze(preds) / 10)\n",
    "# preds_df = pd.DataFrame(np.squeeze(preds) / 10)\n",
    "\n",
    "sns.histplot(\n",
    "    data=preds_df,\n",
    "    stat='count',\n",
    "    binwidth=0.05,\n",
    "    binrange=[-2.0, 2.0],\n",
    "    kde=False,\n",
    "    palette=sns.color_palette('bright')[2:3],\n",
    "    legend=False\n",
    ")\n",
    "\n",
    "plt.title('Distribution of 10-minute forward predictions')\n",
    "plt.xlim(-2.0, 2.0)\n",
    "plt.ylim(0, 1500)\n",
    "plt.xlabel('$\\Delta \\\\tau$, C$^\\circ$')\n",
    "\n",
    "plt.savefig(plot_path + 'temp_preds_dist.png', bbox_inches='tight', dpi=200)\n",
    "plt.show()"
   ]
  },
  {
   "cell_type": "code",
   "execution_count": 61,
   "id": "ab2fb922",
   "metadata": {},
   "outputs": [
    {
     "data": {
      "image/png": "[encoded data removed]",
      "text/plain": [
       "<Figure size 640x480 with 1 Axes>"
      ]
     },
     "metadata": {},
     "output_type": "display_data"
    }
   ],
   "source": [
    "sns.histplot(\n",
    "    data=preds_df,\n",
    "    stat='count',\n",
    "    binwidth=0.05,\n",
    "    binrange=[-2.0, 2.0],\n",
    "    kde=False,\n",
    "    palette=sns.color_palette('bright')[2:3],\n",
    "    legend=False,\n",
    "    label='Predictions'\n",
    ")\n",
    "\n",
    "sns.histplot(\n",
    "    data=diff_df,\n",
    "    stat='count',\n",
    "    binwidth=0.05,\n",
    "    binrange=[-2.0, 2.0],\n",
    "    kde=False,\n",
    "    palette=sns.color_palette('bright')[3:4],\n",
    "    legend=False,\n",
    "    label='Errors',\n",
    ")\n",
    "\n",
    "plt.title('Distribution of 10-minute forward predictions')\n",
    "plt.xlim(-2.0, 2.0)\n",
    "# plt.ylim(0, 1500)\n",
    "plt.xlabel('$\\Delta \\\\tau$, C$^\\circ$')\n",
    "plt.legend()\n",
    "\n",
    "plt.savefig(plot_path + 'temp_both_dist.png', bbox_inches='tight', dpi=200)\n",
    "plt.show()"
   ]
  },
  {
   "cell_type": "code",
   "execution_count": null,
   "id": "cde27b86",
   "metadata": {},
   "outputs": [],
   "source": []
  }
 ],
 "metadata": {
  "kernelspec": {
   "display_name": "Python 3 (ipykernel)",
   "language": "python",
   "name": "python3"
  },
  "language_info": {
   "codemirror_mode": {
    "name": "ipython",
    "version": 3
   },
   "file_extension": ".py",
   "mimetype": "text/x-python",
   "name": "python",
   "nbconvert_exporter": "python",
   "pygments_lexer": "ipython3",
   "version": "3.9.13"
  }
 },
 "nbformat": 4,
 "nbformat_minor": 5
}
