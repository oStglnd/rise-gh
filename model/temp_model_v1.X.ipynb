{
 "cells": [
  {
   "cell_type": "markdown",
   "id": "3c35d1cc",
   "metadata": {},
   "source": [
    "# Short-term Temperature Model Test"
   ]
  },
  {
   "cell_type": "markdown",
   "id": "195db0c9",
   "metadata": {},
   "source": [
    "## Import dependencies and data"
   ]
  },
  {
   "cell_type": "code",
   "execution_count": 1,
   "id": "77453a55",
   "metadata": {},
   "outputs": [],
   "source": [
    "# import dependencies\n",
    "import os\n",
    "import json\n",
    "import pandas as pd\n",
    "\n",
    "import matplotlib.pyplot as plt\n",
    "import seaborn as sns\n",
    "\n",
    "import numpy as np\n",
    "import tensorflow as tf\n",
    "\n",
    "from tensorflow.keras import layers, Model\n",
    "from scipy.fftpack import fft, ifft, fftfreq"
   ]
  },
  {
   "cell_type": "code",
   "execution_count": 2,
   "id": "b5dee1ac",
   "metadata": {},
   "outputs": [],
   "source": [
    "# define relevant paths\n",
    "home_path = os.path.dirname(os.getcwd())\n",
    "data_path = home_path + '\\\\data\\\\'\n",
    "plot_path = home_path + '\\\\plotting\\\\plots\\\\'\n",
    "save_path = home_path + '\\\\model\\\\saved\\\\'"
   ]
  },
  {
   "cell_type": "code",
   "execution_count": 144,
   "id": "a747b251",
   "metadata": {},
   "outputs": [],
   "source": [
    "# get merged data\n",
    "data = pd.read_csv(\n",
    "    data_path + 'data_merged.csv',\n",
    "    header=[0, 1],\n",
    "    index_col=[0, 1, 2, 3, 4]\n",
    ")\n",
    "\n",
    "# convert index.date col to datetime\n",
    "#data.index = pd.to_datetime(data.index.values)\n",
    "data.loc[:, ('time', 'date')] = pd.to_datetime(data.time.date)"
   ]
  },
  {
   "cell_type": "code",
   "execution_count": 145,
   "id": "b0f46624",
   "metadata": {},
   "outputs": [],
   "source": [
    "# define X vars\n",
    "x_vars = [\n",
    "    ('flow', 'TA01_GP101'),\n",
    "    ('flow', 'TA02_GP101'),\n",
    "    ('state', 'TA01_output'),\n",
    "    ('state', 'TA02_output'),\n",
    "    ('temperatures', 'TA01_GT10X_GM10X'),\n",
    "    ('temperatures', 'DC_GT101_GM101'),\n",
    "    ('temperatures', 'DC_GT102_GM102'),\n",
    "    ('temperatures', 'DC_GT103_GM103'),\n",
    "    ('temperatures', 'DC_GT104_GM104'),\n",
    "    ('temperatures', 'DC_GT401_GM401'),\n",
    "    ('temperatures', 'TA01_GT401_GM401'),\n",
    "    ('temperatures', 'TA02_GT401_GM401'),\n",
    "    ('temperatures', 'DC_GT301_damped'),\n",
    "    ('temperatures', 'DC_GT301_outdoor'),\n",
    "    ('humidity', 'TA01_GT10X_GM10X'),\n",
    "    ('humidity', 'DC_GT101_GM101'),\n",
    "    ('humidity', 'DC_GT102_GM102'),\n",
    "    ('humidity', 'DC_GT103_GM103'),\n",
    "    ('humidity', 'DC_GT104_GM104'),\n",
    "    ('humidity', 'DC_GT401_GM401'),\n",
    "    ('setpoints', 'TA01_GT10X_GM10X'),\n",
    "    ('sun', 'gsi'),\n",
    "    ('sun', 'gsi_deriv'),\n",
    "    ('sun', 'vol'),\n",
    "    ('sun', 'vol_deriv'),\n",
    "    ('wind', 'Wx'),\n",
    "    ('wind', 'Wy'),\n",
    "    ('time', 'dayofyear'),\n",
    "    ('time', 'monthofyear'),\n",
    "    ('time', 'minofday'),\n",
    "    ('time', 'hourofday')\n",
    "]\n",
    "\n",
    "# filter columns to keep only x_vars\n",
    "data = data[x_vars].copy()"
   ]
  },
  {
   "cell_type": "markdown",
   "id": "33ae9eb6",
   "metadata": {},
   "source": [
    "## Describe Df"
   ]
  },
  {
   "cell_type": "code",
   "execution_count": 146,
   "id": "be306b52",
   "metadata": {},
   "outputs": [
    {
     "name": "stdout",
     "output_type": "stream",
     "text": [
      "Number of NAs\n",
      "\n",
      "category      sensor_ID       \n",
      "flow          TA01_GP101          13\n",
      "              TA02_GP101          11\n",
      "state         TA01_output         15\n",
      "              TA02_output         14\n",
      "temperatures  TA01_GT10X_GM10X    14\n",
      "              DC_GT101_GM101      12\n",
      "              DC_GT102_GM102      12\n",
      "              DC_GT103_GM103      11\n",
      "              DC_GT104_GM104      11\n",
      "              DC_GT401_GM401      13\n",
      "              TA01_GT401_GM401    13\n",
      "              TA02_GT401_GM401    12\n",
      "              DC_GT301_damped     12\n",
      "              DC_GT301_outdoor    12\n",
      "humidity      TA01_GT10X_GM10X    15\n",
      "              DC_GT101_GM101      12\n",
      "              DC_GT102_GM102      12\n",
      "              DC_GT103_GM103      12\n",
      "              DC_GT104_GM104      10\n",
      "              DC_GT401_GM401      14\n",
      "setpoints     TA01_GT10X_GM10X    14\n",
      "sun           gsi                  3\n",
      "              gsi_deriv            3\n",
      "              vol                  3\n",
      "              vol_deriv            3\n",
      "wind          Wx                   3\n",
      "              Wy                   3\n",
      "time          dayofyear            3\n",
      "              monthofyear          3\n",
      "              minofday             3\n",
      "              hourofday            3\n",
      "dtype: int64\n",
      "\n",
      "\n",
      "\n"
     ]
    }
   ],
   "source": [
    "# print number of NAs\n",
    "print('Number of NAs\\n')\n",
    "print(data.isna().sum())\n",
    "print('\\n\\n')"
   ]
  },
  {
   "cell_type": "code",
   "execution_count": 147,
   "id": "4da9d182",
   "metadata": {},
   "outputs": [],
   "source": [
    "# remove single NAN\n",
    "data = data.dropna(how='any')"
   ]
  },
  {
   "cell_type": "code",
   "execution_count": 148,
   "id": "7f678417",
   "metadata": {},
   "outputs": [],
   "source": [
    "cols = [\n",
    "    'DC_GT101_GM101',\n",
    "    'DC_GT102_GM102',\n",
    "    'DC_GT103_GM103',\n",
    "    'DC_GT104_GM104'\n",
    "]\n",
    "\n",
    "for col in cols:\n",
    "    data[('flag', col)] = (((data.temperatures[col] - data.temperatures[col].shift(1)) < -1) \\\n",
    "                            & ((data.humidity[col] - data.humidity[col].shift(1)) > 5)) \\\n",
    "                            | (data.humidity[col] > 70)\n",
    "\n",
    "    hrs = data.groupby(['month', 'day', 'hour']).sum()[('flag', col)] > 0\n",
    "    hrsDrop = hrs[hrs == 1].index.values\n",
    "    mask = np.array([hr not in list(hrsDrop) for hr in data.index.droplevel(-1).droplevel(-1).values])\n",
    "    data = data[mask]\n",
    "    \n",
    "    hrs = data.groupby(['month', 'day', 'hour']).var()[('humidity', col)] > 40\n",
    "    hrsDrop = hrs[hrs == 1].index.values\n",
    "    mask = np.array([hr not in list(hrsDrop) for hr in data.index.droplevel(-1).droplevel(-1).values])\n",
    "    data = data[mask]\n",
    "    \n",
    "#     days = data.groupby(['month', 'day']).sum()[('flag', col)] > 0\n",
    "#     daysDrop = days[days == 1].index.values\n",
    "#     mask = np.array([day not in list(daysDrop) for day in data.index.droplevel(-1).droplevel(-1).droplevel(-1).values])\n",
    "    "
   ]
  },
  {
   "cell_type": "markdown",
   "id": "3424585c",
   "metadata": {},
   "source": [
    "# Feature engineering"
   ]
  },
  {
   "cell_type": "markdown",
   "id": "dce24a16",
   "metadata": {},
   "source": [
    "### DC-temp scaling"
   ]
  },
  {
   "cell_type": "code",
   "execution_count": 149,
   "id": "be3d1efd",
   "metadata": {},
   "outputs": [],
   "source": [
    "# ta01_min = 1784.75\n",
    "# ta01_max = 5173.86\n",
    "\n",
    "# ta02_min = 0.0\n",
    "# ta02_max = 5248.95"
   ]
  },
  {
   "cell_type": "code",
   "execution_count": 150,
   "id": "f24579a2",
   "metadata": {},
   "outputs": [],
   "source": [
    "ta01_min = 35\n",
    "ta01_max = 75\n",
    "\n",
    "ta02_min = 0\n",
    "ta02_max = 85"
   ]
  },
  {
   "cell_type": "code",
   "execution_count": 151,
   "id": "46c80205",
   "metadata": {},
   "outputs": [],
   "source": [
    "# data[('flow', 'TA01_minmax')] = (data.flow.TA01_GP101 - ta01_min) / (ta01_max - ta01_min)\n",
    "# data[('flow', 'TA02_minmax')] = (data.flow.TA02_GP101 - ta02_min) / (ta02_max - ta02_min)\n",
    "\n",
    "# data[('temperatures', 'DC_GT401_GM401_scaled')] = data.temperatures.DC_GT401_GM401 * data.flow.TA01_minmax\n",
    "# data[('temperatures', 'TA01_GT401_GM401_scaled')] = data.temperatures.TA01_GT401_GM401 * data.flow.TA01_minmax\n",
    "# data[('temperatures', 'DC_GT301_damped_scaled')] = data.temperatures.DC_GT301_damped * data.flow.TA02_minmax\n",
    "\n",
    "data[('state', 'TA01_output_minmax')] = (data.state.TA01_output - ta01_min) / (ta01_max - ta01_min)\n",
    "data[('state', 'TA02_output_minmax')] = (data.state.TA02_output - ta02_min) / (ta02_max - ta02_min)\n",
    "\n",
    "data[('temperatures', 'DC_GT401_GM401_scaled')] = data.temperatures.DC_GT401_GM401 * data.state.TA01_output_minmax\n",
    "data[('temperatures', 'TA01_GT401_GM401_scaled')] = data.temperatures.TA01_GT401_GM401 * data.state.TA01_output_minmax\n",
    "data[('temperatures', 'DC_GT301_damped_scaled')] = data.temperatures.DC_GT301_damped * data.state.TA02_output_minmax"
   ]
  },
  {
   "cell_type": "code",
   "execution_count": 152,
   "id": "817f98c6",
   "metadata": {},
   "outputs": [],
   "source": [
    "data[('temperatures', 'TA_inflow')] = data.temperatures.TA01_GT401_GM401_scaled + data.temperatures.DC_GT301_damped_scaled"
   ]
  },
  {
   "cell_type": "markdown",
   "id": "a15ace44",
   "metadata": {},
   "source": [
    "## Split TRAIN / TEST"
   ]
  },
  {
   "cell_type": "code",
   "execution_count": 670,
   "id": "85f830c8",
   "metadata": {},
   "outputs": [],
   "source": [
    "## Randomly select days for trainin and testing\n",
    "days = data.groupby(['month', 'day'], sort=False).count().index.values\n",
    "\n",
    "# get number of days f. testing / training\n",
    "train_frac = 0.95\n",
    "train_n = int(len(days) * train_frac)\n",
    "test_n = len(days) - train_n\n",
    "\n",
    "# split dataset\n",
    "#np.random.shuffle(days)\n",
    "mask = np.array([day in list(days[:train_n]) for day in data.index.droplevel(-1).droplevel(-1).droplevel(-1).values])\n",
    "data_train = data.loc[mask].copy()\n",
    "data_test = data.loc[~mask].copy()\n",
    "\n",
    "# del data"
   ]
  },
  {
   "cell_type": "markdown",
   "id": "57f0a251",
   "metadata": {},
   "source": [
    "## NOISE reduction"
   ]
  },
  {
   "cell_type": "markdown",
   "id": "adf11468",
   "metadata": {},
   "source": [
    "### FFT f. TRAIN data"
   ]
  },
  {
   "cell_type": "code",
   "execution_count": 671,
   "id": "70ae2b3f",
   "metadata": {},
   "outputs": [],
   "source": [
    "# cols = [\n",
    "#     ('temperatures', 'DC_GT102_GM102'),\n",
    "#     ('temperatures', 'DC_GT103_GM103'),\n",
    "#     ('temperatures', 'DC_GT104_GM104'),\n",
    "#     ('temperatures', 'DC_GT401_GM401'),\n",
    "#     ('temperatures', 'TA01_GT401_GM401'),\n",
    "# #     ('temperatures', 'DC_GT301_outdoor'),\n",
    "# #     ('temperatures', 'DC_GT301_damped'),\n",
    "#     ('humidity', 'DC_GT102_GM102'),\n",
    "#     ('humidity', 'DC_GT103_GM103'),\n",
    "#     ('humidity', 'DC_GT104_GM104'),\n",
    "# ]\n",
    "\n",
    "# for col in cols:\n",
    "# #     sig_fft = fft(data.humidity[col].values)\n",
    "#     sig_fft = fft(data_train[col].values)\n",
    "#     sig_fft_filtered = sig_fft.copy()\n",
    "#     sig_fft_noise = sig_fft.copy()\n",
    "    \n",
    "#     #\n",
    "#     freq = fftfreq(len(data_train), d=1/10)\n",
    "#     cut_off = 1\n",
    "    \n",
    "#     sig_fft_filtered[np.abs(freq) > cut_off] = 0\n",
    "#     sig_fft_noise[np.abs(freq) <= cut_off] = 0\n",
    "    \n",
    "#     # get the filtered signal in time domain\n",
    "#     filtered = ifft(sig_fft_filtered)\n",
    "#     noise = ifft(sig_fft_noise)\n",
    "    \n",
    "# #     plt.plot(data_train[col].values[-50:])\n",
    "# #     plt.plot(filtered[-50:])\n",
    "# #     plt.show()\n",
    "# #     break\n",
    "    \n",
    "#     # put in data\n",
    "# #     data.humidity.loc[:, col + '_noise'] = data.humidity[col]\n",
    "#     data_train.loc[:, col] = filtered"
   ]
  },
  {
   "cell_type": "code",
   "execution_count": 672,
   "id": "94cdf105",
   "metadata": {},
   "outputs": [],
   "source": [
    "# cols = [\n",
    "#     (('temperatures', 'DC_GT102_GM102'), 4),\n",
    "#     (('temperatures', 'DC_GT103_GM103'), 4),\n",
    "#     (('temperatures', 'DC_GT104_GM104'), 4),\n",
    "# #     (('temperatures', 'DC_GT401_GM401'), 3), #3),\n",
    "#     (('temperatures', 'TA01_GT401_GM401'), 3), #3),\n",
    "#     (('temperatures', 'TA01_GT401_GM401_scaled'), 3), #3),\n",
    "#     (('temperatures', 'DC_GT301_outdoor'), 4),\n",
    "#     (('temperatures', 'DC_GT301_damped'), 4),\n",
    "#     (('temperatures', 'DC_GT301_damped_scaled'), 4),\n",
    "#     (('humidity', 'DC_GT102_GM102'), 4),\n",
    "#     (('humidity', 'DC_GT103_GM103'), 4),\n",
    "#     (('humidity', 'DC_GT104_GM104'), 4),\n",
    "# ]\n",
    "\n",
    "# for colSpec in cols:\n",
    "#     for day in data_train.groupby(['month', 'day']).count().index.values:\n",
    "#         # apply KALMAN filter to measurements\n",
    "#         col = colSpec[0]\n",
    "#         varExp = colSpec[-1]\n",
    "\n",
    "#         # get data\n",
    "#         X = data_train.loc[day, col].values\n",
    "#         n = len(X)\n",
    "\n",
    "#         # process variance, measurement variance\n",
    "#         Q = 1e-5\n",
    "#         R = 0.1**varExp\n",
    "\n",
    "#         xhat=np.zeros(n)      # a posteri estimate of x\n",
    "#         P=np.zeros(n)         # a posteri error estimate\n",
    "#         xhatminus=np.zeros(n) # a priori estimate of x\n",
    "#         Pminus=np.zeros(n)    # a priori error estimate\n",
    "#         K=np.zeros(n)         # gain or blending factor\n",
    "\n",
    "#         # intial guesses\n",
    "#         xhat[0] = X[0]\n",
    "#         P[0] = 1\n",
    "\n",
    "#         for k in range(1,n):\n",
    "#             # time update\n",
    "#             xhatminus[k] = xhat[k-1]\n",
    "#             Pminus[k] = P[k-1]+Q\n",
    "\n",
    "#             # measurement update\n",
    "#             K[k] = Pminus[k]/( Pminus[k]+R )\n",
    "#             xhat[k] = xhatminus[k]+K[k]*(X[k]-xhatminus[k])\n",
    "#             P[k] = (1-K[k])*Pminus[k]\n",
    "\n",
    "#         data_train.loc[day, col] = xhat"
   ]
  },
  {
   "cell_type": "code",
   "execution_count": 673,
   "id": "8c7adb7f",
   "metadata": {},
   "outputs": [],
   "source": [
    "### create \"better\" estimate of temperature var, w. proper avg.\n",
    "data_train[('temperatures', 'TA01_GT10X_GM10X')] = data_train.temperatures[[\n",
    "#     ('DC_GT101_GM101'),\n",
    "    ('DC_GT102_GM102'), \n",
    "    ('DC_GT103_GM103'), \n",
    "    ('DC_GT104_GM104')\n",
    "]].values.mean(axis=1)\n",
    "\n",
    "# # adjust for setpoint change\n",
    "# data_train[('temperatures', 'TA01_GT10X_GM10X')] += (20.0 - data_train[('setpoints', 'TA01_GT10X_GM10X')])"
   ]
  },
  {
   "cell_type": "code",
   "execution_count": 674,
   "id": "00bd1ba4",
   "metadata": {},
   "outputs": [],
   "source": [
    "### create \"better\" estimate of humidity var, w. proper avg.\n",
    "data_train[('humidity', 'TA01_GT10X_GM10X')] = data_train.humidity[[\n",
    "    # ('DC_GT102_GM101'),\n",
    "    ('DC_GT102_GM102'), \n",
    "    ('DC_GT103_GM103'), \n",
    "    ('DC_GT104_GM104')\n",
    "]].values.mean(axis=1)"
   ]
  },
  {
   "cell_type": "markdown",
   "id": "3d5ae9bc",
   "metadata": {},
   "source": [
    "### KALMAN f. TEST data"
   ]
  },
  {
   "cell_type": "code",
   "execution_count": 675,
   "id": "350a57a0",
   "metadata": {},
   "outputs": [],
   "source": [
    "# cols = [\n",
    "# #     (('temperatures', 'TA01_GT10X_GM10X'), 3)\n",
    "# #     (('temperatures', 'DC_GT102_GM102'), 3),\n",
    "# #     (('temperatures', 'DC_GT103_GM103'), 3),\n",
    "# #     (('temperatures', 'DC_GT104_GM104'), 3),\n",
    "# #     (('temperatures', 'DC_GT401_GM401'), 3), #3),\n",
    "# #     (('temperatures', 'DC_GT401_GM401_scaled'), 3), #3),\n",
    "# #     (('temperatures', 'TA01_GT401_GM401'), 3), #3),\n",
    "# #     (('temperatures', 'TA01_GT401_GM401_scaled'), 3), #3),\n",
    "# #     (('temperatures', 'DC_GT301_outdoor'), 3),\n",
    "# #     (('temperatures', 'DC_GT301_damped'), 3),\n",
    "# #     (('temperatures', 'DC_GT301_damped_scaled'), 3),\n",
    "# #     (('humidity', 'DC_GT102_GM102'), 3),\n",
    "# #     (('humidity', 'DC_GT103_GM103'), 3),\n",
    "# #     (('humidity', 'DC_GT104_GM104'), 3),\n",
    "# ]\n",
    "\n",
    "# for colSpec in cols:\n",
    "#     for day in data_test.groupby(['month', 'day']).count().index.values:\n",
    "#         # apply KALMAN filter to measurements\n",
    "#         col = colSpec[0]\n",
    "#         varExp = colSpec[-1]\n",
    "\n",
    "#         # get data\n",
    "#         X = data_test.loc[day, col].values\n",
    "#         n = len(X)\n",
    "\n",
    "#         # process variance, measurement variance\n",
    "#         Q = 1e-5\n",
    "#         R = 0.1**varExp\n",
    "\n",
    "#         xhat=np.zeros(n)      # a posteri estimate of x\n",
    "#         P=np.zeros(n)         # a posteri error estimate\n",
    "#         xhatminus=np.zeros(n) # a priori estimate of x\n",
    "#         Pminus=np.zeros(n)    # a priori error estimate\n",
    "#         K=np.zeros(n)         # gain or blending factor\n",
    "\n",
    "#         # intial guesses\n",
    "#         xhat[0] = X[0]\n",
    "#         P[0] = 1\n",
    "\n",
    "#         for k in range(1,n):\n",
    "#             # time update\n",
    "#             xhatminus[k] = xhat[k-1]\n",
    "#             Pminus[k] = P[k-1]+Q\n",
    "\n",
    "#             # measurement update\n",
    "#             K[k] = Pminus[k]/( Pminus[k]+R )\n",
    "#             xhat[k] = xhatminus[k]+K[k]*(X[k]-xhatminus[k])\n",
    "#             P[k] = (1-K[k])*Pminus[k]\n",
    "\n",
    "# #         plt.plot(data_test.loc[day, col].values)\n",
    "# #         plt.plot(xhat)\n",
    "# #         plt.show()\n",
    "# #         break\n",
    "            \n",
    "#         data_test.loc[day, col] = xhat"
   ]
  },
  {
   "cell_type": "code",
   "execution_count": 676,
   "id": "28177dac",
   "metadata": {},
   "outputs": [],
   "source": [
    "# cols = [\n",
    "#     ('temperatures', 'DC_GT102_GM102'),\n",
    "#     ('temperatures', 'DC_GT103_GM103'),\n",
    "#     ('temperatures', 'DC_GT104_GM104'),\n",
    "# ]\n",
    "\n",
    "# for col in cols:\n",
    "#     for day in data_test.groupby(['month', 'day']).count().index.values:\n",
    "        \n",
    "#         alpha = 0.9\n",
    "        \n",
    "#         X = data_test.loc[day, col].values\n",
    "#         n = len(X)\n",
    "        \n",
    "#         x = X[0]\n",
    "#         xhat = [x.copy()]\n",
    "\n",
    "#         for k in range(1,n):\n",
    "#             x = alpha * x + (1 - alpha) * X[k]\n",
    "#             xhat.append(x)\n",
    "            \n",
    "#         plt.plot(data_test.loc[day, col].values[-500:])\n",
    "#         plt.plot(xhat[-500:])\n",
    "#         plt.show()\n",
    "#         break\n",
    "            \n",
    "#         data_test.loc[day, col] = xhat"
   ]
  },
  {
   "cell_type": "code",
   "execution_count": 677,
   "id": "847d0145",
   "metadata": {},
   "outputs": [],
   "source": [
    "### create \"better\" estimate of temperature var, w. proper avg.\n",
    "data_test[('temperatures', 'TA01_GT10X_GM10X')] = data_test.temperatures[[\n",
    "    # ('DC_GT102_GM101'),\n",
    "    ('DC_GT102_GM102'), \n",
    "    ('DC_GT103_GM103'), \n",
    "    ('DC_GT104_GM104')\n",
    "]].values.mean(axis=1)\n",
    "\n",
    "\n",
    "# # adjust for setpoint change\n",
    "# data_test[('temperatures', 'TA01_GT10X_GM10X')] += (20.0 - data_test[('setpoints', 'TA01_GT10X_GM10X')])"
   ]
  },
  {
   "cell_type": "code",
   "execution_count": 678,
   "id": "311888b5",
   "metadata": {},
   "outputs": [],
   "source": [
    "### create \"better\" estimate of humidity var, w. proper avg.\n",
    "data_test[('humidity', 'TA01_GT10X_GM10X')] = data_test.humidity[[\n",
    "    # ('DC_GT102_GM101'),\n",
    "    ('DC_GT102_GM102'), \n",
    "    ('DC_GT103_GM103'), \n",
    "    ('DC_GT104_GM104')\n",
    "]].values.mean(axis=1)"
   ]
  },
  {
   "cell_type": "code",
   "execution_count": 679,
   "id": "d6e41bed",
   "metadata": {},
   "outputs": [],
   "source": [
    "# fig, ax = plt.subplots()\n",
    "\n",
    "# # ax.plot(data.temperatures.TA01_GT10X_GM10X.values[-12500:])\n",
    "# ax.plot(data.temperatures.TA01_GT10X_GM10X.values[-10000:-9500])\n",
    "# # ax.plot(data.temperatures.DC_GT102_GM102.values[-12500:-9000])\n",
    "# # ax.plot(data.temperatures.DC_GT103_GM103.values[-12500:-9000])\n",
    "# # ax.plot(data.temperatures.DC_GT301_damped_scaled.values[-12500:])\n",
    "\n",
    "# ax2 = ax.twinx()\n",
    "# ax2.plot(data.temperatures.TA01_GT401_GM401.values[-10000:-9500], 'r')\n",
    "# # ax2.plot(data.sun.gsi.values[-12500:], 'r')\n",
    "# plt.show()"
   ]
  },
  {
   "cell_type": "markdown",
   "id": "4015f82a",
   "metadata": {},
   "source": [
    "### Reduce to M-min observations"
   ]
  },
  {
   "cell_type": "code",
   "execution_count": 680,
   "id": "ad9bd7ae",
   "metadata": {},
   "outputs": [],
   "source": [
    "# set min per observation\n",
    "m = 5"
   ]
  },
  {
   "cell_type": "code",
   "execution_count": 681,
   "id": "c3ab8fa8",
   "metadata": {},
   "outputs": [],
   "source": [
    "# # reduce to one OBS per 5 MIN (take average of 10 OBS)\n",
    "idxObj = zip(\n",
    "    data_train.index.get_level_values(0),\n",
    "    data_train.index.get_level_values(1),\n",
    "    data_train.index.get_level_values(2),\n",
    "    data_train.index.get_level_values(3) // m\n",
    ")\n",
    "\n",
    "index = pd.MultiIndex.from_tuples(\n",
    "    tuples=idxObj,\n",
    "    names=['month', 'day', 'hour', 'minute']\n",
    ")\n",
    "\n",
    "data_train.index = index\n",
    "data_train = data_train.groupby(['month', 'day', 'hour', 'minute'], sort=False).mean()"
   ]
  },
  {
   "cell_type": "code",
   "execution_count": 682,
   "id": "3097b392",
   "metadata": {},
   "outputs": [],
   "source": [
    "# # reduce to one OBS per 5 MIN (take average of 10 OBS)\n",
    "idxObj = zip(\n",
    "    data_test.index.get_level_values(0),\n",
    "    data_test.index.get_level_values(1),\n",
    "    data_test.index.get_level_values(2),\n",
    "    data_test.index.get_level_values(3) // m\n",
    ")\n",
    "\n",
    "index = pd.MultiIndex.from_tuples(\n",
    "    tuples=idxObj,\n",
    "    names=['month', 'day', 'hour', 'minute']\n",
    ")\n",
    "\n",
    "data_test.index = index\n",
    "data_test = data_test.groupby(['month', 'day', 'hour', 'minute'], sort=False).mean()"
   ]
  },
  {
   "cell_type": "markdown",
   "id": "421cd4b2",
   "metadata": {},
   "source": [
    "### Normalization"
   ]
  },
  {
   "cell_type": "code",
   "execution_count": 683,
   "id": "17b6ad6a",
   "metadata": {},
   "outputs": [],
   "source": [
    "# Define model variables\n",
    "model_vars = [\n",
    "#     ('temperatures', 'TA_inflow'),\n",
    "#     ('state', 'TA01_output'),\n",
    "#     ('state', 'TA02_output'),\n",
    "#     ('flow', 'TA01_GP101'),\n",
    "#     ('flow', 'TA02_GP101'),\n",
    "#     ('temperatures', 'DC_GT102_GM102'),\n",
    "#     ('temperatures', 'DC_GT103_GM103'),\n",
    "#     ('temperatures', 'DC_GT104_GM104'),\n",
    "    ('temperatures', 'TA01_GT10X_GM10X'),\n",
    "#     ('temperatures', 'TA01_GT401_GM401_scaled'),\n",
    "#     ('temperatures', 'DC_GT301_damped_scaled'),\n",
    "#     ('temperatures', 'DC_GT401_GM401'),\n",
    "    ('temperatures', 'TA01_GT401_GM401'),\n",
    "#     ('temperatures', 'TA02_GT401_GM401'),\n",
    "    ('temperatures', 'DC_GT301_damped'),\n",
    "    ('humidity', 'TA01_GT10X_GM10X'),\n",
    "    ('sun', 'gsi'),\n",
    "#     ('sun', 'gsi_deriv'),\n",
    "    ('sun', 'vol'),\n",
    "#     ('sun', 'vol_deriv'),\n",
    "#     ('wind', 'Wx'),\n",
    "#     ('wind', 'Wy'),\n",
    "#     ('time', 'minofday'),\n",
    "#     ('time', 'dayofyear')\n",
    "]\n",
    "\n",
    "# filter data\n",
    "data_train = data_train[model_vars].copy()\n",
    "data_test = data_test[model_vars].copy()"
   ]
  },
  {
   "cell_type": "code",
   "execution_count": 684,
   "id": "c9b572ac",
   "metadata": {},
   "outputs": [],
   "source": [
    "col_params = {}\n",
    "for col in data_train.columns:\n",
    "    cat, var = col\n",
    "    \n",
    "#     if cat == 'temperatures' and var == 'TA01_GT10X_GM10X':\n",
    "#         continue\n",
    "    \n",
    "    min_val = data_train[col].min()\n",
    "    max_val = data_train[col].max()\n",
    "    \n",
    "    # normalize\n",
    "    mean = data_train[col].mean()\n",
    "    std = data_train[col].std()\n",
    "    \n",
    "    data_train[col] = (data_train[col] - mean) / std\n",
    "    data_test[col] = (data_test[col] - mean) / std\n",
    "    \n",
    "#     # make positive\n",
    "#     min_val = data_train[col].min()\n",
    "#     data_train[col] = data_train[col] + abs(min(0, min_val))\n",
    "#     min_val = max(0, min_val)\n",
    "#     max_val = data_train[col].max()\n",
    "#     data_train[col] = (data_train[col] - min_val) / (max_val - min_val)\n",
    "    \n",
    "#     data_test[col] = data_test[col] + abs(min(0, min_val))\n",
    "#     data_test[col] = (data_test[col] - min_val) / (max_val - min_val)\n",
    "#     data_test[col] = data_test[col].apply(lambda val: max(val, 0.0))\n",
    "# #     data_test[col] = data_test[col].apply(lambda val: max(min(val, 1.0), 0.0))\n",
    "    \n",
    "    col_params[col] = {\n",
    "        'mean':mean,\n",
    "        'std':std,\n",
    "        'max':max_val,\n",
    "        'min':min_val\n",
    "    }"
   ]
  },
  {
   "cell_type": "code",
   "execution_count": 685,
   "id": "33540ff5",
   "metadata": {},
   "outputs": [],
   "source": [
    "# ta01_max, ta01_min = col_params[('state', 'TA01_output')]['max'], col_params[('state', 'TA01_output')]['min']\n",
    "# ta02_max, ta02_min = col_params[('state', 'TA02_output')]['max'], col_params[('state', 'TA02_output')]['min']"
   ]
  },
  {
   "cell_type": "markdown",
   "id": "70925b7a",
   "metadata": {},
   "source": [
    "## Data preparation"
   ]
  },
  {
   "cell_type": "code",
   "execution_count": 686,
   "id": "97925877",
   "metadata": {},
   "outputs": [],
   "source": [
    "t_steps = 12    # 5 x 2 = 10-min predictions\n",
    "n_steps = 18    # 5 x 12 = 60-min backwards look"
   ]
  },
  {
   "cell_type": "code",
   "execution_count": 687,
   "id": "de0d3346",
   "metadata": {},
   "outputs": [],
   "source": [
    "# targets_train = data_train[('temperatures', 'TA01_GT10X_GM10X')].copy()\n",
    "# targets_test = data_test[('temperatures', 'TA01_GT10X_GM10X')].copy()"
   ]
  },
  {
   "cell_type": "code",
   "execution_count": 688,
   "id": "f3389acf",
   "metadata": {},
   "outputs": [],
   "source": [
    "targets_train = pd.concat([data_train.pop(col) for col in [\n",
    "#     ('temperatures', 'DC_GT102_GM102'),\n",
    "#     ('temperatures', 'DC_GT103_GM103'),\n",
    "#     ('temperatures', 'DC_GT104_GM104'),\n",
    "    ('temperatures', 'TA01_GT10X_GM10X'),\n",
    "]], axis=1)\n",
    "# targets_train = (targets_train - targets_train.shift(t_steps)) * 10\n",
    "\n",
    "targets_test = pd.concat([data_test.pop(col) for col in [\n",
    "#     ('temperatures', 'DC_GT102_GM102'),\n",
    "#     ('temperatures', 'DC_GT103_GM103'),\n",
    "#     ('temperatures', 'DC_GT104_GM104'),\n",
    "    ('temperatures', 'TA01_GT10X_GM10X'),\n",
    "]], axis=1)\n",
    "# targets_test = (targets_test - targets_test.shift(t_steps)) * 10"
   ]
  },
  {
   "cell_type": "code",
   "execution_count": 689,
   "id": "3f8d079a",
   "metadata": {},
   "outputs": [],
   "source": [
    "# targets_train *= 10\n",
    "# targets_test *= 10"
   ]
  },
  {
   "cell_type": "code",
   "execution_count": 690,
   "id": "e9f6d9fd",
   "metadata": {},
   "outputs": [],
   "source": [
    "temps_train = targets_train[:-n_steps]#.values\n",
    "temps_test = targets_test[:-n_steps]#.values"
   ]
  },
  {
   "cell_type": "markdown",
   "id": "f6cf0068",
   "metadata": {},
   "source": [
    "### Create sequences"
   ]
  },
  {
   "cell_type": "code",
   "execution_count": 691,
   "id": "db044685",
   "metadata": {},
   "outputs": [],
   "source": [
    "def date_flagger(data, n_steps):\n",
    "    # get flagged datesvalues\n",
    "#     data['minute'] = data.index.get_level_values(3).values    \n",
    "#     data['date_flag'] = data.minute - data.minute.shift(n_steps) != (n_steps)\n",
    "\n",
    "    data['hour'] = data.index.get_level_values(2).values    \n",
    "    data['date_flag'] = data.hour - data.hour.shift(n_steps) > 1\n",
    "    \n",
    "    # get positions in data, w.r.t. n_step removed observations at start\n",
    "    flagged_idx = np.where(data.date_flag.values == 1)\n",
    "    flagged_idx = flagged_idx[0] - n_steps\n",
    "    \n",
    "    del data['hour'], data['date_flag']\n",
    "    \n",
    "    return flagged_idx"
   ]
  },
  {
   "cell_type": "code",
   "execution_count": 692,
   "id": "d05dd55b",
   "metadata": {},
   "outputs": [],
   "source": [
    "def seq_maker_single(data, n_steps):\n",
    "    \n",
    "    vals = data.values\n",
    "    sequences = []\n",
    "    for i in range(len(vals) - n_steps):\n",
    "        sequences.append(vals[i:i+n_steps])\n",
    "    sequences = np.stack(sequences)\n",
    "    \n",
    "    flags = date_flagger(data, n_steps)\n",
    "    mask = [idx not in flags for idx in range(len(sequences))]\n",
    "    \n",
    "    sequences = sequences[mask]\n",
    "    \n",
    "    return sequences\n",
    "\n",
    "def seq_maker(data, targets, temps, n_steps):\n",
    "    \n",
    "    vals = data.values\n",
    "    sequences = []\n",
    "    for i in range(len(vals) - n_steps):\n",
    "        sequences.append(vals[i:i+n_steps])\n",
    "    sequences = np.stack(sequences)\n",
    "    \n",
    "    flags = date_flagger(data, n_steps)\n",
    "    mask = [idx not in flags for idx in range(len(sequences))]\n",
    "    \n",
    "    sequences = sequences[mask]\n",
    "    targets = targets[n_steps:][mask].values\n",
    "    temps = temps[mask].values\n",
    "    \n",
    "    return sequences, targets, temps"
   ]
  },
  {
   "cell_type": "code",
   "execution_count": 693,
   "id": "8ac64bb0",
   "metadata": {},
   "outputs": [],
   "source": [
    "# make sequences\n",
    "sequences_train, targets_train, temps_train = seq_maker(data_train, targets_train, temps_train, n_steps)\n",
    "sequences_test, targets_test, temps_test = seq_maker(data_test, targets_test, temps_test, n_steps)"
   ]
  },
  {
   "cell_type": "code",
   "execution_count": 694,
   "id": "67a06752",
   "metadata": {},
   "outputs": [],
   "source": [
    "sequences_masked = sequences_test.copy()\n",
    "\n",
    "# mask_len = t_steps+1\n",
    "mask_len = 10\n",
    "for t in range(1, mask_len):\n",
    "    sequences_masked[:, -t, :] = sequences_masked[:, -(t_steps+1), :]"
   ]
  },
  {
   "cell_type": "code",
   "execution_count": 695,
   "id": "9973d7cd",
   "metadata": {},
   "outputs": [],
   "source": [
    "# shuffle training data randomly\n",
    "idxs = np.arange(len(targets_train))\n",
    "np.random.shuffle(idxs)\n",
    "\n",
    "sequences_train = sequences_train[idxs]\n",
    "targets_train = targets_train[idxs]\n",
    "temps_train = temps_train[idxs]"
   ]
  },
  {
   "cell_type": "markdown",
   "id": "cdaeef6e",
   "metadata": {},
   "source": [
    "## Define Recurrent NN"
   ]
  },
  {
   "cell_type": "code",
   "execution_count": 696,
   "id": "d9b7b81d",
   "metadata": {},
   "outputs": [],
   "source": [
    "tf.keras.backend.clear_session()"
   ]
  },
  {
   "cell_type": "code",
   "execution_count": 697,
   "id": "19310ae5",
   "metadata": {},
   "outputs": [],
   "source": [
    "# class Sampling(layers.Layer):\n",
    "#     \"\"\"Uses (z_mean, z_log_var) to sample z, the vector encoding a digit.\"\"\"\n",
    "\n",
    "#     def call(self, inputs):\n",
    "#         z_mean, z_log_var = inputs\n",
    "#         batch = tf.shape(z_mean)[0]\n",
    "#         dim = tf.shape(z_mean)[1]\n",
    "#         epsilon = tf.random.normal(shape=(batch, dim))\n",
    "#         return z_mean + tf.exp(0.5 * z_log_var) * epsilon\n",
    "\n",
    "# inputs = layers.Input(shape=(sequences_train.shape[1], sequences_train.shape[2]))\n",
    "\n",
    "# encoder = layers.GRU(units=128, recurrent_dropout=0.5, return_sequences=True, return_state=False)(inputs)\n",
    "# encoder = layers.GRU(units=64, recurrent_dropout=0.5, return_sequences=True, return_state=False)(encoder)\n",
    "# _, encoder = layers.GRU(units=32, recurrent_dropout=0.5, return_sequences=False, return_state=True)(encoder)\n",
    "\n",
    "# state = layers.LayerNormalization()(encoder)\n",
    "\n",
    "# latent_dim = 4\n",
    "# z_mean = layers.Dense(latent_dim, name=\"z_mean\")(state)\n",
    "# z_log_var = layers.Dense(latent_dim, name=\"z_log_var\")(state)\n",
    "# z = Sampling()([z_mean, z_log_var])\n",
    "# encoder = Model(inputs, [z_mean, z_log_var, z], name=\"encoder\")\n",
    "\n",
    "# # output = layers.Dense(units=1, activation=None, use_bias=False)(z)\n",
    "# model = Model(inputs, z)\n"
   ]
  },
  {
   "cell_type": "code",
   "execution_count": 698,
   "id": "6f5b8ed4",
   "metadata": {},
   "outputs": [],
   "source": [
    "inputs = layers.Input(shape=(sequences_train.shape[1], sequences_train.shape[2]))\n",
    "inputs = layers.LayerNormalization()(inputs)\n",
    "\n",
    "_, _, encoder = layers.LSTM(units=32, recurrent_dropout=0.5, return_sequences=True, return_state=True)(inputs)\n",
    "# _, _, encoder = layers.LSTM(units=16, recurrent_dropout=0.5, return_sequences=False, return_state=True)(encoder)\n",
    "encoder = layers.LayerNormalization()(encoder)\n",
    "# encoder = layers.Dense(units=16, activation='relu')(encoder)\n",
    "# encoder = layers.LayerNormalization()(encoder)\n",
    "# encoder = layers.Dense(units=32, activation='relu')(encoder)\n",
    "# encoder = layers.LayerNormalization()(encoder)\n",
    "\n",
    "# ta_input = layers.Input(shape=(sequences_train.shape[1], 2))\n",
    "# ta_flattened = layers.Flatten()(ta_input)\n",
    "\n",
    "# output = layers.Concatenate()([encoder, ta_flattened])\n",
    "output = layers.Dense(units=1, activation=None, use_bias=True)(encoder)\n",
    "\n",
    "\n",
    "encoded = Model(inputs, encoder)\n",
    "model = Model(inputs, output)"
   ]
  },
  {
   "cell_type": "code",
   "execution_count": 699,
   "id": "0615a63d",
   "metadata": {
    "scrolled": false
   },
   "outputs": [
    {
     "name": "stdout",
     "output_type": "stream",
     "text": [
      "Model: \"model_1\"\n",
      "_________________________________________________________________\n",
      " Layer (type)                Output Shape              Param #   \n",
      "=================================================================\n",
      " input_3 (InputLayer)        [(None, 18, 5)]           0         \n",
      "                                                                 \n",
      " lstm (LSTM)                 [(None, 18, 32),          4864      \n",
      "                              (None, 32),                        \n",
      "                              (None, 32)]                        \n",
      "                                                                 \n",
      " layer_normalization_1 (Laye  (None, 32)               64        \n",
      " rNormalization)                                                 \n",
      "                                                                 \n",
      " dense (Dense)               (None, 1)                 33        \n",
      "                                                                 \n",
      "=================================================================\n",
      "Total params: 4,961\n",
      "Trainable params: 4,961\n",
      "Non-trainable params: 0\n",
      "_________________________________________________________________\n"
     ]
    }
   ],
   "source": [
    "lr = 0.0001\n",
    "# model.compile(optimizer=tf.keras.optimizers.Adam(learning_rate=lr), loss='mse')\n",
    "model.compile(optimizer=tf.keras.optimizers.RMSprop(learning_rate=lr), loss='mse')\n",
    "model.summary()"
   ]
  },
  {
   "cell_type": "code",
   "execution_count": 700,
   "id": "4230094b",
   "metadata": {},
   "outputs": [],
   "source": [
    "# model2 = tf.keras.models.load_model(save_path + 'temp_diff_model_v103')\n",
    "# model2.summary()"
   ]
  },
  {
   "cell_type": "code",
   "execution_count": 701,
   "id": "7cfecf12",
   "metadata": {},
   "outputs": [],
   "source": [
    "# # copy weigths from pre-trained\n",
    "# for idx, layer in enumerate(model.layers):\n",
    "#     layer.set_weights(model2.layers[idx].get_weights())"
   ]
  },
  {
   "cell_type": "code",
   "execution_count": 702,
   "id": "1b588f13",
   "metadata": {},
   "outputs": [
    {
     "data": {
      "text/plain": [
       "(17809, 18, 2)"
      ]
     },
     "execution_count": 702,
     "metadata": {},
     "output_type": "execute_result"
    }
   ],
   "source": [
    "sequences_train[:, :, :2].shape"
   ]
  },
  {
   "cell_type": "code",
   "execution_count": 703,
   "id": "7f7baea1",
   "metadata": {
    "scrolled": false
   },
   "outputs": [
    {
     "name": "stdout",
     "output_type": "stream",
     "text": [
      "Epoch 1/50\n",
      "140/140 [==============================] - 5s 22ms/step - loss: 0.7257 - val_loss: 3.4173\n",
      "Epoch 2/50\n",
      "140/140 [==============================] - 3s 20ms/step - loss: 0.5121 - val_loss: 2.7969\n",
      "Epoch 3/50\n",
      "140/140 [==============================] - 3s 20ms/step - loss: 0.4598 - val_loss: 2.2947\n",
      "Epoch 4/50\n",
      "140/140 [==============================] - 3s 20ms/step - loss: 0.4211 - val_loss: 1.7963\n",
      "Epoch 5/50\n",
      "140/140 [==============================] - 3s 20ms/step - loss: 0.3966 - val_loss: 1.5564\n",
      "Epoch 6/50\n",
      "140/140 [==============================] - 3s 20ms/step - loss: 0.3760 - val_loss: 1.2899\n",
      "Epoch 7/50\n",
      "140/140 [==============================] - 3s 20ms/step - loss: 0.3592 - val_loss: 1.1548\n",
      "Epoch 8/50\n",
      "140/140 [==============================] - 3s 20ms/step - loss: 0.3481 - val_loss: 1.0676\n",
      "Epoch 9/50\n",
      "140/140 [==============================] - 3s 20ms/step - loss: 0.3358 - val_loss: 0.9943\n",
      "Epoch 10/50\n",
      "140/140 [==============================] - 3s 20ms/step - loss: 0.3284 - val_loss: 0.8944\n",
      "Epoch 11/50\n",
      "140/140 [==============================] - 3s 20ms/step - loss: 0.3205 - val_loss: 0.8870\n",
      "Epoch 12/50\n",
      "140/140 [==============================] - 3s 21ms/step - loss: 0.3144 - val_loss: 0.8332\n",
      "Epoch 13/50\n",
      "140/140 [==============================] - 3s 20ms/step - loss: 0.3088 - val_loss: 0.8119\n",
      "Epoch 14/50\n",
      "140/140 [==============================] - 3s 20ms/step - loss: 0.3033 - val_loss: 0.7719\n",
      "Epoch 15/50\n",
      "140/140 [==============================] - 3s 20ms/step - loss: 0.2992 - val_loss: 0.7637\n",
      "Epoch 16/50\n",
      "140/140 [==============================] - 3s 20ms/step - loss: 0.2950 - val_loss: 0.7130\n",
      "Epoch 17/50\n",
      "140/140 [==============================] - 3s 20ms/step - loss: 0.2932 - val_loss: 0.7551\n",
      "Epoch 18/50\n",
      "140/140 [==============================] - 3s 20ms/step - loss: 0.2878 - val_loss: 0.7611\n",
      "Epoch 19/50\n",
      "140/140 [==============================] - 3s 20ms/step - loss: 0.2840 - val_loss: 0.6947\n",
      "Epoch 20/50\n",
      "140/140 [==============================] - 3s 20ms/step - loss: 0.2822 - val_loss: 0.7574\n",
      "Epoch 21/50\n",
      "140/140 [==============================] - 3s 20ms/step - loss: 0.2788 - val_loss: 0.6898\n",
      "Epoch 22/50\n",
      "140/140 [==============================] - 3s 20ms/step - loss: 0.2751 - val_loss: 0.6633\n",
      "Epoch 23/50\n",
      "140/140 [==============================] - 3s 20ms/step - loss: 0.2728 - val_loss: 0.6444\n",
      "Epoch 24/50\n",
      "140/140 [==============================] - 3s 20ms/step - loss: 0.2710 - val_loss: 0.6475\n",
      "Epoch 25/50\n",
      "140/140 [==============================] - 3s 23ms/step - loss: 0.2716 - val_loss: 0.6938\n",
      "Epoch 26/50\n",
      " 62/140 [============>.................] - ETA: 1s - loss: 0.2677"
     ]
    },
    {
     "ename": "KeyboardInterrupt",
     "evalue": "",
     "output_type": "error",
     "traceback": [
      "\u001b[1;31m---------------------------------------------------------------------------\u001b[0m",
      "\u001b[1;31mKeyboardInterrupt\u001b[0m                         Traceback (most recent call last)",
      "\u001b[1;32m~\\AppData\\Local\\Temp\\ipykernel_15212\\1906875247.py\u001b[0m in \u001b[0;36m<module>\u001b[1;34m\u001b[0m\n\u001b[1;32m----> 1\u001b[1;33m trainHist = model.fit(\n\u001b[0m\u001b[0;32m      2\u001b[0m \u001b[1;31m#     [sequences_train, temps_train],\u001b[0m\u001b[1;33m\u001b[0m\u001b[1;33m\u001b[0m\u001b[0m\n\u001b[0;32m      3\u001b[0m \u001b[1;31m#     [sequences_train, sequences_train[:, :, :2]],\u001b[0m\u001b[1;33m\u001b[0m\u001b[1;33m\u001b[0m\u001b[0m\n\u001b[0;32m      4\u001b[0m     \u001b[0msequences_train\u001b[0m\u001b[1;33m,\u001b[0m\u001b[1;33m\u001b[0m\u001b[1;33m\u001b[0m\u001b[0m\n\u001b[0;32m      5\u001b[0m     \u001b[0mtargets_train\u001b[0m\u001b[1;33m,\u001b[0m\u001b[1;33m\u001b[0m\u001b[1;33m\u001b[0m\u001b[0m\n",
      "\u001b[1;32m~\\anaconda3\\lib\\site-packages\\keras\\utils\\traceback_utils.py\u001b[0m in \u001b[0;36merror_handler\u001b[1;34m(*args, **kwargs)\u001b[0m\n\u001b[0;32m     63\u001b[0m         \u001b[0mfiltered_tb\u001b[0m \u001b[1;33m=\u001b[0m \u001b[1;32mNone\u001b[0m\u001b[1;33m\u001b[0m\u001b[1;33m\u001b[0m\u001b[0m\n\u001b[0;32m     64\u001b[0m         \u001b[1;32mtry\u001b[0m\u001b[1;33m:\u001b[0m\u001b[1;33m\u001b[0m\u001b[1;33m\u001b[0m\u001b[0m\n\u001b[1;32m---> 65\u001b[1;33m             \u001b[1;32mreturn\u001b[0m \u001b[0mfn\u001b[0m\u001b[1;33m(\u001b[0m\u001b[1;33m*\u001b[0m\u001b[0margs\u001b[0m\u001b[1;33m,\u001b[0m \u001b[1;33m**\u001b[0m\u001b[0mkwargs\u001b[0m\u001b[1;33m)\u001b[0m\u001b[1;33m\u001b[0m\u001b[1;33m\u001b[0m\u001b[0m\n\u001b[0m\u001b[0;32m     66\u001b[0m         \u001b[1;32mexcept\u001b[0m \u001b[0mException\u001b[0m \u001b[1;32mas\u001b[0m \u001b[0me\u001b[0m\u001b[1;33m:\u001b[0m\u001b[1;33m\u001b[0m\u001b[1;33m\u001b[0m\u001b[0m\n\u001b[0;32m     67\u001b[0m             \u001b[0mfiltered_tb\u001b[0m \u001b[1;33m=\u001b[0m \u001b[0m_process_traceback_frames\u001b[0m\u001b[1;33m(\u001b[0m\u001b[0me\u001b[0m\u001b[1;33m.\u001b[0m\u001b[0m__traceback__\u001b[0m\u001b[1;33m)\u001b[0m\u001b[1;33m\u001b[0m\u001b[1;33m\u001b[0m\u001b[0m\n",
      "\u001b[1;32m~\\anaconda3\\lib\\site-packages\\keras\\engine\\training.py\u001b[0m in \u001b[0;36mfit\u001b[1;34m(self, x, y, batch_size, epochs, verbose, callbacks, validation_split, validation_data, shuffle, class_weight, sample_weight, initial_epoch, steps_per_epoch, validation_steps, validation_batch_size, validation_freq, max_queue_size, workers, use_multiprocessing)\u001b[0m\n\u001b[0;32m   1648\u001b[0m                         ):\n\u001b[0;32m   1649\u001b[0m                             \u001b[0mcallbacks\u001b[0m\u001b[1;33m.\u001b[0m\u001b[0mon_train_batch_begin\u001b[0m\u001b[1;33m(\u001b[0m\u001b[0mstep\u001b[0m\u001b[1;33m)\u001b[0m\u001b[1;33m\u001b[0m\u001b[1;33m\u001b[0m\u001b[0m\n\u001b[1;32m-> 1650\u001b[1;33m                             \u001b[0mtmp_logs\u001b[0m \u001b[1;33m=\u001b[0m \u001b[0mself\u001b[0m\u001b[1;33m.\u001b[0m\u001b[0mtrain_function\u001b[0m\u001b[1;33m(\u001b[0m\u001b[0miterator\u001b[0m\u001b[1;33m)\u001b[0m\u001b[1;33m\u001b[0m\u001b[1;33m\u001b[0m\u001b[0m\n\u001b[0m\u001b[0;32m   1651\u001b[0m                             \u001b[1;32mif\u001b[0m \u001b[0mdata_handler\u001b[0m\u001b[1;33m.\u001b[0m\u001b[0mshould_sync\u001b[0m\u001b[1;33m:\u001b[0m\u001b[1;33m\u001b[0m\u001b[1;33m\u001b[0m\u001b[0m\n\u001b[0;32m   1652\u001b[0m                                 \u001b[0mcontext\u001b[0m\u001b[1;33m.\u001b[0m\u001b[0masync_wait\u001b[0m\u001b[1;33m(\u001b[0m\u001b[1;33m)\u001b[0m\u001b[1;33m\u001b[0m\u001b[1;33m\u001b[0m\u001b[0m\n",
      "\u001b[1;32m~\\anaconda3\\lib\\site-packages\\tensorflow\\python\\util\\traceback_utils.py\u001b[0m in \u001b[0;36merror_handler\u001b[1;34m(*args, **kwargs)\u001b[0m\n\u001b[0;32m    148\u001b[0m     \u001b[0mfiltered_tb\u001b[0m \u001b[1;33m=\u001b[0m \u001b[1;32mNone\u001b[0m\u001b[1;33m\u001b[0m\u001b[1;33m\u001b[0m\u001b[0m\n\u001b[0;32m    149\u001b[0m     \u001b[1;32mtry\u001b[0m\u001b[1;33m:\u001b[0m\u001b[1;33m\u001b[0m\u001b[1;33m\u001b[0m\u001b[0m\n\u001b[1;32m--> 150\u001b[1;33m       \u001b[1;32mreturn\u001b[0m \u001b[0mfn\u001b[0m\u001b[1;33m(\u001b[0m\u001b[1;33m*\u001b[0m\u001b[0margs\u001b[0m\u001b[1;33m,\u001b[0m \u001b[1;33m**\u001b[0m\u001b[0mkwargs\u001b[0m\u001b[1;33m)\u001b[0m\u001b[1;33m\u001b[0m\u001b[1;33m\u001b[0m\u001b[0m\n\u001b[0m\u001b[0;32m    151\u001b[0m     \u001b[1;32mexcept\u001b[0m \u001b[0mException\u001b[0m \u001b[1;32mas\u001b[0m \u001b[0me\u001b[0m\u001b[1;33m:\u001b[0m\u001b[1;33m\u001b[0m\u001b[1;33m\u001b[0m\u001b[0m\n\u001b[0;32m    152\u001b[0m       \u001b[0mfiltered_tb\u001b[0m \u001b[1;33m=\u001b[0m \u001b[0m_process_traceback_frames\u001b[0m\u001b[1;33m(\u001b[0m\u001b[0me\u001b[0m\u001b[1;33m.\u001b[0m\u001b[0m__traceback__\u001b[0m\u001b[1;33m)\u001b[0m\u001b[1;33m\u001b[0m\u001b[1;33m\u001b[0m\u001b[0m\n",
      "\u001b[1;32m~\\anaconda3\\lib\\site-packages\\tensorflow\\python\\eager\\polymorphic_function\\polymorphic_function.py\u001b[0m in \u001b[0;36m__call__\u001b[1;34m(self, *args, **kwds)\u001b[0m\n\u001b[0;32m    878\u001b[0m \u001b[1;33m\u001b[0m\u001b[0m\n\u001b[0;32m    879\u001b[0m       \u001b[1;32mwith\u001b[0m \u001b[0mOptionalXlaContext\u001b[0m\u001b[1;33m(\u001b[0m\u001b[0mself\u001b[0m\u001b[1;33m.\u001b[0m\u001b[0m_jit_compile\u001b[0m\u001b[1;33m)\u001b[0m\u001b[1;33m:\u001b[0m\u001b[1;33m\u001b[0m\u001b[1;33m\u001b[0m\u001b[0m\n\u001b[1;32m--> 880\u001b[1;33m         \u001b[0mresult\u001b[0m \u001b[1;33m=\u001b[0m \u001b[0mself\u001b[0m\u001b[1;33m.\u001b[0m\u001b[0m_call\u001b[0m\u001b[1;33m(\u001b[0m\u001b[1;33m*\u001b[0m\u001b[0margs\u001b[0m\u001b[1;33m,\u001b[0m \u001b[1;33m**\u001b[0m\u001b[0mkwds\u001b[0m\u001b[1;33m)\u001b[0m\u001b[1;33m\u001b[0m\u001b[1;33m\u001b[0m\u001b[0m\n\u001b[0m\u001b[0;32m    881\u001b[0m \u001b[1;33m\u001b[0m\u001b[0m\n\u001b[0;32m    882\u001b[0m       \u001b[0mnew_tracing_count\u001b[0m \u001b[1;33m=\u001b[0m \u001b[0mself\u001b[0m\u001b[1;33m.\u001b[0m\u001b[0mexperimental_get_tracing_count\u001b[0m\u001b[1;33m(\u001b[0m\u001b[1;33m)\u001b[0m\u001b[1;33m\u001b[0m\u001b[1;33m\u001b[0m\u001b[0m\n",
      "\u001b[1;32m~\\anaconda3\\lib\\site-packages\\tensorflow\\python\\eager\\polymorphic_function\\polymorphic_function.py\u001b[0m in \u001b[0;36m_call\u001b[1;34m(self, *args, **kwds)\u001b[0m\n\u001b[0;32m    910\u001b[0m       \u001b[1;31m# In this case we have created variables on the first call, so we run the\u001b[0m\u001b[1;33m\u001b[0m\u001b[1;33m\u001b[0m\u001b[0m\n\u001b[0;32m    911\u001b[0m       \u001b[1;31m# defunned version which is guaranteed to never create variables.\u001b[0m\u001b[1;33m\u001b[0m\u001b[1;33m\u001b[0m\u001b[0m\n\u001b[1;32m--> 912\u001b[1;33m       \u001b[1;32mreturn\u001b[0m \u001b[0mself\u001b[0m\u001b[1;33m.\u001b[0m\u001b[0m_no_variable_creation_fn\u001b[0m\u001b[1;33m(\u001b[0m\u001b[1;33m*\u001b[0m\u001b[0margs\u001b[0m\u001b[1;33m,\u001b[0m \u001b[1;33m**\u001b[0m\u001b[0mkwds\u001b[0m\u001b[1;33m)\u001b[0m  \u001b[1;31m# pylint: disable=not-callable\u001b[0m\u001b[1;33m\u001b[0m\u001b[1;33m\u001b[0m\u001b[0m\n\u001b[0m\u001b[0;32m    913\u001b[0m     \u001b[1;32melif\u001b[0m \u001b[0mself\u001b[0m\u001b[1;33m.\u001b[0m\u001b[0m_variable_creation_fn\u001b[0m \u001b[1;32mis\u001b[0m \u001b[1;32mnot\u001b[0m \u001b[1;32mNone\u001b[0m\u001b[1;33m:\u001b[0m\u001b[1;33m\u001b[0m\u001b[1;33m\u001b[0m\u001b[0m\n\u001b[0;32m    914\u001b[0m       \u001b[1;31m# Release the lock early so that multiple threads can perform the call\u001b[0m\u001b[1;33m\u001b[0m\u001b[1;33m\u001b[0m\u001b[0m\n",
      "\u001b[1;32m~\\anaconda3\\lib\\site-packages\\tensorflow\\python\\eager\\polymorphic_function\\tracing_compiler.py\u001b[0m in \u001b[0;36m__call__\u001b[1;34m(self, *args, **kwargs)\u001b[0m\n\u001b[0;32m    132\u001b[0m       (concrete_function,\n\u001b[0;32m    133\u001b[0m        filtered_flat_args) = self._maybe_define_function(args, kwargs)\n\u001b[1;32m--> 134\u001b[1;33m     return concrete_function._call_flat(\n\u001b[0m\u001b[0;32m    135\u001b[0m         filtered_flat_args, captured_inputs=concrete_function.captured_inputs)  # pylint: disable=protected-access\n\u001b[0;32m    136\u001b[0m \u001b[1;33m\u001b[0m\u001b[0m\n",
      "\u001b[1;32m~\\anaconda3\\lib\\site-packages\\tensorflow\\python\\eager\\polymorphic_function\\monomorphic_function.py\u001b[0m in \u001b[0;36m_call_flat\u001b[1;34m(self, args, captured_inputs, cancellation_manager)\u001b[0m\n\u001b[0;32m   1743\u001b[0m         and executing_eagerly):\n\u001b[0;32m   1744\u001b[0m       \u001b[1;31m# No tape is watching; skip to running the function.\u001b[0m\u001b[1;33m\u001b[0m\u001b[1;33m\u001b[0m\u001b[0m\n\u001b[1;32m-> 1745\u001b[1;33m       return self._build_call_outputs(self._inference_function.call(\n\u001b[0m\u001b[0;32m   1746\u001b[0m           ctx, args, cancellation_manager=cancellation_manager))\n\u001b[0;32m   1747\u001b[0m     forward_backward = self._select_forward_and_backward_functions(\n",
      "\u001b[1;32m~\\anaconda3\\lib\\site-packages\\tensorflow\\python\\eager\\polymorphic_function\\monomorphic_function.py\u001b[0m in \u001b[0;36mcall\u001b[1;34m(self, ctx, args, cancellation_manager)\u001b[0m\n\u001b[0;32m    376\u001b[0m       \u001b[1;32mwith\u001b[0m \u001b[0m_InterpolateFunctionError\u001b[0m\u001b[1;33m(\u001b[0m\u001b[0mself\u001b[0m\u001b[1;33m)\u001b[0m\u001b[1;33m:\u001b[0m\u001b[1;33m\u001b[0m\u001b[1;33m\u001b[0m\u001b[0m\n\u001b[0;32m    377\u001b[0m         \u001b[1;32mif\u001b[0m \u001b[0mcancellation_manager\u001b[0m \u001b[1;32mis\u001b[0m \u001b[1;32mNone\u001b[0m\u001b[1;33m:\u001b[0m\u001b[1;33m\u001b[0m\u001b[1;33m\u001b[0m\u001b[0m\n\u001b[1;32m--> 378\u001b[1;33m           outputs = execute.execute(\n\u001b[0m\u001b[0;32m    379\u001b[0m               \u001b[0mstr\u001b[0m\u001b[1;33m(\u001b[0m\u001b[0mself\u001b[0m\u001b[1;33m.\u001b[0m\u001b[0msignature\u001b[0m\u001b[1;33m.\u001b[0m\u001b[0mname\u001b[0m\u001b[1;33m)\u001b[0m\u001b[1;33m,\u001b[0m\u001b[1;33m\u001b[0m\u001b[1;33m\u001b[0m\u001b[0m\n\u001b[0;32m    380\u001b[0m               \u001b[0mnum_outputs\u001b[0m\u001b[1;33m=\u001b[0m\u001b[0mself\u001b[0m\u001b[1;33m.\u001b[0m\u001b[0m_num_outputs\u001b[0m\u001b[1;33m,\u001b[0m\u001b[1;33m\u001b[0m\u001b[1;33m\u001b[0m\u001b[0m\n",
      "\u001b[1;32m~\\anaconda3\\lib\\site-packages\\tensorflow\\python\\eager\\execute.py\u001b[0m in \u001b[0;36mquick_execute\u001b[1;34m(op_name, num_outputs, inputs, attrs, ctx, name)\u001b[0m\n\u001b[0;32m     50\u001b[0m   \u001b[1;32mtry\u001b[0m\u001b[1;33m:\u001b[0m\u001b[1;33m\u001b[0m\u001b[1;33m\u001b[0m\u001b[0m\n\u001b[0;32m     51\u001b[0m     \u001b[0mctx\u001b[0m\u001b[1;33m.\u001b[0m\u001b[0mensure_initialized\u001b[0m\u001b[1;33m(\u001b[0m\u001b[1;33m)\u001b[0m\u001b[1;33m\u001b[0m\u001b[1;33m\u001b[0m\u001b[0m\n\u001b[1;32m---> 52\u001b[1;33m     tensors = pywrap_tfe.TFE_Py_Execute(ctx._handle, device_name, op_name,\n\u001b[0m\u001b[0;32m     53\u001b[0m                                         inputs, attrs, num_outputs)\n\u001b[0;32m     54\u001b[0m   \u001b[1;32mexcept\u001b[0m \u001b[0mcore\u001b[0m\u001b[1;33m.\u001b[0m\u001b[0m_NotOkStatusException\u001b[0m \u001b[1;32mas\u001b[0m \u001b[0me\u001b[0m\u001b[1;33m:\u001b[0m\u001b[1;33m\u001b[0m\u001b[1;33m\u001b[0m\u001b[0m\n",
      "\u001b[1;31mKeyboardInterrupt\u001b[0m: "
     ]
    }
   ],
   "source": [
    "trainHist = model.fit(\n",
    "#     [sequences_train, temps_train],\n",
    "#     [sequences_train, sequences_train[:, :, :2]],\n",
    "    sequences_train,\n",
    "    targets_train,\n",
    "    epochs=50,\n",
    "    batch_size=128,\n",
    "#     validation_split=0.0,\n",
    "#     validation_data = ([sequences_test, temps_test], targets_test),\n",
    "    validation_data = (sequences_test, targets_test),\n",
    "#     validation_data = ([sequences_test, sequences_test[:, :, :2]], targets_test),\n",
    "    callbacks=[\n",
    "        tf.keras.callbacks.EarlyStopping(monitor=\"val_loss\", patience=5, mode=\"min\", restore_best_weights=False),\n",
    "#         tf.keras.callbacks.LearningRateScheduler(lambda epoch: lr * (0.9 ** epoch))\n",
    "    ],\n",
    ")"
   ]
  },
  {
   "cell_type": "code",
   "execution_count": 448,
   "id": "be3a5a2b",
   "metadata": {
    "scrolled": true
   },
   "outputs": [
    {
     "name": "stderr",
     "output_type": "stream",
     "text": [
      "WARNING:absl:Found untraced functions such as _update_step_xla while saving (showing 1 of 1). These functions will not be directly callable after loading.\n"
     ]
    },
    {
     "name": "stdout",
     "output_type": "stream",
     "text": [
      "INFO:tensorflow:Assets written to: C:\\ml_projects\\rise-gh.git\\rise-gh\\model\\saved\\temp_diff_model_vXXX\\assets\n"
     ]
    },
    {
     "name": "stderr",
     "output_type": "stream",
     "text": [
      "INFO:tensorflow:Assets written to: C:\\ml_projects\\rise-gh.git\\rise-gh\\model\\saved\\temp_diff_model_vXXX\\assets\n"
     ]
    }
   ],
   "source": [
    "# model_name = 'temp_diff_model_vXXX'\n",
    "# model.save(save_path + model_name)"
   ]
  },
  {
   "cell_type": "code",
   "execution_count": 247,
   "id": "eb9c5a71",
   "metadata": {},
   "outputs": [],
   "source": [
    "# model = tf.keras.models.load_model(save_path + 'temp_diff_model_v202')\n",
    "# model.summary()"
   ]
  },
  {
   "cell_type": "code",
   "execution_count": 248,
   "id": "92c0696b",
   "metadata": {},
   "outputs": [],
   "source": [
    "# preds_dist = np.squeeze(encoder.predict(sequences_masked))\n",
    "# pred = preds_dist[:, 0, :]\n",
    "\n",
    "# z1_mean, z1_logvar, z1 = pred[:, 0]\n",
    "# z2_mean, z2_logvar, z2 = pred[:, 1]\n",
    "\n",
    "# plt.plot(targets_test[:100])\n",
    "# plt.plot(preds_dist[0, :100, :])"
   ]
  },
  {
   "cell_type": "code",
   "execution_count": 704,
   "id": "66b952aa",
   "metadata": {},
   "outputs": [
    {
     "name": "stdout",
     "output_type": "stream",
     "text": [
      "35/35 [==============================] - 0s 5ms/step\n",
      "35/35 [==============================] - 0s 5ms/step\n"
     ]
    }
   ],
   "source": [
    "# preds = np.squeeze(model.predict([sequences_test, temps_test]))\n",
    "preds = np.squeeze(model.predict(sequences_test))\n",
    "preds_masked = np.squeeze(model.predict(sequences_masked))"
   ]
  },
  {
   "cell_type": "code",
   "execution_count": 705,
   "id": "ae058b1a",
   "metadata": {},
   "outputs": [
    {
     "data": {
      "image/png": "[encoded data removed]",
      "text/plain": [
       "<Figure size 640x480 with 1 Axes>"
      ]
     },
     "metadata": {},
     "output_type": "display_data"
    }
   ],
   "source": [
    "# plt.plot(targets_test[-3000:, 0])\n",
    "# plt.plot(targets_test[-3000:, 1])\n",
    "plt.plot(targets_test[-2000:])\n",
    "plt.plot(preds[-2200:])\n",
    "# plt.plot(preds_masked[-2000:])\n",
    "plt.show()"
   ]
  },
  {
   "cell_type": "markdown",
   "id": "e0924298",
   "metadata": {},
   "source": [
    "## PCA on ecoded stataes"
   ]
  },
  {
   "cell_type": "code",
   "execution_count": 706,
   "id": "df1e1793",
   "metadata": {},
   "outputs": [],
   "source": [
    "from sklearn.decomposition import PCA\n",
    "\n",
    "decomposer = PCA(n_components=3)"
   ]
  },
  {
   "cell_type": "code",
   "execution_count": 707,
   "id": "723b32eb",
   "metadata": {},
   "outputs": [
    {
     "name": "stdout",
     "output_type": "stream",
     "text": [
      "35/35 [==============================] - 0s 5ms/step\n"
     ]
    }
   ],
   "source": [
    "encodings = encoded.predict(sequences_masked)\n",
    "decomposed = decomposer.fit_transform(X=encodings)"
   ]
  },
  {
   "cell_type": "code",
   "execution_count": 708,
   "id": "51a59084",
   "metadata": {},
   "outputs": [],
   "source": [
    "plt_data = pd.DataFrame(\n",
    "    data=np.hstack((decomposed, targets_test)),\n",
    "    columns=['pca_1', 'pca_2', 'pca_3', 'temps']\n",
    ")"
   ]
  },
  {
   "cell_type": "code",
   "execution_count": 709,
   "id": "ae5364ef",
   "metadata": {},
   "outputs": [
    {
     "data": {
      "image/png": "[encoded data removed]",
      "text/plain": [
       "<Figure size 640x480 with 1 Axes>"
      ]
     },
     "metadata": {},
     "output_type": "display_data"
    }
   ],
   "source": [
    "ax = sns.scatterplot(\n",
    "    data=plt_data,\n",
    "    x='pca_1',\n",
    "    y='pca_2',\n",
    "    hue='temps',\n",
    "    palette='YlOrBr'\n",
    ")\n",
    "\n",
    "sns.move_legend(ax, \"upper left\", bbox_to_anchor=(1.1, 0.8))\n"
   ]
  },
  {
   "cell_type": "markdown",
   "id": "c46d87f7",
   "metadata": {},
   "source": [
    "## Heatmaps"
   ]
  },
  {
   "cell_type": "code",
   "execution_count": 657,
   "id": "13c5ff62",
   "metadata": {
    "scrolled": false
   },
   "outputs": [],
   "source": [
    "# ## preds_df = pd.DataFrame(data=[targets_test / 10, np.squeeze(preds) / 10]).T\n",
    "# preds_df = pd.DataFrame(data=[np.squeeze(targets_test), np.squeeze(preds), np.squeeze(preds_masked)]).T\n",
    "# preds_df.columns = ['True', 'Preds', 'Masked']\n",
    "# # preds_df.index = data.time.date.iloc[-5760:]\n",
    "\n",
    "# ax = sns.relplot(\n",
    "#     data=preds_df, #.iloc[:12000],\n",
    "#     kind='line',\n",
    "#     palette=sns.color_palette('bright')[1:4],\n",
    "#     linewidth=1.5,\n",
    "#     markers=False,\n",
    "#     dashes=False\n",
    "# )\n",
    "\n",
    "# # ax.set_xticklabels(step=2)\n",
    "# sns.move_legend(ax, loc='upper right', frameon=True, bbox_to_anchor=(0.9, 0.9))\n",
    "# plt.xlim(0, 800)\n",
    "# plt.ylim(-5, 10)\n",
    "# plt.xlabel('$t$')\n",
    "# # plt.ylabel('C$^{\\circ}$', rotation=0, labelpad=20)\n",
    "# plt.ylabel('$\\sigma$', rotation=0, labelpad=10)\n",
    "# plt.title('Temperature predictions (60 mins.)')\n",
    "# # plt.savefig(plot_path + 'temp_diff_model_preds.png', bbox_inches='tight', dpi=200)\n",
    "# plt.show()"
   ]
  },
  {
   "cell_type": "code",
   "execution_count": 658,
   "id": "34180db7",
   "metadata": {},
   "outputs": [],
   "source": [
    "# test_seqs = sequences_test.copy()\n",
    "# test_seqs[:, :, 1] = 3.0\n",
    "# # test_seqs[:, -t_steps:, 3] += 2.0\n",
    "# test_seqs[:, :, 0] = 3.0\n",
    "\n",
    "# # test_seqs[:, :, 4] = 0.0\n",
    "# # test_seqs[:, :, 4] += 2\n",
    "\n",
    "# # test_preds = np.squeeze(model.predict([test_seqs, temps_test]))\n",
    "# test_preds = np.squeeze(model.predict(test_seqs))"
   ]
  },
  {
   "cell_type": "code",
   "execution_count": 659,
   "id": "6894cb3e",
   "metadata": {
    "scrolled": false
   },
   "outputs": [],
   "source": [
    "# plt.plot(preds[:2500])\n",
    "# plt.plot(test_preds[:2500])\n",
    "# # plt.plot(temps_test[:2500])\n",
    "# # plt.plot(targets_test[:1500])\n",
    "# plt.show()"
   ]
  },
  {
   "cell_type": "code",
   "execution_count": 660,
   "id": "9573216d",
   "metadata": {},
   "outputs": [
    {
     "data": {
      "text/plain": [
       "{('state', 'TA01_output'): {'mean': 42.75334490330462,\n",
       "  'std': 10.897842734176363,\n",
       "  'max': 75.0,\n",
       "  'min': 35.0},\n",
       " ('state', 'TA02_output'): {'mean': 3.1832506203473954,\n",
       "  'std': 15.309522928030194,\n",
       "  'max': 85.0,\n",
       "  'min': 0.0},\n",
       " ('temperatures', 'TA01_GT10X_GM10X'): {'mean': 21.185755702382163,\n",
       "  'std': 2.1465912572247308,\n",
       "  'max': 38.61,\n",
       "  'min': 14.176666666666666},\n",
       " ('temperatures', 'TA01_GT401_GM401'): {'mean': 42.65438122809052,\n",
       "  'std': 11.064124052679368,\n",
       "  'max': 54.56,\n",
       "  'min': 1.6800000000000002},\n",
       " ('temperatures', 'DC_GT301_damped'): {'mean': -2.041792114695267,\n",
       "  'std': 8.113325909233065,\n",
       "  'max': 26.939999999999998,\n",
       "  'min': -21.6}}"
      ]
     },
     "execution_count": 660,
     "metadata": {},
     "output_type": "execute_result"
    }
   ],
   "source": [
    "col_params"
   ]
  },
  {
   "cell_type": "code",
   "execution_count": 661,
   "id": "397e305c",
   "metadata": {},
   "outputs": [],
   "source": [
    "k = 100\n",
    "n = 200"
   ]
  },
  {
   "cell_type": "code",
   "execution_count": 662,
   "id": "da2f2426",
   "metadata": {
    "scrolled": true
   },
   "outputs": [],
   "source": [
    "seq = sequences_test[n, :, :].copy()\n",
    "\n",
    "ta01_vals = np.arange(ta01_min, ta01_max, (ta01_max - ta01_min) / k)\n",
    "ta02_vals = np.arange(ta02_min, ta02_max, (ta02_max - ta02_min) / k)\n",
    "\n",
    "# ta01_vals = np.arange(0, 100, 100 / k)\n",
    "# ta02_vals = np.arange(0, 100, 100 / k)\n",
    "\n",
    "ta01_minmax = (ta01_vals - ta01_min) / (ta01_max - ta01_min)\n",
    "ta02_minmax = (ta02_vals - ta02_min) / (ta02_max - ta02_min)\n",
    "\n",
    "temp_dc = seq[:, 2].copy() * col_params[('temperatures', 'TA01_GT401_GM401')]['std'] +  col_params[('temperatures', 'TA01_GT401_GM401')]['mean']\n",
    "temp_out = seq[:, 3].copy() * col_params[('temperatures', 'DC_GT301_damped')]['std'] + col_params[('temperatures', 'DC_GT301_damped')]['mean']\n",
    "\n",
    "seqs = []\n",
    "\n",
    "for i in range(100):\n",
    "    for j in range(100):\n",
    "        \n",
    "        seq = sequences_test[n, :, :].copy()\n",
    "        \n",
    "        ta01_inflow = temp_dc * ta01_minmax[i]\n",
    "        ta02_inflow = temp_out * ta02_minmax[i]\n",
    "        \n",
    "        ta_inflow = ta01_inflow + ta02_inflow\n",
    "\n",
    "#         ta_inflow = (ta_inflow - col_params[('temperatures', 'TA_inflow')]['mean']) / col_params[('temperatures', 'TA_inflow')]['std']\n",
    "        ta01_val = (ta01_vals[i] - col_params[('state', 'TA01_output')]['mean']) / col_params[('state', 'TA01_output')]['std']\n",
    "        ta02_val = (ta02_vals[j] - col_params[('state', 'TA02_output')]['mean']) / col_params[('state', 'TA02_output')]['std']\n",
    "        \n",
    "#         seq[-t_steps:, 0] = ta_inflow[-t_steps:]\n",
    "        seq[-t_steps:, 0] = ta01_val\n",
    "        seq[-t_steps:, 1] = ta02_val\n",
    "#         seq[-t_steps:, 3] = ta01_inflow[-t_steps:]\n",
    "#         seq[-t_steps:, 4] = ta02_inflow[-t_steps:]\n",
    "        \n",
    "        seqs.append(seq)"
   ]
  },
  {
   "cell_type": "code",
   "execution_count": 663,
   "id": "af506726",
   "metadata": {},
   "outputs": [],
   "source": [
    "seqs = np.stack(seqs)"
   ]
  },
  {
   "cell_type": "code",
   "execution_count": 664,
   "id": "bbea1c12",
   "metadata": {},
   "outputs": [],
   "source": [
    "# temps = model.predict(seqs)\n",
    "\n",
    "# plt.plot(\n",
    "#     ta01_vals,\n",
    "#     temps * col_params[('temperatures', 'TA01_GT10X_GM10X')]['std'] + col_params[('temperatures', 'TA01_GT10X_GM10X')]['mean'],\n",
    "#     c='r',\n",
    "#     linewidth=2.0\n",
    "# )"
   ]
  },
  {
   "cell_type": "code",
   "execution_count": 666,
   "id": "52b0df1e",
   "metadata": {},
   "outputs": [
    {
     "name": "stdout",
     "output_type": "stream",
     "text": [
      "313/313 [==============================] - 1s 4ms/step\n"
     ]
    }
   ],
   "source": [
    "temps = model.predict(seqs)\n",
    "temps = np.reshape(temps, (k, k)) * col_params[('temperatures', 'TA01_GT10X_GM10X')]['std'] + col_params[('temperatures', 'TA01_GT10X_GM10X')]['mean']"
   ]
  },
  {
   "cell_type": "code",
   "execution_count": 667,
   "id": "90150b64",
   "metadata": {
    "scrolled": false
   },
   "outputs": [
    {
     "data": {
      "image/png": "[encoded data removed]",
      "text/plain": [
       "<Figure size 640x480 with 2 Axes>"
      ]
     },
     "metadata": {},
     "output_type": "display_data"
    }
   ],
   "source": [
    "plt.imshow(temps)#, vmin=20, vmax=35)\n",
    "plt.colorbar()\n",
    "\n",
    "#plt.set_xticks(ta02_vals[::10])\n",
    "#plt.xticks(ta02_vals[::10])\n",
    "\n",
    "# plt.xlabel('TA01, %')\n",
    "# plt.ylabel('TA02, %')\n",
    "\n",
    "plt.title('Temperature predictions')\n",
    "plt.show()"
   ]
  },
  {
   "cell_type": "code",
   "execution_count": 668,
   "id": "0febf28f",
   "metadata": {},
   "outputs": [
    {
     "data": {
      "text/plain": [
       "array([25.01, 24.31, 24.88, 24.97, 25.32, 24.79, 25.31, 26.03, 25.77,\n",
       "       26.57, 26.61, 26.91, 27.56, 27.88, 27.61, 28.33, 27.74, 27.39])"
      ]
     },
     "execution_count": 668,
     "metadata": {},
     "output_type": "execute_result"
    }
   ],
   "source": [
    "temp_dc"
   ]
  },
  {
   "cell_type": "code",
   "execution_count": 669,
   "id": "a6446b3f",
   "metadata": {},
   "outputs": [
    {
     "data": {
      "text/plain": [
       "array([23.57, 23.79, 24.01, 24.31, 24.48, 24.64, 24.75, 24.92, 25.1 ,\n",
       "       25.24, 25.42, 25.61, 25.81, 26.04, 26.29, 26.48, 26.67, 26.83])"
      ]
     },
     "execution_count": 669,
     "metadata": {},
     "output_type": "execute_result"
    }
   ],
   "source": [
    "temp_out"
   ]
  },
  {
   "cell_type": "code",
   "execution_count": null,
   "id": "ad59cde3",
   "metadata": {},
   "outputs": [],
   "source": []
  }
 ],
 "metadata": {
  "kernelspec": {
   "display_name": "Python 3 (ipykernel)",
   "language": "python",
   "name": "python3"
  },
  "language_info": {
   "codemirror_mode": {
    "name": "ipython",
    "version": 3
   },
   "file_extension": ".py",
   "mimetype": "text/x-python",
   "name": "python",
   "nbconvert_exporter": "python",
   "pygments_lexer": "ipython3",
   "version": "3.9.13"
  }
 },
 "nbformat": 4,
 "nbformat_minor": 5
}
