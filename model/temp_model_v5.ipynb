{
 "cells": [
  {
   "cell_type": "markdown",
   "id": "3c35d1cc",
   "metadata": {},
   "source": [
    "# Short-term Temperature Model Test"
   ]
  },
  {
   "cell_type": "markdown",
   "id": "195db0c9",
   "metadata": {},
   "source": [
    "## Import dependencies and data"
   ]
  },
  {
   "cell_type": "code",
   "execution_count": 1,
   "id": "77453a55",
   "metadata": {},
   "outputs": [],
   "source": [
    "# import dependencies\n",
    "import os\n",
    "import json\n",
    "import pandas as pd\n",
    "\n",
    "import matplotlib.pyplot as plt\n",
    "import seaborn as sns\n",
    "\n",
    "import numpy as np\n",
    "import tensorflow as tf\n",
    "from tensorflow.keras import layers"
   ]
  },
  {
   "cell_type": "code",
   "execution_count": 2,
   "id": "b5dee1ac",
   "metadata": {},
   "outputs": [],
   "source": [
    "# define relevant paths\n",
    "home_path = os.path.dirname(os.getcwd())\n",
    "data_path = home_path + '\\\\data\\\\'\n",
    "plot_path = home_path + '\\\\plotting\\\\plots\\\\'\n",
    "save_path = home_path + '\\\\model\\\\saved\\\\'"
   ]
  },
  {
   "cell_type": "code",
   "execution_count": 119,
   "id": "a747b251",
   "metadata": {},
   "outputs": [],
   "source": [
    "# get merged data\n",
    "data = pd.read_csv(\n",
    "    data_path + 'data_merged.csv',\n",
    "    header=[0, 1],\n",
    "    index_col=[0, 1, 2, 3, 4]\n",
    ")\n",
    "\n",
    "# convert index.date col to datetime\n",
    "#data.index = pd.to_datetime(data.index.values)\n",
    "data.loc[:, ('time', 'date')] = pd.to_datetime(data.time.date)"
   ]
  },
  {
   "cell_type": "code",
   "execution_count": 120,
   "id": "b0f46624",
   "metadata": {},
   "outputs": [],
   "source": [
    "# define X vars\n",
    "x_vars = [\n",
    "    ('flow', 'TA01_GP101'),\n",
    "#     ('flow', 'FF01_GP101'),\n",
    "#     ('temperatures', 'TA01_GT10X_GM10X'),\n",
    "    ('temperatures', 'DC_GT101_GM101'),\n",
    "    ('temperatures', 'DC_GT102_GM102'),\n",
    "    ('temperatures', 'DC_GT103_GM103'),\n",
    "    ('temperatures', 'DC_GT104_GM104'),\n",
    "    ('temperatures', 'DC_GT401_GM401'),\n",
    "    ('temperatures', 'DC_GT301_damped'),\n",
    "    ('temperatures', 'DC_GT301_outdoor'),\n",
    "    ('setpoints', 'TA01_GT10X_GM10X'),\n",
    "    ('sun', 'gsi'),\n",
    "    ('sun', 'vol'),\n",
    "    ('time', 'mod'),\n",
    "    ('time', 'doy')\n",
    "]\n",
    "\n",
    "# filter columns to keep only x_vars\n",
    "data = data[x_vars].copy()"
   ]
  },
  {
   "cell_type": "code",
   "execution_count": 121,
   "id": "5717d2b1",
   "metadata": {},
   "outputs": [],
   "source": [
    "# # RESAMPLE to MINUTE-FREQ\n",
    "\n",
    "# data = data.groupby(['month', 'day', 'hour', 'minute']).agg({\n",
    "#     ('flow', 'TA01_GP101'):'sum',\n",
    "#     ('temperatures', 'DC_GT101_GM101'):'mean',\n",
    "#     ('temperatures', 'DC_GT102_GM102'):'mean',\n",
    "#     ('temperatures', 'DC_GT103_GM103'):'mean',\n",
    "#     ('temperatures', 'DC_GT104_GM104'):'mean',\n",
    "#     ('temperatures', 'DC_GT401_GM401'):['sum', 'mean'],\n",
    "#     ('temperatures', 'DC_GT301_damped'):'mean',  # REMOVE?\n",
    "#     ('temperatures', 'DC_GT301_outdoor'):'mean', # REMOVE?\n",
    "#     ('setpoints', 'TA01_GT10X_GM10X'):'mean',\n",
    "#     ('sun', 'gsi'):'sum',\n",
    "#     ('sun', 'vol'):'sum',\n",
    "#     ('time', 'mod'):'mean',\n",
    "#     ('time', 'doy'):'mean'\n",
    "# })"
   ]
  },
  {
   "cell_type": "markdown",
   "id": "33ae9eb6",
   "metadata": {},
   "source": [
    "## Describe Df"
   ]
  },
  {
   "cell_type": "code",
   "execution_count": 122,
   "id": "be306b52",
   "metadata": {},
   "outputs": [
    {
     "name": "stdout",
     "output_type": "stream",
     "text": [
      "Number of NAs\n",
      "\n",
      "category      sensor_ID       \n",
      "flow          TA01_GP101          13\n",
      "temperatures  DC_GT101_GM101      12\n",
      "              DC_GT102_GM102      12\n",
      "              DC_GT103_GM103      11\n",
      "              DC_GT104_GM104      11\n",
      "              DC_GT401_GM401      13\n",
      "              DC_GT301_damped     11\n",
      "              DC_GT301_outdoor    12\n",
      "setpoints     TA01_GT10X_GM10X    14\n",
      "sun           gsi                  1\n",
      "              vol                  1\n",
      "time          mod                  1\n",
      "              doy                  1\n",
      "dtype: int64\n",
      "\n",
      "\n",
      "\n"
     ]
    }
   ],
   "source": [
    "# print number of NAs\n",
    "print('Number of NAs\\n')\n",
    "print(data.isna().sum())\n",
    "print('\\n\\n')"
   ]
  },
  {
   "cell_type": "code",
   "execution_count": 123,
   "id": "4da9d182",
   "metadata": {},
   "outputs": [],
   "source": [
    "# remove single NAN\n",
    "data = data.dropna(how='any')"
   ]
  },
  {
   "cell_type": "code",
   "execution_count": 124,
   "id": "474bdc87",
   "metadata": {
    "scrolled": false
   },
   "outputs": [
    {
     "data": {
      "text/html": [
       "<div>\n",
       "<style scoped>\n",
       "    .dataframe tbody tr th:only-of-type {\n",
       "        vertical-align: middle;\n",
       "    }\n",
       "\n",
       "    .dataframe tbody tr th {\n",
       "        vertical-align: top;\n",
       "    }\n",
       "\n",
       "    .dataframe thead th {\n",
       "        text-align: right;\n",
       "    }\n",
       "</style>\n",
       "<table border=\"1\" class=\"dataframe\">\n",
       "  <thead>\n",
       "    <tr style=\"text-align: right;\">\n",
       "      <th></th>\n",
       "      <th></th>\n",
       "      <th>count</th>\n",
       "      <th>mean</th>\n",
       "      <th>std</th>\n",
       "      <th>min</th>\n",
       "      <th>25%</th>\n",
       "      <th>50%</th>\n",
       "      <th>75%</th>\n",
       "      <th>max</th>\n",
       "    </tr>\n",
       "    <tr>\n",
       "      <th>category</th>\n",
       "      <th>sensor_ID</th>\n",
       "      <th></th>\n",
       "      <th></th>\n",
       "      <th></th>\n",
       "      <th></th>\n",
       "      <th></th>\n",
       "      <th></th>\n",
       "      <th></th>\n",
       "      <th></th>\n",
       "    </tr>\n",
       "  </thead>\n",
       "  <tbody>\n",
       "    <tr>\n",
       "      <th>flow</th>\n",
       "      <th>TA01_GP101</th>\n",
       "      <td>256305.0</td>\n",
       "      <td>2350.244315</td>\n",
       "      <td>606.494982</td>\n",
       "      <td>1.761400e+03</td>\n",
       "      <td>1860.000000</td>\n",
       "      <td>2059.000000</td>\n",
       "      <td>2738.400000</td>\n",
       "      <td>4206.600000</td>\n",
       "    </tr>\n",
       "    <tr>\n",
       "      <th rowspan=\"7\" valign=\"top\">temperatures</th>\n",
       "      <th>DC_GT101_GM101</th>\n",
       "      <td>256305.0</td>\n",
       "      <td>17.493360</td>\n",
       "      <td>11.283247</td>\n",
       "      <td>-1.990000e+01</td>\n",
       "      <td>19.600000</td>\n",
       "      <td>20.500000</td>\n",
       "      <td>21.500000</td>\n",
       "      <td>29.000000</td>\n",
       "    </tr>\n",
       "    <tr>\n",
       "      <th>DC_GT102_GM102</th>\n",
       "      <td>256305.0</td>\n",
       "      <td>20.384812</td>\n",
       "      <td>1.248066</td>\n",
       "      <td>1.240000e+01</td>\n",
       "      <td>19.600000</td>\n",
       "      <td>20.300000</td>\n",
       "      <td>21.000000</td>\n",
       "      <td>30.300000</td>\n",
       "    </tr>\n",
       "    <tr>\n",
       "      <th>DC_GT103_GM103</th>\n",
       "      <td>256305.0</td>\n",
       "      <td>20.963232</td>\n",
       "      <td>1.546712</td>\n",
       "      <td>1.040000e+01</td>\n",
       "      <td>20.000000</td>\n",
       "      <td>20.600000</td>\n",
       "      <td>21.700000</td>\n",
       "      <td>31.000000</td>\n",
       "    </tr>\n",
       "    <tr>\n",
       "      <th>DC_GT104_GM104</th>\n",
       "      <td>256305.0</td>\n",
       "      <td>20.852924</td>\n",
       "      <td>1.618207</td>\n",
       "      <td>1.080000e+01</td>\n",
       "      <td>19.800000</td>\n",
       "      <td>20.400000</td>\n",
       "      <td>21.600000</td>\n",
       "      <td>32.100000</td>\n",
       "    </tr>\n",
       "    <tr>\n",
       "      <th>DC_GT401_GM401</th>\n",
       "      <td>256305.0</td>\n",
       "      <td>49.457762</td>\n",
       "      <td>3.449051</td>\n",
       "      <td>1.540000e+01</td>\n",
       "      <td>48.700000</td>\n",
       "      <td>50.200000</td>\n",
       "      <td>51.200000</td>\n",
       "      <td>56.200000</td>\n",
       "    </tr>\n",
       "    <tr>\n",
       "      <th>DC_GT301_damped</th>\n",
       "      <td>256305.0</td>\n",
       "      <td>-5.075539</td>\n",
       "      <td>6.692217</td>\n",
       "      <td>-2.160000e+01</td>\n",
       "      <td>-10.400000</td>\n",
       "      <td>-3.800000</td>\n",
       "      <td>0.100000</td>\n",
       "      <td>9.300000</td>\n",
       "    </tr>\n",
       "    <tr>\n",
       "      <th>DC_GT301_outdoor</th>\n",
       "      <td>256305.0</td>\n",
       "      <td>-5.044680</td>\n",
       "      <td>6.653598</td>\n",
       "      <td>-2.090000e+01</td>\n",
       "      <td>-10.300000</td>\n",
       "      <td>-3.700000</td>\n",
       "      <td>0.300000</td>\n",
       "      <td>8.400000</td>\n",
       "    </tr>\n",
       "    <tr>\n",
       "      <th>setpoints</th>\n",
       "      <th>TA01_GT10X_GM10X</th>\n",
       "      <td>256305.0</td>\n",
       "      <td>20.661796</td>\n",
       "      <td>0.752597</td>\n",
       "      <td>2.000000e+01</td>\n",
       "      <td>20.000000</td>\n",
       "      <td>20.000000</td>\n",
       "      <td>21.500000</td>\n",
       "      <td>22.100000</td>\n",
       "    </tr>\n",
       "    <tr>\n",
       "      <th rowspan=\"2\" valign=\"top\">sun</th>\n",
       "      <th>gsi</th>\n",
       "      <td>256305.0</td>\n",
       "      <td>29.613705</td>\n",
       "      <td>73.869739</td>\n",
       "      <td>0.000000e+00</td>\n",
       "      <td>0.000000</td>\n",
       "      <td>0.003810</td>\n",
       "      <td>10.347244</td>\n",
       "      <td>491.320000</td>\n",
       "    </tr>\n",
       "    <tr>\n",
       "      <th>vol</th>\n",
       "      <td>256305.0</td>\n",
       "      <td>341.132069</td>\n",
       "      <td>959.526231</td>\n",
       "      <td>0.000000e+00</td>\n",
       "      <td>0.000000</td>\n",
       "      <td>0.000000</td>\n",
       "      <td>0.253372</td>\n",
       "      <td>3600.000000</td>\n",
       "    </tr>\n",
       "    <tr>\n",
       "      <th rowspan=\"2\" valign=\"top\">time</th>\n",
       "      <th>mod</th>\n",
       "      <td>256305.0</td>\n",
       "      <td>0.631368</td>\n",
       "      <td>0.306814</td>\n",
       "      <td>0.000000e+00</td>\n",
       "      <td>0.378649</td>\n",
       "      <td>0.697790</td>\n",
       "      <td>0.917060</td>\n",
       "      <td>1.000000</td>\n",
       "    </tr>\n",
       "    <tr>\n",
       "      <th>doy</th>\n",
       "      <td>256305.0</td>\n",
       "      <td>0.316664</td>\n",
       "      <td>0.202923</td>\n",
       "      <td>1.224647e-16</td>\n",
       "      <td>0.128748</td>\n",
       "      <td>0.296713</td>\n",
       "      <td>0.501242</td>\n",
       "      <td>0.668064</td>\n",
       "    </tr>\n",
       "  </tbody>\n",
       "</table>\n",
       "</div>"
      ],
      "text/plain": [
       "                                  count         mean         std  \\\n",
       "category     sensor_ID                                             \n",
       "flow         TA01_GP101        256305.0  2350.244315  606.494982   \n",
       "temperatures DC_GT101_GM101    256305.0    17.493360   11.283247   \n",
       "             DC_GT102_GM102    256305.0    20.384812    1.248066   \n",
       "             DC_GT103_GM103    256305.0    20.963232    1.546712   \n",
       "             DC_GT104_GM104    256305.0    20.852924    1.618207   \n",
       "             DC_GT401_GM401    256305.0    49.457762    3.449051   \n",
       "             DC_GT301_damped   256305.0    -5.075539    6.692217   \n",
       "             DC_GT301_outdoor  256305.0    -5.044680    6.653598   \n",
       "setpoints    TA01_GT10X_GM10X  256305.0    20.661796    0.752597   \n",
       "sun          gsi               256305.0    29.613705   73.869739   \n",
       "             vol               256305.0   341.132069  959.526231   \n",
       "time         mod               256305.0     0.631368    0.306814   \n",
       "             doy               256305.0     0.316664    0.202923   \n",
       "\n",
       "                                        min          25%          50%  \\\n",
       "category     sensor_ID                                                  \n",
       "flow         TA01_GP101        1.761400e+03  1860.000000  2059.000000   \n",
       "temperatures DC_GT101_GM101   -1.990000e+01    19.600000    20.500000   \n",
       "             DC_GT102_GM102    1.240000e+01    19.600000    20.300000   \n",
       "             DC_GT103_GM103    1.040000e+01    20.000000    20.600000   \n",
       "             DC_GT104_GM104    1.080000e+01    19.800000    20.400000   \n",
       "             DC_GT401_GM401    1.540000e+01    48.700000    50.200000   \n",
       "             DC_GT301_damped  -2.160000e+01   -10.400000    -3.800000   \n",
       "             DC_GT301_outdoor -2.090000e+01   -10.300000    -3.700000   \n",
       "setpoints    TA01_GT10X_GM10X  2.000000e+01    20.000000    20.000000   \n",
       "sun          gsi               0.000000e+00     0.000000     0.003810   \n",
       "             vol               0.000000e+00     0.000000     0.000000   \n",
       "time         mod               0.000000e+00     0.378649     0.697790   \n",
       "             doy               1.224647e-16     0.128748     0.296713   \n",
       "\n",
       "                                       75%          max  \n",
       "category     sensor_ID                                   \n",
       "flow         TA01_GP101        2738.400000  4206.600000  \n",
       "temperatures DC_GT101_GM101      21.500000    29.000000  \n",
       "             DC_GT102_GM102      21.000000    30.300000  \n",
       "             DC_GT103_GM103      21.700000    31.000000  \n",
       "             DC_GT104_GM104      21.600000    32.100000  \n",
       "             DC_GT401_GM401      51.200000    56.200000  \n",
       "             DC_GT301_damped      0.100000     9.300000  \n",
       "             DC_GT301_outdoor     0.300000     8.400000  \n",
       "setpoints    TA01_GT10X_GM10X    21.500000    22.100000  \n",
       "sun          gsi                 10.347244   491.320000  \n",
       "             vol                  0.253372  3600.000000  \n",
       "time         mod                  0.917060     1.000000  \n",
       "             doy                  0.501242     0.668064  "
      ]
     },
     "execution_count": 124,
     "metadata": {},
     "output_type": "execute_result"
    }
   ],
   "source": [
    "# describe cols\n",
    "data.describe().transpose()"
   ]
  },
  {
   "cell_type": "markdown",
   "id": "ee866674",
   "metadata": {},
   "source": [
    "## Process / transform variables "
   ]
  },
  {
   "cell_type": "code",
   "execution_count": 125,
   "id": "2e7d3cd0",
   "metadata": {},
   "outputs": [],
   "source": [
    "### create \"better\" temperature var\n",
    "\n",
    "# data[('temperatures', 'TA01_GT10X_GM10X')] = data.temperatures[['DC_GT101_GM101', 'DC_GT102_GM102', 'DC_GT103_GM103', 'DC_GT104_GM104']].values.mean(axis=1)\n",
    "data[('temperatures', 'TA01_GT10X_GM10X')] = data.temperatures[[\n",
    "    ('DC_GT102_GM102'), \n",
    "    ('DC_GT103_GM103'), \n",
    "    ('DC_GT104_GM104')\n",
    "]].values.mean(axis=1)\n",
    "\n",
    "data[('temperatures', 'TA01_GT10X_GM10X')] = data[('temperatures', 'TA01_GT10X_GM10X')] - (data[('setpoints', 'TA01_GT10X_GM10X')] - 20.0)"
   ]
  },
  {
   "cell_type": "code",
   "execution_count": 126,
   "id": "e451a871",
   "metadata": {},
   "outputs": [],
   "source": [
    "# make OUTDOOR temp always NEGATIVE (i.e. between [MIN, 0])\n",
    "data[('temperatures', 'DC_GT301_damped')] = data[('temperatures', 'DC_GT301_damped')] - data[('temperatures', 'DC_GT301_damped')].max()\n",
    "data[('temperatures', 'DC_GT301_outdoor')] = data[('temperatures', 'DC_GT301_outdoor')] - data[('temperatures', 'DC_GT301_outdoor')].max()"
   ]
  },
  {
   "cell_type": "code",
   "execution_count": 127,
   "id": "23e6dae4",
   "metadata": {},
   "outputs": [],
   "source": [
    "# # perform FFT \n",
    "# fourier = np.fft.rfft(data.temperatures.DC_GT401_GM401.values)\n",
    "\n",
    "# # get FREQS\n",
    "# spacing = 1 / 10 # i.e. 1/10th of cycle PER step, due to 5-min cycles.\n",
    "# freqs = np.fft.rfftfreq(\n",
    "#     n = len(data),\n",
    "#     d = spacing\n",
    "# )\n",
    "\n",
    "# # filter fourier series\n",
    "# threshold = 1\n",
    "# fourier[freqs > threshold] = 0\n",
    "# filtered = np.fft.irfft(fourier)\n",
    "\n",
    "# # put in data\n",
    "# data.loc[:, ('temperatures', 'DC_GT401_GM401_fft')] = data[('temperatures', 'DC_GT401_GM401')]\n",
    "# data[('temperatures', 'DC_GT401_GM401_fft')] = filtered"
   ]
  },
  {
   "cell_type": "code",
   "execution_count": 128,
   "id": "f0928152",
   "metadata": {},
   "outputs": [],
   "source": [
    "# plt.plot(data[data.flow.TA01_GP101 > 4000].temperatures.TA01_GT10X_GM10X.values[-100:])"
   ]
  },
  {
   "cell_type": "code",
   "execution_count": 129,
   "id": "e6aad7cb",
   "metadata": {},
   "outputs": [],
   "source": [
    "# # USE only a few days\n",
    "# data = data[(data.index.get_level_values(0) == 3) & (data.index.get_level_values(1) > 15)].copy()"
   ]
  },
  {
   "cell_type": "markdown",
   "id": "70925b7a",
   "metadata": {},
   "source": [
    "## Preparing data"
   ]
  },
  {
   "cell_type": "code",
   "execution_count": 357,
   "id": "97925877",
   "metadata": {},
   "outputs": [],
   "source": [
    "t_steps = 15   # 15-min predictions\n",
    "\n",
    "train_frac = 0.8"
   ]
  },
  {
   "cell_type": "markdown",
   "id": "76c623b7",
   "metadata": {},
   "source": [
    "### Data selection and whitening"
   ]
  },
  {
   "cell_type": "code",
   "execution_count": 358,
   "id": "e1b71628",
   "metadata": {},
   "outputs": [],
   "source": [
    "# # save temp mean & std\n",
    "\n",
    "temp_mean = data.temperatures.TA01_GT10X_GM10X.mean()\n",
    "temp_std = data.temperatures.TA01_GT10X_GM10X.std()"
   ]
  },
  {
   "cell_type": "code",
   "execution_count": 359,
   "id": "bbef7342",
   "metadata": {},
   "outputs": [],
   "source": [
    "# normalize columns\n",
    "cols = [\n",
    "    ('temperatures', 'TA01_GT10X_GM10X'),\n",
    "]\n",
    "\n",
    "for col in cols:\n",
    "    data[col] = (data[col] - data[col].mean()) / data[col].std()\n",
    "    \n",
    "# squeeze columns to [0, 1]\n",
    "cols = [\n",
    "    ('flow', 'TA01_GP101'),\n",
    "    ('temperatures', 'DC_GT401_GM401'),\n",
    "    ('sun', 'gsi'),\n",
    "    ('sun', 'vol'),\n",
    "    ('time', 'mod'),\n",
    "#     ('time', 'doy')\n",
    "]\n",
    "\n",
    "for col in cols:\n",
    "    data[col] = (data[col] - data[col].min()) / (data[col].max() - data[col].min()) # squeeze vals between 0 and 1\n",
    "    \n",
    "# squeeze columns to [-1, 0]\n",
    "cols = [\n",
    "    ('temperatures', 'DC_GT301_damped'),\n",
    "]\n",
    "\n",
    "for col in cols:\n",
    "    data[col] = (data[col] - data[col].max()) / (data[col].max() - data[col].min()) # squeeze vals between 0 and 1"
   ]
  },
  {
   "cell_type": "code",
   "execution_count": 360,
   "id": "09bde346",
   "metadata": {},
   "outputs": [],
   "source": [
    "# Define model variables\n",
    "model_vars = [\n",
    "    ('flow', 'TA01_GP101'),\n",
    "    ('temperatures', 'TA01_GT10X_GM10X'),\n",
    "    ('temperatures', 'DC_GT401_GM401'),\n",
    "    ('temperatures', 'DC_GT301_damped'),\n",
    "    ('sun', 'gsi'),\n",
    "    ('sun', 'vol'),\n",
    "    ('time', 'mod'),\n",
    "    #('time', 'doy')\n",
    "]\n",
    "\n",
    "# filter data\n",
    "testData = data[model_vars].copy()"
   ]
  },
  {
   "cell_type": "code",
   "execution_count": 361,
   "id": "f3389acf",
   "metadata": {},
   "outputs": [],
   "source": [
    "targets = testData[('temperatures', 'TA01_GT10X_GM10X')].copy()"
   ]
  },
  {
   "cell_type": "code",
   "execution_count": 362,
   "id": "b37756f1",
   "metadata": {},
   "outputs": [],
   "source": [
    "testData[('flow', 'TA01_GP101')] = testData[('flow', 'TA01_GP101')].rolling(t_steps).sum()\n",
    "testData[('temperatures', 'TA01_GT10X_GM10X')] = testData[('temperatures', 'TA01_GT10X_GM10X')].rolling(t_steps).apply(lambda vec: vec[0], raw=True)\n",
    "testData[('temperatures', 'DC_GT401_GM401')] = testData[('temperatures', 'DC_GT401_GM401')].rolling(t_steps).mean()\n",
    "testData[('temperatures', 'DC_GT301_damped')] = testData[('temperatures', 'DC_GT301_damped')].rolling(t_steps).mean()\n",
    "testData[('sun', 'gsi')] = testData[('sun', 'gsi')].rolling(t_steps).mean()\n",
    "testData[('time', 'mod')] = testData[('time', 'mod')].rolling(t_steps).mean()\n",
    "\n",
    "# testData = testData.iloc[t_steps:].copy()\n",
    "# targets = targets.iloc[t_steps:].copy()\n",
    "features = testData.iloc[t_steps:].values\n",
    "targets = targets.iloc[t_steps:].values"
   ]
  },
  {
   "cell_type": "markdown",
   "id": "ed3989e0",
   "metadata": {},
   "source": [
    "### Shuffle and split dataset"
   ]
  },
  {
   "cell_type": "code",
   "execution_count": 363,
   "id": "125d7076",
   "metadata": {},
   "outputs": [],
   "source": [
    "# save sequential seqs, targets for testing\n",
    "features, test_feats  = features[:-8640], features[-8640:]\n",
    "targets, test_targets = targets[:-8640], targets[-8640:]"
   ]
  },
  {
   "cell_type": "code",
   "execution_count": 364,
   "id": "6852f5f2",
   "metadata": {},
   "outputs": [],
   "source": [
    "# get random indices\n",
    "idxs = np.arange(len(targets))\n",
    "np.random.shuffle(idxs)\n",
    "\n",
    "# shuffle sequences and targets\n",
    "features = np.squeeze(features[idxs])\n",
    "targets = np.squeeze(targets[idxs])"
   ]
  },
  {
   "cell_type": "code",
   "execution_count": 365,
   "id": "f46f1ee9",
   "metadata": {},
   "outputs": [],
   "source": [
    "# split data\n",
    "train_n = int(len(targets) * train_frac)\n",
    "\n",
    "X_train, X_test = features[:train_n], features[train_n:]\n",
    "Y_train, Y_test = targets[:train_n], targets[train_n:]"
   ]
  },
  {
   "cell_type": "code",
   "execution_count": 366,
   "id": "6e8938ab",
   "metadata": {},
   "outputs": [],
   "source": [
    "# # delete vars\n",
    "# del sequences, targets"
   ]
  },
  {
   "cell_type": "markdown",
   "id": "6902451d",
   "metadata": {},
   "source": [
    "## Define model"
   ]
  },
  {
   "cell_type": "code",
   "execution_count": 367,
   "id": "9ef8eb24",
   "metadata": {},
   "outputs": [],
   "source": [
    "layerList = [\n",
    "    layers.Input(shape=(\n",
    "        X_train.shape[1],\n",
    "#         X_train.shape[2]\n",
    "    )),\n",
    "    layers.BatchNormalization(),\n",
    "    #layers.Dropout(rate=0.2),\n",
    "    layers.Dense(\n",
    "        units=512,\n",
    "        activation='relu',\n",
    "        activity_regularizer='l2'\n",
    "    ),\n",
    "    layers.BatchNormalization(),\n",
    "    #layers.Dropout(rate=0.5),\n",
    "    layers.Dense(\n",
    "        units=512,\n",
    "        activation='relu',\n",
    "        activity_regularizer='l2'\n",
    "    ),\n",
    "    layers.BatchNormalization(),\n",
    "    #layers.Dropout(rate=0.5),\n",
    "    layers.Dense(\n",
    "        units=512,\n",
    "        activation='relu',\n",
    "        activity_regularizer='l2'\n",
    "    ),\n",
    "    layers.BatchNormalization(),\n",
    "#     layers.Dropout(rate=0.5),\n",
    "    layers.Dense(\n",
    "        units=1,\n",
    "        activation=None,\n",
    "        activity_regularizer='l2'\n",
    "    )\n",
    "]"
   ]
  },
  {
   "cell_type": "code",
   "execution_count": 368,
   "id": "a084f824",
   "metadata": {},
   "outputs": [
    {
     "name": "stdout",
     "output_type": "stream",
     "text": [
      "Model: \"model\"\n",
      "_________________________________________________________________\n",
      " Layer (type)                Output Shape              Param #   \n",
      "=================================================================\n",
      " batch_normalization_32 (Bat  (None, 7)                28        \n",
      " chNormalization)                                                \n",
      "                                                                 \n",
      " dense_32 (Dense)            (None, 512)               4096      \n",
      "                                                                 \n",
      " batch_normalization_33 (Bat  (None, 512)              2048      \n",
      " chNormalization)                                                \n",
      "                                                                 \n",
      " dense_33 (Dense)            (None, 512)               262656    \n",
      "                                                                 \n",
      " batch_normalization_34 (Bat  (None, 512)              2048      \n",
      " chNormalization)                                                \n",
      "                                                                 \n",
      " dense_34 (Dense)            (None, 512)               262656    \n",
      "                                                                 \n",
      " batch_normalization_35 (Bat  (None, 512)              2048      \n",
      " chNormalization)                                                \n",
      "                                                                 \n",
      " dense_35 (Dense)            (None, 1)                 513       \n",
      "                                                                 \n",
      "=================================================================\n",
      "Total params: 536,093\n",
      "Trainable params: 533,007\n",
      "Non-trainable params: 3,086\n",
      "_________________________________________________________________\n"
     ]
    }
   ],
   "source": [
    "# lr = 0.005\n",
    "lr = 0.001\n",
    "model = tf.keras.models.Sequential(layers=layerList, name='model')\n",
    "model.compile(optimizer=tf.keras.optimizers.Adam(learning_rate=lr), loss=\"mse\")\n",
    "model.summary()"
   ]
  },
  {
   "cell_type": "code",
   "execution_count": 369,
   "id": "1a78798f",
   "metadata": {
    "scrolled": false
   },
   "outputs": [
    {
     "name": "stdout",
     "output_type": "stream",
     "text": [
      "Epoch 1/40\n",
      "1239/1239 [==============================] - 44s 31ms/step - loss: 0.9575 - val_loss: 0.3120\n",
      "Epoch 2/40\n",
      "1239/1239 [==============================] - 35s 28ms/step - loss: 0.1500 - val_loss: 0.1838\n",
      "Epoch 3/40\n",
      "1239/1239 [==============================] - 34s 28ms/step - loss: 0.1285 - val_loss: 0.1300\n",
      "Epoch 4/40\n",
      "1239/1239 [==============================] - 34s 27ms/step - loss: 0.1143 - val_loss: 0.2981\n",
      "Epoch 5/40\n",
      "1239/1239 [==============================] - 34s 27ms/step - loss: 0.1075 - val_loss: 0.3932\n",
      "Epoch 6/40\n",
      "1239/1239 [==============================] - 34s 27ms/step - loss: 0.1039 - val_loss: 0.8692\n",
      "Epoch 7/40\n",
      "1239/1239 [==============================] - 35s 28ms/step - loss: 0.0996 - val_loss: 0.1884\n",
      "Epoch 8/40\n",
      "1239/1239 [==============================] - 34s 28ms/step - loss: 0.1003 - val_loss: 0.2431\n"
     ]
    }
   ],
   "source": [
    "trainHist = model.fit(\n",
    "    X_train,\n",
    "    Y_train,\n",
    "    epochs=40,\n",
    "    batch_size=128,\n",
    "    validation_split=0.2,\n",
    "    callbacks=[\n",
    "        tf.keras.callbacks.EarlyStopping(monitor=\"val_loss\", patience=5, mode=\"min\"),\n",
    "#         tf.keras.callbacks.LearningRateScheduler(lambda epoch: lr * (0.9 ** epoch))\n",
    "    ],\n",
    ")"
   ]
  },
  {
   "cell_type": "code",
   "execution_count": 370,
   "id": "ac563a02",
   "metadata": {
    "scrolled": true
   },
   "outputs": [],
   "source": [
    "# model_name = 'temp_model_v9'\n",
    "# model.save(save_path + model_name)"
   ]
  },
  {
   "cell_type": "code",
   "execution_count": 371,
   "id": "9bee5ae2",
   "metadata": {},
   "outputs": [],
   "source": [
    "# model = tf.keras.models.load_model(save_path + 'temp_model_v6')"
   ]
  },
  {
   "cell_type": "code",
   "execution_count": 372,
   "id": "de5a20b1",
   "metadata": {},
   "outputs": [
    {
     "name": "stdout",
     "output_type": "stream",
     "text": [
      "1548/1548 [==============================] - 12s 7ms/step\n",
      "270/270 [==============================] - 2s 8ms/step\n"
     ]
    }
   ],
   "source": [
    "preds = model.predict(X_test)\n",
    "vis_preds = model.predict(test_feats)"
   ]
  },
  {
   "cell_type": "code",
   "execution_count": 373,
   "id": "daafc959",
   "metadata": {},
   "outputs": [],
   "source": [
    "test_mae = np.abs(np.squeeze(preds) - Y_test) \n",
    "temp_diffs = test_mae# * temp_std"
   ]
  },
  {
   "cell_type": "code",
   "execution_count": 374,
   "id": "11176323",
   "metadata": {},
   "outputs": [
    {
     "data": {
      "image/png": "[encoded data removed]",
      "text/plain": [
       "<Figure size 640x480 with 1 Axes>"
      ]
     },
     "metadata": {},
     "output_type": "display_data"
    }
   ],
   "source": [
    "diff_df = pd.DataFrame(temp_diffs)\n",
    "\n",
    "sns.histplot(\n",
    "    data=diff_df,\n",
    "    stat='count',\n",
    "    binwidth=0.01,\n",
    "    binrange=[0, 2.0],\n",
    "    kde=False,\n",
    "    palette='bright',\n",
    "    legend=False\n",
    ")\n",
    "\n",
    "plt.title('Distribution of MAE for 10-minute forward predictions')\n",
    "plt.xlim(0, 2.0)\n",
    "plt.xlabel('Temperature error, $^\\circ$C')\n",
    "\n",
    "#plt.savefig(plot_path + 'temp_error_dist.png', bbox_inches='tight', dpi=200)\n",
    "plt.show()"
   ]
  },
  {
   "cell_type": "code",
   "execution_count": 375,
   "id": "ece2e592",
   "metadata": {
    "scrolled": false
   },
   "outputs": [
    {
     "data": {
      "image/png": "[encoded data removed]",
      "text/plain": [
       "<Figure size 640x480 with 1 Axes>"
      ]
     },
     "metadata": {},
     "output_type": "display_data"
    }
   ],
   "source": [
    "plt.plot(\n",
    "    test_targets,# * temp_std + temp_mean,\n",
    "    c='b',\n",
    "    alpha=0.6,\n",
    "    linewidth=2.5,\n",
    "    label='Real'\n",
    ")\n",
    "\n",
    "plt.plot(\n",
    "    np.squeeze(vis_preds),# * temp_std + temp_mean,\n",
    "    c='r',\n",
    "    alpha=0.8,\n",
    "    linewidth=1.5,\n",
    "    label='Predicted'\n",
    ")\n",
    "\n",
    "plt.ylabel('Temperature, $^\\circ$C')\n",
    "plt.xlabel('Steps, $t$')\n",
    "plt.legend(loc='upper left')\n",
    "plt.title('Temperature - 10-minute forward predictions')\n",
    "\n",
    "#plt.ylim(15, 30)\n",
    "plt.xlim(0, len(vis_preds))\n",
    "\n",
    "#plt.savefig(plot_path + 'temp_preds_10min.png', bbox_inches='tight', dpi=200)\n",
    "\n",
    "plt.show()"
   ]
  },
  {
   "cell_type": "code",
   "execution_count": 404,
   "id": "919b2b21",
   "metadata": {},
   "outputs": [
    {
     "data": {
      "text/plain": [
       "[<matplotlib.lines.Line2D at 0x224bd227580>]"
      ]
     },
     "execution_count": 404,
     "metadata": {},
     "output_type": "execute_result"
    },
    {
     "data": {
      "image/png": "[encoded data removed]",
      "text/plain": [
       "<Figure size 640x480 with 1 Axes>"
      ]
     },
     "metadata": {},
     "output_type": "display_data"
    }
   ],
   "source": [
    "plt.plot(test_targets[-500:])\n",
    "plt.plot(np.squeeze(vis_preds)[-500:])"
   ]
  },
  {
   "cell_type": "code",
   "execution_count": 376,
   "id": "56a44499",
   "metadata": {},
   "outputs": [],
   "source": [
    "# test_feats[:, 0] += 3.0\n",
    "# vis_preds2 = model.predict(test_feats)"
   ]
  },
  {
   "cell_type": "code",
   "execution_count": 377,
   "id": "cd478e54",
   "metadata": {},
   "outputs": [],
   "source": [
    "# plt.plot(test_targets[-600:])\n",
    "# plt.plot(np.squeeze(vis_preds)[-600:])\n",
    "# plt.plot(np.squeeze(vis_preds2)[-600:])"
   ]
  },
  {
   "cell_type": "code",
   "execution_count": 379,
   "id": "dc74c22c",
   "metadata": {
    "scrolled": true
   },
   "outputs": [
    {
     "data": {
      "text/plain": [
       "array([[1.        , 0.98391668],\n",
       "       [0.98391668, 1.        ]])"
      ]
     },
     "execution_count": 379,
     "metadata": {},
     "output_type": "execute_result"
    }
   ],
   "source": [
    "np.corrcoef(test_targets, np.squeeze(vis_preds))"
   ]
  },
  {
   "cell_type": "code",
   "execution_count": null,
   "id": "519ca215",
   "metadata": {},
   "outputs": [],
   "source": []
  }
 ],
 "metadata": {
  "kernelspec": {
   "display_name": "Python 3 (ipykernel)",
   "language": "python",
   "name": "python3"
  },
  "language_info": {
   "codemirror_mode": {
    "name": "ipython",
    "version": 3
   },
   "file_extension": ".py",
   "mimetype": "text/x-python",
   "name": "python",
   "nbconvert_exporter": "python",
   "pygments_lexer": "ipython3",
   "version": "3.9.13"
  }
 },
 "nbformat": 4,
 "nbformat_minor": 5
}
