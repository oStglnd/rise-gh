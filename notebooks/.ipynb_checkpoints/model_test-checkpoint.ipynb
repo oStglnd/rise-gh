{
 "cells": [
  {
   "cell_type": "code",
   "execution_count": 2,
   "id": "73caa18e",
   "metadata": {},
   "outputs": [],
   "source": [
    "# import dependencies\n",
    "import os\n",
    "import pandas as pd\n",
    "\n",
    "#import tensorflow as tf\n",
    "#import keras"
   ]
  },
  {
   "cell_type": "code",
   "execution_count": 3,
   "id": "b5dee1ac",
   "metadata": {},
   "outputs": [],
   "source": [
    "# define relevant paths\n",
    "home_path = os.path.dirname(os.getcwd())\n",
    "data_path = home_path + '\\\\data\\\\'"
   ]
  },
  {
   "cell_type": "code",
   "execution_count": 4,
   "id": "a747b251",
   "metadata": {},
   "outputs": [],
   "source": [
    "# get merged data\n",
    "data = pd.read_csv(\n",
    "    data_path + 'data_merged.csv',\n",
    "    header=[0, 1],\n",
    "    index_col=0\n",
    ")\n",
    "\n",
    "# convert index col to datetime\n",
    "data.index = pd.to_datetime(data.index.values)\n",
    "\n",
    "# filter out all data before JAN\n",
    "data['date'] = data.index\n",
    "data = data[data.date.apply(lambda d: d.date().isoformat() > '2022-12-31')]\n",
    "\n",
    "# create multiIndex f. dates w.r.t. month, day, hour \n",
    "data.index = pd.MultiIndex.from_tuples(data.date.apply(lambda d: (d.month, d.day, d.hour, d.date().isoformat())))\n",
    "\n",
    "# create time variable\n",
    "data[('time', 'minutes')] = data.date.apply(lambda d: d.hour * 60 + d.minute)\n",
    "\n",
    "# remove date col\n",
    "del data['date']\n",
    "\n",
    "# remove NANs (some 30-ish for flow varaibles)\n",
    "data = data.dropna()"
   ]
  },
  {
   "cell_type": "code",
   "execution_count": 5,
   "id": "b0f46624",
   "metadata": {},
   "outputs": [],
   "source": [
    "# define X vars\n",
    "x_vars = [\n",
    "    ('pressure', 'TA01_GP101'),\n",
    "    ('pressure', 'FF01_GP101'),\n",
    "    ('pressure', 'DC_GP101'),\n",
    "    ('pressure', 'SMHI'),\n",
    "    ('flow', 'TA01_GP101_default'),\n",
    "    ('flow', 'FF01_GP101_default'),\n",
    "    ('temperatures', 'DC_GT401_GM401'),\n",
    "    ('temperatures', 'TA01_GT10X_GM10X'),\n",
    "    ('temperatures', 'DC_GT301_damped'),\n",
    "    ('temperatures', 'DC_GT301_outdoor'),\n",
    "    ('temperatures', 'SMHI'),\n",
    "    ('temperatures', 'SMHI_dewp'),\n",
    "    ('time', 'minutes')\n",
    "]\n",
    "\n",
    "# define Y vars\n",
    "y_var = [\n",
    "    ('temperatures', 'TA01_GT10X_GM10X')\n",
    "]"
   ]
  },
  {
   "cell_type": "code",
   "execution_count": 639,
   "id": "648f826f",
   "metadata": {},
   "outputs": [],
   "source": [
    "# extract numeric vals\n",
    "X = data[x_vars].values\n",
    "Y = data[y_vars].values"
   ]
  },
  {
   "cell_type": "code",
   "execution_count": 640,
   "id": "be306b52",
   "metadata": {},
   "outputs": [],
   "source": [
    "### ANOMALY DETECTION\n",
    "\n",
    "### ELLER PREDICT"
   ]
  },
  {
   "cell_type": "code",
   "execution_count": 641,
   "id": "5c978f8a",
   "metadata": {},
   "outputs": [],
   "source": []
  },
  {
   "cell_type": "code",
   "execution_count": null,
   "id": "aad1c9e8",
   "metadata": {},
   "outputs": [],
   "source": []
  }
 ],
 "metadata": {
  "kernelspec": {
   "display_name": "Python 3 (ipykernel)",
   "language": "python",
   "name": "python3"
  },
  "language_info": {
   "codemirror_mode": {
    "name": "ipython",
    "version": 3
   },
   "file_extension": ".py",
   "mimetype": "text/x-python",
   "name": "python",
   "nbconvert_exporter": "python",
   "pygments_lexer": "ipython3",
   "version": "3.9.13"
  }
 },
 "nbformat": 4,
 "nbformat_minor": 5
}
