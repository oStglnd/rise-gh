{
 "cells": [
  {
   "cell_type": "markdown",
   "id": "9a494e1a",
   "metadata": {},
   "source": [
    "# Denoising humidity measurements\n",
    "\n",
    "..."
   ]
  },
  {
   "cell_type": "markdown",
   "id": "02b86c0a",
   "metadata": {},
   "source": [
    "### Get dependencies and data"
   ]
  },
  {
   "cell_type": "code",
   "execution_count": 139,
   "id": "e939c603",
   "metadata": {},
   "outputs": [],
   "source": [
    "# import dependencies\n",
    "import os\n",
    "import pandas as pd\n",
    "\n",
    "import matplotlib.pyplot as plt\n",
    "import seaborn as sns\n",
    "\n",
    "import numpy as np\n",
    "from tensorflow import keras\n",
    "from tensorflow.keras import layers"
   ]
  },
  {
   "cell_type": "code",
   "execution_count": 140,
   "id": "b5dee1ac",
   "metadata": {},
   "outputs": [],
   "source": [
    "# define relevant paths\n",
    "home_path = os.path.dirname(os.getcwd())\n",
    "data_path = home_path + '\\\\data\\\\'\n",
    "plot_path = home_path + '\\\\plotting\\\\plots\\\\'"
   ]
  },
  {
   "cell_type": "code",
   "execution_count": 141,
   "id": "a747b251",
   "metadata": {},
   "outputs": [],
   "source": [
    "# get merged data\n",
    "data = pd.read_csv(\n",
    "    data_path + 'data_merged.csv',\n",
    "    header=[0, 1],\n",
    "    index_col=[0, 1, 2, 3]\n",
    ")\n",
    "\n",
    "# convert index.date col to datetime\n",
    "#data.index = pd.to_datetime(data.index.values)\n",
    "data.index = data.index.set_levels(\n",
    "    levels=pd.to_datetime(data.index.get_level_values(3).values),\n",
    "    level=3\n",
    ")"
   ]
  },
  {
   "cell_type": "code",
   "execution_count": 143,
   "id": "fd3be39d",
   "metadata": {},
   "outputs": [
    {
     "data": {
      "text/plain": [
       "category      sensor_ID               \n",
       "pressure      DC_GP101                      0\n",
       "temperatures  TA01_GT10X_GM10X              0\n",
       "setpoints     DC_GP101_default            168\n",
       "              TA01_GT10X_GM10X_default    722\n",
       "dtype: int64"
      ]
     },
     "execution_count": 143,
     "metadata": {},
     "output_type": "execute_result"
    }
   ],
   "source": [
    "# define X vars - we are only concerned with GH pressure and temperature\n",
    "x_vars = [\n",
    "    ...\n",
    "]"
   ]
  },
  {
   "cell_type": "code",
   "execution_count": 145,
   "id": "b57fd326",
   "metadata": {
    "scrolled": false
   },
   "outputs": [
    {
     "name": "stdout",
     "output_type": "stream",
     "text": [
      "MultiIndex([(    'pressure',                 'DC_GP101'),\n",
      "            ('temperatures',         'TA01_GT10X_GM10X'),\n",
      "            (   'setpoints',         'DC_GP101_default'),\n",
      "            (   'setpoints', 'TA01_GT10X_GM10X_default')],\n",
      "           names=['category', 'sensor_ID'])\n"
     ]
    }
   ],
   "source": [
    "# filter columns to keep only x_vars\n",
    "data = data[x_vars].copy()\n",
    "print(data.columns)\n",
    "\n",
    "# remove NANs\n",
    "data = data.dropna(\n",
    "    how='any', \n",
    "    subset=x_vars\n",
    ")"
   ]
  }
 ],
 "metadata": {
  "kernelspec": {
   "display_name": "Python 3 (ipykernel)",
   "language": "python",
   "name": "python3"
  },
  "language_info": {
   "codemirror_mode": {
    "name": "ipython",
    "version": 3
   },
   "file_extension": ".py",
   "mimetype": "text/x-python",
   "name": "python",
   "nbconvert_exporter": "python",
   "pygments_lexer": "ipython3",
   "version": "3.9.13"
  }
 },
 "nbformat": 4,
 "nbformat_minor": 5
}
