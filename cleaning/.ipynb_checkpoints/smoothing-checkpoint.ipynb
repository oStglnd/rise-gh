{
 "cells": [
  {
   "cell_type": "markdown",
   "id": "9a494e1a",
   "metadata": {},
   "source": [
    "# Smoothing humidity measurements\n",
    "\n",
    "There is a periodical noise component to the humidity measurements in the GH, due to a humidifying system being activated something like every $5$ minutes. In order to accuractely assess the effect of other varaibles on the indoors humidity, we would like to filter out the effect of the humidifying system."
   ]
  },
  {
   "cell_type": "markdown",
   "id": "02b86c0a",
   "metadata": {},
   "source": [
    "### Get dependencies and data"
   ]
  },
  {
   "cell_type": "code",
   "execution_count": 1,
   "id": "e939c603",
   "metadata": {},
   "outputs": [],
   "source": [
    "# import dependencies\n",
    "import os\n",
    "import pandas as pd\n",
    "\n",
    "import matplotlib.pyplot as plt\n",
    "import seaborn as sns\n",
    "\n",
    "import numpy as np"
   ]
  },
  {
   "cell_type": "code",
   "execution_count": 4,
   "id": "b5dee1ac",
   "metadata": {},
   "outputs": [],
   "source": [
    "# define relevant paths\n",
    "home_path = os.path.dirname(os.getcwd())\n",
    "data_path = home_path + '\\\\data\\\\'\n",
    "plot_path = home_path + '\\\\plotting\\\\plots\\\\'"
   ]
  },
  {
   "cell_type": "code",
   "execution_count": 20,
   "id": "a747b251",
   "metadata": {},
   "outputs": [],
   "source": [
    "# get merged data\n",
    "data = pd.read_csv(\n",
    "    data_path + 'data_merged.csv',\n",
    "    header=[0, 1],\n",
    "    index_col=[0, 1, 2, 3]\n",
    ")\n",
    "\n",
    "# convert index.date col to datetime\n",
    "#data.index = pd.to_datetime(data.index.values)\n",
    "data.index = data.index.set_levels(\n",
    "    levels=pd.to_datetime(data.index.get_level_values(3).values),\n",
    "    level=3\n",
    ")"
   ]
  },
  {
   "cell_type": "code",
   "execution_count": 21,
   "id": "fd3be39d",
   "metadata": {},
   "outputs": [],
   "source": [
    "# define X vars - we are only concerned with GH pressure and temperature\n",
    "x_vars = [\n",
    "    ('humidity', 'DC_GT101_GM101'),\n",
    "    ('humidity', 'DC_GT102_GM102'),\n",
    "    ('humidity', 'DC_GT103_GM103'),\n",
    "    ('humidity', 'DC_GT104_GM104'),\n",
    "    ('humidity', 'TA01_GT10X_GM10X'),\n",
    "    ('humidity', 'TA01_GT401_GM401'),\n",
    "    ('humidity', 'TA02_GT401_GM401')\n",
    "]"
   ]
  },
  {
   "cell_type": "code",
   "execution_count": 22,
   "id": "b57fd326",
   "metadata": {
    "scrolled": false
   },
   "outputs": [
    {
     "name": "stdout",
     "output_type": "stream",
     "text": [
      "Number of NAs\n",
      "\n",
      "category  sensor_ID       \n",
      "humidity  DC_GT101_GM101      0\n",
      "          DC_GT102_GM102      0\n",
      "          DC_GT103_GM103      0\n",
      "          DC_GT104_GM104      0\n",
      "          TA01_GT10X_GM10X    0\n",
      "          TA01_GT401_GM401    0\n",
      "          TA02_GT401_GM401    0\n",
      "dtype: int64\n",
      "\n",
      "\n",
      "\n",
      "Index(['DC_GT101_GM101', 'DC_GT102_GM102', 'DC_GT103_GM103', 'DC_GT104_GM104',\n",
      "       'TA01_GT10X_GM10X', 'TA01_GT401_GM401', 'TA02_GT401_GM401'],\n",
      "      dtype='object', name='sensor_ID')\n"
     ]
    }
   ],
   "source": [
    "# filter columns to keep only x_vars\n",
    "data = data[x_vars].copy()\n",
    "print('Number of NAs\\n')\n",
    "print(data.isna().sum())\n",
    "print('\\n\\n')\n",
    "\n",
    "# remove NANs\n",
    "data = data.dropna(\n",
    "    how='any', \n",
    "    subset=x_vars\n",
    ")\n",
    "\n",
    "# drop \"humidity\" from MultiIndex since all from there :)\n",
    "data = data.droplevel(level=0, axis=1)"
   ]
  },
  {
   "cell_type": "markdown",
   "id": "5ff0f999",
   "metadata": {},
   "source": [
    "### Plot the problem"
   ]
  },
  {
   "cell_type": "code",
   "execution_count": null,
   "id": "b86532ce",
   "metadata": {},
   "outputs": [],
   "source": [
    "# set seaborn style/theme\n",
    "sns.set_theme()\n",
    "sns.set_style('white')\n",
    "\n",
    "ax = sns.relplot(\n",
    "    data=data.humidity,\n",
    "    kind='line',\n",
    "    palette= params['palette'],\n",
    "    alpha= params['alpha'],\n",
    "    dashes=False,\n",
    "    markers=False,\n",
    "    legend='full',\n",
    "    linewidth=1.5\n",
    ")\n",
    "\n",
    "ax.set_xticklabels(step=2)\n",
    "\n",
    "plt.yticks(rotation=45)\n",
    "plt.xlabel('Timestamp')\n",
    "plt.ylabel(params['units'], loc='center', rotation=0, fontsize=12, labelpad=30)\n",
    "plt.title(params['title'])"
   ]
  }
 ],
 "metadata": {
  "kernelspec": {
   "display_name": "Python 3 (ipykernel)",
   "language": "python",
   "name": "python3"
  },
  "language_info": {
   "codemirror_mode": {
    "name": "ipython",
    "version": 3
   },
   "file_extension": ".py",
   "mimetype": "text/x-python",
   "name": "python",
   "nbconvert_exporter": "python",
   "pygments_lexer": "ipython3",
   "version": "3.9.13"
  }
 },
 "nbformat": 4,
 "nbformat_minor": 5
}
