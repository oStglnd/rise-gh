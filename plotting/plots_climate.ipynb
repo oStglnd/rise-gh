{
 "cells": [
  {
   "cell_type": "markdown",
   "id": "f109281f",
   "metadata": {},
   "source": [
    "# Plots for GH climate"
   ]
  },
  {
   "cell_type": "markdown",
   "id": "ea596a57",
   "metadata": {},
   "source": [
    "## Import dependencies and data"
   ]
  },
  {
   "cell_type": "code",
   "execution_count": null,
   "id": "5bc903d6",
   "metadata": {},
   "outputs": [],
   "source": [
    "# import dependencies\n",
    "import os\n",
    "import pandas as pd\n",
    "import seaborn as sns\n",
    "import matplotlib.pyplot as plt"
   ]
  },
  {
   "cell_type": "code",
   "execution_count": 12,
   "id": "23532b2d",
   "metadata": {},
   "outputs": [],
   "source": [
    "# define relevant paths\n",
    "home_path = os.path.dirname(os.getcwd())\n",
    "data_path = home_path + '\\\\data\\\\'\n",
    "plot_path = home_path + '\\\\plotting\\\\plots\\\\climate\\\\'"
   ]
  },
  {
   "cell_type": "code",
   "execution_count": 6,
   "id": "7637066c",
   "metadata": {},
   "outputs": [],
   "source": [
    "# define HYPERPARAMS\n",
    "plot_unit   = '6 hours'\n",
    "plot_suffix = '6h'\n",
    "plot_nsteps = 720 # 2 steps per minute\n",
    "\n",
    "# set seaborn style/them\n",
    "sns.set_theme()\n",
    "sns.set_style('white')"
   ]
  },
  {
   "cell_type": "code",
   "execution_count": 9,
   "id": "90724c4e",
   "metadata": {},
   "outputs": [],
   "source": [
    "# get merged data\n",
    "data = pd.read_csv(\n",
    "    data_path + 'data_merged.csv',\n",
    "    header=[0, 1],\n",
    "    index_col=[0, 1, 2, 3]\n",
    ")\n",
    "\n",
    "# convert index.date col to datetime\n",
    "#data.index = pd.to_datetime(data.index.values)\n",
    "data.index = data.index.set_levels(\n",
    "    levels=pd.to_datetime(data.index.get_level_values(3).values),\n",
    "    level=3\n",
    ")\n",
    "\n",
    "# drop all index levels except date\n",
    "data = data.droplevel(\n",
    "    level=[0, 1, 2], \n",
    "    axis=0\n",
    ")"
   ]
  },
  {
   "cell_type": "markdown",
   "id": "df0f695c",
   "metadata": {},
   "source": [
    "## Define plot specs"
   ]
  },
  {
   "cell_type": "code",
   "execution_count": 10,
   "id": "8f1131ca",
   "metadata": {},
   "outputs": [],
   "source": [
    "# define plot categories and params\n",
    "plot_cats = [\n",
    "    # EXAMPLE: ('title', 'type', 'filter (RegEx)', 'units', 'palette', 'alpha', 'filename'),\n",
    "    {\n",
    "        'title':'DC - Temperatures, {}'.format(plot_unit),\n",
    "        'type':'temperatures',\n",
    "        'filter':'GM401',\n",
    "        'units':'$^\\circ$C', \n",
    "        'palette':'YlOrRd_r',\n",
    "        'alpha':0.9,\n",
    "        'fname':'dc_temp_{}.png'.format(plot_suffix)\n",
    "    },\n",
    "    {\n",
    "        'title':'DC - Humidity, {}'.format(plot_unit),\n",
    "        'type':'humidity',\n",
    "        'filter':'GM401',\n",
    "        'units':'$\\%$', \n",
    "        'palette':'crest',\n",
    "        'alpha':0.9,\n",
    "        'fname':'dc_humid_{}.png'.format(plot_suffix)\n",
    "    },\n",
    "    {\n",
    "        'title':'GH - Avg., {}'.format(plot_unit),\n",
    "        'type':'all',\n",
    "        'filter':'X',\n",
    "        'units':'$^\\circ$C, $\\%$', \n",
    "        'palette':'mako',\n",
    "        'alpha':1.0,\n",
    "        'fname':'ghavg_all_{}.png'.format(plot_suffix)\n",
    "    },\n",
    "    {\n",
    "        'title':'DC - , {}'.format(plot_unit),\n",
    "        'type':'all',\n",
    "        'filter':'DC_GT401_GM401',\n",
    "        'units':'$^\\circ$C, $\\%$', \n",
    "        'palette':'mako',\n",
    "        'alpha':1.0,\n",
    "        'fname':'dc_all_{}.png'.format(plot_suffix)\n",
    "    },\n",
    "    {\n",
    "        'title':'GH & OUT - Temperatures, {}'.format(plot_unit),\n",
    "        'type':'temperatures',\n",
    "        'filter':'X|GT301|SMHI',\n",
    "        'units':'$^\\circ$C', \n",
    "        'palette':'YlOrRd_r',\n",
    "        'alpha':1.0,\n",
    "        'fname':'ghout_temp_{}.png'.format(plot_suffix)\n",
    "    },\n",
    "    {\n",
    "        'title':'GH, DC & OUT - Humidity, {}'.format(plot_unit),\n",
    "        'type':'humidity',\n",
    "        'filter':'X|DC_GT401_GM401|SMHI',\n",
    "        'units':'$\\%$', \n",
    "        'palette':'crest',\n",
    "        'alpha':1.0,\n",
    "        'fname':'ghdcout_hum_{}.png'.format(plot_suffix)\n",
    "    },\n",
    "    {\n",
    "        'title':'OUT - Temperature, {}'.format(plot_unit),\n",
    "        'type':'temperatures',\n",
    "        'filter':'GT301|SMHI',\n",
    "        'units':'$^\\circ$C', \n",
    "        'palette':'mako',\n",
    "        'alpha':1.0,\n",
    "        'fname':'out_temp_{}.png'.format(plot_suffix)\n",
    "    },\n",
    "    {\n",
    "        'title':'GH - Temperature, {}'.format(plot_unit),\n",
    "        'type':'temperatures',\n",
    "        'filter':'X',\n",
    "        'units':'$^\\circ$C', \n",
    "        'palette':'mako',\n",
    "        'alpha':1.0,\n",
    "        'fname':'ghavg_temp_{}.png'.format(plot_suffix)\n",
    "    }\n",
    "]"
   ]
  },
  {
   "cell_type": "markdown",
   "id": "f62e6257",
   "metadata": {},
   "source": [
    "## Create and save figures"
   ]
  },
  {
   "cell_type": "code",
   "execution_count": null,
   "id": "962da869",
   "metadata": {},
   "outputs": [],
   "source": [
    "# crop data\n",
    "data_cropped = data.iloc[-plot_nsteps:]\n",
    "\n",
    "# iterate over plot params and save figs\n",
    "for params in plot_cats[-1:]:\n",
    "    \n",
    "    if params['type'] == 'all':\n",
    "        subset = data_cropped.filter(regex=params['filter'], axis=1).droplevel(level=1, axis=1)\n",
    "    else:\n",
    "        subset = data_cropped[params['type']].filter(regex=params['filter'])\n",
    "    ax = sns.relplot(\n",
    "        data=subset,\n",
    "        kind='line',\n",
    "        palette= params['palette'],\n",
    "        alpha= params['alpha'],\n",
    "        dashes=False,\n",
    "        markers=False,\n",
    "        legend='full'\n",
    "    )\n",
    "\n",
    "    ax.set_xticklabels(step=2)\n",
    "    \n",
    "    plt.yticks(rotation=45)\n",
    "    plt.xlabel('Timestamp')\n",
    "    plt.ylabel(params['units'], loc='center', rotation=0, fontsize=12, labelpad=30)\n",
    "    plt.title(params['title'])\n",
    "    \n",
    "    fpath = plot_path + params['fname']\n",
    "    plt.savefig(fpath, bbox_inches='tight', dpi=1000)\n",
    "    plt.show()"
   ]
  },
  {
   "cell_type": "code",
   "execution_count": null,
   "id": "3ced4ab0",
   "metadata": {},
   "outputs": [],
   "source": []
  }
 ],
 "metadata": {
  "kernelspec": {
   "display_name": "Python 3 (ipykernel)",
   "language": "python",
   "name": "python3"
  },
  "language_info": {
   "codemirror_mode": {
    "name": "ipython",
    "version": 3
   },
   "file_extension": ".py",
   "mimetype": "text/x-python",
   "name": "python",
   "nbconvert_exporter": "python",
   "pygments_lexer": "ipython3",
   "version": "3.9.13"
  }
 },
 "nbformat": 4,
 "nbformat_minor": 5
}
