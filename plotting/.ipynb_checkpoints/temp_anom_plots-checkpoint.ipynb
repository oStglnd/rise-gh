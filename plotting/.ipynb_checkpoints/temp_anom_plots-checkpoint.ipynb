{
 "cells": [
  {
   "cell_type": "markdown",
   "id": "c7601963",
   "metadata": {},
   "source": [
    "# Plots for temperature anomalies"
   ]
  },
  {
   "cell_type": "markdown",
   "id": "5c3c0b40",
   "metadata": {},
   "source": [
    "## Import dependencies and data"
   ]
  },
  {
   "cell_type": "code",
   "execution_count": 1,
   "id": "68474fcc",
   "metadata": {},
   "outputs": [],
   "source": [
    "# import dependencies\n",
    "import os\n",
    "import pandas as pd\n",
    "import seaborn as sns\n",
    "import matplotlib.pyplot as plt\n",
    "\n",
    "import numpy as np"
   ]
  },
  {
   "cell_type": "code",
   "execution_count": 2,
   "id": "23532b2d",
   "metadata": {},
   "outputs": [],
   "source": [
    "# define relevant paths\n",
    "home_path = os.path.dirname(os.getcwd())\n",
    "data_path = home_path + '\\\\data\\\\'\n",
    "plot_path = home_path + '\\\\plotting\\\\plots\\\\'"
   ]
  },
  {
   "cell_type": "code",
   "execution_count": 3,
   "id": "7637066c",
   "metadata": {},
   "outputs": [],
   "source": [
    "# set seaborn style/theme\n",
    "sns.set_theme()\n",
    "sns.set_style('white')"
   ]
  },
  {
   "cell_type": "code",
   "execution_count": 380,
   "id": "94fc524b",
   "metadata": {},
   "outputs": [],
   "source": [
    "# get merged data\n",
    "data = pd.read_csv(\n",
    "    data_path + 'data_merged.csv',\n",
    "    header=[0, 1],\n",
    "    index_col=[0, 1, 2, 3]\n",
    ")\n",
    "\n",
    "# convert index.date col to datetime\n",
    "#data.index = pd.to_datetime(data.index.values)\n",
    "data.index = data.index.set_levels(\n",
    "    levels=pd.to_datetime(data.index.get_level_values(3).values),\n",
    "    level=3\n",
    ")\n",
    "\n",
    "# drop all index levels except date\n",
    "data = data.droplevel(\n",
    "    level=[0, 1, 2], \n",
    "    axis=0\n",
    ")"
   ]
  },
  {
   "cell_type": "code",
   "execution_count": 381,
   "id": "773c939e",
   "metadata": {},
   "outputs": [],
   "source": [
    "# keep only flow, setpoints, temps, pressure\n",
    "data = data[[\n",
    "    'flow',\n",
    "    'temperatures',\n",
    "    'setpoints',\n",
    "    #'state',\n",
    "    'pressure',\n",
    "    'sun',\n",
    "    'wind',\n",
    "    #'humidity'\n",
    "]].copy()"
   ]
  },
  {
   "cell_type": "markdown",
   "id": "5cf07ad7",
   "metadata": {},
   "source": [
    "## Select and normalize variables"
   ]
  },
  {
   "cell_type": "code",
   "execution_count": 382,
   "id": "8d86a5a4",
   "metadata": {},
   "outputs": [],
   "source": [
    "cols = [\n",
    "    ('flow', 'TA01_GP101_default'),\n",
    "    ('flow', 'TA01_SP102_absolute'),\n",
    "    ('flow', 'DC_SP105_absolute'),\n",
    "    ('flow', 'DC_SP106_absolute'),\n",
    "    ('flow', 'DC_SP107_absolute'),\n",
    "    ('flow', 'DC_SP110_absolute'),\n",
    "    ('temperatures', 'DC_GT401_GM401'),\n",
    "    ('temperatures', 'TA01_GT10X_GM10X'),\n",
    "    ('temperatures', 'DC_GT301_damped'),\n",
    "    ('temperatures', 'DC_GT301_outdoor'),\n",
    "    #('humidity', 'TA01_GT10X_GM10X'),\n",
    "    ('pressure', 'DC_GP101'),\n",
    "    ('sun', 'SMHI_gsi'),\n",
    "    ('sun', 'SMHI_vol'),\n",
    "    ('wind', 'SMHI_speed'),\n",
    "    ('setpoints', 'TA01_GT10X_GM10X_default'),\n",
    "    ('setpoints', 'TA01_SP102_calculated')\n",
    "]\n",
    "\n",
    "data = data[cols].copy()"
   ]
  },
  {
   "cell_type": "code",
   "execution_count": 383,
   "id": "18f7cc7a",
   "metadata": {},
   "outputs": [],
   "source": [
    "# remove level shift from setpoints change\n",
    "data[('temperatures', 'TA01_GT10X_GM10X')] = data.temperatures.TA01_GT10X_GM10X \\\n",
    "                                                - (data.setpoints.TA01_GT10X_GM10X_default - 20.0)"
   ]
  },
  {
   "cell_type": "code",
   "execution_count": 384,
   "id": "8fb74cf9",
   "metadata": {},
   "outputs": [],
   "source": [
    "# remove \"OUTLIERS\" from DC-TEMP\n",
    "data[('temperatures', 'DC_GT401_GM401_bound')] = data.temperatures.DC_GT401_GM401.apply(lambda val: min(max(40.0, val), 50.0))"
   ]
  },
  {
   "cell_type": "code",
   "execution_count": 385,
   "id": "cd42e989",
   "metadata": {},
   "outputs": [],
   "source": [
    "# smooth out w. rolling\n",
    "data[('temperatures', 'DC_GT401_GM401_broll')] = \\\n",
    "    data.temperatures.DC_GT401_GM401_bound.rolling(window=20).mean()"
   ]
  },
  {
   "cell_type": "code",
   "execution_count": 278,
   "id": "e2df6718",
   "metadata": {},
   "outputs": [],
   "source": [
    "# # calculate SUM of SP flows\n",
    "# data[('flow', 'DC_SPSUM')] = \\\n",
    "#     data.flow.DC_SP105_absolute \\\n",
    "#     + data.flow.DC_SP106_absolute \\\n",
    "#     + data.flow.DC_SP107_absolute \\\n",
    "#     + data.flow.DC_SP110_absolute"
   ]
  },
  {
   "cell_type": "code",
   "execution_count": 279,
   "id": "9d6509f4",
   "metadata": {},
   "outputs": [],
   "source": [
    "# Interpolate hourly sun measurements\n",
    "\n",
    "# # remove all \"intermediary points\"\n",
    "# idx = pd.to_datetime(data.index.get_level_values(0).values).minute != 0\n",
    "# data[('sun', 'SMHI_gsi')].loc[idx] = np.nan\n",
    "\n",
    "# data.sun.SMHI_gsi = data.sun.SMHI_gsi.interpolate(method='spline', order=3)"
   ]
  },
  {
   "cell_type": "code",
   "execution_count": 386,
   "id": "0480a8bf",
   "metadata": {},
   "outputs": [],
   "source": [
    "# crop data\n",
    "#data = data.iloc[-14400:].copy()\n",
    "#data = data.iloc[-4000:].copy()\n",
    "data = data.iloc[-2500:].copy()\n",
    "#data = data.iloc[-2000:-500].copy()\n",
    "\n",
    "# normalize all columns\n",
    "for col in data.columns:\n",
    "    data[col] = (data[col] - data[col].mean()) / data[col].std()"
   ]
  },
  {
   "cell_type": "markdown",
   "id": "f5b49120",
   "metadata": {},
   "source": [
    "## Plot temp/flow anomalies"
   ]
  },
  {
   "cell_type": "code",
   "execution_count": 387,
   "id": "c1de0ee0",
   "metadata": {},
   "outputs": [
    {
     "data": {
      "image/png": "[encoded data removed]",
      "text/plain": [
       "<Figure size 646.5x500 with 1 Axes>"
      ]
     },
     "metadata": {},
     "output_type": "display_data"
    }
   ],
   "source": [
    "subset = data[[ # three last days of obs.\n",
    "     ('temperatures', 'TA01_GT10X_GM10X'),\n",
    "#      ('temperatures', 'DC_GT401_GM401'),\n",
    "     ('temperatures', 'DC_GT401_GM401_bound'),\n",
    "#    ('temperatures', 'DC_GT401_GM401_broll'),\n",
    "#      ('temperatures', 'DC_GT301_damped'),\n",
    "#         ('sun', 'SMHI_gsi'),\n",
    "#       ('sun', 'SMHI_vol'),\n",
    "#      ('wind', 'SMHI_speed')\n",
    "#           ('flow', 'TA01_GP101_default'),\n",
    "#]].iloc[-2000:-500].copy()\n",
    "]].copy()\n",
    "\n",
    "subset = subset.droplevel(level=0, axis=1)\n",
    "\n",
    "subset = subset.rename(columns={\n",
    "    'TA01_GT10X_GM10X':'GH',\n",
    "    'DC_GT401_GM401':'DC',\n",
    "    'DC_GT401_GM401_bound':'DC',\n",
    "    'DC_GT401_GM401_broll':'DC'\n",
    "    \n",
    "})\n",
    "\n",
    "ax = sns.relplot(\n",
    "    data=subset,\n",
    "    kind='line',\n",
    "    palette='bright',\n",
    "    alpha= 0.8,\n",
    "    linewidth=1.5,\n",
    "    dashes=False,\n",
    "    markers=False,\n",
    "    legend='full',\n",
    ")\n",
    "\n",
    "ax.set_xticklabels(step=2)\n",
    "\n",
    "plt.ylim(-5, 5)\n",
    "plt.xlim(subset.index[0], subset.index[-1])\n",
    "plt.yticks(rotation=45)\n",
    "plt.xlabel('Timestamp')\n",
    "plt.ylabel('$\\sigma$', loc='center', rotation=0, fontsize=12, labelpad=30)\n",
    "plt.title('Temperature readings')\n",
    "\n",
    "plt.savefig(plot_path + 'EXAMP_2.png', bbox_inches='tight', dpi=500)\n",
    "plt.show()"
   ]
  },
  {
   "cell_type": "code",
   "execution_count": null,
   "id": "1d184958",
   "metadata": {},
   "outputs": [],
   "source": []
  }
 ],
 "metadata": {
  "kernelspec": {
   "display_name": "Python 3 (ipykernel)",
   "language": "python",
   "name": "python3"
  },
  "language_info": {
   "codemirror_mode": {
    "name": "ipython",
    "version": 3
   },
   "file_extension": ".py",
   "mimetype": "text/x-python",
   "name": "python",
   "nbconvert_exporter": "python",
   "pygments_lexer": "ipython3",
   "version": "3.9.13"
  }
 },
 "nbformat": 4,
 "nbformat_minor": 5
}
