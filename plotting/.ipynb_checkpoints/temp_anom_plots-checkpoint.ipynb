{
 "cells": [
  {
   "cell_type": "markdown",
   "id": "c7601963",
   "metadata": {},
   "source": [
    "# Plots for temperature anomalies"
   ]
  },
  {
   "cell_type": "markdown",
   "id": "5c3c0b40",
   "metadata": {},
   "source": [
    "## Import dependencies and data"
   ]
  },
  {
   "cell_type": "code",
   "execution_count": 27,
   "id": "68474fcc",
   "metadata": {},
   "outputs": [],
   "source": [
    "# import dependencies\n",
    "import os\n",
    "import pandas as pd\n",
    "import seaborn as sns\n",
    "import matplotlib.pyplot as plt\n",
    "\n",
    "import numpy as np"
   ]
  },
  {
   "cell_type": "code",
   "execution_count": 28,
   "id": "23532b2d",
   "metadata": {},
   "outputs": [],
   "source": [
    "# define relevant paths\n",
    "home_path = os.path.dirname(os.getcwd())\n",
    "data_path = home_path + '\\\\data\\\\'\n",
    "plot_path = home_path + '\\\\plotting\\\\plots\\\\'"
   ]
  },
  {
   "cell_type": "code",
   "execution_count": 29,
   "id": "7637066c",
   "metadata": {},
   "outputs": [],
   "source": [
    "# set seaborn style/theme\n",
    "sns.set_theme()\n",
    "sns.set_style('white')"
   ]
  },
  {
   "cell_type": "code",
   "execution_count": 137,
   "id": "94fc524b",
   "metadata": {
    "scrolled": true
   },
   "outputs": [],
   "source": [
    "# get merged data\n",
    "data = pd.read_csv(\n",
    "    data_path + 'data_merged.csv',\n",
    "    header=[0, 1],\n",
    "    index_col=[0, 1, 2, 3, 4]\n",
    ")\n",
    "\n",
    "# convert index.date col to datetime\n",
    "#data.index = pd.to_datetime(data.index.values)\n",
    "data.loc[:, ('time', 'date')] = pd.to_datetime(data.time.date)"
   ]
  },
  {
   "cell_type": "code",
   "execution_count": 138,
   "id": "773c939e",
   "metadata": {},
   "outputs": [],
   "source": [
    "# keep only flow, setpoints, temps, pressure\n",
    "data = data[[\n",
    "    'flow',\n",
    "    'temperatures',\n",
    "    'setpoints',\n",
    "    #'state',\n",
    "    'pressure',\n",
    "    'sun',\n",
    "    'wind',\n",
    "    'time'\n",
    "    #'humidity'\n",
    "]].copy()"
   ]
  },
  {
   "cell_type": "markdown",
   "id": "5cf07ad7",
   "metadata": {},
   "source": [
    "## Select and normalize variables"
   ]
  },
  {
   "cell_type": "code",
   "execution_count": 139,
   "id": "61e75f8d",
   "metadata": {},
   "outputs": [],
   "source": [
    "cols = [\n",
    "    #('flow', 'TA01_GP101_default'),\n",
    "    #('flow', 'TA01_SP102_absolute'),\n",
    "    #('flow', 'DC_SP105_absolute'),\n",
    "    #('flow', 'DC_SP106_absolute'),\n",
    "    #('flow', 'DC_SP107_absolute'),\n",
    "    #('flow', 'DC_SP110_absolute'),\n",
    "    ('flow', 'TA01_GP101'),\n",
    "    ('flow', 'FF01_GP101'),\n",
    "    ('temperatures', 'DC_GT401_GM401'),\n",
    "    ('temperatures', 'TA01_GT10X_GM10X'),\n",
    "    ('temperatures', 'DC_GT301_damped'),\n",
    "    ('temperatures', 'DC_GT301_outdoor'),\n",
    "    #('humidity', 'TA01_GT10X_GM10X'),\n",
    "    ('pressure', 'DC_GP101'),\n",
    "    ('sun', 'gsi'),\n",
    "    ('sun', 'gsi_raw'),\n",
    "    ('sun', 'vol'),\n",
    "    ('sun', 'vol_raw'),\n",
    "     ('wind', 'Wx'),\n",
    "     ('wind', 'Wy'),\n",
    "    ('setpoints', 'TA01_GT10X_GM10X'),\n",
    "    #('setpoints', 'TA01_SP102_calculated'),\n",
    "    ('time', 'date'),\n",
    "    ('time', 'mod'),\n",
    "    ('time', 'doy')\n",
    "]\n",
    "\n",
    "data = data[cols].copy()"
   ]
  },
  {
   "cell_type": "code",
   "execution_count": 43,
   "id": "a043e373",
   "metadata": {},
   "outputs": [],
   "source": [
    "# # remove level shift from setpoints change\n",
    "data[('temperatures', 'TA01_GT10X_GM10X')] = data.temperatures.TA01_GT10X_GM10X \\\n",
    "                                                - (data.setpoints.TA01_GT10X_GM10X - 20.0)"
   ]
  },
  {
   "cell_type": "code",
   "execution_count": 44,
   "id": "888a5b19",
   "metadata": {},
   "outputs": [],
   "source": [
    "# remove \"OUTLIERS\" from DC-TEMP\n",
    "# data[('temperatures', 'DC_GT401_GM401_roll')] = data.temperatures.DC_GT401_GM401.rolling(window=240, center=False).mean()\n",
    "data[('temperatures', 'DC_GT401_GM401_roll')] = data.temperatures.DC_GT401_GM401.rolling(window=240, center=False).mean()\n",
    "data[('temperatures', 'DC_diff')] = np.abs(data.temperatures.DC_GT401_GM401 - data.temperatures.DC_GT401_GM401_roll)\n",
    "data.loc[data.temperatures.DC_diff > 2, ('temperatures', 'DC_GT401_GM401')] = data.temperatures.DC_GT401_GM401_roll\n"
   ]
  },
  {
   "cell_type": "code",
   "execution_count": 45,
   "id": "d3c714df",
   "metadata": {},
   "outputs": [],
   "source": [
    "# remove \"OUTLIERS\" from DC-FLOW\n",
    "data[('flow', 'TA01_GP101')] = data.flow.TA01_GP101.apply(lambda val: max(1800, val))"
   ]
  },
  {
   "cell_type": "code",
   "execution_count": 46,
   "id": "2a63e840",
   "metadata": {},
   "outputs": [],
   "source": [
    "# perform FFT \n",
    "fourier = np.fft.rfft( data.temperatures.DC_GT401_GM401.values)\n",
    "\n",
    "# get FREQS\n",
    "spacing = 1 / 100 # i.e. 1/10th of cycle PER step, due to 5-min cycles.\n",
    "#spacing = 1\n",
    "freqs = np.fft.rfftfreq(\n",
    "    n = len(data),\n",
    "    d = spacing\n",
    ")\n",
    "\n",
    "# filter fourier series\n",
    "threshold = 1\n",
    "fourier[freqs > threshold] = 0\n",
    "filtered = np.fft.irfft(fourier)\n",
    "\n",
    "# put in data\n",
    "data.loc[:, ('temperatures', 'DC_GT401_GM401_fft')] = 0\n",
    "data[('temperatures', 'DC_GT401_GM401_fft')] = filtered"
   ]
  },
  {
   "cell_type": "code",
   "execution_count": 79,
   "id": "dd4d0df0",
   "metadata": {},
   "outputs": [],
   "source": [
    "# crop data\n",
    "#data = data.iloc[-14400:].copy()\n",
    "#data = data.iloc[-4000:].copy()\n",
    "plotdata = data.iloc[-38000:-35000].copy()\n",
    "#data = data.iloc[-1000:].copy()\n",
    "\n",
    "plotdata.index = plotdata.pop(('time', 'date'))\n",
    "\n",
    "# normalize all columns\n",
    "for col in plotdata.columns:\n",
    "   plotdata[col] = (plotdata[col] - plotdata[col].mean()) / plotdata[col].std()"
   ]
  },
  {
   "cell_type": "code",
   "execution_count": 113,
   "id": "3306c9d2",
   "metadata": {},
   "outputs": [],
   "source": [
    "# for col in data.columns:\n",
    "#    data[col] = (data[col] - data[col].mean()) / data[col].std()"
   ]
  },
  {
   "cell_type": "markdown",
   "id": "83ad9c96",
   "metadata": {},
   "source": [
    "## Plot temp/flow anomalies"
   ]
  },
  {
   "cell_type": "code",
   "execution_count": 83,
   "id": "a9a34dea",
   "metadata": {
    "scrolled": false
   },
   "outputs": [
    {
     "data": {
      "image/png": "[encoded data removed]",
      "text/plain": [
       "<Figure size 667.625x500 with 1 Axes>"
      ]
     },
     "metadata": {},
     "output_type": "display_data"
    }
   ],
   "source": [
    " subset = plotdata[[ # three last days of obs.\n",
    " ('temperatures', 'TA01_GT10X_GM10X'),\n",
    " # ('temperatures', 'DC_GT401_GM401'),\n",
    "#    ('temperatures', 'DC_GT401_GM401_roll'),\n",
    "  # ('temperatures', 'DC_GT401_GM401_fft'),\n",
    "  #('temperatures', 'DC_GT301_damped'),\n",
    " #     ('sun', 'gsi_raw'),\n",
    "  #   ('sun', 'gsi'),\n",
    "  #   ('sun', 'vol'),\n",
    " #    ('wind', 'Wx'),\n",
    " #      ('wind', 'Wy'),\n",
    " #('flow', 'TA01_GP101'),\n",
    " #       ('time', 'doy')\n",
    "#]].iloc[-7500:-6500].copy()\n",
    "]].copy()\n",
    "\n",
    "subset = subset.droplevel(level=0, axis=1)\n",
    "\n",
    "subset = subset.rename(columns={\n",
    "    'TA01_GT10X_GM10X':'GH Temperature',\n",
    "    'DC_GT401_GM401':'DC',\n",
    "    'DC_GT401_GM401_bound':'DC',\n",
    "    'DC_GT401_GM401_broll':'DC',\n",
    "    'TA01_GP101_default':'DC Airflow'\n",
    "    \n",
    "})\n",
    "\n",
    "ax = sns.relplot(\n",
    "    data=subset,\n",
    "    kind='line',\n",
    "    palette='viridis',\n",
    "    alpha= 1.0,\n",
    "    linewidth=1.5,\n",
    "    dashes=False,\n",
    "    markers=False,\n",
    "    legend='full',\n",
    ")\n",
    "\n",
    "ax.set_xticklabels(step=2)\n",
    "\n",
    "#plt.ylim(-5, 5)\n",
    "plt.xlim(subset.index[0], subset.index[-1])\n",
    "plt.yticks(rotation=45)\n",
    "plt.xlabel('Timestamp')\n",
    "plt.ylabel('$\\sigma$', loc='center', rotation=0, fontsize=12, labelpad=30)\n",
    "plt.title('Temperatures and Airflow')\n",
    "\n",
    "#plt.savefig(plot_path + 'EXAMP_0.png', bbox_inches='tight', dpi=500)\n",
    "plt.show()"
   ]
  },
  {
   "cell_type": "code",
   "execution_count": null,
   "id": "ad95427e",
   "metadata": {},
   "outputs": [],
   "source": []
  }
 ],
 "metadata": {
  "kernelspec": {
   "display_name": "Python 3 (ipykernel)",
   "language": "python",
   "name": "python3"
  },
  "language_info": {
   "codemirror_mode": {
    "name": "ipython",
    "version": 3
   },
   "file_extension": ".py",
   "mimetype": "text/x-python",
   "name": "python",
   "nbconvert_exporter": "python",
   "pygments_lexer": "ipython3",
   "version": "3.9.13"
  }
 },
 "nbformat": 4,
 "nbformat_minor": 5
}
